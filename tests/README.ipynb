{
 "cells": [
  {
   "cell_type": "code",
   "execution_count": 1,
   "id": "47e5bb3c-914c-458d-8401-9172c79b8d2f",
   "metadata": {},
   "outputs": [],
   "source": [
    "# NOTE: Work-in-progress revision to testing paradigm.\n",
    "# *** Remember to \"Keep It Simple, Sam\" (i.e., KISS principle). \n",
    "# That is, test for simple things that can be verified with grep -c or similar commands.\n",
    "#\n",
    "# For simplicity, the output can still be done as before. However, we will need to\n",
    "# add a mechanism so that the test target doesn't change to match the alias revision.\n",
    "# For example, if alias fubar were changed to output \"foobar\", the test output would\n",
    "# change once the Jupyter notebook output gets re-generated.\n",
    "#\n",
    "# We will extend bats_pp to allow for special case tests of the following format:\n",
    "#    condition; echo $?\n",
    "# The test will be considered passing if and only if the output is 0.\n",
    "# For example,\n",
    "#    num_lines=$(my-alias | grep -c \"pattern\"}\n",
    "#    [ $num_lines -gt 2 ]; echo $?\n",
    "#\n",
    "# Therefore, one cell can show the command output as done before, and the next cell\n",
    "# show the test. For example,\n",
    "#    cell 1:\n",
    "#       code: \n",
    "#           echo \"a b c D E F\" > _abcDEF_.txt_\n",
    "#           cat _abcDEF_.txt_\n",
    "#       output:\n",
    "#           a b c D E F\n",
    "#    cell 2:\n",
    "#       code:\n",
    "#           num_lower=$(tr \" \" \"\\n\" _abcDEF_.txt_ | grep -c \"[a-z]\")\n",
    "#           [ $num_lower -eq 3 ]; echo $?\n",
    "#       output:\n",
    "#           0\n",
    "#"
   ]
  },
  {
   "cell_type": "code",
   "execution_count": 2,
   "id": "e96bc664-0f9d-4b10-a760-244d9a711d09",
   "metadata": {},
   "outputs": [
    {
     "name": "stdout",
     "output_type": "stream",
     "text": [
      "/tmp/test-tips/657398\n"
     ]
    }
   ],
   "source": [
    "# Global setup\n",
    "#\n",
    "# NOTE: For reproducibility, the directory name needs to be fixed\n",
    "# In place of $$, use a pseudo-random number (e,g., 1210)\n",
    "# *** All output from one run to the next needs to be the same ***\n",
    "\n",
    "# Set a temp directory for this test (should be unique)\n",
    "TMP=${TMP:-/tmp}\n",
    "if [ \"$DEBUG_LEVEL\" -lt 4 ]; then TMP=/tmp/test-tips; fi\n",
    "#\n",
    "# note: if in doubt for a good random number, try the following:\n",
    "#    python -c \"import random; print(random.randint(100000, 999999))\"\n",
    "temp_dir=$TMP/657398\n",
    "\n",
    "# Create the directory and changed into it\n",
    "# Note: uses command to avoid escapes for cd/pwd aliases\n",
    "mkdir -p \"$temp_dir\"\n",
    "command cd \"$temp_dir\"\n",
    "command pwd"
   ]
  },
  {
   "cell_type": "code",
   "execution_count": 3,
   "id": "102d3e2f-04f8-4300-9b90-8104f5eb9d1c",
   "metadata": {},
   "outputs": [],
   "source": [
    "# TEMP: \n",
    "# To avoid issues with 'rm -r' the file clobber operator is used (i.e., \">|\")\n",
    "# That itself is dangerous, so the filenames start and end with _ to minimize conflict.\n",
    "# For example, \"file.txt\" => \"_file.txt_\")."
   ]
  },
  {
   "cell_type": "code",
   "execution_count": 4,
   "id": "6edd07c8-b27b-4096-bbdb-c7adc96b2aac",
   "metadata": {},
   "outputs": [
    {
     "name": "stdout",
     "output_type": "stream",
     "text": [
      "a b c D E F\n"
     ]
    }
   ],
   "source": [
    "# Create test file with letters\n",
    "echo \"a b c D E F\" >| _abcDEF_.txt_\n",
    "cat _abcDEF_.txt_"
   ]
  },
  {
   "cell_type": "code",
   "execution_count": 5,
   "id": "27990ce0-cf70-4218-8231-3b777078334d",
   "metadata": {},
   "outputs": [
    {
     "name": "stdout",
     "output_type": "stream",
     "text": [
      "0\n"
     ]
    }
   ],
   "source": [
    "# Make sure 3 lowercase chars\n",
    "num_lower=$(tr \" \" \"\\n\" < _abcDEF_.txt_ | grep -c \"[a-z]\")\n",
    "[ $num_lower -eq 3 ]; echo $?"
   ]
  }
 ],
 "metadata": {
  "kernelspec": {
   "display_name": "Bash",
   "language": "bash",
   "name": "bash"
  },
  "language_info": {
   "codemirror_mode": "shell",
   "file_extension": ".sh",
   "mimetype": "text/x-sh",
   "name": "bash"
  }
 },
 "nbformat": 4,
 "nbformat_minor": 5
}
