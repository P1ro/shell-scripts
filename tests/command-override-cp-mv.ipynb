{
 "cells": [
  {
   "cell_type": "code",
   "execution_count": 1,
   "id": "c33c5c15",
   "metadata": {},
   "outputs": [
    {
     "name": "stdout",
     "output_type": "stream",
     "text": [
      "[PEXP\\[\\]ECT_PROMPT>\n"
     ]
    }
   ],
   "source": [
    "## TEST:  Make sure simple prompt used (e.g., no escapes that might contaminate output)\n",
    "## PS1=\"$ \"\n",
    "## TODO: PS1=\"> \"\n",
    "shopt -s expand_aliases\n",
    "## NOTE: The Jupyter bash kernel requires that PS1 not be modified as they customize it. \n",
    "echo $PS1"
   ]
  },
  {
   "cell_type": "code",
   "execution_count": 2,
   "id": "be8ef5b9",
   "metadata": {},
   "outputs": [
    {
     "name": "stdout",
     "output_type": "stream",
     "text": [
      "0\n",
      "0\n"
     ]
    }
   ],
   "source": [
    "# Delete all aliases and function\n",
    "# TODO: Instead start from pristine environment\n",
    "unalias -a\n",
    "alias | wc -l\n",
    "for f in $(typeset -f | egrep '^\\w+'); do unset -f $f; done\n",
    "typeset -f | egrep '^\\w+' | wc -l"
   ]
  },
  {
   "cell_type": "code",
   "execution_count": 3,
   "id": "d953dc6d",
   "metadata": {},
   "outputs": [
    {
     "name": "stdout",
     "output_type": "stream",
     "text": [
      "0\n"
     ]
    }
   ],
   "source": [
    "# Setting a temp directory for tests\n",
    "TMP=./tmp/test-cp-mv\n",
    "\n",
    "## NOTE: Source it directly from the ./tests directory.\n",
    "BIN_DIR=$PWD/..\n",
    "## You will need to run jupyter from that directory.\n",
    "alias | wc -l"
   ]
  },
  {
   "cell_type": "code",
   "execution_count": 4,
   "id": "8a0854c8",
   "metadata": {},
   "outputs": [],
   "source": [
    "alias testuser=\"sed -r \"s/\"$USER\"+/user/g\"\""
   ]
  },
  {
   "cell_type": "code",
   "execution_count": 5,
   "id": "8093ffd1",
   "metadata": {},
   "outputs": [
    {
     "name": "stdout",
     "output_type": "stream",
     "text": [
      "/home/user/tom-project/shell-scripts/tests/tmp/test-cp-mv/test-1210\n"
     ]
    }
   ],
   "source": [
    "## NOTE: For reproducability, the directory name needs to be fixed\n",
    "## In place of $$, use a psuedo random number (e,g., 1210)\n",
    "## *** All output from one run to the next needs to be the same ***\n",
    "\n",
    "## temp_dir=$TMP/test-$$\n",
    "temp_dir=$TMP/test-1210\n",
    "\n",
    "mkdir -p \"$temp_dir\"\n",
    "# TODO: /bin/rm -rvf \"$temp_dir\"\n",
    "cd \"$temp_dir\"\n",
    "pwd | testuser\n",
    "\n",
    "#ALIAS FOR PRINTING SEPERATION LINES (FOR JUPYTER)\n",
    "alias linebr=\"printf '%*s\\n' \"${COLUMNS:-$(tput cols)}\" '' | tr ' ' -\""
   ]
  },
  {
   "cell_type": "code",
   "execution_count": 6,
   "id": "723a939c",
   "metadata": {},
   "outputs": [
    {
     "name": "stdout",
     "output_type": "stream",
     "text": [
      "2\n"
     ]
    }
   ],
   "source": [
    "# Count aliases proper\n",
    "alias | wc -l"
   ]
  },
  {
   "cell_type": "code",
   "execution_count": 7,
   "id": "f1d01696",
   "metadata": {},
   "outputs": [
    {
     "name": "stdout",
     "output_type": "stream",
     "text": [
      "0\n"
     ]
    }
   ],
   "source": [
    "# Count functions\n",
    "typeset -f | egrep '^\\w+' | wc -l"
   ]
  },
  {
   "cell_type": "code",
   "execution_count": 8,
   "id": "a3b31a17",
   "metadata": {},
   "outputs": [],
   "source": [
    "# Command overrides for moving and copying files\n",
    "# NOTE: -p option of cp (i.e., --preserve  \"preserve file attributes if possible\")\n",
    "# leads to problems when copying files owner by others (although group writable)\n",
    "#    cp: preserving times for /usr/local/httpd/internal/cgi-bin/phone-list: Operation not permitted\n",
    "# - other options for cp, mv, and rm: -i interactive; and -v verbose.\n",
    "other_file_args=\"-v\""
   ]
  },
  {
   "cell_type": "code",
   "execution_count": 9,
   "id": "9ffb7e8b",
   "metadata": {},
   "outputs": [],
   "source": [
    "if [ \"$OSTYPE\" = \"solaris\" ]; then other_file_args=\"\"; fi"
   ]
  },
  {
   "cell_type": "code",
   "execution_count": 10,
   "id": "7748000b",
   "metadata": {},
   "outputs": [],
   "source": [
    "## OLD: alias cls='clear'\n",
    "## NOTE: Unfortunately clear clobbers the terminal scrollback buffer.\n",
    "## via https://askubuntu.com/questions/792453/how-to-stop-clear-from-clearing-scrollback-buffer:\n",
    "##    type CTRL+L instead of clear\n",
    "## TAKE1: alias cls=\"printf '\\33[H\\33[2J'\"\n",
    "##   where \\33 is octal code for Escape (i.e., 0x1B)\n",
    "## TAKE2\n",
    "alias clear=\"echo 'use cls instead (or /bin/clear)'\"\n",
    "alias cls=\"command clear -x\""
   ]
  },
  {
   "cell_type": "code",
   "execution_count": 11,
   "id": "e0d732b4",
   "metadata": {},
   "outputs": [
    {
     "name": "stdout",
     "output_type": "stream",
     "text": [
      "use cls instead (or /bin/clear)\n"
     ]
    }
   ],
   "source": [
    "#Shows that cls must be used instead of clear\n",
    "clear"
   ]
  },
  {
   "cell_type": "code",
   "execution_count": 12,
   "id": "417e9228",
   "metadata": {},
   "outputs": [
    {
     "name": "stdout",
     "output_type": "stream",
     "text": [
      "alias clear='echo '\\''use cls instead (or /bin/clear)'\\'''\n",
      "alias cls='command clear -x'\n"
     ]
    }
   ],
   "source": [
    "#Shows that cls is the new method of clearing screen\n",
    "alias | grep cls"
   ]
  },
  {
   "cell_type": "code",
   "execution_count": 13,
   "id": "8f774695",
   "metadata": {},
   "outputs": [],
   "source": [
    "MV=\"/bin/mv -i $other_file_args\""
   ]
  },
  {
   "cell_type": "code",
   "execution_count": 14,
   "id": "664cc5e3",
   "metadata": {},
   "outputs": [],
   "source": [
    "#All move aliases\n",
    "alias mv='$MV'\n",
    "alias move='mv'\n",
    "alias move-force='move -f'"
   ]
  },
  {
   "cell_type": "code",
   "execution_count": 15,
   "id": "5b3be234",
   "metadata": {},
   "outputs": [],
   "source": [
    "# TODO: make sure symbolic links are copied as-is (ie, not dereferenced)\n",
    "CP=\"/bin/cp -ip $other_file_args\"\n",
    "##reference-variable \"$CP\""
   ]
  },
  {
   "cell_type": "code",
   "execution_count": 16,
   "id": "a5dc0b53",
   "metadata": {},
   "outputs": [],
   "source": [
    "#All Copy Aliases\n",
    "alias copy='$CP'\n",
    "alias copy-force='/bin/cp -fp $other_file_args'\n",
    "alias cp='/bin/cp -i $other_file_args'"
   ]
  },
  {
   "cell_type": "code",
   "execution_count": 17,
   "id": "bb07378c",
   "metadata": {},
   "outputs": [],
   "source": [
    "#All Remove Aliases\n",
    "alias rm='/bin/rm -i $other_file_args'\n",
    "alias delete='/bin/rm -i $other_file_args'\n",
    "alias del=\"delete\"\n",
    "alias delete-force='/bin/rm -f $other_file_args'\n",
    "alias remove-force='delete-force'"
   ]
  },
  {
   "cell_type": "code",
   "execution_count": 18,
   "id": "dcd97801",
   "metadata": {},
   "outputs": [],
   "source": [
    "#All remove-dir aliases\n",
    "alias remove-dir='/bin/rm -rv'\n",
    "alias delete-dir='remove-dir'\n",
    "alias remove-dir-force='/bin/rm -rfv'\n",
    "alias delete-dir-force='remove-dir-force'"
   ]
  },
  {
   "cell_type": "code",
   "execution_count": 19,
   "id": "b920bebb",
   "metadata": {},
   "outputs": [],
   "source": [
    "\n",
    "alias copy-readonly='copy-readonly.sh'\n",
    "function copy-readonly-spec () {\n",
    "    local spec=\"$1\"\n",
    "    local dir=\"$2\"\n",
    "    if [[ (\"$3\" != \"\") || ($dir = \"\") || ($spec == \"\") ]]; then\n",
    "        echo \"Usage: copy-readonly-spec pattern dir\";\n",
    "        return\n",
    "    fi\n",
    "\n",
    "    for f in $($LS $spec); do copy-readonly \"$f\" \"$dir\"; done\n",
    "}\n",
    "\n",
    "function copy-readonly-to-dir () {\n",
    "    local dir=\"$1\"\n",
    "    shift\n",
    "    for f in \"$@\"; do copy-readonly \"$f\" \"$dir\"; done\n",
    "}"
   ]
  },
  {
   "cell_type": "code",
   "execution_count": 20,
   "id": "140f0b50",
   "metadata": {},
   "outputs": [],
   "source": [
    "#Exporting NICE and TIME_CMD\n",
    "export NICE=\"nice -19\"\n",
    "export TIME_CMD=\"/usr/bin/time\""
   ]
  },
  {
   "cell_type": "code",
   "execution_count": 21,
   "id": "802f157a",
   "metadata": {},
   "outputs": [],
   "source": [
    "#Fixing Dir Permissions\n",
    "alias fix-dir-permissions=\"find . -type d -exec chmod go+xs {} \\;\""
   ]
  },
  {
   "cell_type": "code",
   "execution_count": 22,
   "id": "4967bfb7",
   "metadata": {},
   "outputs": [
    {
     "name": "stdout",
     "output_type": "stream",
     "text": [
      "--------------------------------------------------------------------------------\n"
     ]
    }
   ],
   "source": [
    "linebr"
   ]
  },
  {
   "cell_type": "code",
   "execution_count": 23,
   "id": "b47537ba",
   "metadata": {},
   "outputs": [],
   "source": [
    "alias nodate='awk '!($6=$7=$8=\"\")''"
   ]
  },
  {
   "cell_type": "code",
   "execution_count": 24,
   "id": "037f60f4",
   "metadata": {},
   "outputs": [
    {
     "name": "stdout",
     "output_type": "stream",
     "text": [
      "/home/user/tom-project/shell-scripts/tests/tmp/test-cp-mv/test-1210\n"
     ]
    }
   ],
   "source": [
    "## MOVE INTO $TMP FOR TESTING\n",
    "pwd | testuser"
   ]
  },
  {
   "cell_type": "code",
   "execution_count": 25,
   "id": "92e05aed",
   "metadata": {},
   "outputs": [
    {
     "name": "stdout",
     "output_type": "stream",
     "text": [
      "removed './testdir1/.bashrc'\n",
      "removed directory './testdir1'\n",
      "--------------------------------------------------------------------------------\n",
      "renamed 'abc' -> './mvtest_dir1/abc'\n",
      "renamed 'def' -> './mvtest_dir1/def'\n",
      "renamed 'ghi' -> './mvtest_dir1/ghi'\n",
      "--------------------------------------------------------------------------------\n",
      "total 4      \n",
      "drwxrwsr-x 2 user user 4096    mvtest_dir1\n",
      "--------------------------------------------------------------------------------\n",
      "total 0      \n",
      "-rw-rw-r-- 1 user user 0    abc\n",
      "-rw-rw-r-- 1 user user 0    def\n",
      "-rw-rw-r-- 1 user user 0    ghi\n",
      "--------------------------------------------------------------------------------\n"
     ]
    }
   ],
   "source": [
    "# TEST 1 - MOVE ALIASES\n",
    "\n",
    "## CLEARS TEST FOLDER\n",
    "rm -rf ./*\n",
    "linebr\n",
    "\n",
    "## CREATES TEST SUBJECTS\n",
    "touch abc def ghi\n",
    "mkdir mvtest_dir1\n",
    "\n",
    "## WORK OF ALIASES\n",
    "mv abc ./mvtest_dir1\n",
    "move def ./mvtest_dir1\n",
    "move-force ghi ./mvtest_dir1\n",
    "linebr\n",
    "\n",
    "## VIEWING THE CHANGES MADE\n",
    "ls -l | awk '!($6=$7=$8=\"\")' | testuser\n",
    "linebr\n",
    "ls -l ./mvtest_dir1 | awk '!($6=$7=$8=\"\")' | testuser\n",
    "linebr"
   ]
  },
  {
   "cell_type": "code",
   "execution_count": 26,
   "id": "29f6f198",
   "metadata": {},
   "outputs": [
    {
     "name": "stdout",
     "output_type": "stream",
     "text": [
      "removed './mvtest_dir1/abc'\n",
      "removed './mvtest_dir1/ghi'\n",
      "removed './mvtest_dir1/def'\n",
      "removed directory './mvtest_dir1'\n",
      "--------------------------------------------------------------------------------\n",
      "'abc' -> './cptest_dir1/abc'\n",
      "'def' -> './cptest_dir1/def'\n",
      "'ghi' -> './cptest_dir1/ghi'\n",
      "--------------------------------------------------------------------------------\n",
      "total 4      \n",
      "-rw-rw-r-- 1 user user 0    abc\n",
      "drwxrwsr-x 2 user user 4096    cptest_dir1\n",
      "-rw-rw-r-- 1 user user 0    def\n",
      "-rw-rw-r-- 1 user user 0    ghi\n",
      "--------------------------------------------------------------------------------\n",
      "total 0      \n",
      "-rw-rw-r-- 1 user user 0    abc\n",
      "-rw-rw-r-- 1 user user 0    def\n",
      "-rw-rw-r-- 1 user user 0    ghi\n",
      "--------------------------------------------------------------------------------\n"
     ]
    }
   ],
   "source": [
    "# TEST 2 - COPY ALIASES\n",
    "\n",
    "## CLEARS TEST FOLDER\n",
    "rm -rf ./*\n",
    "linebr\n",
    "\n",
    "## CREATES TEST SUBJECTS\n",
    "touch abc def ghi\n",
    "mkdir cptest_dir1\n",
    "\n",
    "## WORK OF ALIASES\n",
    "cp abc ./cptest_dir1\n",
    "copy def ./cptest_dir1\n",
    "copy-force ghi ./cptest_dir1\n",
    "linebr\n",
    "\n",
    "## VIEWING THE CHANGES MADE\n",
    "ls -l | awk '!($6=$7=$8=\"\")' | testuser\n",
    "linebr\n",
    "ls -l ./cptest_dir1 | awk '!($6=$7=$8=\"\")' | testuser\n",
    "linebr"
   ]
  },
  {
   "cell_type": "code",
   "execution_count": 27,
   "id": "a3149319",
   "metadata": {},
   "outputs": [],
   "source": [
    "# #=================(TEST ERROR: \"/bin/rm: remove regular empty file 'f1'?\")=========================#\n",
    "# # TEST 3 - REMOVE/DELETE ALIASES\n",
    "\n",
    "# ## CLEARS TEST FOLDER\n",
    "# rm -rf ./*\n",
    "# linebr\n",
    "\n",
    "# ## CREATES TEST SUBJECTS\n",
    "# touch f1 f2 f3 f4 f5\n",
    "\n",
    "# ## WORK OF ALIASES\n",
    "# rm f1\n",
    "# delete f2\n",
    "# remove-force f3\n",
    "\n",
    "# linebr\n",
    "\n",
    "# ## VIEWING THE CHANGES MADE\n",
    "# ls -l\n",
    "# linebr"
   ]
  },
  {
   "cell_type": "code",
   "execution_count": 28,
   "id": "9ce01462",
   "metadata": {},
   "outputs": [
    {
     "name": "stdout",
     "output_type": "stream",
     "text": [
      "removed './abc'\n",
      "removed './cptest_dir1/abc'\n",
      "removed './cptest_dir1/ghi'\n",
      "removed './cptest_dir1/def'\n",
      "removed directory './cptest_dir1'\n",
      "removed './def'\n",
      "removed './ghi'\n",
      "--------------------------------------------------------------------------------\n",
      "total 16      \n",
      "-rw-rw-r-- 1 user user 0    abc\n",
      "-rw-rw-r-- 1 user user 0    def\n",
      "-rw-rw-r-- 1 user user 0    ghi\n",
      "drwxrwsr-x 2 user user 4096    TDIR1\n",
      "drwxrwsr-x 2 user user 4096    TDIR2\n",
      "drwxrwsr-x 2 user user 4096    TDIR3\n",
      "drwxrwsr-x 2 user user 4096    TDIR4\n",
      "--------------------------------------------------------------------------------\n",
      "removed directory 'TDIR1'\n",
      "removed directory 'TDIR2'\n",
      "removed directory 'TDIR3'\n",
      "removed directory 'TDIR4'\n",
      "--------------------------------------------------------------------------------\n",
      "total 0      \n",
      "-rw-rw-r-- 1 user user 0    abc\n",
      "-rw-rw-r-- 1 user user 0    def\n",
      "-rw-rw-r-- 1 user user 0    ghi\n",
      "--------------------------------------------------------------------------------\n"
     ]
    }
   ],
   "source": [
    "# TEST 4 - REMOVE DIRECTORY ALIASES\n",
    "\n",
    "## CLEARS TEST FOLDER\n",
    "rm -rf ./*\n",
    "linebr\n",
    "\n",
    "## CREATES TEST SUBJECTS\n",
    "touch abc def ghi\n",
    "mkdir TDIR1 TDIR2 TDIR3 TDIR4\n",
    "ls -l | awk '!($6=$7=$8=\"\")' | testuser\n",
    "linebr\n",
    "## WORK OF ALIASES\n",
    "remove-dir \"TDIR1\"\n",
    "delete-dir \"TDIR2\"\n",
    "remove-dir-force TDIR3\n",
    "delete-dir-force TDIR4\n",
    "linebr\n",
    "\n",
    "## VIEWING THE CHANGES MADE\n",
    "ls -l | awk '!($6=$7=$8=\"\")' | testuser\n",
    "linebr"
   ]
  },
  {
   "cell_type": "code",
   "execution_count": 29,
   "id": "98c10a89",
   "metadata": {},
   "outputs": [],
   "source": [
    "## TEST 5 - COPY READONLY\n",
    "alias copy-readonly='copy-readonly.sh'\n",
    "function copy-readonly-spec () {\n",
    "    local spec=\"$1\"\n",
    "    local dir=\"$2\"\n",
    "    if [[ (\"$3\" != \"\") || ($dir = \"\") || ($spec == \"\") ]]; then\n",
    "        echo \"Usage: copy-readonly-spec pattern dir\";\n",
    "        return\n",
    "    fi\n",
    "    for f in $($LS $spec); do copy-readonly \"$f\" \"$dir\"; done\n",
    "}\n",
    "\n",
    "function copy-readonly-to-dir () {\n",
    "    local dir=\"$1\"\n",
    "    shift\n",
    "    for f in \"$@\"; do copy-readonly \"$f\" \"$dir\"; done\n",
    "}"
   ]
  },
  {
   "cell_type": "code",
   "execution_count": 30,
   "id": "ff3ef38f",
   "metadata": {},
   "outputs": [
    {
     "name": "stdout",
     "output_type": "stream",
     "text": [
      "\n",
      "Usage: /home/user/bin/copy-readonly.sh source-file [--force] [--verbose] [file | directory]\n",
      "\n",
      "Examples (under Bash):\n",
      "\n",
      "  /home/user/bin/copy-readonly.sh ~/.bashrc ~/dot-file-archive\n",
      "\n",
      "  for f in copyright.py search_page.mako index.mako visual_diff_server.py; do copy-readonly $f ~/visual-diff; done\n",
      "\n",
      "--------------------------------------------------------------------------------\n",
      "removed './abc'\n",
      "removed './def'\n",
      "removed './ghi'\n",
      "--------------------------------------------------------------------------------\n",
      "-r--r--r-- 1   3935    ./testdir1//.bashrc\n",
      "--------------------------------------------------------------------------------\n",
      "# ~/.bashrc: executed by bash(1) for non-login shells.\n",
      "# see /usr/share/doc/bash/examples/startup-files (in the package bash-doc)\n",
      "# for examples\n",
      "\n",
      "# If not running interactively, don't do anything\n",
      "case $- in\n",
      "    *i*) ;;\n",
      "      *) return;;\n",
      "esac\n",
      "\n"
     ]
    }
   ],
   "source": [
    "# RUNNING FOR DETAILS\n",
    "copy-readonly | testuser\n",
    "linebr\n",
    "# COPYING .bashrc TO TEST DIRECTORY\n",
    "rm -rf ./*\n",
    "mkdir testdir1\n",
    "linebr\n",
    "copy-readonly ~/.bashrc ./testdir1/ | awk '!($3=$4=$6=$7=$8=\"\")'\n",
    "linebr\n",
    "# VIEWING THE COPIED FILE (IN DIR AND CAT)\n",
    "cat ./testdir1/.bashrc | head "
   ]
  },
  {
   "cell_type": "code",
   "execution_count": 31,
   "id": "0937b793",
   "metadata": {},
   "outputs": [],
   "source": [
    "export NICE=\"nice -19\"\n",
    "export TIME_CMD=\"/usr/bin/time\"\n",
    "\n",
    "alias fix-dir-permissions='find . -type d -exec chmod go+xs {} \\;'"
   ]
  },
  {
   "cell_type": "code",
   "execution_count": 32,
   "id": "a18198b4",
   "metadata": {},
   "outputs": [
    {
     "name": "stdout",
     "output_type": "stream",
     "text": [
      "total 4      \n",
      "drwxrwsr-x 2 user user 4096    testdir1\n"
     ]
    }
   ],
   "source": [
    "# # BEFORE fix-dir-permissions \n",
    "# $ ls -l  \n",
    "# | total 4\n",
    "# | drwxrwxr-x 2 xaea12 xaea12 4096 Jul  4 21:41 testdir1\n",
    "fix-dir-permissions\n",
    "# # AFTER fix-dir-permissions\n",
    "ls -l | awk '!($6=$7=$8=\"\")' | testuser"
   ]
  },
  {
   "cell_type": "code",
   "execution_count": null,
   "id": "36910375",
   "metadata": {},
   "outputs": [],
   "source": []
  }
 ],
 "metadata": {
  "kernelspec": {
   "display_name": "Bash",
   "language": "bash",
   "name": "bash"
  },
  "language_info": {
   "codemirror_mode": "shell",
   "file_extension": ".sh",
   "mimetype": "text/x-sh",
   "name": "bash"
  }
 },
 "nbformat": 4,
 "nbformat_minor": 5
}
