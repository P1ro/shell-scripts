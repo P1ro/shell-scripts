{
 "cells": [
  {
   "cell_type": "code",
   "execution_count": 1,
   "id": "6dcea75d",
   "metadata": {},
   "outputs": [
    {
     "name": "stdout",
     "output_type": "stream",
     "text": [
      "\u001b[?2004h\u001b[?2004l\u001b[?2004l\u001b[?2004l\u001b[?2004l\u001b[?2004l\r"
     ]
    }
   ],
   "source": [
    "## Bracketed Paste is disabled to prevent characters after output\n",
    "## Example: \n",
    "# $ echo 'Hi'\n",
    "# | Hi?2004l\n",
    "\n",
    "bind 'set enable-bracketed-paste off'"
   ]
  },
  {
   "cell_type": "code",
   "execution_count": 2,
   "id": "65d43538",
   "metadata": {},
   "outputs": [
    {
     "name": "stdout",
     "output_type": "stream",
     "text": [
      "[PEXP\\[\\]ECT_PROMPT>\n"
     ]
    }
   ],
   "source": [
    "## TEST:  Make sure simple prompt used (e.g., no escapes that might contaminate output)\n",
    "## PS1=\"$ \"\n",
    "## TODO: PS1=\"> \"\n",
    "\n",
    "## NOTE: The Jupyter bash kernel requires that PS1 not be modified as they customize it. \n",
    "echo $PS1"
   ]
  },
  {
   "cell_type": "code",
   "execution_count": 3,
   "id": "d623c9a9",
   "metadata": {},
   "outputs": [
    {
     "name": "stdout",
     "output_type": "stream",
     "text": [
      "0\n",
      "0\n"
     ]
    }
   ],
   "source": [
    "# Delete all aliases and function\n",
    "# TODO: Instead start from pristine environment\n",
    "GREP='grep'\n",
    "unalias -a\n",
    "alias | wc -l\n",
    "for f in $(typeset -f | egrep '^\\w+'); do unset -f $f; done\n",
    "typeset -f | egrep '^\\w+' | wc -l"
   ]
  },
  {
   "cell_type": "code",
   "execution_count": 4,
   "id": "0ff8f157",
   "metadata": {},
   "outputs": [
    {
     "name": "stdout",
     "output_type": "stream",
     "text": [
      "0\n"
     ]
    }
   ],
   "source": [
    "# Setting a temp directory for tests\n",
    "TMP=/tmp/test-extensionless\n",
    "\n",
    "## NOTE: Source it directly from the ./tests directory.\n",
    "BIN_DIR=$PWD/..\n",
    "\n",
    "alias | wc -l"
   ]
  },
  {
   "cell_type": "code",
   "execution_count": 5,
   "id": "ab954c7f",
   "metadata": {},
   "outputs": [
    {
     "name": "stdout",
     "output_type": "stream",
     "text": [
      "/tmp/test-extensionless/test-3573\n"
     ]
    }
   ],
   "source": [
    "## NOTE: For reproducability, the directory name needs to be fixed\n",
    "## In place of $$, use a psuedo random number (e,g., 3573)\n",
    "## *** All output from one run to the next needs to be the same ***\n",
    "\n",
    "## temp_dir=$TMP/test-$$\n",
    "temp_dir=$TMP/test-3573\n",
    "\n",
    "mkdir -p \"$temp_dir\"\n",
    "# TODO: /bin/rm -rvf \"$temp_dir\"\n",
    "cd \"$temp_dir\"\n",
    "pwd\n",
    "\n",
    "#ALIAS FOR PRINTING SEPERATION LINES (FOR JUPYTER)\n",
    "alias linebr=\"printf '%*s\\n' \"${COLUMNS:-$(tput cols)}\" '' | tr ' ' -\""
   ]
  },
  {
   "cell_type": "code",
   "execution_count": 6,
   "id": "ec6df159",
   "metadata": {},
   "outputs": [
    {
     "name": "stdout",
     "output_type": "stream",
     "text": [
      "1\n",
      "0\n"
     ]
    }
   ],
   "source": [
    "# Count aliases proper\n",
    "alias | wc -l\n",
    "# Count functions\n",
    "typeset -f | egrep '^\\w+' | wc -l"
   ]
  },
  {
   "cell_type": "code",
   "execution_count": 7,
   "id": "85a87403",
   "metadata": {},
   "outputs": [],
   "source": [
    "## TESTS 1 - EXTENSIONLESS SHORTCUTS PT. 1\n",
    "#perl- gives problems rn (tbf) \n",
    "alias perl-=\"\"\n",
    "# TODO: generate aliases for .sh and .perl scripts automatically\n",
    "# ls *.sh *.perl | perl -pe \"s/(\\w+)\\.\\w+/alias \\1='$&'/g; s/(\\w+.perl)/perl- \\1/g;\" >| _all_alias.list\n",
    "alias convert-termstrings='perl- convert_termstrings.perl'\n",
    "alias do-rcsdiff='do_rcsdiff.sh'\n",
    "alias dobackup='dobackup.sh'\n",
    "alias kill-em='kill_em.sh'\n",
    "alias kill-it='kill-em --pattern'"
   ]
  },
  {
   "cell_type": "code",
   "execution_count": 8,
   "id": "b2919e2f",
   "metadata": {},
   "outputs": [],
   "source": [
    "# # 1.1) NO EXAMPLES RN FOR kill-em and kill-it\n",
    "# kill-em\n",
    "# linebr\n",
    "# kill-it"
   ]
  },
  {
   "cell_type": "code",
   "execution_count": 9,
   "id": "94ed70f0",
   "metadata": {},
   "outputs": [],
   "source": [
    "## 1.2) ERROR GENERATED - SCRIPT MISSING\n",
    "# $ convert-termstrings\n",
    "# | Can't open perl script \"convert_termstrings.perl\": No such file or directory"
   ]
  },
  {
   "cell_type": "code",
   "execution_count": 10,
   "id": "98b974b4",
   "metadata": {},
   "outputs": [
    {
     "name": "stdout",
     "output_type": "stream",
     "text": [
      "Backing up 'test.txt' to './backup/test.txt'\n",
      "--------------------------------------------------------------------------------\n",
      "backup\t   file2.log\tlog-files     output2.xml  output-files\n",
      "file1.log  file3.debug\toutput1.html  output3.csv  test.txt\n"
     ]
    }
   ],
   "source": [
    "printf \"TOP\\nTHIS IS A TEST\\nBOTTOM\" > test.txt\n",
    "dobackup test.txt\n",
    "linebr\n",
    "ls"
   ]
  },
  {
   "cell_type": "code",
   "execution_count": 11,
   "id": "f08bf08c",
   "metadata": {},
   "outputs": [
    {
     "name": "stdout",
     "output_type": "stream",
     "text": [
      "foreach: No match.\n"
     ]
    },
    {
     "ename": "",
     "evalue": "1",
     "output_type": "error",
     "traceback": []
    }
   ],
   "source": [
    "## 1.3) do_rcsdiff\n",
    "do-rcsdiff Makefile"
   ]
  },
  {
   "cell_type": "code",
   "execution_count": 12,
   "id": "e1939c2a",
   "metadata": {},
   "outputs": [],
   "source": [
    "## BAD: alias ps-mine-='ps-mine \"$@\" | filter-dirnames'\n",
    "function ps-mine- { ps-mine \"$@\" | filter-dirnames; }\n",
    "alias ps_mine='ps-mine'\n",
    "## DUP: alias ps-mine-='ps-mine \"$@\" | filter-dirnames'\n",
    "alias ps-mine-all='ps-mine --all'"
   ]
  },
  {
   "cell_type": "code",
   "execution_count": 13,
   "id": "1584698d",
   "metadata": {},
   "outputs": [],
   "source": [
    "## ERROR - ps-mine COMMAND NOT FOUND\n",
    "# ps_mine"
   ]
  },
  {
   "cell_type": "code",
   "execution_count": 14,
   "id": "d312db03",
   "metadata": {},
   "outputs": [],
   "source": [
    "alias rename-files='perl- rename_files.perl'\n",
    "alias rename_files='rename-files'\n",
    "alias testwn='perl- testwn.perl'\n",
    "alias perlgrep='perl- perlgrep.perl'\n",
    "alias foreach='perl- foreach.perl'\n",
    "# rename-spaces: replace spaces in filenames of current dir with underscores\n",
    "alias rename-spaces='rename-files -q global \" \" \"_\"'\n",
    "alias rename-quotes='rename-files -q -global \"'\"'\"'\" \"\"'   # where \"'\"'\"'\" is concatenated double quote, single quote, and double quote\n",
    "alias rename-special-punct='rename-files -q -global -regex \"[&\\!\\*?\\(\\)]\" \"\"'\n",
    "## TODO:\n",
    "## alias rename-spaces='rename-files -rename_old -q -global \" \" \"_\"'\n",
    "## alias rename-quotes='rename-files -rename_old -q -global \"'\"'\"'\" \"\"'   # where \"'\"'\"'\" is concatenated dou## OLD: alias rename-special-punct='rename-files -q -global -regex \"[&\\!\\*?]\" \"\"'"
   ]
  },
  {
   "cell_type": "code",
   "execution_count": 15,
   "id": "33fa4219",
   "metadata": {},
   "outputs": [
    {
     "name": "stdout",
     "output_type": "stream",
     "text": [
      "'abcdef\\.txt'  'abc nounderscore.txt'   abc.xyz   def.xyz   ooo.ppp\n"
     ]
    }
   ],
   "source": [
    "rm -rf ./*\n",
    "touch abc.xyz def.xyz ooo.ppp\n",
    "touch 'abc nounderscore.txt' abcdef\\\\.txt\n",
    "ls"
   ]
  },
  {
   "cell_type": "code",
   "execution_count": 16,
   "id": "1b8a1eb1",
   "metadata": {},
   "outputs": [
    {
     "name": "stdout",
     "output_type": "stream",
     "text": [
      "renaming \"ooo.ppp\" to \"ooo.qqq\"\n",
      "'abcdef\\.txt'  'abc nounderscore.txt'   abc.xyz   def.xyz   ooo.qqq\n",
      "--------------------------------------------------------------------------------\n",
      "renaming \"./abc.xyz\" to \"./abc.harry\"\n",
      "renaming \"./def.xyz\" to \"./def.harry\"\n",
      "'abcdef\\.txt'   abc.harry  'abc nounderscore.txt'   def.harry   ooo.qqq\n",
      "--------------------------------------------------------------------------------\n",
      "WARNING: Ignoring -quick mode as files specified\n",
      "'abcdef\\.txt'   abc.harry  'abc nounderscore.txt'   def.harry   ooo.qqq\n",
      "--------------------------------------------------------------------------------\n",
      "WARNING: Ignoring -quick mode as files specified\n",
      "'abcdef\\.txt'   abc.harry  'abc nounderscore.txt'   def.harry   ooo.qqq\n"
     ]
    }
   ],
   "source": [
    "#SINGLE FILE RENAME\n",
    "rename_files -q ooo.ppp ooo.qqq\n",
    "ls \n",
    "linebr\n",
    "#EXTENSION RENAME \n",
    "rename_files -f .xyz .harry ./*\n",
    "ls\n",
    "linebr\n",
    "#SPACES RENAME TO UNDERSCORES (need help)\n",
    "rename-spaces -f\n",
    "ls\n",
    "linebr\n",
    "#REMOVE SPECIAL CHARACTERS FROM FILENAME (need help)\n",
    "rename-quotes -f 'abc nounderscore.txt'\n",
    "ls"
   ]
  },
  {
   "cell_type": "code",
   "execution_count": 17,
   "id": "0f1eef55",
   "metadata": {},
   "outputs": [],
   "source": [
    "## TODO:\n",
    "#alias rename-spaces='rename-files -rename_old -q -global \" \" \"_\"'\n",
    "#alias rename-quotes='rename-files -rename_old -q -global \"'\"'\"'\" \"\"'   # where \"'\"'\"'\" is concatenated dou## OLD: alias rename-special-punct='rename-files -q -global -regex \"[&\\!\\*?]\" \"\"'\n",
    "#alias rename-special-punct='rename-files -rename_old -q -global -regex \"[&\\!\\*?\\(\\)]\" \"\"'\n",
    "# move-duplicates: move duplicate produced via Firefox downloads\n",
    "# ex: move \"05-158-a-20 (1).pdf duplicates\n",
    "alias move-duplicates='mkdir -p duplicates; move *\\([0-9]\\).* duplicates 2>&1 | $GREP -iv cannot.stat.*..No.such'\n",
    "# TODO: rename existing files with file date (instead of blocking rename)\n",
    "alias rename-parens='rename-files -global -regex \"[\\(\\)]\" \"\" *[\\(\\)]*'\n",
    "alias rename-etc='rename-spaces; rename-quotes; rename-special-punct; move-duplicates'\n",
    "## TODO: alias rename-parens='rename-files -rename_old -global -regex \"[\\(\\)]\" \"\" *[\\(\\)]*'\n",
    "# move \"versioned\" log files into ./log-file subdirectory\n",
    "#    *** files end in .log[0-9]+ or .log and have numeric affix (e.g., do-xyz.log2, do-xyz.2.log, or do-xyz-30may21.log)"
   ]
  },
  {
   "cell_type": "code",
   "execution_count": 18,
   "id": "de9f535f",
   "metadata": {},
   "outputs": [
    {
     "name": "stdout",
     "output_type": "stream",
     "text": [
      "'abc(1).111'  '&*abcdefg.xyz'  'xyz(3).111'\n",
      "'abc(2).111'  '*abc.xyz'       'xyz(4).111'\n"
     ]
    }
   ],
   "source": [
    "rm -rf ./*\n",
    "# CREATING DUPLICATES \n",
    "touch 'abc(1).111' 'abc(2).111' 'xyz(3).111' 'xyz(4).111' '*abc.xyz' '&*abcdefg.xyz'\n",
    "ls"
   ]
  },
  {
   "cell_type": "code",
   "execution_count": 19,
   "id": "8530f713",
   "metadata": {},
   "outputs": [
    {
     "name": "stdout",
     "output_type": "stream",
     "text": [
      "renaming \"abc(1).111\" to \"abc1.111\"\n",
      "renaming \"abc(2).111\" to \"abc2.111\"\n",
      "renaming \"xyz(3).111\" to \"xyz3.111\"\n",
      "renaming \"xyz(4).111\" to \"xyz4.111\"\n",
      "--------------------------------------------------------------------------------\n",
      "renaming \"&*abcdefg.xyz\" to \"abcdefg.xyz\"\n",
      "renaming \"*abc.xyz\" to \"abc.xyz\"\n",
      "--------------------------------------------------------------------------------\n",
      "abc1.111  abc2.111  abcdefg.xyz  abc.xyz  xyz3.111  xyz4.111\n"
     ]
    }
   ],
   "source": [
    "# REMOVES PARENTHESES () FROM FILENAMES\n",
    "rename-parens\n",
    "linebr\n",
    "rename-special-punct\n",
    "# rename-etc DOESN'T WORK WELL (move COMMAND NOT FOUND)\n",
    "linebr\n",
    "ls"
   ]
  },
  {
   "cell_type": "code",
   "execution_count": 22,
   "id": "d27a86e1",
   "metadata": {},
   "outputs": [],
   "source": [
    "# move-log-files: move \"versioned\" log files to log-files\n",
    "# move-output-files: likewise for output files with version numbers to ./output\n",
    "\n",
    "#THESE ARE THE CUSTOM CHANGES MADE TO THE FILE\n",
    "alias perl-grep='perl $BIN_DIR/perlgrep.perl'\n",
    "alias dir-rw='dir -rw'\n",
    "alias move='mv'\n",
    "\n",
    "# note: versioned files are those ending in numerics or with numeric affix\n",
    "## TODO: use perl-style regex for more precise matching (effing over-arching glob's)\n",
    "function move-versioned-files {\n",
    "    local ext_pattern=\"$1\"\n",
    "    if [ \"$ext_pattern\" = \"\" ]; then ext_pattern=\"{list,log,txt}\"; fi\n",
    "    local dir=\"$2\"\n",
    "    if [ \"$dir\" = \"\" ]; then dir=\"versioned-files\"; fi\n",
    "    mkdir -p \"$dir\";\n",
    "    ## OLD: local D=\"[.]\"\n",
    "    local D=\"[-.]\"\n",
    "    # TODO: fix problem leading to hangup (verification piped to 2>&1)\n",
    "    # Notes: eval needed for $ext_pattern resolution\n",
    "    # - excludes read-only files (e.g., ls -l => \"-r--r--r--   1 tomohara   11K Nov  2 16:30 _master-note-info.list.log\")\n",
    "    # EXs:              fu.log2                fu.2.log                  fu.log.14aug21    fu.14aug21.log\n",
    "    local file_list=\"$TEMP/_move-versioned-files-$$.list\"\n",
    "    ## TODO: dir-rw $(eval echo *$D$ext_pattern[0-9]*  *$D*[0-9]*$D$ext_pattern  *$D$ext_pattern$D*[0-9][0-9]*  *$D*[0-9][0-9]*$D$ext_pattern) 2>| \"$file_list.log\" | perl -pe 's/(\\S+\\s+){6}\\S+//;' >| \"$file_list\"\n",
    "    ## xargs -I \"{}\" $MV \"{}\" \"$dir\" < \"$file_list\"\n",
    "    ## OLD: move  $(eval dir-rw *$D$ext_pattern[0-9]*  *$D*[0-9]*$D$ext_pattern  *$D$ext_pattern$D*[0-9][0-9]*   *$D*[0-9][0-9]*$D$ext_pattern  2>&1 | perl-grep -v 'No such file' | perl -pe 's/(\\S+\\s+){6}\\S+//;') \"$dir\"\n",
    "    move  $(eval dir-rw *$D$ext_pattern[0-9]*  *$D*[0-9]*$D$ext_pattern  *$D$ext_pattern$D*[0-9][0-9]*   *$D*[0-9][0-9]*$D$ext_pattern  2>&1 | perl-grep -v 'No such file' | perl -pe 's/(\\S+\\s+){6}\\S+//;' | sort -u) \"$dir\"\n",
    "}\n",
    "alias move-log-files='move-versioned-files \"{log,debug}\" \"log-files\"'\n",
    "# note: * the version regex should be kept quite specific to avoid useful files being moved into ./output\n",
    "alias move-output-files='move-versioned-files \"{csv,html,json,list,out,output,png,report,tsv,xml}\" \"output-files\"'\n",
    "alias move-adhoc-files='move-log-files; move-output-files'"
   ]
  },
  {
   "cell_type": "code",
   "execution_count": 24,
   "id": "050c78f8",
   "metadata": {},
   "outputs": [],
   "source": [
    "# # SIMULATING THE CREATION OF LOG FILES AND OUTPUT FILES (need help)\n",
    "# rm -rf ./*\n",
    "# touch 'file1.log' 'file2.log' 'file3.debug' 'output1.html' 'output2.xml' 'output3.csv'\n",
    "# move-log-files\n",
    "# linebr\n",
    "# move-output-files\n",
    "\n",
    "# # OUTPUT\n",
    "# mv: cannot stat 'dir:': No such file or directory\n",
    "# mv: cannot stat 'invalid': No such file or directory\n",
    "# mv: cannot stat 'line': No such file or directory\n",
    "# mv: cannot stat 'width:': No such file or directory\n",
    "# mv: cannot stat '‘*[-.]log[0-9]*’': No such file or directory\n",
    "# --------------------------------------------------------------------------------\n",
    "# mv: cannot stat 'dir:': No such file or directory\n",
    "# mv: cannot stat 'invalid': No such file or directory\n",
    "# mv: cannot stat 'line': No such file or directory\n",
    "# mv: cannot stat 'width:': No such file or directory\n",
    "# mv: cannot stat '‘*[-.]csv[0-9]*’': No such file or directory\n"
   ]
  },
  {
   "cell_type": "code",
   "execution_count": 31,
   "id": "6d495935",
   "metadata": {},
   "outputs": [],
   "source": [
    "# rename-with-file-date(file, ...): rename each file(s) with .ddMmmYY suffix\n",
    "# Notes: 1. If file.ddMmmYY exists, file.ddMmmYY.N tried (for N in 1, 2, ...).\n",
    "# 2. No warning is issued if the file doesn't exist, so can be used as a no-op.\n",
    "# TODO: have option to put suffix before extension\n",
    "\n",
    "# MISSING FUNCTION: get-free-filename\n",
    "function get-free-filename() {\n",
    "    local base=\"$1\"\n",
    "    local sep=\"$2\"\n",
    "    local L=1\n",
    "    local filename=\"$base\"\n",
    "    ## DEBUG: local -p\n",
    "    while [ -e \"$filename\" ]; do\n",
    "        let L++\n",
    "        filename=\"$base$sep$L\"\n",
    "    done;\n",
    "    ## DEBUG: local -p\n",
    "    echo \"$filename\"\n",
    "}\n",
    "\n",
    "function rename-with-file-date() {\n",
    "    ## DEBUG: set -o xtrace\n",
    "    local f new_f\n",
    "    local move_command=\"move\"\n",
    "    if [ \"$1\" = \"--copy\" ]; then\n",
    "        ## TODO: move_command=\"copy\"\n",
    "        move_command=\"command cp --interactive --verbose --preserve\"\n",
    "        shift\n",
    "    fi\n",
    "    for f in \"$@\"; do\n",
    "        ## DEBUG: echo \"f=$f\"\n",
    "        if [ -e \"$f\" ]; then\n",
    "           new_f=$(get-free-filename \"$f\".$(date --reference=\"$f\" '+%d%b%y') \".\")\n",
    "           ## DEBUG: echo\n",
    "           eval \"$move_command\" \"$f\" \"$new_f\";\n",
    "        fi\n",
    "    done;\n",
    "    ## DEBUG: set - -o xtrace\n",
    "}\n",
    "## OLD: alias copy-with-file-date='rename-with-file-date --copy'\n",
    "## HACK: See if function required for proper handling by bats-core\n",
    "function copy-with-file-date { rename-with-file-date --copy \"$@\"; }\n"
   ]
  },
  {
   "cell_type": "code",
   "execution_count": 40,
   "id": "55637ad4",
   "metadata": {
    "scrolled": true
   },
   "outputs": [
    {
     "name": "stdout",
     "output_type": "stream",
     "text": [
      "abc1.xyz  abc2.xyz  abc3.xyz  abc4.xyz\tabc5.xyz.19Aug22  abc6.xyz.19Aug22\n",
      "--------------------------------------------------------------------------------\n",
      "'abc1.xyz' -> 'abc1.xyz.19Aug22'\n",
      "'abc2.xyz' -> 'abc2.xyz.19Aug22'\n",
      "'abc3.xyz' -> 'abc3.xyz.19Aug22'\n",
      "'abc4.xyz' -> 'abc4.xyz.19Aug22'\n",
      "--------------------------------------------------------------------------------\n",
      "abc1.xyz\t  abc2.xyz.19Aug22  abc4.xyz\t      abc6.xyz.19Aug22\n",
      "abc1.xyz.19Aug22  abc3.xyz\t    abc4.xyz.19Aug22\n",
      "abc2.xyz\t  abc3.xyz.19Aug22  abc5.xyz.19Aug22\n"
     ]
    }
   ],
   "source": [
    "# ADDING DATES TO THE EXTENSION\n",
    "rm -rf ./*\n",
    "touch abc1.xyz abc2.xyz abc3.xyz abc4.xyz abc5.xyz.19Aug22 abc6.xyz.19Aug22\n",
    "ls\n",
    "linebr\n",
    "copy-with-file-date *.xyz \n",
    "linebr\n",
    "ls"
   ]
  },
  {
   "cell_type": "code",
   "execution_count": 42,
   "id": "9acb941e",
   "metadata": {},
   "outputs": [],
   "source": [
    "# Statistical helpers\n",
    "alias bigrams='perl -sw $BIN_DIR/count_bigrams.perl -N=2'\n",
    "alias unigrams='perl -sw $BIN_DIR/count_bigrams.perl -N=1'\n",
    "alias word-count=unigrams"
   ]
  },
  {
   "cell_type": "code",
   "execution_count": 56,
   "id": "01e5f46f",
   "metadata": {},
   "outputs": [
    {
     "name": "stdout",
     "output_type": "stream",
     "text": [
      "equivalent:to\t3\n",
      "to:standard\t2\n",
      "gnu:coreutils\t2\n",
      "standard:output.\t2\n",
      "output:lines\t2\n",
      "and:exit\t2\n",
      "is:no\t1\n",
      "<https://www.gnu.org/software/coreutils/cat>:or\t1\n",
      "by:torbjorn\t1\n",
      "free:software:\t1\n",
      "locally:via:\t1\n",
      "info:'(coreutils)\t1\n",
      "cat:invocation'\t1\n",
      "gplv3+::gnu\t1\n",
      "copyright:copyright\t1\n",
      "overrides:-n\t1\n",
      "is:free\t1\n",
      "no:file,\t1\n",
      "lfd:and\t1\n",
      "to:the\t1\n",
      "coreutils:8.32\t1\n",
      "cat(1):user\t1\n",
      "--squeeze-blank:suppress\t1\n",
      "-ve:-e,\t1\n",
      "display:this\t1\n",
      "report:any\t1\n",
      "-:g\t1\n",
      "standard:input.\t1\n",
      "to:<https://translationproject.org/team/>\t1\n",
      "extent:permitted\t1\n",
      "is:-,\t1\n",
      "gnu:gpl\t1\n",
      "suppress:repeated\t1\n",
      "you:are\t1\n",
      "display:tab\t1\n",
      "-t,:--show-tabs\t1\n",
      "then:g's\t1\n",
      "n/a:cat(1)\t1\n",
      "february:2022\t1\n",
      "file(s):to\t1\n",
      "no:warranty,\t1\n",
      "to:-ve\t1\n",
      "-n,:--number\t1\n",
      "except:for\t1\n",
      "lines,:overrides\t1\n",
      "--show-nonprinting:use\t1\n",
      "copy:standard\t1\n",
      "information:and\t1\n",
      "and:print\t1\n",
      "and:m-\t1\n",
      "full:documentation\t1\n",
      "-t:equivalent\t1\n",
      "-s,:--squeeze-blank\t1\n",
      "8.32:february\t1\n",
      "--show-tabs:display\t1\n",
      "notation,:except\t1\n",
      "license:gplv3+:\t1\n",
      "see:also\t1\n",
      "standard:input\t1\n",
      "input:to\t1\n",
      "bugs:to\t1\n",
      "concatenate:files\t1\n",
      "or:when\t1\n",
      "free:software\t1\n",
      "3:or\t1\n",
      "nonempty:output\t1\n",
      "-a,:--show-all\t1\n",
      "'(coreutils):cat\t1\n",
      "f's:contents,\t1\n",
      "number:nonempty\t1\n",
      "by:law.\t1\n",
      "output.:with\t1\n",
      "-e:equivalent\t1\n",
      "--version:output\t1\n",
      "[option]...:[file]...\t1\n",
      "output:lines,\t1\n",
      "2020:free\t1\n",
      "permitted:by\t1\n",
      "help::<https://www.gnu.org/software/coreutils/>\t1\n",
      "bugs:gnu\t1\n",
      "characters:as\t1\n",
      "documentation:<https://www.gnu.org/software/coreutils/cat>\t1\n",
      "-u:(ignored)\t1\n",
      "g:output\t1\n",
      "help:and\t1\n",
      "stallman.:reporting\t1\n",
      "and:richard\t1\n",
      "lines:-t\t1\n",
      "-:concatenate\t1\n",
      "exit:--version\t1\n",
      "output:synopsis\t1\n",
      "translation:bugs\t1\n",
      "synopsis:cat\t1\n",
      "contents.:cat\t1\n",
      "tab:--help\t1\n",
      "line:-n,\t1\n",
      "--show-ends:display\t1\n",
      "later:<https://gnu.org/licenses/gpl.html>.\t1\n",
      "cat:copy\t1\n",
      "and:redistribute\t1\n",
      "m.:stallman.\t1\n",
      "-v,:--show-nonprinting\t1\n",
      "author:written\t1\n",
      "lines:-s,\t1\n",
      "to:-vet\t1\n",
      "cat(1):name\t1\n",
      "tab:characters\t1\n",
      "^:and\t1\n",
      "end:of\t1\n",
      "this:is\t1\n",
      "the:standard\t1\n",
      "version:information\t1\n",
      "(ignored):-v,\t1\n",
      "--show-all:equivalent\t1\n",
      "--help:display\t1\n",
      "-e,:--show-ends\t1\n",
      "use:^\t1\n",
      "output:version\t1\n",
      "change:and\t1\n",
      "also:tac(1)\t1\n",
      "with:no\t1\n",
      "version:3\t1\n",
      "--number-nonblank:number\t1\n",
      "-vt:-t,\t1\n",
      "standard:output\t1\n",
      "concatenate:file(s)\t1\n",
      "all:output\t1\n",
      "cat:f\t1\n",
      "^i:-u\t1\n",
      "available:locally\t1\n",
      "are:free\t1\n",
      "number:all\t1\n",
      "invocation':gnu\t1\n",
      "m-:notation,\t1\n",
      "to:-vt\t1\n",
      "tac(1):full\t1\n",
      "when:file\t1\n",
      "file,:or\t1\n",
      "description:concatenate\t1\n",
      "©:2020\t1\n",
      "file:is\t1\n",
      "online:help:\t1\n",
      "examples:cat\t1\n",
      "granlund:and\t1\n",
      "as:^i\t1\n",
      "input.:-a,\t1\n",
      "free:to\t1\n",
      "written:by\t1\n",
      "gpl:version\t1\n",
      "<https://www.gnu.org/software/coreutils/>:report\t1\n",
      "or:later\t1\n",
      "for:lfd\t1\n",
      "read:standard\t1\n",
      "$:at\t1\n",
      "exit:examples\t1\n",
      "-vet:-b,\t1\n",
      "via::info\t1\n",
      "user:commands\t1\n",
      "output.:author\t1\n",
      "print:on\t1\n",
      "software::you\t1\n",
      "it.:there\t1\n",
      "repeated:empty\t1\n",
      "<https://translationproject.org/team/>:copyright\t1\n",
      "each:line\t1\n",
      "or:available\t1\n",
      "output:f's\t1\n",
      "copyright:©\t1\n",
      "coreutils:online\t1\n",
      "this:help\t1\n",
      "--number:number\t1\n",
      "name:cat\t1\n",
      "<https://gnu.org/licenses/gpl.html>.:this\t1\n",
      "on:the\t1\n",
      "commands:cat(1)\t1\n",
      "n/a:n/a\t1\n",
      "input,:then\t1\n",
      "empty:output\t1\n",
      "law.:see\t1\n",
      "to:change\t1\n",
      "and:tab\t1\n",
      "of:each\t1\n",
      "standard:input,\t1\n",
      "foundation,:inc.\t1\n",
      "reporting:bugs\t1\n",
      "redistribute:it.\t1\n",
      "there:is\t1\n",
      "display:$\t1\n",
      "at:end\t1\n",
      "inc.:license\t1\n",
      "-n:-e\t1\n",
      "cat:-\t1\n",
      "torbjorn:granlund\t1\n",
      "richard:m.\t1\n",
      "cat:[option]...\t1\n",
      "files:and\t1\n",
      "warranty,:to\t1\n",
      "-b,:--number-nonblank\t1\n",
      "software:foundation,\t1\n",
      "contents,:then\t1\n",
      "then:standard\t1\n",
      "the:extent\t1\n",
      "-,:read\t1\n",
      "g's:contents.\t1\n",
      "any:translation\t1\n",
      "[file]...:description\t1\n",
      "f:-\t1\n",
      "catmanual.txt\n",
      "to\t8\n",
      "and\t7\n",
      "output\t6\n",
      "standard\t6\n",
      "cat\t5\n",
      "free\t3\n",
      "equivalent\t3\n",
      "or\t3\n",
      "gnu\t3\n",
      "is\t3\n",
      "display\t3\n",
      "tab\t2\n",
      "version\t2\n",
      "number\t2\n",
      "then\t2\n",
      "output.\t2\n",
      "lines\t2\n",
      "-\t2\n",
      "coreutils\t2\n",
      "this\t2\n",
      "exit\t2\n",
      "no\t2\n",
      "the\t2\n",
      "cat(1)\t2\n",
      "concatenate\t2\n",
      "bugs\t2\n",
      "copyright\t2\n",
      "by\t2\n",
      "-v,\t1\n",
      "2020\t1\n",
      "--show-all\t1\n",
      "3\t1\n",
      "description\t1\n",
      "change\t1\n",
      "for\t1\n",
      "-b,\t1\n",
      "it.\t1\n",
      "report\t1\n",
      "^\t1\n",
      "written\t1\n",
      "torbjorn\t1\n",
      "--help\t1\n",
      "f's\t1\n",
      "tac(1)\t1\n",
      "--number\t1\n",
      "all\t1\n",
      "nonempty\t1\n",
      "stallman.\t1\n",
      "m-\t1\n",
      "©\t1\n",
      "full\t1\n",
      "richard\t1\n",
      "<https://gnu.org/licenses/gpl.html>.\t1\n",
      "granlund\t1\n",
      "when\t1\n",
      "name\t1\n",
      "examples\t1\n",
      "warranty,\t1\n",
      "foundation,\t1\n",
      "--show-tabs\t1\n",
      "information\t1\n",
      "-vet\t1\n",
      "with\t1\n",
      "-a,\t1\n",
      "<https://translationproject.org/team/>\t1\n",
      "lfd\t1\n",
      "info\t1\n",
      "g's\t1\n",
      "8.32\t1\n",
      "extent\t1\n",
      "n/a\t1\n",
      "online\t1\n",
      "commands\t1\n",
      "as\t1\n",
      "you\t1\n",
      "files\t1\n",
      "contents.\t1\n",
      "input,\t1\n",
      "later\t1\n",
      "help\t1\n",
      "--show-nonprinting\t1\n",
      "m.\t1\n",
      "repeated\t1\n",
      "author\t1\n",
      "-s,\t1\n",
      "--number-nonblank\t1\n",
      "f\t1\n",
      "input.\t1\n",
      "law.\t1\n",
      "-n\t1\n",
      "-e,\t1\n",
      "redistribute\t1\n",
      "are\t1\n",
      "software\t1\n",
      "gplv3+:\t1\n",
      "--show-ends\t1\n",
      "-t\t1\n",
      "february\t1\n",
      "permitted\t1\n",
      "-,\t1\n",
      "file(s)\t1\n",
      "via:\t1\n",
      "of\t1\n",
      "file,\t1\n",
      "license\t1\n",
      "(ignored)\t1\n",
      "[file]...\t1\n",
      "-vt\t1\n",
      "except\t1\n",
      "read\t1\n",
      "invocation'\t1\n",
      "gpl\t1\n",
      "synopsis\t1\n",
      "-ve\t1\n",
      "copy\t1\n",
      "characters\t1\n",
      "use\t1\n",
      "--version\t1\n",
      "any\t1\n",
      "help:\t1\n",
      "also\t1\n",
      "available\t1\n",
      "input\t1\n",
      "locally\t1\n",
      "^i\t1\n",
      "-t,\t1\n",
      "g\t1\n",
      "see\t1\n",
      "inc.\t1\n",
      "-e\t1\n",
      "$\t1\n",
      "-u\t1\n",
      "-n,\t1\n",
      "overrides\t1\n",
      "empty\t1\n",
      "'(coreutils)\t1\n",
      "contents,\t1\n",
      "<https://www.gnu.org/software/coreutils/>\t1\n",
      "reporting\t1\n",
      "there\t1\n",
      "at\t1\n",
      "print\t1\n",
      "<https://www.gnu.org/software/coreutils/cat>\t1\n",
      "2022\t1\n",
      "--squeeze-blank\t1\n",
      "software:\t1\n",
      "each\t1\n",
      "lines,\t1\n",
      "on\t1\n",
      "[option]...\t1\n",
      "user\t1\n",
      "line\t1\n",
      "documentation\t1\n",
      "end\t1\n",
      "translation\t1\n",
      "file\t1\n",
      "notation,\t1\n",
      "suppress\t1\n",
      "catmanual.txt\n"
     ]
    }
   ],
   "source": [
    "rm -rf ./*\n",
    "man cat > catmanual.txt\n",
    "bigrams catmanual.txt\n",
    "ls\n",
    "word-count catmanual.txt\n",
    "ls"
   ]
  },
  {
   "cell_type": "code",
   "execution_count": 57,
   "id": "a6cbbebf",
   "metadata": {},
   "outputs": [],
   "source": [
    "# Lynx stuff\n",
    "# lynx-dump-stdout(option, ...): Run lynx with textual output to stdout\n",
    "# lynx-dump(file, [[out-file], option, ...]): Run lynx over base.html with output to base.txt\n",
    "lynx-dump-stdout () { lynx -width=512 -dump \"$@\"; }\n",
    "lynx-dump () { \n",
    "    local in_file=\"$1\"\n",
    "    shift 1\n",
    "    local base=$(basename \"$file\" .html)\n",
    "    #    \n",
    "    if [[ (\"$out_file\" = \"\" ) && (! \"$1\" =~ -*) ]]; then\n",
    "        local out_file=\"$1\"\n",
    "    fi\n",
    "    #\n",
    "    if [ \"$out_file\" = \"\" ]; then out_file=\"$base.txt\"; fi\n",
    "    #\n",
    "    lynx-dump-stdout \"$@\" \"$file\" > \"$out_file\" 2> \"$out_file.log\"\n",
    "    if [ -s \"$out_file.log\" ]; then\n",
    "        cat \"$out_file.log\"\n",
    "        delete-force \"$out_file.log\"\n",
    "    fi\n",
    "}\n",
    "if [ \"$BAREBONES_HOST\" = \"1\" ]; then export lynx_width=0; fi\n",
    "alias lynx-html='lynx -force_html'"
   ]
  },
  {
   "cell_type": "code",
   "execution_count": 62,
   "id": "322ded92",
   "metadata": {},
   "outputs": [
    {
     "name": "stdout",
     "output_type": "stream",
     "text": [
      "     [ [1]About Lynx-Dev | [2]Lynx-Dev Archives ]\n",
      "\n",
      "About Lynx\n",
      "\n",
      "   Lynx is a fully-featured World Wide Web (WWW) browser for users on Unix, VMS, and other platforms running cursor-addressable, character-cell terminals or emulators. That includes vt100 terminals, other character-cell displays, and vt100 emulators such as Kermit or Procomm running on PCs or Macs.\n",
      "\n",
      "   For information on how to use Lynx see the [3]Lynx User's Guide, or the [4]Lynx help files.\n",
      "\n",
      "Credits and Copyright\n",
      "\n",
      "   Lynx was a product of the Distributed Computing Group within Academic Computing Services of [5]The University of Kansas.\n",
      "\n",
      "   Lynx was originally developed by [6]Lou Montulli, [7]Michael Grobe, and [8]Charles Rezac. [9]Garrett Blythe created [10]DosLynx and later joined the Lynx effort as well. Following the departures of Lou and Garrett for positions at Netscape in the summer of 1994, Craig Lavender provided support services for Lynx, and Ravikumar Kolli for DosLynx.\n",
      "\n",
      "   Lynx is maintained and supported by members of the Internet community coordinated via the [11]lynx-dev mailing list.\n",
      "\n",
      "   Lynx is derived from material copyrighted by the University of Kansas. However most of the release (and corresponding copyright) is the work of developers on the [12]lynx-dev mailing list. It is distributed without restrictions on usage or redistribution under the GNU General Public License (Version 2).\n",
      "\n",
      "   Lynx was built over an early version of the Common Code Library developed by the CERN WWW Project. That code is copyrighted by CERN. Lynx contains other sections of code that are copyrighted by other institutions or individuals. The Lynx copyright does not override or invalidate those copyrights.\n",
      "\n",
      "   Thanks to [13]Tim Berners-Lee and the other [14]CERN World Wide Web wizards for the WWW client library code and all of their other work on the WWW project, NCSA and the [15]Mosaic developers, and to everyone out in netland who has contributed to Lynx's development either directly (through comments or bug reports) or indirectly (through inspiration and development of other systems).\n",
      "\n",
      "   Also, special thanks go to Foteos Macrides who ported much of Lynx to VMS and did much of its development following Lou Montulli's and Garrett Blythe's departures from the University of Kansas, and to Earl Fogel of the University of Saskatchewan. Earl implemented the hypertext engine HYPERREZ in the Unix environment. HYPERREZ was developed by Niel Larson of Think.com and served as the model for the early versions of Lynx which did not use the WWW libraries and had their own hypertext format.\n",
      "\n",
      "Availability\n",
      "\n",
      "   Information on obtaining the most current version of Lynx is available via the [16]Lynx homepage.\n",
      "\n",
      "Mailing List\n",
      "\n",
      "   We have a mailing list for Lynx development discussion. If you are interested in joining the list, follow this [17]link. There also are links to [18]archives in html format for this mailing list.\n",
      "\n",
      "References\n",
      "\n",
      "   1. file:///usr/share/doc/lynx/lynx_help/lynx-dev.html.gz\n",
      "   2. http://mail.gnu.org/mailman/listinfo/lynx-dev/\n",
      "   3. file:///usr/share/doc/lynx/lynx_help/Lynx_users_guide.html.gz\n",
      "   4. file:///usr/share/doc/lynx/lynx_help/lynx_help_main.html.gz\n",
      "   5. http://web.archive.org/web/19971210163627/http://www.cc.ukans.edu/\n",
      "   6. http://web.archive.org/web/20040309105337/http://www.cc.ukans.edu/cwis/people/Lou.Montulli.html\n",
      "   7. http://condor.cc.ku.edu/~grobe/\n",
      "   8. http://web.archive.org/web/20040412210202/http://www.cc.ukans.edu/cwis/people/Charles.Rezac.html\n",
      "   9. http://web.archive.org/web/20040412210651/http://www.cc.ukans.edu/cwis/people/Garrett/Garrett_Arch_Blythe.html\n",
      "  10. http://web.archive.org/web/20040812204015/http://www.cc.ukans.edu/about_doslynx/doslynx.html\n",
      "  11. file:///usr/share/doc/lynx/lynx_help/about_lynx.html.gz#lynx-dev_list\n",
      "  12. file:///usr/share/doc/lynx/lynx_help/about_lynx.html.gz#lynx-dev_list\n",
      "  13. http://www.w3.org/People/Berners-Lee/\n",
      "  14. http://www.w3.org/People.html\n",
      "  15. http://archive.ncsa.uiuc.edu/SDG/Software/Mosaic/NCSAMosaicHome.html\n",
      "  16. https://lynx.invisible-island.net/\n",
      "  17. file:///usr/share/doc/lynx/lynx_help/lynx-dev.html.gz\n",
      "  18. http://mail.gnu.org/mailman/listinfo/lynx-dev/\n"
     ]
    }
   ],
   "source": [
    "lynx-dump-stdout"
   ]
  },
  {
   "cell_type": "code",
   "execution_count": 67,
   "id": "90559c9a",
   "metadata": {},
   "outputs": [],
   "source": [
    "#lynx-html (is a continuously running program)\n",
    "printf \"https://www.google.com/\" > lynxin.txt\n",
    "# lynx-dump lynxin.txt (need help)"
   ]
  },
  {
   "cell_type": "code",
   "execution_count": 68,
   "id": "f8c61067",
   "metadata": {},
   "outputs": [],
   "source": [
    "# CSH-like aliases\n",
    "#\n",
    "function setenv () { export $1=\"$2\"; }\n",
    "alias unsetenv='unset'\n",
    "alias unexport='unset'\n"
   ]
  },
  {
   "cell_type": "code",
   "execution_count": 72,
   "id": "a94208ff",
   "metadata": {},
   "outputs": [
    {
     "name": "stdout",
     "output_type": "stream",
     "text": [
      "aveey-temp\n",
      "--------------------------------------------------------------------------------\n",
      "\n"
     ]
    }
   ],
   "source": [
    "setenv MY_USERNAME aveey-temp\n",
    "echo $MY_USERNAME\n",
    "linebr\n",
    "unexport MY_USERNAME\n",
    "echo $MY_USERNAME"
   ]
  },
  {
   "cell_type": "code",
   "execution_count": 73,
   "id": "630e173d",
   "metadata": {},
   "outputs": [],
   "source": [
    "# Unicode support\n",
    "#\n",
    "# TODO: put show-unicode-code-info-aux into script (as with other overly-large function definitions like hg-pull-and-update)\n",
    "# show-unicode-control-chars(): output Unicode codepoint (ordinal) and UTF-8 encoding for input chars with offset in line\n",
    "function show-unicode-code-info-aux() { perl -CIOE   -e 'use Encode \"encode_utf8\"; print \"char\\tord\\toffset\\tencoding\\n\";'    -ne 'chomp;  printf \"%s: %d\\n\", $_, length($_); foreach $c (split(//, $_)) { $encoding = encode_utf8($c); printf \"%s\\t%04X\\t%d\\t%s\\n\", $c, ord($c), $offset, unpack(\"H*\", $encoding); $offset += length($encoding); }   $offset += length($/); print \"\\n\"; ' < \"$1\"; }\n",
    "function show-unicode-code-info { show-unicode-code-info-aux \"$@\"; }\n",
    "function show-unicode-code-info-stdin() { in_file=\"$TEMP/show-unicode-code-info.$$\"; cat >| $in_file;  show-unicode-code-info-aux $in_file; }\n",
    "#\n",
    "function output-BOM { perl -e 'print \"\\xEF\\xBB\\xBF\\n\";'; }\n",
    "#\n",
    "# show-unicode-control-chars(): Convert ascii control characters to printable Unicode ones (e.g., ␀ for 0x00)\n",
    "## BAD: function show-unicode-control-chars { perl -pe 'use Encode \"decode_utf8\"; s/[\\x00-\\x1F]/chr($&+0x2400)/e;'; }\n",
    "# See https://stackoverflow.com/questions/42193957/errorwide-character-in-print-at-x-at-line-35-fh-read-text-files-from-comm.\n",
    "## BAD: function show-unicode-control-chars { perl -pe 'use open \":std\", \":encoding(UTF-8)\"; s/[\\x00-\\x1F]/chr($& + 0x2400)/eg;'; }\n",
    "function show-unicode-control-chars { perl -pe 'use open \":std\", \":encoding(UTF-8)\"; s/[\\x00-\\x1F]/chr(ord($&) + 0x2400)/eg;'; }"
   ]
  },
  {
   "cell_type": "code",
   "execution_count": 82,
   "id": "574bb785",
   "metadata": {},
   "outputs": [
    {
     "name": "stdout",
     "output_type": "stream",
     "text": [
      "bash: : No such file or directory\n",
      "bash: : No such file or directory\n",
      "bash: /show-unicode-code-info.5580: Permission denied\n",
      "bash: /show-unicode-code-info.5580: No such file or directory\n",
      "﻿\n",
      "\n"
     ]
    }
   ],
   "source": [
    "show-unicode-code-info-aux\n",
    "show-unicode-code-info\n",
    "show-unicode-code-info-stdin\n",
    "output-BOM\n",
    "show-unicode-control-chars"
   ]
  },
  {
   "cell_type": "code",
   "execution_count": null,
   "id": "6819a25b",
   "metadata": {},
   "outputs": [],
   "source": []
  }
 ],
 "metadata": {
  "kernelspec": {
   "display_name": "Bash",
   "language": "bash",
   "name": "bash"
  },
  "language_info": {
   "codemirror_mode": "shell",
   "file_extension": ".sh",
   "mimetype": "text/x-sh",
   "name": "bash"
  }
 },
 "nbformat": 4,
 "nbformat_minor": 5
}
