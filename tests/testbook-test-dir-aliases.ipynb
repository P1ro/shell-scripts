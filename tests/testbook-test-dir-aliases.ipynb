{
 "cells": [
  {
   "cell_type": "code",
   "execution_count": 1,
   "id": "396f0ead",
   "metadata": {},
   "outputs": [],
   "source": [
    "# Setup\n",
    "bind 'set enable-bracketed-paste off'"
   ]
  },
  {
   "cell_type": "code",
   "execution_count": 2,
   "id": "92562e76",
   "metadata": {},
   "outputs": [],
   "source": [
    "# Delete all aliases and function\n",
    "# TODO: Instead start from pristine environment\n",
    "unalias -a\n",
    "for f in $(typeset -f | egrep '^\\w+'); do unset -f $f; done"
   ]
  },
  {
   "cell_type": "code",
   "execution_count": 3,
   "id": "4d95b977",
   "metadata": {},
   "outputs": [
    {
     "name": "stdout",
     "output_type": "stream",
     "text": [
      "8\n"
     ]
    }
   ],
   "source": [
    "AVEE_BIN=/home/aveey/bin\n",
    "# SPECIFYING AN IDENTIFIER FOR TMP\n",
    "TMP=temp/tmp\n",
    "source $AVEE_BIN/_dir-aliases.bash\n",
    "alias | wc -l"
   ]
  },
  {
   "cell_type": "code",
   "execution_count": 4,
   "id": "4c3ef9bf",
   "metadata": {},
   "outputs": [
    {
     "name": "stdout",
     "output_type": "stream",
     "text": [
      "8\n"
     ]
    }
   ],
   "source": [
    "# Count aliases proper\n",
    "alias | wc -l"
   ]
  },
  {
   "cell_type": "code",
   "execution_count": 5,
   "id": "e5e5198f",
   "metadata": {},
   "outputs": [
    {
     "name": "stdout",
     "output_type": "stream",
     "text": [
      "2\n"
     ]
    }
   ],
   "source": [
    "# Count functions\n",
    "typeset -f | egrep '^\\w+' | wc -l"
   ]
  },
  {
   "cell_type": "code",
   "execution_count": 6,
   "id": "06e018f7",
   "metadata": {},
   "outputs": [
    {
     "name": "stdout",
     "output_type": "stream",
     "text": [
      "/home/aveey/tom-project/shell-scripts/tests/temp/tmp/test-16840\n"
     ]
    }
   ],
   "source": [
    "# Test safe symbolic links\n",
    "temp_dir=$TMP/test-$$\n",
    "mkdir -p \"$temp_dir\"\n",
    "# TODO: /bin/rm -rvf \"$temp_dir\"\n",
    "cd \"$temp_dir\"\n",
    "pwd"
   ]
  },
  {
   "cell_type": "code",
   "execution_count": 7,
   "id": "a5bccfa0",
   "metadata": {},
   "outputs": [
    {
     "name": "stdout",
     "output_type": "stream",
     "text": [
      "'link1' -> 'file1'\n",
      "ln: failed to create symbolic link 'link1': File exists\n",
      "3\n"
     ]
    }
   ],
   "source": [
    "# The first case succeed\n",
    "touch file1\n",
    "ln-symbolic file1 link1\n",
    "# 'link1' -> 'file1'\n",
    "\n",
    "# The second case should should fail\n",
    "ln-symbolic file1 link1\n",
    "# => \"ln: failed to create symbolic link 'link1': File exists?\"\n",
    "\n",
    "# Should only be four files total (along with . and ..)\n",
    "ls -R | wc -l\n",
    "# => 3"
   ]
  },
  {
   "cell_type": "code",
   "execution_count": 8,
   "id": "76653eee",
   "metadata": {},
   "outputs": [],
   "source": [
    "## FYI: the current aliases and functions\n",
    "\n",
    "## ERROR PRONE COMMAND (BATSPP) - WORKS WELL\n",
    "\n",
    "# $ cat $AVEE_BIN/_dir-aliases.bash"
   ]
  },
  {
   "cell_type": "code",
   "execution_count": 9,
   "id": "12691464",
   "metadata": {},
   "outputs": [],
   "source": [
    "bash $AVEE_BIN/_dir-aliases.bash"
   ]
  },
  {
   "cell_type": "code",
   "execution_count": 10,
   "id": "d453b321",
   "metadata": {},
   "outputs": [
    {
     "name": "stdout",
     "output_type": "stream",
     "text": [
      "total 0\n",
      "-rw-rw-r-- 1 aveey aveey 0 Sep 19 21:59 file1\n",
      "lrwxrwxrwx 1 aveey aveey 5 Sep 19 21:59 link1 -> file1\n"
     ]
    }
   ],
   "source": [
    "ls -l"
   ]
  },
  {
   "cell_type": "code",
   "execution_count": 11,
   "id": "f93f05f0",
   "metadata": {},
   "outputs": [
    {
     "name": "stdout",
     "output_type": "stream",
     "text": [
      "'temp-link' -> '/tmp'\n"
     ]
    }
   ],
   "source": [
    "ln-symbolic /tmp temp-link"
   ]
  },
  {
   "cell_type": "code",
   "execution_count": 12,
   "id": "f2558170",
   "metadata": {},
   "outputs": [
    {
     "name": "stdout",
     "output_type": "stream",
     "text": [
      "total 0\n",
      "-rw-rw-r-- 1 aveey aveey 0 Sep 19 21:59 file1\n",
      "lrwxrwxrwx 1 aveey aveey 5 Sep 19 21:59 link1 -> file1\n",
      "lrwxrwxrwx 1 aveey aveey 4 Sep 19 21:59 temp-link -> /tmp\n"
     ]
    }
   ],
   "source": [
    "ls -l"
   ]
  },
  {
   "cell_type": "code",
   "execution_count": 13,
   "id": "0951b468",
   "metadata": {},
   "outputs": [
    {
     "name": "stdout",
     "output_type": "stream",
     "text": [
      "'temp-link' -> '/home/aveey/temp'\n"
     ]
    }
   ],
   "source": [
    "link-symbolic-safe --force ~/temp temp-link"
   ]
  },
  {
   "cell_type": "code",
   "execution_count": 14,
   "id": "396bb3de",
   "metadata": {},
   "outputs": [
    {
     "name": "stdout",
     "output_type": "stream",
     "text": [
      "total 0\n",
      "-rw-rw-r-- 1 aveey aveey  0 Sep 19 21:59 file1\n",
      "lrwxrwxrwx 1 aveey aveey  5 Sep 19 21:59 link1 -> file1\n",
      "lrwxrwxrwx 1 aveey aveey 16 Sep 19 21:59 temp-link -> /home/aveey/temp\n"
     ]
    }
   ],
   "source": [
    "ls -l"
   ]
  },
  {
   "cell_type": "code",
   "execution_count": 15,
   "id": "eefe859d",
   "metadata": {},
   "outputs": [],
   "source": [
    "alias ln-symbolic-force='ln-symbolic --force'"
   ]
  },
  {
   "cell_type": "code",
   "execution_count": 16,
   "id": "6952c36b",
   "metadata": {},
   "outputs": [],
   "source": [
    "# # THIS THROWS AN ERROR AS A SYMBOLIC LINK ALREADY EXISTS\n",
    "\n",
    "# $ ln-symbolic /tmp temp-link\n",
    "# | ln: failed to create symbolic link 'temp-link/tmp': File exists"
   ]
  },
  {
   "cell_type": "code",
   "execution_count": 17,
   "id": "42c6c019",
   "metadata": {},
   "outputs": [],
   "source": [
    "# ln CANNOT OVERWRITE DIRECTORY AS WELL, EVEN ON FORCE\n",
    "# $ ln-symbolic-force /tmp temp-link\n",
    "# | ln: temp-link/tmp: cannot overwrite directory"
   ]
  },
  {
   "cell_type": "code",
   "execution_count": 18,
   "id": "c70cdbce",
   "metadata": {
    "scrolled": true
   },
   "outputs": [
    {
     "name": "stdout",
     "output_type": "stream",
     "text": [
      "'temp-link' -> '/tmp1'\n"
     ]
    }
   ],
   "source": [
    "ln-symbolic-force /tmp1 temp-link"
   ]
  },
  {
   "cell_type": "code",
   "execution_count": 19,
   "id": "ce67e2e4",
   "metadata": {},
   "outputs": [
    {
     "name": "stdout",
     "output_type": "stream",
     "text": [
      "'temp-link' -> '/home/aveey/temp'\n"
     ]
    }
   ],
   "source": [
    "link-symbolic-safe --force ~/temp temp-link"
   ]
  },
  {
   "cell_type": "code",
   "execution_count": 20,
   "id": "eafc7375",
   "metadata": {},
   "outputs": [
    {
     "name": "stdout",
     "output_type": "stream",
     "text": [
      "total 0\n",
      "-rw-rw-r-- 1 aveey aveey  0 Sep 19 21:59 file1\n",
      "lrwxrwxrwx 1 aveey aveey  5 Sep 19 21:59 link1 -> file1\n",
      "lrwxrwxrwx 1 aveey aveey 16 Sep 19 21:59 temp-link -> /home/aveey/temp\n"
     ]
    }
   ],
   "source": [
    "ls -l"
   ]
  }
 ],
 "metadata": {
  "kernelspec": {
   "display_name": "Bash",
   "language": "bash",
   "name": "bash"
  },
  "language_info": {
   "codemirror_mode": "shell",
   "file_extension": ".sh",
   "mimetype": "text/x-sh",
   "name": "bash"
  }
 },
 "nbformat": 4,
 "nbformat_minor": 5
}
