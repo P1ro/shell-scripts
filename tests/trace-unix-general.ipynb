{
 "cells": [
  {
   "cell_type": "code",
   "execution_count": 1,
   "id": "d8d3fc06",
   "metadata": {},
   "outputs": [],
   "source": [
    "## SETUP (OPTIONAL - USE IF REQUIRED)\n",
    "## Bracketed Paste is disabled to prevent characters after output\n",
    "## Example: \n",
    "## $ echo 'Hii'\n",
    "## | Hi?2004l\n",
    "# bind 'set enable-bracketed-paste off'"
   ]
  },
  {
   "cell_type": "code",
   "execution_count": 2,
   "id": "6dcea75d",
   "metadata": {},
   "outputs": [],
   "source": [
    "## TESTS START FROM LINE 2066 (tomohara-aliases.bash)"
   ]
  },
  {
   "cell_type": "code",
   "execution_count": 3,
   "id": "65d43538",
   "metadata": {},
   "outputs": [
    {
     "name": "stdout",
     "output_type": "stream",
     "text": [
      "PROMPT_PZXQIOEVKEGH\\[\\]>\n"
     ]
    }
   ],
   "source": [
    "## TEST:  Make sure simple prompt used (e.g., no escapes that might contaminate output)\n",
    "## PS1=\"$ \"\n",
    "## TODO: PS1=\"> \"\n",
    "\n",
    "## NOTE: The Jupyter bash kernel requires that PS1 not be modified as they customize it. \n",
    "echo $PS1"
   ]
  },
  {
   "cell_type": "code",
   "execution_count": 4,
   "id": "d623c9a9",
   "metadata": {},
   "outputs": [],
   "source": [
    "## BAD (SUPER BAD)\n",
    "\n",
    "# # Delete all aliases and function\n",
    "# # TODO: Instead start from pristine environment\n",
    "# unalias -a\n",
    "# alias | wc -l\n",
    "# for f in $(typeset -f | egrep '^\\w+'); do unset -f $f; done\n",
    "# typeset -f | egrep '^\\w+' | wc -l"
   ]
  },
  {
   "cell_type": "code",
   "execution_count": 5,
   "id": "0ff8f157",
   "metadata": {},
   "outputs": [
    {
     "name": "stdout",
     "output_type": "stream",
     "text": [
      "446\n"
     ]
    }
   ],
   "source": [
    "# Setting a temp directory for tests\n",
    "TMP=/tmp/test-unix\n",
    "\n",
    "## NOTE: Source it directly from the ./tests directory.\n",
    "BIN_DIR=$PWD/..\n",
    "\n",
    "alias | wc -l"
   ]
  },
  {
   "cell_type": "code",
   "execution_count": 6,
   "id": "ab954c7f",
   "metadata": {},
   "outputs": [],
   "source": [
    "## NOTE: For reproducability, the directory name needs to be fixed\n",
    "## In place of $$, use a psuedo random number (e,g., 3245)\n",
    "## *** All output from one run to the next needs to be the same ***\n",
    "\n",
    "## temp_dir=$TMP/test-$$\n",
    "temp_dir=$TMP/test-3245\n",
    "\n",
    "## OLD\n",
    "# mkdir -p \"$temp_dir\"\n",
    "# # TODO: /bin/rm -rvf \"$temp_dir\"\n",
    "# cd \"$temp_dir\"\n",
    "# pwd\n",
    "\n",
    "command mkdir -p \"$temp_dir\"\n",
    "# # TODO: /bin/rm -rvf \"$temp_dir\"\n",
    "command cd \"$temp_dir\"\n",
    "\n",
    "\n",
    "\n",
    "#ALIAS FOR PRINTING SEPERATION LINES (FOR JUPYTER)\n",
    "alias linebr=\"printf '%*s\\n' \"${COLUMNS:-$(tput cols)}\" '' | tr ' ' -\""
   ]
  },
  {
   "cell_type": "code",
   "execution_count": 7,
   "id": "ec6df159",
   "metadata": {
    "scrolled": true
   },
   "outputs": [
    {
     "name": "stdout",
     "output_type": "stream",
     "text": [
      "447\n",
      "469\n"
     ]
    }
   ],
   "source": [
    "# Count aliases proper\n",
    "alias | wc -l\n",
    "# Count functions\n",
    "typeset -f | egrep '^\\w+' | wc -l"
   ]
  },
  {
   "cell_type": "code",
   "execution_count": 8,
   "id": "65235003",
   "metadata": {},
   "outputs": [],
   "source": [
    "alias testnum=\"sed -r \"s/[0-9]/N/g\"\" \n",
    "alias testuser=\"sed -r \"s/\"$USER\"+/userxf333/g\"\""
   ]
  },
  {
   "cell_type": "code",
   "execution_count": 9,
   "id": "15465d13",
   "metadata": {
    "scrolled": true
   },
   "outputs": [],
   "source": [
    "## BAD\n",
    "# # SOURCING\n",
    "# source $BIN_DIR/tomohara-aliases.bash"
   ]
  },
  {
   "cell_type": "code",
   "execution_count": 10,
   "id": "3c57d3b0",
   "metadata": {},
   "outputs": [
    {
     "name": "stdout",
     "output_type": "stream",
     "text": [
      "NNN\n"
     ]
    }
   ],
   "source": [
    "ps-all | wc -l | testnum"
   ]
  },
  {
   "cell_type": "code",
   "execution_count": 11,
   "id": "2395c71a",
   "metadata": {
    "scrolled": false
   },
   "outputs": [
    {
     "name": "stdout",
     "output_type": "stream",
     "text": [
      " PID %CPU %MEM VSZ RSS   START TIME \n",
      " NNNN N.N N.N NNNNNNN NNNNNNN   NN:NN NN:NN \n",
      " NNNN N.N N.N NNNNNNN NNNNNN   NN:NN NN:NN \n",
      " NNNN NN.N N.N NNNNNNNN NNNNNN   NN:NN NN:NN \n",
      " NNNN N.N N.N NNNNNNN NNNNNN   NN:NN N:NN \n",
      " NNNN N.N N.N NNNNNNN NNNNN   NN:NN N:NN \n",
      " NNNNN N.N N.N NNNNNNN NNNNNN   NN:NN N:NN \n",
      " NNNN N.N N.N NNNNNNN NNNNNN   NN:NN N:NN \n",
      " NNNN N.N N.N NNNNNN NNNNNN   NN:NN N:NN \n",
      " NNNN N.N N.N NNNNNNN NNNNNN   NN:NN N:NN \n"
     ]
    }
   ],
   "source": [
    "# SORTS ALL PROCESS BY TIME\n",
    "# Hidden: USER, TTY, STAT, COMMAND\n",
    "ps-sort-time | head -n 10 | testnum | awk '!($1=$7=$8=$11=\"\")'"
   ]
  },
  {
   "cell_type": "code",
   "execution_count": 12,
   "id": "bc13426e",
   "metadata": {},
   "outputs": [
    {
     "name": "stdout",
     "output_type": "stream",
     "text": [
      " PID %CPU %MEM VSZ RSS   START TIME \n",
      " NNNN N.N N.N NNNNNNN NNNNNNN   NN:NN NN:NN \n",
      " NNNN N.N N.N NNNNNNN NNNNNN   NN:NN NN:NN \n",
      " NNNN NN.N N.N NNNNNNNN NNNNNN   NN:NN NN:NN \n",
      " NNNN N.N N.N NNNNNNN NNNNNN   NN:NN N:NN \n",
      " NNNN N.N N.N NNNNNNN NNNNN   NN:NN N:NN \n",
      " NNNNN N.N N.N NNNNNNN NNNNNN   NN:NN N:NN \n",
      " NNNN N.N N.N NNNNNNN NNNNNN   NN:NN N:NN \n",
      " NNNN N.N N.N NNNNNN NNNNNN   NN:NN N:NN \n",
      " NNNN N.N N.N NNNNNNN NNNNNN   NN:NN N:NN \n"
     ]
    }
   ],
   "source": [
    "# ACTS THE SAME AS ps-sort-time\n",
    "ps-time | head -n 10  | testnum | awk '!($1=$7=$8=$11=\"\")'"
   ]
  },
  {
   "cell_type": "code",
   "execution_count": 13,
   "id": "b688da20",
   "metadata": {},
   "outputs": [
    {
     "name": "stdout",
     "output_type": "stream",
     "text": [
      " PID %CPU %MEM VSZ RSS   START TIME \n",
      " NNNN N.N N.N NNNNNNN NNNNNNN   NN:NN NN:NN \n",
      " NNNN NN.N N.N NNNNNNNN NNNNNN   NN:NN NN:NN \n",
      " NNNN N.N N.N NNNNNNN NNNNNN   NN:NN N:NN \n",
      " NNNN N.N N.N NNNNNNN NNNNNN   NN:NN NN:NN \n",
      " NNNNN N.N N.N NNNNNNN NNNNNN   NN:NN N:NN \n",
      " NNNN N.N N.N NNNNNNN NNNNNN   NN:NN N:NN \n",
      " NNNN N.N N.N NNNNNNN NNNNNN   NN:NN N:NN \n",
      " NNNN N.N N.N NNNNNNNN NNNNNN   NN:NN N:NN \n",
      " NNNN N.N N.N NNNNNNN NNNNNN   NN:NN N:NN \n"
     ]
    }
   ],
   "source": [
    "# SORTS ALL PROCESS BY MEMORY\n",
    "ps-sort-mem | head -n 10  | testnum | awk '!($1=$7=$8=$11=\"\")' "
   ]
  },
  {
   "cell_type": "code",
   "execution_count": 14,
   "id": "775ea494",
   "metadata": {},
   "outputs": [
    {
     "name": "stdout",
     "output_type": "stream",
     "text": [
      " PID %CPU %MEM VSZ RSS   START TIME \n",
      " NNNN N.N N.N NNNNNNN NNNNNNN   NN:NN NN:NN \n",
      " NNNN NN.N N.N NNNNNNNN NNNNNN   NN:NN NN:NN \n",
      " NNNN N.N N.N NNNNNNN NNNNNN   NN:NN N:NN \n",
      " NNNN N.N N.N NNNNNNN NNNNNN   NN:NN NN:NN \n",
      " NNNNN N.N N.N NNNNNNN NNNNNN   NN:NN N:NN \n",
      " NNNN N.N N.N NNNNNNN NNNNNN   NN:NN N:NN \n",
      " NNNN N.N N.N NNNNNNN NNNNNN   NN:NN N:NN \n",
      " NNNN N.N N.N NNNNNNNN NNNNNN   NN:NN N:NN \n",
      " NNNN N.N N.N NNNNNNN NNNNNN   NN:NN N:NN \n"
     ]
    }
   ],
   "source": [
    "# ps-mem IS AN ALTERNATIVE OF ps-sort-mem\n",
    "ps-mem | head -n 10  | testnum | awk '!($1=$7=$8=$11=\"\")'"
   ]
  },
  {
   "cell_type": "code",
   "execution_count": 15,
   "id": "6ed9a120",
   "metadata": {},
   "outputs": [
    {
     "name": "stdout",
     "output_type": "stream",
     "text": [
      "USER         PID %CPU %MEM    VSZ   RSS TTY      STAT START   TIME COMMAND\n"
     ]
    }
   ],
   "source": [
    "# ERROR GENERATED FOR ps-script [OLD]\n",
    "# $ ps-script\n",
    "# | bash: -v: command not found\n",
    "# | bash: -i: command not found\n",
    "# | OSTYPE: Undefined variable.\n",
    "ps-script"
   ]
  },
  {
   "cell_type": "code",
   "execution_count": 16,
   "id": "bf36bf1a",
   "metadata": {},
   "outputs": [
    {
     "name": "stdout",
     "output_type": "stream",
     "text": [
      " UID PID PPID PRI NI VSZ RSS WCHAN STAT TTY TIME COMMAND\n",
      " NNNN NNNNN NNNNN NN N NNNNN NNNN do_wai Ss pts/NN N:NN /usr/bi\n",
      " NNNN NNNNN NNNNN NN N NNNNN NNNN - R+ pts/NN N:NN ps al\n",
      " NNNN NNNNN NNNNN NN N NNNNN NNNN pipe_r S+ pts/NN N:NN grep -E\n",
      " NNNN NNNNN NNNNN NN N NNNNN NNNN pipe_r S+ pts/NN N:NN head -n\n",
      " NNNN NNNNN NNNNN NN N NNNNN NNNN pipe_r S+ pts/NN N:NN sed -r\n",
      " NNNN NNNNN NNNNN NN N NNNNN NNNN pipe_r S+ pts/NN N:NN awk !($\n",
      "--------------------------------------------------------------------------------\n",
      "NNNNN\n"
     ]
    }
   ],
   "source": [
    "ps al | egrep \"(PID|$$)\" | head -n 10 | testnum | awk '!($1=\"\")'\n",
    "linebr\n",
    "# get-process-parent : return parent process-id for PID\n",
    "get-process-parent | testnum"
   ]
  },
  {
   "cell_type": "code",
   "execution_count": 17,
   "id": "e73cd7c1",
   "metadata": {},
   "outputs": [],
   "source": [
    "# # ERROR (To be identified)\n",
    "# $ script-update\n",
    "# | cat: /home/xaea12/temp/tmp/_set_xterm_title.5848.full.list: No such file or directory\n",
    "# | cat: /home/xaea12/temp/tmp/_set_xterm_title.5848.icon.list: No such file or directory\n",
    "# | cat: /home/xaea12/temp/tmp/_set_xterm_title.5848.full.list: No such file or directory\n",
    "# | cat: /home/xaea12/temp/tmp/_set_xterm_title.5848.icon.list: No such file or directory\n",
    "# | \u001b]1;script:5848 test-3245 [/tmp/test-unix/test-3245]\u0007\u001b]2;script:5848 test-3245 [/tmp/test-unix/test-3245]\u0007\u001b]1;script:5848 test-3245 [/tmp/test-unix/test-3245]\u0007\u001b]2;script:5848 test-3245 [/tmp/test-unix/test-3245]\u0007Script started, output log file is '_update-06dec22.log'.\n"
   ]
  },
  {
   "cell_type": "code",
   "execution_count": 18,
   "id": "079b0855",
   "metadata": {},
   "outputs": [
    {
     "name": "stdout",
     "output_type": "stream",
     "text": [
      "How to use the ansi-filter? \n"
     ]
    }
   ],
   "source": [
    "## EXAMPLE FOR ansi-filter (a brief example required)\n",
    "rm -rf ./* > /dev/null\n",
    "echo \"How to use the ansi-filter? \" > ansi-filter-test.txt\n",
    "ansi-filter *.txt"
   ]
  },
  {
   "cell_type": "code",
   "execution_count": 19,
   "id": "1e7238c8",
   "metadata": {},
   "outputs": [],
   "source": [
    "## pause-for-enter: EXITS AFTER PRESSING ENTER, WITH A MESSAGE\n",
    "## DOESN'T WORK FOR JUPYTER, WORKS FOR TERMINAL\n",
    "# $ pause-for-enter\n",
    "# | Press enter to continue \n",
    "## (program terminates after pressing Enter Key)"
   ]
  },
  {
   "cell_type": "code",
   "execution_count": 20,
   "id": "7762153f",
   "metadata": {},
   "outputs": [
    {
     "name": "stdout",
     "output_type": "stream",
     "text": [
      "Done\n"
     ]
    }
   ],
   "source": [
    "echo \"Done\""
   ]
  },
  {
   "cell_type": "code",
   "execution_count": null,
   "id": "0d1949fc",
   "metadata": {},
   "outputs": [],
   "source": []
  }
 ],
 "metadata": {
  "kernelspec": {
   "display_name": "Bash",
   "language": "bash",
   "name": "bash"
  },
  "language_info": {
   "codemirror_mode": "shell",
   "file_extension": ".sh",
   "mimetype": "text/x-sh",
   "name": "bash"
  }
 },
 "nbformat": 4,
 "nbformat_minor": 5
}
