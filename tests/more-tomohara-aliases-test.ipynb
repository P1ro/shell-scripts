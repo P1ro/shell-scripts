{
 "cells": [
  {
   "cell_type": "code",
   "execution_count": 1,
   "metadata": {},
   "outputs": [],
   "source": [
    "# More tests for tomohara-aliases.bash"
   ]
  },
  {
   "cell_type": "code",
   "execution_count": 2,
   "metadata": {},
   "outputs": [],
   "source": [
    "## TEST: cd /usr/local/misc/programs/bash/shell-scripts-aviyan/tests"
   ]
  },
  {
   "cell_type": "code",
   "execution_count": 3,
   "metadata": {},
   "outputs": [
    {
     "name": "stdout",
     "output_type": "stream",
     "text": [
      "tests\n"
     ]
    }
   ],
   "source": [
    "basename $PWD"
   ]
  },
  {
   "cell_type": "code",
   "execution_count": 4,
   "metadata": {},
   "outputs": [],
   "source": [
    "# Setup temp. dir\n",
    "# note: variable not used in rm as a precaution\n",
    "/bin/rm -rf \"/tmp/test-dir-15485863\"\n",
    "test_dir=\"/tmp/test-dir-15485863\"\n",
    "mkdir -p \"$test_dir\"\n",
    "command cd \"$test_dir\""
   ]
  },
  {
   "cell_type": "code",
   "execution_count": 5,
   "metadata": {},
   "outputs": [],
   "source": [
    "#===============================================================================\n",
    "# TODO: find jupyter way to do divider line (or at least bash)"
   ]
  },
  {
   "cell_type": "code",
   "execution_count": 6,
   "metadata": {},
   "outputs": [],
   "source": [
    "# test url-path"
   ]
  },
  {
   "cell_type": "code",
   "execution_count": 7,
   "metadata": {},
   "outputs": [
    {
     "name": "stdout",
     "output_type": "stream",
     "text": [
      "ls: cannot access '../*.html': No such file or directory\n"
     ]
    },
    {
     "ename": "",
     "evalue": "2",
     "output_type": "error",
     "traceback": []
    }
   ],
   "source": [
    "ls ../*.html"
   ]
  },
  {
   "cell_type": "code",
   "execution_count": null,
   "metadata": {},
   "outputs": [],
   "source": [
    "dir=$(realpath \"..\")\n",
    "url-path ../template.html | perl -pe \"s@$dir@/x/y/z@;\""
   ]
  },
  {
   "cell_type": "code",
   "execution_count": null,
   "metadata": {},
   "outputs": [],
   "source": [
    "# Test dir alias \n",
    "# note: time-dependent details changed\n",
    "umask ug=rwx,o=r\n",
    "mkdir abc def\n",
    "touch ghi jkl\n",
    "echo > mno\n",
    "dir | perl -pe \"s/ (\\d+) [\\w ]{2,8}/ \\1 username /; s/\\w\\w\\w \\d+ \\d\\d:\\d\\d/mon \\1 hh:mm/;\";"
   ]
  },
  {
   "cell_type": "code",
   "execution_count": null,
   "metadata": {},
   "outputs": [],
   "source": []
  }
 ],
 "metadata": {
  "kernelspec": {
   "display_name": "Bash",
   "language": "bash",
   "name": "bash"
  },
  "language_info": {
   "codemirror_mode": "shell",
   "file_extension": ".sh",
   "mimetype": "text/x-sh",
   "name": "bash"
  }
 },
 "nbformat": 4,
 "nbformat_minor": 4
}
