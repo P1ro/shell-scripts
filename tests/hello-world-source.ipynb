{
 "cells": [
  {
   "cell_type": "code",
   "execution_count": 1,
   "id": "0d3585e8",
   "metadata": {},
   "outputs": [],
   "source": [
    "function count-aliases { alias | wc -l; }\n",
    "## OLD (AND BAD MAYBE?)\n",
    "# function clear-aliases { unalias -a; }"
   ]
  },
  {
   "cell_type": "code",
   "execution_count": 2,
   "id": "34d3ee50",
   "metadata": {},
   "outputs": [],
   "source": [
    "# Global Setup\n",
    "\n",
    "## NEW\n",
    "alias testuser=\"sed -r \"s/\"$USER\"+/userxf333/g\"\"\n",
    "alias testnum=\"sed -r \"s/[0-9]/N/g\"\" "
   ]
  },
  {
   "cell_type": "code",
   "execution_count": 3,
   "id": "c28b2baf",
   "metadata": {},
   "outputs": [
    {
     "name": "stdout",
     "output_type": "stream",
     "text": [
      "NNN\n"
     ]
    }
   ],
   "source": [
    "## OLD\n",
    "# clear-aliases\n",
    "count-aliases | testnum"
   ]
  },
  {
   "cell_type": "code",
   "execution_count": 4,
   "id": "28fbc81f",
   "metadata": {},
   "outputs": [],
   "source": [
    "# Global Setup\n",
    "function count-aliases { alias | wc -l; }\n",
    "function list-functions { typeset -f | egrep '^[A-ZZa-z_-]'; }\n",
    "function count-functions { list-functions | wc -l; }"
   ]
  },
  {
   "cell_type": "code",
   "execution_count": 5,
   "id": "ec98d1a1",
   "metadata": {},
   "outputs": [],
   "source": [
    "## OLD\n",
    "# # Get alias definitions\n",
    "# # Note: assumes Jupyter run from ./tests directory\n",
    "# ## DEBUG: set -o xtrace\n",
    "# BIN_DIR=$PWD/..\n",
    "# echo $BIN_DIR\n",
    "# # source $BIN_DIR/tomohara-aliases.bash"
   ]
  },
  {
   "cell_type": "code",
   "execution_count": 6,
   "id": "3bf78d9a",
   "metadata": {},
   "outputs": [],
   "source": [
    "## BAD\n",
    "# source $BIN_DIR/tomohara-aliases.bash"
   ]
  },
  {
   "cell_type": "code",
   "execution_count": 7,
   "id": "4fea4a3e",
   "metadata": {},
   "outputs": [
    {
     "name": "stdout",
     "output_type": "stream",
     "text": [
      "use cls instead (or command clear)\n"
     ]
    }
   ],
   "source": [
    "clear"
   ]
  },
  {
   "cell_type": "code",
   "execution_count": 8,
   "id": "c20e6d75",
   "metadata": {},
   "outputs": [
    {
     "name": "stdout",
     "output_type": "stream",
     "text": [
      "GNU bash, version N.N.NN(N)-release (xNN_NN-pc-linux-gnu)\n",
      "These shell commands are defined internally.  Type `help' to see this list.\n",
      "Type `help name' to find out more about the function `name'.\n",
      "Use `info bash' to find out more about the shell in general.\n",
      "Use `man -k' or `info' to find out more about commands not in this list.\n"
     ]
    }
   ],
   "source": [
    "## OLD\n",
    "# help\n",
    "help | testnum | head -n 5"
   ]
  },
  {
   "cell_type": "code",
   "execution_count": 9,
   "id": "6ac91d4b",
   "metadata": {},
   "outputs": [],
   "source": [
    "history -c"
   ]
  },
  {
   "cell_type": "code",
   "execution_count": 10,
   "id": "17bce77c",
   "metadata": {},
   "outputs": [
    {
     "name": "stdout",
     "output_type": "stream",
     "text": [
      "    N  [NNNN-NN-NN NN:NN:NN] echo $?\n",
      "    N  [NNNN-NN-NN NN:NN:NN] ## OLD\n",
      "    N  [NNNN-NN-NN NN:NN:NN] # hist\n",
      "    N  [NNNN-NN-NN NN:NN:NN] hist | testnum\n"
     ]
    }
   ],
   "source": [
    "## OLD\n",
    "# hist\n",
    "hist | testnum"
   ]
  }
 ],
 "metadata": {
  "kernelspec": {
   "display_name": "Bash",
   "language": "bash",
   "name": "bash"
  },
  "language_info": {
   "codemirror_mode": "shell",
   "file_extension": ".sh",
   "mimetype": "text/x-sh",
   "name": "bash"
  }
 },
 "nbformat": 4,
 "nbformat_minor": 5
}
