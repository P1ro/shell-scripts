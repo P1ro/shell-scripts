{
 "cells": [
  {
   "cell_type": "code",
   "execution_count": 1,
   "id": "5d49fe75",
   "metadata": {},
   "outputs": [
    {
     "name": "stdout",
     "output_type": "stream",
     "text": [
      "[PEXP\\[\\]ECT_PROMPT>\n"
     ]
    }
   ],
   "source": [
    "## TEST:  Make sure simple prompt used (e.g., no escapes that might contaminate output)\n",
    "## PS1=\"$ \"\n",
    "## TODO: PS1=\"> \"\n",
    "\n",
    "## NOTE: The Jupyter bash kernel requires that PS1 not be modified as they customize it. \n",
    "echo $PS1"
   ]
  },
  {
   "cell_type": "code",
   "execution_count": 2,
   "id": "9d4c30cc",
   "metadata": {},
   "outputs": [
    {
     "name": "stdout",
     "output_type": "stream",
     "text": [
      "0\n",
      "0\n"
     ]
    }
   ],
   "source": [
    "# Delete all aliases and function\n",
    "# TODO: Instead start from pristine environment\n",
    "unalias -a\n",
    "alias | wc -l\n",
    "for f in $(typeset -f | egrep '^\\w+'); do unset -f $f; done\n",
    "typeset -f | egrep '^\\w+' | wc -l"
   ]
  },
  {
   "cell_type": "code",
   "execution_count": 3,
   "id": "cddb7968",
   "metadata": {},
   "outputs": [
    {
     "name": "stdout",
     "output_type": "stream",
     "text": [
      "0\n"
     ]
    }
   ],
   "source": [
    "# Setting a temp directory for tests\n",
    "TMP=/tmp/test-trace-misc\n",
    "\n",
    "## NOTE: Source it directly from the ./tests directory.\n",
    "BIN_DIR=$PWD/..\n",
    "## You will need to run jupyter from that directory.\n",
    "alias | wc -l"
   ]
  },
  {
   "cell_type": "code",
   "execution_count": 4,
   "id": "89a4f57b",
   "metadata": {},
   "outputs": [
    {
     "name": "stdout",
     "output_type": "stream",
     "text": [
      "/tmp/test-trace-misc/test-^\\d{2}[/-]\\d{2}[/-]\\d{4}$\n"
     ]
    }
   ],
   "source": [
    "## NOTE: For reproducability, the directory name needs to be fixed\n",
    "## In place of $$, use a psuedo random number (e,g., 1210)\n",
    "## *** All output from one run to the next needs to be the same ***\n",
    "## temp_dir=$TMP/test-$$\n",
    "tempRegex='^\\d{2}[/-]\\d{2}[/-]\\d{4}$'\n",
    "temp_dir=$TMP/test-$tempRegex\n",
    "\n",
    "mkdir -p \"$temp_dir\"\n",
    "# TODO: /bin/rm -rvf \"$temp_dir\"\n",
    "cd \"$temp_dir\"\n",
    "pwd\n",
    "\n",
    "#ALIAS FOR PRINTING SEPERATION LINES (FOR JUPYTER)\n",
    "alias linebr=\"printf '%*s\\n' \"${COLUMNS:-$(tput cols)}\" '' | tr ' ' -\""
   ]
  },
  {
   "cell_type": "code",
   "execution_count": 5,
   "id": "c10b6bb2",
   "metadata": {},
   "outputs": [
    {
     "name": "stdout",
     "output_type": "stream",
     "text": [
      "1\n",
      "0\n"
     ]
    }
   ],
   "source": [
    "# Count aliases proper\n",
    "alias | wc -l\n",
    "# Count functions\n",
    "typeset -f | egrep '^\\w+' | wc -l"
   ]
  },
  {
   "cell_type": "code",
   "execution_count": 6,
   "id": "e149fbc9",
   "metadata": {},
   "outputs": [],
   "source": [
    "##1 SHOWS HISTORY OF BASH COMMANDS\n",
    "alias hist='history $LINES'\n",
    "##2 SHOWS HISTORY WITHOUT TIMESTAMPS\n",
    "function h { hist | perl -pe 's/^(\\s*\\d+\\s*)(\\[[^\\]]+\\])(.*)/$1$3/;'; }\n",
    "\n",
    "## CREATES ERROR (INVALID SYNTAX)\n",
    "# $ hist\n",
    "# $ h"
   ]
  },
  {
   "cell_type": "code",
   "execution_count": 7,
   "id": "ed1a5eb4",
   "metadata": {},
   "outputs": [
    {
     "name": "stdout",
     "output_type": "stream",
     "text": [
      "DDD MMM  N NN:NN:NN NNNN\n"
     ]
    }
   ],
   "source": [
    "##3 ASCTIME\n",
    "function asctime() { perl -e 'print (scalar localtime($1));'; echo ''; }\n",
    "asctime | perl -pe 's/\\d/N/g; s/\\w+ \\w+/DDD MMM/;'"
   ]
  },
  {
   "cell_type": "code",
   "execution_count": 8,
   "id": "f7c6a03a",
   "metadata": {},
   "outputs": [
    {
     "name": "stdout",
     "output_type": "stream",
     "text": [
      " TTY TIME CMD\n",
      " pts/3 00:00:00 bash\n",
      " pts/3 00:00:00 ps\n",
      " pts/3 00:00:00 bash\n",
      " pts/3 00:00:00 awk\n",
      " pts/3 00:00:00 perl\n"
     ]
    }
   ],
   "source": [
    "##4 FILTER DIRECTORY NAMES\n",
    "function filter-dirnames () { perl -pe 's/\\/[^ \\\"]+\\/([^ \\/\\\"]+)/$1/g;'; }\n",
    "\n",
    "# awk is used for removing PID column (1st col)\n",
    "ps | filter-dirnames | awk '!($1=\"\")'"
   ]
  },
  {
   "cell_type": "code",
   "execution_count": 9,
   "id": "0a69f15f",
   "metadata": {},
   "outputs": [
    {
     "name": "stdout",
     "output_type": "stream",
     "text": [
      "99,012,342,305,324,254\n"
     ]
    }
   ],
   "source": [
    "##5 COMMAIZE NUMBERS\n",
    "function comma-ize-number () { perl -pe 'while (/\\d\\d\\d\\d/) { s/(\\d)(\\d\\d\\d)([^\\d])/\\1,\\2\\3/g; } '; }\n",
    "\n",
    "echo '99012342305324254' | comma-ize-number"
   ]
  },
  {
   "cell_type": "code",
   "execution_count": 10,
   "id": "fd7d2c34",
   "metadata": {},
   "outputs": [
    {
     "name": "stdout",
     "output_type": "stream",
     "text": [
      "7.45G\n"
     ]
    }
   ],
   "source": [
    "##6 APPLYING NUMERIC SUFFIXES\n",
    "\n",
    "function apply-numeric-suffixes () {\n",
    "    local just_once=\"$1\"\n",
    "    local g=\"g\";\n",
    "    if [ \"$just_once\" = \"1\" ]; then g=\"\"; fi\n",
    "    perl -pe '$suffixes=\"_KMGT\";  s@\\b(\\d{4,15})(\\s)@$pow = int(log($1)/log(1024));  $new_num=($1/1024**$pow);  $suffix=substr($suffixes, $pow, 1);  sprintf(\"%.3g%s%s\", $new_num, $suffix, $2)@e'\"$g;\"\n",
    "}\n",
    "\n",
    "echo \"8000000000\" | apply-numeric-suffixes"
   ]
  },
  {
   "cell_type": "code",
   "execution_count": 11,
   "id": "d6e23378",
   "metadata": {},
   "outputs": [
    {
     "name": "stdout",
     "output_type": "stream",
     "text": [
      "7.45T\n",
      "7.63G\n"
     ]
    }
   ],
   "source": [
    "##6.1 APPLYING USAGE NUMERIC SUFFIXES\n",
    "function apply-usage-numeric-suffixes() {\n",
    "    perl -pe 's@^(\\d+)(?=\\s)@$1 * 1024@e;' | apply-numeric-suffixes 1\n",
    "}\n",
    "\n",
    "echo \"8000000000\" | apply-usage-numeric-suffixes\n",
    "echo \"8000000\" | apply-usage-numeric-suffixes "
   ]
  },
  {
   "cell_type": "code",
   "execution_count": 12,
   "id": "28d9cce7",
   "metadata": {},
   "outputs": [],
   "source": [
    "#7 usage-pp\n",
    "## BATSPP 2.1.X EXCEPTION ERROR AT LINE 8\n",
    "\n",
    "function usage {\n",
    "    output_file=$(default_assignment \"$1\" \"usage.list\")\n",
    "    rename-with-file-date \"$output_file\";\n",
    "    $NICE du --block-size=1K --one-file-system 2>&1 | $NICE sort -rn | apply-usage-numeric-suffixes >| $output_file 2>&1;\n",
    "    $PAGER $output_file;\n",
    "}\n",
    "\n",
    "function usage-alt {\n",
    "    local output_file=$TEMP/$(basename $PWD)\"-usage.list\";\n",
    "    usage \"$output_file\"\n",
    "}\n",
    "\n",
    "function byte-usage () { output_file=\"usage.bytes.list\"; backup-file $output_file; $NICE du --bytes --one-file-system 2>&1 | $NICE sort -rn | apply-usage-numeric-suffixes >| $output_file 2>&1; $PAGER $output_file; }\n",
    "\n",
    "alias usage-pp='usage | apply-usage-numeric-suffixes | $PAGER'"
   ]
  },
  {
   "cell_type": "code",
   "execution_count": 13,
   "id": "95bda88c",
   "metadata": {},
   "outputs": [],
   "source": [
    "# ERROR GENERATED - MULTIPLE\n",
    "# $ ups a > psa.txt\n",
    "# $ usage psa.txt\n",
    "# | bash: ups: command not found\n",
    "# | bash: default_assignment: command not found\n",
    "# | bash: rename-with-file-date: command not found\n",
    "# | bash: $output_file: ambiguous redirect\n",
    "# | sort: fflush failed: 'standard output': Broken pipe\n",
    "# | sort: write error"
   ]
  },
  {
   "cell_type": "code",
   "execution_count": 14,
   "id": "8227ef2a",
   "metadata": {},
   "outputs": [],
   "source": [
    "#8 number-columns(file): number each column in first line of tabular file\n",
    "function number-columns () { head -1 \"$1\" | perl -0777 -pe '$c = 1; s/^/1: /; s/\\t/\"\\t\" . ++$c . \": \"/eg;'; };\n",
    "function number-columns-comma () { head -1 \"$1\" | perl -pe 's/,/\\t/g;' | number-columns -; }\n"
   ]
  },
  {
   "cell_type": "code",
   "execution_count": 15,
   "id": "db031306",
   "metadata": {},
   "outputs": [
    {
     "name": "stdout",
     "output_type": "stream",
     "text": [
      "1: THIS IS THE START\n",
      "1: USER         PID %CPU %MEM    VSZ   RSS TTY      STAT START   TIME COMMAND\n"
     ]
    }
   ],
   "source": [
    "#8.1) \n",
    "rm -rf ./*\n",
    "mkdir backup\n",
    "printf \"THIS IS THE START\\nTHIS IS A TEST\\nTHIS IS A TEST\\nTHIS IS A TEST\\nTHIS IS A TEST\\nTHIS IS A TEST\\nTHIS IS THE END\\n\" > thisisatest.txt\n",
    "ps -aux > process.txt\n",
    "\n",
    "number-columns thisisatest.txt\n",
    "number-columns-comma process.txt"
   ]
  },
  {
   "cell_type": "code",
   "execution_count": 16,
   "id": "ae8977b2",
   "metadata": {},
   "outputs": [
    {
     "name": "stdout",
     "output_type": "stream",
     "text": [
      "THIS IS THE START\n",
      "THIS IS A TEST\n",
      "THIS IS A TEST\n",
      "THIS IS A TEST\n",
      "THIS IS A TEST\n",
      "THIS IS A TEST\n",
      "THIS IS THE END\n",
      "--------------------------------------------------------------------------------\n",
      "THIS IS THE END\n",
      "THIS IS A TEST\n",
      "THIS IS A TEST\n",
      "THIS IS A TEST\n",
      "THIS IS A TEST\n",
      "THIS IS A TEST\n",
      "THIS IS THE START\n"
     ]
    }
   ],
   "source": [
    "#9) reverse REVERSES cat COMMAND\n",
    "alias reverse='tac'\n",
    "cat thisisatest.txt\n",
    "linebr\n",
    "reverse thisisatest.txt"
   ]
  },
  {
   "cell_type": "code",
   "execution_count": 17,
   "id": "79f774a2",
   "metadata": {},
   "outputs": [],
   "source": [
    "#10) backup-file\n",
    "function backup-file () { local file=\"$1\"; if [ -e \"$file\" ]; then $BIN_DIR/dobackup.sh \"$file\"; fi; }"
   ]
  },
  {
   "cell_type": "code",
   "execution_count": 18,
   "id": "29a5af6d",
   "metadata": {},
   "outputs": [
    {
     "name": "stdout",
     "output_type": "stream",
     "text": [
      "Backing up 'thisisatest.txt' to './backup/thisisatest.txt'\n"
     ]
    }
   ],
   "source": [
    "## BATSPP 2.1.X EXCEPTION ERROR AT LINE 4 (OUTPUT)\n",
    "backup-file thisisatest.txt"
   ]
  },
  {
   "cell_type": "code",
   "execution_count": 19,
   "id": "fb4b42e0",
   "metadata": {
    "scrolled": true
   },
   "outputs": [],
   "source": [
    "function byte-usage () { output_file=\"usage.bytes.list\"; backup-file $output_file; $NICE du --bytes --one-file-system 2>&1 | $NICE sort -rn | apply-usage-numeric-suffixes >| $output_file 2>&1; $PAGER $output_file; }"
   ]
  },
  {
   "cell_type": "code",
   "execution_count": 20,
   "id": "a8c89aa1",
   "metadata": {},
   "outputs": [
    {
     "name": "stdout",
     "output_type": "stream",
     "text": [
      "40M\t.\n",
      "4.11M\t./backup\n"
     ]
    }
   ],
   "source": [
    "## BATSPP 2.1.X EXCEPTION ERROR AT LINE 5 (OUTPUT)\n",
    "byte-usage process.txt\n",
    "# (Same output for 'byte-usage \"Hi Mom\"' and 'byte-usage thisisatest.txt')"
   ]
  },
  {
   "cell_type": "code",
   "execution_count": 21,
   "id": "3e01b873",
   "metadata": {},
   "outputs": [],
   "source": [
    "\n",
    "function check-errors () { (DEBUG_LEVEL=1 check_errors.perl -context=5 \"$@\") 2>&1 | $PAGER; }\n",
    "function check-all-errors () { (DEBUG_LEVEL=1 check_errors.perl -warnings -relaxed -context=5 \"$@\") 2>&1 | $PAGER; }\n",
    "alias check-warnings='echo \"*** Error: use check-all-errors instead ***\"; echo \"    check-all-errors\"'\n",
    "alias check-all-warnings='check-all-errors -strict'\n",
    "\n",
    "function check-errors-excerpt () {\n",
    "    local base=\"$TMP/check-errors-excerpt-$$\"\n",
    "    local head=\"$base.head\"\n",
    "    local tail=\"$base.tail\"\n",
    "    check-errors \"$@\" | head >| $head;\n",
    "    cat \"$head\"\n",
    "    check-errors \"$@\" | tail >| $tail;\n",
    "    diff \"$head\" \"$tail\" >| /dev/null\n",
    "    if [ $? != 0 ]; then\n",
    "        echo \"\\$?=$?\"\n",
    "        cat \"$tail\";\n",
    "    fi\n",
    "}"
   ]
  },
  {
   "cell_type": "code",
   "execution_count": 22,
   "id": "9f2bfe8c",
   "metadata": {
    "scrolled": true
   },
   "outputs": [
    {
     "name": "stdout",
     "output_type": "stream",
     "text": [
      "process.txt\n",
      "--------------------------------------------------------------------------------\n",
      "process.txt\n",
      "--------------------------------------------------------------------------------\n",
      "*** Error: use check-all-errors instead ***\n",
      "    check-all-errors\n",
      "--------------------------------------------------------------------------------\n",
      "\n",
      "usage: check_errors.perl [options]\n",
      "\n",
      "options = [-warnings] [-context=N] [-no_astericks] [-skip_ruby_lib] [-relaxed | -strict]\n",
      "\n",
      "ex: check_errors.perl whatever\n",
      "\n",
      "\n",
      "Notes:\n",
      "- The default context is 1\n",
      "- Warnings are skipped by default\n",
      "- Use -no_astericks if input uses ***'s outside of error contexts\n",
      "Use -relaxed to exclude special cases (e.g., xyz='error')\n",
      "\n",
      "--------------------------------------------------------------------------------\n",
      "process.txt\n"
     ]
    }
   ],
   "source": [
    "#11 - LOG FILES ARE REQUIRED FOR check-errors\n",
    "## BATSPP 2.1.X EXCEPTION ERROR AT LINE 10 (OUTPUT)\n",
    "\n",
    "check-errors process.txt\n",
    "linebr\n",
    "check-all-errors process.txt\n",
    "linebr\n",
    "check-warnings\n",
    "linebr\n",
    "check-all-warnings\n",
    "linebr\n",
    "check-errors-excerpt process.txt"
   ]
  },
  {
   "cell_type": "code",
   "execution_count": 23,
   "id": "b39ba4ab",
   "metadata": {},
   "outputs": [],
   "source": [
    "function tkdiff () { wish -f $BIN_DIR/tkdiff.tcl \"$@\" & }\n",
    "alias rdiff='rev_vdiff.sh'\n",
    "alias tkdiff-='tkdiff -noopt'\n",
    "function kdiff () { kdiff.sh \"$@\" & }\n",
    "alias vdiff='kdiff'"
   ]
  },
  {
   "cell_type": "code",
   "execution_count": 24,
   "id": "2957ef23",
   "metadata": {},
   "outputs": [],
   "source": [
    "# # 12) rdiff, tkdiff, vdiff - ERROR IN COMMANDS (as shown)\n",
    "\n",
    "# $ rdiff process.txt psa.txt\n",
    "# $ linebr\n",
    "# $ tkdiff- process.txt psa.txt\n",
    "# $ linebr\n",
    "# $ vdiff process.txt \n",
    "\n",
    "# | Echo: Command not found.\n",
    "# | ???\n",
    "# | cvs: Command not found.\n",
    "# | \n",
    "# | echo: No match.\n",
    "# | echo: No match.\n",
    "# | issuing: tkdiff.tcl -r.-1 process.txt\n",
    "# | [1] 5609\n",
    "# | tkdiff.tcl: Command not found.\n",
    "# | --------------------------------------------------------------------------------\n",
    "# | bash: tkdiff: command not found\n",
    "# | --------------------------------------------------------------------------------\n",
    "# | [1] 5615\n"
   ]
  },
  {
   "cell_type": "code",
   "execution_count": 25,
   "id": "1b8247d1",
   "metadata": {},
   "outputs": [],
   "source": [
    "# ERRORS UPDATED \n",
    "\n",
    "# $ tkdiff process.txt psa.txt\n",
    "#   linebr\n",
    "#   vdiff process.txt psa.txt\n",
    "#   linebr\n",
    "#   rdiff process.txt \n",
    "#   linebr\n",
    "\n",
    "# | [1] 6322\n",
    "# | --------------------------------------------------------------------------------\n",
    "# | Error in startup script: couldn't read file \"/home/xaea12/tom-project/shell-scripts/tests/../tkdiff.tcl\": no such file or directory\n",
    "# | [2] 6325\n",
    "# | [1]   Exit 1                  wish -f $BIN_DIR/tkdiff.tcl \"$@\"\n",
    "# | /home/xaea12/bin/kdiff.sh: line 56: /kdiff-6325.log: Permission denied\n",
    "# | --------------------------------------------------------------------------------\n",
    "# | [2]+  Done                    kdiff.sh \"$@\"\n",
    "# | Echo: Command not found.\n",
    "# | ???\n",
    "# | cvs: Command not found.\n",
    "# | \n",
    "# | echo: No match.\n",
    "# | echo: No match.\n",
    "# | issuing: tkdiff.tcl -r.-1 process.txt\n",
    "# | [1] 6364\n",
    "# | tkdiff.tcl: Command not found.\n",
    "# | --------------------------------------------------------------------------------\n"
   ]
  },
  {
   "cell_type": "code",
   "execution_count": 26,
   "id": "d5cf2239",
   "metadata": {},
   "outputs": [],
   "source": [
    "# diff\n",
    "diff_options=\"--ignore-space-change --ignore-blank-lines\"\n",
    "alias diff='command diff $diff_options'\n",
    "alias diff-default='command diff'\n",
    "alias diff-ignore-spacing='diff --ignore-all-space'\n",
    "\n",
    "alias do-diff='do_diff.sh'\n",
    "\n",
    "function diff-rev () {\n",
    "    local diff_program=\"diff\"\n",
    "    if [ \"$1\" = \"--diff-prog\" ]; then\n",
    "        diff_program=\"$2\"\n",
    "        shift 2\n",
    "    fi\n",
    "    local right_file=\"$1\"\n",
    "    local left_file=\"$2\"\n",
    "    \n",
    "    if [ -d \"$left_file\" ]; then left_file=\"$left_file\"/$(basename \"$right_file\"); fi\n",
    "    \"$diff_program\" \"$left_file\" \"$right_file\"\n",
    "}\n",
    "alias kdiff-rev='diff-rev --diff-prog kdiff'\n",
    "alias diff-log-output='compare-log-output.sh'\n",
    "alias vdiff-rev=kdiff-rev"
   ]
  },
  {
   "cell_type": "code",
   "execution_count": 27,
   "id": "0c36d6d5",
   "metadata": {
    "scrolled": true
   },
   "outputs": [],
   "source": [
    "# # TESTING diff COMMANDS\n",
    "\n",
    "# # EVERY DIFF COMMANDS WORK NORMALLY, BUT TESTS HALT AFTER\n",
    "\n",
    "# linebr\n",
    "ps -u > process1.txt\n",
    "ps -u > process2.txt\n"
   ]
  },
  {
   "cell_type": "code",
   "execution_count": 28,
   "id": "a19413d5",
   "metadata": {},
   "outputs": [],
   "source": [
    "# #1) diff - HALTS PROCESS (WORKS FINE)\n",
    "\n",
    "# $ diff process1.txt process2.txt #(DIFFERENTIATING PROCESSES FOR DIFFERENT INSTANCES)"
   ]
  },
  {
   "cell_type": "code",
   "execution_count": 29,
   "id": "169b9a64",
   "metadata": {},
   "outputs": [],
   "source": [
    "# #2) diff-default - HALTED (WORKS FINE)\n",
    "# $ diff-default process1.txt process2.txt"
   ]
  },
  {
   "cell_type": "code",
   "execution_count": 30,
   "id": "636168eb",
   "metadata": {},
   "outputs": [],
   "source": [
    "# #3) diff-ignore-spacing -HALTED (WORKS FINE)\n",
    "# $ diff-ignore-spacing process1.txt process2.txt"
   ]
  },
  {
   "cell_type": "code",
   "execution_count": 31,
   "id": "486aec7d",
   "metadata": {},
   "outputs": [],
   "source": [
    "# #4) do-diff - HALTED (WORKS FINE)\n",
    "# $ do-diff process1.txt process2.txt"
   ]
  },
  {
   "cell_type": "code",
   "execution_count": 32,
   "id": "903ac57f",
   "metadata": {},
   "outputs": [],
   "source": [
    "# #5) kdiff-rev & vdiff-rev PERFORM THE SAME TASK - HALTS (WORKS FINE)\n",
    "# $ kdiff-rev process1.txt process2.txt\n",
    "# linebr\n",
    "# $ vdiff-rev process1.txt process2.txt"
   ]
  },
  {
   "cell_type": "code",
   "execution_count": 33,
   "id": "cbe6782b",
   "metadata": {},
   "outputs": [],
   "source": [
    "# 6) diff-log-output\n",
    "\n",
    "# $ ls\n",
    "# $ linebr\n",
    "# $ diff-log-output logger1.log logger2.log\n",
    "\n",
    "# ERROR GENERATED TO BE FIXED\n",
    "\n",
    "# bash: completion: function `_completion_loader' not found (COMPLETE COMMENT FILE RETURNS THIS)"
   ]
  },
  {
   "cell_type": "code",
   "execution_count": 34,
   "id": "c401e80e",
   "metadata": {},
   "outputs": [],
   "source": [
    "mkdir -p $HOME/info\n",
    "echo \"THIS IS A NOICE SIGNATURE\" > $HOME/info/.noice-signature"
   ]
  },
  {
   "cell_type": "code",
   "execution_count": 35,
   "id": "ae4468ab",
   "metadata": {},
   "outputs": [
    {
     "name": "stdout",
     "output_type": "stream",
     "text": [
      "/home/aveey/info/.noice-signature:\n",
      "THIS IS A NOICE SIGNATURE\n"
     ]
    }
   ],
   "source": [
    "## TODO: echo filename and then cat??\n",
    "## BATSPP 2.1.X EXCEPTION ERROR AT LINE 6\n",
    "\n",
    "function signature () {\n",
    "    if [ \"$1\" = \"\" ]; then\n",
    "        $LS \"$HOME/info/.$1-signature\"\n",
    "        echo \"Usage: signature dotfile-prefix\"\n",
    "        echo \"ex: signature scrappycito\"\n",
    "        return;\n",
    "    fi\n",
    "    local filename=\"$HOME/info/.$1-signature\"\n",
    "    echo \"$filename:\"\n",
    "    cat \"$filename\"\n",
    "    }\n",
    "alias cell-signature='signature cell'\n",
    "alias home-signature='signature home'\n",
    "alias po-signature='signature po'\n",
    "alias tpo-signature='signature tpo'\n",
    "alias tpo-scrappycito-signature='signature tpo-scrappycito'\n",
    "alias scrappycito-signature='signature scrappycito'\n",
    "alias farm-signature='signature farm'\n",
    "alias circulo-signature='signature circulo'\n",
    "# TODO: automatically derive aliases for ~/info/*.signature*\n",
    "\n",
    "signature noice"
   ]
  },
  {
   "cell_type": "code",
   "execution_count": 36,
   "id": "1c375a69",
   "metadata": {},
   "outputs": [
    {
     "name": "stdout",
     "output_type": "stream",
     "text": [
      "Backing up 'process1.txt' to './backup/process1.txt'\n"
     ]
    }
   ],
   "source": [
    "# most-recent-backup(file): returns most recent backup for FILE in ./backup, accounting for revisions (e.g., extract_matches.perl.~4~)\n",
    "## BATSPP 2.1.X EXCEPTION ERROR AT LINE 13\n",
    "\n",
    "function most-recent-backup() {\n",
    "    if [ '$1' = '' ]; then\n",
    "        echo 'usage: most-recent-backup filename'\n",
    "        echo 'use BACKUP_DIR=dir ... to override use of ./backup'\n",
    "        return\n",
    "    fi\n",
    "    local file='$1';\n",
    "        local dir='$BACKUP_DIR'; if [ '$dir' = '' ]; then dir=./backup; fi\n",
    "    \n",
    "    $LS -t $dir/* | /bin/egrep '/$file(~|.~*)?' | head -1;\n",
    "}\n",
    "\n",
    "function diff-backup-helper {\n",
    "    local diff='$1'; local file='$2'; \n",
    "    '$diff' $(most-recent-backup \"$file\") '$file';\n",
    "}\n",
    "\n",
    "alias diff-backup='diff-backup-helper diff'\n",
    "alias kdiff-backup='diff-backup-helper kdiff'\n",
    "\n",
    "$BIN_DIR/dobackup.sh process1.txt"
   ]
  },
  {
   "cell_type": "code",
   "execution_count": 37,
   "id": "982cf774",
   "metadata": {},
   "outputs": [
    {
     "name": "stdout",
     "output_type": "stream",
     "text": [
      "process1.txt  thisisatest.txt\n"
     ]
    }
   ],
   "source": [
    "ls ./backup/"
   ]
  },
  {
   "cell_type": "code",
   "execution_count": 38,
   "id": "bc964696",
   "metadata": {},
   "outputs": [],
   "source": [
    "## WORKS FINE - HALTS THE NOTEBOOK TESTS\n",
    "# $ diff-backup process1.txt"
   ]
  },
  {
   "cell_type": "code",
   "execution_count": 39,
   "id": "198d4bae",
   "metadata": {},
   "outputs": [],
   "source": [
    "## WORKS FINE - HALTS THE NOTEBOOK TESTS\n",
    "# $ kdiff-backup process1.txt"
   ]
  },
  {
   "cell_type": "code",
   "execution_count": null,
   "id": "0982951e",
   "metadata": {},
   "outputs": [],
   "source": []
  }
 ],
 "metadata": {
  "kernelspec": {
   "display_name": "Bash",
   "language": "bash",
   "name": "bash"
  },
  "language_info": {
   "codemirror_mode": "shell",
   "file_extension": ".sh",
   "mimetype": "text/x-sh",
   "name": "bash"
  }
 },
 "nbformat": 4,
 "nbformat_minor": 5
}
