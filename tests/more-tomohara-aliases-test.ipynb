{
 "cells": [
  {
   "cell_type": "code",
   "execution_count": 1,
   "metadata": {},
   "outputs": [],
   "source": [
    "# More tests for tomohara-aliases.bash"
   ]
  },
  {
   "cell_type": "code",
   "execution_count": 2,
   "metadata": {},
   "outputs": [],
   "source": [
    "## TEST: cd /usr/local/misc/programs/bash/shell-scripts-aviyan/tests"
   ]
  },
  {
   "cell_type": "code",
   "execution_count": 3,
   "metadata": {},
   "outputs": [
    {
     "name": "stdout",
     "output_type": "stream",
     "text": [
      "tests\n"
     ]
    }
   ],
   "source": [
    "basename $PWD"
   ]
  },
  {
   "cell_type": "code",
   "execution_count": 4,
   "metadata": {},
   "outputs": [],
   "source": [
    "# Setup temp. dir\n",
    "# note: variable not used in rm as a precaution\n",
    "/bin/rm -rf \"/tmp/test-dir-15485863\"\n",
    "test_dir=\"/tmp/test-dir-15485863\"\n",
    "mkdir -p \"$test_dir\"\n",
    "command cd \"$test_dir\""
   ]
  },
  {
   "cell_type": "code",
   "execution_count": 5,
   "metadata": {},
   "outputs": [],
   "source": [
    "#===============================================================================\n",
    "# TODO: find jupyter way to do divider line (or at least bash)"
   ]
  },
  {
   "cell_type": "code",
   "execution_count": 6,
   "metadata": {},
   "outputs": [],
   "source": [
    "# test url-path\n",
    "echo \"<html>This is a HTML file</html>\" > template.html"
   ]
  },
  {
   "cell_type": "code",
   "execution_count": 7,
   "metadata": {},
   "outputs": [
    {
     "name": "stdout",
     "output_type": "stream",
     "text": [
      "template.html\n"
     ]
    }
   ],
   "source": [
    "## OLD\n",
    "# ls ../*.html\n",
    "ls *.html"
   ]
  },
  {
   "cell_type": "code",
   "execution_count": 8,
   "metadata": {},
   "outputs": [],
   "source": [
    "dir=$(realpath \"..\")\n",
    "## OLD: Seperated to next cell\n",
    "# url-path ../template.html | perl -pe \"s@$dir@/x/y/z@;\""
   ]
  },
  {
   "cell_type": "code",
   "execution_count": 9,
   "metadata": {},
   "outputs": [
    {
     "name": "stdout",
     "output_type": "stream",
     "text": [
      "file:////x/y/z/template.html\n"
     ]
    }
   ],
   "source": [
    "url-path ../template.html | perl -pe \"s@$dir@/x/y/z@;\""
   ]
  },
  {
   "cell_type": "code",
   "execution_count": 10,
   "metadata": {},
   "outputs": [],
   "source": [
    "# # Test dir alias \n",
    "# # note: time-dependent details changed\n",
    "umask ug=rwx,o=r\n",
    "\n",
    "## OLD: Seperated to cells\n",
    "# mkdir abc def\n",
    "# touch ghi jkl\n",
    "# echo > mno\n",
    "# dir | perl -pe \"s/ (\\d+) [\\w ]{2,8}/ \\1 username /; s/\\w\\w\\w \\d+ \\d\\d:\\d\\d/mon \\1 hh:mm/;\";"
   ]
  },
  {
   "cell_type": "code",
   "execution_count": 11,
   "metadata": {},
   "outputs": [],
   "source": [
    "mkdir abc def\n",
    "touch ghi jkl\n",
    "echo > mno"
   ]
  },
  {
   "cell_type": "code",
   "execution_count": 12,
   "metadata": {},
   "outputs": [
    {
     "name": "stdout",
     "output_type": "stream",
     "text": [
      "total 160K\n",
      "drwxr-xr-x  4 username  4.0K mon  hh:mm .\n",
      "-rw-rw-r--  1 username     1 mon  hh:mm mno\n",
      "-rw-rw-r--  1 username     0 mon  hh:mm ghi\n",
      "-rw-rw-r--  1 username     0 mon  hh:mm jkl\n",
      "drwxrwxr--  2 username  4.0K mon  hh:mm abc\n",
      "drwxrwxr--  2 username  4.0K mon  hh:mm def\n",
      "-rw-r--r--  1 username    33 mon  hh:mm template.html\n",
      "drwxrwxrwt 35 username  136K mon  hh:mm ..\n"
     ]
    }
   ],
   "source": [
    "dir | perl -pe \"s/ (\\d+) [\\w ]{2,8}/ \\1 username /; s/\\w\\w\\w \\d+ \\d\\d:\\d\\d/mon \\1 hh:mm/;\";"
   ]
  }
 ],
 "metadata": {
  "kernelspec": {
   "display_name": "Bash",
   "language": "bash",
   "name": "bash"
  },
  "language_info": {
   "codemirror_mode": "shell",
   "file_extension": ".sh",
   "mimetype": "text/x-sh",
   "name": "bash"
  }
 },
 "nbformat": 4,
 "nbformat_minor": 4
}
