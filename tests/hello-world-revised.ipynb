{
 "cells": [
  {
   "cell_type": "code",
   "execution_count": 1,
   "id": "a03c1f14",
   "metadata": {
    "scrolled": false
   },
   "outputs": [],
   "source": [
    "# Setup\n",
    "bind 'set enable-bracketed-paste off'"
   ]
  },
  {
   "cell_type": "code",
   "execution_count": 2,
   "id": "220201d8",
   "metadata": {},
   "outputs": [],
   "source": [
    "alias testuser=\"sed -r \"s/\"$USER\"+/user/g\"\"\n",
    "alias testnum=\"sed -r \"s/[0-9]/X/g\"\" "
   ]
  },
  {
   "cell_type": "code",
   "execution_count": 3,
   "id": "10e4aac0",
   "metadata": {},
   "outputs": [
    {
     "name": "stdout",
     "output_type": "stream",
     "text": [
      "Hi Mom!\n"
     ]
    }
   ],
   "source": [
    "echo \"Hi Mom!\""
   ]
  },
  {
   "cell_type": "code",
   "execution_count": 4,
   "id": "93dfcf88",
   "metadata": {},
   "outputs": [
    {
     "name": "stdout",
     "output_type": "stream",
     "text": [
      "1\n"
     ]
    }
   ],
   "source": [
    "echo 'Hello world' | wc -l"
   ]
  },
  {
   "cell_type": "code",
   "execution_count": 5,
   "id": "95585f5b",
   "metadata": {},
   "outputs": [
    {
     "name": "stdout",
     "output_type": "stream",
     "text": [
      "/home/user/tom-project/shell-scripts/tests\n"
     ]
    }
   ],
   "source": [
    "pwd | testuser"
   ]
  },
  {
   "cell_type": "code",
   "execution_count": 6,
   "id": "1c7c7b9a",
   "metadata": {},
   "outputs": [],
   "source": [
    "# THIS IS A COMMENT"
   ]
  },
  {
   "cell_type": "code",
   "execution_count": 7,
   "id": "7e5dcc7c",
   "metadata": {},
   "outputs": [
    {
     "name": "stdout",
     "output_type": "stream",
     "text": [
      "/usr/bin/systemd\n"
     ]
    }
   ],
   "source": [
    "which systemd"
   ]
  },
  {
   "cell_type": "code",
   "execution_count": 11,
   "id": "a3e68607",
   "metadata": {},
   "outputs": [
    {
     "name": "stdout",
     "output_type": "stream",
     "text": [
      "DATE(X)                          User Commands                         DATE(X)\n",
      "\n",
      "NAME\n",
      "       date - print or set the system date and time\n",
      "\n",
      "SYNOPSIS\n",
      "       date [OPTION]... [+FORMAT]\n",
      "       date [-u|--utc|--universal] [MMDDhhmm[[CC]YY][.ss]]\n",
      "\n",
      "DESCRIPTION\n"
     ]
    }
   ],
   "source": [
    "man date | head -n 10 | testnum"
   ]
  },
  {
   "cell_type": "code",
   "execution_count": 9,
   "id": "ec969a63",
   "metadata": {},
   "outputs": [
    {
     "name": "stdout",
     "output_type": "stream",
     "text": [
      "F S    C PRI NI ADDR  WCHAN TTY  CMD\n",
      "X S    X XX X -  do_wai pts/XX  bash\n",
      "X R    X XX X -  - pts/XX  ps\n",
      "X S    X XX X -  pipe_r pts/XX  awk\n",
      "X S    X XX X -  pipe_r pts/XX  sed\n"
     ]
    }
   ],
   "source": [
    "# awk will be used to remove any factors that may cause an error\n",
    "ps -l | awk '!($3=$4=$5=$10=$13=\"\")' | testnum"
   ]
  },
  {
   "cell_type": "code",
   "execution_count": 10,
   "id": "95a43fbc",
   "metadata": {},
   "outputs": [
    {
     "name": "stdout",
     "output_type": "stream",
     "text": [
      ".rw-rw-r-- XXk user XX  XX:XX  alias-calculator-commands.ipynb\n",
      ".rw-rw-r-- X.Xk user XX  XX:XX  alias-cd-commands.ipynb\n",
      ".rw-rw-r-- XXk user XX  XX:XX  alias-grep-commands.ipynb\n",
      ".rwxrwxr-x XXk user XX  XX:XX  alias-trace-misc-commands.ipynb\n",
      ".rw-rw-r-- X.Xk user XX  XX:XX  calc-entropy-tests.ipynb\n",
      ".rw-rw-r-- XXk user XX  XX:XX  command-override-cp-mv.ipynb\n",
      ".rw-rw-r-- XXk user XX  XX:XX  dir-aliases-test-revised.ipynb\n",
      ".rw-rw-r-- X.Xk user XX  XX:XX  hello-world-basic.ipynb\n",
      ".rw-rw-r-- X.Xk user XX  XX:XX  hello-world-revised.ipynb\n",
      ".rw-rw-r-- X.Xk user XX  XX:XX  json-related-alias.ipynb\n",
      ".rw-rw-r-- X.Xk user XX  XX:XX  more-tomohara-aliases-test.ipynb\n",
      ".rw-rw-r-- XXk user XX  XX:XX  test-check-errors.ipynb\n",
      ".rw-rw-r-- X.Xk user XX  XX:XX  test-cond-env-setting.ipynb\n",
      ".rw-rw-r-- X.Xk user XX  XX:XX  test-dir-alias.ipynb\n",
      ".rw-rw-r-- X.Xk user XX  XX:XX  testbook-test-dir-aliases.ipynb\n",
      ".rw-rw-r-- X.Xk user XX  XX:XX  tomasohara-aliases-test.ipynb\n",
      ".rw-rw-r-- X.Xk user XX  XX:XX  trace-extensionless-shortcut-unicode.ipynb\n",
      ".rw-rw-r-- XXk user XX  XX:XX  trace-extensionless-shortcut-VX.ipynb\n",
      ".rw-rw-r-- XXk user XX  XX:XX  trace-file-manipulation.ipynb\n",
      ".rw-rw-r-- X.Xk user XX  XX:XX  trace-line-words-commands.ipynb\n",
      ".rw-rw-r-- XXk user XX  XX:XX  trace-linux-admin-alias.ipynb\n",
      ".rw-rw-r-- XXk user XX  XX:XX  trace-python-commands.ipynb\n",
      ".rw-rw-r-- XXk user XX  XX:XX  trace-setup-sorting-wrappers.ipynb\n",
      ".rw-rw-r-- XXk user XX  XX:XX  trace-unix-alias.ipynb\n",
      ".rw-rw-r-- XXk user XX  XX:XX  trace-unix-general.ipynb\n"
     ]
    }
   ],
   "source": [
    "ls -l | grep .ipynb | awk '!($5=\"\")' | testuser | testnum"
   ]
  },
  {
   "cell_type": "code",
   "execution_count": null,
   "id": "7b087b52",
   "metadata": {},
   "outputs": [],
   "source": []
  }
 ],
 "metadata": {
  "kernelspec": {
   "display_name": "Bash",
   "language": "bash",
   "name": "bash"
  },
  "language_info": {
   "codemirror_mode": "shell",
   "file_extension": ".sh",
   "mimetype": "text/x-sh",
   "name": "bash"
  }
 },
 "nbformat": 4,
 "nbformat_minor": 5
}
