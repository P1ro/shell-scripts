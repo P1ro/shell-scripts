{
 "cells": [
  {
   "cell_type": "code",
   "execution_count": 1,
   "id": "1a928559",
   "metadata": {},
   "outputs": [],
   "source": [
    "# Setup\n",
    "bind 'set enable-bracketed-paste off'"
   ]
  },
  {
   "cell_type": "code",
   "execution_count": 2,
   "id": "9e7f71af",
   "metadata": {},
   "outputs": [],
   "source": [
    "## Bracketed Paste is disabled to prevent characters after output\n",
    "## Example: \n",
    "# $ echo 'Hii'\n",
    "# | Hi?2004l"
   ]
  },
  {
   "cell_type": "code",
   "execution_count": 3,
   "id": "93ec4a3f",
   "metadata": {},
   "outputs": [
    {
     "name": "stdout",
     "output_type": "stream",
     "text": [
      "[PEXP\\[\\]ECT_PROMPT>\n"
     ]
    }
   ],
   "source": [
    "## TEST:  Make sure simple prompt used (e.g., no escapes that might contaminate output)\n",
    "## PS1=\"$ \"\n",
    "## TODO: PS1=\"> \"\n",
    "\n",
    "## NOTE: The Jupyter bash kernel requires that PS1 not be modified as they customize it. \n",
    "echo $PS1"
   ]
  },
  {
   "cell_type": "code",
   "execution_count": 4,
   "id": "c6ffbc59",
   "metadata": {},
   "outputs": [
    {
     "name": "stdout",
     "output_type": "stream",
     "text": [
      "0\n",
      "0\n"
     ]
    }
   ],
   "source": [
    "# Delete all aliases and function\n",
    "# TODO: Instead start from pristine environment\n",
    "unalias -a\n",
    "alias | wc -l\n",
    "for f in $(typeset -f | egrep '^\\w+'); do unset -f $f; done\n",
    "typeset -f | egrep '^\\w+' | wc -l"
   ]
  },
  {
   "cell_type": "code",
   "execution_count": 5,
   "id": "233f11ac",
   "metadata": {},
   "outputs": [
    {
     "name": "stdout",
     "output_type": "stream",
     "text": [
      "8\n"
     ]
    }
   ],
   "source": [
    "# Setting a temp directory for tests\n",
    "TMP=/tmp/test-cond-env\n",
    "## NOTE: Source it directly from the ./tests directory.\n",
    "BIN_DIR=$PWD/..\n",
    "## You will need to run jupyter from that directory.\n",
    "## source $TEMP_BIN/_dir-aliases.bash\n",
    "source _dir-aliases.bash\n",
    "alias | wc -l"
   ]
  },
  {
   "cell_type": "code",
   "execution_count": 6,
   "id": "be943c71",
   "metadata": {},
   "outputs": [
    {
     "name": "stdout",
     "output_type": "stream",
     "text": [
      "/tmp/test-cond-env/test-1710\n"
     ]
    }
   ],
   "source": [
    "## NOTE: For reproducability, the directory name needs to be fixed\n",
    "## In place of $$, use a psuedo random number (e,g., 1710)\n",
    "## *** All output from one run to the next needs to be the same ***\n",
    "\n",
    "## temp_dir=$TMP/test-$$\n",
    "temp_dir=$TMP/test-1710\n",
    "\n",
    "mkdir -p \"$temp_dir\"\n",
    "# TODO: /bin/rm -rvf \"$temp_dir\"\n",
    "cd \"$temp_dir\"\n",
    "pwd\n",
    "\n",
    "#ALIAS FOR PRINTING SEPERATION LINES (FOR JUPYTER)\n",
    "alias linebr=\"printf '%*s\\n' \"${COLUMNS:-$(tput cols)}\" '' | tr ' ' -\""
   ]
  },
  {
   "cell_type": "code",
   "execution_count": 7,
   "id": "a67f36df",
   "metadata": {},
   "outputs": [
    {
     "name": "stdout",
     "output_type": "stream",
     "text": [
      "9\n"
     ]
    }
   ],
   "source": [
    "# Count aliases proper\n",
    "alias | wc -l"
   ]
  },
  {
   "cell_type": "code",
   "execution_count": 8,
   "id": "c39f70a7",
   "metadata": {},
   "outputs": [
    {
     "name": "stdout",
     "output_type": "stream",
     "text": [
      "2\n"
     ]
    }
   ],
   "source": [
    "# Count functions\n",
    "typeset -f | egrep '^\\w+' | wc -l"
   ]
  },
  {
   "cell_type": "code",
   "execution_count": 9,
   "id": "f2ac95c6",
   "metadata": {},
   "outputs": [],
   "source": [
    "# CONDITIONAL ENVIRONMENT SETTINGS - tomohara-aliases.sh\n",
    "# Conditional environment variable setting\n",
    "# Format: cond-export VAR1 VALUE1 [VAR2 VALUE2] ...\n",
    "# EX: export FU=\"bar\"; conditional-export FU baz; echo $FU => bar\n",
    "#\n",
    "function conditional-export () {\n",
    "    local var value\n",
    "    local args\n",
    "    while [ \"$1\" != \"\" ]; do\n",
    "        var=\"$1\" value=\"$2\";\n",
    "        ## DEBUG: echo \"value for env. var. $var: $(printenv \"$var\")\"\n",
    "        if [ \"$(printenv \"$var\")\" == \"\" ]; then\n",
    "\t    # Note: ignores SC1066 (Don't use $ on the left side of assignments)\n",
    "\t    # shellcheck disable=SC1066      \n",
    "            export $var=\"$value\"\n",
    "        fi\n",
    "\targs=\"$*\"\n",
    "        shift 2\n",
    "\tif [ \"$args\" = \"$*\" ]; then\n",
    "\t    echo \"Error: Unexpected value in conditional-export (var='$var'; val='$value')\"\n",
    "\t    return \n",
    "\tfi\n",
    "    done\n",
    "}"
   ]
  },
  {
   "cell_type": "code",
   "execution_count": 10,
   "id": "3ade9f2a",
   "metadata": {},
   "outputs": [],
   "source": [
    "# SETTING ALIASES FOR CONDITIONAL EXPORT\n",
    "alias conditional-setenv='conditional-export'\n",
    "alias cond-export='conditional-export'\n",
    "alias cond-setenv='conditional-export'"
   ]
  },
  {
   "cell_type": "code",
   "execution_count": 11,
   "id": "bb9f1941",
   "metadata": {},
   "outputs": [],
   "source": [
    "# SETTING A ENVIRONMENT VARIABLE NAMED COND_ENV_TEST_TEMP\n",
    "cond-setenv COND_ENV_TEST_TEMP tmp/cond-env-test-temp"
   ]
  },
  {
   "cell_type": "code",
   "execution_count": 12,
   "id": "807aeb5c",
   "metadata": {},
   "outputs": [
    {
     "name": "stdout",
     "output_type": "stream",
     "text": [
      "tmp/cond-env-test-temp\n"
     ]
    }
   ],
   "source": [
    "# PROOF THAT THE ENVIRONMENT VARIABLE IS CREATED\n",
    "echo $COND_ENV_TEST_TEMP"
   ]
  },
  {
   "cell_type": "code",
   "execution_count": 13,
   "id": "a59bf7fd",
   "metadata": {
    "scrolled": true
   },
   "outputs": [
    {
     "name": "stdout",
     "output_type": "stream",
     "text": [
      "total 4      \n",
      "drwxrwxr-x 3 aveey aveey 4096    tmp\n"
     ]
    }
   ],
   "source": [
    "# USE OF ENV VARIABLE TO CREATE A SUB-DIRECTORY\n",
    "mkdir -p $COND_ENV_TEST_TEMP\n",
    "ls -l | awk '!($6=$7=$8=\"\")'"
   ]
  },
  {
   "cell_type": "code",
   "execution_count": 14,
   "id": "3d1256f7",
   "metadata": {
    "scrolled": true
   },
   "outputs": [
    {
     "name": "stdout",
     "output_type": "stream",
     "text": [
      "/tmp/test-cond-env/test-1710\n"
     ]
    }
   ],
   "source": [
    "# THE OUTPUT OF printenv.sh IS STORED IN temp_env1.tmp CREATED IN THE DIRECTORY SPECIFIED BY $COND_ENV_TEST_TEMP\n",
    "pwd\n",
    "bash $BIN_DIR/printenv.sh > $COND_ENV_TEST_TEMP/temp-env-1"
   ]
  },
  {
   "cell_type": "code",
   "execution_count": 15,
   "id": "109bc8c7",
   "metadata": {},
   "outputs": [],
   "source": [
    "# MOVING TO THE DIRECTORY & VIEWING THE OUTPUT LOG\n",
    "cd $COND_ENV_TEST_TEMP\n",
    "\n",
    "# ERROR PRONE COMMAND (BATSPP)\n",
    "# cat temp-env-1"
   ]
  },
  {
   "cell_type": "code",
   "execution_count": null,
   "id": "3bb906ad",
   "metadata": {},
   "outputs": [],
   "source": []
  }
 ],
 "metadata": {
  "kernelspec": {
   "display_name": "Bash",
   "language": "bash",
   "name": "bash"
  },
  "language_info": {
   "codemirror_mode": "shell",
   "file_extension": ".sh",
   "mimetype": "text/x-sh",
   "name": "bash"
  }
 },
 "nbformat": 4,
 "nbformat_minor": 5
}
