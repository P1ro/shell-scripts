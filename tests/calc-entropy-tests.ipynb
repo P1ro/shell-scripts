{
 "cells": [
  {
   "cell_type": "code",
   "execution_count": 1,
   "metadata": {},
   "outputs": [
    {
     "name": "stdout",
     "output_type": "stream",
     "text": [
      "\u001b[?2004h\u001b[?2004l\u001b[?2004l\u001b[?2004l\u001b[?2004l\u001b[?2004l\r"
     ]
    }
   ],
   "source": [
    "## Bracketed Paste is disabled to prevent characters after output\n",
    "## Example: \n",
    "# $ echo 'Hii'\n",
    "# | Hi?2004l\n",
    "\n",
    "bind 'set enable-bracketed-paste off'"
   ]
  },
  {
   "cell_type": "code",
   "execution_count": 2,
   "metadata": {},
   "outputs": [],
   "source": [
    "# Tests for calc_entropy.perl and calc_entropy.py) scripts\n",
    "\n",
    "# Settings\n",
    "calc_entropy=calc_entropy.perl\n",
    "simple=\"-simple\"\n",
    "verbose=\"-verbose\"\n",
    "# -or-: calc_entropy=\"calc_entropy.py\"; simple=\"--simple\"; verbose=\"--verbose\"\n",
    "\n",
    "# Convenience alias to use <NL> for entirely blank lines (i.e., no spaces)\n",
    "alias encode-blank-line='perl -pe \"s/^$/<NL>/;\"'"
   ]
  },
  {
   "cell_type": "code",
   "execution_count": 3,
   "metadata": {},
   "outputs": [
    {
     "name": "stdout",
     "output_type": "stream",
     "text": [
      "Entropy\n",
      "2.000\n"
     ]
    }
   ],
   "source": [
    "$calc_entropy $simple .25 .25 .25 .25"
   ]
  },
  {
   "cell_type": "code",
   "execution_count": 4,
   "metadata": {},
   "outputs": [
    {
     "name": "stdout",
     "output_type": "stream",
     "text": [
      "head: cannot open 'calc_entropy.*input*' for reading: No such file or directory\n"
     ]
    }
   ],
   "source": [
    "# Show input\n",
    "head calc_entropy.*input* | encode-blank-line"
   ]
  },
  {
   "cell_type": "code",
   "execution_count": 5,
   "metadata": {},
   "outputs": [],
   "source": [
    "# Simple input format"
   ]
  },
  {
   "cell_type": "code",
   "execution_count": 6,
   "metadata": {},
   "outputs": [
    {
     "name": "stdout",
     "output_type": "stream",
     "text": [
      "bash: calc_entropy.simple.input: No such file or directory\n"
     ]
    },
    {
     "ename": "",
     "evalue": "1",
     "output_type": "error",
     "traceback": []
    }
   ],
   "source": [
    "$calc_entropy $simple - < calc_entropy.simple.input"
   ]
  },
  {
   "cell_type": "code",
   "execution_count": null,
   "metadata": {},
   "outputs": [],
   "source": [
    "$calc_entropy $simple - < calc_entropy.simple.input2"
   ]
  },
  {
   "cell_type": "code",
   "execution_count": null,
   "metadata": {},
   "outputs": [],
   "source": [
    "# Verbose output"
   ]
  },
  {
   "cell_type": "code",
   "execution_count": null,
   "metadata": {},
   "outputs": [],
   "source": [
    "$calc_entropy $verbose $simple - < calc_entropy.simple.input2"
   ]
  },
  {
   "cell_type": "code",
   "execution_count": null,
   "metadata": {},
   "outputs": [],
   "source": [
    "# Usual input format"
   ]
  },
  {
   "cell_type": "code",
   "execution_count": null,
   "metadata": {},
   "outputs": [],
   "source": [
    "$calc_entropy - < calc_entropy.input"
   ]
  },
  {
   "cell_type": "code",
   "execution_count": null,
   "metadata": {},
   "outputs": [],
   "source": [
    "$calc_entropy $verbose - < calc_entropy.input | encode-blank-line"
   ]
  },
  {
   "cell_type": "code",
   "execution_count": null,
   "metadata": {},
   "outputs": [],
   "source": []
  }
 ],
 "metadata": {
  "kernelspec": {
   "display_name": "Bash",
   "language": "bash",
   "name": "bash"
  },
  "language_info": {
   "codemirror_mode": "shell",
   "file_extension": ".sh",
   "mimetype": "text/x-sh",
   "name": "bash"
  }
 },
 "nbformat": 4,
 "nbformat_minor": 4
}
