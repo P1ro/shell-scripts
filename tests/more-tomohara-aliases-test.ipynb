{
 "cells": [
  {
   "cell_type": "code",
   "execution_count": 1,
   "metadata": {},
   "outputs": [
    {
     "name": "stdout",
     "output_type": "stream",
     "text": [
      "/home/tomohara/bin\n"
     ]
    }
   ],
   "source": [
    "pwd"
   ]
  },
  {
   "cell_type": "code",
   "execution_count": 2,
   "metadata": {},
   "outputs": [
    {
     "name": "stdout",
     "output_type": "stream",
     "text": [
      "template.html\n"
     ]
    }
   ],
   "source": [
    "ls *.html"
   ]
  },
  {
   "cell_type": "code",
   "execution_count": 3,
   "metadata": {},
   "outputs": [
    {
     "name": "stdout",
     "output_type": "stream",
     "text": [
      "file:////home/tomohara/bin/template.html\n"
     ]
    }
   ],
   "source": [
    "url-path template.html"
   ]
  },
  {
   "cell_type": "code",
   "execution_count": 1,
   "metadata": {},
   "outputs": [],
   "source": [
    "#===============================================================================\n",
    "# TODO: find jupyter way to do divider line (or at least bash)"
   ]
  },
  {
   "cell_type": "code",
   "execution_count": 3,
   "metadata": {},
   "outputs": [
    {
     "name": "stdout",
     "output_type": "stream",
     "text": [
      "\u001b]1;¢ test-dir [/home/tomohara/temp/tmp/test-dir]; Py3.8:(nlp-py-3-8) \u0007\u001b]2;¢ test-dir [/home/tomohara/temp/tmp/test-dir]; Py3.8:(nlp-py-3-8) \u0007total 316K\n",
      "drwxrwxr-x   4 tomohara 4.0K Apr 16 01:13 .\n",
      "-rw-rw-r--   1 tomohara    1 Apr 16 01:13 mno\n",
      "-rw-rw-r--   1 tomohara    0 Apr 16 01:13 ghi\n",
      "-rw-rw-r--   1 tomohara    0 Apr 16 01:13 jkl\n",
      "drwxrwxr-x   2 tomohara 4.0K Apr 16 01:13 abc\n",
      "drwxrwxr-x   2 tomohara 4.0K Apr 16 01:13 def\n",
      "drwxrwxr-x 662 tomohara 296K Apr 16 01:13 ..\n"
     ]
    }
   ],
   "source": [
    "test_dir=\"$TMP/test-dir\"\n",
    "mkdir \"$test_dir\"\n",
    "cd \"$test_dir\"\n",
    "mkdir abc def\n",
    "touch ghi jkl\n",
    "echo > mno\n",
    "dir\n"
   ]
  },
  {
   "cell_type": "code",
   "execution_count": null,
   "metadata": {},
   "outputs": [],
   "source": []
  }
 ],
 "metadata": {
  "kernelspec": {
   "display_name": "Bash",
   "language": "bash",
   "name": "bash"
  },
  "language_info": {
   "codemirror_mode": "shell",
   "file_extension": ".sh",
   "mimetype": "text/x-sh",
   "name": "bash"
  }
 },
 "nbformat": 4,
 "nbformat_minor": 4
}
