{
 "cells": [
  {
   "cell_type": "code",
   "execution_count": 1,
   "id": "87f54ae1",
   "metadata": {},
   "outputs": [
    {
     "name": "stdout",
     "output_type": "stream",
     "text": [
      "\u001b[?2004h\u001b[?2004l\u001b[?2004l\u001b[?2004l\u001b[?2004l\u001b[?2004l\r"
     ]
    }
   ],
   "source": [
    "## Bracketed Paste is disabled to prevent characters after output\n",
    "## Example: \n",
    "# $ echo 'Hii'\n",
    "# | Hi?2004l\n",
    "\n",
    "bind 'set enable-bracketed-paste off'"
   ]
  },
  {
   "cell_type": "code",
   "execution_count": 2,
   "id": "5d49fe75",
   "metadata": {},
   "outputs": [
    {
     "name": "stdout",
     "output_type": "stream",
     "text": [
      "[PEXP\\[\\]ECT_PROMPT>\n"
     ]
    }
   ],
   "source": [
    "## TEST:  Make sure simple prompt used (e.g., no escapes that might contaminate output)\n",
    "## PS1=\"$ \"\n",
    "## TODO: PS1=\"> \"\n",
    "\n",
    "## NOTE: The Jupyter bash kernel requires that PS1 not be modified as they customize it. \n",
    "echo $PS1"
   ]
  },
  {
   "cell_type": "code",
   "execution_count": 3,
   "id": "9d4c30cc",
   "metadata": {},
   "outputs": [
    {
     "name": "stdout",
     "output_type": "stream",
     "text": [
      "0\n",
      "0\n"
     ]
    }
   ],
   "source": [
    "# Delete all aliases and function\n",
    "# TODO: Instead start from pristine environment\n",
    "unalias -a\n",
    "alias | wc -l\n",
    "for f in $(typeset -f | egrep '^\\w+'); do unset -f $f; done\n",
    "typeset -f | egrep '^\\w+' | wc -l"
   ]
  },
  {
   "cell_type": "code",
   "execution_count": 4,
   "id": "cddb7968",
   "metadata": {},
   "outputs": [
    {
     "name": "stdout",
     "output_type": "stream",
     "text": [
      "0\n"
     ]
    }
   ],
   "source": [
    "# Setting a temp directory for tests\n",
    "TMP=/tmp/test-calc\n",
    "\n",
    "## NOTE: Source it directly from the ./tests directory.\n",
    "BIN_DIR=$PWD/..\n",
    "\n",
    "alias | wc -l"
   ]
  },
  {
   "cell_type": "code",
   "execution_count": 5,
   "id": "89a4f57b",
   "metadata": {},
   "outputs": [
    {
     "name": "stdout",
     "output_type": "stream",
     "text": [
      "/tmp/test-calc/test-1210\n"
     ]
    }
   ],
   "source": [
    "## NOTE: For reproducability, the directory name needs to be fixed\n",
    "## In place of $$, use a psuedo random number (e,g., 1210)\n",
    "## *** All output from one run to the next needs to be the same ***\n",
    "\n",
    "## temp_dir=$TMP/test-$$\n",
    "temp_dir=$TMP/test-1210\n",
    "\n",
    "mkdir -p \"$temp_dir\"\n",
    "# TODO: /bin/rm -rvf \"$temp_dir\"\n",
    "cd \"$temp_dir\"\n",
    "pwd\n",
    "\n",
    "#ALIAS FOR PRINTING SEPERATION LINES (FOR JUPYTER)\n",
    "alias linebr=\"printf '%*s\\n' \"${COLUMNS:-$(tput cols)}\" '' | tr ' ' -\""
   ]
  },
  {
   "cell_type": "code",
   "execution_count": 6,
   "id": "c10b6bb2",
   "metadata": {},
   "outputs": [
    {
     "name": "stdout",
     "output_type": "stream",
     "text": [
      "1\n"
     ]
    }
   ],
   "source": [
    "# Count aliases proper\n",
    "alias | wc -l"
   ]
  },
  {
   "cell_type": "code",
   "execution_count": 7,
   "id": "09763c6c",
   "metadata": {},
   "outputs": [
    {
     "name": "stdout",
     "output_type": "stream",
     "text": [
      "0\n"
     ]
    }
   ],
   "source": [
    "# Count functions\n",
    "typeset -f | egrep '^\\w+' | wc -l"
   ]
  },
  {
   "cell_type": "code",
   "execution_count": 80,
   "id": "e149fbc9",
   "metadata": {},
   "outputs": [],
   "source": [
    "## THE CORE OF CALCULATOR COMMAND FUNCTIONS\n",
    "\n",
    "function old-calc () { echo \"$@\" | bc -l; }\n",
    "# EX: perl-calc \"2 / 4\" => 0.500\n",
    "\n",
    "## REPLACED perl- wth perl (BEFORE perlcalc.perl) DUE TO COMMAND NOT FOUND ERROR\n",
    "function perl-calc () { perl perlcalc.perl -args \"$@\"; }\n",
    "# TODO: read up on variable expansion in function environments\n",
    "function perl-calc-init () { initexpr=\"$1\"; shift; echo \"$@\" | perl perlcalc.perl -init=\"$initexpr\" -; }\n",
    "alias calc='perl-calc'\n",
    "alias calc-prec6='perl-calc -precision=6'\n",
    "alias calc-init='perl-calc-init'\n",
    "alias calc-int='perl-calc -integer'\n",
    "# TODO: use '$@' for '$*' (or note why not appropriate)\n",
    "function old-perl-calc () { perl -e \"print $*;\"; }\n",
    "function hex2dec { perl -e \"printf '%d', 0x$1;\" -e 'print \"\\n\";'; }\n",
    "function dec2hex { perl -e \"printf '%x', $1;\" -e 'print \"\\n\";'; }\n",
    "function bin2dec { perl -e \"printf '%d', 0b$1;\" -e 'print \"\\n\";'; }\n",
    "function dec2bin { perl -e \"printf '%b', $1;\" -e 'print \"\\n\";'; }\n",
    "\n",
    "alias hv='hexview.perl'"
   ]
  },
  {
   "cell_type": "code",
   "execution_count": 42,
   "id": "64b58554",
   "metadata": {},
   "outputs": [
    {
     "name": "stdout",
     "output_type": "stream",
     "text": [
      "-19.00000000000000000000\n",
      "--------------------------------------------------------------------------------\n",
      "32\n",
      "--------------------------------------------------------------------------------\n",
      "121\n"
     ]
    }
   ],
   "source": [
    "## TEST 1 - old-calc SEEMS TO WORK PRETTY WELL\n",
    "old-calc \"24 / 4.0 - (35 / 7.0) * 5\" # returns -19 as float\n",
    "linebr\n",
    "old-calc \"(2^3)*(2^2)\" # returns 32\n",
    "linebr\n",
    "old-calc \"5*4*3*2*1+1\" # returns 121"
   ]
  },
  {
   "cell_type": "code",
   "execution_count": 51,
   "id": "ed1a5eb4",
   "metadata": {},
   "outputs": [
    {
     "name": "stdout",
     "output_type": "stream",
     "text": [
      "207\n",
      "--------------------------------------------------------------------------------\n",
      "0.001953125\n",
      "--------------------------------------------------------------------------------\n"
     ]
    }
   ],
   "source": [
    "## TEST 2 - old-perl-calc WORKS TOO\n",
    "old-perl-calc \"70 + 69 + 68\"\n",
    "printf \"\\n\"\n",
    "linebr\n",
    "old-perl-calc \"8/8/8/8/8\"\n",
    "printf \"\\n\"\n",
    "linebr"
   ]
  },
  {
   "cell_type": "code",
   "execution_count": 61,
   "id": "e92321e0",
   "metadata": {},
   "outputs": [
    {
     "name": "stdout",
     "output_type": "stream",
     "text": [
      "17950953796\n",
      "--------------------------------------------------------------------------------\n",
      "Bareword found where operator expected at -e line 1, near \"0xFG\"\n",
      "\t(Missing operator before G?)\n",
      "syntax error at -e line 1, near \"0xFG\"\n",
      "Execution of -e aborted due to compilation errors.\n",
      "--------------------------------------------------------------------------------\n"
     ]
    }
   ],
   "source": [
    "## TEST 3A - hex2dec\n",
    "hex2dec \"42Df5D144\" #cases don't matter in the number\n",
    "linebr\n",
    "hex2dec \"FG\" #throws an error as G is not hex\n",
    "linebr"
   ]
  },
  {
   "cell_type": "code",
   "execution_count": 65,
   "id": "3fee2eef",
   "metadata": {},
   "outputs": [
    {
     "name": "stdout",
     "output_type": "stream",
     "text": [
      "80\n",
      "0\n"
     ]
    }
   ],
   "source": [
    "## TEST 3B - hex2dec\n",
    "dec2hex \"128\"\n",
    "#inclusion of non-decimal numbers yield 0 as a result\n",
    "dec2hex \"A12\" "
   ]
  },
  {
   "cell_type": "code",
   "execution_count": 67,
   "id": "1dc08dcd",
   "metadata": {},
   "outputs": [
    {
     "name": "stdout",
     "output_type": "stream",
     "text": [
      "243\n",
      "--------------------------------------------------------------------------------\n",
      "Illegal binary digit '2' at -e line 1, at end of line\n",
      "Execution of -e aborted due to compilation errors.\n"
     ]
    },
    {
     "ename": "",
     "evalue": "255",
     "output_type": "error",
     "traceback": []
    }
   ],
   "source": [
    "## TEST 3C - bin2dec\n",
    "bin2dec \"11110011\"\n",
    "linebr\n",
    "#inclusion of non-binary numbers leads to error\n",
    "bin2dec \"10011002\" "
   ]
  },
  {
   "cell_type": "code",
   "execution_count": 69,
   "id": "8f172b7c",
   "metadata": {},
   "outputs": [
    {
     "name": "stdout",
     "output_type": "stream",
     "text": [
      "10001001100010011\n",
      "--------------------------------------------------------------------------------\n",
      "Bareword found where operator expected at -e line 1, near \"991E\"\n",
      "\t(Missing operator before E?)\n",
      "syntax error at -e line 1, near \"991E\"\n",
      "Execution of -e aborted due to compilation errors.\n"
     ]
    },
    {
     "ename": "",
     "evalue": "255",
     "output_type": "error",
     "traceback": []
    }
   ],
   "source": [
    "## TEST 3D - dec2bin\n",
    "dec2bin \"70419\"\n",
    "#inclusion of non-decimal number leads to error\n",
    "linebr\n",
    "dec2bin \"991E\""
   ]
  },
  {
   "cell_type": "code",
   "execution_count": 74,
   "id": "ef676520",
   "metadata": {},
   "outputs": [
    {
     "name": "stdout",
     "output_type": "stream",
     "text": [
      "00000000  23 21 20 2F 62 69 6E 2F - 63 73 68 20 2D 66 0A 23  #! /bin/csh -f.#\n",
      "00000010  0A 23 20 70 69 6E 67 2E - 73 68 3A 20 73 69 6D 70  .# ping.sh: simp\n",
      "00000020  6C 65 20 77 72 61 70 70 - 65 72 20 61 72 6F 75 6E  le wrapper aroun\n",
      "00000030  64 20 74 68 65 20 70 69 - 6E 67 20 63 6F 6D 6D 61  d the ping comma\n",
      "00000040  6E 64 20 72 65 64 69 72 - 65 63 74 69 6E 67 20 73  nd redirecting s\n",
      "00000050  74 64 65 72 72 20 74 6F - 20 73 74 64 6F 75 74 0A  tderr to stdout.\n",
      "00000060  23 0A 0A 73 65 74 20 6F - 70 74 69 6F 6E 73 20 3D  #..set options =\n",
      "00000070  20 22 22 0A 69 66 20 28 - 24 4F 53 54 59 50 45 20   \"\".if ($OSTYPE \n",
      "00000080  3D 3D 20 6C 69 6E 75 78 - 29 20 74 68 65 6E 0A 20  == linux) then. \n",
      "00000090  20 20 20 73 65 74 20 6F - 70 74 69 6F 6E 73 20 3D     set options =\n",
      "000000A0  20 22 2D 63 20 31 22 0A - 65 6E 64 69 66 0A 70 69   \"-c 1\".endif.pi\n",
      "000000B0  6E 67 20 24 6F 70 74 69 - 6F 6E 73 20 24 2A 20 3E  ng $options $* >\n",
      "000000C0  26 21 20 74 65 6D 70 5F - 24 24 2E 6C 6F 67 0A 63  &! temp_$$.log.c\n",
      "000000D0  61 74 20 74 65 6D 70 5F - 24 24 2E 6C 6F 67 0A 72  at temp_$$.log.r\n",
      "000000E0  6D 20 74 65 6D 70 5F 24 - 24 2E 6C 6F 67 0A        m temp_$$.log.\n"
     ]
    }
   ],
   "source": [
    "## TEST 4 - hv\n",
    "# creates hexview of ping.sh file\n",
    "hv \"ping.sh\""
   ]
  },
  {
   "cell_type": "code",
   "execution_count": 83,
   "id": "7f81af10",
   "metadata": {},
   "outputs": [
    {
     "name": "stdout",
     "output_type": "stream",
     "text": [
      "Number found where operator expected at (eval 34) line 1, near \"args 9\"\n",
      "\t(Do you need to predeclare args?)\n",
      "Missing argument in printf at /home/aveey/bin/perlcalc.perl line 117, <> line 1.\n",
      "0.000\n"
     ]
    }
   ],
   "source": [
    "## TEST 5 - calc AND ITS ALIASES\n",
    "\n",
    "## ERROR IN CODE \n",
    "\n",
    "# $ calc \"9+10\"\n",
    "# | Number found where operator expected at (eval 34) line 1, near \"args 9\"\n",
    "# |         (Do you need to predeclare args?)\n",
    "# | Missing argument in printf at /home/aveey/bin/perlcalc.perl line 117, <> line 1.\n",
    "# | 0.000\n"
   ]
  },
  {
   "cell_type": "code",
   "execution_count": 85,
   "id": "69c71294",
   "metadata": {},
   "outputs": [
    {
     "name": "stdout",
     "output_type": "stream",
     "text": [
      "Missing argument in printf at /home/aveey/bin/perlcalc.perl line 117, <> line 1.\n",
      "0.000\n"
     ]
    }
   ],
   "source": [
    "## ERROR\n",
    "\n",
    "# $ perl-calc-init \"9+10\"\n",
    "# | Missing argument in printf at /home/aveey/bin/perlcalc.perl line 117, <> line 1.\n",
    "# | 0.000\n"
   ]
  },
  {
   "cell_type": "code",
   "execution_count": null,
   "id": "2db13367",
   "metadata": {},
   "outputs": [],
   "source": []
  }
 ],
 "metadata": {
  "kernelspec": {
   "display_name": "Bash",
   "language": "bash",
   "name": "bash"
  },
  "language_info": {
   "codemirror_mode": "shell",
   "file_extension": ".sh",
   "mimetype": "text/x-sh",
   "name": "bash"
  }
 },
 "nbformat": 4,
 "nbformat_minor": 5
}
