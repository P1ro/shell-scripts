{
 "cells": [
  {
   "cell_type": "code",
   "execution_count": 1,
   "id": "5e4b75f9",
   "metadata": {},
   "outputs": [],
   "source": [
    "# Setup (OPTIONAL - USED IF NEEDED)\n",
    "## bind 'set enable-bracketed-paste off'"
   ]
  },
  {
   "cell_type": "code",
   "execution_count": 2,
   "id": "65d43538",
   "metadata": {},
   "outputs": [
    {
     "name": "stdout",
     "output_type": "stream",
     "text": [
      "PROMPT_BOBVLUEAJVXO\\[\\]>\n"
     ]
    }
   ],
   "source": [
    "## TEST:  Make sure simple prompt used (e.g., no escapes that might contaminate output)\n",
    "## PS1=\"$ \"\n",
    "## TODO: PS1=\"> \"\"\n",
    "## NOTE: The Jupyter bash kernel requires that PS1 not be modified as they customize it. \n",
    "echo $PS1"
   ]
  },
  {
   "cell_type": "code",
   "execution_count": 3,
   "id": "1da73b27",
   "metadata": {},
   "outputs": [],
   "source": [
    "## BAD (SUPER BAD)\n",
    "\n",
    "# # Delete all aliases and function\n",
    "# # TODO: Instead start from pristine environment\n",
    "# unalias -a\n",
    "# alias | wc -l\n",
    "# for f in $(typeset -f | egrep '^\\w+'); do unset -f $f; done\n",
    "# typeset -f | egrep '^\\w+' | wc -l"
   ]
  },
  {
   "cell_type": "code",
   "execution_count": 4,
   "id": "0ff8f157",
   "metadata": {},
   "outputs": [
    {
     "name": "stdout",
     "output_type": "stream",
     "text": [
      "446\n"
     ]
    }
   ],
   "source": [
    "## NOTE: Source it directly from the ./tests directory.\n",
    "# Setting a temp directory for tests\n",
    "TMP=/tmp/test-py-commands\n",
    "BIN_DIR=$PWD/..\n",
    "## You will need to run jupyter from that directory.\n",
    "## source $TEMP_BIN/_dir-aliases.bash\n",
    "alias | wc -l"
   ]
  },
  {
   "cell_type": "code",
   "execution_count": 5,
   "id": "ab954c7f",
   "metadata": {},
   "outputs": [
    {
     "name": "stdout",
     "output_type": "stream",
     "text": [
      "\u001b]1;$ test-7766 [/tmp/test-py-commands/test-7766]\u0007\u001b]2;$ test-7766 [/tmp/test-py-commands/test-7766]\u0007\n",
      "/tmp/test-py-commands/test-7766\n"
     ]
    }
   ],
   "source": [
    "## NOTE: For reproducability, the directory name needs to be fixed\n",
    "## In place of $$, use a psuedo random number (e,g., 7766)\n",
    "## *** All output from one run to the next needs to be the same ***\n",
    "\n",
    "## temp_dir=$TMP/test-$$\n",
    "temp_dir=$TMP/test-7766\n",
    "\n",
    "mkdir -p \"$temp_dir\"\n",
    "# TODO: /bin/rm -rvf \"$temp_dir\"\n",
    "cd \"$temp_dir\"\n",
    "pwd\n",
    "\n",
    "#ALIAS FOR PRINTING SEPERATION LINES (FOR JUPYTER)\n",
    "alias linebr=\"printf '%*s\\n' \"${COLUMNS:-$(tput cols)}\" '' | tr ' ' -\""
   ]
  },
  {
   "cell_type": "code",
   "execution_count": 6,
   "id": "bb14e4df",
   "metadata": {},
   "outputs": [],
   "source": [
    "alias testuser=\"sed -r \"s/\"$USER\"+/userxf333/g\"\"\n",
    "alias testnum=\"sed -r \"s/[0-9]/N/g\"\"\n",
    "# alias testmonth=\"sed -r \"s/['Jan','Feb','Mar','Apr','May','Jun','Jul','Aug','Sep','Oct','Nov','Dec']/M/g\"\""
   ]
  },
  {
   "cell_type": "code",
   "execution_count": 7,
   "id": "a918c4f3",
   "metadata": {},
   "outputs": [],
   "source": [
    "## OLD\n",
    "# source $BIN_DIR/tomohara-aliases.bash"
   ]
  },
  {
   "cell_type": "code",
   "execution_count": 8,
   "id": "0359b346",
   "metadata": {},
   "outputs": [
    {
     "name": "stdout",
     "output_type": "stream",
     "text": [
      "NN\n"
     ]
    }
   ],
   "source": [
    "ps-python-full | wc -l | testnum\n",
    "# Sample Output: 23"
   ]
  },
  {
   "cell_type": "code",
   "execution_count": 9,
   "id": "e7d436e5",
   "metadata": {},
   "outputs": [
    {
     "name": "stdout",
     "output_type": "stream",
     "text": [
      "NN\n"
     ]
    }
   ],
   "source": [
    "ps-python | wc -l | testnum\n",
    "# Sample Output: 22"
   ]
  },
  {
   "cell_type": "code",
   "execution_count": 10,
   "id": "6c5b8d28",
   "metadata": {},
   "outputs": [
    {
     "name": "stdout",
     "output_type": "stream",
     "text": [
      "PYTHONPATH:\n",
      "/home/userxf333/python\n",
      "/home/userxf333/python\n",
      "\n"
     ]
    }
   ],
   "source": [
    "## show-python-path DISPLAYS ALL THE AVAILABLE PATHS OF PYTHON\n",
    "show-python-path | testuser"
   ]
  },
  {
   "cell_type": "code",
   "execution_count": 11,
   "id": "ff01fc98",
   "metadata": {},
   "outputs": [
    {
     "name": "stdout",
     "output_type": "stream",
     "text": [
      "************* Module os\n",
      "/usr/lib/pythonN.NN/os.py:NN:N: WNNNN: Redefining built-in 'open' (redefined-builtin)\n",
      "/usr/lib/pythonN.NN/os.py:NN:NN: WNNNN: Redefining name 'name' from outer scope (line NN) (redefined-outer-name)\n",
      "/usr/lib/pythonN.NN/os.py:NN:N: WNNNN: Wildcard import posix (wildcard-import)\n",
      "/usr/lib/pythonN.NN/os.py:NN:N: ENNNN: Unable to import 'nt' (import-error)\n",
      "/usr/lib/pythonN.NN/os.py:NN:N: WNNNN: Wildcard import nt (wildcard-import)\n",
      "/usr/lib/pythonN.NN/os.py:NN:N: ENNNN: Unable to import 'nt' (import-error)\n",
      "/usr/lib/pythonN.NN/os.py:NNN:NN: WNNNN: Redefining built-in 'str' (redefined-builtin)\n",
      "/usr/lib/pythonN.NN/os.py:NNN:NN: WNNNN: Redefining name 'name' from outer scope (line NN) (redefined-outer-name)\n",
      "/usr/lib/pythonN.NN/os.py:NNN:NN: WNNNN: Redefining name 'name' from outer scope (line NN) (redefined-outer-name)\n",
      "/usr/lib/pythonN.NN/os.py:NNN:N: WNNNN: Redefining name 'error' from outer scope (line NN) (redefined-outer-name)\n",
      "/usr/lib/pythonN.NN/os.py:NNN:NN: WNNNN: Redefining name 'name' from outer scope (line NN) (redefined-outer-name)\n",
      "/usr/lib/pythonN.NN/os.py:NNN:N: WNNNN: Redefining built-in 'dir' (redefined-builtin)\n",
      "/usr/lib/pythonN.NN/os.py:NNN:NN: ENNNN: Using variable 'last_exc' before assignment (used-before-assignment)\n",
      "/usr/lib/pythonN.NN/os.py:NNN:N: CNNNN: Import outside toplevel (warnings) (import-outside-toplevel)\n",
      "/usr/lib/pythonN.NN/os.py:NNN:N: CNNNN: Missing function or method docstring (missing-function-docstring)\n",
      "/usr/lib/pythonN.NN/os.py:NNN:N: WNNNN: Parameter 'default' has been renamed to 'value' in overriding '_Environ.setdefault' method (arguments-renamed)\n",
      "/usr/lib/pythonN.NN/os.py:NNN:NN: WNNNN: Access to a protected member _data of a client class (protected-access)\n",
      "/usr/lib/pythonN.NN/os.py:NNN:N: WNNNN: Redefining name 'fsencode' from outer scope (line NNN) (redefined-outer-name)\n",
      "/usr/lib/pythonN.NN/os.py:NNN:N: WNNNN: Redefining name 'fsdecode' from outer scope (line NNN) (redefined-outer-name)\n",
      "/usr/lib/pythonN.NN/os.py:NNN:N: RNNNN: Unnecessary \"else\" after \"return\", remove the \"else\" and de-indent the code inside it (no-else-return)\n",
      "/usr/lib/pythonN.NN/os.py:NNN:N: RNNNN: Unnecessary \"else\" after \"return\", remove the \"else\" and de-indent the code inside it (no-else-return)\n",
      "/usr/lib/pythonN.NN/os.py:NNN:N: RNNNN: Either all return statements in a function should return an expression, or none of them should. (inconsistent-return-statements)\n",
      "/usr/lib/pythonN.NN/os.py:NNN:NN: WNNNN: Unused variable 'wpid' (unused-variable)\n",
      "/usr/lib/pythonN.NN/os.py:NNN:N: CNNNN: Missing function or method docstring (missing-function-docstring)\n",
      "/usr/lib/pythonN.NN/os.py:NNN:N: CNNNN: Import outside toplevel (subprocess, io) (import-outside-toplevel)\n",
      "/usr/lib/pythonN.NN/os.py:NNN:N: CNNNN: Multiple imports on one line (subprocess, io) (multiple-imports)\n",
      "/usr/lib/pythonN.NN/os.py:NNN:N: RNNNN: Unnecessary \"else\" after \"return\", remove the \"else\" and de-indent the code inside it (no-else-return)\n",
      "/usr/lib/pythonN.NN/os.py:NNN:N: WNNNN: Unused import io (unused-import)\n",
      "/usr/lib/pythonN.NN/os.py:NNNN:N: CNNNN: Missing function or method docstring (missing-function-docstring)\n",
      "/usr/lib/pythonN.NN/os.py:NNNN:NN: RNNNN: Unnecessary \"else\" after \"return\", remove the \"else\" and de-indent the code inside it (no-else-return)\n",
      "/usr/lib/pythonN.NN/os.py:NNNN:NN: WNNNN: Redefining name 'name' from outer scope (line NN) (redefined-outer-name)\n",
      "/usr/lib/pythonN.NN/os.py:NNNN:N: CNNNN: Missing function or method docstring (missing-function-docstring)\n",
      "/usr/lib/pythonN.NN/os.py:NNNN:N: CNNNN: Import outside toplevel (io) (import-outside-toplevel)\n",
      "/usr/lib/pythonN.NN/os.py:NNNN:NN: WNNNN: Redefining name 'path' from outer scope (line NN) (redefined-outer-name)\n",
      "/usr/lib/pythonN.NN/os.py:NNNN:NN: CNNNN: Unnecessarily calls dunder method __fspath__. Use os.fspath function instead. (unnecessary-dunder-call)\n",
      "/usr/lib/pythonN.NN/os.py:NNNN:N: RNNNN: Unnecessary \"else\" after \"raise\", remove the \"else\" and de-indent the code inside it (no-else-raise)\n",
      "/usr/lib/pythonN.NN/os.py:NNNN:NN: WNNNN: Consider explicitly re-raising using 'except AttributeError as exc' and 'raise TypeError('expected str, bytes or os.PathLike object, not ' + path_type.__name__) from exc' (raise-missing-from)\n",
      "/usr/lib/pythonN.NN/os.py:NNNN:N: RNNNN: Unnecessary \"else\" after \"return\", remove the \"else\" and de-indent the code inside it (no-else-return)\n",
      "/usr/lib/pythonN.NN/os.py:NNNN:NN: WNNNN: Redefining name 'path' from outer scope (line NN) (redefined-outer-name)\n",
      "/usr/lib/pythonN.NN/os.py:NNNN:N: CNNNN: Missing function or method docstring (missing-function-docstring)\n",
      "/usr/lib/pythonN.NN/os.py:NNNN:NN: WNNNN: Redefining name 'path' from outer scope (line NN) (redefined-outer-name)\n",
      "/usr/lib/pythonN.NN/os.py:NNNN:N: WNNNN: Redefining name 'nt' from outer scope (line NN) (redefined-outer-name)\n",
      "/usr/lib/pythonN.NN/os.py:NNNN:N: CNNNN: Import outside toplevel (nt) (import-outside-toplevel)\n",
      "/usr/lib/pythonN.NN/os.py:NNNN:N: ENNNN: Unable to import 'nt' (import-error)\n",
      "/usr/lib/pythonN.NN/os.py:NNNN:NN: WNNNN: Access to a protected member _add_dll_directory of a client class (protected-access)\n",
      "/usr/lib/pythonN.NN/os.py:NNNN:NN: WNNNN: Access to a protected member _remove_dll_directory of a client class (protected-access)\n",
      "/usr/lib/pythonN.NN/os.py:NN:N: CNNNN: Imports from package posix are not grouped (ungrouped-imports)\n",
      "/usr/lib/pythonN.NN/os.py:NNN:N: CNNNN: Imports from package _collections_abc are not grouped (ungrouped-imports)\n",
      "/usr/lib/pythonN.NN/os.py:NN:N: WNNNN: Unused import(s) CLD_CONTINUED, CLD_DUMPED, CLD_EXITED, CLD_KILLED, CLD_STOPPED, CLD_TRAPPED, DirEntry, EFD_CLOEXEC, EFD_NONBLOCK, EFD_SEMAPHORE, EX_CANTCREAT, EX_CONFIG, EX_DATAERR, EX_IOERR, EX_NOHOST, EX_NOINPUT, EX_NOPERM, EX_NOUSER, EX_OK, EX_OSERR, EX_OSFILE, EX_PROTOCOL, EX_SOFTWARE, EX_TEMPFAIL, EX_UNAVAILABLE, EX_USAGE, F_LOCK, F_OK, F_TEST, F_TLOCK, F_ULOCK, GRND_NONBLOCK, GRND_RANDOM, MFD_ALLOW_SEALING, MFD_CLOEXEC, MFD_HUGETLB, MFD_HUGE_NNGB, MFD_HUGE_NNMB, MFD_HUGE_NGB, MFD_HUGE_NMB, MFD_HUGE_NNNMB, MFD_HUGE_NGB, MFD_HUGE_NMB, MFD_HUGE_NNMB, MFD_HUGE_NNNKB, MFD_HUGE_NNNMB, MFD_HUGE_NNKB, MFD_HUGE_NMB, MFD_HUGE_MASK, MFD_HUGE_SHIFT, NGROUPS_MAX, O_ACCMODE, O_APPEND, O_ASYNC, O_CLOEXEC, O_CREAT, O_DIRECT, O_DIRECTORY, O_DSYNC, O_EXCL, O_FSYNC, O_LARGEFILE, O_NDELAY, O_NOATIME, O_NOCTTY, O_NOFOLLOW, O_NONBLOCK, O_PATH, O_RDWR, O_RSYNC, O_SYNC, O_TMPFILE, O_TRUNC, O_WRONLY, POSIX_FADV_DONTNEED, POSIX_FADV_NOREUSE, POSIX_FADV_NORMAL, POSIX_FADV_RANDOM, POSIX_FADV_SEQUENTIAL, POSIX_FADV_WILLNEED, POSIX_SPAWN_CLOSE, POSIX_SPAWN_DUPN, POSIX_SPAWN_OPEN, PRIO_PGRP, PRIO_PROCESS, PRIO_USER, P_ALL, P_PGID, P_PID, P_PIDFD, RTLD_DEEPBIND, RTLD_GLOBAL, RTLD_LAZY, RTLD_LOCAL, RTLD_NODELETE, RTLD_NOLOAD, RTLD_NOW, RWF_APPEND, RWF_DSYNC, RWF_HIPRI, RWF_NOWAIT, RWF_SYNC, R_OK, SCHED_BATCH, SCHED_FIFO, SCHED_IDLE, SCHED_OTHER, SCHED_RESET_ON_FORK, SCHED_RR, SEEK_DATA, SEEK_HOLE, SPLICE_F_MORE, SPLICE_F_MOVE, SPLICE_F_NONBLOCK, ST_APPEND, ST_MANDLOCK, ST_NOATIME, ST_NODEV, ST_NODIRATIME, ST_NOEXEC, ST_NOSUID, ST_RDONLY, ST_RELATIME, ST_SYNCHRONOUS, ST_WRITE, TMP_MAX, WCONTINUED, WCOREDUMP, WEXITED, WEXITSTATUS, WIFCONTINUED, WIFEXITED, WIFSIGNALED, WNOHANG, WNOWAIT, WSTOPPED, WSTOPSIG, WTERMSIG, WUNTRACED, W_OK, XATTR_CREATE, XATTR_REPLACE, XATTR_SIZE_MAX, X_OK, abort, access, chdir, chmod, chown, chroot, closerange, confstr, confstr_names, copy_file_range, cpu_count, ctermid, device_encoding, dup, dupN, error, eventfd, eventfd_read, eventfd_write, fchdir, fchmod, fchown, fdatasync, forkpty, fpathconf, fstat, fstatvfs, fsync, ftruncate, get_blocking, get_inheritable, get_terminal_size, getcwd, getcwdb, getegid, geteuid, getgid, getgrouplist, getgroups, getloadavg, getlogin, getpgid, getpgrp, getpid, getppid, getpriority, getrandom, getresgid, getresuid, getsid, getuid, getxattr, initgroups, isatty, kill, killpg, lchown, link, listdir, listxattr, lockf, lseek, lstat, major, makedev, memfd_create, minor, mkfifo, mknod, nice, openpty, pathconf, pathconf_names, pidfd_open, pipe, pipeN, posix_fadvise, posix_fallocate, posix_spawn, posix_spawnp, pread, preadv, pwrite, pwritev, read, readlink, readv, register_at_fork, remove, removexattr, replace, sched_get_priority_max, sched_get_priority_min, sched_getaffinity, sched_getparam, sched_getscheduler, sched_param, sched_rr_get_interval, sched_setaffinity, sched_setparam, sched_setscheduler, sched_yield, sendfile, set_blocking, set_inheritable, setegid, seteuid, setgid, setgroups, setpgid, setpgrp, setpriority, setregid, setresgid, setresuid, setreuid, setsid, setuid, setxattr, splice, stat_result, statvfs, statvfs_result, strerror, symlink, sync, sysconf, sysconf_names, system, tcgetpgrp, tcsetpgrp, terminal_size, times, times_result, truncate, ttyname, umask, uname, uname_result, unlink, urandom, utime, wait, waitN, waitN, waitid, waitid_result, write and writev from wildcard import of posix (unused-wildcard-import)\n"
     ]
    },
    {
     "name": "stdout",
     "output_type": "stream",
     "text": [
      "\n",
      "\n"
     ]
    }
   ],
   "source": [
    "# function python-lint() { python-lint-work \"$@\" 2>&1 | $EGREP -v '(Exactly one space required)|\\((bad-continuation|bad-whitespace|bad-indentation|bare-except|c-extension-no-member|consider-using-enumerate|consider-using-with|global-statement|global-variable-not-assigned|keyword-arg-before-vararg|len-as-condition|line-too-long|logging-not-lazy|misplaced-comparison-constant|missing-final-newline|redefined-variable-type|redundant-keyword-arg|superfluous-parens|too-many-arguments|too-many-instance-attributes|trailing-newlines|useless-\\S+|wrong-import-order|wrong-import-position)\\)' | $PAGER; }\n",
    "python-lint os | testnum | testuser"
   ]
  },
  {
   "cell_type": "code",
   "execution_count": 12,
   "id": "5039b234",
   "metadata": {
    "scrolled": true
   },
   "outputs": [
    {
     "name": "stdout",
     "output_type": "stream",
     "text": [
      "************* Module os\n",
      "/usr/lib/pythonN.NN/os.py:NNN:N: CNNNN: Unnecessary parens after '=' keyword (superfluous-parens)\n",
      "/usr/lib/pythonN.NN/os.py:NN:N: WNNNN: Redefining built-in 'open' (redefined-builtin)\n",
      "/usr/lib/pythonN.NN/os.py:NN:NN: WNNNN: Redefining name 'name' from outer scope (line NN) (redefined-outer-name)\n",
      "/usr/lib/pythonN.NN/os.py:NN:N: WNNNN: Wildcard import posix (wildcard-import)\n",
      "/usr/lib/pythonN.NN/os.py:NN:N: ENNNN: Unable to import 'nt' (import-error)\n",
      "/usr/lib/pythonN.NN/os.py:NN:N: WNNNN: Wildcard import nt (wildcard-import)\n",
      "/usr/lib/pythonN.NN/os.py:NN:N: ENNNN: Unable to import 'nt' (import-error)\n",
      "/usr/lib/pythonN.NN/os.py:NN:N: CNNNN: Import \"from os.path import curdir, pardir, sep, pathsep, defpath, extsep, altsep, devnull\" should be placed at the top of the module (wrong-import-position)\n",
      "/usr/lib/pythonN.NN/os.py:NNN:NN: WNNNN: Redefining built-in 'str' (redefined-builtin)\n",
      "/usr/lib/pythonN.NN/os.py:NNN:NN: WNNNN: Redefining name 'name' from outer scope (line NN) (redefined-outer-name)\n",
      "/usr/lib/pythonN.NN/os.py:NNN:NN: WNNNN: Redefining name 'name' from outer scope (line NN) (redefined-outer-name)\n",
      "/usr/lib/pythonN.NN/os.py:NNN:N: WNNNN: Redefining name 'error' from outer scope (line NN) (redefined-outer-name)\n",
      "/usr/lib/pythonN.NN/os.py:NNN:NN: WNNNN: Redefining name 'name' from outer scope (line NN) (redefined-outer-name)\n",
      "/usr/lib/pythonN.NN/os.py:NNN:N: WNNNN: Redefining built-in 'dir' (redefined-builtin)\n",
      "/usr/lib/pythonN.NN/os.py:NNN:NN: ENNNN: Using variable 'last_exc' before assignment (used-before-assignment)\n",
      "/usr/lib/pythonN.NN/os.py:NNN:N: CNNNN: Import outside toplevel (warnings) (import-outside-toplevel)\n",
      "/usr/lib/pythonN.NN/os.py:NNN:N: CNNNN: Import \"from _collections_abc import MutableMapping, Mapping\" should be placed at the top of the module (wrong-import-position)\n",
      "/usr/lib/pythonN.NN/os.py:NNN:NN: CNNNN: Formatting a regular string which could be a f-string (consider-using-f-string)\n",
      "/usr/lib/pythonN.NN/os.py:NNN:NN: CNNNN: Formatting a regular string which could be a f-string (consider-using-f-string)\n",
      "/usr/lib/pythonN.NN/os.py:NNN:N: CNNNN: Missing function or method docstring (missing-function-docstring)\n",
      "/usr/lib/pythonN.NN/os.py:NNN:N: WNNNN: Parameter 'default' has been renamed to 'value' in overriding '_Environ.setdefault' method (arguments-renamed)\n",
      "/usr/lib/pythonN.NN/os.py:NNN:NN: CNNNN: Formatting a regular string which could be a f-string (consider-using-f-string)\n",
      "/usr/lib/pythonN.NN/os.py:NNN:NN: CNNNN: Formatting a regular string which could be a f-string (consider-using-f-string)\n",
      "/usr/lib/pythonN.NN/os.py:NNN:NN: CNNNN: Formatting a regular string which could be a f-string (consider-using-f-string)\n",
      "/usr/lib/pythonN.NN/os.py:NNN:NN: WNNNN: Access to a protected member _data of a client class (protected-access)\n",
      "/usr/lib/pythonN.NN/os.py:NNN:N: WNNNN: Redefining name 'fsencode' from outer scope (line NNN) (redefined-outer-name)\n",
      "/usr/lib/pythonN.NN/os.py:NNN:N: WNNNN: Redefining name 'fsdecode' from outer scope (line NNN) (redefined-outer-name)\n",
      "/usr/lib/pythonN.NN/os.py:NNN:N: RNNNN: Unnecessary \"else\" after \"return\", remove the \"else\" and de-indent the code inside it (no-else-return)\n",
      "/usr/lib/pythonN.NN/os.py:NNN:N: RNNNN: Unnecessary \"else\" after \"return\", remove the \"else\" and de-indent the code inside it (no-else-return)\n",
      "/usr/lib/pythonN.NN/os.py:NNN:NN: WNNNN: No exception type(s) specified (bare-except)\n",
      "/usr/lib/pythonN.NN/os.py:NNN:N: RNNNN: Either all return statements in a function should return an expression, or none of them should. (inconsistent-return-statements)\n",
      "/usr/lib/pythonN.NN/os.py:NNN:NN: WNNNN: Unused variable 'wpid' (unused-variable)\n",
      "/usr/lib/pythonN.NN/os.py:NNN:N: CNNNN: Missing function or method docstring (missing-function-docstring)\n",
      "/usr/lib/pythonN.NN/os.py:NNN:NN: CNNNN: Formatting a regular string which could be a f-string (consider-using-f-string)\n",
      "/usr/lib/pythonN.NN/os.py:NNN:NN: CNNNN: Formatting a regular string which could be a f-string (consider-using-f-string)\n",
      "/usr/lib/pythonN.NN/os.py:NNN:N: CNNNN: Import outside toplevel (subprocess, io) (import-outside-toplevel)\n",
      "/usr/lib/pythonN.NN/os.py:NNN:N: CNNNN: Multiple imports on one line (subprocess, io) (multiple-imports)\n",
      "/usr/lib/pythonN.NN/os.py:NNN:N: RNNNN: Unnecessary \"else\" after \"return\", remove the \"else\" and de-indent the code inside it (no-else-return)\n",
      "/usr/lib/pythonN.NN/os.py:NNN:NN: RNNNN: Consider using 'with' for resource-allocating operations (consider-using-with)\n",
      "/usr/lib/pythonN.NN/os.py:NNN:N: WNNNN: Unused import io (unused-import)\n",
      "/usr/lib/pythonN.NN/os.py:NNNN:N: CNNNN: Missing function or method docstring (missing-function-docstring)\n",
      "/usr/lib/pythonN.NN/os.py:NNNN:NN: RNNNN: Unnecessary \"else\" after \"return\", remove the \"else\" and de-indent the code inside it (no-else-return)\n",
      "/usr/lib/pythonN.NN/os.py:NNNN:NN: WNNNN: Redefining name 'name' from outer scope (line NN) (redefined-outer-name)\n",
      "/usr/lib/pythonN.NN/os.py:NNNN:N: CNNNN: Missing function or method docstring (missing-function-docstring)\n",
      "/usr/lib/pythonN.NN/os.py:NNNN:N: WNNNN: Keyword argument before variable positional arguments list in the definition of fdopen function (keyword-arg-before-vararg)\n",
      "/usr/lib/pythonN.NN/os.py:NNNN:NN: CNNNN: Formatting a regular string which could be a f-string (consider-using-f-string)\n",
      "/usr/lib/pythonN.NN/os.py:NNNN:N: CNNNN: Import outside toplevel (io) (import-outside-toplevel)\n",
      "/usr/lib/pythonN.NN/os.py:NNNN:NN: WNNNN: Redefining name 'path' from outer scope (line NN) (redefined-outer-name)\n",
      "/usr/lib/pythonN.NN/os.py:NNNN:NN: CNNNN: Unnecessarily calls dunder method __fspath__. Use os.fspath function instead. (unnecessary-dunder-call)\n",
      "/usr/lib/pythonN.NN/os.py:NNNN:N: RNNNN: Unnecessary \"else\" after \"raise\", remove the \"else\" and de-indent the code inside it (no-else-raise)\n",
      "/usr/lib/pythonN.NN/os.py:NNNN:NN: WNNNN: Consider explicitly re-raising using 'except AttributeError as exc' and 'raise TypeError('expected str, bytes or os.PathLike object, not ' + path_type.__name__) from exc' (raise-missing-from)\n",
      "/usr/lib/pythonN.NN/os.py:NNNN:N: RNNNN: Unnecessary \"else\" after \"return\", remove the \"else\" and de-indent the code inside it (no-else-return)\n",
      "/usr/lib/pythonN.NN/os.py:NNNN:NN: CNNNN: Formatting a regular string which could be a f-string (consider-using-f-string)\n",
      "/usr/lib/pythonN.NN/os.py:NNNN:NN: WNNNN: Redefining name 'path' from outer scope (line NN) (redefined-outer-name)\n",
      "/usr/lib/pythonN.NN/os.py:NNNN:N: CNNNN: Missing function or method docstring (missing-function-docstring)\n",
      "/usr/lib/pythonN.NN/os.py:NNNN:NN: CNNNN: Formatting a regular string which could be a f-string (consider-using-f-string)\n",
      "/usr/lib/pythonN.NN/os.py:NNNN:NN: WNNNN: Redefining name 'path' from outer scope (line NN) (redefined-outer-name)\n",
      "/usr/lib/pythonN.NN/os.py:NNNN:N: WNNNN: Redefining name 'nt' from outer scope (line NN) (redefined-outer-name)\n",
      "/usr/lib/pythonN.NN/os.py:NNNN:N: CNNNN: Import outside toplevel (nt) (import-outside-toplevel)\n",
      "/usr/lib/pythonN.NN/os.py:NNNN:N: ENNNN: Unable to import 'nt' (import-error)\n",
      "/usr/lib/pythonN.NN/os.py:NNNN:NN: WNNNN: Access to a protected member _add_dll_directory of a client class (protected-access)\n",
      "/usr/lib/pythonN.NN/os.py:NNNN:NN: WNNNN: Access to a protected member _remove_dll_directory of a client class (protected-access)\n",
      "/usr/lib/pythonN.NN/os.py:NN:N: CNNNN: standard import \"from os.path import curdir, pardir, sep, pathsep, defpath, extsep, altsep, devnull\" should be placed before \"from _collections_abc import _check_methods\" (wrong-import-order)\n",
      "/usr/lib/pythonN.NN/os.py:NN:N: CNNNN: Imports from package posix are not grouped (ungrouped-imports)\n",
      "/usr/lib/pythonN.NN/os.py:NNN:N: CNNNN: Imports from package _collections_abc are not grouped (ungrouped-imports)\n",
      "/usr/lib/pythonN.NN/os.py:NN:N: WNNNN: Unused import(s) CLD_CONTINUED, CLD_DUMPED, CLD_EXITED, CLD_KILLED, CLD_STOPPED, CLD_TRAPPED, DirEntry, EFD_CLOEXEC, EFD_NONBLOCK, EFD_SEMAPHORE, EX_CANTCREAT, EX_CONFIG, EX_DATAERR, EX_IOERR, EX_NOHOST, EX_NOINPUT, EX_NOPERM, EX_NOUSER, EX_OK, EX_OSERR, EX_OSFILE, EX_PROTOCOL, EX_SOFTWARE, EX_TEMPFAIL, EX_UNAVAILABLE, EX_USAGE, F_LOCK, F_OK, F_TEST, F_TLOCK, F_ULOCK, GRND_NONBLOCK, GRND_RANDOM, MFD_ALLOW_SEALING, MFD_CLOEXEC, MFD_HUGETLB, MFD_HUGE_NNGB, MFD_HUGE_NNMB, MFD_HUGE_NGB, MFD_HUGE_NMB, MFD_HUGE_NNNMB, MFD_HUGE_NGB, MFD_HUGE_NMB, MFD_HUGE_NNMB, MFD_HUGE_NNNKB, MFD_HUGE_NNNMB, MFD_HUGE_NNKB, MFD_HUGE_NMB, MFD_HUGE_MASK, MFD_HUGE_SHIFT, NGROUPS_MAX, O_ACCMODE, O_APPEND, O_ASYNC, O_CLOEXEC, O_CREAT, O_DIRECT, O_DIRECTORY, O_DSYNC, O_EXCL, O_FSYNC, O_LARGEFILE, O_NDELAY, O_NOATIME, O_NOCTTY, O_NOFOLLOW, O_NONBLOCK, O_PATH, O_RDWR, O_RSYNC, O_SYNC, O_TMPFILE, O_TRUNC, O_WRONLY, POSIX_FADV_DONTNEED, POSIX_FADV_NOREUSE, POSIX_FADV_NORMAL, POSIX_FADV_RANDOM, POSIX_FADV_SEQUENTIAL, POSIX_FADV_WILLNEED, POSIX_SPAWN_CLOSE, POSIX_SPAWN_DUPN, POSIX_SPAWN_OPEN, PRIO_PGRP, PRIO_PROCESS, PRIO_USER, P_ALL, P_PGID, P_PID, P_PIDFD, RTLD_DEEPBIND, RTLD_GLOBAL, RTLD_LAZY, RTLD_LOCAL, RTLD_NODELETE, RTLD_NOLOAD, RTLD_NOW, RWF_APPEND, RWF_DSYNC, RWF_HIPRI, RWF_NOWAIT, RWF_SYNC, R_OK, SCHED_BATCH, SCHED_FIFO, SCHED_IDLE, SCHED_OTHER, SCHED_RESET_ON_FORK, SCHED_RR, SEEK_DATA, SEEK_HOLE, SPLICE_F_MORE, SPLICE_F_MOVE, SPLICE_F_NONBLOCK, ST_APPEND, ST_MANDLOCK, ST_NOATIME, ST_NODEV, ST_NODIRATIME, ST_NOEXEC, ST_NOSUID, ST_RDONLY, ST_RELATIME, ST_SYNCHRONOUS, ST_WRITE, TMP_MAX, WCONTINUED, WCOREDUMP, WEXITED, WEXITSTATUS, WIFCONTINUED, WIFEXITED, WIFSIGNALED, WNOHANG, WNOWAIT, WSTOPPED, WSTOPSIG, WTERMSIG, WUNTRACED, W_OK, XATTR_CREATE, XATTR_REPLACE, XATTR_SIZE_MAX, X_OK, abort, access, chdir, chmod, chown, chroot, closerange, confstr, confstr_names, copy_file_range, cpu_count, ctermid, device_encoding, dup, dupN, error, eventfd, eventfd_read, eventfd_write, fchdir, fchmod, fchown, fdatasync, forkpty, fpathconf, fstat, fstatvfs, fsync, ftruncate, get_blocking, get_inheritable, get_terminal_size, getcwd, getcwdb, getegid, geteuid, getgid, getgrouplist, getgroups, getloadavg, getlogin, getpgid, getpgrp, getpid, getppid, getpriority, getrandom, getresgid, getresuid, getsid, getuid, getxattr, initgroups, isatty, kill, killpg, lchown, link, listdir, listxattr, lockf, lseek, lstat, major, makedev, memfd_create, minor, mkfifo, mknod, nice, openpty, pathconf, pathconf_names, pidfd_open, pipe, pipeN, posix_fadvise, posix_fallocate, posix_spawn, posix_spawnp, pread, preadv, pwrite, pwritev, read, readlink, readv, register_at_fork, remove, removexattr, replace, sched_get_priority_max, sched_get_priority_min, sched_getaffinity, sched_getparam, sched_getscheduler, sched_param, sched_rr_get_interval, sched_setaffinity, sched_setparam, sched_setscheduler, sched_yield, sendfile, set_blocking, set_inheritable, setegid, seteuid, setgid, setgroups, setpgid, setpgrp, setpriority, setregid, setresgid, setresuid, setreuid, setsid, setuid, setxattr, splice, stat_result, statvfs, statvfs_result, strerror, symlink, sync, sysconf, sysconf_names, system, tcgetpgrp, tcsetpgrp, terminal_size, times, times_result, truncate, ttyname, umask, uname, uname_result, unlink, urandom, utime, wait, waitN, waitN, waitid, waitid_result, write and writev from wildcard import of posix (unused-wildcard-import)\n"
     ]
    },
    {
     "name": "stdout",
     "output_type": "stream",
     "text": [
      "\n",
      "\n"
     ]
    }
   ],
   "source": [
    "# Takes time for execution\n",
    "# function python-lint-work() { python-lint-full \"$@\" 2>&1 | $EGREP -v '\\((bad-continuation|bad-option-value|fixme|invalid-name|locally-disabled|too-few-public-methods|too-many-\\S+|trailing-whitespace|star-args|unnecessary-pass)\\)' | $EGREP -v '^(([A-Z]:[0-9]+)|(Your code has been rated)|(No config file found)|(\\-\\-\\-\\-\\-))' | $PAGER; }\n",
    "python-lint-work os | testnum"
   ]
  },
  {
   "cell_type": "code",
   "execution_count": 13,
   "id": "cab9db0c",
   "metadata": {},
   "outputs": [
    {
     "name": "stdout",
     "output_type": "stream",
     "text": [
      "************* Module os\n",
      "/usr/lib/pythonN.NN/os.py:NN:N: WNNNN: Redefining built-in 'open' (redefined-builtin)\n",
      "/usr/lib/pythonN.NN/os.py:NN:NN: WNNNN: Redefining name 'name' from outer scope (line NN) (redefined-outer-name)\n",
      "/usr/lib/pythonN.NN/os.py:NN:N: WNNNN: Wildcard import posix (wildcard-import)\n",
      "/usr/lib/pythonN.NN/os.py:NN:N: ENNNN: Unable to import 'nt' (import-error)\n",
      "/usr/lib/pythonN.NN/os.py:NN:N: WNNNN: Wildcard import nt (wildcard-import)\n",
      "/usr/lib/pythonN.NN/os.py:NN:N: ENNNN: Unable to import 'nt' (import-error)\n",
      "/usr/lib/pythonN.NN/os.py:NNN:NN: WNNNN: Redefining built-in 'str' (redefined-builtin)\n",
      "/usr/lib/pythonN.NN/os.py:NNN:NN: WNNNN: Redefining name 'name' from outer scope (line NN) (redefined-outer-name)\n",
      "/usr/lib/pythonN.NN/os.py:NNN:NN: WNNNN: Redefining name 'name' from outer scope (line NN) (redefined-outer-name)\n",
      "/usr/lib/pythonN.NN/os.py:NNN:N: WNNNN: Redefining name 'error' from outer scope (line NN) (redefined-outer-name)\n",
      "/usr/lib/pythonN.NN/os.py:NNN:NN: WNNNN: Redefining name 'name' from outer scope (line NN) (redefined-outer-name)\n",
      "/usr/lib/pythonN.NN/os.py:NNN:N: WNNNN: Redefining built-in 'dir' (redefined-builtin)\n",
      "/usr/lib/pythonN.NN/os.py:NNN:NN: ENNNN: Using variable 'last_exc' before assignment (used-before-assignment)\n",
      "/usr/lib/pythonN.NN/os.py:NNN:N: CNNNN: Import outside toplevel (warnings) (import-outside-toplevel)\n",
      "/usr/lib/pythonN.NN/os.py:NNN:N: CNNNN: Missing function or method docstring (missing-function-docstring)\n",
      "/usr/lib/pythonN.NN/os.py:NNN:N: WNNNN: Parameter 'default' has been renamed to 'value' in overriding '_Environ.setdefault' method (arguments-renamed)\n",
      "/usr/lib/pythonN.NN/os.py:NNN:NN: WNNNN: Access to a protected member _data of a client class (protected-access)\n",
      "/usr/lib/pythonN.NN/os.py:NNN:N: WNNNN: Redefining name 'fsencode' from outer scope (line NNN) (redefined-outer-name)\n",
      "/usr/lib/pythonN.NN/os.py:NNN:N: WNNNN: Redefining name 'fsdecode' from outer scope (line NNN) (redefined-outer-name)\n",
      "/usr/lib/pythonN.NN/os.py:NNN:N: RNNNN: Unnecessary \"else\" after \"return\", remove the \"else\" and de-indent the code inside it (no-else-return)\n",
      "/usr/lib/pythonN.NN/os.py:NNN:N: RNNNN: Unnecessary \"else\" after \"return\", remove the \"else\" and de-indent the code inside it (no-else-return)\n",
      "/usr/lib/pythonN.NN/os.py:NNN:N: RNNNN: Either all return statements in a function should return an expression, or none of them should. (inconsistent-return-statements)\n",
      "/usr/lib/pythonN.NN/os.py:NNN:NN: WNNNN: Unused variable 'wpid' (unused-variable)\n",
      "/usr/lib/pythonN.NN/os.py:NNN:N: CNNNN: Missing function or method docstring (missing-function-docstring)\n",
      "/usr/lib/pythonN.NN/os.py:NNN:N: CNNNN: Import outside toplevel (subprocess, io) (import-outside-toplevel)\n",
      "/usr/lib/pythonN.NN/os.py:NNN:N: CNNNN: Multiple imports on one line (subprocess, io) (multiple-imports)\n",
      "/usr/lib/pythonN.NN/os.py:NNN:N: RNNNN: Unnecessary \"else\" after \"return\", remove the \"else\" and de-indent the code inside it (no-else-return)\n",
      "/usr/lib/pythonN.NN/os.py:NNN:N: WNNNN: Unused import io (unused-import)\n",
      "/usr/lib/pythonN.NN/os.py:NNNN:N: CNNNN: Missing function or method docstring (missing-function-docstring)\n",
      "/usr/lib/pythonN.NN/os.py:NNNN:NN: RNNNN: Unnecessary \"else\" after \"return\", remove the \"else\" and de-indent the code inside it (no-else-return)\n",
      "/usr/lib/pythonN.NN/os.py:NNNN:NN: WNNNN: Redefining name 'name' from outer scope (line NN) (redefined-outer-name)\n",
      "/usr/lib/pythonN.NN/os.py:NNNN:N: CNNNN: Missing function or method docstring (missing-function-docstring)\n",
      "/usr/lib/pythonN.NN/os.py:NNNN:N: CNNNN: Import outside toplevel (io) (import-outside-toplevel)\n",
      "/usr/lib/pythonN.NN/os.py:NNNN:NN: WNNNN: Redefining name 'path' from outer scope (line NN) (redefined-outer-name)\n",
      "/usr/lib/pythonN.NN/os.py:NNNN:NN: CNNNN: Unnecessarily calls dunder method __fspath__. Use os.fspath function instead. (unnecessary-dunder-call)\n",
      "/usr/lib/pythonN.NN/os.py:NNNN:N: RNNNN: Unnecessary \"else\" after \"raise\", remove the \"else\" and de-indent the code inside it (no-else-raise)\n",
      "/usr/lib/pythonN.NN/os.py:NNNN:NN: WNNNN: Consider explicitly re-raising using 'except AttributeError as exc' and 'raise TypeError('expected str, bytes or os.PathLike object, not ' + path_type.__name__) from exc' (raise-missing-from)\n",
      "/usr/lib/pythonN.NN/os.py:NNNN:N: RNNNN: Unnecessary \"else\" after \"return\", remove the \"else\" and de-indent the code inside it (no-else-return)\n",
      "/usr/lib/pythonN.NN/os.py:NNNN:NN: WNNNN: Redefining name 'path' from outer scope (line NN) (redefined-outer-name)\n",
      "/usr/lib/pythonN.NN/os.py:NNNN:N: CNNNN: Missing function or method docstring (missing-function-docstring)\n",
      "/usr/lib/pythonN.NN/os.py:NNNN:NN: WNNNN: Redefining name 'path' from outer scope (line NN) (redefined-outer-name)\n",
      "/usr/lib/pythonN.NN/os.py:NNNN:N: WNNNN: Redefining name 'nt' from outer scope (line NN) (redefined-outer-name)\n",
      "/usr/lib/pythonN.NN/os.py:NNNN:N: CNNNN: Import outside toplevel (nt) (import-outside-toplevel)\n",
      "/usr/lib/pythonN.NN/os.py:NNNN:N: ENNNN: Unable to import 'nt' (import-error)\n",
      "/usr/lib/pythonN.NN/os.py:NNNN:NN: WNNNN: Access to a protected member _add_dll_directory of a client class (protected-access)\n",
      "/usr/lib/pythonN.NN/os.py:NNNN:NN: WNNNN: Access to a protected member _remove_dll_directory of a client class (protected-access)\n",
      "/usr/lib/pythonN.NN/os.py:NN:N: CNNNN: Imports from package posix are not grouped (ungrouped-imports)\n",
      "/usr/lib/pythonN.NN/os.py:NNN:N: CNNNN: Imports from package _collections_abc are not grouped (ungrouped-imports)\n",
      "/usr/lib/pythonN.NN/os.py:NN:N: WNNNN: Unused import(s) CLD_CONTINUED, CLD_DUMPED, CLD_EXITED, CLD_KILLED, CLD_STOPPED, CLD_TRAPPED, DirEntry, EFD_CLOEXEC, EFD_NONBLOCK, EFD_SEMAPHORE, EX_CANTCREAT, EX_CONFIG, EX_DATAERR, EX_IOERR, EX_NOHOST, EX_NOINPUT, EX_NOPERM, EX_NOUSER, EX_OK, EX_OSERR, EX_OSFILE, EX_PROTOCOL, EX_SOFTWARE, EX_TEMPFAIL, EX_UNAVAILABLE, EX_USAGE, F_LOCK, F_OK, F_TEST, F_TLOCK, F_ULOCK, GRND_NONBLOCK, GRND_RANDOM, MFD_ALLOW_SEALING, MFD_CLOEXEC, MFD_HUGETLB, MFD_HUGE_NNGB, MFD_HUGE_NNMB, MFD_HUGE_NGB, MFD_HUGE_NMB, MFD_HUGE_NNNMB, MFD_HUGE_NGB, MFD_HUGE_NMB, MFD_HUGE_NNMB, MFD_HUGE_NNNKB, MFD_HUGE_NNNMB, MFD_HUGE_NNKB, MFD_HUGE_NMB, MFD_HUGE_MASK, MFD_HUGE_SHIFT, NGROUPS_MAX, O_ACCMODE, O_APPEND, O_ASYNC, O_CLOEXEC, O_CREAT, O_DIRECT, O_DIRECTORY, O_DSYNC, O_EXCL, O_FSYNC, O_LARGEFILE, O_NDELAY, O_NOATIME, O_NOCTTY, O_NOFOLLOW, O_NONBLOCK, O_PATH, O_RDWR, O_RSYNC, O_SYNC, O_TMPFILE, O_TRUNC, O_WRONLY, POSIX_FADV_DONTNEED, POSIX_FADV_NOREUSE, POSIX_FADV_NORMAL, POSIX_FADV_RANDOM, POSIX_FADV_SEQUENTIAL, POSIX_FADV_WILLNEED, POSIX_SPAWN_CLOSE, POSIX_SPAWN_DUPN, POSIX_SPAWN_OPEN, PRIO_PGRP, PRIO_PROCESS, PRIO_USER, P_ALL, P_PGID, P_PID, P_PIDFD, RTLD_DEEPBIND, RTLD_GLOBAL, RTLD_LAZY, RTLD_LOCAL, RTLD_NODELETE, RTLD_NOLOAD, RTLD_NOW, RWF_APPEND, RWF_DSYNC, RWF_HIPRI, RWF_NOWAIT, RWF_SYNC, R_OK, SCHED_BATCH, SCHED_FIFO, SCHED_IDLE, SCHED_OTHER, SCHED_RESET_ON_FORK, SCHED_RR, SEEK_DATA, SEEK_HOLE, SPLICE_F_MORE, SPLICE_F_MOVE, SPLICE_F_NONBLOCK, ST_APPEND, ST_MANDLOCK, ST_NOATIME, ST_NODEV, ST_NODIRATIME, ST_NOEXEC, ST_NOSUID, ST_RDONLY, ST_RELATIME, ST_SYNCHRONOUS, ST_WRITE, TMP_MAX, WCONTINUED, WCOREDUMP, WEXITED, WEXITSTATUS, WIFCONTINUED, WIFEXITED, WIFSIGNALED, WNOHANG, WNOWAIT, WSTOPPED, WSTOPSIG, WTERMSIG, WUNTRACED, W_OK, XATTR_CREATE, XATTR_REPLACE, XATTR_SIZE_MAX, X_OK, abort, access, chdir, chmod, chown, chroot, closerange, confstr, confstr_names, copy_file_range, cpu_count, ctermid, device_encoding, dup, dupN, error, eventfd, eventfd_read, eventfd_write, fchdir, fchmod, fchown, fdatasync, forkpty, fpathconf, fstat, fstatvfs, fsync, ftruncate, get_blocking, get_inheritable, get_terminal_size, getcwd, getcwdb, getegid, geteuid, getgid, getgrouplist, getgroups, getloadavg, getlogin, getpgid, getpgrp, getpid, getppid, getpriority, getrandom, getresgid, getresuid, getsid, getuid, getxattr, initgroups, isatty, kill, killpg, lchown, link, listdir, listxattr, lockf, lseek, lstat, major, makedev, memfd_create, minor, mkfifo, mknod, nice, openpty, pathconf, pathconf_names, pidfd_open, pipe, pipeN, posix_fadvise, posix_fallocate, posix_spawn, posix_spawnp, pread, preadv, pwrite, pwritev, read, readlink, readv, register_at_fork, remove, removexattr, replace, sched_get_priority_max, sched_get_priority_min, sched_getaffinity, sched_getparam, sched_getscheduler, sched_param, sched_rr_get_interval, sched_setaffinity, sched_setparam, sched_setscheduler, sched_yield, sendfile, set_blocking, set_inheritable, setegid, seteuid, setgid, setgroups, setpgid, setpgrp, setpriority, setregid, setresgid, setresuid, setreuid, setsid, setuid, setxattr, splice, stat_result, statvfs, statvfs_result, strerror, symlink, sync, sysconf, sysconf_names, system, tcgetpgrp, tcsetpgrp, terminal_size, times, times_result, truncate, ttyname, umask, uname, uname_result, unlink, urandom, utime, wait, waitN, waitN, waitid, waitid_result, write and writev from wildcard import of posix (unused-wildcard-import)\n"
     ]
    },
    {
     "name": "stdout",
     "output_type": "stream",
     "text": [
      "\n",
      "\n"
     ]
    }
   ],
   "source": [
    "# May take some time\n",
    "python-lint os | testnum"
   ]
  },
  {
   "cell_type": "code",
   "execution_count": 14,
   "id": "207d98f0",
   "metadata": {},
   "outputs": [
    {
     "name": "stdout",
     "output_type": "stream",
     "text": [
      "ls: cannot access '/home/aveey/tom-project/shell-scripts/tests/../tests/auto_batspp.py': No such file or directory\n"
     ]
    }
   ],
   "source": [
    "# ERROR: Pattern not found  (press RETURN)\n",
    "run-python-lint-batched $BIN_DIR/tests/auto_batspp.py | testuser | testnum"
   ]
  },
  {
   "cell_type": "code",
   "execution_count": 15,
   "id": "6e4b2871",
   "metadata": {},
   "outputs": [],
   "source": [
    "## REQUIRES setup.py (TBC)\n",
    "\n",
    "# python-setup-install\n",
    "# linebr\n",
    "# python-uninstall-setup"
   ]
  },
  {
   "cell_type": "code",
   "execution_count": 16,
   "id": "1a220eac",
   "metadata": {},
   "outputs": [
    {
     "name": "stdout",
     "output_type": "stream",
     "text": [
      "matches /home/aveey/.local/lib/pythonN.NN/site-packages/mezcla/__init__.py\n",
      "--------------------------------------------------------------------------------\n",
      "matches /home/aveey/.local/lib/pythonN.NN/site-packages/mezcla/__init__.py\n",
      "matches /home/aveey/.local/lib/pythonN.NN/site-packages/mezcla/debug.py\n",
      "matches /home/aveey/.local/lib/pythonN.NN/site-packages/mezcla/sys_version_info_hack.py\n",
      "matches /home/aveey/.local/lib/pythonN.NN/site-packages/mezcla/glue_helpers.py\n",
      "matches /home/aveey/.local/lib/pythonN.NN/site-packages/mezcla/system.py\n",
      "matches /home/aveey/.local/lib/pythonN.NN/site-packages/mezcla/tpo_common.py\n",
      "matches /home/aveey/.local/lib/pythonN.NN/site-packages/mezcla/my_regex.py\n",
      "--------------------------------------------------------------------------------\n",
      "# /home/aveey/.local/lib/pythonN.NN/site-packages/mezcla/__pycache__/__init__.cpython-NNN.pyc matches /home/aveey/.local/lib/pythonN.NN/site-packages/mezcla/__init__.py\n",
      "# code object from '/home/aveey/.local/lib/pythonN.NN/site-packages/mezcla/__pycache__/__init__.cpython-NNN.pyc'\n",
      "# /home/aveey/.local/lib/pythonN.NN/site-packages/mezcla/__pycache__/debug.cpython-NNN.pyc matches /home/aveey/.local/lib/pythonN.NN/site-packages/mezcla/debug.py\n",
      "# code object from '/home/aveey/.local/lib/pythonN.NN/site-packages/mezcla/__pycache__/debug.cpython-NNN.pyc'\n",
      "# /home/aveey/.local/lib/pythonN.NN/site-packages/mezcla/__pycache__/sys_version_info_hack.cpython-NNN.pyc matches /home/aveey/.local/lib/pythonN.NN/site-packages/mezcla/sys_version_info_hack.py\n"
     ]
    }
   ],
   "source": [
    "# mezcla MODULE IS USED FOR TEST\n",
    "\n",
    "python-import-path 'mezcla' | testnum\n",
    "linebr\n",
    "python-import-path-full 'mezcla' | testnum\n",
    "linebr\n",
    "\n",
    "# WORKS WELL, SHOWS SOME ISSUES ON BATSPP 2.1.X\n",
    "python-import-path-all 'mezcla' | grep mezcla | head -n 5 | testnum"
   ]
  },
  {
   "cell_type": "code",
   "execution_count": 17,
   "id": "852d5ab4",
   "metadata": {},
   "outputs": [
    {
     "name": "stdout",
     "output_type": "stream",
     "text": [
      "2\n"
     ]
    }
   ],
   "source": [
    "# RETURNS A LIST OF PYTHON MODULES\n",
    "rm -rf ./* > /dev/null\n",
    "pip3 freeze | grep ipython | wc -l"
   ]
  },
  {
   "cell_type": "code",
   "execution_count": 18,
   "id": "e82509c6",
   "metadata": {},
   "outputs": [
    {
     "name": "stdout",
     "output_type": "stream",
     "text": [
      "N.N.N.N\n",
      "--------------------------------------------------------------------------------\n",
      "N.N.N.N\n",
      "--------------------------------------------------------------------------------\n",
      "['PYTHONN_PLUS', 'TL', '__VERSION__', '__all__', '__builtins__', '__cached__', '__doc__', '__file__', '__loader__', '__name__', '__package__', '__path__', '__spec__', '__version__', 'debug', 'gh', 'glue_helpers', 'my_re', 'my_regex', 'sys', 'sys_version_info_hack', 'system', 'tpo_common', 'version']\n",
      "--------------------------------------------------------------------------------\n"
     ]
    }
   ],
   "source": [
    "# MODULE USED: mezcla | sed filter replaces versin number with XX\n",
    "python-module-version-full mezcla | testnum\n",
    "linebr\n",
    "python-module-version mezcla | testnum\n",
    "linebr\n",
    "python-package-members mezcla | testnum\n",
    "linebr"
   ]
  },
  {
   "cell_type": "code",
   "execution_count": 19,
   "id": "caf8bfd0",
   "metadata": {},
   "outputs": [],
   "source": [
    "# ## rename-with-file-date REQUIRED\n",
    "# function rename-with-file-date() {\n",
    "#     local f new_f\n",
    "#     local move_command=\"move\"\n",
    "#     if [ \"$1\" = \"--copy\" ]; then\n",
    "\n",
    "#         move_command=\"command cp --interactive --verbose --preserve\"\n",
    "#         shift\n",
    "#     fi\n",
    "#     for f in \"$@\"; do\n",
    "    \n",
    "#         if [ -e \"$f\" ]; then\n",
    "#            new_f=$(get-free-filename \"$f\".$(date --reference=\"$f\" '+%d%b%y') \".\")\n",
    "\n",
    "#            eval \"$move_command\" \"$f\" \"$new_f\";\n",
    "#         fi\n",
    "#     done;\n",
    "\n",
    "# }\n",
    "\n",
    "# function get-free-filename() {\n",
    "#     local base=\"$1\"\n",
    "#     local sep=\"$2\"\n",
    "#     local L=1\n",
    "#     local filename=\"$base\"\n",
    "#     while [ -e \"$filename\" ]; do\n",
    "#         let L++\n",
    "#         filename=\"$base$sep$L\"\n",
    "#     done;\n",
    "#     echo \"$filename\"\n",
    "# }\n",
    "\n",
    "# alias move='mv'\n",
    "# export PAGER=less\n",
    "# export PAGER_CHOPPED=\"less -S\"\n",
    "# export PAGER_NOEXIT=\"less -+F\"\n",
    "# function zless () { zcat \"$@\" | $PAGER; }\n",
    "\n",
    "# function zhead () {\n",
    "#     local file=\"$1\"\n",
    "#     shift\n",
    "#     zcat \"$file\" | head \"$@\"\n",
    "# }\n",
    "\n",
    "# alias less-='$PAGER_NOEXIT'\n",
    "# alias less-clipped='$PAGER_NOEXIT -S'\n",
    "# alias less-tail='$PAGER_NOEXIT +G'\n",
    "# alias less-tail-clipped='$PAGER_NOEXIT +G -S'\n",
    "# alias ltc=less-tail-clipped"
   ]
  },
  {
   "cell_type": "code",
   "execution_count": 20,
   "id": "c51a1fad",
   "metadata": {},
   "outputs": [
    {
     "name": "stdout",
     "output_type": "stream",
     "text": [
      "/tmp/test-py-commands/test-7766\n"
     ]
    }
   ],
   "source": [
    "pwd \n",
    "printf \"THIS IS THE HEAD\\n1\\n2\\n3\\n4\\n5\\n6\\n7\\nTHIS IS THE TAIL.\" >> testless.txt"
   ]
  },
  {
   "cell_type": "code",
   "execution_count": 21,
   "id": "d98b6d58",
   "metadata": {},
   "outputs": [
    {
     "name": "stdout",
     "output_type": "stream",
     "text": [
      "THIS IS THE HEAD\n",
      "N\n",
      "N\n",
      "N\n",
      "N\n",
      "N\n",
      "N\n",
      "N\n",
      "THIS IS THE TAIL.\n"
     ]
    }
   ],
   "source": [
    "ltc testless.txt | testnum"
   ]
  },
  {
   "cell_type": "code",
   "execution_count": 22,
   "id": "93146b8d",
   "metadata": {},
   "outputs": [
    {
     "name": "stdout",
     "output_type": "stream",
     "text": [
      "THIS IS THE HEAD\n",
      "N\n",
      "N\n",
      "N\n",
      "N\n",
      "N\n",
      "N\n",
      "N\n",
      "THIS IS THE TAIL.\n"
     ]
    }
   ],
   "source": [
    "less-tail testless.txt | testnum"
   ]
  },
  {
   "cell_type": "code",
   "execution_count": 23,
   "id": "9dcb601f",
   "metadata": {},
   "outputs": [
    {
     "name": "stdout",
     "output_type": "stream",
     "text": [
      "THIS IS THE HEAD\n",
      "N\n",
      "N\n",
      "N\n",
      "N\n",
      "N\n",
      "N\n",
      "N\n",
      "THIS IS THE TAIL.\n"
     ]
    }
   ],
   "source": [
    "less-tail-clipped testless.txt | testnum"
   ]
  },
  {
   "cell_type": "code",
   "execution_count": 24,
   "id": "8080d06d",
   "metadata": {},
   "outputs": [
    {
     "name": "stdout",
     "output_type": "stream",
     "text": [
      "THIS IS THE HEAD\n",
      "N\n",
      "N\n",
      "N\n",
      "N\n",
      "N\n",
      "N\n",
      "N\n",
      "THIS IS THE TAIL.\n"
     ]
    }
   ],
   "source": [
    "less-clipped testless.txt | testnum"
   ]
  },
  {
   "cell_type": "code",
   "execution_count": 25,
   "id": "b8c1c892",
   "metadata": {
    "scrolled": true
   },
   "outputs": [
    {
     "name": "stdout",
     "output_type": "stream",
     "text": [
      "THIS IS THE HEAD\n",
      "N\n",
      "N\n",
      "N\n",
      "N\n",
      "N\n",
      "N\n",
      "N\n",
      "THIS IS THE TAIL.\n"
     ]
    }
   ],
   "source": [
    "less- testless.txt | testnum"
   ]
  },
  {
   "cell_type": "code",
   "execution_count": 26,
   "id": "7d6ffb96",
   "metadata": {},
   "outputs": [
    {
     "name": "stdout",
     "output_type": "stream",
     "text": [
      "\u001b]N;$ ipython [/tmp/test-py-commands/test-NNNN]\u0007\u001b]N;$ ipython [/tmp/test-py-commands/test-NNNN]\u0007N.NN.N\n",
      "--------------------------------------------------------------------------------\n",
      "Cannot run file '' because: [Errno 2] No such file or directory: ''\n",
      "Command exited with non-zero status 1\n",
      "0.01user 0.00system 0:00.02elapsed 95%CPU (0avgtext+0avgdata 12224maxresident)k\n",
      "0inputs+0outputs (0major+1739minor)pagefaults 0swaps\n"
     ]
    }
   ],
   "source": [
    "## THIS PART IS SLOW IN EXECUTION\n",
    "\n",
    "ipython --version | testuser | testnum\n",
    "linebr\n",
    "# STATEMENT TRACING WORKS WELL / ISSUES WITH TESTUSER\n",
    "python-trace l $BIN_DIR/tests/auto_batspp.py | testuser | testnum"
   ]
  },
  {
   "cell_type": "code",
   "execution_count": 27,
   "id": "c0b6f931",
   "metadata": {},
   "outputs": [
    {
     "name": "stdout",
     "output_type": "stream",
     "text": [
      "/usr/bin/python\n",
      "/usr/bin/python3\n"
     ]
    }
   ],
   "source": [
    "# which-python SHOWS THE PATH OF PYTHON\n",
    "which-python\n",
    "#(ADDED FOR PYTHON3)\n",
    "alias which-py3='which python3' \n",
    "which-py3"
   ]
  },
  {
   "cell_type": "code",
   "execution_count": 28,
   "id": "273938b4",
   "metadata": {},
   "outputs": [
    {
     "name": "stdout",
     "output_type": "stream",
     "text": [
      "Assuming implicit --no-glob, as otherwise  would be in extension\n",
      "abcN.py vs. atest.py   \n",
      "Differences: abcN.py atest.py   \n",
      "-rw-rw-r-- N userxfNNN userxfNNN NN  N NN:NN abcN.py\n",
      "-rw-rw-r-- N userxfNNN userxfNNN NN  N NN:NN atest.py\n",
      "NcN     \n",
      "< print('THIS IS A TESTNN') \n",
      "\\ No newline at end  file\n",
      "---     \n",
      "> print('THIS IS A TEST') \n",
      "\\ No newline at end  file\n",
      "------------------------------------------------------------------------     \n",
      "     \n",
      "atest.py vs. atest.py   \n",
      "------------------------------------------------------------------------     \n",
      "     \n",
      "xyz.py vs. atest.py   \n",
      "------------------------------------------------------------------------     \n",
      "     \n"
     ]
    }
   ],
   "source": [
    "rm -rf ./* > /dev/null\n",
    "printf \"print('THIS IS A TEST')\" > atest.py\n",
    "printf \"print('THIS IS A TEST')\" > xyz.py\n",
    "printf \"print('THIS IS A TEST11')\" > abc1.py\n",
    "\n",
    "# SHOWS ALL THE DIFFERENCES BETWEEN THE PYTHON SCRIPTS\n",
    "# WORKS FINE - HALTS TESTS\n",
    "\n",
    "py-diff atest.py xyz.py | testuser | testnum | awk '!($6=\"\")'"
   ]
  },
  {
   "cell_type": "code",
   "execution_count": 29,
   "id": "9a40ffff",
   "metadata": {},
   "outputs": [],
   "source": [
    "# # TEST NOT APPLICABLE RN \n",
    "# function kivy-win32-env {\n",
    "#    export PYTHONPATH='c:/cartera-de-tomas/python;c:/Program-Misc/python/kivy-1-9-0/kivy27'\n",
    "#    kivy_dir=\"/c/Program-Misc/python/kivy-1-9-0\"\n",
    "#    python_dir=\"$kivy_dir/Python27\"\n",
    "#    prepend-path \"$kivy_dir:$kivy_dir/Python27:$kivy_dir/tools:$kivy_dir/Python27/Scripts:$kivy_dir/gstreamer/bin:$kivy_dir/MinGW/bin:$kivy_dir/SDL2/bin\"\n",
    "# }"
   ]
  },
  {
   "cell_type": "code",
   "execution_count": 30,
   "id": "b6e7b1d1",
   "metadata": {},
   "outputs": [],
   "source": [
    "# # NEED HELP - MAYBE APPLICABLE?\n",
    "# alias elide-data='python -m transpose_data --elide'\n",
    "# alias kill-python=\"kill_em.sh --filter 'ipython|emacs' python\"\n",
    "# alias kill-python-all=\"kill_em.sh python\""
   ]
  },
  {
   "cell_type": "code",
   "execution_count": 31,
   "id": "5dbc85eb",
   "metadata": {},
   "outputs": [],
   "source": [
    "# # ERRORS = OSTYPE is 'undefined variable' \n",
    "# # NOTE: elide-data shows RuntimeError if any testfile is named abc.py\n",
    "\n",
    "# $ echo $OSTYPE\n",
    "#   linebr\n",
    "#   elide-data $BIN_DIR/template.py\n",
    "#   linebr\n",
    "#   kill-python\n",
    "#   linebr\n",
    "#   kill-python-all\n",
    "\n",
    "# | linux-gnu\n",
    "# | --------------------------------------------------------------------------------\n",
    "# | /home/xaea12/miniconda3/bin/python: No module named transpose_data\n",
    "# | --------------------------------------------------------------------------------\n",
    "# | pattern=/:[0-9][0-9] [^ ]*python/\n",
    "# | filter=/ipython|emacs/\n",
    "# | OSTYPE: Undefined variable.\n",
    "# | --------------------------------------------------------------------------------\n",
    "# | pattern=/:[0-9][0-9] [^ ]*python/\n",
    "# | filter=/($)(^)/\n",
    "# | OSTYPE: Undefined variable.\n"
   ]
  },
  {
   "cell_type": "code",
   "execution_count": 32,
   "id": "9322aa5a",
   "metadata": {},
   "outputs": [],
   "source": [
    "# alias TODAY='date'\n",
    "# alias extract-matches='extract_matches.perl'\n",
    "\n",
    "# function run-jupyter-notebook () {\n",
    "#     local port=\"$1\"; if [ \"$port\" = \"\" ]; then port=8888; fi\n",
    "#     local ip=\"$2\"; if [ \"$ip\" = \"\" ]; then ip=\"127.0.0.1\"; fi\n",
    "#     local log=\"$TEMP/jupyter-$(TODAY).log\"\n",
    "#     jupyter notebook --NotebookApp.token='' --no-browser --port $port --ip $ip >> \"$log\" 2>&1 &\n",
    "#     echo \"$log\"\n",
    "#     local delay=5\n",
    "#     echo \"sleeping $delay seconds for log to stabalize (effing jupyter)\"\n",
    "#     sleep $delay\n",
    "#     tail \"$log\"\n",
    "#     echo -n \"URL: \"\n",
    "#     extract-matches 'http:\\S+' \"$log\" | sort -u\n",
    "# }\n",
    "# alias jupyter-notebook-redir=run-jupyter-notebook\n",
    "# alias jupyter-notebook-redir-open='run-jupyter-notebook 8888 0.0.0.0'"
   ]
  },
  {
   "cell_type": "code",
   "execution_count": 33,
   "id": "caa3332b",
   "metadata": {},
   "outputs": [
    {
     "name": "stdout",
     "output_type": "stream",
     "text": [
      "sleeping N seconds for log to stabilize (maldito jupyter)\n",
      "checking log: /home/userxf333/temp/jupyter-pNNNN-NNaugNN.log\n",
      "[I NN:NN:NN.NNN NotebookApp] http://TUF-ANN-FANNNRE:NNNN/\n",
      "[I NN:NN:NN.NNN NotebookApp] Use Control-C to stop this server and shut down all kernels (twice to skip confirmation).\n",
      "[I NN:NN:NN.NNN NotebookApp] Authentication of /metrics is OFF, since other authentication is disabled.\n"
     ]
    }
   ],
   "source": [
    "# # ERROR GENERATED (see below)\n",
    "# $ jupyter-notebook-redir-open\n",
    "\n",
    "# | [1] 5335\n",
    "# | /jupyter-Sun Aug 28 08:13:40 AM +0545 2022.log\n",
    "# | sleeping 5 seconds for log to stabalize (effing jupyter)\n",
    "# | bash: /jupyter-Sun Aug 28 08:13:40 AM +0545 2022.log: Permission denied\n",
    "# | [1]+  Exit 1                  jupyter notebook --NotebookApp.token='' --no-browser --port $port --ip $ip >> \"$log\" 2>&1\n",
    "# | tail: cannot open '/jupyter-Sun Aug 28 08:13:40 AM +0545 2022.log' for reading: No such file or directory\n",
    "# | URL: Can't open /jupyter-Sun Aug 28 08:13:40 AM +0545 2022.log: No such file or directory at /home/xaea12/bin/extract_matches.perl line 132.\n",
    "jupyter-notebook-redir-open | testnum | testuser | head -n 5"
   ]
  },
  {
   "cell_type": "code",
   "execution_count": 34,
   "id": "9c155aa3",
   "metadata": {},
   "outputs": [],
   "source": [
    "# # ERROR - MODULE NOT FOUND - NEED HELP\n",
    "\n",
    "# $ rm -rf ./*\n",
    "#   printf \"print('THIS IS A TEST FOR TEXT EXTRACT ALIAS.')\" > textex.py\n",
    "#   xtract-text ./textex.py\n",
    "\n",
    "# | /home/xaea12/miniconda3/bin/python: No module named extract_document_text"
   ]
  },
  {
   "cell_type": "code",
   "execution_count": 35,
   "id": "53136103",
   "metadata": {},
   "outputs": [],
   "source": [
    "# # ERROR (LOG FILE NOT FOUND) - NEED HELP\n",
    "# $ test-script ./textex.py\n",
    "# | abort: no repository found in '/tmp/test-py-commands/test-3443' (.hg not found)\n",
    "# | bash: tests/_test_textex.03sep22.log: No such file or directory\n",
    "# | tests/_test_textex.03sep22.log: No such file or directory"
   ]
  },
  {
   "cell_type": "code",
   "execution_count": 36,
   "id": "31d1b151",
   "metadata": {},
   "outputs": [],
   "source": [
    "# TESTING A PYTHON SCRIPT\n",
    "printf \"print('THIS IS A TEST10')\\nprint('THIS IS A TEST11')\\nprint('THIS IS A TEST12')\\nprint('THIS IS A TEST13')\" > random_line_test.py"
   ]
  },
  {
   "cell_type": "code",
   "execution_count": 37,
   "id": "1b2474ec",
   "metadata": {},
   "outputs": [],
   "source": [
    "# # ERROR : MISSING MODULE (No module named randomize_lines) / TAKES TIME OF EXECUTION\n",
    "# # NEED HELP\n",
    "# randomize-datafile atest.py\n",
    "\n",
    "# ## ERROR (HALTS THE TEST)\n",
    "# $ randomize-datafile random_line_test.py\n",
    "# | print('THIS IS A TEST10')\n",
    "# | head: invalid trailing option --  \n",
    "# | Try 'head --help' for more information.\n",
    "# | /usr/bin/python: No module named randomize_lines"
   ]
  },
  {
   "cell_type": "code",
   "execution_count": 38,
   "id": "3b6aab89",
   "metadata": {},
   "outputs": [],
   "source": [
    "# # Need Help (TBF - NEED HELP OPERATING)\n",
    "# filter-random _r10pct-fubar.data"
   ]
  },
  {
   "cell_type": "code",
   "execution_count": 39,
   "id": "246618e4",
   "metadata": {},
   "outputs": [
    {
     "name": "stdout",
     "output_type": "stream",
     "text": [
      "Warning: bash script file not found (so not sourced):\n",
      "    /home/aveey/tom-project/shell-scripts/tests/../tests/_dir-aliases.bash\n",
      "'link1' -> 'file1'\n",
      "--------------------------------------------------------------------------------\n",
      "abc1.py  atest.py  file1  \u001b[0m\u001b[01;36mlink1\u001b[0m  random_line_test.py  xyz.py\n"
     ]
    }
   ],
   "source": [
    "conditional-source $BIN_DIR/tests/_dir-aliases.bash\n",
    "\n",
    "touch file1\n",
    "ln-symbolic file1 link1\n",
    "linebr\n",
    "ls"
   ]
  },
  {
   "cell_type": "code",
   "execution_count": 40,
   "id": "89a01a21",
   "metadata": {},
   "outputs": [
    {
     "name": "stdout",
     "output_type": "stream",
     "text": [
      "  % Total    % Received % Xferd  Average Speed   Time    Time     Time  Current\n",
      "                                 Dload  Upload   Total   Spent    Left  Speed\n",
      "100  1256  100  1256    0     0    776      0  0:00:01  0:00:01 --:--:--   775\n",
      "--------------------------------------------------------------------------------\n",
      "total NN    \n",
      "-rw-rw-r-- N userxf333 userxf333 NN  N NN:NN abcN.py\n",
      "-rw-rw-r-- N userxf333 userxf333 NN  N NN:NN atest.py\n",
      "-rw-rw-r-- N userxf333 userxf333 N  N NN:NN fileN\n",
      "lrwxrwxrwx N userxf333 userxf333 N  N NN:NN linkN -> fileN\n",
      "-rw-rw-r-- N userxf333 userxf333 NNN  N NN:NN random_line_test.py\n",
      "-rw-rw-r-- N userxf333 userxf333 NNNN  N NN:NN www.example.com\n",
      "-rw-rw-r-- N userxf333 userxf333 NN  N NN:NN xyz.py\n",
      "--------------------------------------------------------------------------------\n",
      "file:////home/userxf333/tom-project/shell-scripts/tests/auto_batspp.py\n"
     ]
    }
   ],
   "source": [
    "# TESTS FOR curl-dump AND url-path\n",
    "curl-dump https://www.example.com/\n",
    "linebr\n",
    "ls -l | testnum | testuser | awk '!($6=\"\")'\n",
    "linebr\n",
    "url-path $BIN_DIR/tests/auto_batspp.py | testuser"
   ]
  },
  {
   "cell_type": "code",
   "execution_count": 41,
   "id": "3777aa4a",
   "metadata": {},
   "outputs": [],
   "source": [
    "# # WORKS WELL - CANNOT USE testnum & testuser (halts test)\n",
    "# firefox"
   ]
  },
  {
   "cell_type": "code",
   "execution_count": 42,
   "id": "c57545c5",
   "metadata": {},
   "outputs": [
    {
     "name": "stdout",
     "output_type": "stream",
     "text": [
      "/tmp/test-py-commands/test-7766\n"
     ]
    }
   ],
   "source": [
    "pwd |  sed -r \"s/\"$USER\"+/user/g\"\n",
    "rm -rf * > /dev/null"
   ]
  },
  {
   "cell_type": "code",
   "execution_count": null,
   "id": "1816dfd0",
   "metadata": {},
   "outputs": [],
   "source": []
  }
 ],
 "metadata": {
  "kernelspec": {
   "display_name": "Bash",
   "language": "bash",
   "name": "bash"
  },
  "language_info": {
   "codemirror_mode": "shell",
   "file_extension": ".sh",
   "mimetype": "text/x-sh",
   "name": "bash"
  }
 },
 "nbformat": 4,
 "nbformat_minor": 5
}
