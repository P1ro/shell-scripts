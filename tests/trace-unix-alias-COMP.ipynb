{
 "cells": [
  {
   "cell_type": "code",
   "execution_count": 1,
   "id": "65d43538",
   "metadata": {},
   "outputs": [
    {
     "name": "stdout",
     "output_type": "stream",
     "text": [
      "[PEXP\\[\\]ECT_PROMPT>\n"
     ]
    }
   ],
   "source": [
    " echo $PS1"
   ]
  },
  {
   "cell_type": "code",
   "execution_count": 2,
   "id": "d623c9a9",
   "metadata": {},
   "outputs": [
    {
     "name": "stdout",
     "output_type": "stream",
     "text": [
      "0\n",
      "0\n"
     ]
    }
   ],
   "source": [
    "unalias -a\n",
    "alias | wc -l\n",
    "for f in $(typeset -f | egrep '^\\w+'); do unset -f $f; done\n",
    "typeset -f | egrep '^\\w+' | wc -l"
   ]
  },
  {
   "cell_type": "code",
   "execution_count": 3,
   "id": "ab954c7f",
   "metadata": {},
   "outputs": [
    {
     "name": "stdout",
     "output_type": "stream",
     "text": [
      "0\n",
      "/tmp/test-unix-alias/test-2899\n"
     ]
    }
   ],
   "source": [
    "TMP=/tmp/test-unix-alias\n",
    "\n",
    "BIN_DIR=$PWD/..\n",
    "\n",
    "alias | wc -l\n",
    "\n",
    "temp_dir=$TMP/test-2899\n",
    "\n",
    "mkdir -p \"$temp_dir\"\n",
    "cd \"$temp_dir\"\n",
    "pwd\n"
   ]
  },
  {
   "cell_type": "code",
   "execution_count": 4,
   "id": "ec6df159",
   "metadata": {},
   "outputs": [
    {
     "name": "stdout",
     "output_type": "stream",
     "text": [
      "0\n",
      "0\n"
     ]
    }
   ],
   "source": [
    "# Count aliases proper\n",
    "alias | wc -l\n",
    "# Count functions\n",
    "typeset -f | egrep '^\\w+' | wc -l"
   ]
  },
  {
   "cell_type": "code",
   "execution_count": 5,
   "id": "b4af87a1",
   "metadata": {},
   "outputs": [],
   "source": [
    "function group-members () { ypcat group | $GREP -i \"$1\"; }"
   ]
  },
  {
   "cell_type": "code",
   "execution_count": 6,
   "id": "dcca2d13",
   "metadata": {},
   "outputs": [],
   "source": [
    "## ERROR I - group-members\n",
    "\n",
    "# $ group-members\n",
    "# | ypcat: can't get local yp domain: Local domain name not set\n",
    "# | bash: -i: command not found"
   ]
  },
  {
   "cell_type": "code",
   "execution_count": 7,
   "id": "32632e36",
   "metadata": {},
   "outputs": [],
   "source": [
    "## TEST 1 - do-make\n",
    "function do-make () { /bin/mv -f _make.log _old_make.log; make \"$@\" >| _make.log 2>&1; $PAGER _make.log; }"
   ]
  },
  {
   "cell_type": "code",
   "execution_count": 8,
   "id": "3591194c",
   "metadata": {},
   "outputs": [
    {
     "name": "stdout",
     "output_type": "stream",
     "text": [
      "/bin/mv: cannot stat '_make.log': No such file or directory\n",
      "make: Nothing to be done for 'himom.txt'.\n",
      "make: Nothing to be done for 'himom.txt'.\n",
      "make: Nothing to be done for 'hidad.txt'.\n",
      "make: Nothing to be done for 'hidad.txt'.\n",
      "total 20\n",
      "-rw-rw-r-- 1 aveey aveey    8 Oct  6 22:12 hidad.txt\n",
      "-rw-rw-r-- 1 aveey aveey    8 Oct  6 22:12 himom.txt\n",
      "-rw-rw-r-- 1 aveey aveey   42 Oct  6 22:12 _make.log\n",
      "-rw-rw-r-- 1 aveey aveey   42 Oct  6 22:12 _old_make.log\n",
      "drwxrwxr-x 2 aveey aveey 4096 Oct  6 22:12 testfolder\n"
     ]
    }
   ],
   "source": [
    "## 1A) do-make\n",
    "rm -rf ./*\n",
    "mkdir testfolder\n",
    "echo \"Hi Mom!\" > himom.txt\n",
    "echo \"Hi Dad!\" > hidad.txt\n",
    "\n",
    "do-make \"himom.txt\"\n",
    "\n",
    "cat _make.log\n",
    "do-make \"hidad.txt\"\n",
    "cat _make.log\n",
    "\n",
    "ls -l"
   ]
  },
  {
   "cell_type": "code",
   "execution_count": 9,
   "id": "2af584a8",
   "metadata": {},
   "outputs": [],
   "source": [
    "## TEST 2 - MERGING ALIASAS & FUNCTIONS\n",
    "\n",
    "# $ man merge\n",
    "#   merge [ options ] file1 file2 file3\n",
    "#   merge  incorporates all changes that lead from file2 to file3 into file1.\n",
    "# NOTE: merge -p mod-file1 original mod-file2 >| new-file\n",
    "alias merge='echo \"do-merge MODFILE1 OLDFILE MODFILE2 > NEWFILE\"'\n",
    "alias do-merge='/usr/bin/merge -p'\n",
    "# note: version of merge usinf diff3 to specify diff program (shell wrapper with whitespace ignored)\n",
    "alias diff3-merge='/usr/bin/diff3 --merge --text --diff-program=diff.sh'\n",
    "## TODO: --auto\n",
    "function kdiff-merge() {\n",
    "    if [ \"$3\" = \"\" ]; then\n",
    "        echo \"usage: $0 changed1 old changed2 output\"\n",
    "        return\n",
    "    fi\n",
    "    kdiff3 --merge --output \"$4\" \"$1\" \"$2\" \"$3\"\n",
    "}"
   ]
  },
  {
   "cell_type": "code",
   "execution_count": 10,
   "id": "cd0c80db",
   "metadata": {},
   "outputs": [
    {
     "name": "stdout",
     "output_type": "stream",
     "text": [
      "do-merge MODFILE1 OLDFILE MODFILE2 > NEWFILE tf1.txt tf2.txt\n"
     ]
    }
   ],
   "source": [
    "# 2A) merge REPLACED BY do-merge \n",
    "\n",
    "## INITIAL FILES TO TEST THE ALIASES\n",
    "printf \"THIS IS THE 1ST FILE.\" > tf1.txt\n",
    "printf \"THIS IS THE 2ND FILE.\" > tf2.txt\n",
    "printf \"THIS IS THE 3RD FILE.\" > tf3.txt\n",
    "\n",
    "# MESSAGE SHOWN IF MERGE IS USED\n",
    "merge tf1.txt tf2.txt"
   ]
  },
  {
   "cell_type": "code",
   "execution_count": 11,
   "id": "c0c74f75",
   "metadata": {},
   "outputs": [],
   "source": [
    "# 2B) do-merge\n",
    "\n",
    "## ERROR II - do-merge DOESN'T SEEM TO WORK\n",
    "# $ do-merge tf1.txt tf2.txt tf3.txt\n",
    "# | bash: /usr/bin/merge: No such file or directory"
   ]
  },
  {
   "cell_type": "code",
   "execution_count": 12,
   "id": "d6f37399",
   "metadata": {},
   "outputs": [],
   "source": [
    "# 2C) diff3-merge\n",
    "\n",
    "## ERROR III - Undefined variable (TMP)\n",
    "\n",
    "# /usr/bin/diff3 --help\n",
    "\n",
    "# $ diff3-merge tf1.txt tf2.txt tf2.txt -A\n",
    "\n",
    "# | TMP: Undefined variable.\n",
    "# | TMP: Undefined variable.\n",
    "# | THIS IS THE 1ST FILE."
   ]
  },
  {
   "cell_type": "code",
   "execution_count": 13,
   "id": "b535f2eb",
   "metadata": {},
   "outputs": [],
   "source": [
    "# 2D) kdiff-merge\n",
    "\n",
    "#kdiff-merge \"abc\" \"def\" \"ghi\" \"himom.txt\"\n",
    "## ERROR IV - kdiff-merge NOT WORKING AS kdiff3 COMMAND MISSING\n",
    "# $ kdiff-merge abc def ghi\n",
    "# | bash: kdiff3: command not found"
   ]
  },
  {
   "cell_type": "code",
   "execution_count": 14,
   "id": "bd161757",
   "metadata": {},
   "outputs": [],
   "source": [
    "# TEST 3 - WHICH FUNCTION\n",
    "function which { /usr/bin/which \"$@\" 2> /dev/null; }\n",
    "#\n",
    "# full-dirname(filename): returns full path of directory for file\n",
    "#\n",
    "function full-dirname () { local dir=$(dirname $1); case $dir in .*) dir=\"$PWD/$1\";; esac; echo $dir; }\n",
    "#\n",
    "# base-name-with-dir(file, suffix): version of basename include dir\n",
    "function basename-with-dir {\n",
    "    local file=\"$1\"\n",
    "    local suffix=\"$2\"\n",
    "    echo $(dirname \"$file\")/$(basename \"$file\" \"$suffix\");\n",
    "}\n"
   ]
  },
  {
   "cell_type": "code",
   "execution_count": 15,
   "id": "761a2cd8",
   "metadata": {},
   "outputs": [
    {
     "name": "stdout",
     "output_type": "stream",
     "text": [
      "/tmp/test-unix-alias/test-2899/himom.txt\n",
      "./himom.txt\n"
     ]
    }
   ],
   "source": [
    "### TO FIX THE ERROR USE \"himom.txt\" --> himom.txt ###\n",
    "\n",
    "# 3A) full-dirname RETURNS THE FULL PATH OF THE FILE\n",
    "full-dirname himom.txt\n",
    "\n",
    "# 3B) base-name-with-dir RETURNS THE BASENAME INCLUDING dir\n",
    "basename-with-dir himom.txt"
   ]
  },
  {
   "cell_type": "code",
   "execution_count": 16,
   "id": "d792021b",
   "metadata": {},
   "outputs": [],
   "source": [
    "## 3C) rpm-extract IS USED FOR RED HAT BASED DISTROS (RHEL, Fedora) \n",
    "function rpm-extract () { rpm2cpio \"$1\" | cpio --extract --make-directories; }\n",
    "\n",
    "# # ERROR V:\n",
    "# $ rpm-extract\n",
    "# | bash: rpm2cpio: command not found\n",
    "# | cpio: premature end of archive\n"
   ]
  },
  {
   "cell_type": "code",
   "execution_count": 17,
   "id": "fec5b48e",
   "metadata": {},
   "outputs": [],
   "source": [
    "# TEST 4 - DEVICE INFO ALIASES\n",
    "alias dump-url='wget --recursive --relative'\n",
    "#\n",
    "alias gtime='/usr/bin/time'\n",
    "\n",
    "# see 'man 5 os-release'\n",
    "alias linux-version=\"cat /etc/os-release\"\n",
    "alias os-release=linux-version\n",
    "alias system-status='system_status.sh -'\n",
    "#"
   ]
  },
  {
   "cell_type": "code",
   "execution_count": 18,
   "id": "5cdac362",
   "metadata": {},
   "outputs": [],
   "source": [
    "## 4A) dump-url GIVES ERROR FOR BATSPP 2.1.X \n",
    "#dump-url https://www.example.com/"
   ]
  },
  {
   "cell_type": "code",
   "execution_count": 19,
   "id": "49da8c7e",
   "metadata": {},
   "outputs": [],
   "source": [
    "## 4B) gtime\n",
    "# ERROR - VI \n",
    "\n",
    "# $ gtime\n",
    "# | /usr/bin/time: missing program to run\n",
    "# | Try '/usr/bin/time --help' for more information\n"
   ]
  },
  {
   "cell_type": "code",
   "execution_count": 20,
   "id": "9bea16c5",
   "metadata": {},
   "outputs": [
    {
     "name": "stdout",
     "output_type": "stream",
     "text": [
      "PRETTY_NAME=\"Ubuntu 22.04.1 LTS\"\n",
      "NAME=\"Ubuntu\"\n",
      "VERSION_ID=\"22.04\"\n",
      "VERSION=\"22.04.1 LTS (Jammy Jellyfish)\"\n",
      "VERSION_CODENAME=jammy\n",
      "ID=ubuntu\n",
      "ID_LIKE=debian\n",
      "HOME_URL=\"https://www.ubuntu.com/\"\n",
      "SUPPORT_URL=\"https://help.ubuntu.com/\"\n",
      "BUG_REPORT_URL=\"https://bugs.launchpad.net/ubuntu/\"\n",
      "PRIVACY_POLICY_URL=\"https://www.ubuntu.com/legal/terms-and-policies/privacy-policy\"\n",
      "UBUNTU_CODENAME=jammy\n",
      "PRETTY_NAME=\"Ubuntu 22.04.1 LTS\"\n",
      "NAME=\"Ubuntu\"\n",
      "VERSION_ID=\"22.04\"\n",
      "VERSION=\"22.04.1 LTS (Jammy Jellyfish)\"\n",
      "VERSION_CODENAME=jammy\n",
      "ID=ubuntu\n",
      "ID_LIKE=debian\n",
      "HOME_URL=\"https://www.ubuntu.com/\"\n",
      "SUPPORT_URL=\"https://help.ubuntu.com/\"\n",
      "BUG_REPORT_URL=\"https://bugs.launchpad.net/ubuntu/\"\n",
      "PRIVACY_POLICY_URL=\"https://www.ubuntu.com/legal/terms-and-policies/privacy-policy\"\n",
      "UBUNTU_CODENAME=jammy\n"
     ]
    }
   ],
   "source": [
    "## 4C) linux-version GIVES INFO ALL INFO ABOUT THE OS INSTALLED\n",
    "linux-version\n",
    "# os-release ALSO WORKS SAME AS linux-version\n",
    "os-release"
   ]
  },
  {
   "cell_type": "code",
   "execution_count": 21,
   "id": "e0e10406",
   "metadata": {},
   "outputs": [],
   "source": [
    "## 4D) system-status - ERROR (STUCK DUE TO OSTYPE: Undefined variable)\n",
    "\n",
    "# $ system-status (# STUCK DUE TO OSTYPE: Undefined variable.)\n",
    "# | Linux ASPIRE5742GLUBU 5.15.0-47-generic #51-Ubuntu SMP Thu Aug 11 07:51:15 UTC 2022 x86_64 x86_64 x86_64 GNU/Linux\n",
    "# | OSTYPE: Undefined variable.\n"
   ]
  },
  {
   "cell_type": "code",
   "execution_count": 22,
   "id": "c791fc3d",
   "metadata": {},
   "outputs": [],
   "source": [
    "## 5A)\n",
    "# propos-command: show apropos output for lExecutable programs or shell commands (i.e., man section 1)\n",
    "# TODO: use '$@' for '$*' (or note why not appropriate)\n",
    "# TODO: 'apropos --section 1'\n",
    "# EX: apropos-command time | grep asctime | wc -l => 0\n",
    "function apropos-command () { apropos $* 2>&1 | $GREP '(1)' | $PAGER; }\n",
    "#\n",
    "# \n",
    "function split-tokens () { perl -pe \"s/\\s+/\\n/g;\" \"$@\"; }\n",
    "alias tokenize='split-tokens'\n",
    "#"
   ]
  },
  {
   "cell_type": "code",
   "execution_count": 23,
   "id": "73ea76b9",
   "metadata": {},
   "outputs": [
    {
     "name": "stdout",
     "output_type": "stream",
     "text": [
      "make:\n",
      "Nothing\n",
      "to\n",
      "be\n",
      "done\n",
      "for\n",
      "'himom.txt'.\n"
     ]
    }
   ],
   "source": [
    "# tokenize SPLITS THE CONTENTS IN SEVERAL LINES\n",
    "tokenize _old_make.log"
   ]
  },
  {
   "cell_type": "code",
   "execution_count": 24,
   "id": "de3e4122",
   "metadata": {},
   "outputs": [],
   "source": [
    "# 5B)\n",
    "# perl-echo(arg1): print arg1 via perl\n",
    "# NOTE: Usually Bash $'string' special tokens can be used instead\n",
    "#       (e.g., perl-echo \"A\\tB\" => echo $'A\\tB').\n",
    "# TODO: try to minimize use of quotes in perl-echo (e.g., need to mix single with double) due to bash quirks\n",
    "function perl-echo () { perl -e 'print \"'$1'\\n\";'; }\n",
    "## MISC\n",
    "function perl-echo-sans-newline () { perl -e 'print \"'$1'\";'; }\n",
    "#"
   ]
  },
  {
   "cell_type": "code",
   "execution_count": 25,
   "id": "0ee7e74e",
   "metadata": {},
   "outputs": [
    {
     "name": "stdout",
     "output_type": "stream",
     "text": [
      "This\n",
      "This"
     ]
    }
   ],
   "source": [
    "# perl-echo ONLY PRINTS OUT THE 1ST ARGUMENT\n",
    "PERL_PRINT='This is Ubuntu!'\n",
    "perl-echo $PERL_PRINT\n",
    "perl-echo-sans-newline $PERL_PRINT"
   ]
  },
  {
   "cell_type": "code",
   "execution_count": 26,
   "id": "5c25f5d5",
   "metadata": {},
   "outputs": [],
   "source": [
    "# 5C)\n",
    "# perl-printf(format, arg): output ARG2 via perl format ARG1\n",
    "## TODO: generalize perl-printf to more than 2 args\n",
    "## function perl-printf () { perl -e 'printf \"$1\\n\", @_[1..$#_];';  }\n",
    "##\n",
    "## function perl-printf () { perl -e \"printf \\\"$1\\\"\", qw/$2 \"$3\" \"$4\" \"$5\" \"$6\" \"$7\" \"$8\" \"$9\"/; }\n",
    "## MISC\n",
    "function perl-printf () { perl -e \"printf \\\"$1\\\", $2;\"; }\n",
    "##\n",
    "## TODO: get following to work for 'perl-print \"how now\\nbrown cow\\n\"'\n",
    "## function perl-print () { perl -e \"print $1\"; -e 'print \"\\n\";'; }\n",
    "## MISC\n",
    "function perl-print () { perl -e \"printf \\\"$1\\\";\" -e 'print \"\\n\";'; }\n",
    "## MISC\n",
    "function perl-print-n () { perl -e \"printf \\\"$1\\\";\"; }\n",
    "#\n",
    "# quote-tokens(): puts double quote around each token on commnd line\n",
    "# note: used to circumvent google search's annoying search term dropping\n",
    "function quote-tokens () { echo \"$@\" | perl -pe 's/(\\S+)/\"\\1\"/g;'; }"
   ]
  },
  {
   "cell_type": "code",
   "execution_count": 27,
   "id": "a5d6b066",
   "metadata": {},
   "outputs": [
    {
     "name": "stdout",
     "output_type": "stream",
     "text": [
      "ONE KISS IS ALL IT TAKES\n",
      "2\n",
      "3\n",
      "5\n",
      "7\n",
      "11\n",
      "A B C D E F G\n",
      "\"HELP\" \"ME!\"\n"
     ]
    }
   ],
   "source": [
    "perl-printf 'ONE KISS IS ALL IT TAKES\\n'\n",
    "perl-print '2\\n3\\n5\\n7\\n11'\n",
    "perl-print-n 'A B C D E F G\\n'\n",
    "quote-tokens 'HELP ME!'"
   ]
  },
  {
   "cell_type": "code",
   "execution_count": 28,
   "id": "b4502821",
   "metadata": {},
   "outputs": [
    {
     "name": "stdout",
     "output_type": "stream",
     "text": [
      "localhost:0.0\n"
     ]
    }
   ],
   "source": [
    "# 6A)\n",
    "# Unix/Win32 networking aliases\n",
    "if [ \"$OSTYPE\" != \"cygwin\" ]; then alias ipconfig=ifconfig; fi\n",
    "alias set-display-local='export DISPLAY=localhost:0.0'\n",
    "\n",
    "set-display-local\n",
    "echo $DISPLAY"
   ]
  },
  {
   "cell_type": "code",
   "execution_count": 29,
   "id": "c1ad0b09",
   "metadata": {},
   "outputs": [],
   "source": [
    "alias bash-trace-on='set -o xtrace'\n",
    "alias bash-trace-off='set - -o xtrace'\n",
    "\n",
    "function trace-cmd() {\n",
    "    (\n",
    "        echo 'start: $(date)';\n",
    "        bash-trace-on; \n",
    "        eval '$@'; \n",
    "        bash-trace-off;\n",
    "        echo 'end: $(date)';\n",
    "    ) 2>&1 | $PAGER;\n",
    "}\n",
    "alias cmd-trace='trace-cmd'\n"
   ]
  },
  {
   "cell_type": "code",
   "execution_count": 30,
   "id": "2919fe8f",
   "metadata": {},
   "outputs": [
    {
     "name": "stdout",
     "output_type": "stream",
     "text": [
      "+ trace-cmd\n",
      "+ cat\n",
      "+ echo 'start: $(date)'\n",
      "start: $(date)\n",
      "+ set -o xtrace\n",
      "+ eval '$@'\n",
      "+ set - -o xtrace\n",
      "end: $(date)\n",
      "+ set - -o xtrace\n",
      "start: $(date)\n",
      "+ eval '$@'\n",
      "+ set - -o xtrace\n",
      "end: $(date)\n"
     ]
    }
   ],
   "source": [
    "## bash-trace-on ENABLES bash tracing\n",
    "bash-trace-on\n",
    "## trace-cmd TRACES COMMANDS AND STATS (TIME) OF THE USER\n",
    "trace-cmd\n",
    "## bash-trace-on DISABLES bash tracing\n",
    "bash-trace-off\n",
    "trace-cmd"
   ]
  },
  {
   "cell_type": "code",
   "execution_count": 31,
   "id": "46c78ac9",
   "metadata": {},
   "outputs": [],
   "source": [
    "function cmd-usage () {\n",
    "    local command=\"$@\";\n",
    "    local usage_file=\"_$(echo \"$command\" | tr ' ' '_')-usage.list\"\n",
    "    $command --help  2>&1 | ansifilter > \"$usage_file\"\n",
    "    $PAGER_NOEXIT \"$usage_file\"\n",
    "}"
   ]
  },
  {
   "cell_type": "code",
   "execution_count": 32,
   "id": "32d805f0",
   "metadata": {},
   "outputs": [],
   "source": [
    "function compress-dir() {\n",
    "    log_file=$TEMP/compress_$(basename \"$1\").log\n",
    "    find \"$1\" \\( -not -type l \\) -exec gzip -vf {} \\; >| \"$log_file\" 2>&1 \n",
    "    $PAGER \"$log_file\"\n",
    "}\n",
    "\n",
    "function uncompress-dir() {\n",
    "    log_file=$TEMP/uncompress_$(basename \"$1\").log;\n",
    "    find \"$1\" \\( -not -type l \\) \\( -not -name \\*.tar.gz \\) -exec gunzip -vf {} \\; >| \"$log_file\" 2>&1; $PAGER \"$log_file\";\n",
    "}\n",
    "alias compress-this-dir='compress-dir $PWD'\n",
    "alias ununcompress-this-dir='uncompress-dir $PWD'"
   ]
  },
  {
   "cell_type": "code",
   "execution_count": 33,
   "id": "ef8e82ea",
   "metadata": {},
   "outputs": [],
   "source": [
    "## ERROR (PERMISSION DENIED - NEED TO OBSERVE)\n",
    "# $ ls\n",
    "# $ cp tf2.txt testfolder/\n",
    "# $ linebr\n",
    "# $ compress-this-dir ./testfolder\n",
    "# $ linebr\n",
    "# $ ls\n",
    "# $ linebr\n",
    "# $ ununcompress-this-dir ./testfolder"
   ]
  },
  {
   "cell_type": "code",
   "execution_count": 34,
   "id": "7b304e27",
   "metadata": {},
   "outputs": [],
   "source": [
    "## TEST 9B)\n",
    "\n",
    "alias old-count-exts='$LS | count-it \"\\.[^.]*\\w\" | sort $SORT_COL2 -rn | $PAGER'\n",
    "function count-exts () { $LS | count-it '\\.[^.]+$' | sort $SORT_COL2 -rn | $PAGER; }\n",
    "\n",
    "alias kill-iceweasel='kill_em.sh iceweasel'"
   ]
  },
  {
   "cell_type": "code",
   "execution_count": 35,
   "id": "b77a00b6",
   "metadata": {},
   "outputs": [],
   "source": [
    "# ERROR GENERATED: count-it NOT MENTIONED IN THIS TEST\n",
    "# $ old-count-exts\n",
    "# | bash: count-it: command not found\n",
    "\n",
    "# $ kill-iceweasel\n",
    "# | pattern=/:[0-9][0-9] [^ ]*iceweasel/\n",
    "# | filter=/($)(^)/\n",
    "# | OSTYPE: Undefined variable.\n",
    "\n",
    "#kill-iceweasel"
   ]
  },
  {
   "cell_type": "code",
   "execution_count": 36,
   "id": "9c524bdc",
   "metadata": {},
   "outputs": [],
   "source": [
    "## EXCEPTION ERROR FOR TOKEN - BATSPP 2.1.X\n",
    "\n",
    "## cmd-usage(command): output usage for command to _command.list (with spaces replaced by underscores)\n",
    "\n",
    "function cmd-usage () {\n",
    "    local command=\"$@\"\n",
    "    local usage_file=\"_$(echo \"$command\" | tr ' ' '_')-usage.list\"\n",
    "    $command --help  2>&1 | ansifilter > \"$usage_file\"\n",
    "    $PAGER_NOEXIT \"$usage_file\"\n",
    "}\n"
   ]
  },
  {
   "cell_type": "code",
   "execution_count": 37,
   "id": "1b9bea43",
   "metadata": {},
   "outputs": [],
   "source": [
    "## cmd-usage (HELP REQUIRED)"
   ]
  },
  {
   "cell_type": "code",
   "execution_count": 38,
   "id": "c87c3dce",
   "metadata": {},
   "outputs": [
    {
     "name": "stdout",
     "output_type": "stream",
     "text": [
      "Done!\n"
     ]
    }
   ],
   "source": [
    "echo \"Done!\""
   ]
  },
  {
   "cell_type": "code",
   "execution_count": null,
   "id": "a2449b2f",
   "metadata": {},
   "outputs": [],
   "source": []
  }
 ],
 "metadata": {
  "kernelspec": {
   "display_name": "Bash",
   "language": "bash",
   "name": "bash"
  },
  "language_info": {
   "codemirror_mode": "shell",
   "file_extension": ".sh",
   "mimetype": "text/x-sh",
   "name": "bash"
  }
 },
 "nbformat": 4,
 "nbformat_minor": 5
}
