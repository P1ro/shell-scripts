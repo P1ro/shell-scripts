{
 "cells": [
  {
   "cell_type": "code",
   "execution_count": 1,
   "id": "d8d3fc06",
   "metadata": {},
   "outputs": [
    {
     "name": "stdout",
     "output_type": "stream",
     "text": [
      "BIND ON!\u001b[?2004l\n"
     ]
    }
   ],
   "source": [
    "# Setup\n",
    "bind 'set enable-bracketed-paste off'\n",
    "echo \"BIND ON!\""
   ]
  },
  {
   "cell_type": "code",
   "execution_count": 2,
   "id": "6dcea75d",
   "metadata": {},
   "outputs": [],
   "source": [
    "## TESTS START FROM LINE 2066 (tomohara-aliases.bash)\n",
    "\n",
    "## Bracketed Paste is disabled to prevent characters after output\n",
    "## Example: \n",
    "# $ echo 'Hi'\n",
    "# | Hi?2004l"
   ]
  },
  {
   "cell_type": "code",
   "execution_count": 3,
   "id": "65d43538",
   "metadata": {},
   "outputs": [
    {
     "name": "stdout",
     "output_type": "stream",
     "text": [
      "[PEXP\\[\\]ECT_PROMPT>\n"
     ]
    }
   ],
   "source": [
    "## TEST:  Make sure simple prompt used (e.g., no escapes that might contaminate output)\n",
    "## PS1=\"$ \"\n",
    "## TODO: PS1=\"> \"\n",
    "\n",
    "## NOTE: The Jupyter bash kernel requires that PS1 not be modified as they customize it. \n",
    "echo $PS1"
   ]
  },
  {
   "cell_type": "code",
   "execution_count": 4,
   "id": "d623c9a9",
   "metadata": {},
   "outputs": [
    {
     "name": "stdout",
     "output_type": "stream",
     "text": [
      "0\n",
      "0\n"
     ]
    }
   ],
   "source": [
    "# Delete all aliases and function\n",
    "# TODO: Instead start from pristine environment\n",
    "unalias -a\n",
    "alias | wc -l\n",
    "for f in $(typeset -f | egrep '^\\w+'); do unset -f $f; done\n",
    "typeset -f | egrep '^\\w+' | wc -l"
   ]
  },
  {
   "cell_type": "code",
   "execution_count": 5,
   "id": "0ff8f157",
   "metadata": {},
   "outputs": [
    {
     "name": "stdout",
     "output_type": "stream",
     "text": [
      "0\n"
     ]
    }
   ],
   "source": [
    "# Setting a temp directory for tests\n",
    "TMP=/tmp/test-unix\n",
    "\n",
    "## NOTE: Source it directly from the ./tests directory.\n",
    "BIN_DIR=$PWD/..\n",
    "\n",
    "alias | wc -l"
   ]
  },
  {
   "cell_type": "code",
   "execution_count": 6,
   "id": "ab954c7f",
   "metadata": {},
   "outputs": [
    {
     "name": "stdout",
     "output_type": "stream",
     "text": [
      "/tmp/test-unix/test-3245\n"
     ]
    }
   ],
   "source": [
    "## NOTE: For reproducability, the directory name needs to be fixed\n",
    "## In place of $$, use a psuedo random number (e,g., 3245)\n",
    "## *** All output from one run to the next needs to be the same ***\n",
    "\n",
    "## temp_dir=$TMP/test-$$\n",
    "temp_dir=$TMP/test-3245\n",
    "\n",
    "mkdir -p \"$temp_dir\"\n",
    "# TODO: /bin/rm -rvf \"$temp_dir\"\n",
    "cd \"$temp_dir\"\n",
    "pwd\n",
    "\n",
    "#ALIAS FOR PRINTING SEPERATION LINES (FOR JUPYTER)\n",
    "alias linebr=\"printf '%*s\\n' \"${COLUMNS:-$(tput cols)}\" '' | tr ' ' -\""
   ]
  },
  {
   "cell_type": "code",
   "execution_count": 7,
   "id": "ec6df159",
   "metadata": {},
   "outputs": [
    {
     "name": "stdout",
     "output_type": "stream",
     "text": [
      "1\n",
      "0\n"
     ]
    }
   ],
   "source": [
    "# Count aliases proper\n",
    "alias | wc -l\n",
    "# Count functions\n",
    "typeset -f | egrep '^\\w+' | wc -l"
   ]
  },
  {
   "cell_type": "code",
   "execution_count": 8,
   "id": "d312db03",
   "metadata": {},
   "outputs": [],
   "source": [
    "# ps-all(pattern): show processes from all users matching PATTERN (or . in which case piped to less)\n",
    "# TODO: have option to restrict to current user\n",
    "function ps-all () { \n",
    "    local pattern=\"$1\";\n",
    "    local pager=cat;\n",
    "    if [ \"$pattern\" = \"\" ]; then \n",
    "        pattern=\".\"; \n",
    "        pager=$PAGER\n",
    "    fi;\n",
    "    ps_mine.sh --all | $EGREP -i \"((^USER)|($pattern))\" | $pager;\n",
    "    }\n",
    "\n",
    "alias ps-script='ps-all \"\\\\bscript\\\\b\" | $GREP -v \"(gnome-session)\"'\n",
    "function ps-sort-once { ps_sort.perl -num_times=1 -by=time \"$@\" -; }\n",
    "alias ps-sort-time='ps-sort-once -by=time'\n",
    "alias ps-time=ps-sort-time\n",
    "alias ps-sort-mem='ps-sort-once -by=mem '\n",
    "alias ps-mem=ps-sort-mem\n"
   ]
  },
  {
   "cell_type": "code",
   "execution_count": 9,
   "id": "8599b61b",
   "metadata": {},
   "outputs": [],
   "source": [
    "alias ps-script='ps-all \"\\\\bscript\\\\b\" | $GREP -v \"(gnome-session)\"'\n",
    "function ps-sort-once { ps_sort.perl -num_times=1 -by=time \"$@\" -; }\n",
    "alias ps-sort-time='ps-sort-once -by=time'\n",
    "alias ps-time=ps-sort-time\n",
    "alias ps-sort-mem='ps-sort-once -by=mem '\n",
    "alias ps-mem=ps-sort-mem"
   ]
  },
  {
   "cell_type": "code",
   "execution_count": 10,
   "id": "2395c71a",
   "metadata": {},
   "outputs": [
    {
     "name": "stdout",
     "output_type": "stream",
     "text": [
      "Error: bad sort field (time): using cpu\n",
      "USER         PID %CPU %MEM    VSZ   RSS TTY      STAT START   TIME COMMAND\n",
      "aveey       1940 16.5 11.8 3559492 437112 ?      Ssl  18:45   2:21 /snap/firef\n",
      "aveey       4358 10.7  1.4 672904 51964 ?        Ssl  18:59   0:00 /usr/bin/py\n",
      "aveey       3552  6.2  5.2 2544272 195016 ?      Sl   18:46   0:51 /snap/firef\n",
      "aveey       1347  2.7  6.6 25834536 246060 ?     Sl   18:35   0:39 /opt/Upwork\n",
      "root         866  1.9  2.8 683152 104852 tty1    Ssl+ 18:33   0:31 /usr/lib/xo\n",
      "aveey       4112  1.9  4.7 2536612 176300 ?      Sl   18:54   0:06 /snap/firef\n",
      "aveey       4368  1.0  0.1  11480  5544 pts/1    Ss   18:59   0:00 /usr/bin/ba\n",
      "aveey       3526  0.8  5.0 19460268 186388 ?     Sl   18:46   0:07 /snap/firef\n",
      "aveey       1247  0.7  4.5 4788200 168432 ?      Sl   18:35   0:11 /opt/Upwork\n",
      "aveey       1549  0.7  2.0 241692 74828 pts/0    Sl+  18:45   0:06 /usr/bin/py\n",
      "aveey       1326  0.2  1.9 286020 71776 ?        Sl   18:35   0:03 /opt/Upwork\n",
      "root           1  0.1  0.3 166312 11708 ?        Ss   18:32   0:01 /sbin/init \n",
      "root         694  0.1  1.0 1096492 37308 ?       Ssl  18:32   0:02 /usr/lib/sn\n",
      "aveey       1072  0.1  2.8 1206800 105556 ?      Sl   18:33   0:02 /usr/bin/lx\n",
      "aveey       2437  0.1  3.6 2856908 133092 ?      Sl   18:45   0:01 /snap/firef\n",
      "aveey       3062  0.1  2.9 2449764 107740 ?      Sl   18:46   0:01 /snap/firef\n",
      "root           2  0.0  0.0      0     0 ?        S    18:32   0:00 [kthreadd]\n",
      "root           3  0.0  0.0      0     0 ?        I<   18:32   0:00 [rcu_gp]\n",
      "root           4  0.0  0.0      0     0 ?        I<   18:32   0:00 [rcu_par_gp\n",
      "root           5  0.0  0.0      0     0 ?        I<   18:32   0:00 [netns]\n",
      "root           6  0.0  0.0      0     0 ?        I    18:32   0:00 [kworker/0:\n",
      "root           7  0.0  0.0      0     0 ?        I<   18:32   0:00 [kworker/0:\n",
      "root           9  0.0  0.0      0     0 ?        I<   18:32   0:00 [kworker/0:\n",
      "root          10  0.0  0.0      0     0 ?        I<   18:32   0:00 [mm_percpu_\n",
      "root          11  0.0  0.0      0     0 ?        S    18:32   0:00 [rcu_tasks_\n",
      "root          12  0.0  0.0      0     0 ?        S    18:32   0:00 [rcu_tasks_\n",
      "root          13  0.0  0.0      0     0 ?        S    18:32   0:00 [ksoftirqd/\n",
      "root          14  0.0  0.0      0     0 ?        I    18:32   0:00 [rcu_sched]\n",
      "root          15  0.0  0.0      0     0 ?        S    18:32   0:00 [migration/\n",
      "root          16  0.0  0.0      0     0 ?        S    18:32   0:00 [idle_injec\n",
      "root          18  0.0  0.0      0     0 ?        S    18:32   0:00 [cpuhp/0]\n",
      "root          19  0.0  0.0      0     0 ?        S    18:32   0:00 [cpuhp/1]\n",
      "root          20  0.0  0.0      0     0 ?        S    18:32   0:00 [idle_injec\n",
      "root          21  0.0  0.0      0     0 ?        S    18:32   0:00 [migration/\n",
      "root          22  0.0  0.0      0     0 ?        S    18:32   0:00 [ksoftirqd/\n",
      "root          24  0.0  0.0      0     0 ?        I<   18:32   0:00 [kworker/1:\n",
      "root          25  0.0  0.0      0     0 ?        S    18:32   0:00 [cpuhp/2]\n",
      "root          26  0.0  0.0      0     0 ?        S    18:32   0:00 [idle_injec\n"
     ]
    }
   ],
   "source": [
    "# SORTS ALL PROCESS BY TIME\n",
    "ps-sort-time"
   ]
  },
  {
   "cell_type": "code",
   "execution_count": 11,
   "id": "bc13426e",
   "metadata": {},
   "outputs": [
    {
     "name": "stdout",
     "output_type": "stream",
     "text": [
      "Error: bad sort field (time): using cpu\n",
      "USER         PID %CPU %MEM    VSZ   RSS TTY      STAT START   TIME COMMAND\n",
      "aveey       1940 16.5 11.8 3559492 438160 ?      Ssl  18:45   2:21 /snap/firef\n",
      "aveey       4358 11.0  1.4 672904 52020 ?        Ssl  18:59   0:00 /usr/bin/py\n",
      "aveey       3552  6.2  5.3 2545296 195620 ?      Sl   18:46   0:52 /snap/firef\n",
      "aveey       1347  2.7  6.6 25834536 246060 ?     Sl   18:35   0:39 /opt/Upwork\n",
      "root         866  1.9  2.8 683152 104852 tty1    Ssl+ 18:33   0:31 /usr/lib/xo\n",
      "aveey       4112  1.9  4.7 2536612 176300 ?      Sl   18:54   0:06 /snap/firef\n",
      "aveey       4368  1.0  0.1  11480  5544 pts/1    Ss   18:59   0:00 /usr/bin/ba\n",
      "aveey       3526  0.8  5.0 19460268 186388 ?     Sl   18:46   0:07 /snap/firef\n",
      "aveey       1247  0.7  4.5 4788200 168432 ?      Sl   18:35   0:11 /opt/Upwork\n",
      "aveey       1549  0.7  2.0 241692 74828 pts/0    Sl+  18:45   0:06 /usr/bin/py\n",
      "aveey       1326  0.2  1.9 286020 71776 ?        Sl   18:35   0:03 /opt/Upwork\n",
      "root           1  0.1  0.3 166312 11708 ?        Ss   18:32   0:01 /sbin/init \n",
      "root         694  0.1  1.0 1096492 37308 ?       Ssl  18:32   0:02 /usr/lib/sn\n",
      "aveey       1072  0.1  2.8 1206800 105556 ?      Sl   18:33   0:02 /usr/bin/lx\n",
      "aveey       2437  0.1  3.6 2856908 133092 ?      Sl   18:45   0:01 /snap/firef\n",
      "aveey       3062  0.1  2.9 2449764 107740 ?      Sl   18:46   0:01 /snap/firef\n",
      "root           2  0.0  0.0      0     0 ?        S    18:32   0:00 [kthreadd]\n",
      "root           3  0.0  0.0      0     0 ?        I<   18:32   0:00 [rcu_gp]\n",
      "root           4  0.0  0.0      0     0 ?        I<   18:32   0:00 [rcu_par_gp\n",
      "root           5  0.0  0.0      0     0 ?        I<   18:32   0:00 [netns]\n",
      "root           6  0.0  0.0      0     0 ?        I    18:32   0:00 [kworker/0:\n",
      "root           7  0.0  0.0      0     0 ?        I<   18:32   0:00 [kworker/0:\n",
      "root           9  0.0  0.0      0     0 ?        I<   18:32   0:00 [kworker/0:\n",
      "root          10  0.0  0.0      0     0 ?        I<   18:32   0:00 [mm_percpu_\n",
      "root          11  0.0  0.0      0     0 ?        S    18:32   0:00 [rcu_tasks_\n",
      "root          12  0.0  0.0      0     0 ?        S    18:32   0:00 [rcu_tasks_\n",
      "root          13  0.0  0.0      0     0 ?        S    18:32   0:00 [ksoftirqd/\n",
      "root          14  0.0  0.0      0     0 ?        I    18:32   0:00 [rcu_sched]\n",
      "root          15  0.0  0.0      0     0 ?        S    18:32   0:00 [migration/\n",
      "root          16  0.0  0.0      0     0 ?        S    18:32   0:00 [idle_injec\n",
      "root          18  0.0  0.0      0     0 ?        S    18:32   0:00 [cpuhp/0]\n",
      "root          19  0.0  0.0      0     0 ?        S    18:32   0:00 [cpuhp/1]\n",
      "root          20  0.0  0.0      0     0 ?        S    18:32   0:00 [idle_injec\n",
      "root          21  0.0  0.0      0     0 ?        S    18:32   0:00 [migration/\n",
      "root          22  0.0  0.0      0     0 ?        S    18:32   0:00 [ksoftirqd/\n",
      "root          24  0.0  0.0      0     0 ?        I<   18:32   0:00 [kworker/1:\n",
      "root          25  0.0  0.0      0     0 ?        S    18:32   0:00 [cpuhp/2]\n",
      "root          26  0.0  0.0      0     0 ?        S    18:32   0:00 [idle_injec\n"
     ]
    }
   ],
   "source": [
    "# ACTS THE SAME AS ps-sort-time\n",
    "ps-time"
   ]
  },
  {
   "cell_type": "code",
   "execution_count": 12,
   "id": "b688da20",
   "metadata": {},
   "outputs": [
    {
     "name": "stdout",
     "output_type": "stream",
     "text": [
      "USER         PID %CPU %MEM    VSZ   RSS TTY      STAT START   TIME COMMAND\n",
      "aveey       1940 16.5 11.9 3559492 438964 ?      Ssl  18:45   2:21 /snap/firef\n",
      "aveey       1347  2.7  6.6 25834536 246060 ?     Sl   18:35   0:39 /opt/Upwork\n",
      "aveey       3552  6.2  5.3 2546320 197116 ?      Sl   18:46   0:52 /snap/firef\n",
      "aveey       3526  0.8  5.0 19460268 186388 ?     Sl   18:46   0:07 /snap/firef\n",
      "aveey       4112  1.9  4.7 2536612 176300 ?      Sl   18:54   0:06 /snap/firef\n",
      "aveey       1247  0.7  4.5 4788200 168432 ?      Sl   18:35   0:11 /opt/Upwork\n",
      "aveey       2437  0.1  3.6 2856908 133092 ?      Sl   18:45   0:01 /snap/firef\n",
      "aveey       3062  0.1  2.9 2449764 107740 ?      Sl   18:46   0:01 /snap/firef\n",
      "root         866  1.9  2.8 683152 104852 tty1    Ssl+ 18:33   0:31 /usr/lib/xo\n",
      "aveey       1072  0.1  2.8 1206800 105556 ?      Sl   18:33   0:02 /usr/bin/lx\n",
      "aveey       1068  0.0  2.7 861112 101196 ?       Sl   18:33   0:00 /usr/bin/pc\n",
      "aveey       1251  0.0  2.4 755944 90968 ?        Sl   18:35   0:01 xfce4-termi\n",
      "aveey       3014  0.0  2.4 2425852 90816 ?       Sl   18:46   0:00 /snap/firef\n",
      "aveey       1549  0.7  2.0 241692 74828 pts/0    Sl+  18:45   0:06 /usr/bin/py\n",
      "aveey       1326  0.2  1.9 286020 71776 ?        Sl   18:35   0:03 /opt/Upwork\n",
      "aveey       1382  0.0  1.8 4504348 68472 ?       Sl   18:36   0:00 /opt/Upwork\n",
      "aveey       1402  0.0  1.8 4502300 68556 ?       Sl   18:36   0:00 /opt/Upwork\n",
      "aveey       1436  0.0  1.8 4502300 67268 ?       Sl   18:36   0:00 /opt/Upwork\n",
      "aveey       4192  0.0  1.7 2407188 65208 ?       Sl   18:55   0:00 /snap/firef\n",
      "aveey       4152  0.0  1.6 2407168 62396 ?       Sl   18:54   0:00 /snap/firef\n",
      "aveey       4228  0.0  1.6 2407188 62356 ?       Sl   18:56   0:00 /snap/firef\n",
      "aveey       1313  0.0  1.5 273840 58480 ?        Sl   18:35   0:01 /opt/Upwork\n",
      "aveey       1074  0.0  1.4 576624 51908 ?        Sl   18:33   0:00 /usr/bin/lx\n",
      "aveey       1424  0.0  1.4 522836 54084 ?        Sl   18:36   0:00 /opt/Upwork\n",
      "aveey       4358 11.5  1.4 672904 52020 ?        Ssl  18:59   0:00 /usr/bin/py\n",
      "aveey       1222  0.0  1.3 504148 47980 ?        Sl   18:34   0:00 /usr/bin/lx\n",
      "aveey       1249  0.0  1.2 207348 46536 ?        S    18:35   0:00 /opt/Upwork\n",
      "aveey       1250  0.0  1.2 207348 46756 ?        S    18:35   0:00 /opt/Upwork\n",
      "aveey       1000  0.0  1.1 336628 41616 ?        Sl   18:33   0:00 lxqt-sessio\n",
      "aveey       1071  0.0  1.1 275848 43160 ?        Sl   18:33   0:00 /usr/bin/lx\n",
      "aveey       1073  0.0  1.1 410024 41912 ?        Sl   18:33   0:00 /usr/bin/lx\n",
      "aveey       1224  0.0  1.1 271432 41880 ?        Sl   18:34   0:00 /usr/bin/ql\n",
      "aveey       1226  0.0  1.1 272668 42228 ?        Sl   18:34   0:00 /usr/bin/nm\n",
      "root         694  0.1  1.0 1096492 37308 ?       Ssl  18:32   0:02 /usr/lib/sn\n",
      "aveey       1069  0.0  1.0 336148 39240 ?        Sl   18:33   0:00 /usr/bin/lx\n",
      "aveey       2948  0.0  1.0 268112 40356 ?        Ssl  18:46   0:00 /usr/lib/x8\n",
      "aveey       2993  0.0  0.9 218728 36768 ?        Sl   18:46   0:00 /snap/firef\n",
      "aveey       3160  0.0  0.9 218712 34876 ?        Sl   18:46   0:00 /snap/firef\n"
     ]
    }
   ],
   "source": [
    "# SORTS ALL PROCESS BY MEMORY\n",
    "ps-sort-mem"
   ]
  },
  {
   "cell_type": "code",
   "execution_count": 13,
   "id": "775ea494",
   "metadata": {},
   "outputs": [
    {
     "name": "stdout",
     "output_type": "stream",
     "text": [
      "USER         PID %CPU %MEM    VSZ   RSS TTY      STAT START   TIME COMMAND\n",
      "aveey       1940 16.5 11.8 3559492 437464 ?      Ssl  18:45   2:21 /snap/firef\n",
      "aveey       1347  2.7  7.1 25852196 263732 ?     Sl   18:35   0:39 /opt/Upwork\n",
      "aveey       3552  6.2  5.3 2547344 198488 ?      Sl   18:46   0:52 /snap/firef\n",
      "aveey       3526  0.8  5.0 19460268 186388 ?     Sl   18:46   0:07 /snap/firef\n",
      "aveey       4112  1.9  4.7 2536612 176300 ?      Sl   18:54   0:06 /snap/firef\n",
      "aveey       1247  0.7  4.5 4788200 168432 ?      Sl   18:35   0:11 /opt/Upwork\n",
      "aveey       2437  0.1  3.6 2856908 133092 ?      Sl   18:45   0:01 /snap/firef\n",
      "aveey       3062  0.1  2.9 2449764 107740 ?      Sl   18:46   0:01 /snap/firef\n",
      "root         866  1.9  2.8 683152 104852 tty1    Ssl+ 18:33   0:31 /usr/lib/xo\n",
      "aveey       1072  0.1  2.8 1206800 105556 ?      Sl   18:33   0:02 /usr/bin/lx\n",
      "aveey       1068  0.0  2.7 861112 101196 ?       Sl   18:33   0:00 /usr/bin/pc\n",
      "aveey       1251  0.0  2.4 755944 90968 ?        Sl   18:35   0:01 xfce4-termi\n",
      "aveey       3014  0.0  2.4 2425852 90816 ?       Sl   18:46   0:00 /snap/firef\n",
      "aveey       1549  0.7  2.0 241692 74828 pts/0    Sl+  18:45   0:06 /usr/bin/py\n",
      "aveey       1326  0.2  1.9 286020 71776 ?        Sl   18:35   0:03 /opt/Upwork\n",
      "aveey       1382  0.0  1.8 4504348 68472 ?       Sl   18:36   0:00 /opt/Upwork\n",
      "aveey       1402  0.0  1.8 4502300 68556 ?       Sl   18:36   0:00 /opt/Upwork\n",
      "aveey       1436  0.0  1.8 4502300 67268 ?       Sl   18:36   0:00 /opt/Upwork\n",
      "aveey       4192  0.0  1.7 2407188 65208 ?       Sl   18:55   0:00 /snap/firef\n",
      "aveey       4152  0.0  1.6 2407168 62396 ?       Sl   18:54   0:00 /snap/firef\n",
      "aveey       4228  0.0  1.6 2407188 62356 ?       Sl   18:56   0:00 /snap/firef\n",
      "aveey       1313  0.0  1.5 273840 58480 ?        Sl   18:35   0:01 /opt/Upwork\n",
      "aveey       1074  0.0  1.4 576624 51908 ?        Sl   18:33   0:00 /usr/bin/lx\n",
      "aveey       1424  0.0  1.4 522836 54084 ?        Sl   18:36   0:00 /opt/Upwork\n",
      "aveey       4358 11.8  1.4 672904 52020 ?        Ssl  18:59   0:00 /usr/bin/py\n",
      "aveey       1222  0.0  1.3 504148 47980 ?        Sl   18:34   0:00 /usr/bin/lx\n",
      "aveey       1249  0.0  1.2 207348 46536 ?        S    18:35   0:00 /opt/Upwork\n",
      "aveey       1250  0.0  1.2 207348 46756 ?        S    18:35   0:00 /opt/Upwork\n",
      "aveey       1000  0.0  1.1 336628 41616 ?        Sl   18:33   0:00 lxqt-sessio\n",
      "aveey       1071  0.0  1.1 275848 43160 ?        Sl   18:33   0:00 /usr/bin/lx\n",
      "aveey       1073  0.0  1.1 410024 41912 ?        Sl   18:33   0:00 /usr/bin/lx\n",
      "aveey       1224  0.0  1.1 271432 41880 ?        Sl   18:34   0:00 /usr/bin/ql\n",
      "aveey       1226  0.0  1.1 272668 42228 ?        Sl   18:34   0:00 /usr/bin/nm\n",
      "root         694  0.1  1.0 1096492 37308 ?       Ssl  18:32   0:02 /usr/lib/sn\n",
      "aveey       1069  0.0  1.0 336148 39240 ?        Sl   18:33   0:00 /usr/bin/lx\n",
      "aveey       2948  0.0  1.0 268112 40356 ?        Ssl  18:46   0:00 /usr/lib/x8\n",
      "aveey       2993  0.0  0.9 218728 36768 ?        Sl   18:46   0:00 /snap/firef\n",
      "aveey       3160  0.0  0.9 218712 34876 ?        Sl   18:46   0:00 /snap/firef\n"
     ]
    }
   ],
   "source": [
    "# ps-mem IS AN ALTERNATIVE OF ps-sort-mem\n",
    "ps-mem"
   ]
  },
  {
   "cell_type": "code",
   "execution_count": 14,
   "id": "6ed9a120",
   "metadata": {},
   "outputs": [],
   "source": [
    "# ERROR GENERATED FOR ps-script\n",
    "# $ ps-script\n",
    "# | bash: -v: command not found\n",
    "# | bash: -i: command not found\n",
    "# | OSTYPE: Undefined variable.\n"
   ]
  },
  {
   "cell_type": "code",
   "execution_count": 15,
   "id": "2e45d738",
   "metadata": {},
   "outputs": [],
   "source": [
    "# ERROR GENERATED FOR ps-all\n",
    "# $ ps-all\n",
    "# | bash: -i: command not found\n",
    "# | OSTYPE: Undefined variable.\n"
   ]
  },
  {
   "cell_type": "code",
   "execution_count": 16,
   "id": "82c5fd09",
   "metadata": {},
   "outputs": [],
   "source": [
    "function get-process-parent() { local pid=\"$1\"; if [ \"$pid\" = \"\" ]; then pid=$$; fi; ps al | perl -Ssw extract_matches.perl \"^\\d+\\s+\\d+\\s+$pid\\s+(\\d+)\"; }"
   ]
  },
  {
   "cell_type": "code",
   "execution_count": 17,
   "id": "bf36bf1a",
   "metadata": {},
   "outputs": [
    {
     "name": "stdout",
     "output_type": "stream",
     "text": [
      "F   UID     PID    PPID PRI  NI    VSZ   RSS WCHAN  STAT TTY        TIME COMMAND\n",
      "0  1000    4368    4358  20   0  11480  5544 do_wai Ss   pts/1      0:00 /usr/bin/bash --rcfile /usr/lib/python3/dist-packages/pexpect/bashrc.sh\n",
      "4  1000    4424    4368  20   0  12668  1656 -      R+   pts/1      0:00 ps al\n",
      "0  1000    4425    4368  20   0   9076  2356 pipe_r S+   pts/1      0:00 grep -E (PID|4368)\n",
      "--------------------------------------------------------------------------------\n",
      "4358\n"
     ]
    }
   ],
   "source": [
    "ps al | egrep \"(PID|$$)\"\n",
    "linebr\n",
    "# get-process-parent : return parent process-id for PID\n",
    "get-process-parent"
   ]
  },
  {
   "cell_type": "code",
   "execution_count": 18,
   "id": "c7ea3021",
   "metadata": {},
   "outputs": [],
   "source": [
    "# Make sure script appends rather than overwrites.\n",
    "# In addition, set SCRIPT_PID, so that set_xterm_title.bash can indicate within script.\n",
    "# Also, appends $ to prompt symbol so that typescript prompt searchable with strings command\n",
    "## HACK: set envionment for sake of set_xterm_title.bash (TODO check PPID for this)\n",
    "## TODO: use stack for old_PS_symbol maintenance??? (also allows for recursive invocation, such as with '$ $ $')\n",
    "## TODO: rename as my-script to avoid confusion\n",
    "function script {\n",
    "    ## THIS FUNCTION IS BUGGY\n",
    "    ## Note: set_xterm_title.bash keeps track of titles for each process, so save copies of current ones\n",
    "    local save_full=$(set-xterm-title --print-full)\n",
    "    local save_icon=$(set-xterm-title --print-icon)\n",
    "    ## DEBUG: echo \"save_full='$save_full'; save_icon='$save_icon'\"\n",
    "  \n",
    "    # Change prompt\n",
    "    local old_PS_symbol=\"$PS_symbol\"\n",
    "    export SCRIPT_PID=$$\n",
    "    # Note: the prompt change is flakey\n",
    "    reset-prompt \"$PS_symbol\\$\"\n",
    "    ## DEBUG: echo \"script: 1. PS1='$PS1' old_PS_symbol='$old_PS_symbol' PS_symbol='$new_PS_symbol'\"\n",
    "    \n",
    "    # Change xterm title to match\n",
    "    set-title-to-current-dir\n",
    "    ## DEBUG: echo \"script: 2. PS1='$PS1' old_PS_symbol='$old_PS_symbol' PS_symbol='$new_PS_symbol'\"\n",
    "    # Run command\n",
    "    command script --append \"$@\"\n",
    "    \n",
    "    # Restore prompt\n",
    "    unset SCRIPT_PID\n",
    "    reset-prompt \"$old_PS_symbol\"\n",
    "    ## DEBUG: echo \"script: 3. PS1='$PS1' old_PS_symbol='$old_PS_symbol' PS_symbol='$new_PS_symbol'\"\n",
    "    \n",
    "    # Get rid of lingering 'script' in xterm title\n",
    "    ## DEBUG: echo \"Restoring xterm title: full=$save_full save=$save_icon\"\n",
    "    set-xterm-title \"$save_full\" \"$save_icon\"\n",
    "}\n",
    "\n",
    "alias script-update='script _update-$(T).log'"
   ]
  },
  {
   "cell_type": "code",
   "execution_count": 19,
   "id": "e73cd7c1",
   "metadata": {},
   "outputs": [],
   "source": [
    "## ERROR - NEED TO SOURCE tomohara-aliases.bash FILE\n",
    "# $ script-update\n",
    "# | bash: T: command not found\n",
    "#   bash: set-xterm-title: command not found\n",
    "#   bash: set-xterm-title: command not found\n",
    "#   bash: reset-prompt: command not found\n",
    "#   bash: set-title-to-current-dir: command not found\n",
    "#   Script started, output log file is '_update-.log'."
   ]
  },
  {
   "cell_type": "code",
   "execution_count": 20,
   "id": "9c38e97e",
   "metadata": {},
   "outputs": [],
   "source": [
    "# ansi-filter(filename]: wrapper around ansifilter with stdio and stdout instead of files\n",
    "# TODO: issue request for proper Unix stdin support (n.b., this function is much ado about nothing)\n",
    "function ansi-filter {\n",
    "    local input_file=\"$1\"\n",
    "    if [ \"$input_file\" = \"\" ]; then\n",
    "        input_file=\"$TMP/ansi-filter-in-$$.list\"\n",
    "        cat > \"$input_file\"\n",
    "    fi\n",
    "    local output_file=\"$TMP/ansi-filter-out-$$.list\";\n",
    "    ansifilter --input=\"$input_file\" --output=\"$output_file\"\n",
    "    cat \"$output_file\"\n",
    "}"
   ]
  },
  {
   "cell_type": "code",
   "execution_count": 24,
   "id": "079b0855",
   "metadata": {},
   "outputs": [
    {
     "name": "stdout",
     "output_type": "stream",
     "text": [
      "How to use the ansi-filter?\n"
     ]
    }
   ],
   "source": [
    "## EXAMPLE FOR ansi-filter\n",
    "\n",
    "echo \"How to use the ansi-filter?\" > ansi-filter-test.txt\n",
    "ansi-filter ansi-filter-test.txt"
   ]
  },
  {
   "cell_type": "code",
   "execution_count": 22,
   "id": "92bb8407",
   "metadata": {},
   "outputs": [],
   "source": [
    "# pause-for-enter: EXITS AFTER PRESSING ENTER, WITH A MESSAGE\n",
    "function pause-for-enter () {\n",
    "    local message=\"$1\"\n",
    "    if [ \"$message\" = \"\" ]; then message=\"Press enter to continue\"; fi\n",
    "    read -p \"$message \"\n",
    "}"
   ]
  },
  {
   "cell_type": "code",
   "execution_count": 26,
   "id": "1e7238c8",
   "metadata": {},
   "outputs": [
    {
     "name": "stdout",
     "output_type": "stream",
     "text": [
      "Press enter to continue \r\n"
     ]
    }
   ],
   "source": [
    "## DOESN'T WORK FOR JUPYTER, WORKS FOR TERMINAL\n",
    "\n",
    "# $ pause-for-enter\n",
    "# | Press enter to continue \n",
    "## (program terminates after pressing Enter Key)"
   ]
  },
  {
   "cell_type": "code",
   "execution_count": null,
   "id": "7762153f",
   "metadata": {},
   "outputs": [],
   "source": []
  },
  {
   "cell_type": "code",
   "execution_count": null,
   "id": "0d1949fc",
   "metadata": {},
   "outputs": [],
   "source": []
  }
 ],
 "metadata": {
  "kernelspec": {
   "display_name": "Bash",
   "language": "bash",
   "name": "bash"
  },
  "language_info": {
   "codemirror_mode": "shell",
   "file_extension": ".sh",
   "mimetype": "text/x-sh",
   "name": "bash"
  }
 },
 "nbformat": 4,
 "nbformat_minor": 5
}
