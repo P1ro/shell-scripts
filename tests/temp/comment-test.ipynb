{
 "cells": [
  {
   "cell_type": "code",
   "execution_count": 1,
   "id": "2971a572",
   "metadata": {},
   "outputs": [
    {
     "name": "stdout",
     "output_type": "stream",
     "text": [
      "Hi there\n"
     ]
    }
   ],
   "source": [
    "echo \"Hi there\""
   ]
  },
  {
   "cell_type": "code",
   "execution_count": 2,
   "id": "cb70f172",
   "metadata": {},
   "outputs": [
    {
     "name": "stdout",
     "output_type": "stream",
     "text": [
      "5.15.0-52-generic\n"
     ]
    }
   ],
   "source": [
    "uname -r #Prints the kernel version"
   ]
  },
  {
   "cell_type": "code",
   "execution_count": 3,
   "id": "c93cc268",
   "metadata": {},
   "outputs": [],
   "source": [
    "function get-free-filename() {\n",
    "    # THIS IS A COMMENT\n",
    "    local base=\"$1\"\n",
    "    local sep=\"$2\"\n",
    "    local L=1\n",
    "    local filename=\"$base\"\n",
    "    while [ -e \"$filename\" ]; do\n",
    "        let L++\n",
    "        filename=\"$base$sep$L\"\n",
    "    done;\n",
    "    echo \"$filename\"\n",
    "}\n",
    "\n",
    "function rename-with-file-date() {\n",
    "# THIS IS A COMMENT\n",
    "    local f new_f\n",
    "    local move_command=\"move\"\n",
    "    if [ \"$1\" = \"--copy\" ]; then\n",
    "        move_command='command cp --interactive --verbose --preserve'\n",
    "        shift\n",
    "    fi\n",
    "    for f in \"$@\"; do # THIS IS A COMMENT\n",
    "        if [ -e \"$f\" ]; then\n",
    "           new_f=$(get-free-filename \"$f\".$(date --reference=\"$f\" '+%d%b%y') \".\")\n",
    "           eval \"$move_command\" \"$f\" \"$new_f\";\n",
    "        fi\n",
    "    done;\n",
    "}\n",
    "\n",
    "function copy-with-file-date { rename-with-file-date --copy \"$@\"; } # THIS IS A COMMENT"
   ]
  },
  {
   "cell_type": "code",
   "execution_count": 4,
   "id": "e4923d67",
   "metadata": {},
   "outputs": [],
   "source": [
    "uname -a > alldetails.txt"
   ]
  },
  {
   "cell_type": "code",
   "execution_count": 5,
   "id": "036dab46",
   "metadata": {},
   "outputs": [
    {
     "name": "stdout",
     "output_type": "stream",
     "text": [
      "'./alldetails.txt' -> './alldetails.txt.01Nov22.3'\n",
      "'./alldetails.txt.01Nov22' -> './alldetails.txt.01Nov22.01Nov22.2'\n",
      "'./alldetails.txt.01Nov22.01Nov22' -> './alldetails.txt.01Nov22.01Nov22.01Nov22'\n",
      "'./alldetails.txt.01Nov22.2' -> './alldetails.txt.01Nov22.2.01Nov22'\n"
     ]
    }
   ],
   "source": [
    "copy-with-file-date ./alldetails.*"
   ]
  },
  {
   "cell_type": "code",
   "execution_count": null,
   "id": "145471c9",
   "metadata": {},
   "outputs": [],
   "source": []
  }
 ],
 "metadata": {
  "kernelspec": {
   "display_name": "Bash",
   "language": "bash",
   "name": "bash"
  },
  "language_info": {
   "codemirror_mode": "shell",
   "file_extension": ".sh",
   "mimetype": "text/x-sh",
   "name": "bash"
  }
 },
 "nbformat": 4,
 "nbformat_minor": 5
}
