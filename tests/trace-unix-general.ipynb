{
 "cells": [
  {
   "cell_type": "code",
   "execution_count": 1,
   "id": "6dcea75d",
   "metadata": {},
   "outputs": [
    {
     "name": "stdout",
     "output_type": "stream",
     "text": [
      "\u001b[?2004h\u001b[?2004l\u001b[?2004l\u001b[?2004l\u001b[?2004l\u001b[?2004l\r"
     ]
    }
   ],
   "source": [
    "## TESTS START FROM LINE 2066 (tomohara-aliases.bash)\n",
    "\n",
    "## Bracketed Paste is disabled to prevent characters after output\n",
    "## Example: \n",
    "# $ echo 'Hi'\n",
    "# | Hi?2004l\n",
    "\n",
    "bind 'set enable-bracketed-paste off'"
   ]
  },
  {
   "cell_type": "code",
   "execution_count": 2,
   "id": "65d43538",
   "metadata": {},
   "outputs": [
    {
     "name": "stdout",
     "output_type": "stream",
     "text": [
      "[PEXP\\[\\]ECT_PROMPT>\n"
     ]
    }
   ],
   "source": [
    "## TEST:  Make sure simple prompt used (e.g., no escapes that might contaminate output)\n",
    "## PS1=\"$ \"\n",
    "## TODO: PS1=\"> \"\n",
    "\n",
    "## NOTE: The Jupyter bash kernel requires that PS1 not be modified as they customize it. \n",
    "echo $PS1"
   ]
  },
  {
   "cell_type": "code",
   "execution_count": 3,
   "id": "d623c9a9",
   "metadata": {},
   "outputs": [
    {
     "name": "stdout",
     "output_type": "stream",
     "text": [
      "0\n",
      "0\n"
     ]
    }
   ],
   "source": [
    "# Delete all aliases and function\n",
    "# TODO: Instead start from pristine environment\n",
    "unalias -a\n",
    "alias | wc -l\n",
    "for f in $(typeset -f | egrep '^\\w+'); do unset -f $f; done\n",
    "typeset -f | egrep '^\\w+' | wc -l"
   ]
  },
  {
   "cell_type": "code",
   "execution_count": 4,
   "id": "0ff8f157",
   "metadata": {},
   "outputs": [
    {
     "name": "stdout",
     "output_type": "stream",
     "text": [
      "0\n"
     ]
    }
   ],
   "source": [
    "# Setting a temp directory for tests\n",
    "TMP=/tmp/test-unix\n",
    "\n",
    "## NOTE: Source it directly from the ./tests directory.\n",
    "BIN_DIR=$PWD/..\n",
    "\n",
    "alias | wc -l"
   ]
  },
  {
   "cell_type": "code",
   "execution_count": 5,
   "id": "ab954c7f",
   "metadata": {},
   "outputs": [
    {
     "name": "stdout",
     "output_type": "stream",
     "text": [
      "/tmp/test-unix/test-3245\n"
     ]
    }
   ],
   "source": [
    "## NOTE: For reproducability, the directory name needs to be fixed\n",
    "## In place of $$, use a psuedo random number (e,g., 3245)\n",
    "## *** All output from one run to the next needs to be the same ***\n",
    "\n",
    "## temp_dir=$TMP/test-$$\n",
    "temp_dir=$TMP/test-3245\n",
    "\n",
    "mkdir -p \"$temp_dir\"\n",
    "# TODO: /bin/rm -rvf \"$temp_dir\"\n",
    "cd \"$temp_dir\"\n",
    "pwd\n",
    "\n",
    "#ALIAS FOR PRINTING SEPERATION LINES (FOR JUPYTER)\n",
    "alias linebr=\"printf '%*s\\n' \"${COLUMNS:-$(tput cols)}\" '' | tr ' ' -\""
   ]
  },
  {
   "cell_type": "code",
   "execution_count": 6,
   "id": "ec6df159",
   "metadata": {},
   "outputs": [
    {
     "name": "stdout",
     "output_type": "stream",
     "text": [
      "1\n",
      "0\n"
     ]
    }
   ],
   "source": [
    "# Count aliases proper\n",
    "alias | wc -l\n",
    "# Count functions\n",
    "typeset -f | egrep '^\\w+' | wc -l"
   ]
  },
  {
   "cell_type": "code",
   "execution_count": 7,
   "id": "d312db03",
   "metadata": {},
   "outputs": [],
   "source": [
    "# ps-all(pattern): show processes from all users matching PATTERN (or . in which case piped to less)\n",
    "# TODO: have option to restrict to current user\n",
    "function ps-all () { \n",
    "    local pattern=\"$1\";\n",
    "    local pager=cat;\n",
    "    if [ \"$pattern\" = \"\" ]; then \n",
    "        pattern=\".\"; \n",
    "        pager=$PAGER\n",
    "    fi;\n",
    "    ps_mine.sh --all | $EGREP -i \"((^USER)|($pattern))\" | $pager;\n",
    "    }\n",
    "alias ps-script='ps-all \"\\\\bscript\\\\b\" | $GREP -v \"(gnome-session)\"'\n",
    "function ps-sort-once { ps_sort.perl -num_times=1 -by=time \"$@\" -; }\n",
    "alias ps-sort-time='ps-sort-once -by=time'\n",
    "alias ps-time=ps-sort-time\n",
    "alias ps-sort-mem='ps-sort-once -by=mem '\n",
    "alias ps-mem=ps-sort-mem\n"
   ]
  },
  {
   "cell_type": "code",
   "execution_count": 8,
   "id": "2395c71a",
   "metadata": {},
   "outputs": [
    {
     "name": "stdout",
     "output_type": "stream",
     "text": [
      "Error: bad sort field (time): using cpu\n",
      "USER         PID %CPU %MEM    VSZ   RSS TTY      STAT START   TIME COMMAND\n",
      "aveey       2019 16.6  9.7 3196532 360908 ?      Ssl  21:45   1:13 /snap/firef\n",
      "aveey       4624 12.1  1.4 672896 51740 ?        Ssl  21:53   0:00 /usr/bin/py\n",
      "aveey       3289  8.7  6.1 2603764 228428 ?      Sl   21:46   0:36 /snap/firef\n",
      "aveey       1393  1.5  7.2 21642516 266148 ?     Sl   21:14   0:35 /opt/Upwork\n",
      "aveey       2716  1.1  3.4 27703420 126300 ?     Sl   21:46   0:04 /snap/firef\n",
      "aveey       4072  1.1  2.7 1000220 103200 ?      Sl   21:50   0:01 /usr/bin/fe\n",
      "aveey       4634  1.0  0.1  11412  5496 pts/1    Ss   21:53   0:00 /usr/bin/ba\n",
      "root         869  0.9  2.7 614996 100360 tty1    Ssl+ 21:08   0:26 /usr/lib/xo\n",
      "aveey       1633  0.9  1.9 241952 73328 pts/0    Sl+  21:45   0:04 /usr/bin/py\n",
      "aveey       3283  0.6  3.6 2469612 133288 ?      Sl   21:46   0:02 /snap/firef\n",
      "aveey       1291  0.5  4.3 4701332 159704 ?      Sl   21:13   0:13 /opt/Upwork\n",
      "aveey       3281  0.2  2.7 2434036 102260 ?      Sl   21:46   0:01 /snap/firef\n",
      "root         692  0.1  1.0 1096212 38516 ?       Ssl  21:08   0:03 /usr/lib/sn\n",
      "aveey       1068  0.1  2.8 1206432 105716 ?      Sl   21:09   0:03 /usr/bin/lx\n",
      "aveey       1374  0.1  1.9 284984 72304 ?        Sl   21:14   0:03 /opt/Upwork\n",
      "root        2511  0.1  0.0      0     0 ?        I    21:45   0:00 [kworker/u1\n",
      "root           1  0.0  0.3 166328 11428 ?        Ss   21:07   0:01 /sbin/init \n",
      "root           2  0.0  0.0      0     0 ?        S    21:07   0:00 [kthreadd]\n",
      "root           3  0.0  0.0      0     0 ?        I<   21:07   0:00 [rcu_gp]\n",
      "root           4  0.0  0.0      0     0 ?        I<   21:07   0:00 [rcu_par_gp\n",
      "root           5  0.0  0.0      0     0 ?        I<   21:07   0:00 [netns]\n",
      "root           7  0.0  0.0      0     0 ?        I<   21:07   0:00 [kworker/0:\n",
      "root           9  0.0  0.0      0     0 ?        I<   21:07   0:00 [mm_percpu_\n",
      "root          10  0.0  0.0      0     0 ?        S    21:07   0:00 [rcu_tasks_\n",
      "root          11  0.0  0.0      0     0 ?        S    21:07   0:00 [rcu_tasks_\n",
      "root          12  0.0  0.0      0     0 ?        S    21:07   0:00 [ksoftirqd/\n",
      "root          13  0.0  0.0      0     0 ?        I    21:07   0:01 [rcu_sched]\n",
      "root          14  0.0  0.0      0     0 ?        S    21:07   0:00 [migration/\n",
      "root          15  0.0  0.0      0     0 ?        S    21:07   0:00 [idle_injec\n",
      "root          17  0.0  0.0      0     0 ?        S    21:07   0:00 [cpuhp/0]\n",
      "root          18  0.0  0.0      0     0 ?        S    21:07   0:00 [cpuhp/1]\n",
      "root          19  0.0  0.0      0     0 ?        S    21:07   0:00 [idle_injec\n",
      "root          20  0.0  0.0      0     0 ?        S    21:07   0:00 [migration/\n",
      "root          21  0.0  0.0      0     0 ?        S    21:07   0:00 [ksoftirqd/\n",
      "root          23  0.0  0.0      0     0 ?        I<   21:07   0:00 [kworker/1:\n",
      "root          24  0.0  0.0      0     0 ?        S    21:07   0:00 [cpuhp/2]\n",
      "root          25  0.0  0.0      0     0 ?        S    21:07   0:00 [idle_injec\n",
      "root          26  0.0  0.0      0     0 ?        S    21:07   0:00 [migration/\n"
     ]
    }
   ],
   "source": [
    "# SORTS ALL PROCESS BY TIME\n",
    "ps-sort-time"
   ]
  },
  {
   "cell_type": "code",
   "execution_count": 9,
   "id": "bc13426e",
   "metadata": {},
   "outputs": [
    {
     "name": "stdout",
     "output_type": "stream",
     "text": [
      "Error: bad sort field (time): using cpu\n",
      "USER         PID %CPU %MEM    VSZ   RSS TTY      STAT START   TIME COMMAND\n",
      "aveey       2019 16.7  9.8 3196532 362020 ?      Ssl  21:45   1:13 /snap/firef\n",
      "aveey       4624 11.0  1.4 672896 51796 ?        Ssl  21:53   0:00 /usr/bin/py\n",
      "aveey       3289  8.7  6.1 2603764 227896 ?      Sl   21:46   0:36 /snap/firef\n",
      "aveey       4671  5.0  0.2  16428  8816 pts/1    S+   21:53   0:00 perl -Ssw /\n",
      "aveey       1393  1.5  7.2 21642516 266148 ?     Sl   21:14   0:35 /opt/Upwork\n",
      "aveey       2716  1.1  3.4 27703420 126300 ?     Sl   21:46   0:04 /snap/firef\n",
      "aveey       4072  1.1  2.7 1000220 103200 ?      Sl   21:50   0:01 /usr/bin/fe\n",
      "aveey       1633  1.0  1.9 241952 73588 pts/0    Sl+  21:45   0:04 /usr/bin/py\n",
      "aveey       4634  1.0  0.1  11412  5496 pts/1    Ss   21:53   0:00 /usr/bin/ba\n",
      "root         869  0.9  2.7 614996 100360 tty1    Ssl+ 21:08   0:26 /usr/lib/xo\n",
      "aveey       3283  0.6  3.6 2469612 133288 ?      Sl   21:46   0:02 /snap/firef\n",
      "aveey       1291  0.5  4.3 4701332 159704 ?      Sl   21:13   0:13 /opt/Upwork\n",
      "aveey       3281  0.2  2.7 2434036 102260 ?      Sl   21:46   0:01 /snap/firef\n",
      "root         692  0.1  1.0 1096212 38516 ?       Ssl  21:08   0:03 /usr/lib/sn\n",
      "aveey       1068  0.1  2.8 1206432 105716 ?      Sl   21:09   0:03 /usr/bin/lx\n",
      "aveey       1374  0.1  1.9 284984 72304 ?        Sl   21:14   0:03 /opt/Upwork\n",
      "root        2511  0.1  0.0      0     0 ?        I    21:45   0:00 [kworker/u1\n",
      "root           1  0.0  0.3 166328 11428 ?        Ss   21:07   0:01 /sbin/init \n",
      "root           2  0.0  0.0      0     0 ?        S    21:07   0:00 [kthreadd]\n",
      "root           3  0.0  0.0      0     0 ?        I<   21:07   0:00 [rcu_gp]\n",
      "root           4  0.0  0.0      0     0 ?        I<   21:07   0:00 [rcu_par_gp\n",
      "root           5  0.0  0.0      0     0 ?        I<   21:07   0:00 [netns]\n",
      "root           7  0.0  0.0      0     0 ?        I<   21:07   0:00 [kworker/0:\n",
      "root           9  0.0  0.0      0     0 ?        I<   21:07   0:00 [mm_percpu_\n",
      "root          10  0.0  0.0      0     0 ?        S    21:07   0:00 [rcu_tasks_\n",
      "root          11  0.0  0.0      0     0 ?        S    21:07   0:00 [rcu_tasks_\n",
      "root          12  0.0  0.0      0     0 ?        S    21:07   0:00 [ksoftirqd/\n",
      "root          13  0.0  0.0      0     0 ?        I    21:07   0:01 [rcu_sched]\n",
      "root          14  0.0  0.0      0     0 ?        S    21:07   0:00 [migration/\n",
      "root          15  0.0  0.0      0     0 ?        S    21:07   0:00 [idle_injec\n",
      "root          17  0.0  0.0      0     0 ?        S    21:07   0:00 [cpuhp/0]\n",
      "root          18  0.0  0.0      0     0 ?        S    21:07   0:00 [cpuhp/1]\n",
      "root          19  0.0  0.0      0     0 ?        S    21:07   0:00 [idle_injec\n",
      "root          20  0.0  0.0      0     0 ?        S    21:07   0:00 [migration/\n",
      "root          21  0.0  0.0      0     0 ?        S    21:07   0:00 [ksoftirqd/\n",
      "root          23  0.0  0.0      0     0 ?        I<   21:07   0:00 [kworker/1:\n",
      "root          24  0.0  0.0      0     0 ?        S    21:07   0:00 [cpuhp/2]\n",
      "root          25  0.0  0.0      0     0 ?        S    21:07   0:00 [idle_injec\n"
     ]
    }
   ],
   "source": [
    "# ACTS THE SAME AS ps-sort-time\n",
    "ps-time"
   ]
  },
  {
   "cell_type": "code",
   "execution_count": 10,
   "id": "b688da20",
   "metadata": {},
   "outputs": [
    {
     "name": "stdout",
     "output_type": "stream",
     "text": [
      "USER         PID %CPU %MEM    VSZ   RSS TTY      STAT START   TIME COMMAND\n",
      "aveey       2019 16.7  9.7 3196532 360544 ?      Ssl  21:45   1:13 /snap/firef\n",
      "aveey       1393  1.5  7.2 21642516 266148 ?     Sl   21:14   0:35 /opt/Upwork\n",
      "aveey       3289  8.7  6.1 2603764 227804 ?      Sl   21:46   0:36 /snap/firef\n",
      "aveey       1291  0.5  4.3 4701332 159704 ?      Sl   21:13   0:13 /opt/Upwork\n",
      "aveey       3283  0.6  3.6 2469612 133288 ?      Sl   21:46   0:02 /snap/firef\n",
      "aveey       2716  1.1  3.4 27703420 126300 ?     Sl   21:46   0:04 /snap/firef\n",
      "aveey       1068  0.1  2.8 1206432 105716 ?      Sl   21:09   0:03 /usr/bin/lx\n",
      "root         869  0.9  2.7 614996 100360 tty1    Ssl+ 21:08   0:26 /usr/lib/xo\n",
      "aveey       1064  0.0  2.7 862372 102480 ?       Sl   21:09   0:01 /usr/bin/pc\n",
      "aveey       3281  0.2  2.7 2434036 102260 ?      Sl   21:46   0:01 /snap/firef\n",
      "aveey       4072  1.1  2.7 1000220 103200 ?      Sl   21:50   0:01 /usr/bin/fe\n",
      "aveey       1294  0.0  2.4 755892 90136 ?        Sl   21:13   0:00 xfce4-termi\n",
      "aveey       1374  0.1  1.9 284984 72304 ?        Sl   21:14   0:03 /opt/Upwork\n",
      "aveey       1452  0.0  1.9 4505372 71148 ?       Sl   21:14   0:00 /opt/Upwork\n",
      "aveey       1633  1.0  1.9 241952 73588 pts/0    Sl+  21:45   0:04 /usr/bin/py\n",
      "aveey       1471  0.0  1.8 4503324 69524 ?       Sl   21:14   0:00 /opt/Upwork\n",
      "aveey       3348  0.0  1.7 2405484 62952 ?       Sl   21:46   0:00 /snap/firef\n",
      "aveey       3435  0.0  1.6 2406072 62444 ?       Sl   21:46   0:00 /snap/firef\n",
      "aveey       3992  0.0  1.6 2406072 61104 ?       Sl   21:46   0:00 /snap/firef\n",
      "aveey       1360  0.0  1.5 274864 57868 ?        Sl   21:14   0:00 /opt/Upwork\n",
      "aveey       1073  0.0  1.4 576536 51984 ?        Sl   21:09   0:00 /usr/bin/lx\n",
      "aveey       1437  0.0  1.4 514640 52104 ?        Sl   21:14   0:00 /opt/Upwork\n",
      "aveey       4624 11.2  1.4 672896 51796 ?        Ssl  21:53   0:00 /usr/bin/py\n",
      "aveey       1215  0.0  1.3 504928 48848 ?        Sl   21:09   0:00 /usr/bin/lx\n",
      "aveey       1296  0.0  1.2 207348 46880 ?        S    21:13   0:00 /opt/Upwork\n",
      "aveey       1297  0.0  1.2 207348 47228 ?        S    21:13   0:00 /opt/Upwork\n",
      "aveey        998  0.0  1.1 336632 41892 ?        Sl   21:09   0:00 lxqt-sessio\n",
      "aveey       1066  0.0  1.1 275848 42516 ?        Sl   21:09   0:00 /usr/bin/lx\n",
      "aveey       1072  0.0  1.1 410020 42096 ?        Sl   21:09   0:00 /usr/bin/lx\n",
      "aveey       1217  0.0  1.1 271432 42312 ?        Sl   21:09   0:00 /usr/bin/ql\n",
      "aveey       1219  0.0  1.1 272556 42360 ?        Sl   21:09   0:00 /usr/bin/nm\n",
      "root         692  0.1  1.0 1096212 38516 ?       Ssl  21:08   0:03 /usr/lib/sn\n",
      "aveey       1065  0.0  1.0 336148 39372 ?        Sl   21:09   0:00 /usr/bin/lx\n",
      "aveey       2549  0.0  1.0 268144 39628 ?        Ssl  21:46   0:00 /usr/lib/x8\n",
      "aveey       1087  0.0  0.9  59952 33224 ?        S    21:09   0:00 /usr/bin/py\n",
      "aveey       2593  0.0  0.9 216952 36568 ?        Sl   21:46   0:00 /snap/firef\n",
      "root         343  0.0  0.8  62972 31548 ?        S<s  21:08   0:00 /lib/system\n",
      "aveey       1054  0.0  0.7 226596 28008 ?        Sl   21:09   0:00 /usr/bin/op\n"
     ]
    }
   ],
   "source": [
    "# SORTS ALL PROCESS BY MEMORY\n",
    "ps-sort-mem"
   ]
  },
  {
   "cell_type": "code",
   "execution_count": 11,
   "id": "775ea494",
   "metadata": {},
   "outputs": [
    {
     "name": "stdout",
     "output_type": "stream",
     "text": [
      "USER         PID %CPU %MEM    VSZ   RSS TTY      STAT START   TIME COMMAND\n",
      "aveey       2019 16.7  9.8 3196532 361664 ?      Ssl  21:45   1:13 /snap/firef\n",
      "aveey       1393  1.5  7.2 21642516 266148 ?     Sl   21:14   0:35 /opt/Upwork\n",
      "aveey       3289  8.7  6.1 2603764 228196 ?      Sl   21:46   0:36 /snap/firef\n",
      "aveey       1291  0.5  4.3 4701332 159704 ?      Sl   21:13   0:13 /opt/Upwork\n",
      "aveey       3283  0.6  3.6 2469612 133288 ?      Sl   21:46   0:02 /snap/firef\n",
      "aveey       2716  1.1  3.4 27703420 126300 ?     Sl   21:46   0:04 /snap/firef\n",
      "aveey       1068  0.1  2.8 1206432 105716 ?      Sl   21:09   0:03 /usr/bin/lx\n",
      "root         869  0.9  2.7 614996 100360 tty1    Ssl+ 21:08   0:26 /usr/lib/xo\n",
      "aveey       1064  0.0  2.7 862372 102480 ?       Sl   21:09   0:01 /usr/bin/pc\n",
      "aveey       3281  0.2  2.7 2434036 102260 ?      Sl   21:46   0:01 /snap/firef\n",
      "aveey       4072  1.1  2.7 1000220 103200 ?      Sl   21:50   0:01 /usr/bin/fe\n",
      "aveey       1294  0.0  2.4 755892 90136 ?        Sl   21:13   0:00 xfce4-termi\n",
      "aveey       1633  1.0  2.0 241952 73852 pts/0    Sl+  21:45   0:04 /usr/bin/py\n",
      "aveey       1374  0.1  1.9 284984 72304 ?        Sl   21:14   0:03 /opt/Upwork\n",
      "aveey       1452  0.0  1.9 4505372 71148 ?       Sl   21:14   0:00 /opt/Upwork\n",
      "aveey       1471  0.0  1.8 4503324 69524 ?       Sl   21:14   0:00 /opt/Upwork\n",
      "aveey       3348  0.0  1.7 2405484 62952 ?       Sl   21:46   0:00 /snap/firef\n",
      "aveey       3435  0.0  1.6 2406072 62444 ?       Sl   21:46   0:00 /snap/firef\n",
      "aveey       3992  0.0  1.6 2406072 61104 ?       Sl   21:46   0:00 /snap/firef\n",
      "aveey       1360  0.0  1.5 274864 57868 ?        Sl   21:14   0:00 /opt/Upwork\n",
      "aveey       1073  0.0  1.4 576536 51984 ?        Sl   21:09   0:00 /usr/bin/lx\n",
      "aveey       1437  0.0  1.4 514640 52104 ?        Sl   21:14   0:00 /opt/Upwork\n",
      "aveey       4624 11.7  1.4 672896 51796 ?        Ssl  21:53   0:00 /usr/bin/py\n",
      "aveey       1215  0.0  1.3 504928 48848 ?        Sl   21:09   0:00 /usr/bin/lx\n",
      "aveey       1296  0.0  1.2 207348 46880 ?        S    21:13   0:00 /opt/Upwork\n",
      "aveey       1297  0.0  1.2 207348 47228 ?        S    21:13   0:00 /opt/Upwork\n",
      "aveey        998  0.0  1.1 336632 41892 ?        Sl   21:09   0:00 lxqt-sessio\n",
      "aveey       1066  0.0  1.1 275848 42516 ?        Sl   21:09   0:00 /usr/bin/lx\n",
      "aveey       1072  0.0  1.1 410020 42096 ?        Sl   21:09   0:00 /usr/bin/lx\n",
      "aveey       1217  0.0  1.1 271432 42312 ?        Sl   21:09   0:00 /usr/bin/ql\n",
      "aveey       1219  0.0  1.1 272556 42360 ?        Sl   21:09   0:00 /usr/bin/nm\n",
      "root         692  0.1  1.0 1096212 38516 ?       Ssl  21:08   0:03 /usr/lib/sn\n",
      "aveey       1065  0.0  1.0 336148 39372 ?        Sl   21:09   0:00 /usr/bin/lx\n",
      "aveey       2549  0.0  1.0 268144 39628 ?        Ssl  21:46   0:00 /usr/lib/x8\n",
      "aveey       1087  0.0  0.9  59952 33224 ?        S    21:09   0:00 /usr/bin/py\n",
      "aveey       2593  0.0  0.9 216952 36568 ?        Sl   21:46   0:00 /snap/firef\n",
      "root         343  0.0  0.8  62972 31548 ?        S<s  21:08   0:00 /lib/system\n",
      "aveey       1054  0.0  0.7 226596 28008 ?        Sl   21:09   0:00 /usr/bin/op\n"
     ]
    }
   ],
   "source": [
    "# ps-mem IS AN ALTERNATIVE OF ps-sort-mem\n",
    "ps-mem"
   ]
  },
  {
   "cell_type": "code",
   "execution_count": 12,
   "id": "6ed9a120",
   "metadata": {},
   "outputs": [
    {
     "name": "stdout",
     "output_type": "stream",
     "text": [
      "bash: -v: command not found\n",
      "bash: -i: command not found\n",
      "/usr/bin/env: ‘csh’: No such file or directory\n"
     ]
    },
    {
     "ename": "",
     "evalue": "127",
     "output_type": "error",
     "traceback": []
    }
   ],
   "source": [
    "# ERROR GENERATED FOR ps-script\n",
    "# $ ps-script\n",
    "# | bash: -v: command not found\n",
    "# | bash: -i: command not found\n",
    "# | /usr/bin/env: ‘csh’: No such file or directory\n",
    "ps-script"
   ]
  },
  {
   "cell_type": "code",
   "execution_count": 13,
   "id": "2e45d738",
   "metadata": {},
   "outputs": [],
   "source": [
    "# ERROR GENERATED FOR ps-all\n",
    "# $ ps-all\n",
    "# | /usr/bin/env: ‘csh’: No such file or directory\n",
    "# | bash: -i: command not found\n"
   ]
  },
  {
   "cell_type": "code",
   "execution_count": 14,
   "id": "82c5fd09",
   "metadata": {},
   "outputs": [],
   "source": [
    "function get-process-parent() { local pid=\"$1\"; if [ \"$pid\" = \"\" ]; then pid=$$; fi; ps al | perl -Ssw extract_matches.perl \"^\\d+\\s+\\d+\\s+$pid\\s+(\\d+)\"; }"
   ]
  },
  {
   "cell_type": "code",
   "execution_count": 15,
   "id": "bf36bf1a",
   "metadata": {},
   "outputs": [
    {
     "ename": "",
     "evalue": "1",
     "output_type": "error",
     "traceback": []
    }
   ],
   "source": [
    "get-process-parent | egrep \"(PID|$$)\""
   ]
  },
  {
   "cell_type": "code",
   "execution_count": null,
   "id": "c7ea3021",
   "metadata": {},
   "outputs": [],
   "source": []
  }
 ],
 "metadata": {
  "kernelspec": {
   "display_name": "Bash",
   "language": "bash",
   "name": "bash"
  },
  "language_info": {
   "codemirror_mode": "shell",
   "file_extension": ".sh",
   "mimetype": "text/x-sh",
   "name": "bash"
  }
 },
 "nbformat": 4,
 "nbformat_minor": 5
}
