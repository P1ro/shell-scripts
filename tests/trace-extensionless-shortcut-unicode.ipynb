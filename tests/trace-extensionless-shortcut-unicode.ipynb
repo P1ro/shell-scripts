{
 "cells": [
  {
   "cell_type": "code",
   "execution_count": 1,
   "id": "65d43538",
   "metadata": {},
   "outputs": [
    {
     "name": "stdout",
     "output_type": "stream",
     "text": [
      "[PEXP\\[\\]ECT_PROMPT>\n"
     ]
    }
   ],
   "source": [
    "echo $PS1"
   ]
  },
  {
   "cell_type": "code",
   "execution_count": 2,
   "id": "d623c9a9",
   "metadata": {},
   "outputs": [
    {
     "name": "stdout",
     "output_type": "stream",
     "text": [
      "0\n",
      "0\n"
     ]
    }
   ],
   "source": [
    "# Delete all aliases and function\n",
    "# TODO: Instead start from pristine environment\n",
    "unalias -a\n",
    "alias | wc -l\n",
    "for f in $(typeset -f | egrep '^\\w+'); do unset -f $f; done\n",
    "typeset -f | egrep '^\\w+' | wc -l\n",
    "# Setting a temp directory for tests\n",
    "TMP=/tmp/test-extensionless\n",
    "BIN_DIR=$PWD/.."
   ]
  },
  {
   "cell_type": "code",
   "execution_count": 3,
   "id": "0ff8f157",
   "metadata": {},
   "outputs": [
    {
     "name": "stdout",
     "output_type": "stream",
     "text": [
      "0\n"
     ]
    }
   ],
   "source": [
    "alias | wc -l"
   ]
  },
  {
   "cell_type": "code",
   "execution_count": 4,
   "id": "ab954c7f",
   "metadata": {},
   "outputs": [
    {
     "name": "stdout",
     "output_type": "stream",
     "text": [
      "/tmp/test-extensionless/test-3570\n"
     ]
    }
   ],
   "source": [
    "temp_dir=$TMP/test-3570\n",
    "mkdir -p \"$temp_dir\"\n",
    "cd \"$temp_dir\"\n",
    "pwd\n",
    "#ALIAS FOR PRINTING SEPERATION LINES (FOR JUPYTER)\n",
    "alias linebr=\"printf '%*s\\n' \"${COLUMNS:-$(tput cols)}\" '' | tr ' ' -\""
   ]
  },
  {
   "cell_type": "code",
   "execution_count": 5,
   "id": "ec6df159",
   "metadata": {},
   "outputs": [
    {
     "name": "stdout",
     "output_type": "stream",
     "text": [
      "1\n",
      "0\n"
     ]
    }
   ],
   "source": [
    "# Count aliases proper\n",
    "alias | wc -l\n",
    "# Count functions\n",
    "typeset -f | egrep '^\\w+' | wc -l"
   ]
  },
  {
   "cell_type": "code",
   "execution_count": 6,
   "id": "2b491d21",
   "metadata": {},
   "outputs": [
    {
     "name": "stdout",
     "output_type": "stream",
     "text": [
      "/tmp/test-extensionless/test-3570\n"
     ]
    }
   ],
   "source": [
    "pwd\n",
    "rm -rf ./*\n",
    "uname -r > version1.txt"
   ]
  },
  {
   "cell_type": "code",
   "execution_count": 7,
   "id": "42696142",
   "metadata": {},
   "outputs": [],
   "source": [
    "function show-unicode-code-info-aux() { perl -CIOE   -e 'use Encode \"encode_utf8\"; print \"char\\tord\\toffset\\tencoding\\n\";'    -ne 'chomp;  printf \"%s: %d\\n\", $_, length($_); foreach $c (split(//, $_)) { $encoding = encode_utf8($c); printf \"%s\\t%04X\\t%d\\t%s\\n\", $c, ord($c), $offset, unpack(\"H*\", $encoding); $offset += length($encoding); }   $offset += length($/); print \"\\n\"; ' < \"$1\"; }\n",
    "function show-unicode-code-info { show-unicode-code-info-aux \"$@\"; }\n",
    "function show-unicode-code-info-stdin() { in_file=\"$TEMP/show-unicode-code-info.$$\"; cat >| $in_file;  show-unicode-code-info-aux $in_file; }\n",
    "function output-BOM { perl -e 'print \"\\xEF\\xBB\\xBF\\n\";'; }\n",
    "function show-unicode-control-chars { perl -pe 'use open \":std\", \":encoding(UTF-8)\"; s/[\\x00-\\x1F]/chr(ord($&) + 0x2400)/eg;'; }"
   ]
  },
  {
   "cell_type": "code",
   "execution_count": 8,
   "id": "bec27579",
   "metadata": {
    "scrolled": true
   },
   "outputs": [
    {
     "name": "stdout",
     "output_type": "stream",
     "text": [
      "char\tord\toffset\tencoding\n",
      "5.15.0-52-generic: 17\n",
      "5\t0035\t0\t35\n",
      ".\t002E\t1\t2e\n",
      "1\t0031\t2\t31\n",
      "5\t0035\t3\t35\n",
      ".\t002E\t4\t2e\n",
      "0\t0030\t5\t30\n",
      "-\t002D\t6\t2d\n",
      "5\t0035\t7\t35\n",
      "2\t0032\t8\t32\n",
      "-\t002D\t9\t2d\n",
      "g\t0067\t10\t67\n",
      "e\t0065\t11\t65\n",
      "n\t006E\t12\t6e\n",
      "e\t0065\t13\t65\n",
      "r\t0072\t14\t72\n",
      "i\t0069\t15\t69\n",
      "c\t0063\t16\t63\n",
      "\n"
     ]
    }
   ],
   "source": [
    "show-unicode-code-info-aux ./version1.txt"
   ]
  },
  {
   "cell_type": "code",
   "execution_count": 9,
   "id": "2de08407",
   "metadata": {},
   "outputs": [
    {
     "name": "stdout",
     "output_type": "stream",
     "text": [
      "char\tord\toffset\tencoding\n",
      "5.15.0-52-generic: 17\n",
      "5\t0035\t0\t35\n",
      ".\t002E\t1\t2e\n",
      "1\t0031\t2\t31\n",
      "5\t0035\t3\t35\n",
      ".\t002E\t4\t2e\n",
      "0\t0030\t5\t30\n",
      "-\t002D\t6\t2d\n",
      "5\t0035\t7\t35\n",
      "2\t0032\t8\t32\n",
      "-\t002D\t9\t2d\n",
      "g\t0067\t10\t67\n",
      "e\t0065\t11\t65\n",
      "n\t006E\t12\t6e\n",
      "e\t0065\t13\t65\n",
      "r\t0072\t14\t72\n",
      "i\t0069\t15\t69\n",
      "c\t0063\t16\t63\n",
      "\n"
     ]
    }
   ],
   "source": [
    "show-unicode-code-info ./version1.txt"
   ]
  },
  {
   "cell_type": "code",
   "execution_count": 10,
   "id": "50fe14f7",
   "metadata": {},
   "outputs": [],
   "source": [
    "# # ERROR GENERATED (shown below)\n",
    "\n",
    "# $ show-unicode-code-info-stdin ./catmanual.txt\n",
    "\n",
    "# | bash: /show-unicode-code-info.5292: Permission denied\n",
    "# | bash: /show-unicode-code-info.5292: No such file or directory\n"
   ]
  },
  {
   "cell_type": "code",
   "execution_count": 11,
   "id": "3873a10f",
   "metadata": {},
   "outputs": [],
   "source": [
    "# ERROR GENERATED (non-ending process; need help)\n",
    "# $ show-unicode-control-chars ./catmanual.txt"
   ]
  },
  {
   "cell_type": "code",
   "execution_count": 12,
   "id": "44452b2b",
   "metadata": {},
   "outputs": [
    {
     "name": "stdout",
     "output_type": "stream",
     "text": [
      "﻿\n"
     ]
    }
   ],
   "source": [
    "## NO OUTPUT GENERATED\n",
    "\n",
    "output-BOM ./version1.txt"
   ]
  },
  {
   "cell_type": "code",
   "execution_count": 13,
   "id": "a54fa112",
   "metadata": {},
   "outputs": [
    {
     "name": "stdout",
     "output_type": "stream",
     "text": [
      "END\n"
     ]
    }
   ],
   "source": [
    "echo \"END\""
   ]
  },
  {
   "cell_type": "code",
   "execution_count": null,
   "id": "044c33ce",
   "metadata": {},
   "outputs": [],
   "source": []
  }
 ],
 "metadata": {
  "kernelspec": {
   "display_name": "Bash",
   "language": "bash",
   "name": "bash"
  },
  "language_info": {
   "codemirror_mode": "shell",
   "file_extension": ".sh",
   "mimetype": "text/x-sh",
   "name": "bash"
  }
 },
 "nbformat": 4,
 "nbformat_minor": 5
}
