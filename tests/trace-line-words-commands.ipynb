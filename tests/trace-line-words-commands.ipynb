{
 "cells": [
  {
   "cell_type": "code",
   "execution_count": 1,
   "id": "6dcea75d",
   "metadata": {},
   "outputs": [],
   "source": [
    "## SETUP (OPTIONAL - USE IF REQUIRED)\n",
    "## Bracketed Paste is disabled to prevent characters after output\n",
    "## Example: \n",
    "## $ echo 'Hii'\n",
    "## | Hi?2004l\n",
    "# bind 'set enable-bracketed-paste off'"
   ]
  },
  {
   "cell_type": "code",
   "execution_count": 2,
   "id": "65d43538",
   "metadata": {},
   "outputs": [
    {
     "name": "stdout",
     "output_type": "stream",
     "text": [
      "PROMPT_HWFSNOBNKKSF\\[\\]>\n"
     ]
    }
   ],
   "source": [
    "## TEST:  Make sure simple prompt used (e.g., no escapes that might contaminate output)\n",
    "## PS1=\"$ \"\n",
    "## TODO: PS1=\"> \"\n",
    "\n",
    "## NOTE: The Jupyter bash kernel requires that PS1 not be modified as they customize it. \n",
    "echo $PS1"
   ]
  },
  {
   "cell_type": "code",
   "execution_count": 3,
   "id": "d623c9a9",
   "metadata": {},
   "outputs": [],
   "source": [
    "## BAD\n",
    "# # Delete all aliases and function\n",
    "# # TODO: Instead start from pristine environment\n",
    "# unalias -a\n",
    "# alias | wc -l\n",
    "# for f in $(typeset -f | egrep '^\\w+'); do unset -f $f; done\n",
    "# typeset -f | egrep '^\\w+' | wc -l"
   ]
  },
  {
   "cell_type": "code",
   "execution_count": 4,
   "id": "0ff8f157",
   "metadata": {},
   "outputs": [
    {
     "name": "stdout",
     "output_type": "stream",
     "text": [
      "440\n"
     ]
    }
   ],
   "source": [
    "# Setting a temp directory for tests\n",
    "TMP=/tmp/test-linewords\n",
    "\n",
    "## NOTE: Source it directly from the ./tests directory.\n",
    "BIN_DIR=$PWD/..\n",
    "\n",
    "alias | wc -l"
   ]
  },
  {
   "cell_type": "code",
   "execution_count": 5,
   "id": "ab954c7f",
   "metadata": {},
   "outputs": [],
   "source": [
    "## NOTE: For reproducability, the directory name needs to be fixed\n",
    "## In place of $$, use a psuedo random number (e,g., 6439)\n",
    "## *** All output from one run to the next needs to be the same ***\n",
    "\n",
    "## temp_dir=$TMP/test-$$\n",
    "temp_dir=$TMP/test-6439\n",
    "command mkdir -p \"$temp_dir\"\n",
    "command cd \"$temp_dir\"\n",
    "\n",
    "## OLD\n",
    "# mkdir -p \"$temp_dir\"\n",
    "# # TODO: /bin/rm -rvf \"$temp_dir\"\n",
    "# cd \"$temp_dir\"\n",
    "# pwd\n",
    "\n",
    "# #ALIAS FOR PRINTING SEPERATION LINES (FOR JUPYTER)\n",
    "# alias linebr=\"printf '%*s\\n' \"${COLUMNS:-$(tput cols)}\" '' | tr ' ' -\""
   ]
  },
  {
   "cell_type": "code",
   "execution_count": 6,
   "id": "ec6df159",
   "metadata": {},
   "outputs": [
    {
     "name": "stdout",
     "output_type": "stream",
     "text": [
      "440\n",
      "474\n"
     ]
    }
   ],
   "source": [
    "# Count aliases proper\n",
    "alias | wc -l\n",
    "# Count functions\n",
    "typeset -f | egrep '^\\w+' | wc -l"
   ]
  },
  {
   "cell_type": "code",
   "execution_count": 7,
   "id": "cd467954",
   "metadata": {},
   "outputs": [],
   "source": [
    "# Global Setup\n",
    "alias testnum=\"sed -r \"s/[0-9]/N/g\"\" \n",
    "alias testuser=\"sed -r \"s/\"$USER\"+/userxf333/g\"\" "
   ]
  },
  {
   "cell_type": "code",
   "execution_count": 8,
   "id": "1a81a0db",
   "metadata": {},
   "outputs": [],
   "source": [
    "## BAD\n",
    "# source $BIN_DIR/tomohara-aliases.bash"
   ]
  },
  {
   "cell_type": "code",
   "execution_count": 9,
   "id": "bbcd9a49",
   "metadata": {},
   "outputs": [],
   "source": [
    "## OLD & BAD\n",
    "# # GENERATES A PARAGRAPH WITH MULTIPLE LINES\n",
    "# rm -rf ./*\n",
    "# printf \"Hi Mom,\\nThis is the use of printf\\nI can use a backslash n to start a new line\\n1\\n2\\n3\" >> abc-test.txt\n",
    "# printf \"This is another-test file\" >> test2.txt\n",
    "# printf \"This is test-file 3\" >> test3.txt\n",
    "# printf \"This is a test-file 4\" >> test4.txt\n",
    "rm -rf ./* > /dev/null\n",
    "printf \"Hi Mom,\\nThis is the use of printf\\nI can use a backslash n to start a new line\\n1\\n2\\n3\" > abc-test.txt\n",
    "printf \"This is another-test file\" > test2.txt\n",
    "printf \"This is test-file 3\" > test3.txt\n",
    "printf \"This is a test-file 4\" > test4.txt"
   ]
  },
  {
   "cell_type": "code",
   "execution_count": 10,
   "id": "1f9ba9a1",
   "metadata": {},
   "outputs": [
    {
     "name": "stdout",
     "output_type": "stream",
     "text": [
      "txt\t4\n"
     ]
    }
   ],
   "source": [
    "ls | count-it '\\.([^\\.]+)$'"
   ]
  },
  {
   "cell_type": "code",
   "execution_count": 11,
   "id": "9f34ee1c",
   "metadata": {},
   "outputs": [
    {
     "name": "stdout",
     "output_type": "stream",
     "text": [
      "2\tHi Mom,\n",
      "6\tThis is the use of printf\n",
      "11\tI can use a backslash n to start a new line\n",
      "1\t1\n",
      "1\t2\n",
      "1\t3\n"
     ]
    }
   ],
   "source": [
    "# line-wc | COUNTS WORD FOR EACH LINE\n",
    "cat abc-test.txt | line-wc"
   ]
  },
  {
   "cell_type": "code",
   "execution_count": 12,
   "id": "6c6506f8",
   "metadata": {},
   "outputs": [
    {
     "name": "stdout",
     "output_type": "stream",
     "text": [
      "7\tHi Mom,\n",
      "25\tThis is the use of printf\n",
      "43\tI can use a backslash n to start a new line\n",
      "1\t1\n",
      "1\t2\n",
      "0\t3\n"
     ]
    }
   ],
   "source": [
    "# line-len | COUNTS CHARACTERS FOR EACH LINE\n",
    "cat abc-test.txt | line-len"
   ]
  },
  {
   "cell_type": "code",
   "execution_count": 13,
   "id": "06a0841f",
   "metadata": {},
   "outputs": [
    {
     "name": "stdout",
     "output_type": "stream",
     "text": [
      "82\tHi Mom,\n",
      "This is the use of printf\n",
      "I can use a backslash n to start a new line\n",
      "1\n",
      "2\n",
      "3\n"
     ]
    }
   ],
   "source": [
    "# para-len | COUNTS CHARACTERS FOR EACH PARAGRAPH\n",
    "cat abc-test.txt | para-len"
   ]
  },
  {
   "cell_type": "code",
   "execution_count": 14,
   "id": "c50a7083",
   "metadata": {},
   "outputs": [
    {
     "name": "stdout",
     "output_type": "stream",
     "text": [
      "2\tHi Mom,\n",
      "6\tThis is the use of printf\n",
      "11\tI can use a backslash n to start a new line\n",
      "1\t1\n",
      "1\t2\n",
      "1\t3\n"
     ]
    }
   ],
   "source": [
    "# line-word-len | COUNTS WORDS FOR EACH LINE\n",
    "cat abc-test.txt | line-word-len"
   ]
  },
  {
   "cell_type": "code",
   "execution_count": 15,
   "id": "9c1a26c6",
   "metadata": {
    "scrolled": false
   },
   "outputs": [
    {
     "name": "stdout",
     "output_type": "stream",
     "text": [
      "\u001b[?1h\u001b=\n",
      "\n",
      "\n",
      "\n",
      "\n",
      "\n",
      "\n",
      "\n",
      "\n",
      "\n",
      "\n",
      "\n",
      "\n",
      "\n",
      "\n",
      "\n",
      "\n",
      "\n",
      "\n",
      "\n",
      "\n",
      "\n",
      "\n",
      "\u001b[H\u001b[2J\u001b[H\u001b[H\u001b[2J\u001b[H12      abc-test.txt\n",
      "9       test4.txt\n",
      "9       test3.txt\n",
      "9       test2.txt\n",
      "\u001b[1m~\u001b[0m\n",
      "\u001b[1m~\u001b[0m\n",
      "\u001b[1m~\u001b[0m\n",
      "\u001b[1m~\u001b[0m\n",
      "\u001b[1m~\u001b[0m\n",
      "\u001b[1m~\u001b[0m\n",
      "\u001b[1m~\u001b[0m\n",
      "\u001b[1m~\u001b[0m\n",
      "\u001b[1m~\u001b[0m\n",
      "\u001b[1m~\u001b[0m\n",
      "\u001b[1m~\u001b[0m\n",
      "\u001b[1m~\u001b[0m\n",
      "\u001b[1m~\u001b[0m\n",
      "\u001b[1m~\u001b[0m\n",
      "\u001b[1m~\u001b[0m\n",
      "\u001b[1m~\u001b[0m\n",
      "\u001b[1m~\u001b[0m\n",
      "\u001b[1m~\u001b[0m\n",
      "\u001b[1m~\u001b[0m\n",
      "\u001b[K\u001b[?1l\u001b>\n"
     ]
    }
   ],
   "source": [
    "## PROCESS DOESN'T END FOR ls-line-len\n",
    "## EXAMPLE: \n",
    "## $ls-line-len\n",
    "## |12      abc-test.txt1h=\n",
    "\n",
    "\n",
    "ls-line-len"
   ]
  },
  {
   "cell_type": "code",
   "execution_count": 16,
   "id": "07e67b85",
   "metadata": {},
   "outputs": [],
   "source": [
    "# ## ERROR-GENERATED : check-class-dist\n",
    "# $ cat abc-test.txt | check-class-dist\n",
    "# | Can't open : No such file or directory at /home/xaea12/bin/count_it.perl line 171.\n",
    "# | WARNING: unexpected distribution for FREQ (all 0)\n"
   ]
  },
  {
   "cell_type": "code",
   "execution_count": 17,
   "id": "93c128a3",
   "metadata": {},
   "outputs": [],
   "source": [
    "# $ cat abc-test.txt | 2bib\n",
    "# | bash: bibitem2bib: command not found\n",
    "# | cat: write error: Broken pipe"
   ]
  },
  {
   "cell_type": "code",
   "execution_count": 18,
   "id": "85a87403",
   "metadata": {},
   "outputs": [
    {
     "name": "stdout",
     "output_type": "stream",
     "text": [
      "Done\n"
     ]
    }
   ],
   "source": [
    "## OLD & BAD\n",
    "# rm -rf ./* > /dev/null\n",
    "rm -rf \"$temp_dir\" > /dev/null\n",
    "echo \"Done\""
   ]
  }
 ],
 "metadata": {
  "kernelspec": {
   "display_name": "Bash",
   "language": "bash",
   "name": "bash"
  },
  "language_info": {
   "codemirror_mode": "shell",
   "file_extension": ".sh",
   "mimetype": "text/x-sh",
   "name": "bash"
  }
 },
 "nbformat": 4,
 "nbformat_minor": 5
}
