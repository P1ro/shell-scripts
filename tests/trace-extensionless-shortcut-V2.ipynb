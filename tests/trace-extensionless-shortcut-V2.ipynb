{
 "cells": [
  {
   "cell_type": "code",
   "execution_count": 1,
   "id": "65d43538",
   "metadata": {},
   "outputs": [
    {
     "name": "stdout",
     "output_type": "stream",
     "text": [
      "[PEXP\\[\\]ECT_PROMPT>\n"
     ]
    }
   ],
   "source": [
    "echo $PS1"
   ]
  },
  {
   "cell_type": "code",
   "execution_count": 2,
   "id": "d623c9a9",
   "metadata": {},
   "outputs": [
    {
     "name": "stdout",
     "output_type": "stream",
     "text": [
      "0\n",
      "0\n"
     ]
    }
   ],
   "source": [
    "# Delete all aliases and function\n",
    "# TODO: Instead start from pristine environment\n",
    "unalias -a\n",
    "alias | wc -l\n",
    "for f in $(typeset -f | egrep '^\\w+'); do unset -f $f; done\n",
    "typeset -f | egrep '^\\w+' | wc -l\n",
    "# Setting a temp directory for tests\n",
    "TMP=/tmp/test-extensionless\n",
    "BIN_DIR=$PWD/.."
   ]
  },
  {
   "cell_type": "code",
   "execution_count": 3,
   "id": "0ff8f157",
   "metadata": {},
   "outputs": [
    {
     "name": "stdout",
     "output_type": "stream",
     "text": [
      "0\n"
     ]
    }
   ],
   "source": [
    "alias | wc -l"
   ]
  },
  {
   "cell_type": "code",
   "execution_count": 4,
   "id": "f93dc93d",
   "metadata": {},
   "outputs": [],
   "source": [
    "alias testuser=\"sed -r \"s/\"$USER\"+/user/g\"\""
   ]
  },
  {
   "cell_type": "code",
   "execution_count": 5,
   "id": "ab954c7f",
   "metadata": {},
   "outputs": [
    {
     "name": "stdout",
     "output_type": "stream",
     "text": [
      "/tmp/test-extensionless/test-3570\n"
     ]
    }
   ],
   "source": [
    "temp_dir=$TMP/test-3570\n",
    "mkdir -p \"$temp_dir\"\n",
    "cd \"$temp_dir\"\n",
    "pwd\n",
    "#ALIAS FOR PRINTING SEPERATION LINES (FOR JUPYTER)\n",
    "alias linebr=\"printf '%*s\\n' \"${COLUMNS:-$(tput cols)}\" '' | tr ' ' -\""
   ]
  },
  {
   "cell_type": "code",
   "execution_count": 6,
   "id": "ec6df159",
   "metadata": {},
   "outputs": [
    {
     "name": "stdout",
     "output_type": "stream",
     "text": [
      "2\n",
      "0\n"
     ]
    }
   ],
   "source": [
    "# Count aliases proper\n",
    "alias | wc -l\n",
    "# Count functions\n",
    "typeset -f | egrep '^\\w+' | wc -l"
   ]
  },
  {
   "cell_type": "code",
   "execution_count": 7,
   "id": "8d2d64e7",
   "metadata": {},
   "outputs": [],
   "source": [
    "alias testnum=\"sed -r \"s/[0-9]/X/g\"\" \n",
    "alias testuser=\"sed -r \"s/\"$USER\"+/user/g\"\""
   ]
  },
  {
   "cell_type": "code",
   "execution_count": 8,
   "id": "85a87403",
   "metadata": {},
   "outputs": [],
   "source": [
    "## TESTS 1 - EXTENSIONLESS SHORTCUTS PT. 1\n",
    " \n",
    "alias perl-=\"\"\n",
    "GREP='grep'\n",
    "\n",
    "alias move='mv'\n",
    "alias convert-termstrings='perl- $BIN_DIR/convert_termstrings.perl'\n",
    "alias do-rcsdiff='$BIN_DIR/do_rcsdiff.sh'\n",
    "alias dobackup='$BIN_DIR/dobackup.sh'\n",
    "alias kill-em='$BIN_DIR/kill_em.sh'\n",
    "alias kill-it='$BIN_DIR/kill-em --pattern'"
   ]
  },
  {
   "cell_type": "code",
   "execution_count": 9,
   "id": "b2919e2f",
   "metadata": {},
   "outputs": [],
   "source": [
    "# # 1.1) NO EXAMPLES RN FOR kill-em and kill-it\n",
    "# kill-em\n",
    "# linebr\n",
    "# kill-it\n",
    "\n",
    "# # 1.2) TEST STOPS\n",
    "# $ kill-em --pattern kcalc\n",
    "# | pattern=/kcalc/\n",
    "# | filter=/($)(^)/\n",
    "# | OSTYPE: Undefined variable."
   ]
  },
  {
   "cell_type": "code",
   "execution_count": 10,
   "id": "94ed70f0",
   "metadata": {},
   "outputs": [],
   "source": [
    "## 1.2) ERROR GENERATED - SCRIPT MISSING\n",
    "# $ convert-termstrings\n",
    "# | Can't open perl script \"convert_termstrings.perl\": No such file or directory"
   ]
  },
  {
   "cell_type": "code",
   "execution_count": 11,
   "id": "98b974b4",
   "metadata": {},
   "outputs": [
    {
     "name": "stdout",
     "output_type": "stream",
     "text": [
      "test.txt\n",
      "Backing up 'test.txt' to './backup/test.txt'\n",
      "--------------------------------------------------------------------------------\n",
      "backup\ttest.txt\n"
     ]
    }
   ],
   "source": [
    "rm -rf ./*\n",
    "printf \"TOP\\nTHIS IS A TEST\\nBOTTOM\" > test.txt\n",
    "ls\n",
    "\n",
    "dobackup test.txt\n",
    "linebr\n",
    "ls"
   ]
  },
  {
   "cell_type": "code",
   "execution_count": 12,
   "id": "e1939c2a",
   "metadata": {},
   "outputs": [],
   "source": [
    "function ps-mine- { ps-mine \"$@\" | filter-dirnames; }\n",
    "alias ps_mine='ps-mine'\n",
    "alias ps-mine-all='ps-mine --all'"
   ]
  },
  {
   "cell_type": "code",
   "execution_count": 13,
   "id": "1584698d",
   "metadata": {},
   "outputs": [],
   "source": [
    "## ERROR - ps-mine COMMAND NOT FOUND\n",
    "# ps_mine"
   ]
  },
  {
   "cell_type": "code",
   "execution_count": 14,
   "id": "d312db03",
   "metadata": {},
   "outputs": [],
   "source": [
    "alias rename-files='perl- $BIN_DIR/rename_files.perl'\n",
    "alias rename_files='rename-files'\n",
    "alias testwn='perl- $BIN_DIR/testwn.perl'\n",
    "alias perlgrep='perl- $BIN_DIR/perlgrep.perl'\n",
    "alias foreach='perl- $BIN_DIR/foreach.perl'\n",
    "alias rename-spaces='rename-files -q -global \" \" \"_\"'\n",
    "alias rename-special-punct='rename-files -q -global -regex \"[&\\!\\*?\\(\\)]\" \"\"'\n",
    "alias rename-quotes='rename-files -q -global \"'\"'\"'\" \"\"' "
   ]
  },
  {
   "cell_type": "code",
   "execution_count": null,
   "id": "3f291139",
   "metadata": {},
   "outputs": [],
   "source": [
    "rename-files -help | "
   ]
  },
  {
   "cell_type": "code",
   "execution_count": 16,
   "id": "c7070a99",
   "metadata": {},
   "outputs": [
    {
     "name": "stdout",
     "output_type": "stream",
     "text": [
      "\n",
      "usage: do_rcsdiff.sh [-v] [-c] [--brief] [-p file_pattern] [-f] file ...\n",
      "\n",
      "examples:\n",
      "\n",
      "do_rcsdiff.sh Makefile\n",
      "\n",
      "do_rcsdiff.sh \\* >| _rcs.diff 2>&1\n",
      "\n",
      "do_rcsdiff.sh *.[ch] >| _rcs.diff 2>&1\n",
      "\n",
      "NOTES:\n",
      "- Patterns are relative to the RCS subdirectory\n",
      "- The rcsdiff command lists the rcs file before the current one, as in:\n",
      "      diff RCS-file file\n",
      "\n"
     ]
    }
   ],
   "source": [
    "# HELP REQUIRED FOR RCS FILES (TBC)\n",
    "do-rcsdiff"
   ]
  },
  {
   "cell_type": "code",
   "execution_count": 17,
   "id": "22a23226",
   "metadata": {},
   "outputs": [
    {
     "name": "stdout",
     "output_type": "stream",
     "text": [
      " backup\t\t   versionA.txta       versionR-1.txt   versionV.txt\n",
      " grep_manual.txt   versionI.txt        versionR.txt\n",
      " test.txt\t  'version none.txt'  'version?.txt'\n"
     ]
    }
   ],
   "source": [
    "uname -r > versionR.txt\n",
    "uname -a > versionA.txta\n",
    "uname -v > versionV.txt\n",
    "uname -i > versionI.txt\n",
    "uname > \"version none.txt\"\n",
    "uname -ra > \"version?.txt\"\n",
    "\n",
    "man grep > grep_manual.txt\n",
    "\n",
    "cp ./versionR.txt ./versionR-1.txt\n",
    "ls"
   ]
  },
  {
   "cell_type": "code",
   "execution_count": 18,
   "id": "d6117d46",
   "metadata": {},
   "outputs": [
    {
     "name": "stdout",
     "output_type": "stream",
     "text": [
      "renaming \"test.txt\" to \"harry.txt\"\n"
     ]
    }
   ],
   "source": [
    "rename-files -q test.txt harry.txt"
   ]
  },
  {
   "cell_type": "code",
   "execution_count": 19,
   "id": "95161560",
   "metadata": {},
   "outputs": [],
   "source": [
    "# # NEED HELP (TBC)\n",
    "\n",
    "# $ testwn\n",
    "# | Undefined subroutine &main::NO_OP called at /home/xaea12/bin/common.perl line 2172.\n"
   ]
  },
  {
   "cell_type": "code",
   "execution_count": 20,
   "id": "8298cf91",
   "metadata": {},
   "outputs": [
    {
     "name": "stdout",
     "output_type": "stream",
     "text": [
      "       grep, egrep, fgrep, rgrep - print lines that match patterns\n",
      "       patterns separated by newline characters, and  grep  prints  each  line\n",
      "              Suppress  normal output; instead print a count of matching lines\n",
      "              Suppress normal output; instead print the  name  of  each  input\n",
      "              file from which no output would normally have been printed.\n",
      "              Suppress  normal  output;  instead  print the name of each input\n",
      "              file  from  which  output  would  normally  have  been  printed.\n",
      "              line of output.  If -o (--only-matching) is specified, print the\n",
      "              be printed in a minimum size field width.\n",
      "              -print0,  perl  -0,  sort  -z, and xargs -0 to process arbitrary\n",
      "              When  -A,  -B, or -C are in use, print SEP instead of -- between\n",
      "              When -A, -B, or -C are in use, do not print a separator  between\n",
      "       [:graph:], [:lower:], [:print:], [:punct:], [:space:],  [:upper:],  and\n"
     ]
    }
   ],
   "source": [
    "perlgrep \"print\" ./grep_manual.txt"
   ]
  },
  {
   "cell_type": "code",
   "execution_count": 21,
   "id": "3ca47040",
   "metadata": {},
   "outputs": [],
   "source": [
    "foreach \"echo $f\" *.txt"
   ]
  },
  {
   "cell_type": "code",
   "execution_count": 22,
   "id": "5877539b",
   "metadata": {},
   "outputs": [
    {
     "name": "stdout",
     "output_type": "stream",
     "text": [
      "renaming \"version none.txt\" to \"version_none.txt\"\n"
     ]
    }
   ],
   "source": [
    "rename-spaces"
   ]
  },
  {
   "cell_type": "code",
   "execution_count": 23,
   "id": "b4a3202e",
   "metadata": {},
   "outputs": [
    {
     "name": "stdout",
     "output_type": "stream",
     "text": [
      "renaming \"version?.txt\" to \"version.txt\"\n"
     ]
    }
   ],
   "source": [
    "rename-special-punct"
   ]
  },
  {
   "cell_type": "code",
   "execution_count": 24,
   "id": "104d555f",
   "metadata": {},
   "outputs": [],
   "source": [
    "ps -l > \"process(L).md\"\n",
    "ps -u > \"process(U).md\"\n",
    "ps -x > \"process(X).md\"\n",
    "ps -al > 'process'all'.md'"
   ]
  },
  {
   "cell_type": "code",
   "execution_count": 25,
   "id": "309210c6",
   "metadata": {},
   "outputs": [],
   "source": [
    "alias move-duplicates='mkdir -p duplicates; move *\\([0-9]\\).* duplicates 2>&1 | $GREP -iv cannot.stat.*..No.such'\n",
    "alias rename-parens='rename-files -global -regex \"[\\(\\)]\" \"\" *[\\(\\)]*'\n",
    "alias rename-etc='rename-spaces; rename-quotes; rename-special-punct; move-duplicates'"
   ]
  },
  {
   "cell_type": "code",
   "execution_count": 26,
   "id": "58a35929",
   "metadata": {},
   "outputs": [],
   "source": [
    "# # NO OUTPUT - NEED FURTHER ATTENTION\n",
    "# $ move-duplicates"
   ]
  },
  {
   "cell_type": "code",
   "execution_count": 27,
   "id": "33d36d20",
   "metadata": {},
   "outputs": [
    {
     "name": "stdout",
     "output_type": "stream",
     "text": [
      "renaming \"process(L).md\" to \"processL.md\"\n",
      "renaming \"process(U).md\" to \"processU.md\"\n",
      "renaming \"process(X).md\" to \"processX.md\"\n"
     ]
    }
   ],
   "source": [
    "rename-parens -v"
   ]
  },
  {
   "cell_type": "code",
   "execution_count": 28,
   "id": "8e6b254c",
   "metadata": {},
   "outputs": [
    {
     "name": "stdout",
     "output_type": "stream",
     "text": [
      "WARNING: Ignoring -quick mode as files specified\n"
     ]
    }
   ],
   "source": [
    "rename-quotes -v"
   ]
  },
  {
   "cell_type": "code",
   "execution_count": 29,
   "id": "3a5731b8",
   "metadata": {},
   "outputs": [
    {
     "name": "stdout",
     "output_type": "stream",
     "text": [
      "backup\t\t processall.md\tprocessX.md    version_none.txt  version.txt\n",
      "grep_manual.txt  processL.md\tversionA.txta  versionR-1.txt\t versionV.txt\n",
      "harry.txt\t processU.md\tversionI.txt   versionR.txt\n"
     ]
    }
   ],
   "source": [
    "ls"
   ]
  },
  {
   "cell_type": "code",
   "execution_count": 30,
   "id": "efff01cf",
   "metadata": {},
   "outputs": [],
   "source": [
    "function move-versioned-files {\n",
    "    alias perl-grep='perl $BIN_DIR/perlgrep.perl'\n",
    "    alias dir-rw='dir -rw'\n",
    "    alias move='mv'\n",
    "    \n",
    "    local ext_pattern='$1'\n",
    "    if [ '$ext_pattern' = '' ]; then ext_pattern='{list,log,txt}'; fi\n",
    "    local dir='$2'\n",
    "    if [ '$dir' = '' ]; then dir='versioned-files'; fi\n",
    "    mkdir -p '$dir';\n",
    "    local D='[-.]'\n",
    "    local file_list='$TEMP/_move-versioned-files-$$.list'\n",
    "    \n",
    "    eval_middle='$(eval dir-rw *$D$ext_pattern[0-9]*  *$D*[0-9]*$D$ext_pattern  *$D$ext_pattern$D*[0-9][0-9]*   *$D*[0-9][0-9]*$D$ext_pattern  2>&1 | perl-grep -v \"No such file\" | perl -pe \"s/(\\S+\\s+){6}\\S+//;\" | sort -u)'\n",
    "    move '$eval_middle' '$dir'\n",
    "}\n",
    "\n",
    "alias move-log-files='move-versioned-files \"{log,debug}\" \"log-files\"'\n",
    "alias move-output-files='move-versioned-files \"{csv,html,json,list,out,output,png,report,tsv,xml}\" \"output-files\"'\n",
    "alias move-adhoc-files='move-log-files; move-output-files'"
   ]
  },
  {
   "cell_type": "code",
   "execution_count": 31,
   "id": "672d1bd6",
   "metadata": {},
   "outputs": [],
   "source": [
    "man sudo > sudo_manual.out\n",
    "man ansifilter > fakelog.log\n",
    "ps -aux > process_all.html"
   ]
  },
  {
   "cell_type": "code",
   "execution_count": 32,
   "id": "2b2b495d",
   "metadata": {},
   "outputs": [],
   "source": [
    "# # HELP REQUIRED - TBF\n",
    "# $ move-log-files\n",
    "# | mv: cannot stat '$eval_middle': No such file or directory"
   ]
  },
  {
   "cell_type": "code",
   "execution_count": 33,
   "id": "527d72eb",
   "metadata": {},
   "outputs": [],
   "source": [
    "# # HELP REQUIRED - TBF\n",
    "# $ move-output-files\n",
    "# | mv: cannot stat '$eval_middle': No such file or directory"
   ]
  },
  {
   "cell_type": "code",
   "execution_count": 34,
   "id": "088dc74c",
   "metadata": {},
   "outputs": [],
   "source": [
    "function get-free-filename() {\n",
    "    local base=\"$1\"\n",
    "    local sep=\"$2\"\n",
    "    local L=1\n",
    "    local filename=\"$base\"\n",
    "    while [ -e \"$filename\" ]; do\n",
    "        let L++\n",
    "        filename=\"$base$sep$L\"\n",
    "    done;\n",
    "    echo \"$filename\"\n",
    "}\n",
    "\n",
    "function rename-with-file-date() {\n",
    "    local f new_f\n",
    "    local move_command=\"move\"\n",
    "    if [ \"$1\" = \"--copy\" ]; then\n",
    "        move_command='command cp --interactive --verbose --preserve'\n",
    "        shift\n",
    "    fi\n",
    "    for f in \"$@\"; do\n",
    "        if [ -e \"$f\" ]; then\n",
    "           new_f=$(get-free-filename \"$f\".$(date --reference=\"$f\" '+%d%b%y') \".\")\n",
    "           eval \"$move_command\" \"$f\" \"$new_f\";\n",
    "        fi\n",
    "    done;\n",
    "}\n",
    "\n",
    "function copy-with-file-date { rename-with-file-date --copy \"$@\"; }"
   ]
  },
  {
   "cell_type": "code",
   "execution_count": 35,
   "id": "937d9242",
   "metadata": {},
   "outputs": [
    {
     "name": "stdout",
     "output_type": "stream",
     "text": [
      "4\n"
     ]
    }
   ],
   "source": [
    "copy-with-file-date *.md | wc -l"
   ]
  },
  {
   "cell_type": "code",
   "execution_count": 36,
   "id": "23180fdf",
   "metadata": {},
   "outputs": [],
   "source": [
    "# Statistical helpers\n",
    "alias bigrams='perl -sw $BIN_DIR/count_bigrams.perl -N=2'\n",
    "alias unigrams='perl -sw $BIN_DIR/count_bigrams.perl -N=1'\n",
    "alias word-count=unigrams"
   ]
  },
  {
   "cell_type": "code",
   "execution_count": 37,
   "id": "d9ba3659",
   "metadata": {},
   "outputs": [],
   "source": [
    "man cat > man_cat.txt"
   ]
  },
  {
   "cell_type": "code",
   "execution_count": 38,
   "id": "1d96c16e",
   "metadata": {
    "scrolled": true
   },
   "outputs": [
    {
     "name": "stdout",
     "output_type": "stream",
     "text": [
      "to\tX\n",
      "and\tX\n",
      "standard\tX\n",
      "output\tX\n",
      "cat\tX\n",
      "equivalent\tX\n",
      "display\tX\n",
      "gnu\tX\n",
      "free\tX\n",
      "is\tX\n",
      "or\tX\n",
      "bugs\tX\n",
      "cat(X)\tX\n",
      "this\tX\n",
      "coreutils\tX\n",
      "copyright\tX\n",
      "no\tX\n",
      "by\tX\n",
      "output.\tX\n",
      "tab\tX\n",
      "concatenate\tX\n",
      "number\tX\n",
      "the\tX\n",
      "version\tX\n",
      "then\tX\n",
      "exit\tX\n",
      "-\tX\n",
      "lines\tX\n",
      "(ignored)\tX\n",
      "-,\tX\n",
      "-a,\tX\n",
      "'(coreutils)\tX\n",
      "tac(X)\tX\n",
      "-vt\tX\n",
      "[file]...\tX\n",
      "gpl\tX\n",
      "documentation\tX\n",
      "of\tX\n",
      "examples\tX\n",
      "help:\tX\n",
      "locally\tX\n",
      "--help\tX\n",
      "^i\tX\n",
      "-t\tX\n",
      "at\tX\n",
      "input,\tX\n",
      "--show-nonprinting\tX\n",
      "info\tX\n",
      "inc.\tX\n",
      "except\tX\n",
      "f's\tX\n",
      "m.\tX\n",
      "law.\tX\n",
      "there\tX\n",
      "software:\tX\n",
      "also\tX\n",
      "-u\tX\n",
      "for\tX\n",
      "-v,\tX\n",
      "-e,\tX\n",
      "files\tX\n",
      "foundation,\tX\n",
      "stallman.\tX\n",
      "file\tX\n",
      "information\tX\n",
      "-s,\tX\n",
      "--show-ends\tX\n",
      "<https://translationproject.org/team/>\tX\n",
      "written\tX\n",
      "<https://www.gnu.org/software/coreutils/>\tX\n",
      "richard\tX\n",
      "any\tX\n",
      "warranty,\tX\n",
      "XXXX\tX\n",
      "permitted\tX\n",
      "via:\tX\n",
      "each\tX\n",
      "nonempty\tX\n",
      "you\tX\n",
      "print\tX\n",
      "lines,\tX\n",
      "-n,\tX\n",
      "f\tX\n",
      "[option]...\tX\n",
      "help\tX\n",
      "granlund\tX\n",
      "X.XX\tX\n",
      "full\tX\n",
      "available\tX\n",
      "X\tX\n",
      "with\tX\n",
      "$\tX\n",
      "--show-tabs\tX\n",
      "read\tX\n",
      "--show-all\tX\n",
      "<https://www.gnu.org/software/coreutils/cat>\tX\n",
      "XXXX\tX\n",
      "report\tX\n",
      "author\tX\n",
      "commands\tX\n",
      "end\tX\n",
      "input\tX\n",
      "file(s)\tX\n",
      "user\tX\n",
      "--number-nonblank\tX\n",
      "lfd\tX\n",
      "synopsis\tX\n",
      "translation\tX\n",
      "extent\tX\n",
      "contents.\tX\n",
      "--version\tX\n",
      "-t,\tX\n",
      "repeated\tX\n",
      "name\tX\n",
      "use\tX\n",
      "change\tX\n",
      "g's\tX\n",
      "reporting\tX\n",
      "n/a\tX\n",
      "overrides\tX\n",
      "february\tX\n",
      "online\tX\n",
      "--number\tX\n",
      "contents,\tX\n",
      "^\tX\n",
      "invocation'\tX\n",
      "suppress\tX\n",
      "license\tX\n",
      "m-\tX\n",
      "when\tX\n",
      "it.\tX\n",
      "all\tX\n",
      "redistribute\tX\n",
      "gplvX+:\tX\n",
      "©\tX\n",
      "-ve\tX\n",
      "-n\tX\n",
      "g\tX\n",
      "description\tX\n",
      "-b,\tX\n",
      "input.\tX\n",
      "see\tX\n",
      "<https://gnu.org/licenses/gpl.html>.\tX\n",
      "--squeeze-blank\tX\n",
      "-e\tX\n",
      "line\tX\n",
      "software\tX\n",
      "are\tX\n",
      "notation,\tX\n",
      "copy\tX\n",
      "characters\tX\n",
      "-vet\tX\n",
      "on\tX\n",
      "empty\tX\n",
      "later\tX\n",
      "torbjorn\tX\n",
      "as\tX\n",
      "file,\tX\n"
     ]
    }
   ],
   "source": [
    "word-count ./man_cat.txt | testnum | testuser"
   ]
  },
  {
   "cell_type": "code",
   "execution_count": 39,
   "id": "71adad1d",
   "metadata": {},
   "outputs": [
    {
     "name": "stdout",
     "output_type": "stream",
     "text": [
      "equivalent:to\tX\n",
      "to:standard\tX\n",
      "output:lines\tX\n",
      "gnu:coreutils\tX\n",
      "standard:output.\tX\n",
      "and:exit\tX\n",
      "by:torbjorn\tX\n",
      "free:to\tX\n",
      "tab:--help\tX\n",
      "the:extent\tX\n",
      "--help:display\tX\n",
      "there:is\tX\n",
      "with:no\tX\n",
      "standard:input\tX\n",
      "cat(X):user\tX\n",
      "it.:there\tX\n",
      "-n:-e\tX\n",
      "number:nonempty\tX\n",
      "help:and\tX\n",
      "display:$\tX\n",
      "X.XX:february\tX\n",
      "exit:--version\tX\n",
      "display:tab\tX\n",
      "bugs:to\tX\n",
      "you:are\tX\n",
      "description:concatenate\tX\n",
      "when:file\tX\n",
      "also:tac(X)\tX\n",
      "documentation:<https://www.gnu.org/software/coreutils/cat>\tX\n",
      "stallman.:reporting\tX\n",
      "<https://www.gnu.org/software/coreutils/>:report\tX\n",
      "and:m-\tX\n",
      "-:concatenate\tX\n",
      "software:foundation,\tX\n",
      "bugs:gnu\tX\n",
      "output:synopsis\tX\n",
      "help::<https://www.gnu.org/software/coreutils/>\tX\n",
      "characters:as\tX\n",
      "then:standard\tX\n",
      "--show-ends:display\tX\n",
      "user:commands\tX\n",
      "tab:characters\tX\n",
      "no:file,\tX\n",
      "©:XXXX\tX\n",
      "and:richard\tX\n",
      "tac(X):full\tX\n",
      "the:standard\tX\n",
      "XXXX:free\tX\n",
      "--show-tabs:display\tX\n",
      "[option]...:[file]...\tX\n",
      "version:information\tX\n",
      "version:X\tX\n",
      "[file]...:description\tX\n",
      "m-:notation,\tX\n",
      "this:is\tX\n",
      "files:and\tX\n",
      "--number-nonblank:number\tX\n",
      "for:lfd\tX\n",
      "lines,:overrides\tX\n",
      "on:the\tX\n",
      "to:-vet\tX\n",
      "standard:input.\tX\n",
      "-u:(ignored)\tX\n",
      "output:lines,\tX\n",
      "output:version\tX\n",
      "reporting:bugs\tX\n",
      "output:f's\tX\n",
      "copyright:copyright\tX\n",
      "at:end\tX\n",
      "by:law.\tX\n",
      "m.:stallman.\tX\n",
      "software::you\tX\n",
      "-,:read\tX\n",
      "contents.:cat\tX\n",
      "concatenate:files\tX\n",
      "warranty,:to\tX\n",
      "law.:see\tX\n",
      "n/a:n/a\tX\n",
      "gnu:gpl\tX\n",
      "and:redistribute\tX\n",
      "cat:-\tX\n",
      "--show-all:equivalent\tX\n",
      "--show-nonprinting:use\tX\n",
      "overrides:-n\tX\n",
      "or:when\tX\n",
      "$:at\tX\n",
      "no:warranty,\tX\n",
      "concatenate:file(s)\tX\n",
      "or:available\tX\n",
      "to:-vt\tX\n",
      "end:of\tX\n",
      "file,:or\tX\n",
      "cat:[option]...\tX\n",
      "license:gplvX+:\tX\n",
      "n/a:cat(X)\tX\n",
      "output.:author\tX\n",
      "february:XXXX\tX\n",
      "read:standard\tX\n",
      "invocation':gnu\tX\n",
      "-ve:-e,\tX\n",
      "f:-\tX\n",
      "file(s):to\tX\n",
      "except:for\tX\n",
      "suppress:repeated\tX\n",
      "online:help:\tX\n",
      "contents,:then\tX\n",
      "available:locally\tX\n",
      "this:help\tX\n",
      "-n,:--number\tX\n",
      "torbjorn:granlund\tX\n",
      "(ignored):-v,\tX\n",
      "coreutils:X.XX\tX\n",
      "all:output\tX\n",
      "of:each\tX\n",
      "written:by\tX\n",
      "file:is\tX\n",
      "change:and\tX\n",
      "permitted:by\tX\n",
      "and:print\tX\n",
      "-t,:--show-tabs\tX\n",
      "<https://translationproject.org/team/>:copyright\tX\n",
      "are:free\tX\n",
      "or:later\tX\n",
      "richard:m.\tX\n",
      "empty:output\tX\n",
      "lfd:and\tX\n",
      "cat:invocation'\tX\n",
      "redistribute:it.\tX\n",
      "standard:input,\tX\n",
      "number:all\tX\n",
      "copyright:©\tX\n",
      "cat:copy\tX\n",
      "is:free\tX\n",
      "X:or\tX\n",
      "-e,:--show-ends\tX\n",
      "<https://www.gnu.org/software/coreutils/cat>:or\tX\n",
      "locally:via:\tX\n",
      "g's:contents.\tX\n",
      "via::info\tX\n",
      "each:line\tX\n",
      "to:<https://translationproject.org/team/>\tX\n",
      "--version:output\tX\n",
      "commands:cat(X)\tX\n",
      "notation,:except\tX\n",
      "then:g's\tX\n",
      "report:any\tX\n",
      "standard:output\tX\n",
      "is:no\tX\n",
      "--number:number\tX\n",
      "-vt:-t,\tX\n",
      "foundation,:inc.\tX\n",
      "--squeeze-blank:suppress\tX\n",
      "display:this\tX\n",
      "<https://gnu.org/licenses/gpl.html>.:this\tX\n",
      "author:written\tX\n",
      "information:and\tX\n",
      "nonempty:output\tX\n",
      "synopsis:cat\tX\n",
      "gplvX+::gnu\tX\n",
      "extent:permitted\tX\n",
      "^i:-u\tX\n",
      "and:tab\tX\n",
      "gpl:version\tX\n",
      "use:^\tX\n",
      "examples:cat\tX\n",
      "info:'(coreutils)\tX\n",
      "name:cat\tX\n",
      "free:software\tX\n",
      "to:-ve\tX\n",
      "line:-n,\tX\n",
      "-t:equivalent\tX\n",
      "to:the\tX\n",
      "-e:equivalent\tX\n",
      "-b,:--number-nonblank\tX\n",
      "-v,:--show-nonprinting\tX\n",
      "lines:-s,\tX\n",
      "print:on\tX\n",
      "output.:with\tX\n",
      "input.:-a,\tX\n",
      "f's:contents,\tX\n",
      "is:-,\tX\n",
      "full:documentation\tX\n",
      "'(coreutils):cat\tX\n",
      "any:translation\tX\n",
      "^:and\tX\n",
      "-:g\tX\n",
      "repeated:empty\tX\n",
      "g:output\tX\n",
      "to:change\tX\n",
      "exit:examples\tX\n",
      "later:<https://gnu.org/licenses/gpl.html>.\tX\n",
      "granlund:and\tX\n",
      "-vet:-b,\tX\n",
      "-s,:--squeeze-blank\tX\n",
      "cat:f\tX\n",
      "coreutils:online\tX\n",
      "copy:standard\tX\n",
      "free:software:\tX\n",
      "input:to\tX\n",
      "cat(X):name\tX\n",
      "lines:-t\tX\n",
      "inc.:license\tX\n",
      "-a,:--show-all\tX\n",
      "as:^i\tX\n",
      "see:also\tX\n",
      "input,:then\tX\n",
      "translation:bugs\tX\n"
     ]
    }
   ],
   "source": [
    "bigrams ./man_cat.txt | testnum | testuser"
   ]
  },
  {
   "cell_type": "code",
   "execution_count": 40,
   "id": "a124be24",
   "metadata": {},
   "outputs": [],
   "source": [
    "lynx-dump-stdout () { lynx -width=512 -dump \"$@\"; }\n",
    "lynx-dump () { \n",
    "    local in_file=\"$1\"\n",
    "    shift 1\n",
    "    local base=$(basename \"$file\" .html)\n",
    "    \n",
    "    if [[ (\"$out_file\" = \"\" ) && (! \"$1\" =~ -*) ]]; then\n",
    "        local out_file=\"$1\"\n",
    "    fi\n",
    "    \n",
    "    if [ \"$out_file\" = \"\" ]; then out_file=\"$base.txt\"; fi\n",
    "    \n",
    "    lynx-dump-stdout \"$@\" \"$file\" > \"$out_file\" 2> \"$out_file.log\"\n",
    "    if [ -s \"$out_file.log\" ]; then\n",
    "        cat \"$out_file.log\"\n",
    "        delete-force \"$out_file.log\"\n",
    "    fi\n",
    "}\n",
    "\n",
    "if [ \"$BAREBONES_HOST\" = \"1\" ]; then export lynx_width=0; fi\n",
    "alias lynx-html='lynx -force_html'"
   ]
  },
  {
   "cell_type": "code",
   "execution_count": 41,
   "id": "d57951d5",
   "metadata": {},
   "outputs": [],
   "source": [
    "# # WORKS FINE - HALTS PROCESS\n",
    "# $ lynx-html"
   ]
  },
  {
   "cell_type": "code",
   "execution_count": 42,
   "id": "86419b9f",
   "metadata": {},
   "outputs": [
    {
     "name": "stdout",
     "output_type": "stream",
     "text": [
      "     [ [1]About Lynx-Dev | [2]Lynx-Dev Archives ]\n",
      "\n",
      "About Lynx\n",
      "\n",
      "   Lynx is a fully-featured World Wide Web (WWW) browser for users on Unix, VMS, and other platforms running cursor-addressable, character-cell terminals or emulators. That includes vt100 terminals, other character-cell displays, and vt100 emulators such as Kermit or Procomm running on PCs or Macs.\n",
      "\n",
      "   For information on how to use Lynx see the [3]Lynx User's Guide, or the [4]Lynx help files.\n",
      "\n",
      "Credits and Copyright\n",
      "\n"
     ]
    }
   ],
   "source": [
    "lynx-dump-stdout | head"
   ]
  },
  {
   "cell_type": "code",
   "execution_count": 43,
   "id": "d9ed2744",
   "metadata": {},
   "outputs": [],
   "source": [
    "# # NEED HELP - N/A \n",
    "# $ lynx-dump lynx_text.txt"
   ]
  },
  {
   "cell_type": "code",
   "execution_count": 44,
   "id": "2a8bc6f3",
   "metadata": {},
   "outputs": [],
   "source": [
    "function setenv () { export $1=\"$2\"; }\n",
    "alias unsetenv='unset'\n",
    "alias unexport='unset'"
   ]
  },
  {
   "cell_type": "code",
   "execution_count": 45,
   "id": "f45efa52",
   "metadata": {},
   "outputs": [
    {
     "name": "stdout",
     "output_type": "stream",
     "text": [
      "xaea12-temp\n"
     ]
    }
   ],
   "source": [
    "setenv MY_USERNAME xaea12-temp\n",
    "echo $MY_USERNAME"
   ]
  },
  {
   "cell_type": "code",
   "execution_count": 46,
   "id": "addf3591",
   "metadata": {},
   "outputs": [
    {
     "name": "stdout",
     "output_type": "stream",
     "text": [
      "\n"
     ]
    }
   ],
   "source": [
    "unexport MY_USERNAME\n",
    "echo $MY_USERNAME"
   ]
  },
  {
   "cell_type": "code",
   "execution_count": 47,
   "id": "49d6d56d",
   "metadata": {},
   "outputs": [
    {
     "name": "stdout",
     "output_type": "stream",
     "text": [
      "END\n"
     ]
    }
   ],
   "source": [
    "echo \"END\""
   ]
  },
  {
   "cell_type": "code",
   "execution_count": null,
   "id": "ed88613c",
   "metadata": {},
   "outputs": [],
   "source": []
  }
 ],
 "metadata": {
  "kernelspec": {
   "display_name": "Bash",
   "language": "bash",
   "name": "bash"
  },
  "language_info": {
   "codemirror_mode": "shell",
   "file_extension": ".sh",
   "mimetype": "text/x-sh",
   "name": "bash"
  }
 },
 "nbformat": 4,
 "nbformat_minor": 5
}
