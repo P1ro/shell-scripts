{
 "cells": [
  {
   "cell_type": "code",
   "execution_count": 1,
   "id": "0374d8f3",
   "metadata": {},
   "outputs": [],
   "source": [
    "# Tests for various perl scripts\n"
   ]
  },
  {
   "cell_type": "code",
   "execution_count": 2,
   "id": "9ba9f685",
   "metadata": {},
   "outputs": [],
   "source": [
    "# paste.perl: pasting columns with row exclusion\n"
   ]
  },
  {
   "cell_type": "code",
   "execution_count": 3,
   "id": "8e96a185",
   "metadata": {},
   "outputs": [
    {
     "name": "stdout",
     "output_type": "stream",
     "text": [
      "0\n"
     ]
    }
   ],
   "source": [
    "## NEW\n",
    "[ \"$DEBUG_LEVEL\" -lt 4 ]; echo \"$?\""
   ]
  },
  {
   "cell_type": "code",
   "execution_count": 4,
   "id": "9eefccdb",
   "metadata": {},
   "outputs": [],
   "source": [
    "## NEW\n",
    "TMP=${TMP:-/tmp}\n",
    "if [ \"$DEBUG_LEVEL\" -lt 4 ]; then TMP=/tmp/test-dir-aliases; fi\n",
    "mkdir --parents \"$TMP\""
   ]
  },
  {
   "cell_type": "code",
   "execution_count": 5,
   "id": "9002fc4e",
   "metadata": {},
   "outputs": [],
   "source": [
    "# Setup\n",
    "echo 'ABC\\nJKL' > $TMP/_col1.list\n",
    "echo 'DEF\\nMNO' > $TMP/_col2.list\n",
    "echo 'GHI\\nPQR' > $TMP/_col3.list\n"
   ]
  },
  {
   "cell_type": "code",
   "execution_count": 6,
   "id": "33dc7704",
   "metadata": {},
   "outputs": [
    {
     "name": "stdout",
     "output_type": "stream",
     "text": [
      "ABC\\nJKL\tDEF\\nMNO\tGHI\\nPQR\n"
     ]
    }
   ],
   "source": [
    "paste.perl -cols=\"1,2,3\" $TMP/_col*.list\n"
   ]
  },
  {
   "cell_type": "code",
   "execution_count": 7,
   "id": "97ee6ff5",
   "metadata": {},
   "outputs": [
    {
     "name": "stdout",
     "output_type": "stream",
     "text": [
      "DEF\\nMNO\tGHI\\nPQR\n"
     ]
    }
   ],
   "source": [
    "paste.perl -cols=\"2,3\" $TMP/_col*.list\n"
   ]
  },
  {
   "cell_type": "code",
   "execution_count": 8,
   "id": "fc3e1a30",
   "metadata": {},
   "outputs": [],
   "source": [
    "#...............................................................................\n",
    "# paste.perl: pasting columns by key\n"
   ]
  },
  {
   "cell_type": "code",
   "execution_count": 9,
   "id": "7a3290c6",
   "metadata": {},
   "outputs": [],
   "source": [
    "# TODO: work out a more intuitive example\n"
   ]
  },
  {
   "cell_type": "code",
   "execution_count": 10,
   "id": "ddc2ed39",
   "metadata": {},
   "outputs": [
    {
     "name": "stdout",
     "output_type": "stream",
     "text": [
      "\u001b]1;$ test-dir-aliases [/tmp/test-dir-aliases]\u0007\u001b]2;$ test-dir-aliases [/tmp/test-dir-aliases]\u0007\n"
     ]
    }
   ],
   "source": [
    "# Setup\n",
    "cd $TMP\n",
    "echo -e 'ABC\\tR1C2\\tR1C3\\nJKL\\tR2C2\\tR2C3' > _f1.tsv\n",
    "echo -e 'DEF\\tR1C2\\tR1C3\\nMNO\\tR2C2\\tR2C3' > _f2.tsv\n",
    "echo -e 'GHI\\tR1C2\\tR1C3\\nPQR\\tR2C2\\tR2C3' > _f3.tsv\n",
    "echo -e 'ABC\\tr1c2\\tr1c3\\nPQR\\tr3c2\\tr2c3' > _f4.tsv\n"
   ]
  },
  {
   "cell_type": "code",
   "execution_count": 11,
   "id": "f3809b0d",
   "metadata": {},
   "outputs": [
    {
     "name": "stdout",
     "output_type": "stream",
     "text": [
      "# key\t_f1.tsv\t_f2.tsv\t_f3.tsv\t_f4.tsv\n",
      "ABC\tR1C2, R1C3\t-\t-\tr1c2, r1c3\n",
      "DEF\t-\tR1C2, R1C3\t-\t-\n",
      "GHI\t-\t-\tR1C2, R1C3\t-\n",
      "JKL\tR2C2, R2C3\t-\t-\t-\n",
      "MNO\t-\tR2C2, R2C3\t-\t-\n",
      "PQR\t-\t-\tR2C2, R2C3\tr3c2, r2c3\n"
     ]
    }
   ],
   "source": [
    "# Continuation\n",
    "paste.perl -keys -default=\"-\" _f*.tsv\n",
    "# key\t_f1.tsv\t_f2.tsv\t_f3.tsv\t_f4.tsv\n"
   ]
  },
  {
   "cell_type": "code",
   "execution_count": 12,
   "id": "6a02ab44",
   "metadata": {},
   "outputs": [
    {
     "name": "stdout",
     "output_type": "stream",
     "text": [
      "# key\t_f1.tsv\t_f2.tsv\t_f3.tsv\t_f4.tsv\n",
      "ABC\tR1C3\t-\t-\tr1c3\n",
      "DEF\t-\tR1C3\t-\t-\n",
      "GHI\t-\t-\tR1C3\t-\n",
      "JKL\tR2C3\t-\t-\t-\n",
      "MNO\t-\tR2C3\t-\t-\n",
      "PQR\t-\t-\tR2C3\tr2c3\n"
     ]
    }
   ],
   "source": [
    "# Continuation\n",
    "paste.perl -keys -cols=\"3\" -default=\"-\" _f*.tsv\n",
    "# key\t_f1.tsv\t_f2.tsv\t_f3.tsv\t_f4.tsv\n"
   ]
  },
  {
   "cell_type": "code",
   "execution_count": 13,
   "id": "78835b5f",
   "metadata": {},
   "outputs": [],
   "source": [
    "#................................................................................\n",
    "# cut.perl\n",
    "# TOOD: mucho mas\n"
   ]
  },
  {
   "cell_type": "code",
   "execution_count": 14,
   "id": "be5b1b3e",
   "metadata": {},
   "outputs": [
    {
     "name": "stdout",
     "output_type": "stream",
     "text": [
      "Warning: Missing value at line 1 column 1\n",
      "FU\n"
     ]
    }
   ],
   "source": [
    "echo \"\\t\" | cut.perl -f=2 -missing=FU -\n"
   ]
  },
  {
   "cell_type": "code",
   "execution_count": 15,
   "id": "ab08750a",
   "metadata": {},
   "outputs": [],
   "source": [
    "#................................................................................\n",
    "# extract_matches.perl\n",
    "# TODO: add mucho mas!\n"
   ]
  },
  {
   "cell_type": "code",
   "execution_count": 16,
   "id": "6ca3feef",
   "metadata": {},
   "outputs": [
    {
     "name": "stdout",
     "output_type": "stream",
     "text": [
      "Can't open /home/aveey/organizer/tomas.txt: No such file or directory at /home/aveey/tom-project/shell-scripts/extract_matches.perl line 135.\n"
     ]
    }
   ],
   "source": [
    "extract_matches.perl -i -utf8 'tom\\S+s' ~/organizer/tomas.txt | head -1\n"
   ]
  },
  {
   "cell_type": "code",
   "execution_count": 17,
   "id": "48a4d4a9",
   "metadata": {},
   "outputs": [],
   "source": [
    "#...............................................................................\n",
    "# perlcalc.perl\n"
   ]
  },
  {
   "cell_type": "code",
   "execution_count": 18,
   "id": "baf729eb",
   "metadata": {},
   "outputs": [
    {
     "name": "stdout",
     "output_type": "stream",
     "text": [
      "100000000000000.000\n"
     ]
    }
   ],
   "source": [
    "# note: should not be itegral\n",
    "calc \"round(100e12, 0)\"\n"
   ]
  },
  {
   "cell_type": "code",
   "execution_count": 19,
   "id": "4a04766f",
   "metadata": {},
   "outputs": [
    {
     "name": "stdout",
     "output_type": "stream",
     "text": [
      "100000000000000\n"
     ]
    }
   ],
   "source": [
    "calc-int '100e12'\n"
   ]
  }
 ],
 "metadata": {
  "kernelspec": {
   "display_name": "Bash",
   "language": "bash",
   "name": "bash"
  },
  "language_info": {
   "codemirror_mode": "shell",
   "file_extension": ".sh",
   "mimetype": "text/x-sh",
   "name": "bash"
  }
 },
 "nbformat": 4,
 "nbformat_minor": 5
}
