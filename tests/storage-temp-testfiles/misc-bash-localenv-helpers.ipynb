{
 "cells": [
  {
   "cell_type": "code",
   "execution_count": 1,
   "id": "6dcea75d",
   "metadata": {},
   "outputs": [
    {
     "name": "stdout",
     "output_type": "stream",
     "text": [
      "\u001b[?2004h\u001b[?2004l\u001b[?2004l\u001b[?2004l\u001b[?2004l\u001b[?2004l\u001b[?2004l\u001b[?2004l\r"
     ]
    }
   ],
   "source": [
    "## STARTS FROM LINE 2511 & 2546(tomohara-aliases.bash)\n",
    "# ONLY 1 TEST AVAILABLE FOR bash helpers - AS MENTIONED IN LINE 2512\n",
    "\n",
    "## Bracketed Paste is disabled to prevent characters after output\n",
    "## Example: \n",
    "# $ echo 'Hi'\n",
    "# | Hi?2004l\n",
    "\n",
    "bind 'set enable-bracketed-paste off'"
   ]
  },
  {
   "cell_type": "code",
   "execution_count": 2,
   "id": "65d43538",
   "metadata": {},
   "outputs": [
    {
     "name": "stdout",
     "output_type": "stream",
     "text": [
      "[PEXP\\[\\]ECT_PROMPT>\n"
     ]
    }
   ],
   "source": [
    "## TEST:  Make sure simple prompt used (e.g., no escapes that might contaminate output)\n",
    "## PS1=\"$ \"\n",
    "## TODO: PS1=\"> \"\n",
    "\n",
    "## NOTE: The Jupyter bash kernel requires that PS1 not be modified as they customize it. \n",
    "echo $PS1"
   ]
  },
  {
   "cell_type": "code",
   "execution_count": 3,
   "id": "d623c9a9",
   "metadata": {},
   "outputs": [
    {
     "name": "stdout",
     "output_type": "stream",
     "text": [
      "0\n",
      "0\n"
     ]
    }
   ],
   "source": [
    "# Delete all aliases and function\n",
    "# TODO: Instead start from pristine environment\n",
    "unalias -a\n",
    "alias | wc -l\n",
    "for f in $(typeset -f | egrep '^\\w+'); do unset -f $f; done\n",
    "typeset -f | egrep '^\\w+' | wc -l"
   ]
  },
  {
   "cell_type": "code",
   "execution_count": 4,
   "id": "0ff8f157",
   "metadata": {},
   "outputs": [
    {
     "name": "stdout",
     "output_type": "stream",
     "text": [
      "0\n"
     ]
    }
   ],
   "source": [
    "# Setting a temp directory for tests\n",
    "TMP=/tmp/test-bash-helpers-misc\n",
    "\n",
    "## NOTE: Source it directly from the ./tests directory.\n",
    "BIN_DIR=$PWD/..\n",
    "\n",
    "alias | wc -l"
   ]
  },
  {
   "cell_type": "code",
   "execution_count": 5,
   "id": "ab954c7f",
   "metadata": {},
   "outputs": [
    {
     "name": "stdout",
     "output_type": "stream",
     "text": [
      "/tmp/test-bash-helpers-misc/test-2800\n"
     ]
    }
   ],
   "source": [
    "## NOTE: For reproducability, the directory name needs to be fixed\n",
    "## In place of $$, use a psuedo random number (e,g., 2800)\n",
    "## *** All output from one run to the next needs to be the same ***\n",
    "\n",
    "## temp_dir=$TMP/test-$$\n",
    "temp_dir=$TMP/test-2800\n",
    "\n",
    "mkdir -p \"$temp_dir\"\n",
    "# TODO: /bin/rm -rvf \"$temp_dir\"\n",
    "cd \"$temp_dir\"\n",
    "pwd\n",
    "\n",
    "#ALIAS FOR PRINTING SEPERATION LINES (FOR JUPYTER)\n",
    "alias linebr=\"printf '%*s\\n' \"${COLUMNS:-$(tput cols)}\" '' | tr ' ' -\""
   ]
  },
  {
   "cell_type": "code",
   "execution_count": 6,
   "id": "ec6df159",
   "metadata": {},
   "outputs": [
    {
     "name": "stdout",
     "output_type": "stream",
     "text": [
      "1\n",
      "0\n"
     ]
    }
   ],
   "source": [
    "# Count aliases proper\n",
    "alias | wc -l\n",
    "# Count functions\n",
    "typeset -f | egrep '^\\w+' | wc -l"
   ]
  },
  {
   "cell_type": "code",
   "execution_count": 7,
   "id": "c791fc3d",
   "metadata": {},
   "outputs": [],
   "source": [
    "# REQUIRED ALIASES\n",
    "alias perlgrep='perlgrep.perl'\n",
    "alias perl-grep=perlgrep\n",
    "\n",
    "# shell-check[-full](options, script, ...): run script through shellcheck\n",
    "# with filtering given it's buggy filtering mecahanism (and anal retentiveness)\n",
    "function shell-check-full {\n",
    "    shellcheck \"$@\";\n",
    "}\n",
    "function shell-check {\n",
    "    # note: filters out following\n",
    "    # - SC1090: Can't follow non-constant source. Use a directive to specify location.\n",
    "    # - SC1091: Not following: ./my-git-credentials-etc.bash was not specified as input (see shellcheck -x).\n",
    "    # - SC2009: Consider using pgrep instead of grepping ps output.\n",
    "    # - SC2129: Consider using { cmd1; cmd2; } >> file instead of individual redirects.\n",
    "    # - SC2164: Use 'cd ... || exit' or 'cd ... || return' in case cd fails.\n",
    "    shell-check-full \"$@\" | perl-grep -para -v '(SC1090|SC1091|SC2009|SC2129|SC2164)';\n",
    "}\n"
   ]
  },
  {
   "cell_type": "code",
   "execution_count": 21,
   "id": "f6c32e37",
   "metadata": {},
   "outputs": [
    {
     "name": "stdout",
     "output_type": "stream",
     "text": [
      "ShellCheck - shell script analysis tool\n",
      "version: 0.8.0\n",
      "license: GNU General Public License, version 3\n",
      "website: https://www.shellcheck.net\n"
     ]
    }
   ],
   "source": [
    "## shellcheck MUST BE INSTALLED\n",
    "shell-check --version"
   ]
  },
  {
   "cell_type": "code",
   "execution_count": 18,
   "id": "16aa0656",
   "metadata": {
    "scrolled": true
   },
   "outputs": [
    {
     "name": "stdout",
     "output_type": "stream",
     "text": [
      "In /home/aveey/tom-project/shell-scripts/tests/../tomohara-settings.bash line 10:\n",
      "add-python-path $HOME/python/Mezcla/mezcla\n",
      "                ^---^ SC2086 (info): Double quote to prevent globbing and word splitting.\n",
      "\n",
      "Did you mean: \n",
      "add-python-path \"$HOME\"/python/Mezcla/mezcla\n",
      "\n",
      "For more information:\n",
      "  https://www.shellcheck.net/wiki/SC2086 -- Double quote to prevent globbing ...\n"
     ]
    }
   ],
   "source": [
    "## shellcheck TEST1\n",
    "shell-check $BIN_DIR/tomohara-settings.bash"
   ]
  },
  {
   "cell_type": "code",
   "execution_count": 20,
   "id": "7d63756e",
   "metadata": {},
   "outputs": [
    {
     "name": "stdout",
     "output_type": "stream",
     "text": [
      "In /home/aveey/tom-project/shell-scripts/tests/../cs_setup.sh line 1:\n",
      "#! /bin/csh -f\n",
      "^-- SC1071 (error): ShellCheck only supports sh/bash/dash/ksh scripts. Sorry!\n",
      "\n",
      "For more information:\n",
      "  https://www.shellcheck.net/wiki/SC1071 -- ShellCheck only supports sh/bash/...\n"
     ]
    }
   ],
   "source": [
    "## shellcheck ONLY WORKS FOR sh/bash/dash/ksh SCRIPTS\n",
    "shell-check $BIN_DIR/cs_setup.sh"
   ]
  },
  {
   "cell_type": "code",
   "execution_count": 27,
   "id": "ba0bf533",
   "metadata": {},
   "outputs": [],
   "source": [
    "# sleepyhead: Invoke SleepyHead with debug trace sent to log file under ~/temp.\n",
    "function downcase-stdin { perl -pe \"use open ':std', ':encoding(UTF-8)'; s/.*/\\L$&/;\"; }\n",
    "function downcase-text() { echo \"$@\" | downcase-stdin; }\n",
    "# todays-date(): outputs date in format DDmmmYY (e.g., 22Apr20)\n",
    "## OLD: function todays-date() { date '+%d%b%y' | perl -pe 's/.*/\\L$&/;'; }\n",
    "## TODO: drop leading digits in day of month\n",
    "## NOTE: keep in synch with common.perl get_file_ddmmmyy and .emacs edit-adhoc-notes-file\n",
    "function todays-date() { date '+%d%b%y' | downcase-stdin; }\n",
    "## OLD\n",
    "## todays_date=$(todays-date)\n",
    "## MISC:\n",
    "## # Convenience alias and bash variable for better tab-completion\n",
    "## OLD\n",
    "alias hoy=todays-date\n",
    "\n",
    "\n",
    "function sleepyhead() {\n",
    "    log_file=\"$HOME/temp/sleepyhead.$(todays-date).log\"\n",
    "    echo \"start: $(date)\" >> \"$log_file\"\n",
    "    command sleepyhead >> \"$log_file\" 2>&1 &\n",
    "    echo \"end: $(date)\" $'\\n' >> \"$log_file\"\n",
    "}\n",
    "alias sleepy='sleepyhead'"
   ]
  },
  {
   "cell_type": "code",
   "execution_count": 28,
   "id": "86724928",
   "metadata": {},
   "outputs": [
    {
     "name": "stdout",
     "output_type": "stream",
     "text": [
      "[1] 20527\n",
      "[1]+  Exit 127                command sleepyhead >> \"$log_file\" 2>&1\n"
     ]
    }
   ],
   "source": [
    "# WORKING OF SLEEPYHEAD\n",
    "sleepyhead"
   ]
  },
  {
   "cell_type": "code",
   "execution_count": null,
   "id": "6d17ce64",
   "metadata": {},
   "outputs": [],
   "source": []
  }
 ],
 "metadata": {
  "kernelspec": {
   "display_name": "Bash",
   "language": "bash",
   "name": "bash"
  },
  "language_info": {
   "codemirror_mode": "shell",
   "file_extension": ".sh",
   "mimetype": "text/x-sh",
   "name": "bash"
  }
 },
 "nbformat": 4,
 "nbformat_minor": 5
}
