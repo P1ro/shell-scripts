{
 "cells": [
  {
   "cell_type": "code",
   "execution_count": 1,
   "id": "d8d3fc06",
   "metadata": {},
   "outputs": [
    {
     "name": "stdout",
     "output_type": "stream",
     "text": [
      "BIND ON!\n"
     ]
    }
   ],
   "source": [
    "# Setup\n",
    "bind 'set enable-bracketed-paste off'\n",
    "echo \"BIND ON!\""
   ]
  },
  {
   "cell_type": "code",
   "execution_count": 2,
   "id": "77d3e9cc",
   "metadata": {},
   "outputs": [],
   "source": [
    "REDEFINE_ALIASES=0\n",
    "## DEBUG: REDFINE_ALIASES=1\n",
    "\n",
    "if [ \"$REFINE_ALIASES\" ]; then\n",
    "\n",
    "    function python-lint-full() {\n",
    "        local root=$(hg root 2> /dev/null);\n",
    "        ## TODO: --persistent=n (to avoid caching)\n",
    "        PYTHONPATH=\"$root:.:$PYTHONPATH\" $NICE pylint \"$@\" | perl -00 -ne 'while (/(\\n\\S+:\\s*\\d+[^\\n]+)\\n( +)/) { s/(\\n\\S+:\\s*\\d+[^\\n]+)\\n( +)/$1\\r$2/mg; } print(\"$_\");' 2>&1 | $PAGER;\n",
    "    }\n",
    "\n",
    "fi"
   ]
  },
  {
   "cell_type": "code",
   "execution_count": 3,
   "id": "6dcea75d",
   "metadata": {},
   "outputs": [],
   "source": [
    "## TESTS START FROM LINE 2066 (tomohara-aliases.bash)"
   ]
  },
  {
   "cell_type": "code",
   "execution_count": 4,
   "id": "65d43538",
   "metadata": {},
   "outputs": [
    {
     "name": "stdout",
     "output_type": "stream",
     "text": [
      "[PEXP\\[\\]ECT_PROMPT>\n"
     ]
    }
   ],
   "source": [
    "## TEST:  Make sure simple prompt used (e.g., no escapes that might contaminate output)\n",
    "## PS1=\"$ \"\n",
    "## TODO: PS1=\"> \"\n",
    "\n",
    "## NOTE: The Jupyter bash kernel requires that PS1 not be modified as they customize it. \n",
    "echo $PS1"
   ]
  },
  {
   "cell_type": "code",
   "execution_count": 5,
   "id": "d623c9a9",
   "metadata": {},
   "outputs": [
    {
     "name": "stdout",
     "output_type": "stream",
     "text": [
      "0\n",
      "0\n"
     ]
    }
   ],
   "source": [
    "# Delete all aliases and function\n",
    "# TODO: Instead start from pristine environment\n",
    "unalias -a\n",
    "alias | wc -l\n",
    "for f in $(typeset -f | egrep '^\\w+'); do unset -f $f; done\n",
    "typeset -f | egrep '^\\w+' | wc -l"
   ]
  },
  {
   "cell_type": "code",
   "execution_count": 6,
   "id": "0ff8f157",
   "metadata": {},
   "outputs": [
    {
     "name": "stdout",
     "output_type": "stream",
     "text": [
      "0\n"
     ]
    }
   ],
   "source": [
    "# Setting a temp directory for tests\n",
    "TMP=/tmp/test-unix\n",
    "\n",
    "## NOTE: Source it directly from the ./tests directory.\n",
    "BIN_DIR=$PWD/..\n",
    "\n",
    "alias | wc -l"
   ]
  },
  {
   "cell_type": "code",
   "execution_count": 7,
   "id": "ab954c7f",
   "metadata": {},
   "outputs": [
    {
     "name": "stdout",
     "output_type": "stream",
     "text": [
      "/tmp/test-unix/test-3245\n"
     ]
    }
   ],
   "source": [
    "## NOTE: For reproducability, the directory name needs to be fixed\n",
    "## In place of $$, use a psuedo random number (e,g., 3245)\n",
    "## *** All output from one run to the next needs to be the same ***\n",
    "\n",
    "## temp_dir=$TMP/test-$$\n",
    "temp_dir=$TMP/test-3245\n",
    "\n",
    "mkdir -p \"$temp_dir\"\n",
    "# TODO: /bin/rm -rvf \"$temp_dir\"\n",
    "cd \"$temp_dir\"\n",
    "pwd\n",
    "\n",
    "#ALIAS FOR PRINTING SEPERATION LINES (FOR JUPYTER)\n",
    "alias linebr=\"printf '%*s\\n' \"${COLUMNS:-$(tput cols)}\" '' | tr ' ' -\""
   ]
  },
  {
   "cell_type": "code",
   "execution_count": 8,
   "id": "ec6df159",
   "metadata": {
    "scrolled": true
   },
   "outputs": [
    {
     "name": "stdout",
     "output_type": "stream",
     "text": [
      "1\n",
      "0\n"
     ]
    }
   ],
   "source": [
    "# Count aliases proper\n",
    "alias | wc -l\n",
    "# Count functions\n",
    "typeset -f | egrep '^\\w+' | wc -l"
   ]
  },
  {
   "cell_type": "code",
   "execution_count": 9,
   "id": "65235003",
   "metadata": {},
   "outputs": [],
   "source": [
    "alias testnum=\"sed -r \"s/[0-9]/X/g\"\" \n",
    "alias testuser=\"sed -r \"s/\"$USER\"+/user/g\"\""
   ]
  },
  {
   "cell_type": "code",
   "execution_count": 10,
   "id": "15465d13",
   "metadata": {
    "scrolled": true
   },
   "outputs": [],
   "source": [
    "# SOURCING\n",
    "# source $BIN_DIR/tomohara-aliases.bash"
   ]
  },
  {
   "cell_type": "code",
   "execution_count": 11,
   "id": "d312db03",
   "metadata": {},
   "outputs": [],
   "source": [
    "# ps-all(pattern): show processes from all users matching PATTERN (or . in which case piped to less)\n",
    "# TODO: have option to restrict to current user\n",
    "function ps-all () { \n",
    "    local pattern=\"$1\";\n",
    "    local pager=cat;\n",
    "    if [ \"$pattern\" = \"\" ]; then \n",
    "        pattern=\".\"; \n",
    "        pager=$PAGER\n",
    "    fi;\n",
    "    ps_mine.sh --all | $EGREP -i \"((^USER)|($pattern))\" | $pager;\n",
    "    }\n",
    "\n",
    "alias ps-script='ps-all \"\\\\bscript\\\\b\" | $GREP -v \"(gnome-session)\"'\n",
    "function ps-sort-once { ps_sort.perl -num_times=1 -by=time \"$@\" -; }\n",
    "alias ps-sort-time='ps-sort-once -by=time'\n",
    "alias ps-time=ps-sort-time\n",
    "alias ps-sort-mem='ps-sort-once -by=mem '\n",
    "alias ps-mem=ps-sort-mem\n"
   ]
  },
  {
   "cell_type": "code",
   "execution_count": 12,
   "id": "8599b61b",
   "metadata": {},
   "outputs": [],
   "source": [
    "alias ps-script='ps-all \"\\\\bscript\\\\b\" | $GREP -v \"(gnome-session)\"'\n",
    "function ps-sort-once { $BIN_DIR/ps_sort.perl -num_times=1 -by=time \"$@\" -; }\n",
    "alias ps-sort-time='ps-sort-once -by=time'\n",
    "alias ps-time=ps-sort-time\n",
    "alias ps-sort-mem='ps-sort-once -by=mem '\n",
    "alias ps-mem=ps-sort-mem"
   ]
  },
  {
   "cell_type": "code",
   "execution_count": 13,
   "id": "2395c71a",
   "metadata": {
    "scrolled": true
   },
   "outputs": [
    {
     "name": "stdout",
     "output_type": "stream",
     "text": [
      "Error: bad sort field (time): using cpu\n",
      " PID %CPU %MEM VSZ RSS   START TIME \n",
      " XXXX XX.X XX.X XXXXXXX XXXXXX   XX:XX XX:XX \n",
      " XXXX XX.X X.X XXXXXX XXXXX   XX:XX X:XX \n",
      " XXXX XX.X X.X XXXXXXX XXXXXX   XX:XX X:XX \n",
      " XXXX X.X X.X XXXXXXX XXXXX   XX:XX X:XX \n",
      " XXXX X.X X.X XXXXXXXX XXXXXX   XX:XX X:XX \n",
      " XXXX X.X X.X XXXXXX XXXXX   XX:XX X:XX \n",
      " XXXX X.X X.X XXXXX XXXX   XX:XX X:XX \n",
      " XXXX X.X X.X XXXXXXXX XXXXXX   XX:XX X:XX \n",
      " XXXX X.X X.X XXXXXXX XXXXX   XX:XX X:XX \n"
     ]
    }
   ],
   "source": [
    "# SORTS ALL PROCESS BY TIME\n",
    "# Hidden: USER, TTY, STAT, COMMAND\n",
    "ps-sort-time | head -n 10 | testnum | awk '!($1=$7=$8=$11=\"\")'"
   ]
  },
  {
   "cell_type": "code",
   "execution_count": 14,
   "id": "bc13426e",
   "metadata": {},
   "outputs": [
    {
     "name": "stdout",
     "output_type": "stream",
     "text": [
      "Error: bad sort field (time): using cpu\n",
      " PID %CPU %MEM VSZ RSS   START TIME \n",
      " XXXX XX.X XX.X XXXXXXX XXXXXX   XX:XX XX:XX \n",
      " XXXX XX.X X.X XXXXXX XXXXX   XX:XX X:XX \n",
      " XXXX XX.X X.X XXXXXXX XXXXXX   XX:XX X:XX \n",
      " XXXX X.X X.X XXXXXXX XXXXX   XX:XX X:XX \n",
      " XXXX X.X X.X XXXXXXXX XXXXXX   XX:XX X:XX \n",
      " XXXX X.X X.X XXXXX XXXX   XX:XX X:XX \n",
      " XXXX X.X X.X XXXXXX XXXXX   XX:XX X:XX \n",
      " XXXX X.X X.X XXXXXXXX XXXXXX   XX:XX X:XX \n",
      " XXXX X.X X.X XXXXXXX XXXXX   XX:XX X:XX \n"
     ]
    }
   ],
   "source": [
    "# ACTS THE SAME AS ps-sort-time\n",
    "ps-time | head -n 10  | testnum | awk '!($1=$7=$8=$11=\"\")'"
   ]
  },
  {
   "cell_type": "code",
   "execution_count": 15,
   "id": "b688da20",
   "metadata": {},
   "outputs": [
    {
     "name": "stdout",
     "output_type": "stream",
     "text": [
      " PID %CPU %MEM VSZ RSS   START TIME \n",
      " XXXX XX.X XX.X XXXXXXX XXXXXX   XX:XX XX:XX \n",
      " XXXX X.X X.X XXXXXXX XXXXXX   XX:XX X:XX \n",
      " XXXX X.X X.X XXXXXXXX XXXXXX   XX:XX X:XX \n",
      " XXXX X.X X.X XXXXXXX XXXXXX   XX:XX X:XX \n",
      " XXXX XX.X X.X XXXXXXX XXXXXX   XX:XX X:XX \n",
      " XXXX X.X X.X XXXXXXX XXXXXX   XX:XX X:XX \n",
      " XXXX X.X X.X XXXXXXXX XXXXXX   XX:XX X:XX \n",
      " XXXX X.X X.X XXXXXXX XXXXXX   XX:XX X:XX \n",
      " XXXX X.X X.X XXXXXXXX XXXXXX   XX:XX X:XX \n"
     ]
    }
   ],
   "source": [
    "# SORTS ALL PROCESS BY MEMORY\n",
    "ps-sort-mem | head -n 10  | testnum | awk '!($1=$7=$8=$11=\"\")' "
   ]
  },
  {
   "cell_type": "code",
   "execution_count": 16,
   "id": "775ea494",
   "metadata": {},
   "outputs": [
    {
     "name": "stdout",
     "output_type": "stream",
     "text": [
      " PID %CPU %MEM VSZ RSS   START TIME \n",
      " XXXX XX.X XX.X XXXXXXX XXXXXX   XX:XX XX:XX \n",
      " XXXX X.X X.X XXXXXXX XXXXXX   XX:XX X:XX \n",
      " XXXX X.X X.X XXXXXXXX XXXXXX   XX:XX X:XX \n",
      " XXXX X.X X.X XXXXXXX XXXXXX   XX:XX X:XX \n",
      " XXXX XX.X X.X XXXXXXX XXXXXX   XX:XX X:XX \n",
      " XXXX X.X X.X XXXXXXX XXXXXX   XX:XX X:XX \n",
      " XXXX X.X X.X XXXXXXXX XXXXXX   XX:XX X:XX \n",
      " XXXX X.X X.X XXXXXXX XXXXXX   XX:XX X:XX \n",
      " XXXX X.X X.X XXXXXXXX XXXXXX   XX:XX X:XX \n"
     ]
    }
   ],
   "source": [
    "# ps-mem IS AN ALTERNATIVE OF ps-sort-mem\n",
    "ps-mem | head -n 10  | testnum | awk '!($1=$7=$8=$11=\"\")'"
   ]
  },
  {
   "cell_type": "code",
   "execution_count": 17,
   "id": "6ed9a120",
   "metadata": {},
   "outputs": [],
   "source": [
    "# ERROR GENERATED FOR ps-script\n",
    "# $ ps-script\n",
    "# | bash: -v: command not found\n",
    "# | bash: -i: command not found\n",
    "# | OSTYPE: Undefined variable.\n"
   ]
  },
  {
   "cell_type": "code",
   "execution_count": 18,
   "id": "2e45d738",
   "metadata": {},
   "outputs": [],
   "source": [
    "# ERROR GENERATED FOR ps-all\n",
    "# $ ps-all\n",
    "# | bash: -i: command not found\n",
    "# | OSTYPE: Undefined variable.\n"
   ]
  },
  {
   "cell_type": "code",
   "execution_count": 19,
   "id": "82c5fd09",
   "metadata": {},
   "outputs": [],
   "source": [
    "function get-process-parent() { local pid=\"$1\"; if [ \"$pid\" = \"\" ]; then pid=$$; fi; ps al | perl -Ssw $BIN_DIR/extract_matches.perl \"^\\d+\\s+\\d+\\s+$pid\\s+(\\d+)\"; }"
   ]
  },
  {
   "cell_type": "code",
   "execution_count": 20,
   "id": "bf36bf1a",
   "metadata": {},
   "outputs": [
    {
     "name": "stdout",
     "output_type": "stream",
     "text": [
      " UID PID PPID PRI NI VSZ RSS WCHAN STAT TTY TIME COMMAND\n",
      " XXXX XXXX XXXX XX X XXXXX XXXX do_wai Ss pts/XX X:XX /usr/bin/bash --rcfile /usr/lib/pythonX/dist-packages/pexpect/bashrc.sh\n",
      " XXXX XXXX XXXX XX X XXXXX XXXX - R+ pts/XX X:XX ps al\n",
      " XXXX XXXX XXXX XX X XXXXX XXXX pipe_r S+ pts/XX X:XX grep -E (PID|XXXX)\n",
      " XXXX XXXX XXXX XX X XXXXX XXXX pipe_r S+ pts/XX X:XX head -n XX\n",
      " XXXX XXXX XXXX XX X XXXXX XXXX pipe_r S+ pts/XX X:XX sed -r s/[X-X]/X/g\n",
      " XXXX XXXX XXXX XX X XXXXX XXXX pipe_r S+ pts/XX X:XX awk !($X=\"\")\n",
      "--------------------------------------------------------------------------------\n",
      "XXXX\n"
     ]
    }
   ],
   "source": [
    "ps al | egrep \"(PID|$$)\" | head -n 10 | testnum | awk '!($1=\"\")'\n",
    "linebr\n",
    "# get-process-parent : return parent process-id for PID\n",
    "get-process-parent | testnum"
   ]
  },
  {
   "cell_type": "code",
   "execution_count": 21,
   "id": "c7ea3021",
   "metadata": {},
   "outputs": [],
   "source": [
    "# Make sure script appends rather than overwrites.\n",
    "# In addition, set SCRIPT_PID, so that set_xterm_title.bash can indicate within script.\n",
    "# Also, appends $ to prompt symbol so that typescript prompt searchable with strings command\n",
    "## HACK: set envionment for sake of set_xterm_title.bash (TODO check PPID for this)\n",
    "## TODO: use stack for old_PS_symbol maintenance??? (also allows for recursive invocation, such as with '$ $ $')\n",
    "## TODO: rename as my-script to avoid confusion\n",
    "function script {\n",
    "    ## THIS FUNCTION IS BUGGY\n",
    "    ## Note: set_xterm_title.bash keeps track of titles for each process, so save copies of current ones\n",
    "    local save_full=$(set-xterm-title --print-full)\n",
    "    local save_icon=$(set-xterm-title --print-icon)\n",
    "    ## DEBUG: echo \"save_full='$save_full'; save_icon='$save_icon'\"\n",
    "  \n",
    "    # Change prompt\n",
    "    local old_PS_symbol=\"$PS_symbol\"\n",
    "    export SCRIPT_PID=$$\n",
    "    # Note: the prompt change is flakey\n",
    "    reset-prompt \"$PS_symbol\\$\"\n",
    "    ## DEBUG: echo \"script: 1. PS1='$PS1' old_PS_symbol='$old_PS_symbol' PS_symbol='$new_PS_symbol'\"\n",
    "    \n",
    "    # Change xterm title to match\n",
    "    set-title-to-current-dir\n",
    "    ## DEBUG: echo \"script: 2. PS1='$PS1' old_PS_symbol='$old_PS_symbol' PS_symbol='$new_PS_symbol'\"\n",
    "    # Run command\n",
    "    command script --append \"$@\"\n",
    "    \n",
    "    # Restore prompt\n",
    "    unset SCRIPT_PID\n",
    "    reset-prompt \"$old_PS_symbol\"\n",
    "    ## DEBUG: echo \"script: 3. PS1='$PS1' old_PS_symbol='$old_PS_symbol' PS_symbol='$new_PS_symbol'\"\n",
    "    \n",
    "    # Get rid of lingering 'script' in xterm title\n",
    "    ## DEBUG: echo \"Restoring xterm title: full=$save_full save=$save_icon\"\n",
    "    set-xterm-title \"$save_full\" \"$save_icon\"\n",
    "}\n",
    "\n",
    "alias script-update='script _update-$(T).log'"
   ]
  },
  {
   "cell_type": "code",
   "execution_count": 22,
   "id": "e73cd7c1",
   "metadata": {},
   "outputs": [],
   "source": [
    "## ERROR - NEED TO SOURCE tomohara-aliases.bash FILE\n",
    "# $ script-update\n",
    "# | bash: T: command not found\n",
    "#   bash: set-xterm-title: command not found\n",
    "#   bash: set-xterm-title: command not found\n",
    "#   bash: reset-prompt: command not found\n",
    "#   bash: set-title-to-current-dir: command not found\n",
    "#   Script started, output log file is '_update-.log'."
   ]
  },
  {
   "cell_type": "code",
   "execution_count": 23,
   "id": "9c38e97e",
   "metadata": {},
   "outputs": [],
   "source": [
    "# ansi-filter(filename]: wrapper around ansifilter with stdio and stdout instead of files\n",
    "# TODO: issue request for proper Unix stdin support (n.b., this function is much ado about nothing)\n",
    "function ansi-filter {\n",
    "    local input_file=\"$1\"\n",
    "    if [ \"$input_file\" = \"\" ]; then\n",
    "        input_file=\"$TMP/ansi-filter-in-$$.list\"\n",
    "        cat > \"$input_file\"\n",
    "    fi\n",
    "    local output_file=\"$TMP/ansi-filter-out-$$.list\";\n",
    "    ansifilter --input=\"$input_file\" --output=\"$output_file\"\n",
    "    cat \"$output_file\"\n",
    "}"
   ]
  },
  {
   "cell_type": "code",
   "execution_count": 24,
   "id": "079b0855",
   "metadata": {},
   "outputs": [
    {
     "name": "stdout",
     "output_type": "stream",
     "text": [
      "How to use the ansi-filter?\n"
     ]
    }
   ],
   "source": [
    "## EXAMPLE FOR ansi-filter\n",
    "printf \"How to use the ansi-filter?\" > ansi-filter-test.txt\n",
    "ansi-filter ansi-filter-test.txt"
   ]
  },
  {
   "cell_type": "code",
   "execution_count": 25,
   "id": "92bb8407",
   "metadata": {},
   "outputs": [],
   "source": [
    "# pause-for-enter: EXITS AFTER PRESSING ENTER, WITH A MESSAGE\n",
    "function pause-for-enter () {\n",
    "    local message=\"$1\"\n",
    "    if [ \"$message\" = \"\" ]; then message=\"Press enter to continue\"; fi\n",
    "    read -p \"$message \"\n",
    "}"
   ]
  },
  {
   "cell_type": "code",
   "execution_count": 26,
   "id": "1e7238c8",
   "metadata": {},
   "outputs": [],
   "source": [
    "## DOESN'T WORK FOR JUPYTER, WORKS FOR TERMINAL\n",
    "\n",
    "# $ pause-for-enter\n",
    "# | Press enter to continue \n",
    "## (program terminates after pressing Enter Key)"
   ]
  },
  {
   "cell_type": "code",
   "execution_count": null,
   "id": "7762153f",
   "metadata": {},
   "outputs": [],
   "source": []
  },
  {
   "cell_type": "code",
   "execution_count": null,
   "id": "0d1949fc",
   "metadata": {},
   "outputs": [],
   "source": []
  }
 ],
 "metadata": {
  "kernelspec": {
   "display_name": "Bash",
   "language": "bash",
   "name": "bash"
  },
  "language_info": {
   "codemirror_mode": "shell",
   "file_extension": ".sh",
   "mimetype": "text/x-sh",
   "name": "bash"
  }
 },
 "nbformat": 4,
 "nbformat_minor": 5
}
