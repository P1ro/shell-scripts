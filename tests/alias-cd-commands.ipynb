{
 "cells": [
  {
   "cell_type": "code",
   "execution_count": 1,
   "id": "273ee5ab",
   "metadata": {
    "scrolled": true
   },
   "outputs": [],
   "source": [
    "# Setup (OPTIONAL - USED IF NEEDED)\n",
    "## bind 'set enable-bracketed-paste off'"
   ]
  },
  {
   "cell_type": "code",
   "execution_count": 2,
   "id": "90b1a7f3",
   "metadata": {},
   "outputs": [
    {
     "name": "stdout",
     "output_type": "stream",
     "text": [
      "[PEXP\\[\\]ECT_PROMPT>\n"
     ]
    }
   ],
   "source": [
    "## TEST:  Make sure simple prompt used (e.g., no escapes that might contaminate output)\n",
    "## PS1=\"$ \"\n",
    "## TODO: PS1=\"> \"\n",
    "\n",
    "## NOTE: The Jupyter bash kernel requires that PS1 not be modified as they customize it. \n",
    "echo $PS1"
   ]
  },
  {
   "cell_type": "code",
   "execution_count": 3,
   "id": "deb11d8f",
   "metadata": {},
   "outputs": [
    {
     "name": "stdout",
     "output_type": "stream",
     "text": [
      "0\n",
      "0\n"
     ]
    }
   ],
   "source": [
    "# Delete all aliases and function\n",
    "# TODO: Instead start from pristine environment\n",
    "unalias -a\n",
    "alias | wc -l\n",
    "for f in $(typeset -f | egrep '^\\w+'); do unset -f $f; done\n",
    "typeset -f | egrep '^\\w+' | wc -l"
   ]
  },
  {
   "cell_type": "code",
   "execution_count": 4,
   "id": "d29a9848",
   "metadata": {},
   "outputs": [
    {
     "name": "stdout",
     "output_type": "stream",
     "text": [
      "0\n"
     ]
    }
   ],
   "source": [
    "# Setting a temp directory for tests\n",
    "TMP=/tmp/test-cp-mv\n",
    "\n",
    "## NOTE: Source it directly from the ./tests directory.\n",
    "BIN_DIR=$PWD/..\n",
    "alias | wc -l"
   ]
  },
  {
   "cell_type": "code",
   "execution_count": 5,
   "id": "29cebb30",
   "metadata": {},
   "outputs": [
    {
     "name": "stdout",
     "output_type": "stream",
     "text": [
      "/tmp/test-cp-mv/test-6869\n"
     ]
    }
   ],
   "source": [
    "## NOTE: For reproducability, the directory name needs to be fixed\n",
    "## In place of $$, use a psuedo random number (e,g., 6869)\n",
    "## *** All output from one run to the next needs to be the same ***\n",
    "\n",
    "## temp_dir=$TMP/test-$$\n",
    "temp_dir=$TMP/test-6869\n",
    "\n",
    "mkdir -p \"$temp_dir\"\n",
    "# TODO: /bin/rm -rvf \"$temp_dir\"\n",
    "cd \"$temp_dir\"\n",
    "pwd\n",
    "\n",
    "#ALIAS FOR PRINTING SEPERATION LINES (FOR JUPYTER)\n",
    "alias linebr=\"printf '%*s\\n' \"${COLUMNS:-$(tput cols)}\" '' | tr ' ' -\""
   ]
  },
  {
   "cell_type": "code",
   "execution_count": 6,
   "id": "9e1fb88a",
   "metadata": {},
   "outputs": [
    {
     "name": "stdout",
     "output_type": "stream",
     "text": [
      "1\n"
     ]
    }
   ],
   "source": [
    "# Count aliases proper\n",
    "alias | wc -l"
   ]
  },
  {
   "cell_type": "code",
   "execution_count": 7,
   "id": "6a1cb00b",
   "metadata": {},
   "outputs": [
    {
     "name": "stdout",
     "output_type": "stream",
     "text": [
      "0\n"
     ]
    }
   ],
   "source": [
    "# Count functions\n",
    "typeset -f | egrep '^\\w+' | wc -l"
   ]
  },
  {
   "cell_type": "code",
   "execution_count": 8,
   "id": "8a6085e9",
   "metadata": {},
   "outputs": [],
   "source": [
    "source $BIN_DIR/tomohara-aliases.bash"
   ]
  },
  {
   "cell_type": "code",
   "execution_count": 9,
   "id": "6cce12a4",
   "metadata": {},
   "outputs": [
    {
     "name": "stdout",
     "output_type": "stream",
     "text": [
      "/tmp/test-cp-mv/test-6869\n"
     ]
    }
   ],
   "source": [
    "# SHOWS CURRENT WORKING DIRECTORY\n",
    "pwd"
   ]
  },
  {
   "cell_type": "code",
   "execution_count": 10,
   "id": "069ed8cc",
   "metadata": {},
   "outputs": [
    {
     "name": "stdout",
     "output_type": "stream",
     "text": [
      "\u001b]1;test-cp-mv [/tmp/test-cp-mv]\u0007\u001b]2;test-cp-mv [/tmp/test-cp-mv]\u0007/tmp/test-cp-mv/test-6869\n",
      "\u001b]1;test-6869 [/tmp/test-cp-mv/test-6869]\u0007\u001b]2;test-6869 [/tmp/test-cp-mv/test-6869]\u0007"
     ]
    }
   ],
   "source": [
    "## chdir works as cd\n",
    "chdir ..\n",
    "chdir test-6869/"
   ]
  },
  {
   "cell_type": "code",
   "execution_count": 11,
   "id": "36fb8fbd",
   "metadata": {},
   "outputs": [
    {
     "name": "stdout",
     "output_type": "stream",
     "text": [
      "\u001b]1;test-cp-mv [/tmp/test-cp-mv]\u0007\u001b]2;test-cp-mv [/tmp/test-cp-mv]\u0007/tmp/test-cp-mv/test-6869\n",
      "\u001b]1;test-6869 [/tmp/test-cp-mv/test-6869]\u0007\u001b]2;test-6869 [/tmp/test-cp-mv/test-6869]\u0007"
     ]
    }
   ],
   "source": [
    "## cd-this-realdir works as cd as well\n",
    "chdir ..\n",
    "chdir test-6869/"
   ]
  },
  {
   "cell_type": "code",
   "execution_count": 12,
   "id": "4033a985",
   "metadata": {},
   "outputs": [],
   "source": [
    "rm -rf ./* > /dev/null\n",
    "mkdir testdir89 testdir90\n",
    "echo \"Testfile1\" > testdir89/f11.txt\n",
    "echo \"Testfile2\" > testdir89/f12.txt"
   ]
  },
  {
   "cell_type": "code",
   "execution_count": 13,
   "id": "e4b7b6fc",
   "metadata": {},
   "outputs": [
    {
     "name": "stdout",
     "output_type": "stream",
     "text": [
      "f11.txt  f12.txt\n",
      "--------------------------------------------------------------------------------\n",
      "testdir89  testdir90\n"
     ]
    }
   ],
   "source": [
    "pushd-q testdir89\n",
    "ls\n",
    "linebr\n",
    "popd-q \n",
    "ls"
   ]
  }
 ],
 "metadata": {
  "kernelspec": {
   "display_name": "Bash",
   "language": "bash",
   "name": "bash"
  },
  "language_info": {
   "codemirror_mode": "shell",
   "file_extension": ".sh",
   "mimetype": "text/x-sh",
   "name": "bash"
  }
 },
 "nbformat": 4,
 "nbformat_minor": 5
}
