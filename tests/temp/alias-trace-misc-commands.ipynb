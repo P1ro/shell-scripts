{
 "cells": [
  {
   "cell_type": "code",
   "execution_count": 1,
   "id": "87f54ae1",
   "metadata": {},
   "outputs": [
    {
     "name": "stdout",
     "output_type": "stream",
     "text": [
      "\u001b[?2004h\u001b[?2004l\u001b[?2004l\u001b[?2004l\u001b[?2004l\u001b[?2004l\r"
     ]
    }
   ],
   "source": [
    "## Bracketed Paste is disabled to prevent characters after output\n",
    "## Example: \n",
    "# $ echo 'Hii'\n",
    "# | Hi?2004l\n",
    "\n",
    "bind 'set enable-bracketed-paste off'"
   ]
  },
  {
   "cell_type": "code",
   "execution_count": 2,
   "id": "5d49fe75",
   "metadata": {},
   "outputs": [
    {
     "name": "stdout",
     "output_type": "stream",
     "text": [
      "[PEXP\\[\\]ECT_PROMPT>\n"
     ]
    }
   ],
   "source": [
    "## TEST:  Make sure simple prompt used (e.g., no escapes that might contaminate output)\n",
    "## PS1=\"$ \"\n",
    "## TODO: PS1=\"> \"\n",
    "\n",
    "## NOTE: The Jupyter bash kernel requires that PS1 not be modified as they customize it. \n",
    "echo $PS1"
   ]
  },
  {
   "cell_type": "code",
   "execution_count": 3,
   "id": "9d4c30cc",
   "metadata": {},
   "outputs": [
    {
     "name": "stdout",
     "output_type": "stream",
     "text": [
      "0\n",
      "0\n"
     ]
    }
   ],
   "source": [
    "# Delete all aliases and function\n",
    "# TODO: Instead start from pristine environment\n",
    "unalias -a\n",
    "alias | wc -l\n",
    "for f in $(typeset -f | egrep '^\\w+'); do unset -f $f; done\n",
    "typeset -f | egrep '^\\w+' | wc -l"
   ]
  },
  {
   "cell_type": "code",
   "execution_count": 4,
   "id": "cddb7968",
   "metadata": {},
   "outputs": [
    {
     "name": "stdout",
     "output_type": "stream",
     "text": [
      "8\n"
     ]
    }
   ],
   "source": [
    "# Setting a temp directory for tests\n",
    "TMP=/tmp/test-trace-misc\n",
    "\n",
    "## NOTE: Source it directly from the ./tests directory.\n",
    "BIN_DIR=$PWD/..\n",
    "## You will need to run jupyter from that directory.\n",
    "## source $TEMP_BIN/_dir-aliases.bash\n",
    "source _dir-aliases.bash\n",
    "alias | wc -l"
   ]
  },
  {
   "cell_type": "code",
   "execution_count": 5,
   "id": "89a4f57b",
   "metadata": {},
   "outputs": [
    {
     "name": "stdout",
     "output_type": "stream",
     "text": [
      "/tmp/test-trace-misc/test-1210\n"
     ]
    }
   ],
   "source": [
    "## NOTE: For reproducability, the directory name needs to be fixed\n",
    "## In place of $$, use a psuedo random number (e,g., 1210)\n",
    "## *** All output from one run to the next needs to be the same ***\n",
    "\n",
    "## temp_dir=$TMP/test-$$\n",
    "temp_dir=$TMP/test-1210\n",
    "\n",
    "mkdir -p \"$temp_dir\"\n",
    "# TODO: /bin/rm -rvf \"$temp_dir\"\n",
    "cd \"$temp_dir\"\n",
    "pwd\n",
    "\n",
    "#ALIAS FOR PRINTING SEPERATION LINES (FOR JUPYTER)\n",
    "alias linebr=\"printf '%*s\\n' \"${COLUMNS:-$(tput cols)}\" '' | tr ' ' -\""
   ]
  },
  {
   "cell_type": "code",
   "execution_count": 6,
   "id": "c10b6bb2",
   "metadata": {},
   "outputs": [
    {
     "name": "stdout",
     "output_type": "stream",
     "text": [
      "9\n"
     ]
    }
   ],
   "source": [
    "# Count aliases proper\n",
    "alias | wc -l"
   ]
  },
  {
   "cell_type": "code",
   "execution_count": 7,
   "id": "09763c6c",
   "metadata": {},
   "outputs": [
    {
     "name": "stdout",
     "output_type": "stream",
     "text": [
      "2\n"
     ]
    }
   ],
   "source": [
    "# Count functions\n",
    "typeset -f | egrep '^\\w+' | wc -l"
   ]
  },
  {
   "cell_type": "code",
   "execution_count": 8,
   "id": "e149fbc9",
   "metadata": {},
   "outputs": [
    {
     "name": "stdout",
     "output_type": "stream",
     "text": [
      " 2029  source _dir-aliases.bash\n",
      " 2030  alias | wc -l\n",
      " 2031  echo $?\n",
      " 2032  ## NOTE: For reproducability, the directory name needs to be fixed\n",
      " 2033  ## In place of $$, use a psuedo random number (e,g., 1210)\n",
      " 2034  ## *** All output from one run to the next needs to be the same ***\n",
      " 2035  ## temp_dir=$TMP/test-$$\n",
      " 2036  temp_dir=$TMP/test-1210\n",
      " 2037  mkdir -p \"$temp_dir\"\n",
      " 2038  # TODO: /bin/rm -rvf \"$temp_dir\"\n",
      " 2039  cd \"$temp_dir\"\n",
      " 2040  pwd\n",
      " 2041  #ALIAS FOR PRINTING SEPERATION LINES (FOR JUPYTER)\n",
      " 2042  alias linebr=\"printf '%*s\\n' \"${COLUMNS:-$(tput cols)}\" '' | tr ' ' -\"\n",
      " 2043  echo $?\n",
      " 2044  # Count aliases proper\n",
      " 2045  alias | wc -l\n",
      " 2046  echo $?\n",
      " 2047  # Count functions\n",
      " 2048  typeset -f | egrep '^\\w+' | wc -l\n",
      " 2049  echo $?\n",
      " 2050  ##1 SHOWS HISTORY OF BASH COMMANDS\n",
      " 2051  alias hist='history $LINES'\n",
      " 2052  hist\n"
     ]
    }
   ],
   "source": [
    "##1 SHOWS HISTORY OF BASH COMMANDS\n",
    "alias hist='history $LINES'\n",
    "hist"
   ]
  },
  {
   "cell_type": "code",
   "execution_count": 9,
   "id": "64b58554",
   "metadata": {},
   "outputs": [
    {
     "name": "stdout",
     "output_type": "stream",
     "text": [
      " 2037  mkdir -p \"$temp_dir\"\n",
      " 2038  # TODO: /bin/rm -rvf \"$temp_dir\"\n",
      " 2039  cd \"$temp_dir\"\n",
      " 2040  pwd\n",
      " 2041  #ALIAS FOR PRINTING SEPERATION LINES (FOR JUPYTER)\n",
      " 2042  alias linebr=\"printf '%*s\\n' \"${COLUMNS:-$(tput cols)}\" '' | tr ' ' -\"\n",
      " 2043  echo $?\n",
      " 2044  # Count aliases proper\n",
      " 2045  alias | wc -l\n",
      " 2046  echo $?\n",
      " 2047  # Count functions\n",
      " 2048  typeset -f | egrep '^\\w+' | wc -l\n",
      " 2049  echo $?\n",
      " 2050  ##1 SHOWS HISTORY OF BASH COMMANDS\n",
      " 2051  alias hist='history $LINES'\n",
      " 2052  hist\n",
      " 2053  echo $?\n",
      " 2054  ##2 SHOWS HISTORY WITHOUT TIMESTAMPS\n",
      " 2055  # Removes timestamp from history (e.g., \" 1972  [2014-05-02 14:34:12] dir *py\" => \" 1972  dir *py\")\n",
      " 2056  # TEST: function hist { h | perl -pe 's/^(\\s*\\d+\\s*)(\\[[^\\]]+\\])(.*)/$1$3/;'; }\n",
      " 2057  # note: funciton used to simplify specification of quotes\n",
      " 2058  # quiet-unalias h #COMMAND NOT FOUND\n",
      " 2059  function h { hist | perl -pe 's/^(\\s*\\d+\\s*)(\\[[^\\]]+\\])(.*)/$1$3/;'; }\n",
      " 2060  h\n"
     ]
    }
   ],
   "source": [
    "##2 SHOWS HISTORY WITHOUT TIMESTAMPS\n",
    "# Removes timestamp from history (e.g., \" 1972  [2014-05-02 14:34:12] dir *py\" => \" 1972  dir *py\")\n",
    "# TEST: function hist { h | perl -pe 's/^(\\s*\\d+\\s*)(\\[[^\\]]+\\])(.*)/$1$3/;'; }\n",
    "# note: funciton used to simplify specification of quotes\n",
    "\n",
    "# quiet-unalias h #COMMAND NOT FOUND\n",
    "function h { hist | perl -pe 's/^(\\s*\\d+\\s*)(\\[[^\\]]+\\])(.*)/$1$3/;'; }\n",
    "\n",
    "h"
   ]
  },
  {
   "cell_type": "code",
   "execution_count": 10,
   "id": "ed1a5eb4",
   "metadata": {},
   "outputs": [
    {
     "name": "stdout",
     "output_type": "stream",
     "text": [
      "DDD MMM  N NN:NN:NN NNNN\n"
     ]
    }
   ],
   "source": [
    "##3 ASCTIME\n",
    "# EX: $ asctime | perl -pe 's/\\d/N/g; s/\\w+ \\w+/DDD MMM/;' => \"DDD MMM NN NN:NN:NN NNNN\"\n",
    "function asctime() { perl -e \"print (scalar localtime($1));\"; echo \"\"; }\n",
    "\n",
    "asctime | perl -pe 's/\\d/N/g; s/\\w+ \\w+/DDD MMM/;'"
   ]
  },
  {
   "cell_type": "code",
   "execution_count": 11,
   "id": "f7c6a03a",
   "metadata": {},
   "outputs": [],
   "source": [
    "##4 FILTER DIRECTORY NAMES\n",
    "# filter-dirnames: strip directory names from ps listing (TODO: rename as strip-dirnames)\n",
    "function filter-dirnames () { perl -pe 's/\\/[^ \\\"]+\\/([^ \\/\\\"]+)/$1/g;'; }\n",
    "\n",
    "####TEST LEFT####"
   ]
  },
  {
   "cell_type": "code",
   "execution_count": 12,
   "id": "0a69f15f",
   "metadata": {},
   "outputs": [
    {
     "name": "stdout",
     "output_type": "stream",
     "text": [
      "1,012,342,305,324,254\n"
     ]
    }
   ],
   "source": [
    "##5 COMMAIZE NUMBERS\n",
    "# comma-ize-number(): add commas to numbers in stdin\n",
    "# EX: echo \"1234567890\" | comma-ize-number => 1,234,567,890\n",
    "function comma-ize-number () { perl -pe 'while (/\\d\\d\\d\\d/) { s/(\\d)(\\d\\d\\d)([^\\d])/\\1,\\2\\3/g; } '; }\n",
    "\n",
    "echo \"1012342305324254\" | comma-ize-number"
   ]
  },
  {
   "cell_type": "code",
   "execution_count": 15,
   "id": "fd7d2c34",
   "metadata": {},
   "outputs": [
    {
     "name": "stdout",
     "output_type": "stream",
     "text": [
      "7.45G\n"
     ]
    }
   ],
   "source": [
    "##6 APPLYING NUMERIC SUFFIXES\n",
    "\n",
    "# apply-numeric-suffixes([once=0]): converts numbers in stdin to use K/M/G suffixes.\n",
    "# Notes:\n",
    "# - K, M, G and T based on powers of 1024.\n",
    "# - If $once non-zero, then the substitution is only applied one-time per line.\n",
    "# - The number must be preceded by a word boundary and followed by whitespace.\n",
    "# This was added in support of the usage function (e.g., numeric subdirectory names).\n",
    "# TODO:\n",
    "# - Convert to Perl script to avoid awkward bash command line construction.\n",
    "# - Make the trailing context a word-boundry as well (rather than whitespace).\n",
    "# EX: echo \"1024 1572864 1073741824\" | apply-numeric-suffixes => 1K 1.5M 1G\n",
    "# EX: echo \"1024 1572864 1073741824\" | apply-numeric-suffixes 1 => 1K 1572864 1073741824\n",
    "function apply-numeric-suffixes () {\n",
    "    local just_once=\"$1\"\n",
    "    local g=\"g\";\n",
    "    if [ \"$just_once\" = \"1\" ]; then g=\"\"; fi\n",
    "    # TODO: make only sure the first number is converted if just-once applies\n",
    "    # NOTE: 3 args to sprintf: coefficient, KMGT suffix, and post-context\n",
    "    ## DEBUG; perl -pe '$suffixes=\"_KMGT\";  s@\\b(\\d{4,15})(\\s)@$pow = log($1)/log(1024);  $new_num=($1/1024**$pow);  $suffix=substr($suffixes, $pow, 1);  print STDERR (\"s=$suffixes p=$pow nn=$new_num l=$suffix\\n\"); sprintf(\"%.3g%s%s\", $new_num, $suffix, $2)@e'\"$g;\"\n",
    "    perl -pe '$suffixes=\"_KMGT\";  s@\\b(\\d{4,15})(\\s)@$pow = int(log($1)/log(1024));  $new_num=($1/1024**$pow);  $suffix=substr($suffixes, $pow, 1);  sprintf(\"%.3g%s%s\", $new_num, $suffix, $2)@e'\"$g;\"\n",
    "}\n",
    "\n",
    "# TESTED COMMAND (if 1 KB ~ 1000 B; must return 7.XX GB (~ 8 GB) )\n",
    "echo \"8000000000\" | apply-numeric-suffixes"
   ]
  },
  {
   "cell_type": "code",
   "execution_count": 17,
   "id": "d6e23378",
   "metadata": {},
   "outputs": [
    {
     "name": "stdout",
     "output_type": "stream",
     "text": [
      "7.45T\n",
      "7.63G\n"
     ]
    }
   ],
   "source": [
    "##6.1 APPLYING USAGE NUMERIC SUFFIXES\n",
    "# apply-usage-numeric-suffixes(): factors in 1k blocksize before applying numeric suffixes\n",
    "# note: (?=\\s) is lookahead pattern (see perlre manpage)\n",
    "#\n",
    "function apply-usage-numeric-suffixes() {\n",
    "    perl -pe 's@^(\\d+)(?=\\s)@$1 * 1024@e;' | apply-numeric-suffixes 1\n",
    "}\n",
    "\n",
    "# IN SHORT = result * 1000\n",
    "echo \"8000000000\" | apply-usage-numeric-suffixes #G -> T\n",
    "echo \"8000000\" | apply-usage-numeric-suffixes #M -> G"
   ]
  },
  {
   "cell_type": "code",
   "execution_count": null,
   "id": "28d9cce7",
   "metadata": {},
   "outputs": [],
   "source": []
  }
 ],
 "metadata": {
  "kernelspec": {
   "display_name": "Bash",
   "language": "bash",
   "name": "bash"
  },
  "language_info": {
   "codemirror_mode": "shell",
   "file_extension": ".sh",
   "mimetype": "text/x-sh",
   "name": "bash"
  }
 },
 "nbformat": 4,
 "nbformat_minor": 5
}
