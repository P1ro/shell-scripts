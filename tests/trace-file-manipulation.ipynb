{
 "cells": [
  {
   "cell_type": "code",
   "execution_count": 1,
   "id": "6dcea75d",
   "metadata": {
    "scrolled": true
   },
   "outputs": [
    {
     "name": "stdout",
     "output_type": "stream",
     "text": [
      "\u001b[?2004h\u001b[?2004l\u001b[?2004l\u001b[?2004l\u001b[?2004l\u001b[?2004l\u001b[?2004l\u001b[?2004l\r"
     ]
    }
   ],
   "source": [
    "## TESTS START FROM LINE 1504 (tomohara-aliases.bash)\n",
    "\n",
    "## Bracketed Paste is disabled to prevent characters after output\n",
    "## Example: \n",
    "# $ echo 'Hi'\n",
    "# | Hi?2004l\n",
    "\n",
    "bind \"set enable-bracketed-paste off\""
   ]
  },
  {
   "cell_type": "code",
   "execution_count": 2,
   "id": "65d43538",
   "metadata": {},
   "outputs": [
    {
     "name": "stdout",
     "output_type": "stream",
     "text": [
      "[PEXP\\[\\]ECT_PROMPT>\n"
     ]
    }
   ],
   "source": [
    "## TEST:  Make sure simple prompt used (e.g., no escapes that might contaminate output)\n",
    "## PS1=\"$ \"\n",
    "## TODO: PS1=\"> \"\n",
    "\n",
    "## NOTE: The Jupyter bash kernel requires that PS1 not be modified as they customize it. \n",
    "echo $PS1"
   ]
  },
  {
   "cell_type": "code",
   "execution_count": 3,
   "id": "d623c9a9",
   "metadata": {},
   "outputs": [
    {
     "name": "stdout",
     "output_type": "stream",
     "text": [
      "0\n",
      "0\n"
     ]
    }
   ],
   "source": [
    "# Delete all aliases and function\n",
    "# TODO: Instead start from pristine environment\n",
    "unalias -a\n",
    "alias | wc -l\n",
    "for f in $(typeset -f | egrep '^\\w+'); do unset -f $f; done\n",
    "typeset -f | egrep '^\\w+' | wc -l"
   ]
  },
  {
   "cell_type": "code",
   "execution_count": 4,
   "id": "0ff8f157",
   "metadata": {},
   "outputs": [
    {
     "name": "stdout",
     "output_type": "stream",
     "text": [
      "0\n"
     ]
    }
   ],
   "source": [
    "# Setting a temp directory for tests\n",
    "TMP=/tmp/test-file-manipulation\n",
    "\n",
    "## NOTE: Source it directly from the ./tests directory.\n",
    "BIN_DIR=$PWD/..\n",
    "\n",
    "alias | wc -l"
   ]
  },
  {
   "cell_type": "code",
   "execution_count": 5,
   "id": "ab954c7f",
   "metadata": {},
   "outputs": [
    {
     "name": "stdout",
     "output_type": "stream",
     "text": [
      "/tmp/test-file-manipulation/test-9890\n"
     ]
    }
   ],
   "source": [
    "## NOTE: For reproducability, the directory name needs to be fixed\n",
    "## In place of $$, use a psuedo random number (e,g., 9890)\n",
    "## *** All output from one run to the next needs to be the same ***\n",
    "\n",
    "## temp_dir=$TMP/test-$$\n",
    "temp_dir=$TMP/test-9890\n",
    "\n",
    "mkdir -p \"$temp_dir\"\n",
    "# TODO: /bin/rm -rvf \"$temp_dir\"\n",
    "cd \"$temp_dir\"\n",
    "pwd\n",
    "\n",
    "#ALIAS FOR PRINTING SEPERATION LINES (FOR JUPYTER)\n",
    "alias linebr=\"printf '%*s\\n' \"${COLUMNS:-$(tput cols)}\" '' | tr ' ' -\""
   ]
  },
  {
   "cell_type": "code",
   "execution_count": 6,
   "id": "ec6df159",
   "metadata": {},
   "outputs": [
    {
     "name": "stdout",
     "output_type": "stream",
     "text": [
      "1\n",
      "0\n"
     ]
    }
   ],
   "source": [
    "# Count aliases proper\n",
    "alias | wc -l\n",
    "# Count functions\n",
    "typeset -f | egrep '^\\w+' | wc -l"
   ]
  },
  {
   "cell_type": "code",
   "execution_count": 7,
   "id": "7762153f",
   "metadata": {},
   "outputs": [],
   "source": [
    "# T1 - asc-it DOES BACKUP IN ASCENDING ORDER\n",
    "function asc-it () { dobackup.sh \"$1\"; asc < BACKUP/\"$1\" >| \"$1\"; }"
   ]
  },
  {
   "cell_type": "code",
   "execution_count": 8,
   "id": "0d1949fc",
   "metadata": {},
   "outputs": [
    {
     "name": "stdout",
     "output_type": "stream",
     "text": [
      "Backing up 'freemem_mb.txt' to './backup/freemem_mb.txt'\n",
      "bash: BACKUP/freemem_mb.txt: No such file or directory\n",
      "--------------------------------------------------------------------------------\n",
      "total 4\n",
      "-r--r--r-- 1 aveey aveey 207 Sep  6 21:34 freemem_mb.txt\n",
      "--------------------------------------------------------------------------------\n",
      "               total        used        free      shared  buff/cache   available\n",
      "Mem:            3597        2035         286         148        1275        1176\n",
      "Swap:            511          56         455\n"
     ]
    }
   ],
   "source": [
    "rm -rf ./*\n",
    "free -m > freemem_mb.txt\n",
    "\n",
    "asc-it freemem_mb.txt \n",
    "#(NEED SOLUTION FOR bash: BACKUP/freemem_mb.txt: No such file or directory)\n",
    "#(IN CASE OF 'BACKUP'->'backup' IN asc-it, ERROR = bash: asc: command not found)\n",
    "linebr\n",
    "\n",
    "ls -l ./backup/\n",
    "linebr\n",
    "\n",
    "cat ./backup/freemem_mb.txt"
   ]
  },
  {
   "cell_type": "code",
   "execution_count": 9,
   "id": "7923f668",
   "metadata": {},
   "outputs": [],
   "source": [
    "# T2 - FOR FILE MANIPULATION REGARDING ALIASES\n",
    "alias remove-cr='tr -d \"\\r\"'\n",
    "alias perl-slurp='perl -0777'\n",
    "alias alt-remove-cr='perl-slurp -pe \"s/\\r//g;\"'\n",
    "function remove-cr-and-backup () { dobackup.sh \"$1\"; remove-cr < backup/\"$1\" >| \"$1\"; }\n",
    "alias perl-remove-cr='perl -i.bak -pn -e \"s/\\r//;\"'\n"
   ]
  },
  {
   "cell_type": "code",
   "execution_count": 10,
   "id": "5e6bb71e",
   "metadata": {},
   "outputs": [
    {
     "name": "stdout",
     "output_type": "stream",
     "text": [
      "\n",
      "This is perl 5, version 34, subversion 0 (v5.34.0) built for x86_64-linux-gnu-thread-multi\n",
      "(with 50 registered patches, see perl -V for more detail)\n",
      "\n",
      "Copyright 1987-2021, Larry Wall\n",
      "\n",
      "Perl may be copied only under the terms of either the Artistic License or the\n",
      "GNU General Public License, which may be found in the Perl 5 source kit.\n",
      "\n",
      "Complete documentation for Perl, including FAQ lists, should be found on\n",
      "this system using \"man perl\" or \"perldoc perl\".  If you have access to the\n",
      "Internet, point your browser at http://www.perl.org/, the Perl Home Page.\n",
      "\n"
     ]
    }
   ],
   "source": [
    "# perl-slurp IS AN ALIAS FOR 'perl -0777'\n",
    "perl-slurp -v"
   ]
  },
  {
   "cell_type": "code",
   "execution_count": 11,
   "id": "1b62ea73",
   "metadata": {},
   "outputs": [
    {
     "name": "stdout",
     "output_type": "stream",
     "text": [
      ". THIS IS A TEST TOO.\n",
      "--------------------------------------------------------------------------------\n",
      "THIS IS A TEST. THIS IS ALSO A TEST. THIS IS A TEST TOO.\n",
      "--------------------------------------------------------------------------------\n",
      "THIS IS A TEST. THIS IS ALSO A TEST. THIS IS A TEST TOO."
     ]
    }
   ],
   "source": [
    "# remove-cr & alt-remove-cr REMOVES \\r from TEXT\n",
    "function test-text () { printf \"THIS IS A TEST. \\rTHIS IS ALSO A TEST\\r. THIS IS A TEST TOO.\"; }\n",
    "test-text\n",
    "\n",
    "printf \"\\n\"\n",
    "linebr\n",
    "\n",
    "test-text | remove-cr\n",
    "\n",
    "printf \"\\n\"\n",
    "linebr\n",
    "\n",
    "test-text | alt-remove-cr"
   ]
  },
  {
   "cell_type": "code",
   "execution_count": 12,
   "id": "37e401f5",
   "metadata": {},
   "outputs": [
    {
     "name": "stdout",
     "output_type": "stream",
     "text": [
      "Backing up 'process_list.txt' to './backup/process_list.txt'\n"
     ]
    }
   ],
   "source": [
    "# remove-cr-and-backup REMOVES \\r AND ALSO CREATES A BACKUP IN THE BACKUP FOLDER\n",
    "ps -l > process_list.txt\n",
    "remove-cr-and-backup process_list.txt"
   ]
  },
  {
   "cell_type": "code",
   "execution_count": 13,
   "id": "a356c468",
   "metadata": {},
   "outputs": [
    {
     "name": "stdout",
     "output_type": "stream",
     "text": [
      "-i used with no filenames on the command line, reading from STDIN.\n",
      ". THIS IS A TEST TOO.IS ALSO A TEST"
     ]
    }
   ],
   "source": [
    "# perl-remove-cr REMOVES \\r USING PERL \n",
    "test-text | perl-remove-cr"
   ]
  },
  {
   "cell_type": "code",
   "execution_count": 14,
   "id": "245bf6ea",
   "metadata": {},
   "outputs": [],
   "source": [
    "# T3 - FOR TEXT MANIPULATION\n",
    "\n",
    "# Text manipulation\n",
    "alias intersection='intersection.perl'\n",
    "alias difference='intersection.perl -diff'\n",
    "alias line-intersection='intersection.perl -line'\n",
    "alias line-difference='intersection.perl -diff -line'\n",
    "function show-line () { tail --lines=+\"$1\" \"$2\" | head -1; }\n",
    "#\n",
    "# last-n-with-header(num, file): create sub-file with last NUM lines plus header from FILE\n",
    "function last-n-with-header () { head --lines=1 \"$2\"; tail --lines=\"$1\" \"$2\"; }\n",
    "\n"
   ]
  },
  {
   "cell_type": "code",
   "execution_count": 15,
   "id": "d88eaa6b",
   "metadata": {},
   "outputs": [
    {
     "name": "stdout",
     "output_type": "stream",
     "text": [
      "PID\n",
      "TTY\n",
      "TIME\n",
      "bash\n",
      "bash\n",
      "11838\n",
      "pts/4\n",
      "pts/4\n",
      "ps\n"
     ]
    }
   ],
   "source": [
    "# TESTING INTERSECTION FOR ps\n",
    "ps -u > ntest1.txt\n",
    "ps -l > ntest2.txt\n",
    "intersection ntest1.txt ntest2.txt"
   ]
  },
  {
   "cell_type": "code",
   "execution_count": 16,
   "id": "1d1a7f24",
   "metadata": {},
   "outputs": [
    {
     "name": "stdout",
     "output_type": "stream",
     "text": [
      "%CPU\n",
      "%MEM\n",
      "--rcfile\n",
      "-u\n",
      "/usr/bin/bash\n",
      "/usr/bin/jupyter-notebook\n",
      "/usr/bin/python3\n",
      "/usr/lib/python3/dist-packages/pexpect/bashrc.sh\n",
      "0.0\n",
      "0.1\n",
      "0.6\n",
      "0:00\n",
      "0:08\n",
      "1.1\n",
      "10268\n",
      "10783\n",
      "11430\n",
      "11480\n",
      "11596\n",
      "11905\n",
      "12668\n",
      "2.0\n",
      "21:11\n",
      "21:12\n",
      "21:20\n",
      "21:26\n",
      "21:31\n",
      "21:34\n",
      "3408\n",
      "390480\n",
      "5420\n",
      "5476\n",
      "5524\n",
      "5700\n",
      "5812\n",
      "75972\n",
      "8355\n",
      "8510\n",
      "COMMAND\n",
      "R+\n",
      "RSS\n",
      "START\n",
      "STAT\n",
      "Sl+\n",
      "Ss\n",
      "Ss+\n",
      "USER\n",
      "VSZ\n",
      "aveey\n",
      "pts/0\n",
      "pts/1\n",
      "pts/2\n",
      "pts/3\n"
     ]
    }
   ],
   "source": [
    "# difference = intersection -diff\n",
    "difference ntest1.txt ntest2.txt"
   ]
  },
  {
   "cell_type": "code",
   "execution_count": 17,
   "id": "7fa686e6",
   "metadata": {},
   "outputs": [
    {
     "name": "stdout",
     "output_type": "stream",
     "text": [
      "               total        used        free      shared  buff/cache   available\n"
     ]
    }
   ],
   "source": [
    "# line-intersection = intersection -line\n",
    "free -m > free1.txt\n",
    "free > free2.txt\n",
    "line-intersection free1.txt free2.txt"
   ]
  },
  {
   "cell_type": "code",
   "execution_count": 18,
   "id": "5077b85c",
   "metadata": {},
   "outputs": [
    {
     "name": "stdout",
     "output_type": "stream",
     "text": [
      "Mem:            3597        2048         273         148        1275        1163\n",
      "Swap:            511          56         455\n",
      "--------------------------------------------------------------------------------\n",
      "Mem:         3684144     2097148      281096      152028     1305900     1192428\n",
      "Swap:         524284       57948      466336\n"
     ]
    }
   ],
   "source": [
    "# line-difference = intersecton -diff -line\n",
    "line-difference free1.txt free2.txt\n",
    "linebr\n",
    "line-difference free2.txt free1.txt"
   ]
  },
  {
   "cell_type": "code",
   "execution_count": 19,
   "id": "49d75322",
   "metadata": {},
   "outputs": [
    {
     "name": "stdout",
     "output_type": "stream",
     "text": [
      "USER         PID %CPU %MEM    VSZ   RSS TTY      STAT START   TIME COMMAND\n",
      "aveey       8355  0.0  0.1  11480  5700 pts/1    Ss   21:11   0:00 bash\n",
      "aveey       8510  0.6  2.0 390480 75972 pts/1    Sl+  21:12   0:08 /usr/bin/python3 /usr/bin/jupyter-notebook\n",
      "aveey      10268  0.0  0.1  11596  5812 pts/0    Ss+  21:20   0:00 bash\n",
      "aveey      10783  0.0  0.1  11480  5420 pts/2    Ss+  21:26   0:00 /usr/bin/bash --rcfile /usr/lib/python3/dist-packages/pexpect/bashrc.sh\n",
      "aveey      11430  0.0  0.1  11480  5524 pts/3    Ss+  21:31   0:00 /usr/bin/bash --rcfile /usr/lib/python3/dist-packages/pexpect/bashrc.sh\n",
      "aveey      11838  1.1  0.1  11480  5476 pts/4    Ss   21:34   0:00 /usr/bin/bash --rcfile /usr/lib/python3/dist-packages/pexpect/bashrc.sh\n",
      "aveey      11905  0.0  0.0  12668  3408 pts/4    R+   21:34   0:00 ps -u\n",
      "--------------------------------------------------------------------------------\n",
      "aveey      10268  0.0  0.1  11596  5812 pts/0    Ss+  21:20   0:00 bash\n"
     ]
    }
   ],
   "source": [
    "# show-line SHOWS n LINE FROM A FILE \n",
    "# (SYNTAX: show-line [LINE-NUMBER] [SOURCE-FILE])\n",
    "cat ntest1.txt\n",
    "linebr\n",
    "show-line 4 ntest1.txt"
   ]
  },
  {
   "cell_type": "code",
   "execution_count": 20,
   "id": "2e160f0e",
   "metadata": {},
   "outputs": [
    {
     "name": "stdout",
     "output_type": "stream",
     "text": [
      "USER         PID %CPU %MEM    VSZ   RSS TTY      STAT START   TIME COMMAND\n",
      "aveey      10783  0.0  0.1  11480  5420 pts/2    Ss+  21:26   0:00 /usr/bin/bash --rcfile /usr/lib/python3/dist-packages/pexpect/bashrc.sh\n",
      "aveey      11430  0.0  0.1  11480  5524 pts/3    Ss+  21:31   0:00 /usr/bin/bash --rcfile /usr/lib/python3/dist-packages/pexpect/bashrc.sh\n",
      "aveey      11838  1.1  0.1  11480  5476 pts/4    Ss   21:34   0:00 /usr/bin/bash --rcfile /usr/lib/python3/dist-packages/pexpect/bashrc.sh\n",
      "aveey      11905  0.0  0.0  12668  3408 pts/4    R+   21:34   0:00 ps -u\n",
      "--------------------------------------------------------------------------------\n",
      "F S   UID     PID    PPID  C PRI  NI ADDR SZ WCHAN  TTY          TIME CMD\n",
      "0 S  1000   11838   11828  1  80   0 -  2870 do_wai pts/4    00:00:00 bash\n",
      "4 R  1000   11906   11838  0  80   0 -  3167 -      pts/4    00:00:00 ps\n"
     ]
    }
   ],
   "source": [
    "# last-n-with-header GIVES LAST n LINES + HEADING LINE\n",
    "last-n-with-header 4 ntest1.txt\n",
    "linebr\n",
    "last-n-with-header 2 ntest2.txt"
   ]
  },
  {
   "cell_type": "code",
   "execution_count": 21,
   "id": "475b5f63",
   "metadata": {},
   "outputs": [],
   "source": [
    "# CLEARS THE TEST FOLDER\n",
    "rm -rf ./*"
   ]
  }
 ],
 "metadata": {
  "kernelspec": {
   "display_name": "Bash",
   "language": "bash",
   "name": "bash"
  },
  "language_info": {
   "codemirror_mode": "shell",
   "file_extension": ".sh",
   "mimetype": "text/x-sh",
   "name": "bash"
  }
 },
 "nbformat": 4,
 "nbformat_minor": 5
}
