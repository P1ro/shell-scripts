{
 "cells": [
  {
   "cell_type": "code",
   "execution_count": null,
   "id": "0374d8f3",
   "metadata": {},
   "outputs": [
    {
     "data": {
      "text/plain": [
       "\n"
      ]
     },
     "metadata": {},
     "output_type": "display_data"
    }
   ],
   "source": [
    "# Tests for various perl scripts\n"
   ]
  },
  {
   "cell_type": "code",
   "execution_count": null,
   "id": "9ba9f685",
   "metadata": {},
   "outputs": [
    {
     "data": {
      "text/plain": [
       "\n"
      ]
     },
     "metadata": {},
     "output_type": "display_data"
    }
   ],
   "source": [
    "# paste.perl: pasting columns with row exclusion\n"
   ]
  },
  {
   "cell_type": "code",
   "execution_count": null,
   "id": "9002fc4e",
   "metadata": {},
   "outputs": [
    {
     "data": {
      "text/plain": [
       "\n"
      ]
     },
     "metadata": {},
     "output_type": "display_data"
    }
   ],
   "source": [
    "# Setup\n",
    "echo $'ABC\\nJKL' > $TMP/_col1.list\n",
    "echo $'DEF\\nMNO' > $TMP/_col2.list\n",
    "echo $'GHI\\nPQR' > $TMP/_col3.list\n"
   ]
  },
  {
   "cell_type": "code",
   "execution_count": null,
   "id": "33dc7704",
   "metadata": {},
   "outputs": [
    {
     "data": {
      "text/plain": [
       "ABC\tDEF\tGHI\n",
       "JKL\tMNO\tPQR\n",
       "\n"
      ]
     },
     "metadata": {},
     "output_type": "display_data"
    }
   ],
   "source": [
    "paste.perl -cols=\"1,2,3\" $TMP/_col*.list\n"
   ]
  },
  {
   "cell_type": "code",
   "execution_count": null,
   "id": "97ee6ff5",
   "metadata": {},
   "outputs": [
    {
     "data": {
      "text/plain": [
       "DEF\tGHI\n",
       "MNO\tPQR\n",
       "\n"
      ]
     },
     "metadata": {},
     "output_type": "display_data"
    }
   ],
   "source": [
    "paste.perl -cols=\"2,3\" $TMP/_col*.list\n"
   ]
  },
  {
   "cell_type": "code",
   "execution_count": null,
   "id": "fc3e1a30",
   "metadata": {},
   "outputs": [
    {
     "data": {
      "text/plain": [
       "\n"
      ]
     },
     "metadata": {},
     "output_type": "display_data"
    }
   ],
   "source": [
    "#...............................................................................\n",
    "# paste.perl: pasting columns by key\n"
   ]
  },
  {
   "cell_type": "code",
   "execution_count": null,
   "id": "7a3290c6",
   "metadata": {},
   "outputs": [
    {
     "data": {
      "text/plain": [
       "\n"
      ]
     },
     "metadata": {},
     "output_type": "display_data"
    }
   ],
   "source": [
    "# TODO: work out a more intuitive example\n"
   ]
  },
  {
   "cell_type": "code",
   "execution_count": null,
   "id": "ddc2ed39",
   "metadata": {},
   "outputs": [
    {
     "data": {
      "text/plain": [
       "\n"
      ]
     },
     "metadata": {},
     "output_type": "display_data"
    }
   ],
   "source": [
    "# Setup\n",
    "cd $TMP\n",
    "echo -e 'ABC\\tR1C2\\tR1C3\\nJKL\\tR2C2\\tR2C3' > _f1.tsv\n",
    "echo -e 'DEF\\tR1C2\\tR1C3\\nMNO\\tR2C2\\tR2C3' > _f2.tsv\n",
    "echo -e 'GHI\\tR1C2\\tR1C3\\nPQR\\tR2C2\\tR2C3' > _f3.tsv\n",
    "echo -e 'ABC\\tr1c2\\tr1c3\\nPQR\\tr3c2\\tr2c3' > _f4.tsv\n"
   ]
  },
  {
   "cell_type": "code",
   "execution_count": null,
   "id": "f3809b0d",
   "metadata": {},
   "outputs": [
    {
     "data": {
      "text/plain": [
       "ABC\tR1C2, R1C3\t-\t-\tr1c2, r1c3\n",
       "DEF\t-\tR1C2, R1C3\t-\t-\n",
       "GHI\t-\t-\tR1C2, R1C3\t-\n",
       "JKL\tR2C2, R2C3\t-\t-\t-\n",
       "MNO\t-\tR2C2, R2C3\t-\t-\n",
       "PQR\t-\t-\tR2C2, R2C3\tr3c2, r2c3\n",
       "\n"
      ]
     },
     "metadata": {},
     "output_type": "display_data"
    }
   ],
   "source": [
    "# Continuation\n",
    "paste.perl -keys -default=\"-\" _f*.tsv\n",
    "# key\t_f1.tsv\t_f2.tsv\t_f3.tsv\t_f4.tsv\n"
   ]
  },
  {
   "cell_type": "code",
   "execution_count": null,
   "id": "6a02ab44",
   "metadata": {},
   "outputs": [
    {
     "data": {
      "text/plain": [
       "ABC\tR1C3\t-\t-\tr1c3\n",
       "DEF\t-\tR1C3\t-\t-\n",
       "GHI\t-\t-\tR1C3\t-\n",
       "JKL\tR2C3\t-\t-\t-\n",
       "MNO\t-\tR2C3\t-\t-\n",
       "PQR\t-\t-\tR2C3\tr2c3\n",
       "\n"
      ]
     },
     "metadata": {},
     "output_type": "display_data"
    }
   ],
   "source": [
    "# Continuation\n",
    "paste.perl -keys -cols=\"3\" -default=\"-\" _f*.tsv\n",
    "# key\t_f1.tsv\t_f2.tsv\t_f3.tsv\t_f4.tsv\n"
   ]
  },
  {
   "cell_type": "code",
   "execution_count": null,
   "id": "78835b5f",
   "metadata": {},
   "outputs": [
    {
     "data": {
      "text/plain": [
       "\n"
      ]
     },
     "metadata": {},
     "output_type": "display_data"
    }
   ],
   "source": [
    "#................................................................................\n",
    "# cut.perl\n",
    "# TOOD: mucho mas\n"
   ]
  },
  {
   "cell_type": "code",
   "execution_count": null,
   "id": "be5b1b3e",
   "metadata": {},
   "outputs": [
    {
     "data": {
      "text/plain": [
       "FU\n",
       "\n"
      ]
     },
     "metadata": {},
     "output_type": "display_data"
    }
   ],
   "source": [
    "echo \"\\t\" | cut.perl -f=2 -missing=FU -\n"
   ]
  },
  {
   "cell_type": "code",
   "execution_count": null,
   "id": "ab08750a",
   "metadata": {},
   "outputs": [
    {
     "data": {
      "text/plain": [
       "\n"
      ]
     },
     "metadata": {},
     "output_type": "display_data"
    }
   ],
   "source": [
    "#................................................................................\n",
    "# extract_matches.perl\n",
    "# TODO: add mucho mas!\n"
   ]
  },
  {
   "cell_type": "code",
   "execution_count": null,
   "id": "6ca3feef",
   "metadata": {},
   "outputs": [
    {
     "data": {
      "text/plain": [
       "Tomás\n",
       "\n"
      ]
     },
     "metadata": {},
     "output_type": "display_data"
    }
   ],
   "source": [
    "extract_matches.perl -i -utf8 'tom\\S+s' ~/organizer/tomas.txt | head -1\n"
   ]
  },
  {
   "cell_type": "code",
   "execution_count": null,
   "id": "48a4d4a9",
   "metadata": {},
   "outputs": [
    {
     "data": {
      "text/plain": [
       "\n"
      ]
     },
     "metadata": {},
     "output_type": "display_data"
    }
   ],
   "source": [
    "#...............................................................................\n",
    "# perlcalc.perl\n"
   ]
  },
  {
   "cell_type": "code",
   "execution_count": null,
   "id": "baf729eb",
   "metadata": {},
   "outputs": [
    {
     "data": {
      "text/plain": [
       "100000000000000\n"
      ]
     },
     "metadata": {},
     "output_type": "display_data"
    }
   ],
   "source": [
    "# note: should not be itegral\n",
    "calc \"round(100e12, 0)\"\n"
   ]
  },
  {
   "cell_type": "code",
   "execution_count": null,
   "id": "4a04766f",
   "metadata": {},
   "outputs": [
    {
     "data": {
      "text/plain": [
       "100000000000000\n"
      ]
     },
     "metadata": {},
     "output_type": "display_data"
    }
   ],
   "source": [
    "calc-int '100e12'\n"
   ]
  }
 ],
 "metadata": {
  "kernelspec": {
   "display_name": "Python 3 (ipykernel)",
   "language": "python",
   "name": "python3"
  },
  "language_info": {
   "codemirror_mode": {
    "name": "ipython",
    "version": 3
   },
   "file_extension": ".py",
   "mimetype": "text/x-python",
   "name": "python",
   "nbconvert_exporter": "python",
   "pygments_lexer": "ipython3",
   "version": "3.10.6"
  }
 },
 "nbformat": 4,
 "nbformat_minor": 5
}
