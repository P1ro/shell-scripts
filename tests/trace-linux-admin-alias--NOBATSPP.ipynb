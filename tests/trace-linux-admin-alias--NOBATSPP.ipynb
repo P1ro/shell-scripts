{
 "cells": [
  {
   "cell_type": "code",
   "execution_count": 1,
   "id": "6dcea75d",
   "metadata": {},
   "outputs": [],
   "source": [
    "## THIS TEST REQUIRES ROOT PERMISSION FOR JUPYTER\n",
    "# $ jupyter notebook --allow-root\n",
    "\n",
    "## Bracketed Paste is disabled to prevent characters after output\n",
    "## Example: \n",
    "# $ echo 'Hi'\n",
    "# | Hi?2004l\n",
    "\n",
    "# bind 'set enable-bracketed-paste off'"
   ]
  },
  {
   "cell_type": "code",
   "execution_count": 2,
   "id": "65d43538",
   "metadata": {},
   "outputs": [
    {
     "name": "stdout",
     "output_type": "stream",
     "text": [
      "PROMPT_TOJAPDRAGWSN\\[\\]>\n"
     ]
    }
   ],
   "source": [
    "## TEST:  Make sure simple prompt used (e.g., no escapes that might contaminate output)\n",
    "## PS1=\"$ \"\n",
    "## TODO: PS1=\"> \"\n",
    "\n",
    "## NOTE: The Jupyter bash kernel requires that PS1 not be modified as they customize it. \n",
    "echo $PS1"
   ]
  },
  {
   "cell_type": "code",
   "execution_count": 3,
   "id": "d623c9a9",
   "metadata": {},
   "outputs": [],
   "source": [
    "## BAD (SUPER BAD)\n",
    "\n",
    "# # Delete all aliases and function\n",
    "# # TODO: Instead start from pristine environment\n",
    "# unalias -a\n",
    "# alias | wc -l\n",
    "# for f in $(typeset -f | egrep '^\\w+'); do unset -f $f; done\n",
    "# typeset -f | egrep '^\\w+' | wc -l"
   ]
  },
  {
   "cell_type": "code",
   "execution_count": 4,
   "id": "5c9df606",
   "metadata": {},
   "outputs": [],
   "source": [
    "alias testuser=\"sed -r \"s/\"$USER\"+/userxf333/g\"\"\n",
    "alias testnum=\"sed -r \"s/[0-9]/N/g\"\" "
   ]
  },
  {
   "cell_type": "code",
   "execution_count": 5,
   "id": "0ff8f157",
   "metadata": {},
   "outputs": [
    {
     "name": "stdout",
     "output_type": "stream",
     "text": [
      "448\n"
     ]
    }
   ],
   "source": [
    "# Setting a temp directory for tests\n",
    "TMP=/tmp/test-admin-commands\n",
    "\n",
    "## NOTE: Source it directly from the ./tests directory.\n",
    "BIN_DIR=$PWD/..\n",
    "\n",
    "alias | wc -l"
   ]
  },
  {
   "cell_type": "code",
   "execution_count": 6,
   "id": "ab954c7f",
   "metadata": {},
   "outputs": [
    {
     "name": "stdout",
     "output_type": "stream",
     "text": [
      "\u001b]1;$ test-3245 [/tmp/test-admin-commands/test-3245]\u0007\u001b]2;$ test-3245 [/tmp/test-admin-commands/test-3245]\u0007\n",
      "/tmp/test-admin-commands/test-3245\n"
     ]
    }
   ],
   "source": [
    "## NOTE: For reproducability, the directory name needs to be fixed\n",
    "## In place of $$, use a psuedo random number (e,g., 3245)\n",
    "## *** All output from one run to the next needs to be the same ***\n",
    "\n",
    "## temp_dir=$TMP/test-$$\n",
    "temp_dir=$TMP/test-3245\n",
    "\n",
    "mkdir -p \"$temp_dir\"\n",
    "# TODO: /bin/rm -rvf \"$temp_dir\"\n",
    "cd \"$temp_dir\"\n",
    "pwd\n",
    "\n",
    "#ALIAS FOR PRINTING SEPERATION LINES (FOR JUPYTER)\n",
    "alias linebr=\"printf '%*s\\n' \"${COLUMNS:-$(tput cols)}\" '' | tr ' ' -\""
   ]
  },
  {
   "cell_type": "code",
   "execution_count": 7,
   "id": "ec6df159",
   "metadata": {},
   "outputs": [
    {
     "name": "stdout",
     "output_type": "stream",
     "text": [
      "449\n",
      "469\n"
     ]
    }
   ],
   "source": [
    "# Count aliases proper\n",
    "alias | wc -l\n",
    "# Count functions\n",
    "typeset -f | egrep '^\\w+' | wc -l"
   ]
  },
  {
   "cell_type": "code",
   "execution_count": 8,
   "id": "40b5dc82",
   "metadata": {},
   "outputs": [],
   "source": [
    "## BAD\n",
    "# # Alias are defined as some of them require sudo\n",
    "# source $BIN_DIR/tomohara-aliases.bash"
   ]
  },
  {
   "cell_type": "code",
   "execution_count": 9,
   "id": "fc4c90a1",
   "metadata": {},
   "outputs": [],
   "source": [
    "# Removing sudo (halts process, suitable for all users) - FOR TESTING\n",
    "alias apt-install='apt-get install --yes --fix-missing --no-remove'\n",
    "alias apt-search='apt-cache search'\n",
    "alias apt-installed='apt list --installed'\n",
    "alias apt-uninstall='apt-get remove'\n",
    "alias dpkg-install='dpkg --install '"
   ]
  },
  {
   "cell_type": "code",
   "execution_count": 10,
   "id": "2dd529ee",
   "metadata": {},
   "outputs": [
    {
     "name": "stdout",
     "output_type": "stream",
     "text": [
      "\n",
      "WARNING: apt does not have a stable CLI interface. Use with caution in scripts.\n",
      "\n"
     ]
    }
   ],
   "source": [
    "## 1A) apt-installed : VIEWS ALL INSTALLED PACKAGES\n",
    "# Note: Entire list of the package is very large.\n",
    "\n",
    "# Example: Sorts and select all packages related to Python3\n",
    "apt-installed *python3* | grep ipython | cut -d \\/ -f 1 | testnum"
   ]
  },
  {
   "cell_type": "code",
   "execution_count": 11,
   "id": "b86e6afa",
   "metadata": {},
   "outputs": [
    {
     "name": "stdout",
     "output_type": "stream",
     "text": [
      "rolldice - virtual dice roller\n"
     ]
    }
   ],
   "source": [
    "## 1B) apt-search : SEARCHES DESIRED PACKAGES IN THE apt REPO\n",
    "\n",
    "# Example: Searching for rolldice, a simple apt package\n",
    "apt-search rolldice"
   ]
  },
  {
   "cell_type": "code",
   "execution_count": 12,
   "id": "264d60c8",
   "metadata": {},
   "outputs": [
    {
     "name": "stdout",
     "output_type": "stream",
     "text": [
      "\n",
      "WARNING: apt does not have a stable CLI interface. Use with caution in scripts.\n",
      "\n",
      "2\n"
     ]
    }
   ],
   "source": [
    "# 1C) apt-installed: Lists all installed apt packages\n",
    "apt-installed | grep acpi | wc -l"
   ]
  },
  {
   "cell_type": "code",
   "execution_count": 13,
   "id": "9945a9ac",
   "metadata": {},
   "outputs": [],
   "source": [
    "## 1C) apt-install : INSTALLS THE PACKAGE IF PRESENT IN THE REPO\n",
    "## NOTE: Installing packages requires sudo\n",
    "\n",
    "# Example: Installing rolldice (need a more suitable example - but works)\n",
    "\n",
    "# | $ apt-install rolldice\n",
    "# | E: Could not open lock file /var/lib/dpkg/lock-frontend - open (13: Permission denied)\n",
    "# | E: Unable to acquire the dpkg frontend lock (/var/lib/dpkg/lock-frontend), are you root?"
   ]
  },
  {
   "cell_type": "code",
   "execution_count": 14,
   "id": "dd05882e",
   "metadata": {},
   "outputs": [],
   "source": [
    "## 1D) apt-uninstall : UNINSTALLS/REMOVES DESIRED PACKAGE IF PRESENT\n",
    "## NOTE: Uninstalling packages requires sudo\n",
    "\n",
    "# # Example: Uninstalling rolldice\n",
    "\n",
    "# $ apt-uninstall rolldice\n",
    "# | E: Could not open lock file /var/lib/dpkg/lock-frontend - open (13: Permission denied)\n",
    "# | E: Unable to acquire the dpkg frontend lock (/var/lib/dpkg/lock-frontend), are you root?"
   ]
  },
  {
   "cell_type": "code",
   "execution_count": 15,
   "id": "303396ad",
   "metadata": {},
   "outputs": [],
   "source": [
    "## 1E) dpkg-install : INSTALLS A DEBIAN PACKAGE\n",
    "## NOTE: dpkg-install also requires sudo\n",
    "\n",
    "# Example: Uninstalling rolldice (requires superuser - but works)\n",
    "\n",
    "# $ dpkg-install rolldice\n",
    "# | dpkg: error: requested operation requires superuser privilege"
   ]
  },
  {
   "cell_type": "code",
   "execution_count": 16,
   "id": "774ddb93",
   "metadata": {},
   "outputs": [],
   "source": [
    "## TEST 2 - SYSTEM OPERATION ALIASES\n",
    "# alias restart-network='sudo ifdown eth0; sudo ifup eth0'\n",
    "# alias hibernate-system='sudo systemctl hibernate'\n",
    "# alias suspend-system='sudo systemctl suspend'\n",
    "# alias blank-screen='xset dpms force off'\n",
    "# alias stop-service='systemctl stop'\n",
    "# alias restart-service='sudo systemctl restart'\n",
    "# # stop-service IS ONLY SAFE TO USE FOR TEST FOR SOME SERVICES\n",
    "\n",
    "# SOME ALIASES: ADDED BY ME\n",
    "alias start-service='systemctl start'\n",
    "alias list-all-service='systemctl --type=service'\n",
    "alias restart-service-sudoless='systemctl restart'\n",
    "alias status-service='systemctl status'\n",
    "alias service-status='status-service'"
   ]
  },
  {
   "cell_type": "code",
   "execution_count": 17,
   "id": "593024ca",
   "metadata": {},
   "outputs": [
    {
     "name": "stdout",
     "output_type": "stream",
     "text": [
      "  \u001b[01;31m\u001b[Kufw\u001b[m\u001b[K.service                                           loaded active exited  Uncomplicated firewall\n"
     ]
    }
   ],
   "source": [
    "# 2A) list-all-service : LISTS ALL SERVICES ON THE MACHINE (ALL STATES)\n",
    "list-all-service | grep ufw"
   ]
  },
  {
   "cell_type": "code",
   "execution_count": 18,
   "id": "5336cde2",
   "metadata": {},
   "outputs": [],
   "source": [
    "# # 2B) stop-service : STOPS DESIRED SERVICE (password prompt appears; p/w required to start/stop the service)\n",
    "stop-service unattended-upgrades\n",
    "# service-status OR status-service VIEWS STATUS OF THE SERVICE\n",
    "# status-service unattended-upgrades \n",
    "\n",
    "# # commented - tests halts after completion"
   ]
  },
  {
   "cell_type": "code",
   "execution_count": 19,
   "id": "4d2d5ce1",
   "metadata": {},
   "outputs": [
    {
     "name": "stdout",
     "output_type": "stream",
     "text": [
      "● unattended-upgrades.service - Unattended Upgrades Shutdown\n"
     ]
    }
   ],
   "source": [
    "# 2C) start-service : STARTS DESIRED SERVICE (password prompt appears; p/w required to start/stop the service)\n",
    "start-service unattended-upgrades\n",
    "\n",
    "# service-status OR status-service VIEWS STATUS OF THE SERVICE\n",
    "service-status unattended-upgrades | head -n 1"
   ]
  },
  {
   "cell_type": "code",
   "execution_count": 20,
   "id": "3fcc7642",
   "metadata": {},
   "outputs": [
    {
     "name": "stdout",
     "output_type": "stream",
     "text": [
      "     Active: active (running) \n"
     ]
    }
   ],
   "source": [
    "# 2D) restart-service-sudoless : SUDO-LESS METHOD TO RESTART DESIRED SERVICE \n",
    "# NOTE: password prompt appears; p/w required to start/stop the service \n",
    "restart-service-sudoless unattended-upgrades\n",
    "\n",
    "# service-status OR status-service VIEWS STATUS OF THE SERVICE\n",
    "service-status unattended-upgrades | grep Active | cut -d \\s -f 1\n",
    "\n",
    "# requires password but tests completes after (check need for batspp)"
   ]
  },
  {
   "cell_type": "code",
   "execution_count": 21,
   "id": "d8bcb35b",
   "metadata": {},
   "outputs": [
    {
     "name": "stdout",
     "output_type": "stream",
     "text": [
      "/tmp/test-admin-commands/test-3245\n"
     ]
    }
   ],
   "source": [
    "pwd"
   ]
  },
  {
   "cell_type": "code",
   "execution_count": 22,
   "id": "57d6d4d4",
   "metadata": {
    "scrolled": false
   },
   "outputs": [
    {
     "name": "stdout",
     "output_type": "stream",
     "text": [
      "abc.txt22\n",
      "--------------------------------------------------------------------------------\n",
      "total N    \n",
      "-rw-rw-r-- N userxf333 userxf333 NN  N NN:NN abc.txt\n",
      "--------------------------------------------------------------------------------\n",
      "HELLO THERE,\n",
      "I AM EXTREMELY PLEASED TO USE UBUNTU.\n"
     ]
    }
   ],
   "source": [
    "## 3A) get-free-filename : get filename starting with BASE that is not used\n",
    "printf \"HELLO THERE,\\nI AM EXTREMELY PLEASED TO USE UBUNTU.\" >> abc.txt\n",
    "\n",
    "get-free-filename \"abc.txt\" 2      #DOUBT(?)\n",
    "linebr\n",
    "ls -l | awk '!($6=\"\")' | testnum | testuser\n",
    "linebr\n",
    "cat \"abc.txt\"\n"
   ]
  },
  {
   "cell_type": "code",
   "execution_count": 23,
   "id": "251b30e5",
   "metadata": {},
   "outputs": [],
   "source": [
    "# ## TEST 4 - SUDO ADMIN (Doesn't work on Jupyter | requires sudo | Halts process)\n",
    "\n",
    "# # sudo-admin(): create typescript as sudo user using filename based on current\n",
    "# # date using numeric suffixes if necessary until the filename is free.\n",
    "# # note: exsting _config*.log files are made read-only so not later overwritten\n",
    "# # by accident\n",
    "# function sudo-admin () {\n",
    "#     local prefix=\"_config-\"\n",
    "#     local base=\"$prefix$(todays-date).log\"\n",
    "#     sudo chmod ugo-w \"$prefix\"*.log*\n",
    "#     local script_log=$(get-free-filename \"$base\")\n",
    "#     sudo --set-home   script --flush \"$script_log\"\n",
    "# }"
   ]
  },
  {
   "cell_type": "code",
   "execution_count": 24,
   "id": "21b4c8ab",
   "metadata": {},
   "outputs": [],
   "source": [
    "# sudo-admin"
   ]
  },
  {
   "cell_type": "code",
   "execution_count": 25,
   "id": "d7d44c1d",
   "metadata": {},
   "outputs": [],
   "source": [
    "## Should be done from a sysadmin account (Need help)\n",
    "sync2"
   ]
  },
  {
   "cell_type": "code",
   "execution_count": 26,
   "id": "ea891649",
   "metadata": {},
   "outputs": [
    {
     "name": "stdout",
     "output_type": "stream",
     "text": [
      "Warning: no sudo user for current shell\n"
     ]
    }
   ],
   "source": [
    "## fix-sudoer-home-permission gives a warning if no sudo user present\n",
    "fix-sudoer-home-permission"
   ]
  },
  {
   "cell_type": "code",
   "execution_count": null,
   "id": "1415a8a4",
   "metadata": {},
   "outputs": [],
   "source": []
  }
 ],
 "metadata": {
  "kernelspec": {
   "display_name": "Bash",
   "language": "bash",
   "name": "bash"
  },
  "language_info": {
   "codemirror_mode": "shell",
   "file_extension": ".sh",
   "mimetype": "text/x-sh",
   "name": "bash"
  }
 },
 "nbformat": 4,
 "nbformat_minor": 5
}
