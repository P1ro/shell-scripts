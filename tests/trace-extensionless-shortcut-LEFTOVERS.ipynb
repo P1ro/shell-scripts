{
 "cells": [
  {
   "cell_type": "code",
   "execution_count": 1,
   "id": "65d43538",
   "metadata": {},
   "outputs": [
    {
     "name": "stdout",
     "output_type": "stream",
     "text": [
      "[PEXP\\[\\]ECT_PROMPT>\n"
     ]
    }
   ],
   "source": [
    "echo $PS1"
   ]
  },
  {
   "cell_type": "code",
   "execution_count": 2,
   "id": "d623c9a9",
   "metadata": {},
   "outputs": [
    {
     "name": "stdout",
     "output_type": "stream",
     "text": [
      "0\n",
      "0\n"
     ]
    }
   ],
   "source": [
    "# Delete all aliases and function\n",
    "# TODO: Instead start from pristine environment\n",
    "unalias -a\n",
    "alias | wc -l\n",
    "for f in $(typeset -f | egrep '^\\w+'); do unset -f $f; done\n",
    "typeset -f | egrep '^\\w+' | wc -l\n",
    "# Setting a temp directory for tests\n",
    "TMP=/tmp/test-extensionless\n",
    "BIN_DIR=$PWD/.."
   ]
  },
  {
   "cell_type": "code",
   "execution_count": 3,
   "id": "0ff8f157",
   "metadata": {},
   "outputs": [
    {
     "name": "stdout",
     "output_type": "stream",
     "text": [
      "0\n"
     ]
    }
   ],
   "source": [
    "alias | wc -l"
   ]
  },
  {
   "cell_type": "code",
   "execution_count": 4,
   "id": "ab954c7f",
   "metadata": {},
   "outputs": [
    {
     "name": "stdout",
     "output_type": "stream",
     "text": [
      "/tmp/test-extensionless/test-3573\n"
     ]
    }
   ],
   "source": [
    "temp_dir=$TMP/test-3573\n",
    "mkdir -p \"$temp_dir\"\n",
    "cd \"$temp_dir\"\n",
    "pwd\n",
    "#ALIAS FOR PRINTING SEPERATION LINES (FOR JUPYTER)\n",
    "alias linebr=\"printf '%*s\\n' \"${COLUMNS:-$(tput cols)}\" '' | tr ' ' -\""
   ]
  },
  {
   "cell_type": "code",
   "execution_count": 5,
   "id": "ec6df159",
   "metadata": {},
   "outputs": [
    {
     "name": "stdout",
     "output_type": "stream",
     "text": [
      "1\n",
      "0\n"
     ]
    }
   ],
   "source": [
    "# Count aliases proper\n",
    "alias | wc -l\n",
    "# Count functions\n",
    "typeset -f | egrep '^\\w+' | wc -l"
   ]
  },
  {
   "cell_type": "code",
   "execution_count": 6,
   "id": "85a87403",
   "metadata": {},
   "outputs": [],
   "source": [
    "## TESTS 1 - EXTENSIONLESS SHORTCUTS PT. 1\n",
    " \n",
    "alias perl-=\"\"\n",
    "GREP='grep'\n",
    "\n",
    "alias convert-termstrings='perl- convert_termstrings.perl'\n",
    "alias do-rcsdiff='do_rcsdiff.sh'\n",
    "alias dobackup='dobackup.sh'\n",
    "alias kill-em='kill_em.sh'\n",
    "alias kill-it='kill-em --pattern'"
   ]
  },
  {
   "cell_type": "code",
   "execution_count": 7,
   "id": "b2919e2f",
   "metadata": {},
   "outputs": [],
   "source": [
    "# # 1.1) NO EXAMPLES RN FOR kill-em and kill-it\n",
    "# kill-em\n",
    "# linebr\n",
    "# kill-it\n",
    "\n",
    "# # 1.2) TEST STOPS\n",
    "# $ kill-em --pattern kcalc\n",
    "# | pattern=/kcalc/\n",
    "# | filter=/($)(^)/\n",
    "# | OSTYPE: Undefined variable."
   ]
  },
  {
   "cell_type": "code",
   "execution_count": 8,
   "id": "94ed70f0",
   "metadata": {},
   "outputs": [],
   "source": [
    "## 1.2) ERROR GENERATED - SCRIPT MISSING\n",
    "# $ convert-termstrings\n",
    "# | Can't open perl script \"convert_termstrings.perl\": No such file or directory"
   ]
  },
  {
   "cell_type": "code",
   "execution_count": 9,
   "id": "98b974b4",
   "metadata": {},
   "outputs": [
    {
     "name": "stdout",
     "output_type": "stream",
     "text": [
      "Backing up 'test.txt' to './backup/test.txt'\n",
      "--------------------------------------------------------------------------------\n",
      "backup\ttest.txt\n"
     ]
    }
   ],
   "source": [
    "rm -rf ./*\n",
    "printf \"TOP\\nTHIS IS A TEST\\nBOTTOM\" > test.txt\n",
    "dobackup test.txt\n",
    "linebr\n",
    "ls"
   ]
  },
  {
   "cell_type": "code",
   "execution_count": 10,
   "id": "f08bf08c",
   "metadata": {},
   "outputs": [],
   "source": [
    "## 1.3) do_rcsdiff\n",
    "# $ do-rcsdiff Makefile\n",
    "# | foreach: No match."
   ]
  },
  {
   "cell_type": "code",
   "execution_count": 11,
   "id": "e1939c2a",
   "metadata": {},
   "outputs": [],
   "source": [
    "function ps-mine- { ps-mine \"$@\" | filter-dirnames; }\n",
    "alias ps_mine='ps-mine'\n",
    "alias ps-mine-all='ps-mine --all'"
   ]
  },
  {
   "cell_type": "code",
   "execution_count": 12,
   "id": "1584698d",
   "metadata": {},
   "outputs": [],
   "source": [
    "## ERROR - ps-mine COMMAND NOT FOUND\n",
    "# ps_mine"
   ]
  },
  {
   "cell_type": "code",
   "execution_count": 13,
   "id": "d312db03",
   "metadata": {},
   "outputs": [],
   "source": [
    "alias rename-files='perl- rename_files.perl'\n",
    "alias rename_files='rename-files'\n",
    "alias testwn='perl- testwn.perl'\n",
    "alias perlgrep='perl- perlgrep.perl'\n",
    "alias foreach='perl- foreach.perl'\n",
    "alias rename-spaces='rename-files -q global \" \" \"_\"'\n",
    "alias rename-special-punct='rename-files -q -global -regex \"[&\\!\\*?\\(\\)]\" \"\"'"
   ]
  },
  {
   "cell_type": "code",
   "execution_count": 14,
   "id": "33fa4219",
   "metadata": {},
   "outputs": [
    {
     "name": "stdout",
     "output_type": "stream",
     "text": [
      "'abcdef\\.txt'  'abc nounderscore.txt'   abc.xyz   def.xyz   ooo.ppp\n"
     ]
    }
   ],
   "source": [
    "rm -rf ./*\n",
    "touch abc.xyz def.xyz ooo.ppp\n",
    "touch 'abc nounderscore.txt' abcdef\\\\.txt\n",
    "ls"
   ]
  },
  {
   "cell_type": "code",
   "execution_count": 15,
   "id": "1b8a1eb1",
   "metadata": {},
   "outputs": [
    {
     "name": "stdout",
     "output_type": "stream",
     "text": [
      "renaming \"ooo.ppp\" to \"ooo.qqq\"\n",
      "'abcdef\\.txt'  'abc nounderscore.txt'   abc.xyz   def.xyz   ooo.qqq\n",
      "--------------------------------------------------------------------------------\n",
      "renaming \"./abc.xyz\" to \"./abc.harry\"\n",
      "renaming \"./def.xyz\" to \"./def.harry\"\n",
      "'abcdef\\.txt'   abc.harry  'abc nounderscore.txt'   def.harry   ooo.qqq\n",
      "--------------------------------------------------------------------------------\n",
      "WARNING: Ignoring -quick mode as files specified\n",
      "'abcdef\\.txt'   abc.harry  'abc nounderscore.txt'   def.harry   ooo.qqq\n",
      "--------------------------------------------------------------------------------\n",
      "bash: rename-quotes: command not found\n",
      "'abcdef\\.txt'   abc.harry  'abc nounderscore.txt'   def.harry   ooo.qqq\n"
     ]
    }
   ],
   "source": [
    "#SINGLE FILE RENAME\n",
    "rename_files -q ooo.ppp ooo.qqq\n",
    "ls \n",
    "linebr\n",
    "#EXTENSION RENAME \n",
    "rename_files -f .xyz .harry ./*\n",
    "ls\n",
    "linebr\n",
    "#SPACES RENAME TO UNDERSCORES (need help)\n",
    "rename-spaces -f\n",
    "ls\n",
    "linebr\n",
    "#REMOVE SPECIAL CHARACTERS FROM FILENAME (need help)\n",
    "rename-quotes -f 'abc nounderscore.txt'\n",
    "ls"
   ]
  },
  {
   "cell_type": "code",
   "execution_count": 16,
   "id": "0f1eef55",
   "metadata": {},
   "outputs": [],
   "source": [
    "alias move-duplicates='mkdir -p duplicates; move *\\([0-9]\\).* duplicates 2>&1 | $GREP -iv cannot.stat.*..No.such'\n",
    "alias rename-parens='rename-files -global -regex \"[\\(\\)]\" \"\" *[\\(\\)]*'\n",
    "alias rename-etc='rename-spaces; rename-quotes; rename-special-punct; move-duplicates'"
   ]
  },
  {
   "cell_type": "code",
   "execution_count": 17,
   "id": "de9f535f",
   "metadata": {},
   "outputs": [
    {
     "name": "stdout",
     "output_type": "stream",
     "text": [
      "renaming \"abc(1).111\" to \"abc1.111\"\n",
      "renaming \"abc(2).111\" to \"abc2.111\"\n",
      "renaming \"xyz(3).111\" to \"xyz3.111\"\n",
      "renaming \"xyz(4).111\" to \"xyz4.111\"\n",
      "--------------------------------------------------------------------------------\n",
      "renaming \"&*abcdefg.xyz\" to \"abcdefg.xyz\"\n",
      "renaming \"*abc.xyz\" to \"abc.xyz\"\n",
      "--------------------------------------------------------------------------------\n",
      "WARNING: Ignoring -quick mode as files specified\n",
      "bash: rename-quotes: command not found\n",
      "bash: move: command not found\n",
      "--------------------------------------------------------------------------------\n",
      "abc1.111  abc2.111  abcdefg.xyz  abc.xyz  duplicates  xyz3.111\txyz4.111\n"
     ]
    }
   ],
   "source": [
    "rm -rf ./*\n",
    "# CREATING DUPLICATES \n",
    "touch 'abc(1).111' 'abc(2).111' 'xyz(3).111' 'xyz(4).111' '*abc.xyz' '&*abcdefg.xyz'\n",
    "# REMOVES PARENTHESES () FROM FILENAMES\n",
    "rename-parens\n",
    "linebr\n",
    "rename-special-punct\n",
    "# rename-etc DOESN'T WORK WELL (move COMMAND NOT FOUND)\n",
    "linebr\n",
    "rename-etc\n",
    "linebr\n",
    "ls"
   ]
  },
  {
   "cell_type": "code",
   "execution_count": 18,
   "id": "8278f267",
   "metadata": {},
   "outputs": [],
   "source": [
    "function move-versioned-files {\n",
    "    alias perl-grep='perl $BIN_DIR/perlgrep.perl'\n",
    "    alias dir-rw='dir -rw'\n",
    "    alias move='mv'\n",
    "    \n",
    "    local ext_pattern='$1'\n",
    "    if [ '$ext_pattern' = '' ]; then ext_pattern='{list,log,txt}'; fi\n",
    "    local dir='$2'\n",
    "    if [ '$dir' = '' ]; then dir='versioned-files'; fi\n",
    "    mkdir -p '$dir';\n",
    "    local D='[-.]'\n",
    "    local file_list='$TEMP/_move-versioned-files-$$.list'\n",
    "    \n",
    "    eval_middle='$(eval dir-rw *$D$ext_pattern[0-9]*  *$D*[0-9]*$D$ext_pattern  *$D$ext_pattern$D*[0-9][0-9]*   *$D*[0-9][0-9]*$D$ext_pattern  2>&1 | perl-grep -v \"No such file\" | perl -pe \"s/(\\S+\\s+){6}\\S+//;\" | sort -u)'\n",
    "    move '$eval_middle' '$dir'\n",
    "}\n",
    "alias move-log-files='move-versioned-files \"{log,debug}\" \"log-files\"'\n",
    "alias move-output-files='move-versioned-files \"{csv,html,json,list,out,output,png,report,tsv,xml}\" \"output-files\"'\n",
    "alias move-adhoc-files='move-log-files; move-output-files'"
   ]
  },
  {
   "cell_type": "code",
   "execution_count": 19,
   "id": "4e8ab3fb",
   "metadata": {},
   "outputs": [],
   "source": [
    "# # SIMULATING THE CREATION OF LOG FILES AND OUTPUT FILES (need help)\n",
    "# rm -rf ./*\n",
    "# touch 'file1.log' 'file2.log' 'file3.debug' 'output1.html' 'output2.xml' 'output3.csv'\n",
    "# move-log-files\n",
    "# linebr\n",
    "# move-output-files\n",
    "\n",
    "# # OUTPUT\n",
    "# mv: cannot stat 'dir:': No such file or directory\n",
    "# mv: cannot stat 'invalid': No such file or directory\n",
    "# mv: cannot stat 'line': No such file or directory\n",
    "# mv: cannot stat 'width:': No such file or directory\n",
    "# mv: cannot stat '‘*[-.]log[0-9]*’': No such file or directory\n",
    "# --------------------------------------------------------------------------------\n",
    "# mv: cannot stat 'dir:': No such file or directory\n",
    "# mv: cannot stat 'invalid': No such file or directory\n",
    "# mv: cannot stat 'line': No such file or directory\n",
    "# mv: cannot stat 'width:': No such file or directory\n",
    "# mv: cannot stat '‘*[-.]csv[0-9]*’': No such file or directory\n"
   ]
  },
  {
   "cell_type": "code",
   "execution_count": 20,
   "id": "27c15eeb",
   "metadata": {},
   "outputs": [
    {
     "name": "stdout",
     "output_type": "stream",
     "text": [
      "bash: e: command not found\n",
      "abc1.xyz  abc2.xyz  abc3.xyz  abc4.xyz\tabc5.xyz.19Aug22  abc6.xyz.19Aug22\n",
      "--------------------------------------------------------------------------------\n",
      "'abc1.xyz' -> 'abc1.xyz.07Oct22'\n",
      "'abc2.xyz' -> 'abc2.xyz.07Oct22'\n",
      "'abc3.xyz' -> 'abc3.xyz.07Oct22'\n",
      "'abc4.xyz' -> 'abc4.xyz.07Oct22'\n",
      "--------------------------------------------------------------------------------\n",
      "abc1.xyz\t  abc2.xyz.07Oct22  abc4.xyz\t      abc6.xyz.19Aug22\n",
      "abc1.xyz.07Oct22  abc3.xyz\t    abc4.xyz.07Oct22\n",
      "abc2.xyz\t  abc3.xyz.07Oct22  abc5.xyz.19Aug22\n"
     ]
    }
   ],
   "source": [
    "\n",
    "function get-free-filename() {\n",
    "    local base=\"$1\"\n",
    "    local sep=\"$2\"\n",
    "    local L=1\n",
    "    local filename=\"$base\"\n",
    "    while [ -e \"$filename\" ]; do\n",
    "        let L++\n",
    "        filename=\"$base$sep$L\"\n",
    "    done;\n",
    "    echo \"$filename\"\n",
    "}\n",
    "\n",
    "function rename-with-file-date() {\n",
    "    local f new_f\n",
    "    local move_command=\"move\"\n",
    "    if [ \"$1\" = \"--copy\" ]; then\n",
    "        move_command='command cp --interactive --verbose --preserve'\n",
    "        shift\n",
    "    fi\n",
    "    for f in \"$@\"; do\n",
    "        if [ -e \"$f\" ]; then\n",
    "           new_f=$(get-free-filename \"$f\".$(date --reference=\"$f\" '+%d%b%y') \".\")\n",
    "           eval \"$move_command\" \"$f\" \"$new_f\";\n",
    "        fi\n",
    "    done;\n",
    "}\n",
    "e\n",
    "function copy-with-file-date { rename-with-file-date --copy \"$@\"; }\n",
    "\n",
    "rm -rf ./*\n",
    "touch abc1.xyz abc2.xyz abc3.xyz abc4.xyz abc5.xyz.19Aug22 abc6.xyz.19Aug22\n",
    "ls\n",
    "linebr\n",
    "copy-with-file-date *.xyz \n",
    "linebr\n",
    "ls"
   ]
  },
  {
   "cell_type": "code",
   "execution_count": 21,
   "id": "70090d52",
   "metadata": {},
   "outputs": [],
   "source": [
    "# Statistical helpers\n",
    "alias bigrams='perl -sw $BIN_DIR/count_bigrams.perl -N=2'\n",
    "alias unigrams='perl -sw $BIN_DIR/count_bigrams.perl -N=1'\n",
    "alias word-count=unigrams"
   ]
  },
  {
   "cell_type": "code",
   "execution_count": 22,
   "id": "6122203c",
   "metadata": {},
   "outputs": [
    {
     "name": "stdout",
     "output_type": "stream",
     "text": [
      "n/a:n/a\t1\n",
      "catmanual.txt\n",
      "n/a\t1\n",
      "catmanual.txt\n"
     ]
    }
   ],
   "source": [
    "rm -rf ./*\n",
    "uname -r > catmanual.txt\n",
    "bigrams catmanual.txt\n",
    "ls\n",
    "word-count catmanual.txt\n",
    "ls"
   ]
  },
  {
   "cell_type": "code",
   "execution_count": 23,
   "id": "4396de8c",
   "metadata": {},
   "outputs": [],
   "source": [
    "lynx-dump-stdout () { lynx -width=512 -dump \"$@\"; }\n",
    "lynx-dump () { \n",
    "    local in_file=\"$1\"\n",
    "    shift 1\n",
    "    local base=$(basename \"$file\" .html)\n",
    "    \n",
    "    if [[ (\"$out_file\" = \"\" ) && (! \"$1\" =~ -*) ]]; then\n",
    "        local out_file=\"$1\"\n",
    "    fi\n",
    "    \n",
    "    if [ \"$out_file\" = \"\" ]; then out_file=\"$base.txt\"; fi\n",
    "    \n",
    "    lynx-dump-stdout \"$@\" \"$file\" > \"$out_file\" 2> \"$out_file.log\"\n",
    "    if [ -s \"$out_file.log\" ]; then\n",
    "        cat \"$out_file.log\"\n",
    "        delete-force \"$out_file.log\"\n",
    "    fi\n",
    "}\n",
    "if [ \"$BAREBONES_HOST\" = \"1\" ]; then export lynx_width=0; fi\n",
    "alias lynx-html='lynx -force_html'"
   ]
  },
  {
   "cell_type": "code",
   "execution_count": 24,
   "id": "7700f1b5",
   "metadata": {},
   "outputs": [],
   "source": [
    "# TROUBLES WITH BATSPP\n",
    "# $ lynx-dump-stdout | head"
   ]
  },
  {
   "cell_type": "code",
   "execution_count": 25,
   "id": "8aaf7fb1",
   "metadata": {},
   "outputs": [],
   "source": [
    "#lynx-html (is a continuously running program)\n",
    "printf \"https://www.google.com/\" > lynxin.txt\n",
    "# lynx-dump lynxin.txt (need help)"
   ]
  },
  {
   "cell_type": "code",
   "execution_count": 26,
   "id": "c147573f",
   "metadata": {},
   "outputs": [],
   "source": [
    "# CSH-like aliases\n",
    "#\n",
    "function setenv () { export $1=\"$2\"; }\n",
    "alias unsetenv='unset'\n",
    "alias unexport='unset'\n"
   ]
  },
  {
   "cell_type": "code",
   "execution_count": 27,
   "id": "de944f42",
   "metadata": {
    "scrolled": true
   },
   "outputs": [
    {
     "name": "stdout",
     "output_type": "stream",
     "text": [
      "aveey-temp\n",
      "--------------------------------------------------------------------------------\n",
      "\n"
     ]
    }
   ],
   "source": [
    "setenv MY_USERNAME aveey-temp\n",
    "echo $MY_USERNAME\n",
    "linebr\n",
    "unexport MY_USERNAME\n",
    "echo $MY_USERNAME"
   ]
  },
  {
   "cell_type": "code",
   "execution_count": 28,
   "id": "42696142",
   "metadata": {},
   "outputs": [],
   "source": [
    "# Unicode support - ERROR PRONE PIECE OF CODE (BATSPP 1.5.X - not ok 1 setup_file failed)\n",
    "\n",
    "function show-unicode-code-info-aux() { perl -CIOE   -e 'use Encode \"encode_utf8\"; print \"char\\tord\\toffset\\tencoding\\n\";'    -ne 'chomp;  printf \"%s: %d\\n\", $_, length($_); foreach $c (split(//, $_)) { $encoding = encode_utf8($c); printf \"%s\\t%04X\\t%d\\t%s\\n\", $c, ord($c), $offset, unpack(\"H*\", $encoding); $offset += length($encoding); }   $offset += length($/); print \"\\n\"; ' < \"$1\"; }\n",
    "function show-unicode-code-info { show-unicode-code-info-aux \"$@\"; }\n",
    "function show-unicode-code-info-stdin() { in_file=\"$TEMP/show-unicode-code-info.$$\"; cat >| $in_file;  show-unicode-code-info-aux $in_file; }\n",
    "function output-BOM { perl -e 'print \"\\xEF\\xBB\\xBF\\n\";'; }\n",
    "function show-unicode-control-chars { perl -pe 'use open \":std\", \":encoding(UTF-8)\"; s/[\\x00-\\x1F]/chr(ord($&) + 0x2400)/eg;'; }"
   ]
  },
  {
   "cell_type": "code",
   "execution_count": 29,
   "id": "bec27579",
   "metadata": {
    "scrolled": true
   },
   "outputs": [
    {
     "name": "stdout",
     "output_type": "stream",
     "text": [
      "char\tord\toffset\tencoding\n",
      "5.15.0-48-generic: 17\n",
      "5\t0035\t0\t35\n",
      ".\t002E\t1\t2e\n",
      "1\t0031\t2\t31\n",
      "5\t0035\t3\t35\n",
      ".\t002E\t4\t2e\n",
      "0\t0030\t5\t30\n",
      "-\t002D\t6\t2d\n",
      "4\t0034\t7\t34\n",
      "8\t0038\t8\t38\n",
      "-\t002D\t9\t2d\n",
      "g\t0067\t10\t67\n",
      "e\t0065\t11\t65\n",
      "n\t006E\t12\t6e\n",
      "e\t0065\t13\t65\n",
      "r\t0072\t14\t72\n",
      "i\t0069\t15\t69\n",
      "c\t0063\t16\t63\n",
      "\n"
     ]
    }
   ],
   "source": [
    "show-unicode-code-info-aux ./catmanual.txt"
   ]
  },
  {
   "cell_type": "code",
   "execution_count": 30,
   "id": "2de08407",
   "metadata": {},
   "outputs": [
    {
     "name": "stdout",
     "output_type": "stream",
     "text": [
      "char\tord\toffset\tencoding\n",
      "5.15.0-48-generic: 17\n",
      "5\t0035\t0\t35\n",
      ".\t002E\t1\t2e\n",
      "1\t0031\t2\t31\n",
      "5\t0035\t3\t35\n",
      ".\t002E\t4\t2e\n",
      "0\t0030\t5\t30\n",
      "-\t002D\t6\t2d\n",
      "4\t0034\t7\t34\n",
      "8\t0038\t8\t38\n",
      "-\t002D\t9\t2d\n",
      "g\t0067\t10\t67\n",
      "e\t0065\t11\t65\n",
      "n\t006E\t12\t6e\n",
      "e\t0065\t13\t65\n",
      "r\t0072\t14\t72\n",
      "i\t0069\t15\t69\n",
      "c\t0063\t16\t63\n",
      "\n"
     ]
    }
   ],
   "source": [
    "show-unicode-code-info ./catmanual.txt"
   ]
  },
  {
   "cell_type": "code",
   "execution_count": 31,
   "id": "50fe14f7",
   "metadata": {},
   "outputs": [],
   "source": [
    "# # ERROR GENERATED (shown below)\n",
    "\n",
    "# $ show-unicode-code-info-stdin ./catmanual.txt\n",
    "\n",
    "# | bash: /show-unicode-code-info.5292: Permission denied\n",
    "# | bash: /show-unicode-code-info.5292: No such file or directory\n"
   ]
  },
  {
   "cell_type": "code",
   "execution_count": 32,
   "id": "3873a10f",
   "metadata": {},
   "outputs": [],
   "source": [
    "# ERROR GENERATED (non-ending process; need help)\n",
    "# $ show-unicode-control-chars ./catmanual.txt"
   ]
  },
  {
   "cell_type": "code",
   "execution_count": 33,
   "id": "44452b2b",
   "metadata": {},
   "outputs": [],
   "source": [
    "## NO OUTPUT GENERATED\n",
    "# output-BOM ./catmanual.txt"
   ]
  },
  {
   "cell_type": "code",
   "execution_count": 34,
   "id": "a54fa112",
   "metadata": {},
   "outputs": [
    {
     "name": "stdout",
     "output_type": "stream",
     "text": [
      "END\n"
     ]
    }
   ],
   "source": [
    "echo \"END\""
   ]
  },
  {
   "cell_type": "code",
   "execution_count": null,
   "id": "044c33ce",
   "metadata": {},
   "outputs": [],
   "source": []
  }
 ],
 "metadata": {
  "kernelspec": {
   "display_name": "Bash",
   "language": "bash",
   "name": "bash"
  },
  "language_info": {
   "codemirror_mode": "shell",
   "file_extension": ".sh",
   "mimetype": "text/x-sh",
   "name": "bash"
  }
 },
 "nbformat": 4,
 "nbformat_minor": 5
}
