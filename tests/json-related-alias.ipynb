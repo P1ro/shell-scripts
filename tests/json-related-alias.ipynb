{
 "cells": [
  {
   "cell_type": "code",
   "execution_count": 1,
   "id": "4eb679ea",
   "metadata": {},
   "outputs": [
    {
     "name": "stdout",
     "output_type": "stream",
     "text": [
      "\u001b[?2004h\u001b[?2004l\u001b[?2004l\u001b[?2004l\u001b[?2004l\u001b[?2004l\r"
     ]
    }
   ],
   "source": [
    "## Bracketed Paste is disabled to prevent characters after output\n",
    "## Example: \n",
    "# $ echo 'Hi'\n",
    "# | Hi?2004l\n",
    "\n",
    "bind 'set enable-bracketed-paste off'"
   ]
  },
  {
   "cell_type": "code",
   "execution_count": 2,
   "id": "0ff295df",
   "metadata": {},
   "outputs": [
    {
     "name": "stdout",
     "output_type": "stream",
     "text": [
      "[PEXP\\[\\]ECT_PROMPT>\n"
     ]
    }
   ],
   "source": [
    "## TEST:  Make sure simple prompt used (e.g., no escapes that might contaminate output)\n",
    "## PS1=\"$ \"\n",
    "## TODO: PS1=\"> \"\n",
    "\n",
    "## NOTE: The Jupyter bash kernel requires that PS1 not be modified as they customize it. \n",
    "echo $PS1"
   ]
  },
  {
   "cell_type": "code",
   "execution_count": 3,
   "id": "503cf120",
   "metadata": {},
   "outputs": [
    {
     "name": "stdout",
     "output_type": "stream",
     "text": [
      "0\n",
      "0\n"
     ]
    }
   ],
   "source": [
    "# Delete all aliases and function\n",
    "# TODO: Instead start from pristine environment\n",
    "unalias -a\n",
    "alias | wc -l\n",
    "for f in $(typeset -f | egrep '^\\w+'); do unset -f $f; done\n",
    "typeset -f | egrep '^\\w+' | wc -l"
   ]
  },
  {
   "cell_type": "code",
   "execution_count": 4,
   "id": "87325c19",
   "metadata": {},
   "outputs": [
    {
     "name": "stdout",
     "output_type": "stream",
     "text": [
      "0\n"
     ]
    }
   ],
   "source": [
    "# Setting a temp directory for tests\n",
    "TMP=/tmp/test-json\n",
    "\n",
    "## NOTE: Source it directly from the ./tests directory.\n",
    "BIN_DIR=$PWD/..\n",
    "\n",
    "alias | wc -l"
   ]
  },
  {
   "cell_type": "code",
   "execution_count": 5,
   "id": "0291199f",
   "metadata": {},
   "outputs": [
    {
     "name": "stdout",
     "output_type": "stream",
     "text": [
      "/tmp/test-json/test-4546\n"
     ]
    }
   ],
   "source": [
    "## NOTE: For reproducability, the directory name needs to be fixed\n",
    "## In place of $$, use a psuedo random number (e,g., 4546)\n",
    "## *** All output from one run to the next needs to be the same ***\n",
    "\n",
    "## temp_dir=$TMP/test-$$\n",
    "temp_dir=$TMP/test-4546\n",
    "\n",
    "mkdir -p \"$temp_dir\"\n",
    "# TODO: /bin/rm -rvf \"$temp_dir\"\n",
    "cd \"$temp_dir\"\n",
    "pwd\n",
    "\n",
    "#ALIAS FOR PRINTING SEPERATION LINES (FOR JUPYTER)\n",
    "alias linebr=\"printf '%*s\\n' \"${COLUMNS:-$(tput cols)}\" '' | tr ' ' -\""
   ]
  },
  {
   "cell_type": "code",
   "execution_count": 6,
   "id": "2b788ea0",
   "metadata": {},
   "outputs": [
    {
     "name": "stdout",
     "output_type": "stream",
     "text": [
      "1\n",
      "0\n"
     ]
    }
   ],
   "source": [
    "# Count aliases proper\n",
    "alias | wc -l\n",
    "# Count functions\n",
    "typeset -f | egrep '^\\w+' | wc -l"
   ]
  },
  {
   "cell_type": "code",
   "execution_count": 7,
   "id": "40a6f2c2",
   "metadata": {},
   "outputs": [],
   "source": [
    "## TEST 1 - TESTS FOR JSON FILE FORMAT\n",
    "#Misc. language related\n",
    "alias json-pp='json_pp -json_opt utf8,pretty'\n",
    "alias pp-json=json-pp\n",
    "# note: canonical sorts the keys of hashes (utf8 avoids warning and pretty might be the default)\n",
    "alias pp-json-sorted='json_pp -json_opt utf8,pretty,canonical'"
   ]
  },
  {
   "cell_type": "code",
   "execution_count": 8,
   "id": "6f7ea3c9",
   "metadata": {},
   "outputs": [
    {
     "name": "stdout",
     "output_type": "stream",
     "text": [
      "--------------------------------------------------------------------------------\n",
      "{\n",
      "  bar => \"1234567890000000000000000\",\n",
      "  foo => \"HI MOM!\"\n",
      "}\n",
      "--------------------------------------------------------------------------------\n",
      "{\n",
      "  bar => bless( {\n",
      "    sign => \"+\",\n",
      "    value => bless( [\n",
      "      0,\n",
      "      890000000,\n",
      "      1234567\n",
      "    ], 'Math::BigInt::Calc' )\n",
      "  }, 'Math::BigInt' ),\n",
      "  foo => \"\\x{3042}\\x{3044}\"\n",
      "}\n",
      "--------------------------------------------------------------------------------\n",
      "{\n",
      "  bar => \"1234567890000000000000000\",\n",
      "  foo => \"\\x{3042}\\x{3044}\"\n",
      "}\n",
      "--------------------------------------------------------------------------------\n"
     ]
    }
   ],
   "source": [
    "## EXAMPLES FOR TEST 1 - FROM https://metacpan.org/dist/JSON-PP/view/bin/json_pp\n",
    "linebr\n",
    "perl -e'print q|{\"foo\":\"HI MOM!\",\"bar\":1234567890000000000000000}|' | pp-json -f json -t dumper\n",
    "linebr\n",
    "perl -e'print q|{\"foo\":\"あい\",\"bar\":1234567890000000000000000}|' | json-pp -f json -t dumper -json_opt pretty,utf8,allow_bignum\n",
    "linebr\n",
    "perl -e'print q|{\"foo\":\"あい\",\"bar\":1234567890000000000000000}|' | pp-json-sorted -f json -t dumper\n",
    "linebr"
   ]
  },
  {
   "cell_type": "code",
   "execution_count": 9,
   "id": "cfe8a603",
   "metadata": {},
   "outputs": [],
   "source": [
    "## TEST 2 - TEXT MANIPULATION\n",
    "\n",
    "function asc-it () { dobackup.sh \"$1\"; asc < BACKUP/\"$1\" >| \"$1\"; }\n",
    "# TODO: use dos2unix under CygWin\n",
    "alias remove-cr='tr -d \"\\r\"'\n",
    "alias perl-slurp='perl -0777'\n",
    "alias alt-remove-cr='perl-slurp -pe \"s/\\r//g;\"'\n",
    "function remove-cr-and-backup () { dobackup.sh \"$1\"; remove-cr < backup/\"$1\" >| \"$1\"; }\n",
    "alias perl-remove-cr='perl -i.bak -pn -e \"s/\\r//;\"'\n",
    "\n",
    "# Text manipulation\n",
    "alias 'intersection=intersection.perl'\n",
    "alias 'difference=intersection.perl -diff'\n",
    "alias 'line-intersection=intersection.perl -line'\n",
    "alias 'line-difference=intersection.perl -diff -line'\n",
    "function show-line () { tail --lines=+\"$1\" \"$2\" | head -1; }\n",
    "#\n",
    "# last-n-with-header(num, file): create sub-file with last NUM lines plus header from FILE\n",
    "function last-n-with-header () { head --lines=1 \"$2\"; tail --lines=\"$1\" \"$2\"; }"
   ]
  },
  {
   "cell_type": "code",
   "execution_count": 10,
   "id": "9d58fd69",
   "metadata": {},
   "outputs": [
    {
     "name": "stdout",
     "output_type": "stream",
     "text": [
      "I am using Ubuntu\n",
      "--------------------------------------------------------------------------------\n",
      "Hi Mom, I am using Ubuntu\n",
      "--------------------------------------------------------------------------------\n",
      "Hi Mom, I am using Ubuntu\n",
      "--------------------------------------------------------------------------------\n",
      "-i used with no filenames on the command line, reading from STDIN.\n",
      "Hi Mom, I am using Ubuntu\n",
      "--------------------------------------------------------------------------------\n"
     ]
    }
   ],
   "source": [
    "printf \"Hi Mom, \\rI am using Ubuntu\\n\"\n",
    "linebr\n",
    "printf \"Hi Mom,\\r I am using Ubuntu\\n\" | remove-cr\n",
    "linebr\n",
    "printf \"Hi Mom,\\r I am using Ubuntu\\n\" | alt-remove-cr\n",
    "linebr\n",
    "printf \"Hi Mom,\\r I am using Ubuntu\\n\" | perl-remove-cr\n",
    "linebr"
   ]
  },
  {
   "cell_type": "code",
   "execution_count": 27,
   "id": "45f553e4",
   "metadata": {},
   "outputs": [
    {
     "name": "stdout",
     "output_type": "stream",
     "text": [
      "bash: syntax error near unexpected token `5,'\n"
     ]
    },
    {
     "ename": "",
     "evalue": "2",
     "output_type": "error",
     "traceback": []
    }
   ],
   "source": [
    "printf \"Hi Mom,\\nThs is the use of printf\\nI can use a backslash n to start a new line.n1\\n2\\n3\"> abc-test.txt\n",
    "#last-n-with-header(5, abc-test.txt)"
   ]
  },
  {
   "cell_type": "code",
   "execution_count": null,
   "id": "7d150141",
   "metadata": {},
   "outputs": [],
   "source": []
  },
  {
   "cell_type": "code",
   "execution_count": null,
   "id": "52bcf0ad",
   "metadata": {},
   "outputs": [],
   "source": []
  },
  {
   "cell_type": "code",
   "execution_count": null,
   "id": "15f76833",
   "metadata": {},
   "outputs": [],
   "source": []
  },
  {
   "cell_type": "code",
   "execution_count": null,
   "id": "9c3a48d4",
   "metadata": {},
   "outputs": [],
   "source": []
  },
  {
   "cell_type": "code",
   "execution_count": null,
   "id": "857249a7",
   "metadata": {},
   "outputs": [],
   "source": []
  },
  {
   "cell_type": "code",
   "execution_count": null,
   "id": "8057964c",
   "metadata": {},
   "outputs": [],
   "source": []
  },
  {
   "cell_type": "code",
   "execution_count": null,
   "id": "b55efa29",
   "metadata": {},
   "outputs": [],
   "source": []
  }
 ],
 "metadata": {
  "kernelspec": {
   "display_name": "Bash",
   "language": "bash",
   "name": "bash"
  },
  "language_info": {
   "codemirror_mode": "shell",
   "file_extension": ".sh",
   "mimetype": "text/x-sh",
   "name": "bash"
  }
 },
 "nbformat": 4,
 "nbformat_minor": 5
}
