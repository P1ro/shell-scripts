{
 "cells": [
  {
   "cell_type": "code",
   "execution_count": 1,
   "id": "5d49fe75",
   "metadata": {},
   "outputs": [
    {
     "name": "stdout",
     "output_type": "stream",
     "text": [
      "[PEXP\\[\\]ECT_PROMPT>\n"
     ]
    }
   ],
   "source": [
    "## Bracketed Paste is disabled to prevent characters after output\n",
    "## Example: \n",
    "# $ echo 'Hii'\n",
    "# | Hi?2004l\n",
    "\n",
    "## TEST:  Make sure simple prompt used (e.g., no escapes that might contaminate output)\n",
    "## PS1=\"$ \"\n",
    "## TODO: PS1=\"> \"\n",
    "\n",
    "## NOTE: The Jupyter bash kernel requires that PS1 not be modified as they customize it. \n",
    "echo $PS1"
   ]
  },
  {
   "cell_type": "code",
   "execution_count": 2,
   "id": "9d4c30cc",
   "metadata": {},
   "outputs": [
    {
     "name": "stdout",
     "output_type": "stream",
     "text": [
      "0\n",
      "0\n"
     ]
    }
   ],
   "source": [
    "# Delete all aliases and function\n",
    "# TODO: Instead start from pristine environment\n",
    "unalias -a\n",
    "alias | wc -l\n",
    "for f in $(typeset -f | egrep '^\\w+'); do unset -f $f; done\n",
    "typeset -f | egrep '^\\w+' | wc -l"
   ]
  },
  {
   "cell_type": "code",
   "execution_count": 3,
   "id": "cddb7968",
   "metadata": {},
   "outputs": [
    {
     "name": "stdout",
     "output_type": "stream",
     "text": [
      "0\n"
     ]
    }
   ],
   "source": [
    "alias | wc -l"
   ]
  },
  {
   "cell_type": "code",
   "execution_count": 4,
   "id": "89a4f57b",
   "metadata": {},
   "outputs": [
    {
     "name": "stdout",
     "output_type": "stream",
     "text": [
      "/tmp/test-calc/test-1210\n"
     ]
    }
   ],
   "source": [
    "## NOTE: For reproducability, the directory name needs to be fixed\n",
    "## In place of $$, use a psuedo random number (e,g., 1210)\n",
    "## *** All output from one run to the next needs to be the same ***\n",
    "# Setting a temp directory for tests\n",
    "TMP=/tmp/test-calc\n",
    "\n",
    "## NOTE: Source it directly from the ./tests directory.\n",
    "BIN_DIR=$PWD/..\n",
    "\n",
    "## temp_dir=$TMP/test-$$\n",
    "temp_dir=$TMP/test-1210\n",
    "\n",
    "mkdir -p \"$temp_dir\"\n",
    "# TODO: /bin/rm -rvf \"$temp_dir\"\n",
    "cd \"$temp_dir\"\n",
    "pwd\n",
    "\n",
    "#ALIAS FOR PRINTING SEPERATION LINES (FOR JUPYTER)\n",
    "alias linebr=\"printf '%*s\\n' \"${COLUMNS:-$(tput cols)}\" '' | tr ' ' -\""
   ]
  },
  {
   "cell_type": "code",
   "execution_count": 5,
   "id": "c10b6bb2",
   "metadata": {},
   "outputs": [
    {
     "name": "stdout",
     "output_type": "stream",
     "text": [
      "1\n"
     ]
    }
   ],
   "source": [
    "# Count aliases proper\n",
    "alias | wc -l"
   ]
  },
  {
   "cell_type": "code",
   "execution_count": 6,
   "id": "09763c6c",
   "metadata": {},
   "outputs": [
    {
     "name": "stdout",
     "output_type": "stream",
     "text": [
      "0\n"
     ]
    }
   ],
   "source": [
    "# Count functions\n",
    "typeset -f | egrep '^\\w+' | wc -l"
   ]
  },
  {
   "cell_type": "code",
   "execution_count": 7,
   "id": "feccc2bf",
   "metadata": {},
   "outputs": [],
   "source": [
    "alias testnumhex=\"sed -r \"s/[0-9,A-F,a-f]/X/g\"\" \n",
    "alias testuser=\"sed -r \"s/\"$USER\"+/user/g\"\" "
   ]
  },
  {
   "cell_type": "code",
   "execution_count": 8,
   "id": "e149fbc9",
   "metadata": {},
   "outputs": [],
   "source": [
    "## THE CORE OF CALCULATOR COMMAND FUNCTIONS\n",
    "\n",
    "function old-calc () { echo \"$@\" | bc -l; }\n",
    "# EX: perl-calc \"2 / 4\" => 0.500\n",
    "\n",
    "## REPLACED perl- wth perl (BEFORE perlcalc.perl) & ADDED $BIN_DIR/ DUE TO COMMAND NOT FOUND ERROR\n",
    "function perl-calc () { perl $BIN_DIR/perlcalc.perl -args \"$@\"; }\n",
    "# TODO: read up on variable expansion in function environments\n",
    "function perl-calc-init () { initexpr=\"$1\"; shift; echo \"$@\" | perl perlcalc.perl -init=\"$initexpr\" -; }\n",
    "alias calc='perl-calc'\n",
    "alias calc-prec6='perl-calc -precision=6'\n",
    "alias calc-init='perl-calc-init'\n",
    "alias calc-int='perl-calc -integer'\n",
    "# TODO: use '$@' for '$*' (or note why not appropriate)\n",
    "function old-perl-calc () { perl -e \"print $*;\"; }\n",
    "function hex2dec { perl -e \"printf '%d', 0x$1;\" -e 'print \"\\n\";'; }\n",
    "function dec2hex { perl -e \"printf '%x', $1;\" -e 'print \"\\n\";'; }\n",
    "function bin2dec { perl -e \"printf '%d', 0b$1;\" -e 'print \"\\n\";'; }\n",
    "function dec2bin { perl -e \"printf '%b', $1;\" -e 'print \"\\n\";'; }\n",
    "\n",
    "alias hv='$BIN_DIR/hexview.perl'"
   ]
  },
  {
   "cell_type": "code",
   "execution_count": 9,
   "id": "64b58554",
   "metadata": {},
   "outputs": [
    {
     "name": "stdout",
     "output_type": "stream",
     "text": [
      "-19.00000000000000000000\n",
      "--------------------------------------------------------------------------------\n",
      "32\n",
      "--------------------------------------------------------------------------------\n",
      "121\n"
     ]
    }
   ],
   "source": [
    "## TEST 1 - old-calc SEEMS TO WORK PRETTY WELL\n",
    "old-calc \"24 / 4.0 - (35 / 7.0) * 5\" # returns -19 as float\n",
    "linebr\n",
    "old-calc \"(2^3)*(2^2)\" # returns 32\n",
    "linebr\n",
    "old-calc \"5*4*3*2*1+1\" # returns 121"
   ]
  },
  {
   "cell_type": "code",
   "execution_count": 10,
   "id": "ed1a5eb4",
   "metadata": {},
   "outputs": [
    {
     "name": "stdout",
     "output_type": "stream",
     "text": [
      "207\n",
      "--------------------------------------------------------------------------------\n",
      "0.001953125\n",
      "--------------------------------------------------------------------------------\n"
     ]
    }
   ],
   "source": [
    "## TEST 2 - old-perl-calc WORKS TOO\n",
    "old-perl-calc \"70 + 69 + 68\"\n",
    "printf \"\\n\"\n",
    "linebr\n",
    "old-perl-calc \"8/8/8/8/8\"\n",
    "printf \"\\n\"\n",
    "linebr"
   ]
  },
  {
   "cell_type": "code",
   "execution_count": 11,
   "id": "e92321e0",
   "metadata": {},
   "outputs": [
    {
     "name": "stdout",
     "output_type": "stream",
     "text": [
      "17950953796\n",
      "--------------------------------------------------------------------------------\n",
      "15\n"
     ]
    }
   ],
   "source": [
    "## TEST 3A - hex2dec\n",
    "hex2dec \"42Df5D144\" \n",
    "#cases don't matter in the number\n",
    "linebr\n",
    "hex2dec \"F\""
   ]
  },
  {
   "cell_type": "code",
   "execution_count": 12,
   "id": "3fee2eef",
   "metadata": {},
   "outputs": [
    {
     "name": "stdout",
     "output_type": "stream",
     "text": [
      "80\n",
      "0\n"
     ]
    }
   ],
   "source": [
    "## TEST 3B - hex2dec\n",
    "dec2hex \"128\"\n",
    "#inclusion of non-decimal numbers yield 0 as a result\n",
    "dec2hex \"A12\" "
   ]
  },
  {
   "cell_type": "code",
   "execution_count": 13,
   "id": "1dc08dcd",
   "metadata": {},
   "outputs": [
    {
     "name": "stdout",
     "output_type": "stream",
     "text": [
      "243\n",
      "--------------------------------------------------------------------------------\n",
      "6\n"
     ]
    }
   ],
   "source": [
    "## TEST 3C - bin2dec\n",
    "bin2dec \"11110011\"\n",
    "linebr\n",
    "#inclusion of non-binary numbers leads to error\n",
    "bin2dec \"0110\" "
   ]
  },
  {
   "cell_type": "code",
   "execution_count": 14,
   "id": "8f172b7c",
   "metadata": {},
   "outputs": [
    {
     "name": "stdout",
     "output_type": "stream",
     "text": [
      "10001001100010011\n",
      "1010\n"
     ]
    }
   ],
   "source": [
    "## TEST 3D - dec2bin\n",
    "dec2bin \"70419\"\n",
    "#inclusion of non-decimal number leads to error\n",
    "dec2bin \"10\""
   ]
  },
  {
   "cell_type": "code",
   "execution_count": 15,
   "id": "ef676520",
   "metadata": {},
   "outputs": [
    {
     "name": "stdout",
     "output_type": "stream",
     "text": [
      "/tmp/test-calc/test-1210\n",
      "XXXXXXXX  XX XX XX XX XX XX XX XX - XX XX XX XX XX XX XX XX  X S   UIX     PI\n",
      "XXXXXXXX  XX XX XX XX XX XX XX XX - XX XX XX XX XX XX XX XX  X    PPIX  X PRI\n",
      "XXXXXXXX  XX XX XX XX XX XX XX XX - XX XX XX XX XX XX XX XX    NI XXXR SZ WXH\n",
      "XXXXXXXX  XX XX XX XX XX XX XX XX - XX XX XX XX XX XX XX XX  XN  TTY         \n",
      "XXXXXXXX  XX XX XX XX XX XX XX XX - XX XX XX XX XX XX XX XX   TIMX XMX.X S  X\n",
      "XXXXXXXX  XX XX XX XX XX XX XX XX - XX XX XX XX XX XX XX XX  XXX    XXXX    X\n",
      "XXXXXXXX  XX XX XX XX XX XX XX XX - XX XX XX XX XX XX XX XX  XXX  X  XX   X -\n",
      "XXXXXXXX  XX XX XX XX XX XX XX XX - XX XX XX XX XX XX XX XX    XXXX Xo_wXi pt\n",
      "XXXXXXXX  XX XX XX XX XX XX XX XX - XX XX XX XX XX XX XX XX  s/X    XX:XX:XX \n",
      "XXXXXXXX  XX XX XX XX XX XX XX XX - XX XX XX XX XX XX XX XX  XXsh.X R  XXXX  \n",
      "XXXXXXXX  XX XX XX XX XX XX XX XX - XX XX XX XX XX XX XX XX    XXXX    XXXX  \n",
      "XXXXXXXX  XX XX XX XX XX XX XX XX - XX XX XX XX XX XX XX XX  X  XX   X -  XXX\n",
      "XXXXXXXX  XX XX XX XX XX XX XX XX - XX XX XX XX XX XX XX XX  X -      pts/X  \n",
      "XXXXXXXX  XX XX XX XX XX XX XX XX - XX XX XX XX XX XX          XX:XX:XX ps.\n"
     ]
    }
   ],
   "source": [
    "## TEST 4 - hv\n",
    "# creates hexview of ping.sh file\n",
    "pwd\n",
    "rm -rf ./*\n",
    "# $ hv \"ping.sh\"\n",
    "# | Can't open ping.sh: No such file or directory\n",
    "ps -l > testforhv.txt\n",
    "hv testforhv.txt | testnumhex"
   ]
  },
  {
   "cell_type": "code",
   "execution_count": 16,
   "id": "7f81af10",
   "metadata": {},
   "outputs": [],
   "source": [
    "## TEST 5 - calc AND ITS ALIASES\n",
    "\n",
    "## ERROR IN CODE \n",
    "\n",
    "# $ calc \"9+10\"\n",
    "# | Number found where operator expected at (eval 34) line 1, near \"args 9\"\n",
    "# |         (Do you need to predeclare args?)\n",
    "# | Missing argument in printf at /home/xaea12/bin/perlcalc.perl line 117, <> line 1.\n",
    "# | 0.000\n",
    "\n",
    "# $ echo \"12+3\" > calculateit.txt\n",
    "# $ perl-calc \"2 / 4\""
   ]
  },
  {
   "cell_type": "code",
   "execution_count": 17,
   "id": "69c71294",
   "metadata": {},
   "outputs": [],
   "source": [
    "## ERROR\n",
    "\n",
    "# $ perl-calc-init \"9+10\"\n",
    "# | Missing argument in printf at /home/xaea12/bin/perlcalc.perl line 117, <> line 1.\n",
    "# | 0.000 "
   ]
  },
  {
   "cell_type": "code",
   "execution_count": null,
   "id": "cf55207e",
   "metadata": {},
   "outputs": [],
   "source": []
  }
 ],
 "metadata": {
  "kernelspec": {
   "display_name": "Bash",
   "language": "bash",
   "name": "bash"
  },
  "language_info": {
   "codemirror_mode": "shell",
   "file_extension": ".sh",
   "mimetype": "text/x-sh",
   "name": "bash"
  }
 },
 "nbformat": 4,
 "nbformat_minor": 5
}
