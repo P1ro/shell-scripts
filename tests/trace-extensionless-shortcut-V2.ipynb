{
 "cells": [
  {
   "cell_type": "code",
   "execution_count": 1,
   "id": "65d43538",
   "metadata": {},
   "outputs": [
    {
     "name": "stdout",
     "output_type": "stream",
     "text": [
      "[PEXP\\[\\]ECT_PROMPT>\n"
     ]
    }
   ],
   "source": [
    "echo $PS1"
   ]
  },
  {
   "cell_type": "code",
   "execution_count": 2,
   "id": "d623c9a9",
   "metadata": {},
   "outputs": [
    {
     "name": "stdout",
     "output_type": "stream",
     "text": [
      "0\n",
      "0\n"
     ]
    }
   ],
   "source": [
    "# Delete all aliases and function\n",
    "# TODO: Instead start from pristine environment\n",
    "unalias -a\n",
    "alias | wc -l\n",
    "for f in $(typeset -f | egrep '^\\w+'); do unset -f $f; done\n",
    "typeset -f | egrep '^\\w+' | wc -l\n",
    "# Setting a temp directory for tests\n",
    "TMP=/tmp/test-extensionless\n",
    "BIN_DIR=$PWD/.."
   ]
  },
  {
   "cell_type": "code",
   "execution_count": 3,
   "id": "0ff8f157",
   "metadata": {},
   "outputs": [
    {
     "name": "stdout",
     "output_type": "stream",
     "text": [
      "0\n"
     ]
    }
   ],
   "source": [
    "alias | wc -l"
   ]
  },
  {
   "cell_type": "code",
   "execution_count": 4,
   "id": "ab954c7f",
   "metadata": {},
   "outputs": [
    {
     "name": "stdout",
     "output_type": "stream",
     "text": [
      "/tmp/test-extensionless/test-3570\n"
     ]
    }
   ],
   "source": [
    "temp_dir=$TMP/test-3570\n",
    "mkdir -p \"$temp_dir\"\n",
    "cd \"$temp_dir\"\n",
    "pwd\n",
    "#ALIAS FOR PRINTING SEPERATION LINES (FOR JUPYTER)\n",
    "alias linebr=\"printf '%*s\\n' \"${COLUMNS:-$(tput cols)}\" '' | tr ' ' -\""
   ]
  },
  {
   "cell_type": "code",
   "execution_count": 5,
   "id": "ec6df159",
   "metadata": {},
   "outputs": [
    {
     "name": "stdout",
     "output_type": "stream",
     "text": [
      "1\n",
      "0\n"
     ]
    }
   ],
   "source": [
    "# Count aliases proper\n",
    "alias | wc -l\n",
    "# Count functions\n",
    "typeset -f | egrep '^\\w+' | wc -l"
   ]
  },
  {
   "cell_type": "code",
   "execution_count": 6,
   "id": "85a87403",
   "metadata": {},
   "outputs": [],
   "source": [
    "## TESTS 1 - EXTENSIONLESS SHORTCUTS PT. 1\n",
    " \n",
    "alias perl-=\"\"\n",
    "GREP='grep'\n",
    "\n",
    "alias move='mv'\n",
    "alias convert-termstrings='perl- $BIN_DIR/convert_termstrings.perl'\n",
    "alias do-rcsdiff='$BIN_DIR/do_rcsdiff.sh'\n",
    "alias dobackup='$BIN_DIR/dobackup.sh'\n",
    "alias kill-em='$BIN_DIR/kill_em.sh'\n",
    "alias kill-it='$BIN_DIR/kill-em --pattern'"
   ]
  },
  {
   "cell_type": "code",
   "execution_count": 7,
   "id": "b2919e2f",
   "metadata": {},
   "outputs": [],
   "source": [
    "# # 1.1) NO EXAMPLES RN FOR kill-em and kill-it\n",
    "# kill-em\n",
    "# linebr\n",
    "# kill-it\n",
    "\n",
    "# # 1.2) TEST STOPS\n",
    "# $ kill-em --pattern kcalc\n",
    "# | pattern=/kcalc/\n",
    "# | filter=/($)(^)/\n",
    "# | OSTYPE: Undefined variable."
   ]
  },
  {
   "cell_type": "code",
   "execution_count": 8,
   "id": "94ed70f0",
   "metadata": {},
   "outputs": [],
   "source": [
    "## 1.2) ERROR GENERATED - SCRIPT MISSING\n",
    "# $ convert-termstrings\n",
    "# | Can't open perl script \"convert_termstrings.perl\": No such file or directory"
   ]
  },
  {
   "cell_type": "code",
   "execution_count": 9,
   "id": "98b974b4",
   "metadata": {},
   "outputs": [
    {
     "name": "stdout",
     "output_type": "stream",
     "text": [
      "test.txt\n",
      "Backing up 'test.txt' to './backup/test.txt'\n",
      "--------------------------------------------------------------------------------\n",
      "backup\ttest.txt\n"
     ]
    }
   ],
   "source": [
    "rm -rf ./*\n",
    "printf \"TOP\\nTHIS IS A TEST\\nBOTTOM\" > test.txt\n",
    "ls\n",
    "\n",
    "dobackup test.txt\n",
    "linebr\n",
    "ls"
   ]
  },
  {
   "cell_type": "code",
   "execution_count": 10,
   "id": "e1939c2a",
   "metadata": {},
   "outputs": [],
   "source": [
    "function ps-mine- { ps-mine \"$@\" | filter-dirnames; }\n",
    "alias ps_mine='ps-mine'\n",
    "alias ps-mine-all='ps-mine --all'"
   ]
  },
  {
   "cell_type": "code",
   "execution_count": 11,
   "id": "1584698d",
   "metadata": {},
   "outputs": [],
   "source": [
    "## ERROR - ps-mine COMMAND NOT FOUND\n",
    "# ps_mine"
   ]
  },
  {
   "cell_type": "code",
   "execution_count": 12,
   "id": "d312db03",
   "metadata": {},
   "outputs": [],
   "source": [
    "alias rename-files='perl- $BIN_DIR/rename_files.perl'\n",
    "alias rename_files='rename-files'\n",
    "alias testwn='perl- $BIN_DIR/testwn.perl'\n",
    "alias perlgrep='perl- $BIN_DIR/perlgrep.perl'\n",
    "alias foreach='perl- $BIN_DIR/foreach.perl'\n",
    "alias rename-spaces='rename-files -q -global \" \" \"_\"'\n",
    "alias rename-special-punct='rename-files -q -global -regex \"[&\\!\\*?\\(\\)]\" \"\"'\n",
    "alias rename-quotes='rename-files -q -global \"'\"'\"'\" \"\"' "
   ]
  },
  {
   "cell_type": "code",
   "execution_count": 13,
   "id": "3f291139",
   "metadata": {},
   "outputs": [
    {
     "name": "stdout",
     "output_type": "stream",
     "text": [
      "\n",
      "Usage: rename_files.perl [options] old-pattern new-pattern [file] ...\\n\n",
      "main options = [-q | -quick] [-f | -force] [-i | -ignore] [-global] [-regex]\n",
      "other options = [-evalre] [-t | -test] [-para]\n",
      "common options = [-verbose] [-help]\n",
      "\n",
      "Example(s):\n",
      "\n",
      "rename_files.perl rename_files ' - Shortcut' '' *Shortcut*\n",
      "\n",
      "/home/test3513/tom-project/shell-scripts/tests/../rename_files.perl rename-files -q -- '--' '-'\n",
      "\n",
      "\n",
      "Notes:\n",
      "\n",
      "-- Use -- for first argument if dashes occur in old-pattern.\n",
      "-- By default only a single occurrence of the pattern is replaced.\n",
      "\n",
      "- The -ignore option is with respect to old vs. new comparison).\n"
     ]
    }
   ],
   "source": [
    "rename-files -help"
   ]
  },
  {
   "cell_type": "code",
   "execution_count": 14,
   "id": "c7070a99",
   "metadata": {},
   "outputs": [
    {
     "name": "stdout",
     "output_type": "stream",
     "text": [
      "\n",
      "usage: do_rcsdiff.sh [-v] [-c] [--brief] [-p file_pattern] [-f] file ...\n",
      "\n",
      "examples:\n",
      "\n",
      "do_rcsdiff.sh Makefile\n",
      "\n",
      "do_rcsdiff.sh \\* >| _rcs.diff 2>&1\n",
      "\n",
      "do_rcsdiff.sh *.[ch] >| _rcs.diff 2>&1\n",
      "\n",
      "NOTES:\n",
      "- Patterns are relative to the RCS subdirectory\n",
      "- The rcsdiff command lists the rcs file before the current one, as in:\n",
      "      diff RCS-file file\n",
      "\n"
     ]
    }
   ],
   "source": [
    "# HELP REQUIRED FOR RCS FILES (TBC)\n",
    "do-rcsdiff"
   ]
  },
  {
   "cell_type": "code",
   "execution_count": 15,
   "id": "22a23226",
   "metadata": {},
   "outputs": [
    {
     "name": "stdout",
     "output_type": "stream",
     "text": [
      " backup\t\t   versionA.txta       versionR-1.txt   versionV.txt\n",
      " processlist.txt   versionI.txt        versionR.txt\n",
      " test.txt\t  'version none.txt'  'version?.txt'\n"
     ]
    }
   ],
   "source": [
    "uname -r > versionR.txt\n",
    "uname -a > versionA.txta\n",
    "uname -v > versionV.txt\n",
    "uname -i > versionI.txt\n",
    "uname > \"version none.txt\"\n",
    "uname -ra > \"version?.txt\"\n",
    "\n",
    "ps -aux > processlist.txt\n",
    "\n",
    "cp ./versionR.txt ./versionR-1.txt\n",
    "ls"
   ]
  },
  {
   "cell_type": "code",
   "execution_count": 16,
   "id": "d6117d46",
   "metadata": {},
   "outputs": [
    {
     "name": "stdout",
     "output_type": "stream",
     "text": [
      "renaming \"test.txt\" to \"harry.txt\"\n"
     ]
    }
   ],
   "source": [
    "rename-files -q test.txt harry.txt"
   ]
  },
  {
   "cell_type": "code",
   "execution_count": 17,
   "id": "95161560",
   "metadata": {},
   "outputs": [],
   "source": [
    "# # NEED HELP (TBC)\n",
    "\n",
    "# $ testwn\n",
    "# | Undefined subroutine &main::NO_OP called at /home/xaea12/bin/common.perl line 2172.\n"
   ]
  },
  {
   "cell_type": "code",
   "execution_count": 18,
   "id": "8298cf91",
   "metadata": {},
   "outputs": [
    {
     "name": "stdout",
     "output_type": "stream",
     "text": [
      "test3513   10006  0.0  0.1  17668  4668 pts/0    S    20:40   0:00 bash\n",
      "test3513   11788  0.3  1.7 692136 61332 ?        Ssl  20:56   0:01 /usr/bin/python -m bash_kernel -f /home/test3513/.local/share/jupyter/runtime/kernel-811faaa0-49ee-450f-a806-5682421f4bd2.json\n",
      "test3513   11800  0.0  0.1  18004  6124 pts/2    Ss+  20:56   0:00 /usr/bin/bash --rcfile /usr/lib/python3/dist-packages/pexpect/bashrc.sh\n",
      "test3513   12610  1.3  1.7 691996 61092 ?        Ssl  21:03   0:01 /usr/bin/python -m bash_kernel -f /home/test3513/.local/share/jupyter/runtime/kernel-1f0f46b6-ed91-44f3-a151-1b91076858a4.json\n",
      "test3513   12621  0.1  0.1  17616  5512 pts/4    Ss+  21:03   0:00 /usr/bin/bash --rcfile /usr/lib/python3/dist-packages/pexpect/bashrc.sh\n",
      "test3513   12733 15.6  1.7 691996 60964 ?        Ssl  21:05   0:01 /usr/bin/python -m bash_kernel -f /home/test3513/.local/share/jupyter/runtime/kernel-21677c1f-8a2c-45a9-b1c0-7d13f1bdfa38.json\n",
      "test3513   12745  1.5  0.1  17616  5580 pts/3    Ss   21:05   0:00 /usr/bin/bash --rcfile /usr/lib/python3/dist-packages/pexpect/bashrc.sh\n"
     ]
    }
   ],
   "source": [
    "perlgrep \"bash\" ./processlist.txt | grep $USER"
   ]
  },
  {
   "cell_type": "code",
   "execution_count": 19,
   "id": "3ca47040",
   "metadata": {},
   "outputs": [],
   "source": [
    "foreach \"echo $f\" *.txt"
   ]
  },
  {
   "cell_type": "code",
   "execution_count": 20,
   "id": "5877539b",
   "metadata": {},
   "outputs": [
    {
     "name": "stdout",
     "output_type": "stream",
     "text": [
      "renaming \"version none.txt\" to \"version_none.txt\"\n"
     ]
    }
   ],
   "source": [
    "rename-spaces"
   ]
  },
  {
   "cell_type": "code",
   "execution_count": 21,
   "id": "b4a3202e",
   "metadata": {},
   "outputs": [
    {
     "name": "stdout",
     "output_type": "stream",
     "text": [
      "renaming \"version?.txt\" to \"version.txt\"\n"
     ]
    }
   ],
   "source": [
    "rename-special-punct"
   ]
  },
  {
   "cell_type": "code",
   "execution_count": 22,
   "id": "104d555f",
   "metadata": {},
   "outputs": [],
   "source": [
    "ps -l > \"process(L).md\"\n",
    "ps -u > \"process(U).md\"\n",
    "ps -x > \"process(X).md\"\n",
    "ps -al > 'process'all'.md'"
   ]
  },
  {
   "cell_type": "code",
   "execution_count": 23,
   "id": "309210c6",
   "metadata": {},
   "outputs": [],
   "source": [
    "alias move-duplicates='mkdir -p duplicates; move *\\([0-9]\\).* duplicates 2>&1 | $GREP -iv cannot.stat.*..No.such'\n",
    "alias rename-parens='rename-files -global -regex \"[\\(\\)]\" \"\" *[\\(\\)]*'\n",
    "alias rename-etc='rename-spaces; rename-quotes; rename-special-punct; move-duplicates'"
   ]
  },
  {
   "cell_type": "code",
   "execution_count": 24,
   "id": "58a35929",
   "metadata": {},
   "outputs": [],
   "source": [
    "# # NO OUTPUT - NEED FURTHER ATTENTION\n",
    "# $ move-duplicates"
   ]
  },
  {
   "cell_type": "code",
   "execution_count": 25,
   "id": "33d36d20",
   "metadata": {},
   "outputs": [
    {
     "name": "stdout",
     "output_type": "stream",
     "text": [
      "renaming \"process(L).md\" to \"processL.md\"\n",
      "renaming \"process(U).md\" to \"processU.md\"\n",
      "renaming \"process(X).md\" to \"processX.md\"\n"
     ]
    }
   ],
   "source": [
    "rename-parens -v"
   ]
  },
  {
   "cell_type": "code",
   "execution_count": 26,
   "id": "8e6b254c",
   "metadata": {},
   "outputs": [
    {
     "name": "stdout",
     "output_type": "stream",
     "text": [
      "WARNING: Ignoring -quick mode as files specified\n"
     ]
    }
   ],
   "source": [
    "rename-quotes -v"
   ]
  },
  {
   "cell_type": "code",
   "execution_count": 27,
   "id": "3a5731b8",
   "metadata": {},
   "outputs": [
    {
     "name": "stdout",
     "output_type": "stream",
     "text": [
      "backup\t       processlist.txt\tprocessX.md    version_none.txt  version.txt\n",
      "harry.txt      processL.md\tversionA.txta  versionR-1.txt\t versionV.txt\n",
      "processall.md  processU.md\tversionI.txt   versionR.txt\n"
     ]
    }
   ],
   "source": [
    "ls"
   ]
  },
  {
   "cell_type": "code",
   "execution_count": 28,
   "id": "efff01cf",
   "metadata": {},
   "outputs": [],
   "source": [
    "function move-versioned-files {\n",
    "    alias perl-grep='perl $BIN_DIR/perlgrep.perl'\n",
    "    alias dir-rw='dir -rw'\n",
    "    alias move='mv'\n",
    "    \n",
    "    local ext_pattern='$1'\n",
    "    if [ '$ext_pattern' = '' ]; then ext_pattern='{list,log,txt}'; fi\n",
    "    local dir='$2'\n",
    "    if [ '$dir' = '' ]; then dir='versioned-files'; fi\n",
    "    mkdir -p '$dir';\n",
    "    local D='[-.]'\n",
    "    local file_list='$TEMP/_move-versioned-files-$$.list'\n",
    "    \n",
    "    eval_middle='$(eval dir-rw *$D$ext_pattern[0-9]*  *$D*[0-9]*$D$ext_pattern  *$D$ext_pattern$D*[0-9][0-9]*   *$D*[0-9][0-9]*$D$ext_pattern  2>&1 | perl-grep -v \"No such file\" | perl -pe \"s/(\\S+\\s+){6}\\S+//;\" | sort -u)'\n",
    "    move '$eval_middle' '$dir'\n",
    "}\n",
    "\n",
    "alias move-log-files='move-versioned-files \"{log,debug}\" \"log-files\"'\n",
    "alias move-output-files='move-versioned-files \"{csv,html,json,list,out,output,png,report,tsv,xml}\" \"output-files\"'\n",
    "alias move-adhoc-files='move-log-files; move-output-files'"
   ]
  },
  {
   "cell_type": "code",
   "execution_count": 29,
   "id": "672d1bd6",
   "metadata": {},
   "outputs": [],
   "source": [
    "man sudo > sudo_manual.out\n",
    "man ansifilter > fakelog.log\n",
    "ps -aux > process_all.html"
   ]
  },
  {
   "cell_type": "code",
   "execution_count": 30,
   "id": "2b2b495d",
   "metadata": {},
   "outputs": [],
   "source": [
    "# # HELP REQUIRED - TBF\n",
    "# $ move-log-files\n",
    "# | mv: cannot stat '$eval_middle': No such file or directory"
   ]
  },
  {
   "cell_type": "code",
   "execution_count": 31,
   "id": "527d72eb",
   "metadata": {},
   "outputs": [],
   "source": [
    "# # HELP REQUIRED - TBF\n",
    "# $ move-output-files\n",
    "# | mv: cannot stat '$eval_middle': No such file or directory"
   ]
  },
  {
   "cell_type": "code",
   "execution_count": 32,
   "id": "088dc74c",
   "metadata": {},
   "outputs": [],
   "source": [
    "function get-free-filename() {\n",
    "    local base=\"$1\"\n",
    "    local sep=\"$2\"\n",
    "    local L=1\n",
    "    local filename=\"$base\"\n",
    "    while [ -e \"$filename\" ]; do\n",
    "        let L++\n",
    "        filename=\"$base$sep$L\"\n",
    "    done;\n",
    "    echo \"$filename\"\n",
    "}\n",
    "\n",
    "function rename-with-file-date() {\n",
    "    local f new_f\n",
    "    local move_command=\"move\"\n",
    "    if [ \"$1\" = \"--copy\" ]; then\n",
    "        move_command='command cp --interactive --verbose --preserve'\n",
    "        shift\n",
    "    fi\n",
    "    for f in \"$@\"; do\n",
    "        if [ -e \"$f\" ]; then\n",
    "           new_f=$(get-free-filename \"$f\".$(date --reference=\"$f\" '+%d%b%y') \".\")\n",
    "           eval \"$move_command\" \"$f\" \"$new_f\";\n",
    "        fi\n",
    "    done;\n",
    "}\n",
    "\n",
    "function copy-with-file-date { rename-with-file-date --copy \"$@\"; }"
   ]
  },
  {
   "cell_type": "code",
   "execution_count": 33,
   "id": "937d9242",
   "metadata": {},
   "outputs": [
    {
     "name": "stdout",
     "output_type": "stream",
     "text": [
      "'processall.md' -> 'processall.md.04Nov22'\n",
      "'processL.md' -> 'processL.md.04Nov22'\n",
      "'processU.md' -> 'processU.md.04Nov22'\n",
      "'processX.md' -> 'processX.md.04Nov22'\n"
     ]
    }
   ],
   "source": [
    "copy-with-file-date *.md"
   ]
  },
  {
   "cell_type": "code",
   "execution_count": 34,
   "id": "23180fdf",
   "metadata": {},
   "outputs": [],
   "source": [
    "# Statistical helpers\n",
    "alias bigrams='perl -sw $BIN_DIR/count_bigrams.perl -N=2'\n",
    "alias unigrams='perl -sw $BIN_DIR/count_bigrams.perl -N=1'\n",
    "alias word-count=unigrams"
   ]
  },
  {
   "cell_type": "code",
   "execution_count": 35,
   "id": "1d96c16e",
   "metadata": {},
   "outputs": [
    {
     "name": "stdout",
     "output_type": "stream",
     "text": [
      "n/a\t1\n",
      "utc\t1\n",
      "oct\t1\n",
      "13\t1\n",
      "thu\t1\n",
      "smp\t1\n",
      "#58-ubuntu\t1\n",
      "08:03:55\t1\n"
     ]
    }
   ],
   "source": [
    "word-count ./versionV.txt"
   ]
  },
  {
   "cell_type": "code",
   "execution_count": 36,
   "id": "71adad1d",
   "metadata": {},
   "outputs": [
    {
     "name": "stdout",
     "output_type": "stream",
     "text": [
      "x86_64:x86_64\t2\n",
      "#58-ubuntu:smp\t1\n",
      "ins-15-3573-umate:5.15.0-52-generic\t1\n",
      "oct:13\t1\n",
      "linux:ins-15-3573-umate\t1\n",
      "n/a:linux\t1\n",
      "n/a:n/a\t1\n",
      "thu:oct\t1\n",
      "13:08:03:55\t1\n",
      "smp:thu\t1\n",
      "08:03:55:utc\t1\n",
      "utc:2022\t1\n",
      "5.15.0-52-generic:#58-ubuntu\t1\n",
      "2022:x86_64\t1\n"
     ]
    }
   ],
   "source": [
    "bigrams ./version.txt"
   ]
  },
  {
   "cell_type": "code",
   "execution_count": 37,
   "id": "a124be24",
   "metadata": {},
   "outputs": [],
   "source": [
    "lynx-dump-stdout () { lynx -width=512 -dump \"$@\"; }\n",
    "lynx-dump () { \n",
    "    local in_file=\"$1\"\n",
    "    shift 1\n",
    "    local base=$(basename \"$file\" .html)\n",
    "    \n",
    "    if [[ (\"$out_file\" = \"\" ) && (! \"$1\" =~ -*) ]]; then\n",
    "        local out_file=\"$1\"\n",
    "    fi\n",
    "    \n",
    "    if [ \"$out_file\" = \"\" ]; then out_file=\"$base.txt\"; fi\n",
    "    \n",
    "    lynx-dump-stdout \"$@\" \"$file\" > \"$out_file\" 2> \"$out_file.log\"\n",
    "    if [ -s \"$out_file.log\" ]; then\n",
    "        cat \"$out_file.log\"\n",
    "        delete-force \"$out_file.log\"\n",
    "    fi\n",
    "}\n",
    "\n",
    "if [ \"$BAREBONES_HOST\" = \"1\" ]; then export lynx_width=0; fi\n",
    "alias lynx-html='lynx -force_html'"
   ]
  },
  {
   "cell_type": "code",
   "execution_count": 38,
   "id": "d57951d5",
   "metadata": {},
   "outputs": [],
   "source": [
    "# # WORKS FINE - HALTS PROCESS\n",
    "# $ lynx-html"
   ]
  },
  {
   "cell_type": "code",
   "execution_count": 39,
   "id": "86419b9f",
   "metadata": {},
   "outputs": [
    {
     "name": "stdout",
     "output_type": "stream",
     "text": [
      "     [ [1]About Lynx-Dev | [2]Lynx-Dev Archives ]\n",
      "\n",
      "About Lynx\n",
      "\n",
      "   Lynx is a fully-featured World Wide Web (WWW) browser for users on Unix, VMS, and other platforms running cursor-addressable, character-cell terminals or emulators. That includes vt100 terminals, other character-cell displays, and vt100 emulators such as Kermit or Procomm running on PCs or Macs.\n",
      "\n",
      "   For information on how to use Lynx see the [3]Lynx User's Guide, or the [4]Lynx help files.\n",
      "\n",
      "Credits and Copyright\n",
      "\n"
     ]
    }
   ],
   "source": [
    "lynx-dump-stdout | head"
   ]
  },
  {
   "cell_type": "code",
   "execution_count": 40,
   "id": "d9ed2744",
   "metadata": {},
   "outputs": [],
   "source": [
    "# # NEED HELP - N/A \n",
    "# $ lynx-dump lynx_text.txt"
   ]
  },
  {
   "cell_type": "code",
   "execution_count": 41,
   "id": "2a8bc6f3",
   "metadata": {},
   "outputs": [],
   "source": [
    "function setenv () { export $1=\"$2\"; }\n",
    "alias unsetenv='unset'\n",
    "alias unexport='unset'"
   ]
  },
  {
   "cell_type": "code",
   "execution_count": 42,
   "id": "f45efa52",
   "metadata": {},
   "outputs": [
    {
     "name": "stdout",
     "output_type": "stream",
     "text": [
      "xaea12-temp\n"
     ]
    }
   ],
   "source": [
    "setenv MY_USERNAME xaea12-temp\n",
    "echo $MY_USERNAME"
   ]
  },
  {
   "cell_type": "code",
   "execution_count": 43,
   "id": "addf3591",
   "metadata": {},
   "outputs": [
    {
     "name": "stdout",
     "output_type": "stream",
     "text": [
      "\n"
     ]
    }
   ],
   "source": [
    "unexport MY_USERNAME\n",
    "echo $MY_USERNAME"
   ]
  },
  {
   "cell_type": "code",
   "execution_count": 44,
   "id": "49d6d56d",
   "metadata": {},
   "outputs": [
    {
     "name": "stdout",
     "output_type": "stream",
     "text": [
      "END\n"
     ]
    }
   ],
   "source": [
    "echo \"END\""
   ]
  },
  {
   "cell_type": "code",
   "execution_count": null,
   "id": "ed88613c",
   "metadata": {},
   "outputs": [],
   "source": []
  }
 ],
 "metadata": {
  "kernelspec": {
   "display_name": "Bash",
   "language": "bash",
   "name": "bash"
  },
  "language_info": {
   "codemirror_mode": "shell",
   "file_extension": ".sh",
   "mimetype": "text/x-sh",
   "name": "bash"
  }
 },
 "nbformat": 4,
 "nbformat_minor": 5
}
