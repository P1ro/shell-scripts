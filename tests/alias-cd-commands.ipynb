{
 "cells": [
  {
   "cell_type": "code",
   "execution_count": 1,
   "id": "273ee5ab",
   "metadata": {
    "scrolled": true
   },
   "outputs": [],
   "source": [
    "# Setup (OPTIONAL - USED IF NEEDED)\n",
    "## bind 'set enable-bracketed-paste off'"
   ]
  },
  {
   "cell_type": "code",
   "execution_count": 2,
   "id": "90b1a7f3",
   "metadata": {},
   "outputs": [
    {
     "name": "stdout",
     "output_type": "stream",
     "text": [
      "PROMPT_TLMCKZMEBDPE\\[\\]>\n"
     ]
    }
   ],
   "source": [
    "## TEST:  Make sure simple prompt used (e.g., no escapes that might contaminate output)\n",
    "## PS1=\"$ \"\n",
    "## TODO: PS1=\"> \"\n",
    "\n",
    "## NOTE: The Jupyter bash kernel requires that PS1 not be modified as they customize it. \n",
    "echo $PS1"
   ]
  },
  {
   "cell_type": "code",
   "execution_count": 3,
   "id": "c8665c2d-276b-4376-a666-0f1cf32bab91",
   "metadata": {},
   "outputs": [],
   "source": [
    "# # Delete all aliases and function\n",
    "# # TODO: Instead start from pristine environment\n",
    "# unalias -a\n",
    "# alias | wc -l\n",
    "# for f in $(typeset -f | egrep '^\\w+'); do unset -f $f; done\n",
    "# typeset -f | egrep '^\\w+' | wc -l"
   ]
  },
  {
   "cell_type": "code",
   "execution_count": 4,
   "id": "d29a9848",
   "metadata": {},
   "outputs": [],
   "source": [
    "# Setting a temp directory for tests\n",
    "TMP=/tmp/test-cp-mv\n",
    "\n",
    "## NOTE: Source it directly from the ./tests directory.\n",
    "BIN_DIR=$PWD/..\n",
    "\n",
    "## OLD\n",
    "# alias | wc -l"
   ]
  },
  {
   "cell_type": "code",
   "execution_count": 5,
   "id": "29cebb30",
   "metadata": {},
   "outputs": [],
   "source": [
    "## NOTE: For reproducability, the directory name needs to be fixed\n",
    "## In place of $$, use a psuedo random number (e,g., 6869)\n",
    "## *** All output from one run to the next needs to be the same ***\n",
    "\n",
    "## temp_dir=$TMP/test-$$\n",
    "temp_dir=$TMP/test-6869\n",
    "\n",
    "## OLD\n",
    "# mkdir -p \"$temp_dir\"\n",
    "# # TODO: /bin/rm -rvf \"$temp_dir\"\n",
    "# cd \"$temp_dir\"\n",
    "# pwd\n",
    "\n",
    "command mkdir -p $temp_dir\n",
    "command cd $temp_dir\n",
    "\n",
    "## OLD\n",
    "# # ALIAS FOR PRINTING SEPERATION LINES (FOR JUPYTER)\n",
    "# alias linebr=\"printf '%*s\\n' \"${COLUMNS:-$(tput cols)}\" '' | tr ' ' -\""
   ]
  },
  {
   "cell_type": "code",
   "execution_count": 6,
   "id": "9e1fb88a",
   "metadata": {},
   "outputs": [
    {
     "name": "stdout",
     "output_type": "stream",
     "text": [
      "440\n"
     ]
    }
   ],
   "source": [
    "# Count aliases proper\n",
    "alias | wc -l"
   ]
  },
  {
   "cell_type": "code",
   "execution_count": 7,
   "id": "6a1cb00b",
   "metadata": {},
   "outputs": [
    {
     "name": "stdout",
     "output_type": "stream",
     "text": [
      "474\n"
     ]
    }
   ],
   "source": [
    "# Count functions\n",
    "typeset -f | egrep '^\\w+' | wc -l"
   ]
  },
  {
   "cell_type": "code",
   "execution_count": 8,
   "id": "8a6085e9",
   "metadata": {},
   "outputs": [],
   "source": [
    "## BAD\n",
    "# source $BIN_DIR/tomohara-aliases.bash"
   ]
  },
  {
   "cell_type": "code",
   "execution_count": 9,
   "id": "6cce12a4",
   "metadata": {},
   "outputs": [],
   "source": [
    "## DEBUG\n",
    "## SHOWS CURRENT WORKING DIRECTORY\n",
    "# pwd"
   ]
  },
  {
   "cell_type": "code",
   "execution_count": 10,
   "id": "069ed8cc",
   "metadata": {},
   "outputs": [],
   "source": [
    "## chdir works as cd\n",
    "chdir .. > /dev/null\n",
    "chdir test-6869/ > /dev/null"
   ]
  },
  {
   "cell_type": "code",
   "execution_count": 11,
   "id": "36fb8fbd",
   "metadata": {},
   "outputs": [],
   "source": [
    "## cd-this-realdir works as cd as well\n",
    "cd-this-realdir .. > /dev/null\n",
    "cd-this-realdir test-6869/ > /dev/null"
   ]
  },
  {
   "cell_type": "code",
   "execution_count": 12,
   "id": "4033a985",
   "metadata": {},
   "outputs": [],
   "source": [
    "rm -rf ./* > /dev/null\n",
    "# mkdir testdir89 testdir90\n",
    "command mkdir testdir89 testdir90\n",
    "echo \"Testfile1\" > testdir89/f11.txt\n",
    "echo \"Testfile2\" > testdir89/f12.txt"
   ]
  },
  {
   "cell_type": "code",
   "execution_count": 13,
   "id": "e4b7b6fc",
   "metadata": {},
   "outputs": [
    {
     "name": "stdout",
     "output_type": "stream",
     "text": [
      "f11.txt  f12.txt\n"
     ]
    }
   ],
   "source": [
    "pushd-q testdir89\n",
    "command ls\n",
    "# linebr\n",
    "# popd-q \n",
    "# command ls"
   ]
  },
  {
   "cell_type": "code",
   "execution_count": 14,
   "id": "14b95b96",
   "metadata": {},
   "outputs": [
    {
     "name": "stdout",
     "output_type": "stream",
     "text": [
      "testdir89  testdir90\n"
     ]
    }
   ],
   "source": [
    "popd-q \n",
    "command ls"
   ]
  }
 ],
 "metadata": {
  "kernelspec": {
   "display_name": "Bash",
   "language": "bash",
   "name": "bash"
  },
  "language_info": {
   "codemirror_mode": "shell",
   "file_extension": ".sh",
   "mimetype": "text/x-sh",
   "name": "bash"
  }
 },
 "nbformat": 4,
 "nbformat_minor": 5
}
