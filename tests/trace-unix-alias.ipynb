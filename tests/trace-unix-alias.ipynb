{
 "cells": [
  {
   "cell_type": "code",
   "execution_count": 1,
   "id": "782d47d4",
   "metadata": {},
   "outputs": [],
   "source": [
    "## SETUP (OPTIONAL - USE IF REQUIRED)\n",
    "## Bracketed Paste is disabled to prevent characters after output\n",
    "## Example: \n",
    "## $ echo 'Hii'\n",
    "## | Hi?2004l\n",
    "# bind 'set enable-bracketed-paste off'"
   ]
  },
  {
   "cell_type": "code",
   "execution_count": 2,
   "id": "65d43538",
   "metadata": {},
   "outputs": [
    {
     "name": "stdout",
     "output_type": "stream",
     "text": [
      "[PEXP\\[\\]ECT_PROMPT>\n"
     ]
    }
   ],
   "source": [
    "## TEST:  Make sure simple prompt used (e.g., no escapes that might contaminate output)\n",
    "## PS1=\"$ \"\n",
    "## TODO: PS1=\"> \"\n",
    "\n",
    "## NOTE: The Jupyter bash kernel requires that PS1 not be modified as they customize it. \n",
    "echo $PS1"
   ]
  },
  {
   "cell_type": "code",
   "execution_count": 3,
   "id": "d623c9a9",
   "metadata": {},
   "outputs": [
    {
     "name": "stdout",
     "output_type": "stream",
     "text": [
      "0\n",
      "0\n"
     ]
    }
   ],
   "source": [
    "unalias -a\n",
    "alias | wc -l\n",
    "for f in $(typeset -f | egrep '^\\w+'); do unset -f $f; done\n",
    "typeset -f | egrep '^\\w+' | wc -l"
   ]
  },
  {
   "cell_type": "code",
   "execution_count": 4,
   "id": "ab954c7f",
   "metadata": {},
   "outputs": [
    {
     "name": "stdout",
     "output_type": "stream",
     "text": [
      "0\n",
      "/tmp/test-unix-alias/test-2899\n"
     ]
    }
   ],
   "source": [
    "TMP=/tmp/test-unix-alias\n",
    "\n",
    "BIN_DIR=$PWD/..\n",
    "\n",
    "alias | wc -l\n",
    "\n",
    "temp_dir=$TMP/test-2899\n",
    "\n",
    "mkdir -p \"$temp_dir\"\n",
    "cd \"$temp_dir\"\n",
    "pwd\n",
    "\n",
    "#ALIAS FOR PRINTING SEPERATION LINES (FOR JUPYTER)\n",
    "alias linebr=\"printf '%*s\\n' \"${COLUMNS:-$(tput cols)}\" '' | tr ' ' -\""
   ]
  },
  {
   "cell_type": "code",
   "execution_count": 5,
   "id": "ec6df159",
   "metadata": {},
   "outputs": [
    {
     "name": "stdout",
     "output_type": "stream",
     "text": [
      "1\n",
      "0\n"
     ]
    }
   ],
   "source": [
    "# Count aliases proper\n",
    "alias | wc -l\n",
    "# Count functions\n",
    "typeset -f | egrep '^\\w+' | wc -l"
   ]
  },
  {
   "cell_type": "code",
   "execution_count": 6,
   "id": "3f5829ba",
   "metadata": {},
   "outputs": [],
   "source": [
    "alias testnum=\"sed -r \"s/[0-9]/X/g\"\" \n",
    "alias testuser=\"sed -r \"s/\"$USER\"+/user/g\"\" "
   ]
  },
  {
   "cell_type": "code",
   "execution_count": 7,
   "id": "760a7389",
   "metadata": {},
   "outputs": [],
   "source": [
    "source $BIN_DIR/tomohara-aliases.bash"
   ]
  },
  {
   "cell_type": "code",
   "execution_count": 8,
   "id": "b4af87a1",
   "metadata": {},
   "outputs": [],
   "source": [
    "# ## NEED HELP for ypcat \n",
    "# $ group-members\n",
    "# | ypcat: can't get local yp domain: Local domain name not set"
   ]
  },
  {
   "cell_type": "code",
   "execution_count": 9,
   "id": "3591194c",
   "metadata": {},
   "outputs": [
    {
     "name": "stdout",
     "output_type": "stream",
     "text": [
      "/bin/mv: cannot stat '_make.log': No such file or directory\n",
      "\u001b[?1h\u001b=\n",
      "\n",
      "\n",
      "\n",
      "\n",
      "\n",
      "\n",
      "\n",
      "\n",
      "\n",
      "\n",
      "\n",
      "\n",
      "\n",
      "\n",
      "\n",
      "\n",
      "\n",
      "\n",
      "\n",
      "\n",
      "\n",
      "\n",
      "\u001b[H\u001b[2J\u001b[H\u001b[H\u001b[2J\u001b[Hmake: Nothing to be done for 'himom.txt'.\n",
      "\u001b[1m~\u001b[0m\n",
      "\u001b[1m~\u001b[0m\n",
      "\u001b[1m~\u001b[0m\n",
      "\u001b[1m~\u001b[0m\n",
      "\u001b[1m~\u001b[0m\n",
      "\u001b[1m~\u001b[0m\n",
      "\u001b[1m~\u001b[0m\n",
      "\u001b[1m~\u001b[0m\n",
      "\u001b[1m~\u001b[0m\n",
      "\u001b[1m~\u001b[0m\n",
      "\u001b[1m~\u001b[0m\n",
      "\u001b[1m~\u001b[0m\n",
      "\u001b[1m~\u001b[0m\n",
      "\u001b[1m~\u001b[0m\n",
      "\u001b[1m~\u001b[0m\n",
      "\u001b[1m~\u001b[0m\n",
      "\u001b[1m~\u001b[0m\n",
      "\u001b[1m~\u001b[0m\n",
      "\u001b[1m~\u001b[0m\n",
      "\u001b[1m~\u001b[0m\n",
      "\u001b[1m~\u001b[0m\n",
      "\u001b[1m~\u001b[0m\n",
      "\u001b[K\u001b[?1l\u001b>make: Nothing to be done for 'himom.txt'.\n",
      "\u001b[?1h\u001b=\n",
      "\n",
      "\n",
      "\n",
      "\n",
      "\n",
      "\n",
      "\n",
      "\n",
      "\n",
      "\n",
      "\n",
      "\n",
      "\n",
      "\n",
      "\n",
      "\n",
      "\n",
      "\n",
      "\n",
      "\n",
      "\n",
      "\n",
      "\u001b[H\u001b[2J\u001b[H\u001b[H\u001b[2J\u001b[Hmake: Nothing to be done for 'hidad.txt'.\n",
      "\u001b[1m~\u001b[0m\n",
      "\u001b[1m~\u001b[0m\n",
      "\u001b[1m~\u001b[0m\n",
      "\u001b[1m~\u001b[0m\n",
      "\u001b[1m~\u001b[0m\n",
      "\u001b[1m~\u001b[0m\n",
      "\u001b[1m~\u001b[0m\n",
      "\u001b[1m~\u001b[0m\n",
      "\u001b[1m~\u001b[0m\n",
      "\u001b[1m~\u001b[0m\n",
      "\u001b[1m~\u001b[0m\n",
      "\u001b[1m~\u001b[0m\n",
      "\u001b[1m~\u001b[0m\n",
      "\u001b[1m~\u001b[0m\n",
      "\u001b[1m~\u001b[0m\n",
      "\u001b[1m~\u001b[0m\n",
      "\u001b[1m~\u001b[0m\n",
      "\u001b[1m~\u001b[0m\n",
      "\u001b[1m~\u001b[0m\n",
      "\u001b[1m~\u001b[0m\n",
      "\u001b[1m~\u001b[0m\n",
      "\u001b[1m~\u001b[0m\n",
      "\u001b[K\u001b[?1l\u001b>make: Nothing to be done for 'hidad.txt'.\n",
      "total XX    \n",
      "-rw-rw-r-- X user user X  X XX:XX hidad.txt\n",
      "-rw-rw-r-- X user user X  X XX:XX himom.txt\n",
      "-rw-rw-r-- X user user XX  X XX:XX _make.log\n",
      "-rw-rw-r-- X user user XX  X XX:XX _old_make.log\n",
      "drwxrwxr-x X user user XXXX  X XX:XX testfolder\n"
     ]
    }
   ],
   "source": [
    "## 1A) do-make\n",
    "rm -rf ./* > /dev/null\n",
    "mkdir testfolder\n",
    "echo \"Hi Mom!\" > himom.txt\n",
    "echo \"Hi Dad!\" > hidad.txt\n",
    "\n",
    "do-make \"himom.txt\"\n",
    "cat _make.log\n",
    "do-make \"hidad.txt\"\n",
    "cat _make.log\n",
    "\n",
    "ls -l | awk '!($6=\"\")' | testuser | testnum"
   ]
  },
  {
   "cell_type": "code",
   "execution_count": 10,
   "id": "2af584a8",
   "metadata": {},
   "outputs": [],
   "source": [
    "# ## TEST 2 - MERGING ALIASAS & FUNCTIONS\n",
    "\n",
    "# # $ man merge\n",
    "# #   merge [ options ] file1 file2 file3\n",
    "# #   merge  incorporates all changes that lead from file2 to file3 into file1.\n",
    "# # NOTE: merge -p mod-file1 original mod-file2 >| new-file\n",
    "# alias merge='echo \"do-merge MODFILE1 OLDFILE MODFILE2 > NEWFILE\"'\n",
    "# alias do-merge='/usr/bin/merge -p'\n",
    "# # note: version of merge usinf diff3 to specify diff program (shell wrapper with whitespace ignored)\n",
    "# alias diff3-merge='/usr/bin/diff3 --merge --text --diff-program=diff.sh'\n",
    "# ## TODO: --auto\n",
    "# function kdiff-merge() {\n",
    "#     if [ \"$3\" = \"\" ]; then\n",
    "#         echo \"usage: $0 changed1 old changed2 output\"\n",
    "#         return\n",
    "#     fi\n",
    "#     kdiff3 --merge --output \"$4\" \"$1\" \"$2\" \"$3\"\n",
    "# }"
   ]
  },
  {
   "cell_type": "code",
   "execution_count": 11,
   "id": "cd0c80db",
   "metadata": {},
   "outputs": [
    {
     "name": "stdout",
     "output_type": "stream",
     "text": [
      "do-merge MODFILE1 OLDFILE MODFILE2 > NEWFILE tf1.txt tf2.txt\n"
     ]
    }
   ],
   "source": [
    "# 2A) merge REPLACED BY do-merge \n",
    "\n",
    "## INITIAL FILES TO TEST THE ALIASES\n",
    "printf \"THIS IS THE 1ST FILE.\" > tf1.txt\n",
    "printf \"THIS IS THE 2ND FILE.\" > tf2.txt\n",
    "printf \"THIS IS THE 3RD FILE.\" > tf3.txt\n",
    "\n",
    "# MESSAGE SHOWN IF MERGE IS USED\n",
    "merge tf1.txt tf2.txt"
   ]
  },
  {
   "cell_type": "code",
   "execution_count": 12,
   "id": "c0c74f75",
   "metadata": {},
   "outputs": [],
   "source": [
    "# # 2B) do-merge (halts proces)\n",
    "# $ do-merge tf1.txt tf2.txt tf3.txt\n",
    "# | <<<<<<< tf1.txt\n",
    "# | THIS IS THE 1ST FILE.=======\n",
    "# | THIS IS THE 3RD FILE.>>>>>>> tf3.txt\n",
    "# | merge: warning: conflicts during merge\n"
   ]
  },
  {
   "cell_type": "code",
   "execution_count": 13,
   "id": "d6f37399",
   "metadata": {},
   "outputs": [],
   "source": [
    "# # 2C) diff3-merge (halts process)\n",
    "\n",
    "# $ diff3-merge tf1.txt tf2.txt tf3.txt -A\n",
    "# | <<<<<<< tf1.txt\n",
    "# | THIS IS THE 1ST FILE.||||||| tf2.txt\n",
    "# | THIS IS THE 2ND FILE.=======\n",
    "# | THIS IS THE 3RD FILE.>>>>>>> tf3.txt\n"
   ]
  },
  {
   "cell_type": "code",
   "execution_count": 14,
   "id": "b535f2eb",
   "metadata": {},
   "outputs": [],
   "source": [
    "# # 2D) kdiff-merge (opens kdiff window)\n",
    "# kdiff-merge tf1.txt tf.txt tf3.txt | testnum"
   ]
  },
  {
   "cell_type": "code",
   "execution_count": 15,
   "id": "761a2cd8",
   "metadata": {},
   "outputs": [
    {
     "name": "stdout",
     "output_type": "stream",
     "text": [
      "/usr/bin/python\n",
      "/tmp/test-unix-alias/test-2899/himom.txt\n",
      "./himom.txt\n"
     ]
    }
   ],
   "source": [
    "### TO FIX THE ERROR USE \"himom.txt\" --> himom.txt ###\n",
    "# which\n",
    "which python\n",
    "\n",
    "# 3A) full-dirname RETURNS THE FULL PATH OF THE FILE\n",
    "full-dirname himom.txt | testuser\n",
    "\n",
    "# 3B) base-name-with-dir RETURNS THE BASENAME INCLUDING dir\n",
    "basename-with-dir himom.txt"
   ]
  },
  {
   "cell_type": "code",
   "execution_count": 16,
   "id": "d792021b",
   "metadata": {},
   "outputs": [],
   "source": [
    "# ## 3C) rpm-extract IS USED FOR RED HAT BASED DISTROS (RHEL, Fedora) - NEED HELP\n",
    "\n",
    "# # ERROR V:\n",
    "# # $ rpm-extract himom.txt\n",
    "# # | argument is not an RPM package\n",
    "# # | cpio: premature end of archive"
   ]
  },
  {
   "cell_type": "code",
   "execution_count": 17,
   "id": "5cdac362",
   "metadata": {},
   "outputs": [],
   "source": [
    "## 4A) dump-url GIVES ERROR FOR BATSPP 2.1.X \n",
    "#dump-url https://www.example.com/"
   ]
  },
  {
   "cell_type": "code",
   "execution_count": 18,
   "id": "49da8c7e",
   "metadata": {},
   "outputs": [],
   "source": [
    "## 4B) gtime\n",
    "# ERROR - VI \n",
    "\n",
    "# $ gtime\n",
    "# | /usr/bin/time: missing program to run\n",
    "# | Try '/usr/bin/time --help' for more information"
   ]
  },
  {
   "cell_type": "code",
   "execution_count": 19,
   "id": "9bea16c5",
   "metadata": {},
   "outputs": [
    {
     "name": "stdout",
     "output_type": "stream",
     "text": [
      "VERSION_ID=\"XX.XX\"\n"
     ]
    }
   ],
   "source": [
    "## 4C) linux-version GIVES INFO ALL INFO ABOUT THE OS INSTALLED\n",
    "linux-version | grep VERSION_ID | testnum\n",
    "# os-release ALSO WORKS SAME AS linux-version"
   ]
  },
  {
   "cell_type": "code",
   "execution_count": 20,
   "id": "e0e10406",
   "metadata": {},
   "outputs": [
    {
     "name": "stdout",
     "output_type": "stream",
     "text": [
      "               total        used        free      shared  buff/cache   available\n",
      "Mem:         XXXXXXX     XXXXXXX      XXXXXX      XXXXXX     XXXXXXX      XXXXXX\n",
      "Swap:        XXXXXXX      XXXXXX     XXXXXXX\n",
      " XX:XX:XX up  X:XX,  X user,  load average: X.XX, X.XX, X.XX\n",
      "USER     TTY      FROM             LOGIN@   IDLE   JCPU   PCPU WHAT\n",
      "user    ttyX     :X               XX:XX    X:XXm  X:XX   X.XXs mate-session\n",
      "\n"
     ]
    }
   ],
   "source": [
    "## 4D) system-status - (Need a method to remove the session-name)\n",
    "system-status | testuser | testnum | tail -n +2 "
   ]
  },
  {
   "cell_type": "code",
   "execution_count": 21,
   "id": "28e700ce",
   "metadata": {},
   "outputs": [
    {
     "name": "stdout",
     "output_type": "stream",
     "text": [
      "X\n"
     ]
    }
   ],
   "source": [
    "apropos-command time | grep asctime | wc -l | testnum"
   ]
  },
  {
   "cell_type": "code",
   "execution_count": 22,
   "id": "e3e42a18",
   "metadata": {
    "scrolled": true
   },
   "outputs": [
    {
     "name": "stdout",
     "output_type": "stream",
     "text": [
      "Hi Dad!\n",
      "--------------------------------------------------------------------------------\n",
      "Hi\n",
      "Dad!\n"
     ]
    }
   ],
   "source": [
    "cat hidad.txt\n",
    "linebr\n",
    "split-tokens hidad.txt"
   ]
  },
  {
   "cell_type": "code",
   "execution_count": 23,
   "id": "73ea76b9",
   "metadata": {},
   "outputs": [
    {
     "name": "stdout",
     "output_type": "stream",
     "text": [
      "make:\n",
      "Nothing\n",
      "to\n",
      "be\n",
      "done\n",
      "for\n",
      "'himom.txt'.\n"
     ]
    }
   ],
   "source": [
    "# tokenize SPLITS THE CONTENTS IN SEVERAL LINES\n",
    "tokenize _old_make.log"
   ]
  },
  {
   "cell_type": "code",
   "execution_count": 24,
   "id": "0ee7e74e",
   "metadata": {},
   "outputs": [
    {
     "name": "stdout",
     "output_type": "stream",
     "text": [
      "This\n",
      "This"
     ]
    }
   ],
   "source": [
    "# perl-echo ONLY PRINTS OUT THE 1ST ARGUMENT\n",
    "PERL_PRINT='This is Ubuntu!'\n",
    "perl-echo $PERL_PRINT\n",
    "perl-echo-sans-newline $PERL_PRINT"
   ]
  },
  {
   "cell_type": "code",
   "execution_count": 25,
   "id": "a5d6b066",
   "metadata": {},
   "outputs": [
    {
     "name": "stdout",
     "output_type": "stream",
     "text": [
      "ONE KISS IS ALL IT TAKES\n",
      "2\n",
      "3\n",
      "5\n",
      "7\n",
      "11\n",
      "A B C D E F G\n",
      "\"HELP\" \"ME!\"\n"
     ]
    }
   ],
   "source": [
    "perl-printf 'ONE KISS IS ALL IT TAKES\\n'\n",
    "perl-print '2\\n3\\n5\\n7\\n11'\n",
    "perl-print-n 'A B C D E F G\\n'\n",
    "quote-tokens 'HELP ME!'"
   ]
  },
  {
   "cell_type": "code",
   "execution_count": 26,
   "id": "b4502821",
   "metadata": {},
   "outputs": [
    {
     "name": "stdout",
     "output_type": "stream",
     "text": [
      "localhost:X.X\n"
     ]
    }
   ],
   "source": [
    "# # 6A)\n",
    "# # Unix/Win32 networking aliases\n",
    "# if [ \"$OSTYPE\" != \"cygwin\" ]; then alias ipconfig=ifconfig; fi\n",
    "# alias set-display-local='export DISPLAY=localhost:0.0'\n",
    "\n",
    "set-display-local\n",
    "echo $DISPLAY | testnum"
   ]
  },
  {
   "cell_type": "code",
   "execution_count": 27,
   "id": "2919fe8f",
   "metadata": {},
   "outputs": [
    {
     "name": "stdout",
     "output_type": "stream",
     "text": [
      "--------------------------------------------------------------------------------\n",
      "start: Mon Dec  X XX:XX:XX PM +XXXX XXXX\n",
      "+ eval\n",
      "+ set - -o xtrace\n",
      "end: Mon Dec  X XX:XX:XX PM +XXXX XXXX\n",
      "--------------------------------------------------------------------------------\n",
      "start: Mon Dec  X XX:XX:XX PM +XXXX XXXX\n",
      "+ eval\n",
      "+ set - -o xtrace\n",
      "end: Mon Dec  X XX:XX:XX PM +XXXX XXXX\n"
     ]
    }
   ],
   "source": [
    "## Need a filter to sensor day and month\n",
    "## bash-trace-on ENABLES bash tracing\n",
    "bash-trace-on | testuser | testnum\n",
    "linebr\n",
    "## trace-cmd TRACES COMMANDS AND STATS (TIME) OF THE USER\n",
    "trace-cmd | testuser | testnum\n",
    "## bash-trace-on DISABLES bash tracing\n",
    "bash-trace-off | testuser | testnum\n",
    "linebr\n",
    "trace-cmd | testuser | testnum"
   ]
  },
  {
   "cell_type": "code",
   "execution_count": 28,
   "id": "46c78ac9",
   "metadata": {},
   "outputs": [],
   "source": [
    "# function cmd-usage () {\n",
    "#     local command=\"$@\";\n",
    "#     local usage_file=\"_$(echo \"$command\" | tr ' ' '_')-usage.list\"\n",
    "#     $command --help  2>&1 | ansifilter > \"$usage_file\"\n",
    "#     $PAGER_NOEXIT \"$usage_file\"\n",
    "# }"
   ]
  },
  {
   "cell_type": "code",
   "execution_count": 29,
   "id": "32d805f0",
   "metadata": {},
   "outputs": [],
   "source": [
    "# function compress-dir() {\n",
    "#     log_file=$TEMP/compress_$(basename \"$1\").log\n",
    "#     find \"$1\" \\( -not -type l \\) -exec gzip -vf {} \\; >| \"$log_file\" 2>&1 \n",
    "#     $PAGER \"$log_file\"\n",
    "# }\n",
    "\n",
    "# function uncompress-dir() {\n",
    "#     log_file=$TEMP/uncompress_$(basename \"$1\").log;\n",
    "#     find \"$1\" \\( -not -type l \\) \\( -not -name \\*.tar.gz \\) -exec gunzip -vf {} \\; >| \"$log_file\" 2>&1; $PAGER \"$log_file\";\n",
    "# }\n",
    "# alias compress-this-dir='compress-dir $PWD'\n",
    "# alias ununcompress-this-dir='uncompress-dir $PWD'"
   ]
  },
  {
   "cell_type": "code",
   "execution_count": 30,
   "id": "ef8e82ea",
   "metadata": {},
   "outputs": [],
   "source": [
    "## ERROR (PERMISSION DENIED - NEED TO OBSERVE)\n",
    "# $ ls\n",
    "# $ cp tf2.txt testfolder/\n",
    "# $ linebr\n",
    "# $ compress-this-dir ./testfolder\n",
    "# $ linebr\n",
    "# $ ls\n",
    "# $ linebr\n",
    "# $ ununcompress-this-dir ./testfolder"
   ]
  },
  {
   "cell_type": "code",
   "execution_count": 31,
   "id": "7b304e27",
   "metadata": {},
   "outputs": [],
   "source": [
    "# ## TEST 9B)\n",
    "\n",
    "# alias old-count-exts='$LS | count-it \"\\.[^.]*\\w\" | sort $SORT_COL2 -rn | $PAGER'\n",
    "# function count-exts () { $LS | count-it '\\.[^.]+$' | sort $SORT_COL2 -rn | $PAGER; }\n",
    "\n",
    "# alias kill-iceweasel='kill_em.sh iceweasel'"
   ]
  },
  {
   "cell_type": "code",
   "execution_count": 32,
   "id": "caa6e9af",
   "metadata": {},
   "outputs": [
    {
     "name": "stdout",
     "output_type": "stream",
     "text": [
      "pattern=/:[0-9][0-9] [^ ]*iceweasel/\n",
      "filter=/($)(^)/\n",
      "Warning: No processes matched the pattern\n"
     ]
    }
   ],
   "source": [
    "kill-iceweasel"
   ]
  },
  {
   "cell_type": "code",
   "execution_count": 33,
   "id": "b77a00b6",
   "metadata": {},
   "outputs": [],
   "source": [
    "# ERROR GENERATED: count-it NOT MENTIONED IN THIS TEST\n",
    "# $ old-count-exts\n",
    "# | bash: count-it: command not found\n",
    "\n",
    "# $ kill-iceweasel\n",
    "# | pattern=/:[0-9][0-9] [^ ]*iceweasel/\n",
    "# | filter=/($)(^)/\n",
    "# | OSTYPE: Undefined variable.\n",
    "\n",
    "#kill-iceweasel"
   ]
  },
  {
   "cell_type": "code",
   "execution_count": 34,
   "id": "1b9bea43",
   "metadata": {},
   "outputs": [],
   "source": [
    "## cmd-usage (HELP REQUIRED | HALTS PROCESS)"
   ]
  },
  {
   "cell_type": "code",
   "execution_count": 35,
   "id": "c87c3dce",
   "metadata": {},
   "outputs": [
    {
     "name": "stdout",
     "output_type": "stream",
     "text": [
      "Done!\n"
     ]
    }
   ],
   "source": [
    "echo \"Done!\""
   ]
  },
  {
   "cell_type": "code",
   "execution_count": null,
   "id": "a2449b2f",
   "metadata": {},
   "outputs": [],
   "source": []
  }
 ],
 "metadata": {
  "kernelspec": {
   "display_name": "Bash",
   "language": "bash",
   "name": "bash"
  },
  "language_info": {
   "codemirror_mode": "shell",
   "file_extension": ".sh",
   "mimetype": "text/x-sh",
   "name": "bash"
  }
 },
 "nbformat": 4,
 "nbformat_minor": 5
}
