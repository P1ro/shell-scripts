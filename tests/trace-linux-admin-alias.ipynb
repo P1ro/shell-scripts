{
 "cells": [
  {
   "cell_type": "code",
   "execution_count": 1,
   "id": "6dcea75d",
   "metadata": {},
   "outputs": [],
   "source": [
    "## THIS TEST REQUIRES ROOT PERMISSION FOR JUPYTER\n",
    "# $ jupyter notebook --allow-root\n",
    "\n",
    "## Bracketed Paste is disabled to prevent characters after output\n",
    "## Example: \n",
    "# $ echo 'Hi'\n",
    "# | Hi?2004l\n",
    "\n",
    "bind 'set enable-bracketed-paste off'"
   ]
  },
  {
   "cell_type": "code",
   "execution_count": 2,
   "id": "65d43538",
   "metadata": {},
   "outputs": [
    {
     "name": "stdout",
     "output_type": "stream",
     "text": [
      "[PEXP\\[\\]ECT_PROMPT>\n"
     ]
    }
   ],
   "source": [
    "## TEST:  Make sure simple prompt used (e.g., no escapes that might contaminate output)\n",
    "## PS1=\"$ \"\n",
    "## TODO: PS1=\"> \"\n",
    "\n",
    "## NOTE: The Jupyter bash kernel requires that PS1 not be modified as they customize it. \n",
    "echo $PS1"
   ]
  },
  {
   "cell_type": "code",
   "execution_count": 3,
   "id": "d623c9a9",
   "metadata": {},
   "outputs": [
    {
     "name": "stdout",
     "output_type": "stream",
     "text": [
      "0\n",
      "0\n"
     ]
    }
   ],
   "source": [
    "# Delete all aliases and function\n",
    "# TODO: Instead start from pristine environment\n",
    "unalias -a\n",
    "alias | wc -l\n",
    "for f in $(typeset -f | egrep '^\\w+'); do unset -f $f; done\n",
    "typeset -f | egrep '^\\w+' | wc -l"
   ]
  },
  {
   "cell_type": "code",
   "execution_count": 4,
   "id": "0ff8f157",
   "metadata": {},
   "outputs": [
    {
     "name": "stdout",
     "output_type": "stream",
     "text": [
      "0\n"
     ]
    }
   ],
   "source": [
    "# Setting a temp directory for tests\n",
    "TMP=/tmp/test-admin-commands\n",
    "\n",
    "## NOTE: Source it directly from the ./tests directory.\n",
    "BIN_DIR=$PWD/..\n",
    "\n",
    "alias | wc -l"
   ]
  },
  {
   "cell_type": "code",
   "execution_count": 5,
   "id": "ab954c7f",
   "metadata": {},
   "outputs": [
    {
     "name": "stdout",
     "output_type": "stream",
     "text": [
      "/tmp/test-admin-commands/test-3245\n"
     ]
    }
   ],
   "source": [
    "## NOTE: For reproducability, the directory name needs to be fixed\n",
    "## In place of $$, use a psuedo random number (e,g., 3245)\n",
    "## *** All output from one run to the next needs to be the same ***\n",
    "\n",
    "## temp_dir=$TMP/test-$$\n",
    "temp_dir=$TMP/test-3245\n",
    "\n",
    "mkdir -p \"$temp_dir\"\n",
    "# TODO: /bin/rm -rvf \"$temp_dir\"\n",
    "cd \"$temp_dir\"\n",
    "pwd\n",
    "\n",
    "#ALIAS FOR PRINTING SEPERATION LINES (FOR JUPYTER)\n",
    "alias linebr=\"printf '%*s\\n' \"${COLUMNS:-$(tput cols)}\" '' | tr ' ' -\""
   ]
  },
  {
   "cell_type": "code",
   "execution_count": 6,
   "id": "ec6df159",
   "metadata": {},
   "outputs": [
    {
     "name": "stdout",
     "output_type": "stream",
     "text": [
      "1\n",
      "0\n"
     ]
    }
   ],
   "source": [
    "# Count aliases proper\n",
    "alias | wc -l\n",
    "# Count functions\n",
    "typeset -f | egrep '^\\w+' | wc -l"
   ]
  },
  {
   "cell_type": "code",
   "execution_count": 7,
   "id": "c7ea3021",
   "metadata": {},
   "outputs": [],
   "source": [
    "# TEST 1 - SOFTWARE CONTROL ALIASES\n",
    "# NOTE: sudo is revoked from each alias (e.g. alias apt-uninstall = \"sudo apt-get remove\")\n",
    "\n",
    "alias apt-install='apt-get install --yes --fix-missing --no-remove'\n",
    "alias apt-search='apt-cache search'\n",
    "alias apt-installed='apt list --installed'\n",
    "alias apt-uninstall='apt-get remove'\n",
    "alias dpkg-install='dpkg --install '"
   ]
  },
  {
   "cell_type": "code",
   "execution_count": 8,
   "id": "2dd529ee",
   "metadata": {},
   "outputs": [
    {
     "name": "stdout",
     "output_type": "stream",
     "text": [
      "Listing... Done\n",
      "\u001b[32mipython3\u001b[0m/jammy,jammy,now 7.31.1-1 all [installed]\n",
      "\u001b[32mlibpython3-dev\u001b[0m/jammy-updates,now 3.10.6-1~22.04 amd64 [installed,automatic]\n",
      "\u001b[32mlibpython3-stdlib\u001b[0m/jammy-updates,now 3.10.6-1~22.04 amd64 [installed,automatic]\n",
      "\u001b[32mlibpython3.10-dev\u001b[0m/jammy-updates,now 3.10.6-1~22.04 amd64 [installed,automatic]\n",
      "\u001b[32mlibpython3.10-minimal\u001b[0m/jammy-updates,now 3.10.6-1~22.04 amd64 [installed,automatic]\n",
      "\u001b[32mlibpython3.10-stdlib\u001b[0m/jammy-updates,now 3.10.6-1~22.04 amd64 [installed,automatic]\n",
      "\u001b[32mlibpython3.10\u001b[0m/jammy-updates,now 3.10.6-1~22.04 amd64 [installed,automatic]\n",
      "\u001b[32mpython-is-python3\u001b[0m/jammy,jammy,now 3.9.2-2 all [installed]\n",
      "\u001b[32mpython3-anyio\u001b[0m/jammy,jammy,now 3.5.0-3ubuntu2 all [installed,automatic]\n",
      "\u001b[32mpython3-appdirs\u001b[0m/jammy,jammy,now 1.4.4-2 all [installed,automatic]\n",
      "\u001b[32mpython3-apport\u001b[0m/jammy-updates,jammy-updates,jammy-security,jammy-security,now 2.20.11-0ubuntu82.1 all [installed,automatic]\n",
      "\u001b[32mpython3-apt\u001b[0m/jammy-updates,now 2.3.0ubuntu2.1 amd64 [installed,automatic]\n",
      "\u001b[32mpython3-aptdaemon.gtk3widgets\u001b[0m/jammy,jammy,now 1.1.1+bzr982-0ubuntu39 all [installed]\n",
      "\u001b[32mpython3-aptdaemon\u001b[0m/jammy,jammy,now 1.1.1+bzr982-0ubuntu39 all [installed,automatic]\n",
      "\u001b[32mpython3-argon2\u001b[0m/jammy,now 21.1.0-1 amd64 [installed,automatic]\n",
      "\u001b[32mpython3-astroid\u001b[0m/jammy,jammy,now 2.9.3-1 all [installed,automatic]\n",
      "\u001b[32mpython3-attr\u001b[0m/jammy,jammy,now 21.2.0-1 all [installed,automatic]\n",
      "\u001b[32mpython3-babel\u001b[0m/jammy,jammy,now 2.8.0+dfsg.1-7 all [installed,automatic]\n",
      "\u001b[32mpython3-backcall\u001b[0m/jammy,jammy,now 0.2.0-2 all [installed,automatic]\n",
      "\u001b[32mpython3-beniget\u001b[0m/jammy,jammy,now 0.4.1-2 all [installed,automatic]\n",
      "\u001b[32mpython3-bleach\u001b[0m/jammy,jammy,now 4.1.0-1 all [installed,automatic]\n",
      "\u001b[32mpython3-blinker\u001b[0m/jammy,jammy,now 1.4+dfsg1-0.4 all [installed,automatic]\n",
      "\u001b[32mpython3-brlapi\u001b[0m/jammy-updates,now 6.4-4ubuntu3 amd64 [installed,automatic]\n",
      "\u001b[32mpython3-brotli\u001b[0m/jammy,now 1.0.9-2build6 amd64 [installed,automatic]\n",
      "\u001b[32mpython3-bs4\u001b[0m/jammy,jammy,now 4.10.0-2 all [installed,automatic]\n",
      "\u001b[32mpython3-cairo\u001b[0m/jammy,now 1.20.1-3build1 amd64 [installed,automatic]\n",
      "\u001b[32mpython3-caja\u001b[0m/jammy,now 1.26.0-1 amd64 [installed,automatic]\n",
      "\u001b[32mpython3-certifi\u001b[0m/jammy,jammy,now 2020.6.20-1 all [installed,automatic]\n",
      "\u001b[32mpython3-cffi-backend\u001b[0m/jammy,now 1.15.0-1build2 amd64 [installed,automatic]\n",
      "\u001b[32mpython3-chardet\u001b[0m/jammy,jammy,now 4.0.0-1 all [installed,automatic]\n",
      "\u001b[32mpython3-charset-normalizer\u001b[0m/jammy,jammy,now 2.0.6-2 all [installed,automatic]\n",
      "\u001b[32mpython3-click\u001b[0m/jammy,jammy,now 8.0.3-1 all [installed,automatic]\n",
      "\u001b[32mpython3-colorama\u001b[0m/jammy,jammy,now 0.4.4-1 all [installed,automatic]\n",
      "\u001b[32mpython3-commandnotfound\u001b[0m/jammy,jammy,now 22.04.0 all [installed,automatic]\n",
      "\u001b[32mpython3-commonmark\u001b[0m/jammy,jammy,now 0.9.1-3 all [installed,automatic]\n",
      "\u001b[32mpython3-cov-core\u001b[0m/jammy,jammy,now 1.15.0-3build1 all [installed,automatic]\n",
      "\u001b[32mpython3-coverage\u001b[0m/jammy,now 6.2+dfsg1-2build1 amd64 [installed,automatic]\n",
      "\u001b[32mpython3-cryptography\u001b[0m/jammy,now 3.4.8-1ubuntu2 amd64 [installed,automatic]\n",
      "\u001b[32mpython3-cups\u001b[0m/jammy,now 2.0.1-5build1 amd64 [installed,automatic]\n",
      "\u001b[32mpython3-cupshelpers\u001b[0m/jammy,jammy,now 1.5.16-0ubuntu3 all [installed,automatic]\n",
      "\u001b[32mpython3-cycler\u001b[0m/jammy,jammy,now 0.11.0-1 all [installed,automatic]\n",
      "\u001b[32mpython3-dateutil\u001b[0m/jammy,jammy,now 2.8.1-6 all [installed,automatic]\n",
      "\u001b[32mpython3-dbus\u001b[0m/jammy,now 1.2.18-3build1 amd64 [installed,automatic]\n",
      "\u001b[32mpython3-debconf\u001b[0m/jammy,jammy,now 1.5.79ubuntu1 all [installed,automatic]\n",
      "\u001b[32mpython3-debian\u001b[0m/jammy,jammy,now 0.1.43ubuntu1 all [installed,automatic]\n",
      "\u001b[32mpython3-decorator\u001b[0m/jammy,jammy,now 4.4.2-0ubuntu1 all [installed,automatic]\n",
      "\u001b[32mpython3-defer\u001b[0m/jammy,jammy,now 1.0.6-2.1ubuntu1 all [installed,automatic]\n",
      "\u001b[32mpython3-defusedxml\u001b[0m/jammy,jammy,now 0.7.1-1 all [installed,automatic]\n",
      "\u001b[32mpython3-dev\u001b[0m/jammy-updates,now 3.10.6-1~22.04 amd64 [installed,automatic]\n",
      "\u001b[32mpython3-distro-info\u001b[0m/jammy,jammy,now 1.1build1 all [installed,automatic]\n",
      "\u001b[32mpython3-distro\u001b[0m/jammy,jammy,now 1.7.0-1 all [installed,automatic]\n",
      "\u001b[32mpython3-distupgrade\u001b[0m/jammy-updates,jammy-updates,now 1:22.04.14 all [installed,automatic]\n",
      "\u001b[32mpython3-distutils\u001b[0m/jammy-updates,jammy-updates,now 3.10.6-1~22.04 all [installed,automatic]\n",
      "\u001b[32mpython3-entrypoints\u001b[0m/jammy,jammy,now 0.4-1 all [installed,automatic]\n",
      "\u001b[32mpython3-ewmh\u001b[0m/jammy,jammy,now 0.1.6-2 all [installed,automatic]\n",
      "\u001b[32mpython3-execnet\u001b[0m/jammy,jammy,now 1.9.0-1 all [installed,automatic]\n",
      "\u001b[32mpython3-flake8\u001b[0m/jammy,jammy,now 4.0.1-2 all [installed,automatic]\n",
      "\u001b[32mpython3-fonttools\u001b[0m/jammy,now 4.29.1-2build1 amd64 [installed,automatic]\n",
      "\u001b[32mpython3-fs\u001b[0m/jammy,jammy,now 2.4.12-1 all [installed,automatic]\n",
      "\u001b[32mpython3-gast\u001b[0m/jammy,jammy,now 0.5.2-2 all [installed,automatic]\n",
      "\u001b[32mpython3-gdbm\u001b[0m/jammy-updates,now 3.10.6-1~22.04 amd64 [installed,automatic]\n",
      "\u001b[32mpython3-gi-cairo\u001b[0m/jammy-updates,now 3.42.1-0ubuntu1 amd64 [installed,automatic]\n",
      "\u001b[32mpython3-gi\u001b[0m/jammy-updates,now 3.42.1-0ubuntu1 amd64 [installed,automatic]\n",
      "\u001b[32mpython3-gpg\u001b[0m/jammy,now 1.16.0-1.2ubuntu4 amd64 [installed,automatic]\n",
      "\u001b[32mpython3-greenlet\u001b[0m/jammy,now 1.1.2-3build1 amd64 [installed,automatic]\n",
      "\u001b[32mpython3-h11\u001b[0m/jammy,jammy,now 0.13.0-1 all [installed,automatic]\n",
      "\u001b[32mpython3-html5lib\u001b[0m/jammy,jammy,now 1.1-3 all [installed,automatic]\n",
      "\u001b[32mpython3-httpcore\u001b[0m/jammy,jammy,now 0.14.5-1 all [installed,automatic]\n",
      "\u001b[32mpython3-httplib2\u001b[0m/jammy,jammy,now 0.20.2-2 all [installed,automatic]\n",
      "\u001b[32mpython3-httpx\u001b[0m/jammy,jammy,now 0.22.0-1 all [installed,automatic]\n",
      "\u001b[32mpython3-idna\u001b[0m/jammy,jammy,now 3.3-1 all [installed,automatic]\n",
      "\u001b[32mpython3-importlib-metadata\u001b[0m/jammy,jammy,now 4.6.4-1 all [installed,automatic]\n",
      "\u001b[32mpython3-iniconfig\u001b[0m/jammy,jammy,now 1.1.1-2 all [installed,automatic]\n",
      "\u001b[32mpython3-ipykernel\u001b[0m/jammy,jammy,now 6.7.0-1 all [installed,automatic]\n",
      "\u001b[32mpython3-ipython-genutils\u001b[0m/jammy,jammy,now 0.2.0-5 all [installed,automatic]\n",
      "\u001b[32mpython3-ipython\u001b[0m/jammy,jammy,now 7.31.1-1 all [installed,automatic]\n",
      "\u001b[32mpython3-ipywidgets\u001b[0m/jammy,jammy,now 6.0.0-9 all [installed,automatic]\n",
      "\u001b[32mpython3-isort\u001b[0m/jammy,jammy,now 5.6.4-1 all [installed,automatic]\n",
      "\u001b[32mpython3-jedi\u001b[0m/jammy,jammy,now 0.18.0-1 all [installed,automatic]\n",
      "\u001b[32mpython3-jeepney\u001b[0m/jammy,jammy,now 0.7.1-3 all [installed,automatic]\n",
      "\u001b[32mpython3-jinja2\u001b[0m/jammy,jammy,now 3.0.3-1 all [installed,automatic]\n",
      "\u001b[32mpython3-jsonschema\u001b[0m/jammy,jammy,now 3.2.0-0ubuntu2 all [installed,automatic]\n",
      "\u001b[32mpython3-jupyter-client\u001b[0m/jammy,jammy,now 7.1.2-1 all [installed,automatic]\n",
      "\u001b[32mpython3-jupyter-core\u001b[0m/jammy,jammy,now 4.9.1-1 all [installed,automatic]\n",
      "\u001b[32mpython3-jupyterlab-pygments\u001b[0m/jammy,jammy,now 0.1.2-8 all [installed,automatic]\n",
      "\u001b[32mpython3-jwt\u001b[0m/jammy-updates,jammy-updates,jammy-security,jammy-security,now 2.3.0-1ubuntu0.2 all [installed,automatic]\n",
      "\u001b[32mpython3-keyring\u001b[0m/jammy,jammy,now 23.5.0-1 all [installed,automatic]\n",
      "\u001b[32mpython3-kiwisolver\u001b[0m/jammy,now 1.3.2-1build1 amd64 [installed,automatic]\n",
      "\u001b[32mpython3-launchpadlib\u001b[0m/jammy,jammy,now 1.10.16-1 all [installed,automatic]\n",
      "\u001b[32mpython3-lazr.restfulclient\u001b[0m/jammy,jammy,now 0.14.4-1 all [installed,automatic]\n",
      "\u001b[32mpython3-lazr.uri\u001b[0m/jammy,jammy,now 1.0.6-2 all [installed,automatic]\n",
      "\u001b[32mpython3-lazy-object-proxy\u001b[0m/jammy,now 1.7.1-1build1 amd64 [installed,automatic]\n",
      "\u001b[32mpython3-ldb\u001b[0m/jammy-updates,jammy-security,now 2:2.4.4-0ubuntu0.1 amd64 [installed,automatic]\n",
      "\u001b[32mpython3-lib2to3\u001b[0m/jammy-updates,jammy-updates,now 3.10.6-1~22.04 all [installed,automatic]\n",
      "\u001b[32mpython3-livereload\u001b[0m/jammy,jammy,now 2.6.3-2 all [installed,automatic]\n",
      "\u001b[32mpython3-logilab-common\u001b[0m/jammy,jammy,now 1.8.2-1 all [installed,automatic]\n",
      "\u001b[32mpython3-louis\u001b[0m/jammy-updates,jammy-updates,jammy-security,jammy-security,now 3.20.0-2ubuntu0.1 all [installed,automatic]\n",
      "\u001b[32mpython3-lxml\u001b[0m/jammy,now 4.8.0-1build1 amd64 [installed,automatic]\n",
      "\u001b[32mpython3-lz4\u001b[0m/jammy,now 3.1.3+dfsg-1build3 amd64 [installed,automatic]\n",
      "\u001b[32mpython3-mako\u001b[0m/jammy-updates,jammy-updates,jammy-security,jammy-security,now 1.1.3+ds1-2ubuntu0.1 all [installed,automatic]\n",
      "\u001b[32mpython3-markdown\u001b[0m/jammy,jammy,now 3.3.6-1 all [installed,automatic]\n"
     ]
    },
    {
     "name": "stdout",
     "output_type": "stream",
     "text": [
      "\u001b[32mpython3-markupsafe\u001b[0m/jammy,now 2.0.1-2build1 amd64 [installed,automatic]\n",
      "\u001b[32mpython3-matplotlib-inline\u001b[0m/jammy,jammy,now 0.1.3-1 all [installed,automatic]\n",
      "\u001b[32mpython3-matplotlib\u001b[0m/jammy,now 3.5.1-2build1 amd64 [installed,automatic]\n",
      "\u001b[32mpython3-mccabe\u001b[0m/jammy,jammy,now 0.6.1-3 all [installed,automatic]\n",
      "\u001b[32mpython3-mediainfodll\u001b[0m/jammy,jammy,now 21.09+dfsg-4 all [installed,automatic]\n",
      "\u001b[32mpython3-minimal\u001b[0m/jammy-updates,now 3.10.6-1~22.04 amd64 [installed,automatic]\n",
      "\u001b[32mpython3-more-itertools\u001b[0m/jammy,jammy,now 8.10.0-2 all [installed,automatic]\n",
      "\u001b[32mpython3-mpmath\u001b[0m/jammy,jammy,now 1.2.1-2 all [installed,automatic]\n",
      "\u001b[32mpython3-msgpack\u001b[0m/jammy,now 1.0.3-1build1 amd64 [installed,automatic]\n",
      "\u001b[32mpython3-mypy-extensions\u001b[0m/jammy,jammy,now 0.4.3-2 all [installed,automatic]\n",
      "\u001b[32mpython3-mypy\u001b[0m/jammy-updates,now 0.942-1ubuntu1 amd64 [installed,automatic]\n",
      "\u001b[32mpython3-nbclient\u001b[0m/jammy,jammy,now 0.5.6-2 all [installed,automatic]\n",
      "\u001b[32mpython3-nbconvert\u001b[0m/jammy,jammy,now 6.4.0-1 all [installed,automatic]\n",
      "\u001b[32mpython3-nbformat\u001b[0m/jammy,jammy,now 5.1.3-1 all [installed,automatic]\n",
      "\u001b[32mpython3-nest-asyncio\u001b[0m/jammy,jammy,now 1.5.4-1 all [installed,automatic]\n",
      "\u001b[32mpython3-netifaces\u001b[0m/jammy,now 0.11.0-1build2 amd64 [installed,automatic]\n",
      "\u001b[32mpython3-nose2\u001b[0m/jammy,jammy,now 0.9.2-1 all [installed,automatic]\n",
      "\u001b[32mpython3-notebook\u001b[0m/jammy-updates,jammy-updates,jammy-security,jammy-security,now 6.4.8-1ubuntu0.1 all [installed,automatic]\n",
      "\u001b[32mpython3-numpy\u001b[0m/jammy,now 1:1.21.5-1build2 amd64 [installed,automatic]\n",
      "\u001b[32mpython3-oauthlib\u001b[0m/jammy-updates,jammy-updates,jammy-security,jammy-security,now 3.2.0-1ubuntu0.1 all [installed,automatic]\n",
      "\u001b[32mpython3-olefile\u001b[0m/jammy,jammy,now 0.46-3 all [installed,automatic]\n",
      "\u001b[32mpython3-packaging\u001b[0m/jammy,jammy,now 21.3-1 all [installed,automatic]\n",
      "\u001b[32mpython3-pandocfilters\u001b[0m/jammy,jammy,now 1.5.0-1 all [installed,automatic]\n",
      "\u001b[32mpython3-parso\u001b[0m/jammy,jammy,now 0.8.1-1 all [installed,automatic]\n",
      "\u001b[32mpython3-pathspec\u001b[0m/jammy,jammy,now 0.9.0-1 all [installed,automatic]\n",
      "\u001b[32mpython3-pexpect\u001b[0m/jammy,jammy,now 4.8.0-2ubuntu1 all [installed,automatic]\n",
      "\u001b[32mpython3-pickleshare\u001b[0m/jammy,jammy,now 0.7.5-5 all [installed,automatic]\n",
      "\u001b[32mpython3-pil.imagetk\u001b[0m/jammy,now 9.0.1-1build1 amd64 [installed,automatic]\n",
      "\u001b[32mpython3-pil\u001b[0m/jammy,now 9.0.1-1build1 amd64 [installed,automatic]\n",
      "\u001b[32mpython3-pip\u001b[0m/jammy,jammy,now 22.0.2+dfsg-1 all [installed]\n",
      "\u001b[32mpython3-pkg-resources\u001b[0m/jammy,jammy,now 59.6.0-1.2 all [installed,automatic]\n",
      "\u001b[32mpython3-platformdirs\u001b[0m/jammy,jammy,now 2.5.1-1 all [installed,automatic]\n",
      "\u001b[32mpython3-pluggy\u001b[0m/jammy,jammy,now 0.13.0-7.1 all [installed,automatic]\n",
      "\u001b[32mpython3-ply\u001b[0m/jammy,jammy,now 3.11-5 all [installed,automatic]\n",
      "\u001b[32mpython3-problem-report\u001b[0m/jammy-updates,jammy-updates,jammy-security,jammy-security,now 2.20.11-0ubuntu82.1 all [installed,automatic]\n",
      "\u001b[32mpython3-prometheus-client\u001b[0m/jammy,jammy,now 0.9.0-1 all [installed,automatic]\n",
      "\u001b[32mpython3-prompt-toolkit\u001b[0m/jammy,jammy,now 3.0.28-1 all [installed,automatic]\n",
      "\u001b[32mpython3-psutil\u001b[0m/jammy,now 5.9.0-1build1 amd64 [installed,automatic]\n",
      "\u001b[32mpython3-ptyprocess\u001b[0m/jammy,jammy,now 0.7.0-3 all [installed,automatic]\n",
      "\u001b[32mpython3-py\u001b[0m/jammy,jammy,now 1.10.0-1 all [installed,automatic]\n",
      "\u001b[32mpython3-pyatspi\u001b[0m/jammy,jammy,now 2.38.2-1 all [installed,automatic]\n",
      "\u001b[32mpython3-pycodestyle\u001b[0m/jammy,jammy,now 2.8.0-2 all [installed,automatic]\n",
      "\u001b[32mpython3-pycryptodome\u001b[0m/jammy,now 3.11.0+dfsg1-3build1 amd64 [installed,auto-removable]\n",
      "\u001b[32mpython3-pyflakes\u001b[0m/jammy,jammy,now 2.4.0-2 all [installed,automatic]\n",
      "\u001b[32mpython3-pygments\u001b[0m/jammy,jammy,now 2.11.2+dfsg-2 all [installed,automatic]\n",
      "\u001b[32mpython3-pyinotify\u001b[0m/jammy,jammy,now 0.9.6-1.3 all [installed,automatic]\n",
      "\u001b[32mpython3-pynvim\u001b[0m/jammy,jammy,now 0.4.2-1 all [installed,automatic]\n",
      "\u001b[32mpython3-pyparsing\u001b[0m/jammy,jammy,now 2.4.7-1 all [installed,automatic]\n",
      "\u001b[32mpython3-pyrsistent\u001b[0m/jammy,now 0.18.1-1build1 amd64 [installed,automatic]\n",
      "\u001b[32mpython3-pytest-cov\u001b[0m/jammy,jammy,now 3.0.0-1 all [installed,automatic]\n",
      "\u001b[32mpython3-pytest-forked\u001b[0m/jammy,jammy,now 1.4.0-1 all [installed,automatic]\n",
      "\u001b[32mpython3-pytest-sugar\u001b[0m/jammy,jammy,now 0.9.4-1ubuntu1 all [installed,automatic]\n",
      "\u001b[32mpython3-pytest-xdist\u001b[0m/jammy,jammy,now 2.5.0-1 all [installed,automatic]\n",
      "\u001b[32mpython3-pytest\u001b[0m/jammy,jammy,now 6.2.5-1ubuntu2 all [installed,automatic]\n",
      "\u001b[32mpython3-pythran\u001b[0m/jammy,now 0.10.0+ds2-1 amd64 [installed,automatic]\n",
      "\u001b[32mpython3-pyxattr\u001b[0m/jammy,now 0.7.2-2ubuntu2 amd64 [installed,auto-removable]\n",
      "\u001b[32mpython3-renderpm\u001b[0m/jammy,now 3.6.8-1 amd64 [installed,automatic]\n",
      "\u001b[32mpython3-reportlab-accel\u001b[0m/jammy,now 3.6.8-1 amd64 [installed,automatic]\n",
      "\u001b[32mpython3-reportlab\u001b[0m/jammy,jammy,now 3.6.8-1 all [installed,automatic]\n",
      "\u001b[32mpython3-rfc3986\u001b[0m/jammy,jammy,now 1.5.0-2 all [installed,automatic]\n",
      "\u001b[32mpython3-rich\u001b[0m/jammy,jammy,now 11.2.0-1 all [installed,automatic]\n",
      "\u001b[32mpython3-samba\u001b[0m/jammy-updates,jammy-security,now 2:4.15.9+dfsg-0ubuntu0.2 amd64 [installed,automatic]\n",
      "\u001b[32mpython3-scipy\u001b[0m/jammy,now 1.8.0-1exp2ubuntu1 amd64 [installed,automatic]\n",
      "\u001b[32mpython3-secretstorage\u001b[0m/jammy,jammy,now 3.3.1-1 all [installed,automatic]\n",
      "\u001b[32mpython3-send2trash\u001b[0m/jammy,jammy,now 1.8.1~b0-1 all [installed,automatic]\n",
      "\u001b[32mpython3-setproctitle\u001b[0m/jammy,now 1.2.2-2build1 amd64 [installed,automatic]\n",
      "\u001b[32mpython3-setuptools\u001b[0m/jammy,jammy,now 59.6.0-1.2 all [installed,automatic]\n",
      "\u001b[32mpython3-shellingham\u001b[0m/jammy,jammy,now 1.4.0-1 all [installed,automatic]\n",
      "\u001b[32mpython3-six\u001b[0m/jammy,jammy,now 1.16.0-3ubuntu1 all [installed,automatic]\n",
      "\u001b[32mpython3-sniffio\u001b[0m/jammy,jammy,now 1.2.0-1 all [installed,automatic]\n",
      "\u001b[32mpython3-socksio\u001b[0m/jammy-backports,jammy-backports,now 1.0.0-2~bpo22.04.1 all [installed,automatic]\n",
      "\u001b[32mpython3-software-properties\u001b[0m/jammy-updates,jammy-updates,now 0.99.22.3 all [installed,automatic]\n",
      "\u001b[32mpython3-soupsieve\u001b[0m/jammy,jammy,now 2.3.1-1 all [installed,automatic]\n",
      "\u001b[32mpython3-speechd\u001b[0m/jammy-updates,jammy-updates,now 0.11.1-1ubuntu2 all [installed,automatic]\n",
      "\u001b[32mpython3-sympy\u001b[0m/jammy,jammy,now 1.9-1 all [installed,automatic]\n",
      "\u001b[32mpython3-systemd\u001b[0m/jammy,now 234-3ubuntu2 amd64 [installed,automatic]\n",
      "\u001b[32mpython3-talloc\u001b[0m/jammy,now 2.3.3-2build1 amd64 [installed,automatic]\n",
      "\u001b[32mpython3-tdb\u001b[0m/jammy,now 1.4.5-2build1 amd64 [installed,automatic]\n",
      "\u001b[32mpython3-termcolor\u001b[0m/jammy,jammy,now 1.1.0-3 all [installed,automatic]\n",
      "\u001b[32mpython3-terminado\u001b[0m/jammy,jammy,now 0.13.1-1 all [installed,automatic]\n",
      "\u001b[32mpython3-testpath\u001b[0m/jammy,jammy,now 0.5.0+dfsg-1 all [installed,automatic]\n",
      "\u001b[32mpython3-tk\u001b[0m/jammy-updates,now 3.10.6-1~22.04 amd64 [installed,automatic]\n",
      "\u001b[32mpython3-toml\u001b[0m/jammy,jammy,now 0.10.2-1 all [installed,automatic]\n",
      "\u001b[32mpython3-tomli\u001b[0m/jammy,jammy,now 1.2.2-2 all [installed,automatic]\n",
      "\u001b[32mpython3-tornado\u001b[0m/jammy,now 6.1.0-3build1 amd64 [installed,automatic]\n",
      "\u001b[32mpython3-traitlets\u001b[0m/jammy,jammy,now 5.1.1-1 all [installed,automatic]\n",
      "\u001b[32mpython3-typed-ast\u001b[0m/jammy,now 1.4.3-1build1 amd64 [installed,automatic]\n",
      "\u001b[32mpython3-typer\u001b[0m/jammy,jammy,now 0.4.0-1 all [installed,automatic]\n",
      "\u001b[32mpython3-typing-extensions\u001b[0m/jammy,jammy,now 3.10.0.2-1 all [installed,automatic]\n",
      "\u001b[32mpython3-tz\u001b[0m/jammy,jammy,now 2022.1-1 all [installed,automatic]\n",
      "\u001b[32mpython3-ufolib2\u001b[0m/jammy,jammy,now 0.13.1+dfsg1-1 all [installed,automatic]\n",
      "\u001b[32mpython3-unicodedata2\u001b[0m/jammy,now 14.0.0+ds-8 amd64 [installed,automatic]\n",
      "\u001b[32mpython3-update-manager\u001b[0m/jammy,jammy,now 1:22.04.9 all [installed,automatic]\n",
      "\u001b[32mpython3-wadllib\u001b[0m/jammy,jammy,now 1.3.6-1 all [installed,automatic]\n",
      "\u001b[32mpython3-wcwidth\u001b[0m/jammy,jammy,now 0.2.5+dfsg1-1 all [installed,automatic]\n",
      "\u001b[32mpython3-webencodings\u001b[0m/jammy,jammy,now 0.5.1-4 all [installed,automatic]\n",
      "\u001b[32mpython3-wheel\u001b[0m/jammy,jammy,now 0.37.1-2 all [installed,automatic]\n",
      "\u001b[32mpython3-widgetsnbextension\u001b[0m/jammy,jammy,now 6.0.0-9 all [installed,automatic]\n",
      "\u001b[32mpython3-wrapt\u001b[0m/jammy,now 1.13.3-1build1 amd64 [installed,automatic]\n",
      "\u001b[32mpython3-xdg\u001b[0m/jammy,jammy,now 0.27-2 all [installed,automatic]\n",
      "\u001b[32mpython3-xkit\u001b[0m/jammy,jammy,now 0.5.0ubuntu5 all [installed,automatic]\n",
      "\u001b[32mpython3-xlib\u001b[0m/jammy,jammy,now 0.29-1 all [installed,automatic]\n"
     ]
    },
    {
     "name": "stdout",
     "output_type": "stream",
     "text": [
      "\u001b[32mpython3-yaml\u001b[0m/jammy,now 5.4.1-1ubuntu1 amd64 [installed,automatic]\n",
      "\u001b[32mpython3-zipp\u001b[0m/jammy,jammy,now 1.0.0-3 all [installed,automatic]\n",
      "\u001b[32mpython3-zmq\u001b[0m/jammy,now 22.3.0-1build1 amd64 [installed,automatic]\n",
      "\u001b[32mpython3.10-dev\u001b[0m/jammy-updates,now 3.10.6-1~22.04 amd64 [installed,automatic]\n",
      "\u001b[32mpython3.10-minimal\u001b[0m/jammy-updates,now 3.10.6-1~22.04 amd64 [installed,automatic]\n",
      "\u001b[32mpython3.10\u001b[0m/jammy-updates,now 3.10.6-1~22.04 amd64 [installed,automatic]\n",
      "\u001b[32mpython3\u001b[0m/jammy-updates,now 3.10.6-1~22.04 amd64 [installed]\n"
     ]
    }
   ],
   "source": [
    "## 1A) apt-installed : VIEWS ALL INSTALLED PACKAGES\n",
    "# Note: Entire list of the package is very large.\n",
    "\n",
    "# Example: Sorts and select all packages related to Python3\n",
    "apt-installed *python3*"
   ]
  },
  {
   "cell_type": "code",
   "execution_count": 9,
   "id": "b86e6afa",
   "metadata": {},
   "outputs": [
    {
     "name": "stdout",
     "output_type": "stream",
     "text": [
      "rolldice - virtual dice roller\n"
     ]
    }
   ],
   "source": [
    "## 1B) apt-search : SEARCHES DESIRED PACKAGES IN THE apt REPO\n",
    "\n",
    "# Example: Searching for rolldice, a simple apt package\n",
    "apt-search rolldice"
   ]
  },
  {
   "cell_type": "code",
   "execution_count": 10,
   "id": "9945a9ac",
   "metadata": {},
   "outputs": [],
   "source": [
    "## 1C) apt-install : INSTALLS THE PACKAGE IF PRESENT IN THE REPO\n",
    "## NOTE: Installing packages requires sudo\n",
    "\n",
    "# Example: Installing rolldice (need a more suitable example - but works)\n",
    "\n",
    "# | $ apt-install rolldice\n",
    "# | E: Could not open lock file /var/lib/dpkg/lock-frontend - open (13: Permission denied)\n",
    "# | E: Unable to acquire the dpkg frontend lock (/var/lib/dpkg/lock-frontend), are you root?"
   ]
  },
  {
   "cell_type": "code",
   "execution_count": 11,
   "id": "dd05882e",
   "metadata": {},
   "outputs": [],
   "source": [
    "## 1D) apt-uninstall : UNINSTALLS/REMOVES DESIRED PACKAGE IF PRESENT\n",
    "## NOTE: Uninstalling packages requires sudo\n",
    "\n",
    "# # Example: Uninstalling rolldice\n",
    "\n",
    "# $ apt-uninstall rolldice\n",
    "# | E: Could not open lock file /var/lib/dpkg/lock-frontend - open (13: Permission denied)\n",
    "# | E: Unable to acquire the dpkg frontend lock (/var/lib/dpkg/lock-frontend), are you root?\n"
   ]
  },
  {
   "cell_type": "code",
   "execution_count": 12,
   "id": "303396ad",
   "metadata": {},
   "outputs": [],
   "source": [
    "## 1E) dpkg-install : INSTALLS A DEBIAN PACKAGE\n",
    "## NOTE: dpkg-install also requires sudo\n",
    "\n",
    "# Example: Uninstalling rolldice (requires superuser - but works)\n",
    "\n",
    "# $ dpkg-install rolldice\n",
    "# | dpkg: error: requested operation requires superuser privilege"
   ]
  },
  {
   "cell_type": "code",
   "execution_count": 13,
   "id": "774ddb93",
   "metadata": {},
   "outputs": [],
   "source": [
    "## TEST 2 - SYSTEM OPERATION ALIASES\n",
    "alias restart-network='sudo ifdown eth0; sudo ifup eth0'\n",
    "alias hibernate-system='sudo systemctl hibernate'\n",
    "alias suspend-system='sudo systemctl suspend'\n",
    "alias blank-screen='xset dpms force off'\n",
    "alias stop-service='systemctl stop'\n",
    "alias restart-service='sudo systemctl restart'\n",
    "# stop-service IS ONLY SAFE TO USE FOR TEST FOR SOME SERVICES\n",
    "\n",
    "# SOME ALIASES: ADDED BY ME\n",
    "alias start-service='systemctl start'\n",
    "alias list-all-service='systemctl --type=service'\n",
    "alias restart-service-sudoless='systemctl restart'\n",
    "alias status-service='systemctl status'\n",
    "alias service-status='status-service'"
   ]
  },
  {
   "cell_type": "code",
   "execution_count": 14,
   "id": "593024ca",
   "metadata": {},
   "outputs": [
    {
     "name": "stdout",
     "output_type": "stream",
     "text": [
      "\u001b[0m\u001b[0;4m \u001b[0m\u001b[0m\u001b[0;4m UNIT                       \u001b[0m\u001b[0m\u001b[0;4m LOAD  \u001b[0m\u001b[0m\u001b[0;4m ACTIVE\u001b[0m\u001b[0m\u001b[0;4m SUB    \u001b[0m\u001b[0m\u001b[0;4m DESCRIPTION                 \u001b[0m\n",
      "  accounts-daemon.service     loaded active running Accounts Service\n",
      "  acpid.service               loaded active running ACPI event daemon\n",
      "  alsa-restore.service        loaded active exited  Save/Restore Sound Card Sta…\n",
      "  apparmor.service            loaded active exited  Load AppArmor profiles\n",
      "\u001b[0;1;31m●\u001b[0m\u001b[0;1;31m \u001b[0m\u001b[0;1;31mapport-autoreport.service  \u001b[0m\u001b[0;1;31m \u001b[0mloaded \u001b[0;1;31mfailed\u001b[0m\u001b[0;1;31m \u001b[0m\u001b[0;1;31mfailed \u001b[0m\u001b[0;1;31m \u001b[0mProcess error reports when …\n",
      "  apport.service              loaded active exited  LSB: automatic crash report…\n",
      "  avahi-daemon.service        loaded active running Avahi mDNS/DNS-SD Stack\n",
      "  bluetooth.service           loaded active running Bluetooth service\n",
      "  console-setup.service       loaded active exited  Set console font and keymap\n",
      "  cron.service                loaded active running Regular background program …\n",
      "  cups-browsed.service        loaded active running Make remote CUPS printers a…\n",
      "  cups.service                loaded active running CUPS Scheduler\n",
      "  dbus.service                loaded active running D-Bus System Message Bus\n",
      "  fwupd.service               loaded active running Firmware update daemon\n",
      "  getty@tty1.service          loaded active running Getty on tty1\n",
      "  ifupdown-pre.service        loaded active exited  Helper to synchronize boot …\n",
      "  irqbalance.service          loaded active running irqbalance daemon\n",
      "  kerneloops.service          loaded active running Tool to automatically colle…\n",
      "  keyboard-setup.service      loaded active exited  Set the console keyboard la…\n",
      "  kmod-static-nodes.service   loaded active exited  Create List of Static Devic…\n",
      "  lightdm.service             loaded active running Light Display Manager\n",
      "  lm-sensors.service          loaded active exited  Initialize hardware monitor…\n",
      "  ModemManager.service        loaded active running Modem Manager\n",
      "  networkd-dispatcher.service loaded active running Dispatcher daemon for syste…\n",
      "  networking.service          loaded active exited  Raise network interfaces\n",
      "  NetworkManager-wait-online… loaded active exited  Network Manager Wait Online\n",
      "  NetworkManager.service      loaded active running Network Manager\n",
      "  nscd.service                loaded active running Name Service Cache Daemon\n",
      "  openvpn.service             loaded active exited  OpenVPN service\n",
      "  plymouth-quit-wait.service  loaded active exited  Hold until boot process fin…\n",
      "  plymouth-read-write.service loaded active exited  Tell Plymouth To Write Out …\n",
      "  plymouth-start.service      loaded active exited  Show Plymouth Boot Screen\n",
      "  polkit.service              loaded active running Authorization Manager\n",
      "  rpcbind.service             loaded active running RPC bind portmap service\n",
      "  rsyslog.service             loaded active running System Logging Service\n",
      "  rtkit-daemon.service        loaded active running RealtimeKit Scheduling Poli…\n",
      "  setvtrgb.service            loaded active exited  Set console scheme\n",
      "  snapd.apparmor.service      loaded active exited  Load AppArmor profiles mana…\n",
      "  snapd.seeded.service        loaded active exited  Wait until snapd is fully s…\n",
      "  snapd.service               loaded active running Snap Daemon\n",
      "  systemd-backlight@backligh… loaded active exited  Load/Save Screen Backlight …\n",
      "  systemd-fsck@dev-disk-by\\x… loaded active exited  File System Check on /dev/d…\n",
      "  systemd-journal-flush.serv… loaded active exited  Flush Journal to Persistent…\n",
      "  systemd-journald.service    loaded active running Journal Service\n",
      "  systemd-logind.service      loaded active running User Login Management\n",
      "  systemd-modules-load.servi… loaded active exited  Load Kernel Modules\n",
      "  systemd-random-seed.service loaded active exited  Load/Save Random Seed\n",
      "  systemd-remount-fs.service  loaded active exited  Remount Root and Kernel Fil…\n",
      "  systemd-resolved.service    loaded active running Network Name Resolution\n",
      "  systemd-sysctl.service      loaded active exited  Apply Kernel Variables\n",
      "  systemd-sysusers.service    loaded active exited  Create System Users\n",
      "  systemd-timesyncd.service   loaded active running Network Time Synchronization\n",
      "  systemd-tmpfiles-setup-dev… loaded active exited  Create Static Device Nodes …\n",
      "  systemd-tmpfiles-setup.ser… loaded active exited  Create Volatile Files and D…\n",
      "  systemd-udev-trigger.servi… loaded active exited  Coldplug All udev Devices\n",
      "  systemd-udevd.service       loaded active running Rule-based Manager for Devi…\n",
      "  systemd-update-utmp.service loaded active exited  Record System Boot/Shutdown…\n",
      "  systemd-user-sessions.serv… loaded active exited  Permit User Sessions\n",
      "  thermald.service            loaded active running Thermal Daemon Service\n",
      "  udisks2.service             loaded active running Disk Manager\n",
      "  ufw.service                 loaded active exited  Uncomplicated firewall\n",
      "  unattended-upgrades.service loaded active running Unattended Upgrades Shutdown\n",
      "  upower.service              loaded active running Daemon for power management\n",
      "  user-runtime-dir@1000.serv… loaded active exited  User Runtime Directory /run…\n",
      "  user@1000.service           loaded active running User Manager for UID 1000\n",
      "  wpa_supplicant.service      loaded active running WPA supplicant\n",
      "\n",
      "LOAD   = Reflects whether the unit definition was properly loaded.\n",
      "ACTIVE = The high-level unit activation state, i.e. generalization of SUB.\n",
      "SUB    = The low-level unit activation state, values depend on unit type.\n",
      "\u001b[0;1;39m66 loaded units listed.\u001b[0m Pass --all to see loaded but inactive units, too.\n",
      "To show all installed unit files use 'systemctl list-unit-files'.\n"
     ]
    }
   ],
   "source": [
    "# 2A) list-all-service : LISTS ALL SERVICES ON THE MACHINE (ALL STATES)\n",
    "list-all-service"
   ]
  },
  {
   "cell_type": "code",
   "execution_count": 15,
   "id": "5336cde2",
   "metadata": {},
   "outputs": [],
   "source": [
    "# # 2B) stop-service : STOPS DESIRED SERVICE (password prompt appears; p/w required to start/stop the service)\n",
    "# stop-service unattended-upgrades\n",
    "# # service-status OR status-service VIEWS STATUS OF THE SERVICE\n",
    "# status-service unattended-upgrades \n",
    "\n",
    "# # commented - tests halts after completon"
   ]
  },
  {
   "cell_type": "code",
   "execution_count": 16,
   "id": "4d2d5ce1",
   "metadata": {},
   "outputs": [
    {
     "name": "stdout",
     "output_type": "stream",
     "text": [
      "\u001b[0;1;32m●\u001b[0m unattended-upgrades.service - Unattended Upgrades Shutdown\n",
      "     Loaded: loaded (\u001b]8;;file://INS-15-3573-UMATE/lib/systemd/system/unattended-upgrades.service\u0007/lib/systemd/system/unattended-upgrades.service\u001b]8;;\u0007; enabled; vendor preset: enabled)\n",
      "     Active: \u001b[0;1;32mactive (running)\u001b[0m since Thu 2022-11-03 18:27:17 +0545; 5h 0min ago\n",
      "       Docs: \u001b]8;;man:unattended-upgrade(8)\u0007man:unattended-upgrade(8)\u001b]8;;\u0007\n",
      "   Main PID: 930 (unattended-upgr)\n",
      "      Tasks: 2 (limit: 4039)\n",
      "     Memory: 3.5M\n",
      "        CPU: 235ms\n",
      "     CGroup: /system.slice/unattended-upgrades.service\n",
      "             └─930 /usr/bin/python3 /usr/share/unattended-upgrades/unattended-u…\n",
      "\n",
      "Warning: some journal files were not opened due to insufficient permissions.\n"
     ]
    }
   ],
   "source": [
    "# 2C) start-service : STARTS DESIRED SERVICE (password prompt appears; p/w required to start/stop the service)\n",
    "start-service unattended-upgrades\n",
    "\n",
    "# service-status OR status-service VIEWS STATUS OF THE SERVICE\n",
    "service-status unattended-upgrades"
   ]
  },
  {
   "cell_type": "code",
   "execution_count": 17,
   "id": "3fcc7642",
   "metadata": {},
   "outputs": [
    {
     "name": "stdout",
     "output_type": "stream",
     "text": [
      "\u001b[0;1;32m●\u001b[0m unattended-upgrades.service - Unattended Upgrades Shutdown\n",
      "     Loaded: loaded (\u001b]8;;file://INS-15-3573-UMATE/lib/systemd/system/unattended-upgrades.service\u0007/lib/systemd/system/unattended-upgrades.service\u001b]8;;\u0007; enabled; vendor preset: enabled)\n",
      "     Active: \u001b[0;1;32mactive (running)\u001b[0m since Thu 2022-11-03 23:27:37 +0545; 235ms ago\n",
      "       Docs: \u001b]8;;man:unattended-upgrade(8)\u0007man:unattended-upgrade(8)\u001b]8;;\u0007\n",
      "   Main PID: 27349 (unattended-upgr)\n",
      "      Tasks: 1 (limit: 4039)\n",
      "     Memory: 4.8M\n",
      "        CPU: 52ms\n",
      "     CGroup: /system.slice/unattended-upgrades.service\n",
      "             └─27349 /usr/bin/python3 /usr/share/unattended-upgrades/unattended…\n"
     ]
    }
   ],
   "source": [
    "# 2D) restart-service-sudoless : SUDO-LESS METHOD TO RESTART DESIRED SERVICE \n",
    "# NOTE: password prompt appears; p/w required to start/stop the service \n",
    "restart-service-sudoless unattended-upgrades\n",
    "\n",
    "# service-status OR status-service VIEWS STATUS OF THE SERVICE\n",
    "service-status unattended-upgrades\n",
    "\n",
    "# requires password but tests completes after (check need for batspp)"
   ]
  },
  {
   "cell_type": "code",
   "execution_count": 18,
   "id": "a22a6947",
   "metadata": {},
   "outputs": [],
   "source": [
    "## TEST 3 - GET FREE FILENAME\n",
    "\n",
    "# get-free-filename(base, [sep=\"\"]): get filename starting with BASE that is not used.\n",
    "# Notes: 1. If <base> exists <base><sep><N> checked until the filename not used (for N in 2, 3, ... ).\n",
    "# 2. See sudo-admin for sample usage; also see rename-with-file-date.\n",
    "#\n",
    "function get-free-filename() {\n",
    "    local base=\"$1\"\n",
    "    local sep=\"$2\"\n",
    "    local L=1\n",
    "    local filename=\"$base\"\n",
    "    ## DEBUG: local -p\n",
    "    while [ -e \"$filename\" ]; do\n",
    "        let L++\n",
    "        filename=\"$base$sep$L\"\n",
    "    done;\n",
    "    ## DEBUG: local -p\n",
    "    echo \"$filename\"\n",
    "}"
   ]
  },
  {
   "cell_type": "code",
   "execution_count": 19,
   "id": "57d6d4d4",
   "metadata": {
    "scrolled": false
   },
   "outputs": [
    {
     "name": "stdout",
     "output_type": "stream",
     "text": [
      "abc.txt22\n",
      "--------------------------------------------------------------------------------\n",
      "total 4\n",
      "-rw-rw-r-- 1 test3513 test3513 50 Nov  3 23:27 abc.txt\n",
      "--------------------------------------------------------------------------------\n",
      "HELLO THERE,\n",
      "I AM EXTREMELY PLEASED TO USE UBUNTU."
     ]
    }
   ],
   "source": [
    "## 3A) get-free-filename : get filename starting with BASE that is not used\n",
    "printf \"HELLO THERE,\\nI AM EXTREMELY PLEASED TO USE UBUNTU.\" > abc.txt\n",
    "\n",
    "get-free-filename \"abc.txt\" 2      #DOUBT(?)\n",
    "linebr\n",
    "ls -l\n",
    "linebr\n",
    "cat \"abc.txt\"\n"
   ]
  },
  {
   "cell_type": "code",
   "execution_count": 20,
   "id": "251b30e5",
   "metadata": {},
   "outputs": [],
   "source": [
    "# ## TEST 4 - SUDO ADMIN\n",
    "\n",
    "# # sudo-admin(): create typescript as sudo user using filename based on current\n",
    "# # date using numeric suffixes if necessary until the filename is free.\n",
    "# # note: exsting _config*.log files are made read-only so not later overwritten\n",
    "# # by accident\n",
    "# function sudo-admin () {\n",
    "#     local prefix=\"_config-\"\n",
    "#     local base=\"$prefix$(todays-date).log\"\n",
    "#     sudo chmod ugo-w \"$prefix\"*.log*\n",
    "#     local script_log=$(get-free-filename \"$base\")\n",
    "#     sudo --set-home   script --flush \"$script_log\"\n",
    "# }"
   ]
  },
  {
   "cell_type": "markdown",
   "id": "60b7a184",
   "metadata": {},
   "source": []
  },
  {
   "cell_type": "code",
   "execution_count": null,
   "id": "21b4c8ab",
   "metadata": {},
   "outputs": [],
   "source": []
  },
  {
   "cell_type": "code",
   "execution_count": null,
   "id": "d7d44c1d",
   "metadata": {},
   "outputs": [],
   "source": []
  }
 ],
 "metadata": {
  "kernelspec": {
   "display_name": "Bash",
   "language": "bash",
   "name": "bash"
  },
  "language_info": {
   "codemirror_mode": "shell",
   "file_extension": ".sh",
   "mimetype": "text/x-sh",
   "name": "bash"
  }
 },
 "nbformat": 4,
 "nbformat_minor": 5
}
