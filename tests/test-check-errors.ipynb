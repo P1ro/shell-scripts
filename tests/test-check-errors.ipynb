{
 "cells": [
  {
   "cell_type": "code",
   "execution_count": 1,
   "id": "34df25b2",
   "metadata": {},
   "outputs": [
    {
     "name": "stdout",
     "output_type": "stream",
     "text": [
      "\u001b[?2004h\u001b[?2004l\r"
     ]
    }
   ],
   "source": [
    "# Setup\n",
    "bind 'set enable-bracketed-paste off'"
   ]
  },
  {
   "cell_type": "code",
   "execution_count": 2,
   "id": "a8eacedb",
   "metadata": {
    "scrolled": true
   },
   "outputs": [],
   "source": [
    "## Bracketed Paste is disabled to prevent characters after output\n",
    "## Example: \n",
    "# $ echo 'Hi'\n",
    "# | Hi?2004l"
   ]
  },
  {
   "cell_type": "code",
   "execution_count": 3,
   "id": "f2fdf1c6",
   "metadata": {},
   "outputs": [],
   "source": [
    "# Delete all aliases and function\n",
    "# TODO: Instead start from pristine environment\n",
    "unalias -a\n",
    "for f in $(typeset -f | egrep '^\\w+'); do unset -f $f; done\n",
    "BIN_DIR=$PWD/..\n"
   ]
  },
  {
   "cell_type": "code",
   "execution_count": 4,
   "id": "9abcb30c",
   "metadata": {},
   "outputs": [
    {
     "name": "stdout",
     "output_type": "stream",
     "text": [
      "usage: check_errors.py [-h] [--warning] [--warnings] [--skip_warnings]\n",
      "                       [--no_asterisks] [--ruby] [--skip_ruby_lib] [--relaxed]\n",
      "                       [--strict] [--verbose] [--context CONTEXT]\n",
      "                       [filename]\n",
      "\n",
      "Scan the error log for errors, warnings and other suspicious results.\n",
      "This prints the offending line bracketted by >>> and <<< along with N\n",
      "lines before and after to provide context.\n",
      "\n",
      "ex: check_errors.py whatever\n",
      "\n",
      "Notes:\n",
      "\n",
      "- The default context is 1\n",
      "\n",
      "- Warnings are skipped by default\n",
      "\n",
      "- Use -no_astericks if input uses ***'s outside of error contexts\n",
      "\n",
      "Use -relaxed to exclude special cases (e.g., xyz='error')\n",
      "\n",
      "positional arguments:\n",
      "  filename           Input filename\n",
      "\n",
      "optional arguments:\n",
      "  -h, --help         show this help message and exit\n",
      "  --warning          alias for -warnings\n",
      "  --warnings         include warnings?\n",
      "  --skip_warnings    omit warnings?\n",
      "  --no_asterisks     skip warnings for \"***\" in text\n",
      "  --ruby             alias for -skip_ruby_lib\n",
      "  --skip_ruby_lib    skip Ruby library related errors\n",
      "  --relaxed          relaxed for special cases\n",
      "  --strict           alias for relaxed=0\n",
      "  --verbose          show more details\n",
      "  --context CONTEXT  context lines before and after\n"
     ]
    }
   ],
   "source": [
    "python3 $BIN_DIR/check_errors.py"
   ]
  },
  {
   "cell_type": "code",
   "execution_count": 5,
   "id": "f965b950",
   "metadata": {},
   "outputs": [
    {
     "name": "stdout",
     "output_type": "stream",
     "text": [
      "Requirement already satisfied: mezcla in /home/aveey/miniconda3/lib/python3.9/site-packages (1.3.0)\n"
     ]
    }
   ],
   "source": [
    "pip3 install mezcla"
   ]
  },
  {
   "cell_type": "code",
   "execution_count": 6,
   "id": "91d951af",
   "metadata": {},
   "outputs": [
    {
     "name": "stdout",
     "output_type": "stream",
     "text": [
      "usage: check_errors.py [-h] [--warning] [--warnings] [--skip_warnings]\n",
      "                       [--no_asterisks] [--ruby] [--skip_ruby_lib] [--relaxed]\n",
      "                       [--strict] [--verbose] [--context CONTEXT]\n",
      "                       [filename]\n",
      "\n",
      "Scan the error log for errors, warnings and other suspicious results.\n",
      "This prints the offending line bracketted by >>> and <<< along with N\n",
      "lines before and after to provide context.\n",
      "\n",
      "ex: check_errors.py whatever\n",
      "\n",
      "Notes:\n",
      "\n",
      "- The default context is 1\n",
      "\n",
      "- Warnings are skipped by default\n",
      "\n",
      "- Use -no_astericks if input uses ***'s outside of error contexts\n",
      "\n",
      "Use -relaxed to exclude special cases (e.g., xyz='error')\n",
      "\n",
      "positional arguments:\n",
      "  filename           Input filename\n",
      "\n",
      "optional arguments:\n",
      "  -h, --help         show this help message and exit\n",
      "  --warning          alias for -warnings\n",
      "  --warnings         include warnings?\n",
      "  --skip_warnings    omit warnings?\n",
      "  --no_asterisks     skip warnings for \"***\" in text\n",
      "  --ruby             alias for -skip_ruby_lib\n",
      "  --skip_ruby_lib    skip Ruby library related errors\n",
      "  --relaxed          relaxed for special cases\n",
      "  --strict           alias for relaxed=0\n",
      "  --verbose          show more details\n",
      "  --context CONTEXT  context lines before and after\n"
     ]
    }
   ],
   "source": [
    "python3 $BIN_DIR/check_errors.py"
   ]
  },
  {
   "cell_type": "code",
   "execution_count": 7,
   "id": "ddd58391",
   "metadata": {},
   "outputs": [
    {
     "name": "stdout",
     "output_type": "stream",
     "text": [
      "/home/aveey/tom-project/shell-scripts/tests\n"
     ]
    }
   ],
   "source": [
    "pwd"
   ]
  },
  {
   "cell_type": "code",
   "execution_count": 8,
   "id": "5705f9dd",
   "metadata": {},
   "outputs": [
    {
     "name": "stdout",
     "output_type": "stream",
     "text": [
      "Processing input\n"
     ]
    }
   ],
   "source": [
    "python3 $BIN_DIR/check_errors.py ./test_check_errors.py"
   ]
  },
  {
   "cell_type": "code",
   "execution_count": 9,
   "id": "3ff3937e",
   "metadata": {},
   "outputs": [
    {
     "name": "stdout",
     "output_type": "stream",
     "text": [
      "Processing input\n",
      "\n"
     ]
    }
   ],
   "source": [
    "python3 $BIN_DIR/check_errors.py ./test_check_errors.py --verbose"
   ]
  },
  {
   "cell_type": "code",
   "execution_count": 10,
   "id": "46dcd2c5",
   "metadata": {},
   "outputs": [
    {
     "name": "stdout",
     "output_type": "stream",
     "text": [
      "usage: check_errors.py [-h] [--warning] [--warnings] [--skip_warnings]\n",
      "                       [--no_asterisks] [--ruby] [--skip_ruby_lib] [--relaxed]\n",
      "                       [--strict] [--verbose] [--context CONTEXT]\n",
      "                       [filename]\n",
      "\n",
      "Scan the error log for errors, warnings and other suspicious results.\n",
      "This prints the offending line bracketted by >>> and <<< along with N\n",
      "lines before and after to provide context.\n",
      "\n",
      "ex: check_errors.py whatever\n",
      "\n",
      "Notes:\n",
      "\n",
      "- The default context is 1\n",
      "\n",
      "- Warnings are skipped by default\n",
      "\n",
      "- Use -no_astericks if input uses ***'s outside of error contexts\n",
      "\n",
      "Use -relaxed to exclude special cases (e.g., xyz='error')\n",
      "\n",
      "positional arguments:\n",
      "  filename           Input filename\n",
      "\n",
      "optional arguments:\n",
      "  -h, --help         show this help message and exit\n",
      "  --warning          alias for -warnings\n",
      "  --warnings         include warnings?\n",
      "  --skip_warnings    omit warnings?\n",
      "  --no_asterisks     skip warnings for \"***\" in text\n",
      "  --ruby             alias for -skip_ruby_lib\n",
      "  --skip_ruby_lib    skip Ruby library related errors\n",
      "  --relaxed          relaxed for special cases\n",
      "  --strict           alias for relaxed=0\n",
      "  --verbose          show more details\n",
      "  --context CONTEXT  context lines before and after\n"
     ]
    }
   ],
   "source": [
    "python3 $BIN_DIR/check_errors.py -h"
   ]
  },
  {
   "cell_type": "code",
   "execution_count": 11,
   "id": "e73248ec",
   "metadata": {},
   "outputs": [
    {
     "name": "stdout",
     "output_type": "stream",
     "text": [
      "Processing input\n",
      "\n"
     ]
    }
   ],
   "source": [
    "python3 $BIN_DIR/check_errors.py ./test_extract_matches.py --verbose"
   ]
  },
  {
   "cell_type": "code",
   "execution_count": 12,
   "id": "51a64432",
   "metadata": {},
   "outputs": [
    {
     "name": "stdout",
     "output_type": "stream",
     "text": [
      "Processing input\n"
     ]
    }
   ],
   "source": [
    "python3 $BIN_DIR/check_errors.py --warning ./test_extract_matches.py"
   ]
  },
  {
   "cell_type": "code",
   "execution_count": 13,
   "id": "16dbbf36",
   "metadata": {},
   "outputs": [],
   "source": [
    "# EXPECTED OUTPUT FOR ABOVE COMMAND \n",
    "\n",
    "# Processing input\n",
    "# 26           def test_python_error(self):\n",
    "# 27               \"\"\"check python error\"\"\"\n",
    "# 28               input_string    = 'python -c \"print(1\\\\2)\" 2>&1'\n",
    "# 29   >>>         expected_result = '1          File \"<string>\", line 1\\n2            print(1\\\\2)\\n3                     ^\\n4    >>> SyntaxError: unexpected character after line continuation character <<<' <<<\n",
    "# 30               self.assertEqual(gh.run(f'{input_string} | {SCRIPT} -'), expected_result)\n",
    "# 31       \n",
    "# 32       \n",
    "\n",
    "# 48           def test_context_lines(self):\n",
    "# 49               \"\"\"test context lines\"\"\"\n",
    "# 50               input_string     = 'python -c \"print(1\\\\2)\" 2>&1'\n",
    "# 51   >>>         result_context_1 = '3                     ^\\n4    >>> SyntaxError: unexpected character after line continuation character <<<' <<<\n",
    "# 52   >>>         result_context_2 = '2            print(1\\\\2)\\n3                     ^\\n4    >>> SyntaxError: unexpected character after line continuation character <<<' <<<\n",
    "# 53               self.assertEqual(gh.run(f'{input_string} | {SCRIPT} --context 1 -'), result_context_1)\n",
    "# 54               self.assertEqual(gh.run(f'{input_string} | {SCRIPT} --context 2 -'), result_context_2)\n",
    "# 55 "
   ]
  },
  {
   "cell_type": "code",
   "execution_count": 14,
   "id": "664a28ac",
   "metadata": {
    "scrolled": false
   },
   "outputs": [
    {
     "name": "stdout",
     "output_type": "stream",
     "text": [
      "Processing input\n",
      "26           def test_python_error(self):\n",
      "27               \"\"\"check python error\"\"\"\n",
      "28               input_string    = 'python -c \"print(1\\\\2)\" 2>&1'\n",
      "29   >>>         expected_result = '1          File \"<string>\", line 1\\n2            print(1\\\\2)\\n3                     ^\\n4    >>> SyntaxError: unexpected character after line continuation character <<<' <<<\n",
      "30               self.assertEqual(gh.run(f'{input_string} | {SCRIPT} -'), expected_result)\n",
      "31       \n",
      "32       \n",
      "\n",
      "48           def test_context_lines(self):\n",
      "49               \"\"\"test context lines\"\"\"\n",
      "50               input_string     = 'python -c \"print(1\\\\2)\" 2>&1'\n",
      "51   >>>         result_context_1 = '3                     ^\\n4    >>> SyntaxError: unexpected character after line continuation character <<<' <<<\n",
      "52   >>>         result_context_2 = '2            print(1\\\\2)\\n3                     ^\\n4    >>> SyntaxError: unexpected character after line continuation character <<<' <<<\n",
      "53               self.assertEqual(gh.run(f'{input_string} | {SCRIPT} --context 1 -'), result_context_1)\n",
      "54               self.assertEqual(gh.run(f'{input_string} | {SCRIPT} --context 2 -'), result_context_2)\n",
      "55       \n",
      "\n"
     ]
    }
   ],
   "source": [
    "# WORKS FOR test_check_errors.py\n",
    "python3 $BIN_DIR/check_errors.py --warning ./test_check_errors.py"
   ]
  },
  {
   "cell_type": "code",
   "execution_count": null,
   "id": "45202c4b",
   "metadata": {},
   "outputs": [],
   "source": []
  }
 ],
 "metadata": {
  "kernelspec": {
   "display_name": "Bash",
   "language": "bash",
   "name": "bash"
  },
  "language_info": {
   "codemirror_mode": "shell",
   "file_extension": ".sh",
   "mimetype": "text/x-sh",
   "name": "bash"
  }
 },
 "nbformat": 4,
 "nbformat_minor": 5
}
