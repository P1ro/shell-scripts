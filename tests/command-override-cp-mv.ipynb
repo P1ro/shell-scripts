{
 "cells": [
  {
   "cell_type": "code",
   "execution_count": 1,
   "id": "e864420f",
   "metadata": {},
   "outputs": [
    {
     "name": "stdout",
     "output_type": "stream",
     "text": [
      "\u001b[?2004h\u001b[?2004l\u001b[?2004l\u001b[?2004l\u001b[?2004l\u001b[?2004l\r"
     ]
    }
   ],
   "source": [
    "## Bracketed Paste is disabled to prevent characters after output\n",
    "## Example: \n",
    "# $ echo 'Hii'\n",
    "# | Hi?2004l\n",
    "\n",
    "bind 'set enable-bracketed-paste off'"
   ]
  },
  {
   "cell_type": "code",
   "execution_count": 2,
   "id": "224082c5",
   "metadata": {},
   "outputs": [
    {
     "name": "stdout",
     "output_type": "stream",
     "text": [
      "[PEXP\\[\\]ECT_PROMPT>\n",
      "\n"
     ]
    }
   ],
   "source": [
    "## TEST:  Make sure simple prompt used (e.g., no escapes that might contaminate output)\n",
    "## PS1=\"$ \"\n",
    "## TODO: PS1=\"> \"\n",
    "\n",
    "## NOTE: The Jupyter bash kernel requires that PS1 not be modified as they customize it. \n",
    "echo $PS1\n",
    "echo $TMP"
   ]
  },
  {
   "cell_type": "code",
   "execution_count": 3,
   "id": "0b6d367a",
   "metadata": {},
   "outputs": [
    {
     "name": "stdout",
     "output_type": "stream",
     "text": [
      "0\n",
      "0\n"
     ]
    }
   ],
   "source": [
    "# Delete all aliases and function\n",
    "# TODO: Instead start from pristine environment\n",
    "unalias -a\n",
    "alias | wc -l\n",
    "for f in $(typeset -f | egrep '^\\w+'); do unset -f $f; done\n",
    "typeset -f | egrep '^\\w+' | wc -l"
   ]
  },
  {
   "cell_type": "code",
   "execution_count": 4,
   "id": "bb88cb61",
   "metadata": {},
   "outputs": [
    {
     "name": "stdout",
     "output_type": "stream",
     "text": [
      "8\n"
     ]
    }
   ],
   "source": [
    "# Setting a temp directory for tests\n",
    "TMP=/tmp/test-cp-mv\n",
    "\n",
    "## NOTE: Source it directly from the ./tests directory.\n",
    "BIN_DIR=$PWD/..\n",
    "## You will need to run jupyter from that directory.\n",
    "## source $TEMP_BIN/_dir-aliases.bash\n",
    "source _dir-aliases.bash\n",
    "alias | wc -l"
   ]
  },
  {
   "cell_type": "code",
   "execution_count": 5,
   "id": "052a2dd1",
   "metadata": {},
   "outputs": [
    {
     "name": "stdout",
     "output_type": "stream",
     "text": [
      "/tmp/test-cp-mv/test-1210\n"
     ]
    }
   ],
   "source": [
    "## NOTE: For reproducability, the directory name needs to be fixed\n",
    "## In place of $$, use a psuedo random number (e,g., 1210)\n",
    "## *** All output from one run to the next needs to be the same ***\n",
    "\n",
    "# Test safe symbolic links\n",
    "## temp_dir=$TMP/test-$$\n",
    "temp_dir=$TMP/test-1210\n",
    "\n",
    "mkdir -p \"$temp_dir\"\n",
    "# TODO: /bin/rm -rvf \"$temp_dir\"\n",
    "cd \"$temp_dir\"\n",
    "pwd\n",
    "\n",
    "#ALIAS FOR PRINTING SEPERATION LINES (FOR JUPYTER)\n",
    "alias linebr=\"printf '%*s\\n' \"${COLUMNS:-$(tput cols)}\" '' | tr ' ' -\""
   ]
  },
  {
   "cell_type": "code",
   "execution_count": 6,
   "id": "399c318a",
   "metadata": {},
   "outputs": [
    {
     "name": "stdout",
     "output_type": "stream",
     "text": [
      "9\n"
     ]
    }
   ],
   "source": [
    "# Count aliases proper\n",
    "alias | wc -l"
   ]
  },
  {
   "cell_type": "code",
   "execution_count": 7,
   "id": "b21a9ff4",
   "metadata": {},
   "outputs": [
    {
     "name": "stdout",
     "output_type": "stream",
     "text": [
      "2\n"
     ]
    }
   ],
   "source": [
    "# Count functions\n",
    "typeset -f | egrep '^\\w+' | wc -l"
   ]
  },
  {
   "cell_type": "code",
   "execution_count": 8,
   "id": "0cf2a8f7",
   "metadata": {},
   "outputs": [],
   "source": [
    "# Command overrides for moving and copying files\n",
    "# NOTE: -p option of cp (i.e., --preserve  \"preserve file attributes if possible\")\n",
    "# leads to problems when copying files owner by others (although group writable)\n",
    "#    cp: preserving times for /usr/local/httpd/internal/cgi-bin/phone-list: Operation not permitted\n",
    "# - other options for cp, mv, and rm: -i interactive; and -v verbose.\n",
    "other_file_args=\"-v\""
   ]
  },
  {
   "cell_type": "code",
   "execution_count": 9,
   "id": "4676e688",
   "metadata": {},
   "outputs": [],
   "source": [
    "if [ \"$OSTYPE\" = \"solaris\" ]; then other_file_args=\"\"; fi"
   ]
  },
  {
   "cell_type": "code",
   "execution_count": 10,
   "id": "0bca0826",
   "metadata": {},
   "outputs": [],
   "source": [
    "## OLD: alias cls='clear'\n",
    "## NOTE: Unfortunately clear clobbers the terminal scrollback buffer.\n",
    "## via https://askubuntu.com/questions/792453/how-to-stop-clear-from-clearing-scrollback-buffer:\n",
    "##    type CTRL+L instead of clear\n",
    "## TAKE1: alias cls=\"printf '\\33[H\\33[2J'\"\n",
    "##   where \\33 is octal code for Escape (i.e., 0x1B)\n",
    "## TAKE2\n",
    "alias clear=\"echo 'use cls instead (or /bin/clear)'\"\n",
    "alias cls=\"command clear -x\""
   ]
  },
  {
   "cell_type": "code",
   "execution_count": 11,
   "id": "44f3e5c1",
   "metadata": {},
   "outputs": [
    {
     "name": "stdout",
     "output_type": "stream",
     "text": [
      "use cls instead (or /bin/clear)\n"
     ]
    }
   ],
   "source": [
    "#Shows that cls must be used instead of clear\n",
    "clear"
   ]
  },
  {
   "cell_type": "code",
   "execution_count": 12,
   "id": "7f9ad0de",
   "metadata": {},
   "outputs": [
    {
     "name": "stdout",
     "output_type": "stream",
     "text": [
      "alias clear='echo '\\''use cls instead (or /bin/clear)'\\'''\n",
      "alias cls='command clear -x'\n"
     ]
    }
   ],
   "source": [
    "#Shows that cls is the new method of clearing screen\n",
    "alias | grep cls"
   ]
  },
  {
   "cell_type": "code",
   "execution_count": 13,
   "id": "36cea7fc",
   "metadata": {},
   "outputs": [],
   "source": [
    "{\n",
    "    # TODO: see if this is a shellcheck bug\n",
    "    #    SC2034: MV appears unused. Verify it or export it.\n",
    "    # shellcheck disable=SC2034\n",
    "    MV=\"/bin/mv -i $other_file_args\"\n",
    "}"
   ]
  },
  {
   "cell_type": "code",
   "execution_count": 14,
   "id": "f0041ca7",
   "metadata": {},
   "outputs": [],
   "source": [
    "#All move aliases\n",
    "alias mv='$MV'\n",
    "alias move='mv'\n",
    "alias move-force='move -f'"
   ]
  },
  {
   "cell_type": "code",
   "execution_count": 15,
   "id": "47cfcd14",
   "metadata": {},
   "outputs": [],
   "source": [
    "# TODO: make sure symbolic links are copied as-is (ie, not dereferenced)\n",
    "CP=\"/bin/cp -ip $other_file_args\"\n",
    "##reference-variable \"$CP\""
   ]
  },
  {
   "cell_type": "code",
   "execution_count": 16,
   "id": "00dc96ac",
   "metadata": {},
   "outputs": [],
   "source": [
    "#All Copy Aliases\n",
    "alias copy='$CP'\n",
    "alias copy-force='/bin/cp -fp $other_file_args'\n",
    "alias cp='/bin/cp -i $other_file_args'"
   ]
  },
  {
   "cell_type": "code",
   "execution_count": 17,
   "id": "ef9ab96d",
   "metadata": {},
   "outputs": [],
   "source": [
    "#All Remove Aliases\n",
    "alias rm='/bin/rm -i $other_file_args'\n",
    "alias delete='/bin/rm -i $other_file_args'\n",
    "alias del=\"delete\"\n",
    "alias delete-force='/bin/rm -f $other_file_args'\n",
    "alias remove-force='delete-force'"
   ]
  },
  {
   "cell_type": "code",
   "execution_count": 18,
   "id": "236e9148",
   "metadata": {},
   "outputs": [],
   "source": [
    "#All remove-dir aliases\n",
    "alias remove-dir='/bin/rm -rv'\n",
    "alias delete-dir='remove-dir'\n",
    "alias remove-dir-force='/bin/rm -rfv'\n",
    "alias delete-dir-force='remove-dir-force'"
   ]
  },
  {
   "cell_type": "code",
   "execution_count": 19,
   "id": "ce486207",
   "metadata": {},
   "outputs": [],
   "source": [
    "#Aliases set for copy and readonly\n",
    "alias copy-readonly='copy-readonly.sh'\n",
    "function copy-readonly-spec () {\n",
    "    local spec=\"$1\"\n",
    "    local dir=\"$2\"\n",
    "    if [[ (\"$3\" != \"\") || ($dir = \"\") || ($spec == \"\") ]]; then\n",
    "        echo \"Usage: copy-readonly-spec pattern dir\";\n",
    "        return\n",
    "    fi\n",
    "    # effing shellcheck (SC2086: Double quote to prevent globbing)\n",
    "    # shellcheck disable=SC2086\n",
    "    for f in $($LS $spec); do copy-readonly \"$f\" \"$dir\"; done\n",
    "}\n",
    "# copy-readonly-to-dir(dir, file, ...): variant of copy-readonly-spec with\n",
    "# directory first and files given in args 2, 3, etc.\n",
    "function copy-readonly-to-dir () {\n",
    "    local dir=\"$1\"\n",
    "    shift\n",
    "    for f in \"$@\"; do copy-readonly \"$f\" \"$dir\"; done\n",
    "}"
   ]
  },
  {
   "cell_type": "code",
   "execution_count": 20,
   "id": "59567425",
   "metadata": {},
   "outputs": [],
   "source": [
    "#Exporting NICE and TIME_CMD\n",
    "export NICE=\"nice -19\"\n",
    "export TIME_CMD=\"/usr/bin/time\""
   ]
  },
  {
   "cell_type": "code",
   "execution_count": 21,
   "id": "834a6bd4",
   "metadata": {},
   "outputs": [],
   "source": [
    "#Fixing Dir Permissions\n",
    "alias fix-dir-permissions=\"find . -type d -exec chmod go+xs {} \\;\""
   ]
  },
  {
   "cell_type": "code",
   "execution_count": 22,
   "id": "58efde4e",
   "metadata": {},
   "outputs": [
    {
     "name": "stdout",
     "output_type": "stream",
     "text": [
      "--------------------------------------------------------------------------------\n"
     ]
    }
   ],
   "source": [
    "linebr"
   ]
  },
  {
   "cell_type": "code",
   "execution_count": 23,
   "id": "23b1a593",
   "metadata": {},
   "outputs": [
    {
     "name": "stdout",
     "output_type": "stream",
     "text": [
      "/tmp/test-cp-mv/test-1210\n"
     ]
    }
   ],
   "source": [
    "## MOVE INTO $TMP FOR TESTING\n",
    "pwd"
   ]
  },
  {
   "cell_type": "code",
   "execution_count": 24,
   "id": "9aedafaf",
   "metadata": {},
   "outputs": [
    {
     "name": "stdout",
     "output_type": "stream",
     "text": [
      "removed './abc'\n",
      "removed './def'\n",
      "removed './ghi'\n",
      "--------------------------------------------------------------------------------\n",
      "renamed 'abc' -> './mvtest_dir1/abc'\n",
      "renamed 'def' -> './mvtest_dir1/def'\n",
      "renamed 'ghi' -> './mvtest_dir1/ghi'\n",
      "--------------------------------------------------------------------------------\n",
      "total 4\n",
      "drwxrwxr-x 2 aveey aveey 4096 Jul  3 21:22 mvtest_dir1\n",
      "--------------------------------------------------------------------------------\n",
      "total 0\n",
      "-rw-rw-r-- 1 aveey aveey 0 Jul  3 21:22 abc\n",
      "-rw-rw-r-- 1 aveey aveey 0 Jul  3 21:22 def\n",
      "-rw-rw-r-- 1 aveey aveey 0 Jul  3 21:22 ghi\n",
      "--------------------------------------------------------------------------------\n"
     ]
    }
   ],
   "source": [
    "# TEST 1 - MOVE ALIASES\n",
    "\n",
    "## CLEARS TEST FOLDER\n",
    "rm -rf ./*\n",
    "linebr\n",
    "\n",
    "## CREATES TEST SUBJECTS\n",
    "touch abc def ghi\n",
    "mkdir mvtest_dir1\n",
    "\n",
    "## WORK OF ALIASES\n",
    "mv abc ./mvtest_dir1\n",
    "move def ./mvtest_dir1\n",
    "move-force ghi ./mvtest_dir1\n",
    "linebr\n",
    "\n",
    "## VIEWING THE CHANGES MADE\n",
    "ls -l\n",
    "linebr\n",
    "ls -l ./mvtest_dir1\n",
    "linebr"
   ]
  },
  {
   "cell_type": "code",
   "execution_count": 25,
   "id": "24f377e9",
   "metadata": {},
   "outputs": [
    {
     "name": "stdout",
     "output_type": "stream",
     "text": [
      "removed './mvtest_dir1/abc'\n",
      "removed './mvtest_dir1/ghi'\n",
      "removed './mvtest_dir1/def'\n",
      "removed directory './mvtest_dir1'\n",
      "--------------------------------------------------------------------------------\n",
      "'abc' -> './cptest_dir1/abc'\n",
      "'def' -> './cptest_dir1/def'\n",
      "'ghi' -> './cptest_dir1/ghi'\n",
      "--------------------------------------------------------------------------------\n",
      "total 4\n",
      "-rw-rw-r-- 1 aveey aveey    0 Jul  3 21:22 abc\n",
      "drwxrwxr-x 2 aveey aveey 4096 Jul  3 21:22 cptest_dir1\n",
      "-rw-rw-r-- 1 aveey aveey    0 Jul  3 21:22 def\n",
      "-rw-rw-r-- 1 aveey aveey    0 Jul  3 21:22 ghi\n",
      "--------------------------------------------------------------------------------\n",
      "total 0\n",
      "-rw-rw-r-- 1 aveey aveey 0 Jul  3 21:22 abc\n",
      "-rw-rw-r-- 1 aveey aveey 0 Jul  3 21:22 def\n",
      "-rw-rw-r-- 1 aveey aveey 0 Jul  3 21:22 ghi\n",
      "--------------------------------------------------------------------------------\n"
     ]
    }
   ],
   "source": [
    "# TEST 2 - COPY ALIASES\n",
    "\n",
    "## CLEARS TEST FOLDER\n",
    "rm -rf ./*\n",
    "linebr\n",
    "\n",
    "## CREATES TEST SUBJECTS\n",
    "touch abc def ghi\n",
    "mkdir cptest_dir1\n",
    "\n",
    "## WORK OF ALIASES\n",
    "cp abc ./cptest_dir1\n",
    "copy def ./cptest_dir1\n",
    "copy-force ghi ./cptest_dir1\n",
    "linebr\n",
    "\n",
    "## VIEWING THE CHANGES MADE\n",
    "ls -l\n",
    "linebr\n",
    "ls -l ./cptest_dir1\n",
    "linebr"
   ]
  },
  {
   "cell_type": "code",
   "execution_count": 26,
   "id": "a4af1ac2",
   "metadata": {},
   "outputs": [],
   "source": [
    "# #=================(TEST ERROR: \"/bin/rm: remove regular empty file 'f1'?\")=========================#\n",
    "# # TEST 3 - REMOVE/DELETE ALIASES\n",
    "\n",
    "# ## CLEARS TEST FOLDER\n",
    "# rm -rf ./*\n",
    "# linebr\n",
    "\n",
    "# ## CREATES TEST SUBJECTS\n",
    "# touch f1 f2 f3 f4 f5\n",
    "\n",
    "# ## WORK OF ALIASES\n",
    "# rm f1\n",
    "# delete f2\n",
    "# remove-force f3\n",
    "\n",
    "# linebr\n",
    "\n",
    "# ## VIEWING THE CHANGES MADE\n",
    "# ls -l\n",
    "# linebr"
   ]
  },
  {
   "cell_type": "code",
   "execution_count": 27,
   "id": "9ce1eb3b",
   "metadata": {},
   "outputs": [
    {
     "name": "stdout",
     "output_type": "stream",
     "text": [
      "removed './abc'\n",
      "removed './cptest_dir1/abc'\n",
      "removed './cptest_dir1/ghi'\n",
      "removed './cptest_dir1/def'\n",
      "removed directory './cptest_dir1'\n",
      "removed './def'\n",
      "removed './ghi'\n",
      "--------------------------------------------------------------------------------\n",
      "total 16\n",
      "-rw-rw-r-- 1 aveey aveey    0 Jul  3 21:22 abc\n",
      "-rw-rw-r-- 1 aveey aveey    0 Jul  3 21:22 def\n",
      "-rw-rw-r-- 1 aveey aveey    0 Jul  3 21:22 ghi\n",
      "drwxrwxr-x 2 aveey aveey 4096 Jul  3 21:22 TDIR1\n",
      "drwxrwxr-x 2 aveey aveey 4096 Jul  3 21:22 TDIR2\n",
      "drwxrwxr-x 2 aveey aveey 4096 Jul  3 21:22 TDIR3\n",
      "drwxrwxr-x 2 aveey aveey 4096 Jul  3 21:22 TDIR4\n",
      "--------------------------------------------------------------------------------\n",
      "removed directory 'TDIR1'\n",
      "removed directory 'TDIR2'\n",
      "removed directory 'TDIR3'\n",
      "removed directory 'TDIR4'\n",
      "--------------------------------------------------------------------------------\n",
      "total 0\n",
      "-rw-rw-r-- 1 aveey aveey 0 Jul  3 21:22 abc\n",
      "-rw-rw-r-- 1 aveey aveey 0 Jul  3 21:22 def\n",
      "-rw-rw-r-- 1 aveey aveey 0 Jul  3 21:22 ghi\n",
      "--------------------------------------------------------------------------------\n"
     ]
    }
   ],
   "source": [
    "# TEST 4 - REMOVE DIRECTORY ALIASES\n",
    "\n",
    "## CLEARS TEST FOLDER\n",
    "rm -rf ./*\n",
    "linebr\n",
    "\n",
    "## CREATES TEST SUBJECTS\n",
    "touch abc def ghi\n",
    "mkdir TDIR1 TDIR2 TDIR3 TDIR4\n",
    "ls -l\n",
    "linebr\n",
    "## WORK OF ALIASES\n",
    "remove-dir \"TDIR1\"\n",
    "delete-dir \"TDIR2\"\n",
    "remove-dir-force TDIR3\n",
    "delete-dir-force TDIR4\n",
    "linebr\n",
    "\n",
    "## VIEWING THE CHANGES MADE\n",
    "ls -l\n",
    "linebr"
   ]
  },
  {
   "cell_type": "code",
   "execution_count": null,
   "id": "5aa200cc",
   "metadata": {},
   "outputs": [],
   "source": []
  },
  {
   "cell_type": "code",
   "execution_count": null,
   "id": "d1b079ea",
   "metadata": {},
   "outputs": [],
   "source": []
  },
  {
   "cell_type": "code",
   "execution_count": null,
   "id": "4bc799a8",
   "metadata": {},
   "outputs": [],
   "source": []
  },
  {
   "cell_type": "code",
   "execution_count": null,
   "id": "27c91383",
   "metadata": {},
   "outputs": [],
   "source": []
  }
 ],
 "metadata": {
  "kernelspec": {
   "display_name": "Bash",
   "language": "bash",
   "name": "bash"
  },
  "language_info": {
   "codemirror_mode": "shell",
   "file_extension": ".sh",
   "mimetype": "text/x-sh",
   "name": "bash"
  }
 },
 "nbformat": 4,
 "nbformat_minor": 5
}
