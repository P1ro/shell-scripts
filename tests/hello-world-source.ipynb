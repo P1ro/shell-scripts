{
 "cells": [
  {
   "cell_type": "code",
   "execution_count": 1,
   "id": "0d3585e8",
   "metadata": {},
   "outputs": [],
   "source": [
    "function count-aliases { alias | wc -l; }\n",
    "function clear-aliases { unalias -a; }"
   ]
  },
  {
   "cell_type": "code",
   "execution_count": 2,
   "id": "d1224922",
   "metadata": {},
   "outputs": [
    {
     "name": "stdout",
     "output_type": "stream",
     "text": [
      "0\n"
     ]
    }
   ],
   "source": [
    "clear-aliases\n",
    "count-aliases"
   ]
  },
  {
   "cell_type": "code",
   "execution_count": 3,
   "id": "28fbc81f",
   "metadata": {},
   "outputs": [],
   "source": [
    "function count-aliases { alias | wc -l; }\n",
    "function list-functions { typeset -f | egrep '^[A-ZZa-z_-]'; }\n",
    "function count-functions { list-functions | wc -l; }"
   ]
  },
  {
   "cell_type": "code",
   "execution_count": 4,
   "id": "ec98d1a1",
   "metadata": {},
   "outputs": [
    {
     "name": "stdout",
     "output_type": "stream",
     "text": [
      "/home/aveey/tom-project/shell-scripts/tests/..\n"
     ]
    }
   ],
   "source": [
    "# Get alias definitions\n",
    "# Note: assumes Jupyter run from ./tests directory\n",
    "## DEBUG: set -o xtrace\n",
    "BIN_DIR=$PWD/..\n",
    "echo $BIN_DIR\n",
    "# source $BIN_DIR/tomohara-aliases.bash"
   ]
  },
  {
   "cell_type": "code",
   "execution_count": 5,
   "id": "3bf78d9a",
   "metadata": {},
   "outputs": [],
   "source": [
    "source $BIN_DIR/tomohara-aliases.bash"
   ]
  },
  {
   "cell_type": "code",
   "execution_count": 6,
   "id": "4fea4a3e",
   "metadata": {},
   "outputs": [
    {
     "name": "stdout",
     "output_type": "stream",
     "text": [
      "use cls instead (or /bin/clear)\n"
     ]
    }
   ],
   "source": [
    "clear"
   ]
  },
  {
   "cell_type": "code",
   "execution_count": 7,
   "id": "c20e6d75",
   "metadata": {},
   "outputs": [
    {
     "name": "stdout",
     "output_type": "stream",
     "text": [
      "GNU bash, version 5.1.16(1)-release (x86_64-pc-linux-gnu)\n",
      "These shell commands are defined internally.  Type `help' to see this list.\n",
      "Type `help name' to find out more about the function `name'.\n",
      "Use `info bash' to find out more about the shell in general.\n",
      "Use `man -k' or `info' to find out more about commands not in this list.\n",
      "\n",
      "A star (*) next to a name means that the command is disabled.\n",
      "\n",
      " job_spec [&]                            history [-c] [-d offset] [n] or hist>\n",
      " (( expression ))                        if COMMANDS; then COMMANDS; [ elif C>\n",
      " . filename [arguments]                  jobs [-lnprs] [jobspec ...] or jobs >\n",
      " :                                       kill [-s sigspec | -n signum | -sigs>\n",
      " [ arg... ]                              let arg [arg ...]\n",
      " [[ expression ]]                        local [option] name[=value] ...\n",
      " alias [-p] [name[=value] ... ]          logout [n]\n",
      " bg [job_spec ...]                       mapfile [-d delim] [-n count] [-O or>\n",
      " bind [-lpsvPSVX] [-m keymap] [-f file>  popd [-n] [+N | -N]\n",
      " break [n]                               printf [-v var] format [arguments]\n",
      " builtin [shell-builtin [arg ...]]       pushd [-n] [+N | -N | dir]\n",
      " caller [expr]                           pwd [-LP]\n",
      " case WORD in [PATTERN [| PATTERN]...)>  read [-ers] [-a array] [-d delim] [->\n",
      " cd [-L|[-P [-e]] [-@]] [dir]            readarray [-d delim] [-n count] [-O >\n",
      " command [-pVv] command [arg ...]        readonly [-aAf] [name[=value] ...] o>\n",
      " compgen [-abcdefgjksuv] [-o option] [>  return [n]\n",
      " complete [-abcdefgjksuv] [-pr] [-DEI]>  select NAME [in WORDS ... ;] do COMM>\n",
      " compopt [-o|+o option] [-DEI] [name .>  set [-abefhkmnptuvxBCHP] [-o option->\n",
      " continue [n]                            shift [n]\n",
      " coproc [NAME] command [redirections]    shopt [-pqsu] [-o] [optname ...]\n",
      " declare [-aAfFgiIlnrtux] [-p] [name[=>  source filename [arguments]\n",
      " dirs [-clpv] [+N] [-N]                  suspend [-f]\n",
      " disown [-h] [-ar] [jobspec ... | pid >  test [expr]\n",
      " echo [-neE] [arg ...]                   time [-p] pipeline\n",
      " enable [-a] [-dnps] [-f filename] [na>  times\n",
      " eval [arg ...]                          trap [-lp] [[arg] signal_spec ...]\n",
      " exec [-cl] [-a name] [command [argume>  true\n",
      " exit [n]                                type [-afptP] name [name ...]\n",
      " export [-fn] [name[=value] ...] or ex>  typeset [-aAfFgiIlnrtux] [-p] name[=>\n",
      " false                                   ulimit [-SHabcdefiklmnpqrstuvxPT] [l>\n",
      " fc [-e ename] [-lnr] [first] [last] o>  umask [-p] [-S] [mode]\n",
      " fg [job_spec]                           unalias [-a] name [name ...]\n",
      " for NAME [in WORDS ... ] ; do COMMAND>  unset [-f] [-v] [-n] [name ...]\n",
      " for (( exp1; exp2; exp3 )); do COMMAN>  until COMMANDS; do COMMANDS; done\n",
      " function name { COMMANDS ; } or name >  variables - Names and meanings of so>\n",
      " getopts optstring name [arg ...]        wait [-fn] [-p var] [id ...]\n",
      " hash [-lr] [-p pathname] [-dt] [name >  while COMMANDS; do COMMANDS; done\n",
      " help [-dms] [pattern ...]               { COMMANDS ; }\n"
     ]
    }
   ],
   "source": [
    "help"
   ]
  },
  {
   "cell_type": "code",
   "execution_count": 8,
   "id": "6ac91d4b",
   "metadata": {},
   "outputs": [],
   "source": [
    "history -c"
   ]
  },
  {
   "cell_type": "code",
   "execution_count": 9,
   "id": "17bce77c",
   "metadata": {},
   "outputs": [
    {
     "name": "stdout",
     "output_type": "stream",
     "text": [
      "    1  [2023-04-06 20:32:50] echo $?\n",
      "    2  [2023-04-06 20:32:52] hist\n"
     ]
    }
   ],
   "source": [
    "hist"
   ]
  },
  {
   "cell_type": "code",
   "execution_count": null,
   "id": "a5d60963",
   "metadata": {},
   "outputs": [],
   "source": []
  }
 ],
 "metadata": {
  "kernelspec": {
   "display_name": "Bash",
   "language": "bash",
   "name": "bash"
  },
  "language_info": {
   "codemirror_mode": "shell",
   "file_extension": ".sh",
   "mimetype": "text/x-sh",
   "name": "bash"
  }
 },
 "nbformat": 4,
 "nbformat_minor": 5
}
