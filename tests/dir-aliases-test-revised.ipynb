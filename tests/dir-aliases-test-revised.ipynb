{
 "cells": [
  {
   "cell_type": "code",
   "execution_count": 1,
   "id": "76000ec1",
   "metadata": {},
   "outputs": [
    {
     "name": "stdout",
     "output_type": "stream",
     "text": [
      "[PEXP\\[\\]ECT_PROMPT>004l\u001b[?2004l\u001b[?2004l\u001b[?2004l\n",
      "\u001b[?2004h"
     ]
    },
    {
     "ename": "",
     "evalue": "1",
     "output_type": "error",
     "traceback": []
    }
   ],
   "source": [
    "## TEST:  Make sure simple prompt used (e.g., no escapes that might contaminate output)\n",
    "## PS1=\"$ \"\n",
    "## TODO: PS1=\"> \"\n",
    "bind 'set enable-bracketed-paste off'\n",
    "## NOTE: The Jupyter bash kernel requires that PS1 not be modified as they customize it. \n",
    "echo $PS1"
   ]
  },
  {
   "cell_type": "code",
   "execution_count": 2,
   "id": "fd292ad6",
   "metadata": {},
   "outputs": [
    {
     "name": "stdout",
     "output_type": "stream",
     "text": [
      "0[?2004h\u001b[?2004l\u001b[?2004l\u001b[?2004l\n",
      "0[?2004h\u001b[?2004l\u001b[?2004l\n",
      "\u001b[?2004h"
     ]
    },
    {
     "ename": "",
     "evalue": "1",
     "output_type": "error",
     "traceback": []
    }
   ],
   "source": [
    "# Delete all aliases and function\n",
    "# TODO: Instead start from pristine environment\n",
    "unalias -a\n",
    "alias | wc -l\n",
    "for f in $(typeset -f | egrep '^\\w+'); do unset -f $f; done\n",
    "typeset -f | egrep '^\\w+' | wc -l"
   ]
  },
  {
   "cell_type": "code",
   "execution_count": 3,
   "id": "95ecb191",
   "metadata": {},
   "outputs": [
    {
     "name": "stdout",
     "output_type": "stream",
     "text": [
      "\u001b[?2004l\r",
      "\u001b[?2004h"
     ]
    },
    {
     "ename": "",
     "evalue": "1",
     "output_type": "error",
     "traceback": []
    }
   ],
   "source": [
    "mkdir -p tmp/test-dir-aliases"
   ]
  },
  {
   "cell_type": "code",
   "execution_count": 4,
   "id": "fa5edbaa",
   "metadata": {},
   "outputs": [
    {
     "name": "stdout",
     "output_type": "stream",
     "text": [
      "8[?2004h\u001b[?2004l\u001b[?2004l\u001b[?2004l\u001b[?2004l\u001b[?2004l\u001b[?2004l\u001b[?2004l\u001b[?2004l\n",
      "\u001b[?2004h"
     ]
    },
    {
     "ename": "",
     "evalue": "1",
     "output_type": "error",
     "traceback": []
    }
   ],
   "source": [
    "# Setting a temp directory for tests\n",
    "TMP=/tmp/test-dir-aliases\n",
    "\n",
    "## NOTE: Source it directly from the ./tests directory.\n",
    "BIN_DIR=$PWD/..\n",
    "## You will need to run jupyter from that directory.\n",
    "## source $TEMP_BIN/_dir-aliases.bash\n",
    "source _dir-aliases.bash\n",
    "alias | wc -l"
   ]
  },
  {
   "cell_type": "code",
   "execution_count": 5,
   "id": "8368e019",
   "metadata": {},
   "outputs": [
    {
     "name": "stdout",
     "output_type": "stream",
     "text": [
      "8[?2004h\u001b[?2004l\n",
      "\u001b[?2004h"
     ]
    },
    {
     "ename": "",
     "evalue": "1",
     "output_type": "error",
     "traceback": []
    }
   ],
   "source": [
    "# Count aliases proper\n",
    "alias | wc -l"
   ]
  },
  {
   "cell_type": "code",
   "execution_count": 6,
   "id": "5d186616",
   "metadata": {},
   "outputs": [
    {
     "name": "stdout",
     "output_type": "stream",
     "text": [
      "2[?2004h\u001b[?2004l\n",
      "\u001b[?2004h"
     ]
    },
    {
     "ename": "",
     "evalue": "1",
     "output_type": "error",
     "traceback": []
    }
   ],
   "source": [
    "# Count functions\n",
    "typeset -f | egrep '^\\w+' | wc -l"
   ]
  },
  {
   "cell_type": "code",
   "execution_count": 7,
   "id": "7041eaaf",
   "metadata": {},
   "outputs": [
    {
     "name": "stdout",
     "output_type": "stream",
     "text": [
      "/tmp/test-dir-aliases/test-7919l\u001b[?2004l\u001b[?2004l\u001b[?2004l\u001b[?2004l\u001b[?2004l\u001b[?2004l\u001b[?2004l\u001b[?2004l\n",
      "\u001b[?2004h"
     ]
    },
    {
     "ename": "",
     "evalue": "1",
     "output_type": "error",
     "traceback": []
    }
   ],
   "source": [
    "## NOTE: For reproducability, the directory name needs to be fixed\n",
    "## In place of $$, use a psuedo random number (e,g., 7919)\n",
    "## *** All output from one run to the next needs to be the same ***\n",
    "\n",
    "# Test safe symbolic links\n",
    "## temp_dir=$TMP/test-$$\n",
    "temp_dir=$TMP/test-7919\n",
    "\n",
    "mkdir -p \"$temp_dir\"\n",
    "# TODO: /bin/rm -rvf \"$temp_dir\"\n",
    "cd \"$temp_dir\"\n",
    "pwd"
   ]
  },
  {
   "cell_type": "code",
   "execution_count": 8,
   "id": "cdd285fe",
   "metadata": {},
   "outputs": [
    {
     "name": "stdout",
     "output_type": "stream",
     "text": [
      "\u001b[?2004h\u001b[?2004l\u001b[?2004l\u001b[?2004l\u001b[?2004l\u001b[?2004l\u001b[?2004l"
     ]
    },
    {
     "ename": "",
     "evalue": "1",
     "output_type": "error",
     "traceback": []
    }
   ],
   "source": [
    "# Clean up temp dir\n",
    "#\n",
    "# NOTE: To place it safe, the directory path is reproduced here.\n",
    "# IN addition, the output is omitted.\n",
    "\n",
    "## OLD: /bin/rm -rvf \"$temp_dir\"/*\n",
    "/bin/rm -rvf /tmp/test-dir-aliases/test-7919/* >| /tmp/_cleanup-test-dir-aliases.log 2>&1"
   ]
  },
  {
   "cell_type": "code",
   "execution_count": 9,
   "id": "088ca7d9",
   "metadata": {},
   "outputs": [
    {
     "name": "stdout",
     "output_type": "stream",
     "text": [
      "'link1' -> 'file1'?2004l\u001b[?2004l\n",
      "ln: failed to create symbolic link 'link1': File exists\n",
      "3[?2004h\u001b[?2004l\u001b[?2004l\u001b[?2004l\u001b[?2004l\n",
      "\u001b[?2004h\u001b[?2004l"
     ]
    },
    {
     "ename": "",
     "evalue": "1",
     "output_type": "error",
     "traceback": []
    }
   ],
   "source": [
    "## TESTING SYMBOLIC LINKS\n",
    "# The first case succeed\n",
    "touch file1\n",
    "ln-symbolic file1 link1\n",
    "# 'link1' -> 'file1'\n",
    "\n",
    "# The second case should should fail\n",
    "ln-symbolic file1 link1\n",
    "# => \"ln: failed to create symbolic link 'link1': File exists?\"\n",
    "\n",
    "# Should only be four files total (along with . and ..)\n",
    "ls -R | wc -l\n",
    "# => 3"
   ]
  },
  {
   "cell_type": "code",
   "execution_count": 10,
   "id": "df424784",
   "metadata": {},
   "outputs": [
    {
     "name": "stdout",
     "output_type": "stream",
     "text": [
      "#! /usr/bin/env bash\n",
      "# -*- coding: utf-8 -*-\n",
      "\n",
      "## via tomohara-aliases.bash\n",
      "## trace directory commands\n",
      "\n",
      "# Support for ls (list directory contents)\n",
      "# \n",
      "# ls options: # --all: all files; -l long listing; -t by time; --human-readable: uses numeric suffixes like MB; --no-group: omit file permision group; --directory: no subdirectory listings.\n",
      "# TODO: Add --long as alias for -l to ls source control and check-in [WTH?]! Likweise, all aliases for other common options without long names (e.g., -t).\n",
      "#\n",
      "LS=\"/bin/ls\"\n",
      "core_dir_options=\"--all -l -t  --human-readable\"\n",
      "dir_options=\"${core_dir_options} --no-group\"\n",
      "# maldito shellcheck: SC2046 [Quote this to prevent word splitting] and SC2086 [Double quote to prevent globbing]\n",
      "# shellcheck disable=SC2046,SC2086\n",
      "{\n",
      "if [ \"$OSTYPE\" = \"solaris\" ]; then dir_options=\"-alt\"; fi\n",
      "if [ \"$BAREBONES_HOST\" = \"1\" ]; then dir_options=\"-altk\"; fi\n",
      "function dir () {\n",
      "    local opts=\"$dir_options\"\n",
      "    # note: see https://stackoverflow.com/questions/1853946/getting-the-last-argument-passed-to-a-shell-script\n",
      "    local dir=\"${!#}\"\n",
      "    # hack: only shows directory contents if name ends in slash (e.g., /etc/)\n",
      "    # note: pattern is POSIX extended regular expression as per bash manual\n",
      "    local regex=\"^.*/$\";\n",
      "    if [[ (! (($dir != \"\") || ($dir =~ $regex))) ]]; then\n",
      "        opts=\"$opts --directory\";\n",
      "    fi\n",
      "    $LS ${opts} \"$@\" 2>&1 | $PAGER;\n",
      "function dir-proper () { $LS ${dir_options} --directory \"$@\" 2>&1 | $PAGER; }\n",
      "alias ls-full='$LS ${core_dir_options}'\n",
      "function dir-full () { ls-full \"$@\" 2>&1 | $PAGER; }\n",
      "## TODO: WH with the grep (i.e., isn't there a simpler way)?\n",
      "function dir-sans-backups () { $LS ${dir_options} \"$@\" 2>&1 | $GREP -v '~[0-9]*~' | $PAGER; }\n",
      "# dir-ro/dir-rw(spec): show files that are read-only/read-write for the user\n",
      "function dir-ro () { $LS ${dir_options} \"$@\" 2>&1 | $GREP -v '^..w' | $PAGER; }\n",
      "function dir-rw () { $LS ${dir_options} \"$@\" 2>&1 | $GREP '^..w' | $PAGER; }\n",
      "\n",
      "function subdirs () { $LS ${dir_options} \"$@\" 2>&1 | $GREP ^d | $PAGER; }\n",
      "#\n",
      "# subdirs-proper(): shows subdirs in colymn format omitting ones w/ leading dots\n",
      "# note: omits cases like ./ and ./.cpan from find and then removes ./ prefix\n",
      "quiet-unalias subdirs-proper\n",
      "function subdirs-proper () { find . -maxdepth 1 -type d | $EGREP -v '^((\\.)|(\\.\\/\\..*))$' | sort | perl -pe \"s@^\\./@@;\" | column; }\n",
      "# note: -f option overrides -t: Unix sorts alphabetically by default\n",
      "# via man ls:\n",
      "#   -f     do not sort, enable -aU, disable -$LS --color\n",
      "# TODO: simplify -t removal (WTH with perl regex replacement?!)\n",
      "function dir_options_sans_t () { echo \"$dir_options\" | perl -pe 's/\\-t//;'; }\n",
      "function subdirs-alpha () { $LS $(dir_options_sans_t) \"$@\" 2>&1 | $GREP ^d | $PAGER; }\n",
      "function sublinks () { $LS ${dir_options} \"$@\" 2>&1 | $GREP ^l | $PAGER; }\n",
      "function sublinks-alpha () { $LS $(dir_options_sans_t) \"$@\" 2>&1 | $GREP ^l | $PAGER; }\n",
      "}\n",
      "# TODO: show non-work-related directory example\n",
      "#\n",
      "alias symlinks='sublinks'\n",
      "# symlinks-proper: just show file name info for symbolic links, which starts at column 43\n",
      "alias symlinks-proper='symlinks | cut --characters=43-'\n",
      "#\n",
      "function sublinks-proper { sublinks \"$@\" | cut --characters=42-  | $PAGER; }\n",
      "alias symlinks-proper=sublinks-proper\n",
      "#\n",
      "alias glob-links='find . -maxdepth 1 -type l | sed -e \"s/.\\///g\"'\n",
      "alias glob-subdirs='find . -mindepth 1 -maxdepth 1 -type d | sed -e \"s/.\\///g\"'\n",
      "#\n",
      "alias ls-R='$LS -R >| ls-R.list; wc -l ls-R.list'\n",
      "#\n",
      "# TODO: create ls alias that shows file name with symbolic links (as with ls -l but without other information\n",
      "# ex: ls -l | perl -pe 's/^.* \\d\\d:\\d\\d //;'\n",
      "}\n",
      "\n",
      "# link-symbolic-safe: creates symbolic link and avoids quirks with links to directories\n",
      "# EX: link-symbolic-safe /tmp temp-link; link-symbolic-safe --force ~/temp temp-link; ls -l temp-link | grep /tmp => \"\"\n",
      "alias ln-symbolic='ln --symbolic --verbose'\n",
      "alias link-symbolic-safe='ln-symbolic --no-target-directory --no-dereference'\n",
      "alias link-symbolic-regular='ln-symbolic'\n",
      "## TODO: alias ln-symbolic-force='link-symbolic --force'\n",
      "\n",
      "\u001b[?2004h\u001b[?2004l\u001b[?2004l"
     ]
    },
    {
     "ename": "",
     "evalue": "1",
     "output_type": "error",
     "traceback": []
    }
   ],
   "source": [
    "# FYI: the current aliases and functions\n",
    "cat $BIN_DIR/tests/_dir-aliases.bash\n",
    "\n",
    "## TODO: convert this to inline comments (to avoid clutter in the output)"
   ]
  },
  {
   "cell_type": "code",
   "execution_count": 11,
   "id": "cf92e475",
   "metadata": {},
   "outputs": [
    {
     "name": "stdout",
     "output_type": "stream",
     "text": [
      "\u001b[?2004h\u001b[?2004l"
     ]
    },
    {
     "ename": "",
     "evalue": "1",
     "output_type": "error",
     "traceback": []
    }
   ],
   "source": [
    "##EXECUTING _dir-aliases.bash\n",
    "bash $BIN_DIR/tests/_dir-aliases.bash"
   ]
  },
  {
   "cell_type": "code",
   "execution_count": 12,
   "id": "209e21d6",
   "metadata": {},
   "outputs": [
    {
     "name": "stdout",
     "output_type": "stream",
     "text": [
      "bash: sublinks: command not found\n",
      "\u001b[?2004h"
     ]
    },
    {
     "ename": "",
     "evalue": "1",
     "output_type": "error",
     "traceback": []
    }
   ],
   "source": [
    "## Some of the aliases do not work due to the absence of 'sublinks' command\n",
    "symlinks-proper"
   ]
  },
  {
   "cell_type": "code",
   "execution_count": 13,
   "id": "78312919",
   "metadata": {},
   "outputs": [
    {
     "name": "stdout",
     "output_type": "stream",
     "text": [
      "'temp-link' -> '/tmp'\n",
      "\u001b[?2004h"
     ]
    },
    {
     "ename": "",
     "evalue": "1",
     "output_type": "error",
     "traceback": []
    }
   ],
   "source": [
    "# SYMBOLIC LINK temp-link CREATED WHICH LINKS /tmp DIRECTORY \n",
    "ln-symbolic /tmp temp-link"
   ]
  },
  {
   "cell_type": "code",
   "execution_count": 14,
   "id": "3bdce856",
   "metadata": {},
   "outputs": [
    {
     "name": "stdout",
     "output_type": "stream",
     "text": [
      "total 0h\u001b[?2004l\n",
      "-rw-rw-r-- \n",
      "lrwxrwxrwx -> file1\n",
      "lrwxrwxrwx ink -> /tmp\n",
      "\u001b[?2004h"
     ]
    },
    {
     "ename": "",
     "evalue": "1",
     "output_type": "error",
     "traceback": []
    }
   ],
   "source": [
    "## OLD: ls -l | cut CUTS characters between x-y\n",
    "ls -l | cut --characters=12-46 --complement"
   ]
  },
  {
   "cell_type": "code",
   "execution_count": 15,
   "id": "4d064e03",
   "metadata": {},
   "outputs": [
    {
     "name": "stdout",
     "output_type": "stream",
     "text": [
      "\u001b[?2004h\u001b[?2004l"
     ]
    },
    {
     "ename": "",
     "evalue": "1",
     "output_type": "error",
     "traceback": []
    }
   ],
   "source": [
    "## CREATES A SYMBOLIC LINK FORCEFULLY\n",
    "alias ln-symbolic-force='ln-symbolic --force'"
   ]
  },
  {
   "cell_type": "code",
   "execution_count": 16,
   "id": "caa07202",
   "metadata": {},
   "outputs": [
    {
     "name": "stdout",
     "output_type": "stream",
     "text": [
      "ln: failed to create symbolic link 'temp-link/tmp': File exists\n",
      "'temp-link/tmp' -> '/tmp'[?2004l\n",
      "\u001b[?2004h"
     ]
    },
    {
     "ename": "",
     "evalue": "1",
     "output_type": "error",
     "traceback": []
    }
   ],
   "source": [
    "## ln-symbolic SHOULD GENERATE AN ERROR AS PREVIOUS LINK WITH SAME NAME EXISTS\n",
    "# ln: failed to create symbolic link 'temp-link': File exist\n",
    "ln-symbolic /tmp temp-link\n",
    "## ln-symbolic-force SHOULD BYPASS THE CONDITION\n",
    "# ln: failed to create symbolic link 'temp-link': File exist\n",
    "ln-symbolic-force /tmp temp-link"
   ]
  },
  {
   "cell_type": "code",
   "execution_count": 17,
   "id": "30835d26",
   "metadata": {},
   "outputs": [
    {
     "name": "stdout",
     "output_type": "stream",
     "text": [
      "'temp-link-safe' -> '/tmp/tmp'\n",
      "\u001b[?2004h"
     ]
    },
    {
     "ename": "",
     "evalue": "1",
     "output_type": "error",
     "traceback": []
    }
   ],
   "source": [
    "## CREATES A SAFE SYMBOLIC LINK (link-symbolic-safe='ln-symbolic --no-target-directory --no-dereference')\n",
    "link-symbolic-safe /tmp/tmp temp-link-safe"
   ]
  },
  {
   "cell_type": "code",
   "execution_count": 18,
   "id": "e7abee9a",
   "metadata": {},
   "outputs": [
    {
     "name": "stdout",
     "output_type": "stream",
     "text": [
      "'temp-link-safe' -> '/tmp/tmp'\n",
      "\u001b[?2004h"
     ]
    },
    {
     "ename": "",
     "evalue": "1",
     "output_type": "error",
     "traceback": []
    }
   ],
   "source": [
    "## SAFE SYMBOLIC LINK BUT FORCEFUL\n",
    "link-symbolic-safe --force /tmp/tmp temp-link-safe"
   ]
  },
  {
   "cell_type": "code",
   "execution_count": 19,
   "id": "3c388fb0",
   "metadata": {},
   "outputs": [
    {
     "name": "stdout",
     "output_type": "stream",
     "text": [
      "total 0h\u001b[?2004l\n",
      "-rw-rw-r-- \n",
      "lrwxrwxrwx -> file1\n",
      "lrwxrwxrwx ink -> /tmp\n",
      "lrwxrwxrwx ink-safe -> /tmp/tmp\n",
      "\u001b[?2004h"
     ]
    },
    {
     "ename": "",
     "evalue": "1",
     "output_type": "error",
     "traceback": []
    }
   ],
   "source": [
    "## REVIEWING ALL THE RESULTS IN THE DIRECTORY (RESULTS ARE FILTERED)| OLD: ls -l\n",
    "ls -l | cut --characters=12-46 --complement"
   ]
  },
  {
   "cell_type": "code",
   "execution_count": 20,
   "id": "8a363240",
   "metadata": {},
   "outputs": [
    {
     "name": "stdout",
     "output_type": "stream",
     "text": [
      "temp-link[?2004l\n",
      "link1\n",
      "temp-link-safe\n",
      "\u001b[?2004h"
     ]
    },
    {
     "ename": "",
     "evalue": "1",
     "output_type": "error",
     "traceback": []
    }
   ],
   "source": [
    "#TO VIEW ALL THE SUBLINKS IN THE TESTING DIRECTORY\n",
    "glob-links"
   ]
  },
  {
   "cell_type": "code",
   "execution_count": null,
   "id": "0dd2e74d",
   "metadata": {},
   "outputs": [],
   "source": [
    "## TO VIEW SUBDIRECTORIES IN THE TESTING DIRECTORY\n",
    "pwd\n",
    "mkdir test-7919-a test-7919-b\n",
    "glob-subdirs"
   ]
  },
  {
   "cell_type": "code",
   "execution_count": null,
   "id": "25ef7ccd",
   "metadata": {},
   "outputs": [],
   "source": []
  },
  {
   "cell_type": "code",
   "execution_count": null,
   "id": "1f249a43",
   "metadata": {},
   "outputs": [],
   "source": []
  }
 ],
 "metadata": {
  "kernelspec": {
   "display_name": "Bash",
   "language": "bash",
   "name": "bash"
  },
  "language_info": {
   "codemirror_mode": "shell",
   "file_extension": ".sh",
   "mimetype": "text/x-sh",
   "name": "bash"
  }
 },
 "nbformat": 4,
 "nbformat_minor": 5
}
