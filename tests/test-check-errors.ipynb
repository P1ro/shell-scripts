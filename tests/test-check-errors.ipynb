{
 "cells": [
  {
   "cell_type": "code",
   "execution_count": 1,
   "id": "a8eacedb",
   "metadata": {},
   "outputs": [
    {
     "name": "stdout",
     "output_type": "stream",
     "text": [
      "\u001b[?2004h\u001b[?2004l\u001b[?2004l\u001b[?2004l\u001b[?2004l\u001b[?2004l\r"
     ]
    }
   ],
   "source": [
    "## Bracketed Paste is disabled to prevent characters after output\n",
    "## Example: \n",
    "# $ echo 'Hi'\n",
    "# | Hi?2004l\n",
    "\n",
    "bind 'set enable-bracketed-paste off'"
   ]
  },
  {
   "cell_type": "code",
   "execution_count": 2,
   "id": "f2fdf1c6",
   "metadata": {},
   "outputs": [],
   "source": [
    "# Delete all aliases and function\n",
    "# TODO: Instead start from pristine environment\n",
    "unalias -a\n",
    "for f in $(typeset -f | egrep '^\\w+'); do unset -f $f; done\n",
    "BIN_DIR=$PWD/..\n"
   ]
  },
  {
   "cell_type": "code",
   "execution_count": 3,
   "id": "9abcb30c",
   "metadata": {},
   "outputs": [
    {
     "name": "stdout",
     "output_type": "stream",
     "text": [
      "usage: check_errors.py [-h] [--warning] [--warnings] [--skip_warnings]\n",
      "                       [--no_asterisks] [--ruby] [--skip_ruby_lib] [--relaxed]\n",
      "                       [--strict] [--verbose] [--context CONTEXT]\n",
      "                       [filename]\n",
      "\n",
      "Scan the error log for errors, warnings and other suspicious results.\n",
      "This prints the offending line bracketted by >>> and <<< along with N\n",
      "lines before and after to provide context.\n",
      "\n",
      "ex: check_errors.py whatever\n",
      "\n",
      "Notes:\n",
      "\n",
      "- The default context is 1\n",
      "\n",
      "- Warnings are skipped by default\n",
      "\n",
      "- Use -no_astericks if input uses ***'s outside of error contexts\n",
      "\n",
      "Use -relaxed to exclude special cases (e.g., xyz='error')\n",
      "\n",
      "positional arguments:\n",
      "  filename           Input filename\n",
      "\n",
      "optional arguments:\n",
      "  -h, --help         show this help message and exit\n",
      "  --warning          alias for -warnings\n",
      "  --warnings         include warnings?\n",
      "  --skip_warnings    omit warnings?\n",
      "  --no_asterisks     skip warnings for \"***\" in text\n",
      "  --ruby             alias for -skip_ruby_lib\n",
      "  --skip_ruby_lib    skip Ruby library related errors\n",
      "  --relaxed          relaxed for special cases\n",
      "  --strict           alias for relaxed=0\n",
      "  --verbose          show more details\n",
      "  --context CONTEXT  context lines before and after\n"
     ]
    }
   ],
   "source": [
    "python3 $BIN_DIR/check_errors.py"
   ]
  },
  {
   "cell_type": "code",
   "execution_count": 4,
   "id": "f965b950",
   "metadata": {},
   "outputs": [
    {
     "name": "stdout",
     "output_type": "stream",
     "text": [
      "Requirement already satisfied: mezcla in /home/aveey/miniconda3/lib/python3.9/site-packages (1.3.0)\n"
     ]
    }
   ],
   "source": [
    "pip3 install mezcla"
   ]
  },
  {
   "cell_type": "code",
   "execution_count": 5,
   "id": "91d951af",
   "metadata": {},
   "outputs": [
    {
     "name": "stdout",
     "output_type": "stream",
     "text": [
      "usage: check_errors.py [-h] [--warning] [--warnings] [--skip_warnings]\n",
      "                       [--no_asterisks] [--ruby] [--skip_ruby_lib] [--relaxed]\n",
      "                       [--strict] [--verbose] [--context CONTEXT]\n",
      "                       [filename]\n",
      "\n",
      "Scan the error log for errors, warnings and other suspicious results.\n",
      "This prints the offending line bracketted by >>> and <<< along with N\n",
      "lines before and after to provide context.\n",
      "\n",
      "ex: check_errors.py whatever\n",
      "\n",
      "Notes:\n",
      "\n",
      "- The default context is 1\n",
      "\n",
      "- Warnings are skipped by default\n",
      "\n",
      "- Use -no_astericks if input uses ***'s outside of error contexts\n",
      "\n",
      "Use -relaxed to exclude special cases (e.g., xyz='error')\n",
      "\n",
      "positional arguments:\n",
      "  filename           Input filename\n",
      "\n",
      "optional arguments:\n",
      "  -h, --help         show this help message and exit\n",
      "  --warning          alias for -warnings\n",
      "  --warnings         include warnings?\n",
      "  --skip_warnings    omit warnings?\n",
      "  --no_asterisks     skip warnings for \"***\" in text\n",
      "  --ruby             alias for -skip_ruby_lib\n",
      "  --skip_ruby_lib    skip Ruby library related errors\n",
      "  --relaxed          relaxed for special cases\n",
      "  --strict           alias for relaxed=0\n",
      "  --verbose          show more details\n",
      "  --context CONTEXT  context lines before and after\n"
     ]
    }
   ],
   "source": [
    "python3 $BIN_DIR/check_errors.py"
   ]
  },
  {
   "cell_type": "code",
   "execution_count": 6,
   "id": "5705f9dd",
   "metadata": {},
   "outputs": [
    {
     "name": "stdout",
     "output_type": "stream",
     "text": [
      "Assertion failed: os.path.exists(self.filename) (at /home/aveey/miniconda3/lib/python3.9/site-packages/mezcla/main.py:501)\n",
      "Assertion failed: self.input_stream (at /home/aveey/miniconda3/lib/python3.9/site-packages/mezcla/main.py:503)\n",
      "Processing input\n",
      "Traceback (most recent call last):\n",
      "  File \"/home/aveey/tom-project/shell-scripts/tests/../check_errors.py\", line 267, in <module>\n",
      "    app.run()\n",
      "  File \"/home/aveey/miniconda3/lib/python3.9/site-packages/mezcla/main.py\", line 514, in run\n",
      "    self.process_input()\n",
      "  File \"/home/aveey/miniconda3/lib/python3.9/site-packages/mezcla/main.py\", line 640, in process_input\n",
      "    for line in self.read_input():\n",
      "  File \"/home/aveey/miniconda3/lib/python3.9/site-packages/mezcla/main.py\", line 575, in read_input\n",
      "    for line in self.input_stream:\n",
      "TypeError: 'NoneType' object is not iterable\n"
     ]
    },
    {
     "ename": "",
     "evalue": "1",
     "output_type": "error",
     "traceback": []
    }
   ],
   "source": [
    "python3 $BIN_DIR/check_errors.py tests/test_check_errors.py"
   ]
  },
  {
   "cell_type": "code",
   "execution_count": null,
   "id": "3ff3937e",
   "metadata": {},
   "outputs": [],
   "source": [
    "python3 $BIN_DIR/check_errors.py tests/test_check_errors.py --verbose"
   ]
  },
  {
   "cell_type": "code",
   "execution_count": null,
   "id": "46dcd2c5",
   "metadata": {},
   "outputs": [],
   "source": [
    "python3 $BIN_DIR/check_errors.py -h"
   ]
  },
  {
   "cell_type": "code",
   "execution_count": null,
   "id": "e73248ec",
   "metadata": {},
   "outputs": [],
   "source": [
    "python3 $BIN_DIR/check_errors.py tests/test_extract_matches.py --verbose"
   ]
  },
  {
   "cell_type": "code",
   "execution_count": null,
   "id": "51a64432",
   "metadata": {},
   "outputs": [],
   "source": [
    "python3 $BIN_DIR/check_errors.py filename=tests/test_check_errors.py --verbose"
   ]
  },
  {
   "cell_type": "code",
   "execution_count": null,
   "id": "16dbbf36",
   "metadata": {},
   "outputs": [],
   "source": []
  }
 ],
 "metadata": {
  "kernelspec": {
   "display_name": "Bash",
   "language": "bash",
   "name": "bash"
  },
  "language_info": {
   "codemirror_mode": "shell",
   "file_extension": ".sh",
   "mimetype": "text/x-sh",
   "name": "bash"
  }
 },
 "nbformat": 4,
 "nbformat_minor": 5
}
