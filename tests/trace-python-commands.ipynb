{
 "cells": [
  {
   "cell_type": "code",
   "execution_count": 1,
   "id": "d5e6d96e",
   "metadata": {},
   "outputs": [],
   "source": [
    "alias testuser='sed -r \"s/\"$USER\"+/user/g\"'"
   ]
  },
  {
   "cell_type": "code",
   "execution_count": 2,
   "id": "65d43538",
   "metadata": {},
   "outputs": [
    {
     "name": "stdout",
     "output_type": "stream",
     "text": [
      "[PEXP\\[\\]ECT_PROMPT>\n"
     ]
    }
   ],
   "source": [
    "## TEST:  Make sure simple prompt used (e.g., no escapes that might contaminate output)\n",
    "## PS1=\"$ \"\n",
    "## TODO: PS1=\"> \"\"\n",
    "## NOTE: The Jupyter bash kernel requires that PS1 not be modified as they customize it. \n",
    "echo $PS1"
   ]
  },
  {
   "cell_type": "code",
   "execution_count": 3,
   "id": "1da73b27",
   "metadata": {},
   "outputs": [],
   "source": [
    "REDEFINE_ALIASES=0\n",
    "## DEBUG: REDFINE_ALIASES=1\n",
    "\n",
    "if [ \"$REFINE_ALIASES\" ]; then\n",
    "\n",
    "    function python-lint-full() {\n",
    "        local root=$(hg root 2> /dev/null);\n",
    "        ## TODO: --persistent=n (to avoid caching)\n",
    "        PYTHONPATH=\"$root:.:$PYTHONPATH\" $NICE pylint \"$@\" | perl -00 -ne 'while (/(\\n\\S+:\\s*\\d+[^\\n]+)\\n( +)/) { s/(\\n\\S+:\\s*\\d+[^\\n]+)\\n( +)/$1\\r$2/mg; } print(\"$_\");' 2>&1 | $PAGER;\n",
    "    }\n",
    "\n",
    "fi"
   ]
  },
  {
   "cell_type": "code",
   "execution_count": 4,
   "id": "0ff8f157",
   "metadata": {},
   "outputs": [
    {
     "name": "stdout",
     "output_type": "stream",
     "text": [
      "12\n"
     ]
    }
   ],
   "source": [
    "# Setting a temp directory for tests\n",
    "TMP=./tmp/test-py-commands\n",
    "## NOTE: Source it directly from the ./tests directory.\n",
    "BIN_DIR=$PWD/..\n",
    "alias | wc -l"
   ]
  },
  {
   "cell_type": "code",
   "execution_count": 5,
   "id": "ab954c7f",
   "metadata": {},
   "outputs": [
    {
     "name": "stdout",
     "output_type": "stream",
     "text": [
      "/home/user/tom-project/shell-scripts/tests/tmp/test-py-commands/test-3443\n"
     ]
    }
   ],
   "source": [
    "## NOTE: For reproducability, the directory name needs to be fixed\n",
    "## In place of $$, use a psuedo random number (e,g., 3443)\n",
    "## *** All output from one run to the next needs to be the same ***\n",
    "\n",
    "## temp_dir=$TMP/test-$$\n",
    "temp_dir=$TMP/test-3443\n",
    "\n",
    "mkdir -p \"$temp_dir\"\n",
    "# TODO: /bin/rm -rvf \"$temp_dir\"\n",
    "cd \"$temp_dir\"\n",
    "pwd | testuser\n",
    "\n",
    "#ALIAS FOR PRINTING SEPERATION LINES (FOR JUPYTER)\n",
    "alias linebr=\"printf '%*s\\n' \"${COLUMNS:-$(tput cols)}\" '' | tr ' ' -\""
   ]
  },
  {
   "cell_type": "code",
   "execution_count": 6,
   "id": "7762153f",
   "metadata": {},
   "outputs": [],
   "source": [
    "export PYTHON_CMD=\"/usr/bin/time python -u\"\n",
    "export PYTHON=\"$NICE $PYTHON_CMD\"\n",
    "export PYTHONPATH=\"$HOME/python:$PYTHONPATH\""
   ]
  },
  {
   "cell_type": "code",
   "execution_count": 7,
   "id": "0d1949fc",
   "metadata": {},
   "outputs": [],
   "source": [
    "## add-python-path(pkg-dir): add PKG-DIR to PATH and PARENT to PYTHONPATH\n",
    "\n",
    "function add-python-path () {\n",
    "    local package_path=\"$1\"\n",
    "    local parent_path=$(realpath \"$package_path/..\")\n",
    "    prepend-path \"$package_path\"\n",
    "    export PYTHONPATH=\"$parent_path:$PYTHONPATH\"\n",
    "}\n",
    "\n",
    "alias mezcla-devel='add-python-path $HOME/python/Mezcla/mezcla'\n",
    "alias mezcla-main='add-python-path $HOME/python/Mezcla-main/mezcla'\n",
    "alias mezcla-tom='add-python-path $HOME/python/Mezcla-tom/mezcla'\n",
    "\n",
    "if [[ ! \"$PATH\" =~ mezcla ]]; then\n",
    "    true\n",
    "fi"
   ]
  },
  {
   "cell_type": "code",
   "execution_count": 8,
   "id": "9117cb3e",
   "metadata": {},
   "outputs": [],
   "source": [
    "## FUNCTIONS REQUIRED FOR SMOOTH RUNNING OF THE TESTS\n",
    "function ps-all () { \n",
    "    local pattern=\"$1\";\n",
    "    local pager=cat;\n",
    "    if [ \"$pattern\" = \"\" ]; then \n",
    "        pattern=\".\"; \n",
    "        pager=$PAGER\n",
    "    fi;\n",
    "    ps_mine.sh --all | $EGREP -i \"((^USER)|($pattern))\" | $pager;\n",
    "    }\n",
    "\n",
    "function show-path-dir () { (echo \"${1}:\"; printenv \"$1\" | perl -pe \"s/:/\\n/g;\") | $PAGER; }\n",
    "alias show-path='show-path-dir PATH'\n",
    "\n",
    "function append-path () { if [[ ! (($PATH =~ ^$1:) || ($PATH =~ :$1:) || ($PATH =~ :$1$)) ]]; then export PATH=\"${PATH}:$1\"; fi }\n",
    "function prepend-path () { if [[ ! (($PATH =~ ^$1:) || ($PATH =~ :$1:) || ($PATH =~ :$1$)) ]]; then export PATH=\"$1:${PATH}\"; fi }\n",
    "\n",
    "function append-python-path () { export PYTHONPATH=${PYTHONPATH}:\"$1\"; }\n",
    "function prepend-python-path () { export PYTHONPATH=\"$1\":${PYTHONPATH}; }\n",
    " "
   ]
  },
  {
   "cell_type": "code",
   "execution_count": 9,
   "id": "7ec729df",
   "metadata": {},
   "outputs": [
    {
     "name": "stdout",
     "output_type": "stream",
     "text": [
      "realpath: ./tmp/test-py-commands/test-3443/..: No such file or directory\n"
     ]
    }
   ],
   "source": [
    "add-python-path $temp_dir\n",
    "alias ps-python-full='ps-all python'\n",
    "\n",
    "alias ps-python='ps-python-full | $EGREP -iv \"(screenlet|ipython|egrep|update-manager|software-properties|networkd-dispatcher)\"'\n",
    "alias show-python-path='show-path-dir PYTHONPATH'"
   ]
  },
  {
   "cell_type": "code",
   "execution_count": 10,
   "id": "000a2cc1",
   "metadata": {},
   "outputs": [],
   "source": [
    "## ERROR 1 - process ID list syntax error\n",
    "\n",
    "# $ ps-python-full\n",
    "# | error: process ID list syntax error\n",
    "# | \n",
    "# | Usage:\n",
    "# |  ps [options]\n",
    "# | \n",
    "# |  Try 'ps --help <simple|list|output|threads|misc|all>'\n",
    "# |   or 'ps --help <s|l|o|t|m|a>'\n",
    "# |  for additional help text.\n",
    "# | \n",
    "# | For more details see ps(1)."
   ]
  },
  {
   "cell_type": "code",
   "execution_count": 11,
   "id": "81224e9f",
   "metadata": {},
   "outputs": [],
   "source": [
    "## ERROR 2 - bash : command not found and process ID list syntax error\n",
    "# $ ps-python\n",
    "# | bash: -iv: command not found\n",
    "# | error: process ID list syntax error\n",
    "# | \n",
    "# | Usage:\n",
    "# |  ps [options]\n",
    "# | \n",
    "# |  Try 'ps --help <simple|list|output|threads|misc|all>'\n",
    "# |   or 'ps --help <s|l|o|t|m|a>'\n",
    "# |  for additional help text.\n",
    "# | \n",
    "# | For more details see ps(1).\n"
   ]
  },
  {
   "cell_type": "code",
   "execution_count": 12,
   "id": "6c5b8d28",
   "metadata": {},
   "outputs": [
    {
     "name": "stdout",
     "output_type": "stream",
     "text": [
      "PYTHONPATH:\n",
      "\n",
      "/home/user/python\n",
      "\n"
     ]
    }
   ],
   "source": [
    "## show-python-path DISPLAYS ALL THE AVAILABLE PATHS OF PYTHON\n",
    "show-python-path | testuser"
   ]
  },
  {
   "cell_type": "code",
   "execution_count": 13,
   "id": "ff01fc98",
   "metadata": {},
   "outputs": [],
   "source": [
    "function python-lint-work() { python-lint-full \"$@\" 2>&1 | $EGREP -v '\\((bad-continuation|bad-option-value|fixme|invalid-name|locally-disabled|too-few-public-methods|too-many-\\S+|trailing-whitespace|star-args|unnecessary-pass)\\)' | $EGREP -v '^(([A-Z]:[0-9]+)|(Your code has been rated)|(No config file found)|(\\-\\-\\-\\-\\-))' | $PAGER; }\n",
    "\n",
    "function python-lint() { python-lint-work \"$@\" 2>&1 | $EGREP -v '(Exactly one space required)|\\((bad-continuation|bad-whitespace|bad-indentation|bare-except|c-extension-no-member|consider-using-enumerate|consider-using-with|global-statement|global-variable-not-assigned|keyword-arg-before-vararg|len-as-condition|line-too-long|logging-not-lazy|misplaced-comparison-constant|missing-final-newline|redefined-variable-type|redundant-keyword-arg|superfluous-parens|too-many-arguments|too-many-instance-attributes|trailing-newlines|useless-\\S+|wrong-import-order|wrong-import-position)\\)' | $PAGER; }\n"
   ]
  },
  {
   "cell_type": "code",
   "execution_count": 14,
   "id": "be24ab27",
   "metadata": {
    "scrolled": true
   },
   "outputs": [],
   "source": [
    "## ERROR GENERATED : -v COMMAND NOT FOUND\n",
    "# $ python-lint-work $BIN_DIR/tests/batspp.py\n",
    "# | bash: -v: command not found"
   ]
  },
  {
   "cell_type": "code",
   "execution_count": 15,
   "id": "cab9db0c",
   "metadata": {},
   "outputs": [],
   "source": [
    "## ERROR GENERATED : -v COMMAND NOT FOUND\n",
    "# $ python-lint $BIN_DIR/tests/batspp.py\n",
    "# | bash: -v: command not found"
   ]
  },
  {
   "cell_type": "code",
   "execution_count": 16,
   "id": "486be746",
   "metadata": {},
   "outputs": [],
   "source": [
    "# (REQUIRED BY run-python-lint-batched)\n",
    "\n",
    "function downcase-stdin { perl -pe \"use open ':std', ':encoding(UTF-8)'; s/.*/\\L$&/;\"; }\n",
    "function downcase-text() { echo \"$@\" | downcase-stdin; }\n",
    "\n",
    "function todays-date() { date '+%d%b%y' | downcase-stdin; }\n",
    "\n",
    "function get-python-lint-dir () {\n",
    "    local python_version_major=$(pylint --version 2>&1 | extract_matches.perl \"Python (\\d)\")\n",
    "    local affix=\"py${python_version_major}\"\n",
    "    local out_dir=\"_pylint/$(todays-date)-$affix\"\n",
    "    echo \"$out_dir\"\n",
    "}\n",
    "\n",
    "function run-python-lint-batched () {\n",
    "    local file_spec=\"$@\"\n",
    "    if [ \"$file_spec\" = \"\" ]; then file_spec=\"*.py\"; fi\n",
    "\n",
    "    local out_dir=$(get-python-lint-dir)\n",
    "    mkdir -p \"$out_dir\"\n",
    "\n",
    "    (for f in $($LS $file_spec); do\n",
    "\n",
    "         local b=$(basename \"$f\")\n",
    "         local pre=\"\"\n",
    "\n",
    "         if [[ $f =~ / ]]; then pre=\"$(basename $(dirname \"$f\"))-\"; fi\n",
    "         DEBUG_LEVEL=5 python-lint \"$f\" >| \"$out_dir/$pre$b\".log 2>&1\n",
    "         head \"$out_dir/$pre$b\".log\n",
    "     done) >| \"$out_dir/summary.log\"\n",
    "    less -p '^\\** Module' \"$out_dir/summary.log\";\n",
    "}"
   ]
  },
  {
   "cell_type": "code",
   "execution_count": 17,
   "id": "207d98f0",
   "metadata": {},
   "outputs": [],
   "source": [
    "# ERROR: Pattern not found  (press RETURN)\n",
    "# run-python-lint-batched ./print.py "
   ]
  },
  {
   "cell_type": "code",
   "execution_count": 18,
   "id": "88b32c36",
   "metadata": {},
   "outputs": [
    {
     "name": "stdout",
     "output_type": "stream",
     "text": [
      "1.3.0\n",
      "--------------------------------------------------------------------------------\n",
      "1.3.0\n",
      "--------------------------------------------------------------------------------\n",
      "['PYTHON3_PLUS', 'TL', '__VERSION__', '__all__', '__builtins__', '__cached__', '__doc__', '__file__', '__loader__', '__name__', '__package__', '__path__', '__spec__', '__version__', 'debug', 'gh', 'glue_helpers', 'mezcla', 'sys', 'sys_version_info_hack', 'system', 'tpo_common']\n",
      "--------------------------------------------------------------------------------\n"
     ]
    }
   ],
   "source": [
    "# note: gotta hate python!\n",
    "function python-module-version-full { local module=\"$1\"; python -c \"import $module; print([v for v in [getattr($module, a, '') for a in '__VERSION__ VERSION __version__ version'.split()] if v][0])\"; }\n",
    "\n",
    "function python-module-version { python-module-version-full \"$@\" 2> /dev/null; }\n",
    "function python-package-members() { local package=\"$1\"; python -c \"import $package; print(dir($package));\"; }\n",
    "#\n",
    "alias python-setup-install='log=setup.log;  rename-with-file-date $log;  uname -a > $log;  python setup.py install --record installed-files.list >> $log 2>&1;  ltc $log'\n",
    "\n",
    "alias python-uninstall-setup='cat installed-files.list | xargs /bin/rm -vi; rename_files.perl -regex ^ un installed-files.list'\n",
    "\n",
    "# MODULE USED: mezcla\n",
    "python-module-version-full mezcla\n",
    "linebr\n",
    "python-module-version mezcla\n",
    "linebr\n",
    "python-package-members mezcla\n",
    "linebr"
   ]
  },
  {
   "cell_type": "code",
   "execution_count": 19,
   "id": "f12d1371",
   "metadata": {},
   "outputs": [],
   "source": [
    "## rename-with-file-date REQUIRED\n",
    "function rename-with-file-date() {\n",
    "\n",
    "    local f new_f\n",
    "    local move_command=\"move\"\n",
    "    if [ \"$1\" = \"--copy\" ]; then\n",
    "\n",
    "        move_command=\"command cp --interactive --verbose --preserve\"\n",
    "        shift\n",
    "    fi\n",
    "    for f in \"$@\"; do\n",
    "    \n",
    "        if [ -e \"$f\" ]; then\n",
    "           new_f=$(get-free-filename \"$f\".$(date --reference=\"$f\" '+%d%b%y') \".\")\n",
    "\n",
    "           eval \"$move_command\" \"$f\" \"$new_f\";\n",
    "        fi\n",
    "    done;\n",
    "\n",
    "}\n",
    "\n",
    "function get-free-filename() {\n",
    "    local base=\"$1\"\n",
    "    local sep=\"$2\"\n",
    "    local L=1\n",
    "    local filename=\"$base\"\n",
    "    while [ -e \"$filename\" ]; do\n",
    "        let L++\n",
    "        filename=\"$base$sep$L\"\n",
    "    done;\n",
    "    echo \"$filename\"\n",
    "}\n",
    "\n",
    "alias move='mv'\n",
    "export PAGER=less\n",
    "export PAGER_CHOPPED=\"less -S\"\n",
    "export PAGER_NOEXIT=\"less -+F\"\n",
    "function zless () { zcat \"$@\" | $PAGER; }\n",
    "\n",
    "function zhead () {\n",
    "    local file=\"$1\"\n",
    "    shift\n",
    "    zcat \"$file\" | head \"$@\"\n",
    "}\n",
    "alias less-='$PAGER_NOEXIT'\n",
    "alias less-clipped='$PAGER_NOEXIT -S'\n",
    "alias less-tail='$PAGER_NOEXIT +G'\n",
    "alias less-tail-clipped='$PAGER_NOEXIT +G -S'\n",
    "alias ltc=less-tail-clipped\n"
   ]
  },
  {
   "cell_type": "code",
   "execution_count": 20,
   "id": "6e4b2871",
   "metadata": {},
   "outputs": [],
   "source": [
    "## REQUIRES setup.py (TBC)\n",
    "\n",
    "# python-setup-install\n",
    "# linebr\n",
    "# python-uninstall-setup"
   ]
  },
  {
   "cell_type": "code",
   "execution_count": 21,
   "id": "298b8a14",
   "metadata": {},
   "outputs": [],
   "source": [
    "function python-import-path-all() { local module=\"$1\"; python -u -v -c \"import $module\" 2>&1; }\n",
    "function python-import-path-full() { local module=\"$1\"; python-import-path-all \"$@\" | extract_matches.perl \"((matches (.*\\W$module[^/]*[/\\.][^/]*))|ModuleNotFoundError)\"; }\n",
    "function python-import-path() { python-import-path-full \"$@\" | head -1; }"
   ]
  },
  {
   "cell_type": "code",
   "execution_count": 22,
   "id": "1a220eac",
   "metadata": {},
   "outputs": [
    {
     "name": "stdout",
     "output_type": "stream",
     "text": [
      "matches /usr/local/lib/python3.10/dist-packages/mezcla/__init__.py\n",
      "--------------------------------------------------------------------------------\n",
      "matches /usr/local/lib/python3.10/dist-packages/mezcla/__init__.py\n",
      "matches /usr/local/lib/python3.10/dist-packages/mezcla/debug.py\n",
      "matches /usr/local/lib/python3.10/dist-packages/mezcla/sys_version_info_hack.py\n",
      "matches /usr/local/lib/python3.10/dist-packages/mezcla/glue_helpers.py\n",
      "matches /usr/local/lib/python3.10/dist-packages/mezcla/system.py\n",
      "matches /usr/local/lib/python3.10/dist-packages/mezcla/tpo_common.py\n",
      "--------------------------------------------------------------------------------\n",
      "# /usr/local/lib/python3.10/dist-packages/mezcla/__pycache__/__init__.cpython-310.pyc matches /usr/local/lib/python3.10/dist-packages/mezcla/__init__.py\n",
      "# code object from '/usr/local/lib/python3.10/dist-packages/mezcla/__pycache__/__init__.cpython-310.pyc'\n",
      "# /usr/local/lib/python3.10/dist-packages/mezcla/__pycache__/debug.cpython-310.pyc matches /usr/local/lib/python3.10/dist-packages/mezcla/debug.py\n",
      "# code object from '/usr/local/lib/python3.10/dist-packages/mezcla/__pycache__/debug.cpython-310.pyc'\n",
      "# /usr/local/lib/python3.10/dist-packages/mezcla/__pycache__/sys_version_info_hack.cpython-310.pyc matches /usr/local/lib/python3.10/dist-packages/mezcla/sys_version_info_hack.py\n"
     ]
    }
   ],
   "source": [
    "# mezcla MODULE IS USED FOR TEST\n",
    "\n",
    "python-import-path 'mezcla'\n",
    "linebr\n",
    "python-import-path-full 'mezcla'\n",
    "linebr\n",
    "\n",
    "# WORKS WELL, SHOWS SOME ISSUES ON BATSPP 2.1.X\n",
    "python-import-path-all 'mezcla' | grep mezcla | head -n 5"
   ]
  },
  {
   "cell_type": "code",
   "execution_count": 23,
   "id": "852d5ab4",
   "metadata": {},
   "outputs": [
    {
     "name": "stdout",
     "output_type": "stream",
     "text": [
      "2\n"
     ]
    }
   ],
   "source": [
    "# RETURNS A LIST OF PYTHON MODULES\n",
    "rm -rf ./*\n",
    "pip3 freeze | grep ipython | wc -l"
   ]
  },
  {
   "cell_type": "code",
   "execution_count": 24,
   "id": "3f03648c",
   "metadata": {},
   "outputs": [],
   "source": [
    "function python-module-version-full { local module=\"$1\"; python -c \"import $module; print([v for v in [getattr($module, a, '') for a in '__VERSION__ VERSION __version__ version'.split()] if v][0])\"; }\n",
    "function python-module-version { python-module-version-full \"$@\" 2> /dev/null; }\n",
    "function python-package-members() { local package=\"$1\"; python -c \"import $package; print(dir($package));\"; }\n",
    "\n",
    "alias python-setup-install='log=setup.log;  rename-with-file-date $log;  uname -a > $log;  python setup.py install --record installed-files.list >> $log 2>&1;  ltc $log'\n",
    "alias python-uninstall-setup='cat installed-files.list | xargs /bin/rm -vi; rename_files.perl -regex ^ un installed-files.list'"
   ]
  },
  {
   "cell_type": "code",
   "execution_count": 25,
   "id": "e82509c6",
   "metadata": {},
   "outputs": [
    {
     "name": "stdout",
     "output_type": "stream",
     "text": [
      "1.3.0\n",
      "--------------------------------------------------------------------------------\n",
      "1.3.0\n",
      "--------------------------------------------------------------------------------\n",
      "['PYTHON3_PLUS', 'TL', '__VERSION__', '__all__', '__builtins__', '__cached__', '__doc__', '__file__', '__loader__', '__name__', '__package__', '__path__', '__spec__', '__version__', 'debug', 'gh', 'glue_helpers', 'mezcla', 'sys', 'sys_version_info_hack', 'system', 'tpo_common']\n",
      "--------------------------------------------------------------------------------\n"
     ]
    }
   ],
   "source": [
    "# MODULE USED: mezcla\n",
    "python-module-version-full mezcla\n",
    "linebr\n",
    "python-module-version mezcla\n",
    "linebr\n",
    "python-package-members mezcla\n",
    "linebr"
   ]
  },
  {
   "cell_type": "code",
   "execution_count": 26,
   "id": "caf8bfd0",
   "metadata": {},
   "outputs": [],
   "source": [
    "## rename-with-file-date REQUIRED\n",
    "function rename-with-file-date() {\n",
    "    local f new_f\n",
    "    local move_command=\"move\"\n",
    "    if [ \"$1\" = \"--copy\" ]; then\n",
    "\n",
    "        move_command=\"command cp --interactive --verbose --preserve\"\n",
    "        shift\n",
    "    fi\n",
    "    for f in \"$@\"; do\n",
    "    \n",
    "        if [ -e \"$f\" ]; then\n",
    "           new_f=$(get-free-filename \"$f\".$(date --reference=\"$f\" '+%d%b%y') \".\")\n",
    "\n",
    "           eval \"$move_command\" \"$f\" \"$new_f\";\n",
    "        fi\n",
    "    done;\n",
    "\n",
    "}\n",
    "\n",
    "function get-free-filename() {\n",
    "    local base=\"$1\"\n",
    "    local sep=\"$2\"\n",
    "    local L=1\n",
    "    local filename=\"$base\"\n",
    "    while [ -e \"$filename\" ]; do\n",
    "        let L++\n",
    "        filename=\"$base$sep$L\"\n",
    "    done;\n",
    "    echo \"$filename\"\n",
    "}\n",
    "\n",
    "alias move='mv'\n",
    "export PAGER=less\n",
    "export PAGER_CHOPPED=\"less -S\"\n",
    "export PAGER_NOEXIT=\"less -+F\"\n",
    "function zless () { zcat \"$@\" | $PAGER; }\n",
    "\n",
    "function zhead () {\n",
    "    local file=\"$1\"\n",
    "    shift\n",
    "    zcat \"$file\" | head \"$@\"\n",
    "}\n",
    "\n",
    "alias less-='$PAGER_NOEXIT'\n",
    "alias less-clipped='$PAGER_NOEXIT -S'\n",
    "alias less-tail='$PAGER_NOEXIT +G'\n",
    "alias less-tail-clipped='$PAGER_NOEXIT +G -S'\n",
    "alias ltc=less-tail-clipped"
   ]
  },
  {
   "cell_type": "code",
   "execution_count": 27,
   "id": "252f351d",
   "metadata": {},
   "outputs": [],
   "source": [
    "## REQUIRES setup.py (TBC)\n",
    "\n",
    "# python-setup-install\n",
    "# linebr\n",
    "# python-uninstall-setup"
   ]
  },
  {
   "cell_type": "code",
   "execution_count": 28,
   "id": "7d6ffb96",
   "metadata": {},
   "outputs": [
    {
     "name": "stdout",
     "output_type": "stream",
     "text": [
      "/home/aveey/tom-project/shell-scripts/tests/../set_xterm_title.bash: line 239: /_set_xterm_title.15642.full.list: Permission denied\n",
      "/home/aveey/tom-project/shell-scripts/tests/../set_xterm_title.bash: line 240: /_set_xterm_title.15642.icon.list: Permission denied\n",
      "[TerminalIPythonApp] WARNING | File '$@' doesn't exist\n",
      "\u001b]1;ipython [/home/user/tom-project/shell-scripts/tests/tmp/test-py-commands/test-3443]\u0007\u001b]2;ipython [/home/user/tom-project/shell-scripts/tests/tmp/test-py-commands/test-3443]\u0007\u001b[22;0t\u001b]0;IPython: test-py-commands/test-3443\u0007--------------------------------------------------------------------------------\n",
      " --- modulename: auto_batspp, funcname: <module>\n",
      "auto_batspp.py(6): \"\"\" \n",
      "auto_batspp.py(14): import os\n",
      "auto_batspp.py(15): import sys\n",
      "auto_batspp.py(17): IPYNB = \".ipynb\"\n",
      "auto_batspp.py(18): BATSPP = \".batspp\"\n",
      "auto_batspp.py(19): BATS = \".bats\"\n",
      "auto_batspp.py(20): TXT = \".txt\"\n",
      "auto_batspp.py(22): BATSPP_STORE = r\"batspp-only\"\n",
      "auto_batspp.py(23): BATS_STORE = r\"bats-only\"\n",
      "auto_batspp.py(24): TXT_STORE = r\"txt-reports\"\n",
      "auto_batspp.py(25): KCOV_STORE = r\"kcov-output\"\n",
      "auto_batspp.py(27): files = os.listdir(r\"./\")\n",
      "auto_batspp.py(28): filesys_bpp = os.listdir(r\"./batspp-only/\")\n",
      "Cannot run file '/home/aveey/tom-project/shell-scripts/tests/../tests/auto_batspp.py' because: [Errno 2] No such file or directory: './batspp-only/'\n",
      "Command exited with non-zero status 1\n",
      "0.06user 0.01system 0:00.08elapsed 97%CPU (0avgtext+0avgdata 12436maxresident)k\n",
      "0inputs+0outputs (0major+1804minor)pagefaults 0swaps\n"
     ]
    }
   ],
   "source": [
    "alias set-xterm-window='$BIN_DIR/set_xterm_title.bash'\n",
    "# alias set-xterm-window='set_xterm_title.bash'\n",
    "function ipython() { \n",
    "    local ipython=$(which ipython)\n",
    "    if [ \"$ipython\" = \"\" ]; then echo \"Error: install ipython first\"; return; fi\n",
    "    set-xterm-window \"ipython [$PWD]\"\n",
    "    $ipython '$@'\n",
    "}\n",
    "\n",
    "function python-trace {\n",
    "    local script=\"$1\"\n",
    "    shift\n",
    "    $PYTHON -m trace --trace $(which \"$script\") \"$@\"\n",
    "    }\n",
    "    \n",
    "ipython --version | testuser\n",
    "linebr\n",
    "# STATEMENT TRACING WORKS WELL / ISSUES WITH TESTUSER\n",
    "python-trace l $BIN_DIR/tests/auto_batspp.py | testuser"
   ]
  },
  {
   "cell_type": "code",
   "execution_count": 29,
   "id": "c0b6f931",
   "metadata": {},
   "outputs": [
    {
     "name": "stdout",
     "output_type": "stream",
     "text": [
      "/usr/bin/python\n",
      "/usr/bin/python3\n"
     ]
    }
   ],
   "source": [
    "# which-python SHOWS THE PATH OF PYTHON\n",
    "alias which-python='which python'\n",
    "which-python\n",
    "#(ADDED FOR PYTHON3)\n",
    "alias which-py3='which python3' \n",
    "which-py3"
   ]
  },
  {
   "cell_type": "code",
   "execution_count": 30,
   "id": "dc80578a",
   "metadata": {},
   "outputs": [],
   "source": [
    "function py-diff () { do_diff.sh '*.py *.mako' \"$@\" 2>&1 | $PAGER; }"
   ]
  },
  {
   "cell_type": "code",
   "execution_count": 31,
   "id": "273938b4",
   "metadata": {},
   "outputs": [],
   "source": [
    "rm -rf ./*\n",
    "printf \"print('THIS IS A TEST')\" > atest.py\n",
    "printf \"print('THIS IS A TEST')\" > xyz.py\n",
    "printf \"print('THIS IS A TEST11')\" > abc1.py\n",
    "\n",
    "# SHOWS ALL THE DIFFERENCES BETWEEN THE PYTHON SCRIPTS\n",
    "# WORKS FINE - HALTS TESTS\n",
    "\n",
    "# $ py-diff atest.py xyz.py"
   ]
  },
  {
   "cell_type": "code",
   "execution_count": 32,
   "id": "9a40ffff",
   "metadata": {},
   "outputs": [],
   "source": [
    "# TEST NOT APPLICABLE RN \n",
    "function kivy-win32-env {\n",
    "   export PYTHONPATH='c:/cartera-de-tomas/python;c:/Program-Misc/python/kivy-1-9-0/kivy27'\n",
    "   kivy_dir=\"/c/Program-Misc/python/kivy-1-9-0\"\n",
    "   python_dir=\"$kivy_dir/Python27\"\n",
    "   prepend-path \"$kivy_dir:$kivy_dir/Python27:$kivy_dir/tools:$kivy_dir/Python27/Scripts:$kivy_dir/gstreamer/bin:$kivy_dir/MinGW/bin:$kivy_dir/SDL2/bin\"\n",
    "}"
   ]
  },
  {
   "cell_type": "code",
   "execution_count": 33,
   "id": "b6e7b1d1",
   "metadata": {},
   "outputs": [],
   "source": [
    "alias elide-data='python -m transpose_data --elide'\n",
    "alias kill-python=\"kill_em.sh --filter 'ipython|emacs' python\"\n",
    "alias kill-python-all=\"kill_em.sh python\""
   ]
  },
  {
   "cell_type": "code",
   "execution_count": 34,
   "id": "5dbc85eb",
   "metadata": {},
   "outputs": [],
   "source": [
    "# # ERRORS = OSTYPE is 'undefined variable' \n",
    "# # NOTE: elide-data shows RuntimeError if any testfile is named abc.py\n",
    "\n",
    "# $ echo $OSTYPE\n",
    "#   linebr\n",
    "#   elide-data $BIN_DIR/template.py\n",
    "#   linebr\n",
    "#   kill-python\n",
    "#   linebr\n",
    "#   kill-python-all\n",
    "\n",
    "# | linux-gnu\n",
    "# | --------------------------------------------------------------------------------\n",
    "# | /home/xaea12/miniconda3/bin/python: No module named transpose_data\n",
    "# | --------------------------------------------------------------------------------\n",
    "# | pattern=/:[0-9][0-9] [^ ]*python/\n",
    "# | filter=/ipython|emacs/\n",
    "# | OSTYPE: Undefined variable.\n",
    "# | --------------------------------------------------------------------------------\n",
    "# | pattern=/:[0-9][0-9] [^ ]*python/\n",
    "# | filter=/($)(^)/\n",
    "# | OSTYPE: Undefined variable.\n"
   ]
  },
  {
   "cell_type": "code",
   "execution_count": 35,
   "id": "9322aa5a",
   "metadata": {},
   "outputs": [],
   "source": [
    "alias TODAY='date'\n",
    "alias extract-matches='extract_matches.perl'\n",
    "\n",
    "function run-jupyter-notebook () {\n",
    "    local port=\"$1\"; if [ \"$port\" = \"\" ]; then port=8888; fi\n",
    "    local ip=\"$2\"; if [ \"$ip\" = \"\" ]; then ip=\"127.0.0.1\"; fi\n",
    "    local log=\"$TEMP/jupyter-$(TODAY).log\"\n",
    "    jupyter notebook --NotebookApp.token='' --no-browser --port $port --ip $ip >> \"$log\" 2>&1 &\n",
    "    echo \"$log\"\n",
    "    local delay=5\n",
    "    echo \"sleeping $delay seconds for log to stabalize (effing jupyter)\"\n",
    "    sleep $delay\n",
    "    tail \"$log\"\n",
    "    echo -n \"URL: \"\n",
    "    extract-matches 'http:\\S+' \"$log\" | sort -u\n",
    "}\n",
    "alias jupyter-notebook-redir=run-jupyter-notebook\n",
    "alias jupyter-notebook-redir-open='run-jupyter-notebook 8888 0.0.0.0'"
   ]
  },
  {
   "cell_type": "code",
   "execution_count": 36,
   "id": "caa3332b",
   "metadata": {},
   "outputs": [],
   "source": [
    "# # ERROR GENERATED (see below)\n",
    "# $ jupyter-notebook-redir-open\n",
    "\n",
    "# | [1] 5335\n",
    "# | /jupyter-Sun Aug 28 08:13:40 AM +0545 2022.log\n",
    "# | sleeping 5 seconds for log to stabalize (effing jupyter)\n",
    "# | bash: /jupyter-Sun Aug 28 08:13:40 AM +0545 2022.log: Permission denied\n",
    "# | [1]+  Exit 1                  jupyter notebook --NotebookApp.token='' --no-browser --port $port --ip $ip >> \"$log\" 2>&1\n",
    "# | tail: cannot open '/jupyter-Sun Aug 28 08:13:40 AM +0545 2022.log' for reading: No such file or directory\n",
    "# | URL: Can't open /jupyter-Sun Aug 28 08:13:40 AM +0545 2022.log: No such file or directory at /home/xaea12/bin/extract_matches.perl line 132.\n"
   ]
  },
  {
   "cell_type": "code",
   "execution_count": 37,
   "id": "5cba27d7",
   "metadata": {},
   "outputs": [],
   "source": [
    "function extract-text() { python -m extract_document_text \"$@\"; }\n",
    "alias xtract-text='extract-text'"
   ]
  },
  {
   "cell_type": "code",
   "execution_count": 38,
   "id": "9c155aa3",
   "metadata": {},
   "outputs": [],
   "source": [
    "# # ERROR - MODULE NOT FOUND\n",
    "\n",
    "# $ rm -rf ./*\n",
    "#   printf \"print('THIS IS A TEST FOR TEXT EXTRACT ALIAS.')\" > textex.py\n",
    "#   xtract-text ./textex.py\n",
    "\n",
    "# | /home/xaea12/miniconda3/bin/python: No module named extract_document_text"
   ]
  },
  {
   "cell_type": "code",
   "execution_count": 39,
   "id": "f6285ab0",
   "metadata": {},
   "outputs": [],
   "source": [
    "function test-script () {\n",
    "    local base=$(basename \"$1\" .py)\n",
    "    local date=$(todays-date)\n",
    "    local root=$(hg root)\n",
    "    PYTHONPATH=\"$root:.:$SANDBOX/tests:$PYTHONPATH\" $NICE $PYTHON tests/test_$base.py --verbose >| tests/_test_$base.$date.log 2>&1;\n",
    "    less-tail tests/_test_$base.$date.log;\n",
    "}\n",
    "\n",
    "alias test-script-debug='ALLOW_SUBCOMMAND_TRACING=1 DEBUG_LEVEL=5 MISC_TRACING_LEVEL=5 test-script'"
   ]
  },
  {
   "cell_type": "code",
   "execution_count": 40,
   "id": "53136103",
   "metadata": {},
   "outputs": [],
   "source": [
    "# # ERROR (LOG FILE NOT FOUND)\n",
    "# $ test-script ./textex.py\n",
    "# | abort: no repository found in '/tmp/test-py-commands/test-3443' (.hg not found)\n",
    "# | bash: tests/_test_textex.03sep22.log: No such file or directory\n",
    "# | tests/_test_textex.03sep22.log: No such file or directory"
   ]
  },
  {
   "cell_type": "code",
   "execution_count": 41,
   "id": "344be78f",
   "metadata": {},
   "outputs": [],
   "source": [
    "function randomize-datafile() {\n",
    "    local file=\"$1\"\n",
    "    local num_lines=\"$2\"\n",
    "    if [ \"$num_lines\" = \"\" ]; then num_lines=$(wc -l \"$file\"); fi\n",
    "    \n",
    "    head -1 \"$file\"\n",
    "    tail --lines=+2 \"$file\" | python -m randomize_lines | head -$num_lines\n",
    "}"
   ]
  },
  {
   "cell_type": "code",
   "execution_count": 42,
   "id": "31d1b151",
   "metadata": {},
   "outputs": [],
   "source": [
    "# TESTING A PYTHON SCRIPT\n",
    "printf \"print('THIS IS A TEST10')\\nprint('THIS IS A TEST11')\\nprint('THIS IS A TEST12')\\nprint('THIS IS A TEST13')\" > random_line_test.py"
   ]
  },
  {
   "cell_type": "code",
   "execution_count": 43,
   "id": "1b2474ec",
   "metadata": {},
   "outputs": [],
   "source": [
    "# ERROR : MISSING MODULE (No module named randomize_lines)\n",
    "# $ randomize-datafile random_line_test.py\n",
    "# | print('THIS IS A TEST10')\n",
    "# | print('THIS IS A TEST11')\n",
    "# | print('THIS IS A TEST12')\n",
    "# | /home/xaea12/miniconda3/bin/python: No module named randomize_lines"
   ]
  },
  {
   "cell_type": "code",
   "execution_count": 44,
   "id": "1e7716c4",
   "metadata": {},
   "outputs": [],
   "source": [
    "function filter-random() {\n",
    "    local pct=\"$1\"\n",
    "    local file=\"$2\"\n",
    "    local include_header=\"$3\"\n",
    "    if [ \"$include_header\" == \"\" ]; then include_header=1; fi\n",
    "\n",
    "    local ratio=$(perl -e \"printf('%.3f', ($pct / 100.0));\")\n",
    "    local compressed=0\n",
    "    if [[ $file =~ .gz ]]; then compressed=1; fi\n",
    "    local dir=$(dirname $file)\n",
    "    local base=$(basename $file)\n",
    "    local type=\"cat\"\n",
    "    local result=\"$dir/_r${pct}pct-$base\"\n",
    "\n",
    "\n",
    "    if [ \"$compressed\" = \"1\" ]; then \n",
    "       type=\"zcat\"; \n",
    "       result=$(echo \"$result\" | perl -pe 's/.gz$//;')\n",
    "    fi\n",
    "    local opts=\"\"\n",
    "    if [ \"$include_header\" = \"1\" ]; then opts=\"$opt --include-header\"; fi\n",
    "    $type \"$file\" | $PYTHON -m filter_random $opts --ratio $ratio - > \"$result\" 2> '$result.log'\n",
    "\n",
    "    if [ \"$compressed\" = \"1\" ]; then \n",
    "       gzip --force \"$result\"; \n",
    "    fi\n",
    "}"
   ]
  },
  {
   "cell_type": "code",
   "execution_count": 45,
   "id": "3b6aab89",
   "metadata": {},
   "outputs": [],
   "source": [
    "# filter-random _r10pct-fubar.data (TBF - NEED HELP OPERATING)"
   ]
  },
  {
   "cell_type": "code",
   "execution_count": 46,
   "id": "8c9be543",
   "metadata": {},
   "outputs": [],
   "source": [
    "function conditional-source () { if [ -e \"$1\" ]; then source \"$1\"; else echo \"Warning: bash script file not found (so not sourced):\"; echo \"    $1\"; fi; }\n",
    "function quiet-unalias {\n",
    "\n",
    "    if [ \"$BATS_TEST_FILENAME\" != \"\" ]; then\n",
    "        if [ \"$BATCH_MODE\" != \"1\" ]; then\n",
    "            echo \"Ignoring unalias over $* for sake of bats\"\n",
    "        fi\n",
    "        return\n",
    "    fi\n",
    "    unalias \"$@\" 2> /dev/null || true;\n",
    "}\n",
    "\n",
    "conditional-source $BIN_DIR/anaconda-aliases.bash\n",
    "conditional-source $BIN_DIR/git-aliases.bash"
   ]
  },
  {
   "cell_type": "code",
   "execution_count": 47,
   "id": "e7442465",
   "metadata": {},
   "outputs": [],
   "source": [
    "function curl-dump () {\n",
    "    local url=\"$1\";\n",
    "    local base=$(basename $url);\n",
    "    curl $url > $base;\n",
    "}\n",
    "\n",
    "function url-path () {\n",
    "    local file=\"$1\"\n",
    "    echo $(realpath \"$file\") | perl -pe 's@^@file:///@;'\n",
    "}\n"
   ]
  },
  {
   "cell_type": "code",
   "execution_count": 48,
   "id": "89a01a21",
   "metadata": {},
   "outputs": [
    {
     "name": "stdout",
     "output_type": "stream",
     "text": [
      "  % Total    % Received % Xferd  Average Speed   Time    Time     Time  Current\n",
      "                                 Dload  Upload   Total   Spent    Left  Speed\n",
      "100  1256  100  1256    0     0    867      0  0:00:01  0:00:01 --:--:--   868\n",
      "--------------------------------------------------------------------------------\n",
      ".rw-rw-r--   25 user 12 Nov 21:42  abc1.py\n",
      ".rw-rw-r--   23 user 12 Nov 21:42  atest.py\n",
      ".rw-rw-r--  103 user 12 Nov 21:42  random_line_test.py\n",
      ".rw-rw-r-- 1.3k user 12 Nov 21:42  www.example.com\n",
      ".rw-rw-r--   23 user 12 Nov 21:42  xyz.py\n",
      "--------------------------------------------------------------------------------\n",
      "file:////home/user/tom-project/shell-scripts/tests/auto_batspp.py\n"
     ]
    }
   ],
   "source": [
    "# TESTS FOR curl-dump AND url-path\n",
    "curl-dump https://www.example.com/\n",
    "linebr\n",
    "ls -l | testuser\n",
    "linebr\n",
    "url-path $BIN_DIR/tests/auto_batspp.py | testuser"
   ]
  },
  {
   "cell_type": "code",
   "execution_count": 49,
   "id": "682aa35c",
   "metadata": {},
   "outputs": [],
   "source": [
    "function invoke-browser() {\n",
    "    local browser_executable=\"$1\"\n",
    "    local file=\"$2\"\n",
    "    if [ \"$file\" != \"\" ]; then\n",
    "        if [[ ! $file =~ http ]]; then\n",
    "            file=$(url-path \"$file\")\n",
    "        fi\n",
    "    fi\n",
    "    local browser_base=$(basename \"$browser_executable\")\n",
    "    $browser_executable \"$file\" >> $TEMP/$browser_base.$(TODAY).log 2>&1 &\n",
    "}\n",
    "\n",
    "function which { command which \"$1\" 2> /dev/null; }\n",
    "alias firefox='invoke-browser \"'\"$(which firefox)\"'\"'\n"
   ]
  },
  {
   "cell_type": "code",
   "execution_count": 50,
   "id": "3777aa4a",
   "metadata": {},
   "outputs": [],
   "source": [
    "# # WORKS WELL - HALTS TESTING\n",
    "# $ firefox\n",
    "# | [1] 15869"
   ]
  },
  {
   "cell_type": "code",
   "execution_count": 51,
   "id": "c57545c5",
   "metadata": {},
   "outputs": [
    {
     "name": "stdout",
     "output_type": "stream",
     "text": [
      "/home/user/tom-project/shell-scripts/tests/tmp/test-py-commands/test-3443\n"
     ]
    }
   ],
   "source": [
    "pwd |  sed -r \"s/\"$USER\"+/user/g\"\n",
    "rm -rf *"
   ]
  },
  {
   "cell_type": "code",
   "execution_count": null,
   "id": "1816dfd0",
   "metadata": {},
   "outputs": [],
   "source": []
  }
 ],
 "metadata": {
  "kernelspec": {
   "display_name": "Bash",
   "language": "bash",
   "name": "bash"
  },
  "language_info": {
   "codemirror_mode": "shell",
   "file_extension": ".sh",
   "mimetype": "text/x-sh",
   "name": "bash"
  }
 },
 "nbformat": 4,
 "nbformat_minor": 5
}
