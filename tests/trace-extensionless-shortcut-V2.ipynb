{
 "cells": [
  {
   "cell_type": "code",
   "execution_count": 1,
   "id": "ee0d8a16",
   "metadata": {},
   "outputs": [],
   "source": [
    "## SETUP (OPTIONAL - USE IF REQUIRED)\n",
    "## Bracketed Paste is disabled to prevent characters after output\n",
    "## Example: \n",
    "## $ echo 'Hii'\n",
    "## | Hi?2004l\n",
    "# bind 'set enable-bracketed-paste off'"
   ]
  },
  {
   "cell_type": "code",
   "execution_count": 2,
   "id": "65d43538",
   "metadata": {},
   "outputs": [
    {
     "name": "stdout",
     "output_type": "stream",
     "text": [
      "PROMPT_DRZUUGNRPELF\\[\\]>\n"
     ]
    }
   ],
   "source": [
    "echo $PS1"
   ]
  },
  {
   "cell_type": "code",
   "execution_count": 3,
   "id": "d623c9a9",
   "metadata": {},
   "outputs": [],
   "source": [
    "## BAD\n",
    "# # Delete all aliases and function\n",
    "# # TODO: Instead start from pristine environment\n",
    "# unalias -a\n",
    "# alias | wc -l\n",
    "# for f in $(typeset -f | egrep '^\\w+'); do unset -f $f; done\n",
    "# typeset -f | egrep '^\\w+' | wc -l\n",
    "\n",
    "# Setting a temp directory for tests\n",
    "TMP=/tmp/test-extensionless\n",
    "BIN_DIR=$PWD/.."
   ]
  },
  {
   "cell_type": "code",
   "execution_count": 4,
   "id": "0ff8f157",
   "metadata": {},
   "outputs": [
    {
     "name": "stdout",
     "output_type": "stream",
     "text": [
      "440\n"
     ]
    }
   ],
   "source": [
    "alias | wc -l"
   ]
  },
  {
   "cell_type": "code",
   "execution_count": 5,
   "id": "f93dc93d",
   "metadata": {},
   "outputs": [],
   "source": [
    "## OLD: Defined Below @ 8\n",
    "# alias testuser=\"sed -r \"s/\"$USER\"+/user/g\"\""
   ]
  },
  {
   "cell_type": "code",
   "execution_count": 6,
   "id": "ab954c7f",
   "metadata": {},
   "outputs": [],
   "source": [
    "temp_dir=$TMP/test-3570\n",
    "## OLD \n",
    "# mkdir -p \"$temp_dir\"\n",
    "# cd \"$temp_dir\"\n",
    "# pwd\n",
    "command mkdir -p \"$temp_dir\"\n",
    "command cd \"$temp_dir\"\n",
    "#ALIAS FOR PRINTING SEPERATION LINES (FOR JUPYTER)\n",
    "alias linebr=\"printf '%*s\\n' \"${COLUMNS:-$(tput cols)}\" '' | tr ' ' -\""
   ]
  },
  {
   "cell_type": "code",
   "execution_count": 7,
   "id": "ec6df159",
   "metadata": {},
   "outputs": [
    {
     "name": "stdout",
     "output_type": "stream",
     "text": [
      "441\n",
      "474\n"
     ]
    }
   ],
   "source": [
    "# Count aliases proper\n",
    "alias | wc -l\n",
    "# Count functions\n",
    "typeset -f | egrep '^\\w+' | wc -l"
   ]
  },
  {
   "cell_type": "code",
   "execution_count": 8,
   "id": "8d2d64e7",
   "metadata": {},
   "outputs": [],
   "source": [
    "# Global Setup\n",
    "alias testnum=\"sed -r \"s/[0-9]/N/g\"\" \n",
    "alias testuser=\"sed -r \"s/\"$USER\"+/userxf333/g\"\""
   ]
  },
  {
   "cell_type": "code",
   "execution_count": 9,
   "id": "faf99139",
   "metadata": {},
   "outputs": [],
   "source": [
    "## BAD\n",
    "# source $BIN_DIR/tomohara-aliases.bash"
   ]
  },
  {
   "cell_type": "code",
   "execution_count": 10,
   "id": "b2919e2f",
   "metadata": {},
   "outputs": [
    {
     "name": "stdout",
     "output_type": "stream",
     "text": [
      "24\n"
     ]
    }
   ],
   "source": [
    "# # 1.1) NO EXAMPLES RN FOR kill-em and kill-it\n",
    "# kill-em () | kill-em and kill-it returns same value\n",
    "kill-em --test firefox | wc -l"
   ]
  },
  {
   "cell_type": "code",
   "execution_count": 11,
   "id": "40460077",
   "metadata": {},
   "outputs": [
    {
     "name": "stdout",
     "output_type": "stream",
     "text": [
      "25\n"
     ]
    }
   ],
   "source": [
    "# kill-it ()\n",
    "kill-it --test firefox | wc -l"
   ]
  },
  {
   "cell_type": "code",
   "execution_count": 12,
   "id": "94ed70f0",
   "metadata": {},
   "outputs": [],
   "source": [
    "## 1.2) ERROR GENERATED - SCRIPT MISSING\n",
    "# $ convert-termstrings\n",
    "# | Can't open perl script \"convert_termstrings.perl\": No such file or directory"
   ]
  },
  {
   "cell_type": "code",
   "execution_count": 13,
   "id": "98b974b4",
   "metadata": {},
   "outputs": [
    {
     "name": "stdout",
     "output_type": "stream",
     "text": [
      "renamed 'tomove.txt' -> './newdir1/tomove.txt'\n",
      "\u001b[0m\u001b[01;34mnewdir1\u001b[0m  test.txt\n",
      "Backing up 'test.txt' to './backup/test.txt'\n",
      "--------------------------------------------------------------------------------\n",
      "\u001b[0m\u001b[01;34mbackup\u001b[0m  \u001b[01;34mnewdir1\u001b[0m  test.txt\n"
     ]
    }
   ],
   "source": [
    "rm -rf ./* > /dev/null\n",
    "printf \"TOP\\nTHIS IS A TEST\\nBOTTOM\" > test.txt\n",
    "printf \"THIS IS A FILE TO MOVE\" > tomove.txt\n",
    "mkdir newdir1\n",
    "\n",
    "move tomove.txt ./newdir1/\n",
    "ls\n",
    "\n",
    "dobackup test.txt\n",
    "linebr\n",
    "ls"
   ]
  },
  {
   "cell_type": "code",
   "execution_count": 14,
   "id": "1584698d",
   "metadata": {},
   "outputs": [
    {
     "name": "stdout",
     "output_type": "stream",
     "text": [
      "NNN\n"
     ]
    }
   ],
   "source": [
    "# Large List of process with full process paths\n",
    "# Number of process is random\n",
    "ps-mine-all | wc -l | testnum "
   ]
  },
  {
   "cell_type": "code",
   "execution_count": 15,
   "id": "c7070a99",
   "metadata": {},
   "outputs": [
    {
     "name": "stdout",
     "output_type": "stream",
     "text": [
      "\n"
     ]
    }
   ],
   "source": [
    "# HELP REQUIRED FOR RCS FILES (TBC)\n",
    "## OLD\n",
    "## do-rcsdiff\n",
    "do-rcsdiff | head -n 1"
   ]
  },
  {
   "cell_type": "code",
   "execution_count": 16,
   "id": "22a23226",
   "metadata": {},
   "outputs": [
    {
     "name": "stdout",
     "output_type": "stream",
     "text": [
      "'./versionR.txt' -> './versionR-1.txt'\n",
      " \u001b[0m\u001b[01;34mbackup\u001b[0m            test.txt       'version none.txt'  'version?.txt'\n",
      " grep_manual.txt   versionA.txta   versionR-1.txt      versionV.txt\n",
      " \u001b[01;34mnewdir1\u001b[0m           versionI.txt    versionR.txt\n"
     ]
    }
   ],
   "source": [
    "uname -r > versionR.txt\n",
    "uname -a > versionA.txta\n",
    "uname -v > versionV.txt\n",
    "uname -i > versionI.txt\n",
    "uname > \"version none.txt\"\n",
    "uname -ra > \"version?.txt\"\n",
    "\n",
    "man grep > grep_manual.txt\n",
    "\n",
    "cp ./versionR.txt ./versionR-1.txt\n",
    "ls"
   ]
  },
  {
   "cell_type": "code",
   "execution_count": 17,
   "id": "d6117d46",
   "metadata": {},
   "outputs": [
    {
     "name": "stdout",
     "output_type": "stream",
     "text": [
      "renaming \"test.txt\" to \"harry.txt\"\n"
     ]
    }
   ],
   "source": [
    "rename-files -q test.txt harry.txt"
   ]
  },
  {
   "cell_type": "code",
   "execution_count": 18,
   "id": "95161560",
   "metadata": {},
   "outputs": [],
   "source": [
    "# # NEED HELP (TBC)\n",
    "\n",
    "# $ testwn\n",
    "# | Undefined subroutine &main::NO_OP called at /home/xaea12/bin/common.perl line 2172.\n"
   ]
  },
  {
   "cell_type": "code",
   "execution_count": 19,
   "id": "8298cf91",
   "metadata": {},
   "outputs": [
    {
     "name": "stdout",
     "output_type": "stream",
     "text": [
      "       grep, egrep, fgrep, rgrep - print lines that match patterns\n",
      "       patterns separated by newline characters, and  grep  prints  each  line\n",
      "              Suppress normal output; instead print a count of matching  lines\n",
      "              Suppress  normal  output;  instead  print the name of each input\n",
      "              file from which no output would normally have been printed.\n",
      "              Suppress normal output; instead print the  name  of  each  input\n",
      "              file  from  which  output  would  normally  have  been  printed.\n",
      "              line of output.  If -o (--only-matching) is specified, print the\n",
      "              be printed in a minimum size field width.\n",
      "              -print0,  perl  -0,  sort  -z, and xargs -0 to process arbitrary\n",
      "              When  -A,  -B, or -C are in use, print SEP instead of -- between\n",
      "              When -A, -B, or -C are in use, do not print a separator  between\n",
      "       [:graph:], [:lower:], [:print:], [:punct:], [:space:],  [:upper:],  and\n"
     ]
    }
   ],
   "source": [
    "perlgrep \"print\" ./grep_manual.txt"
   ]
  },
  {
   "cell_type": "code",
   "execution_count": 20,
   "id": "3ca47040",
   "metadata": {},
   "outputs": [
    {
     "name": "stdout",
     "output_type": "stream",
     "text": [
      "grep_manual.txt\n",
      "harry.txt\n",
      "versionI.txt\n",
      "version none.txt\n",
      "versionR-1.txt\n",
      "versionR.txt\n",
      "version?.txt versionI.txt versionR.txt versionV.txt\n",
      "versionV.txt\n"
     ]
    }
   ],
   "source": [
    "# Need Help with example\n",
    "foreach \"echo $f\" *.txt"
   ]
  },
  {
   "cell_type": "code",
   "execution_count": 21,
   "id": "5877539b",
   "metadata": {},
   "outputs": [
    {
     "name": "stdout",
     "output_type": "stream",
     "text": [
      "renaming \"version none.txt\" to \"version_none.txt\"\n"
     ]
    }
   ],
   "source": [
    "rename-spaces"
   ]
  },
  {
   "cell_type": "code",
   "execution_count": 22,
   "id": "b4a3202e",
   "metadata": {},
   "outputs": [
    {
     "name": "stdout",
     "output_type": "stream",
     "text": [
      "renaming \"version?.txt\" to \"version_.txt\"\n"
     ]
    }
   ],
   "source": [
    "rename-special-punct"
   ]
  },
  {
   "cell_type": "code",
   "execution_count": 23,
   "id": "104d555f",
   "metadata": {},
   "outputs": [],
   "source": [
    "ps -l >> \"process(L).md\"\n",
    "ps -u >> \"process(U).md\"\n",
    "ps -x >> \"process(X).md\"\n",
    "ps -al >> \"process'all'.md\"\n",
    "ps -aux >> 'psaux(1).txt'\n",
    "ps -aux >> 'psaux(2).txt'\n",
    "ps -aux >> 'psaux(3).txt'"
   ]
  },
  {
   "cell_type": "code",
   "execution_count": 24,
   "id": "66ff2781",
   "metadata": {},
   "outputs": [
    {
     "name": "stdout",
     "output_type": "stream",
     "text": [
      "renamed 'psaux(1).txt' -> 'duplicates/psaux(1).txt'\n",
      "renamed 'psaux(2).txt' -> 'duplicates/psaux(2).txt'\n",
      "renamed 'psaux(3).txt' -> 'duplicates/psaux(3).txt'\n"
     ]
    }
   ],
   "source": [
    "move-duplicates"
   ]
  },
  {
   "cell_type": "code",
   "execution_count": 25,
   "id": "33d36d20",
   "metadata": {},
   "outputs": [
    {
     "name": "stdout",
     "output_type": "stream",
     "text": [
      "renaming \"process(L).md\" to \"processL.md\"\n",
      "renaming \"process(U).md\" to \"processU.md\"\n",
      "renaming \"process(X).md\" to \"processX.md\"\n"
     ]
    }
   ],
   "source": [
    "rename-parens -v"
   ]
  },
  {
   "cell_type": "code",
   "execution_count": 26,
   "id": "8e6b254c",
   "metadata": {},
   "outputs": [
    {
     "name": "stdout",
     "output_type": "stream",
     "text": [
      "WARNING: Ignoring -quick mode as files specified\n"
     ]
    }
   ],
   "source": [
    "# Need Help \n",
    "rename-quotes -v"
   ]
  },
  {
   "cell_type": "code",
   "execution_count": 27,
   "id": "3a5731b8",
   "metadata": {},
   "outputs": [
    {
     "name": "stdout",
     "output_type": "stream",
     "text": [
      " \u001b[0m\u001b[01;34mbackup\u001b[0m            \u001b[01;34mnewdir1\u001b[0m            processX.md        versionR-1.txt\n",
      " \u001b[01;34mduplicates\u001b[0m       \"process'all'.md\"   versionA.txta      versionR.txt\n",
      " grep_manual.txt   processL.md        versionI.txt       version_.txt\n",
      " harry.txt         processU.md        version_none.txt   versionV.txt\n"
     ]
    }
   ],
   "source": [
    "ls"
   ]
  },
  {
   "cell_type": "code",
   "execution_count": 28,
   "id": "672d1bd6",
   "metadata": {},
   "outputs": [],
   "source": [
    "man sudo > sudo_manual.out\n",
    "man ansifilter > fakelog.log\n",
    "ps -aux > process_all.html"
   ]
  },
  {
   "cell_type": "code",
   "execution_count": 29,
   "id": "2b2b495d",
   "metadata": {},
   "outputs": [],
   "source": [
    "# # HELP REQUIRED - TBF\n",
    "# $ move-log-files\n",
    "# | /bin/mv: missing destination file operand after 'log-files'\n",
    "# | Try '/bin/mv --help' for more information."
   ]
  },
  {
   "cell_type": "code",
   "execution_count": 30,
   "id": "527d72eb",
   "metadata": {},
   "outputs": [],
   "source": [
    "# # HELP REQUIRED - TBF\n",
    "# $ move-output-files\n",
    "# | mv: cannot stat '$eval_middle': No such file or directory"
   ]
  },
  {
   "cell_type": "code",
   "execution_count": 31,
   "id": "937d9242",
   "metadata": {},
   "outputs": [
    {
     "name": "stdout",
     "output_type": "stream",
     "text": [
      "cp: cannot stat 'processall.md': No such file or directory\n",
      "3\n"
     ]
    }
   ],
   "source": [
    "copy-with-file-date *.md | wc -l"
   ]
  },
  {
   "cell_type": "code",
   "execution_count": 32,
   "id": "d9ba3659",
   "metadata": {},
   "outputs": [],
   "source": [
    "man cat > man_cat.txt"
   ]
  },
  {
   "cell_type": "code",
   "execution_count": 33,
   "id": "c7e4c426",
   "metadata": {},
   "outputs": [
    {
     "name": "stdout",
     "output_type": "stream",
     "text": [
      "to\tN\n",
      "and\tN\n",
      "standard\tN\n",
      "output\tN\n",
      "cat\tN\n",
      "free\tN\n",
      "is\tN\n",
      "gnu\tN\n",
      "equivalent\tN\n",
      "or\tN\n",
      "display\tN\n",
      "coreutils\tN\n",
      "exit\tN\n",
      "the\tN\n",
      "copyright\tN\n",
      "this\tN\n",
      "no\tN\n",
      "version\tN\n",
      "then\tN\n",
      "cat(N)\tN\n",
      "NNNN\tN\n",
      "by\tN\n",
      "lines\tN\n",
      "concatenate\tN\n",
      "number\tN\n",
      "output.\tN\n",
      "bugs\tN\n",
      "-\tN\n",
      "tab\tN\n",
      "f's\tN\n",
      "locally\tN\n",
      "characters\tN\n",
      "file,\tN\n",
      "description\tN\n",
      "september\tN\n",
      "N.N\tN\n",
      "lfd\tN\n",
      "extent\tN\n",
      "overrides\tN\n",
      "-vet\tN\n",
      "-b,\tN\n",
      "it.\tN\n",
      "later\tN\n",
      "contents,\tN\n",
      "for\tN\n",
      "warranty,\tN\n",
      "--number-nonblank\tN\n",
      "info\tN\n",
      "print\tN\n",
      "user\tN\n",
      "help:\tN\n",
      "-,\tN\n",
      "suppress\tN\n",
      "input,\tN\n",
      "-t,\tN\n",
      "all\tN\n",
      "-vt\tN\n",
      "<https://www.gnu.org/software/coreutils/cat>\tN\n",
      "any\tN\n",
      "full\tN\n",
      "-e,\tN\n",
      "<https://www.gnu.org/software/coreutils/>\tN\n",
      "law.\tN\n",
      "at\tN\n",
      "also\tN\n",
      "n/a\tN\n",
      "information\tN\n",
      "with\tN\n",
      "line\tN\n",
      "via:\tN\n",
      "there\tN\n",
      "^\tN\n",
      "software\tN\n",
      "©\tN\n",
      "-n,\tN\n",
      "input\tN\n",
      "author\tN\n",
      "invocation'\tN\n",
      "notation,\tN\n",
      "-u\tN\n",
      "see\tN\n",
      "file(s)\tN\n",
      "'(coreutils)\tN\n",
      "torbjorn\tN\n",
      "(ignored)\tN\n",
      "g's\tN\n",
      "--help\tN\n",
      "name\tN\n",
      "help\tN\n",
      "richard\tN\n",
      "reporting\tN\n",
      "of\tN\n",
      "report\tN\n",
      "repeated\tN\n",
      "<https://gnu.org/licenses/gpl.html>.\tN\n",
      "examples\tN\n",
      "stallman.\tN\n",
      "read\tN\n",
      "each\tN\n",
      "software:\tN\n",
      "m-\tN\n",
      "files\tN\n",
      "you\tN\n",
      "--squeeze-blank\tN\n",
      "as\tN\n",
      "^i\tN\n",
      "-s,\tN\n",
      "m.\tN\n",
      "<https://translationproject.org/team/>\tN\n",
      "f\tN\n",
      "inc.\tN\n",
      "nonempty\tN\n",
      "are\tN\n",
      "tac(N)\tN\n",
      "when\tN\n",
      "gplvN+:\tN\n",
      "copy\tN\n",
      "contents.\tN\n",
      "commands\tN\n",
      "synopsis\tN\n",
      "-n\tN\n",
      "lines,\tN\n",
      "permitted\tN\n",
      "change\tN\n",
      "end\tN\n",
      "documentation\tN\n",
      "--show-all\tN\n",
      "on\tN\n",
      "-t\tN\n",
      "translation\tN\n",
      "granlund\tN\n",
      "empty\tN\n",
      "license\tN\n",
      "-e\tN\n",
      "--show-nonprinting\tN\n",
      "written\tN\n",
      "--show-tabs\tN\n",
      "foundation,\tN\n",
      "available\tN\n",
      "redistribute\tN\n",
      "--number\tN\n",
      "input.\tN\n",
      "--version\tN\n",
      "online\tN\n",
      "file\tN\n",
      "-a,\tN\n",
      "gpl\tN\n",
      "$\tN\n",
      "-v,\tN\n",
      "[file]...\tN\n",
      "except\tN\n",
      "N\tN\n",
      "use\tN\n",
      "--show-ends\tN\n",
      "-ve\tN\n",
      "[option]...\tN\n",
      "g\tN\n"
     ]
    }
   ],
   "source": [
    "unigrams ./man_cat.txt | testuser | testnum"
   ]
  },
  {
   "cell_type": "code",
   "execution_count": 34,
   "id": "1d96c16e",
   "metadata": {
    "scrolled": true
   },
   "outputs": [
    {
     "name": "stdout",
     "output_type": "stream",
     "text": [
      "to\tN\n",
      "and\tN\n",
      "standard\tN\n",
      "output\tN\n",
      "cat\tN\n",
      "free\tN\n",
      "equivalent\tN\n",
      "display\tN\n",
      "or\tN\n",
      "gnu\tN\n",
      "is\tN\n",
      "bugs\tN\n",
      "-\tN\n",
      "this\tN\n",
      "output.\tN\n",
      "the\tN\n",
      "NNNN\tN\n",
      "tab\tN\n",
      "concatenate\tN\n",
      "cat(N)\tN\n",
      "copyright\tN\n",
      "by\tN\n",
      "exit\tN\n",
      "lines\tN\n",
      "no\tN\n",
      "version\tN\n",
      "number\tN\n",
      "coreutils\tN\n",
      "then\tN\n",
      "full\tN\n",
      "suppress\tN\n",
      "lfd\tN\n",
      "synopsis\tN\n",
      "redistribute\tN\n",
      "there\tN\n",
      "<https://gnu.org/licenses/gpl.html>.\tN\n",
      "tac(N)\tN\n",
      "extent\tN\n",
      "g\tN\n",
      "help\tN\n",
      "line\tN\n",
      "-t,\tN\n",
      "use\tN\n",
      "-u\tN\n",
      "gpl\tN\n",
      "-n,\tN\n",
      "documentation\tN\n",
      "(ignored)\tN\n",
      "f's\tN\n",
      "examples\tN\n",
      "reporting\tN\n",
      "are\tN\n",
      "description\tN\n",
      "-vt\tN\n",
      "notation,\tN\n",
      "-t\tN\n",
      "of\tN\n",
      "^\tN\n",
      "each\tN\n",
      "--version\tN\n",
      "-n\tN\n",
      "with\tN\n",
      "lines,\tN\n",
      "[file]...\tN\n",
      "also\tN\n",
      "contents,\tN\n",
      "locally\tN\n",
      "except\tN\n",
      "read\tN\n",
      "change\tN\n",
      "all\tN\n",
      "file,\tN\n",
      "end\tN\n",
      "warranty,\tN\n",
      "file\tN\n",
      "repeated\tN\n",
      "--show-ends\tN\n",
      "m.\tN\n",
      "input\tN\n",
      "name\tN\n",
      "torbjorn\tN\n",
      "via:\tN\n",
      "user\tN\n",
      "written\tN\n",
      "see\tN\n",
      "later\tN\n",
      "©\tN\n",
      "--squeeze-blank\tN\n",
      "-v,\tN\n",
      "gplvN+:\tN\n",
      "m-\tN\n",
      "license\tN\n",
      "--number-nonblank\tN\n",
      "<https://www.gnu.org/software/coreutils/cat>\tN\n",
      "granlund\tN\n",
      "contents.\tN\n",
      "as\tN\n",
      "at\tN\n",
      "N\tN\n",
      "--help\tN\n",
      "translation\tN\n",
      "-,\tN\n",
      "-e,\tN\n",
      "software\tN\n",
      "[option]...\tN\n",
      "'(coreutils)\tN\n",
      "input.\tN\n",
      "author\tN\n",
      "law.\tN\n",
      "inc.\tN\n",
      "<https://translationproject.org/team/>\tN\n",
      "g's\tN\n",
      "--show-nonprinting\tN\n",
      "copy\tN\n",
      "-ve\tN\n",
      "it.\tN\n",
      "f\tN\n",
      "invocation'\tN\n",
      "for\tN\n",
      "--show-all\tN\n",
      "information\tN\n",
      "when\tN\n",
      "stallman.\tN\n",
      "-vet\tN\n",
      "report\tN\n",
      "available\tN\n",
      "file(s)\tN\n",
      "overrides\tN\n",
      "-e\tN\n",
      "commands\tN\n",
      "empty\tN\n",
      "^i\tN\n",
      "richard\tN\n",
      "permitted\tN\n",
      "n/a\tN\n",
      "foundation,\tN\n",
      "$\tN\n",
      "online\tN\n",
      "help:\tN\n",
      "--show-tabs\tN\n",
      "files\tN\n",
      "any\tN\n",
      "software:\tN\n",
      "--number\tN\n",
      "-s,\tN\n",
      "nonempty\tN\n",
      "print\tN\n",
      "-b,\tN\n",
      "-a,\tN\n",
      "on\tN\n",
      "you\tN\n",
      "N.N\tN\n",
      "characters\tN\n",
      "september\tN\n",
      "info\tN\n",
      "<https://www.gnu.org/software/coreutils/>\tN\n",
      "input,\tN\n"
     ]
    }
   ],
   "source": [
    "word-count ./man_cat.txt | testuser | testnum"
   ]
  },
  {
   "cell_type": "code",
   "execution_count": 35,
   "id": "71adad1d",
   "metadata": {},
   "outputs": [
    {
     "name": "stdout",
     "output_type": "stream",
     "text": [
      "equivalent:to\tN\n",
      "and:exit\tN\n",
      "to:standard\tN\n",
      "gnu:coreutils\tN\n",
      "standard:output.\tN\n",
      "output:lines\tN\n",
      "available:locally\tN\n",
      "display:this\tN\n",
      "with:no\tN\n",
      "license:gplvN+:\tN\n",
      "-e,:--show-ends\tN\n",
      "-t,:--show-tabs\tN\n",
      "concatenate:file(s)\tN\n",
      "or:later\tN\n",
      "then:standard\tN\n",
      "to:-ve\tN\n",
      "free:software\tN\n",
      "to:change\tN\n",
      "tac(N):full\tN\n",
      "-vt:-t,\tN\n",
      "and:tab\tN\n",
      "this:is\tN\n",
      "standard:input\tN\n",
      "foundation,:inc.\tN\n",
      "lines:-t\tN\n",
      "there:is\tN\n",
      "to:the\tN\n",
      "repeated:empty\tN\n",
      "or:available\tN\n",
      "description:concatenate\tN\n",
      "is:no\tN\n",
      "the:standard\tN\n",
      "and:print\tN\n",
      "software:foundation,\tN\n",
      "and:richard\tN\n",
      "standard:input,\tN\n",
      "gplvN+::gnu\tN\n",
      "lines:-s,\tN\n",
      "-b,:--number-nonblank\tN\n",
      "standard:input.\tN\n",
      "no:warranty,\tN\n",
      "--show-ends:display\tN\n",
      "-t:equivalent\tN\n",
      "overrides:-n\tN\n",
      "to:<https://translationproject.org/team/>\tN\n",
      "also:tac(N)\tN\n",
      "no:file,\tN\n",
      "--number:number\tN\n",
      "contents.:cat\tN\n",
      "output:version\tN\n",
      "characters:as\tN\n",
      "^:and\tN\n",
      "any:translation\tN\n",
      "[file]...:description\tN\n",
      "as:^i\tN\n",
      "commands:cat(N)\tN\n",
      "author:written\tN\n",
      "N:or\tN\n",
      "output:lines,\tN\n",
      "info:'(coreutils)\tN\n",
      "gnu:gpl\tN\n",
      "-n:-e\tN\n",
      "user:commands\tN\n",
      "online:help:\tN\n",
      "copy:standard\tN\n",
      "$:at\tN\n",
      "are:free\tN\n",
      "this:help\tN\n",
      "output.:author\tN\n",
      "free:software:\tN\n",
      "cat:-\tN\n",
      "or:when\tN\n",
      "warranty,:to\tN\n",
      "invocation':gnu\tN\n",
      "is:free\tN\n",
      "torbjorn:granlund\tN\n",
      "n/a:cat(N)\tN\n",
      "change:and\tN\n",
      "gpl:version\tN\n",
      "standard:output\tN\n",
      "input:to\tN\n",
      "september:NNNN\tN\n",
      "stallman.:reporting\tN\n",
      "except:for\tN\n",
      "concatenate:files\tN\n",
      "by:law.\tN\n",
      "empty:output\tN\n",
      "cat:f\tN\n",
      "m.:stallman.\tN\n",
      "and:m-\tN\n",
      "--show-tabs:display\tN\n",
      "file(s):to\tN\n",
      "-vet:-b,\tN\n",
      "display:$\tN\n",
      "-ve:-e,\tN\n",
      "-,:read\tN\n",
      "via::info\tN\n",
      "n/a:n/a\tN\n",
      "tab:--help\tN\n",
      "later:<https://gnu.org/licenses/gpl.html>.\tN\n",
      "granlund:and\tN\n",
      "version:information\tN\n",
      "(ignored):-v,\tN\n",
      "then:g's\tN\n",
      "m-:notation,\tN\n",
      "permitted:by\tN\n",
      "copyright:©\tN\n",
      "<https://www.gnu.org/software/coreutils/cat>:or\tN\n",
      "name:cat\tN\n",
      "number:all\tN\n",
      "notation,:except\tN\n",
      "bugs:to\tN\n",
      "-e:equivalent\tN\n",
      "cat(N):name\tN\n",
      "is:-,\tN\n",
      "to:-vt\tN\n",
      "output.:with\tN\n",
      "cat:[option]...\tN\n",
      "tab:characters\tN\n",
      "-v,:--show-nonprinting\tN\n",
      "you:are\tN\n",
      "print:on\tN\n",
      "extent:permitted\tN\n",
      "lfd:and\tN\n",
      "NNNN:free\tN\n",
      "<https://www.gnu.org/software/coreutils/>:report\tN\n",
      "-:concatenate\tN\n",
      "each:line\tN\n",
      "--number-nonblank:number\tN\n",
      "richard:m.\tN\n",
      "g's:contents.\tN\n",
      "--version:output\tN\n",
      "on:the\tN\n",
      "cat(N):user\tN\n",
      "free:to\tN\n",
      "all:output\tN\n",
      "'(coreutils):cat\tN\n",
      "<https://gnu.org/licenses/gpl.html>.:this\tN\n",
      "translation:bugs\tN\n",
      "-u:(ignored)\tN\n",
      "file:is\tN\n",
      "of:each\tN\n",
      "redistribute:it.\tN\n",
      "reporting:bugs\tN\n",
      "suppress:repeated\tN\n",
      "^i:-u\tN\n",
      "synopsis:cat\tN\n",
      "line:-n,\tN\n",
      "for:lfd\tN\n",
      "coreutils:N.N\tN\n",
      "output:f's\tN\n",
      "use:^\tN\n",
      "and:redistribute\tN\n",
      "report:any\tN\n",
      "cat:copy\tN\n",
      "help:and\tN\n",
      "input,:then\tN\n",
      "nonempty:output\tN\n",
      "full:documentation\tN\n",
      "to:-vet\tN\n",
      "help::<https://www.gnu.org/software/coreutils/>\tN\n",
      "--squeeze-blank:suppress\tN\n",
      "f's:contents,\tN\n",
      "lines,:overrides\tN\n",
      "it.:there\tN\n",
      "output:synopsis\tN\n",
      "-a,:--show-all\tN\n",
      "version:N\tN\n",
      "-:g\tN\n",
      "information:and\tN\n",
      "number:nonempty\tN\n",
      "read:standard\tN\n",
      "contents,:then\tN\n",
      "documentation:<https://www.gnu.org/software/coreutils/cat>\tN\n",
      "by:torbjorn\tN\n",
      "--help:display\tN\n",
      "display:tab\tN\n",
      "--show-nonprinting:use\tN\n",
      "N.N:september\tN\n",
      "<https://translationproject.org/team/>:copyright\tN\n",
      "©:NNNN\tN\n",
      "cat:invocation'\tN\n",
      "bugs:gnu\tN\n",
      "--show-all:equivalent\tN\n",
      "exit:--version\tN\n",
      "copyright:copyright\tN\n",
      "input.:-a,\tN\n",
      "inc.:license\tN\n",
      "locally:via:\tN\n",
      "file,:or\tN\n",
      "files:and\tN\n",
      "-n,:--number\tN\n",
      "see:also\tN\n",
      "f:-\tN\n",
      "at:end\tN\n",
      "when:file\tN\n",
      "[option]...:[file]...\tN\n",
      "law.:see\tN\n",
      "-s,:--squeeze-blank\tN\n",
      "coreutils:online\tN\n",
      "exit:examples\tN\n",
      "software::you\tN\n",
      "examples:cat\tN\n",
      "the:extent\tN\n",
      "g:output\tN\n",
      "written:by\tN\n",
      "end:of\tN\n"
     ]
    }
   ],
   "source": [
    "bigrams ./man_cat.txt | testuser | testnum"
   ]
  },
  {
   "cell_type": "code",
   "execution_count": 36,
   "id": "d57951d5",
   "metadata": {},
   "outputs": [],
   "source": [
    "# # WORKS FINE - HALTS PROCESS\n",
    "# $ lynx-html"
   ]
  },
  {
   "cell_type": "code",
   "execution_count": 37,
   "id": "86419b9f",
   "metadata": {},
   "outputs": [
    {
     "name": "stdout",
     "output_type": "stream",
     "text": [
      "     [ [1]About Lynx-Dev | [2]Lynx-Dev Archives ]\n"
     ]
    }
   ],
   "source": [
    "## OLD\n",
    "# lynx-dump-stdout | head\n",
    "lynx-dump-stdout | grep \"About Lynx\" | head -n 1"
   ]
  },
  {
   "cell_type": "code",
   "execution_count": 38,
   "id": "d9ed2744",
   "metadata": {},
   "outputs": [],
   "source": [
    "# (Need Help)\n",
    "# $ lynx-dump\n",
    "# | bash: .txt: cannot overwrite existing file"
   ]
  },
  {
   "cell_type": "code",
   "execution_count": 39,
   "id": "f45efa52",
   "metadata": {},
   "outputs": [
    {
     "name": "stdout",
     "output_type": "stream",
     "text": [
      "xaea12-temp\n"
     ]
    }
   ],
   "source": [
    "setenv MY_USERNAME xaea12-temp\n",
    "echo $MY_USERNAME"
   ]
  },
  {
   "cell_type": "code",
   "execution_count": 40,
   "id": "addf3591",
   "metadata": {},
   "outputs": [
    {
     "name": "stdout",
     "output_type": "stream",
     "text": [
      "\n"
     ]
    }
   ],
   "source": [
    "unexport MY_USERNAME\n",
    "echo $MY_USERNAME"
   ]
  },
  {
   "cell_type": "code",
   "execution_count": 41,
   "id": "49d6d56d",
   "metadata": {},
   "outputs": [
    {
     "name": "stdout",
     "output_type": "stream",
     "text": [
      "END\n"
     ]
    }
   ],
   "source": [
    "echo \"END\""
   ]
  }
 ],
 "metadata": {
  "kernelspec": {
   "display_name": "Bash",
   "language": "bash",
   "name": "bash"
  },
  "language_info": {
   "codemirror_mode": "shell",
   "file_extension": ".sh",
   "mimetype": "text/x-sh",
   "name": "bash"
  }
 },
 "nbformat": 4,
 "nbformat_minor": 5
}
