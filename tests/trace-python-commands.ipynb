{
 "cells": [
  {
   "cell_type": "code",
   "execution_count": 1,
   "id": "5e4b75f9",
   "metadata": {},
   "outputs": [],
   "source": [
    "# Setup (OPTIONAL - USED IF NEEDED)\n",
    "## bind 'set enable-bracketed-paste off'"
   ]
  },
  {
   "cell_type": "code",
   "execution_count": 2,
   "id": "65d43538",
   "metadata": {},
   "outputs": [],
   "source": [
    "## OLD\n",
    "## ## TEST:  Make sure simple prompt used (e.g., no escapes that might contaminate output)\n",
    "## ## PS1=\"$ \"\n",
    "## ## TODO: PS1=\"> \"\"\n",
    "## ## NOTE: The Jupyter bash kernel requires that PS1 not be modified as they customize it. \n",
    "## echo $PS1"
   ]
  },
  {
   "cell_type": "code",
   "execution_count": 3,
   "id": "1da73b27",
   "metadata": {},
   "outputs": [],
   "source": [
    "## BAD\n",
    "## # Delete all aliases and function\n",
    "## # TODO: Instead start from pristine environment\n",
    "## unalias -a\n",
    "## alias | wc -l\n",
    "## for f in $(typeset -f | egrep '^\\w+'); do unset -f $f; done\n",
    "## typeset -f | egrep '^\\w+' | wc -l"
   ]
  },
  {
   "cell_type": "code",
   "execution_count": 4,
   "id": "0ff8f157",
   "metadata": {},
   "outputs": [],
   "source": [
    "## OLD\n",
    "## ## NOTE: Source it directly from the ./tests directory.\n",
    "## # Setting a temp directory for tests\n",
    "## TMP=/tmp/test-py-commands\n",
    "## BIN_DIR=$PWD/..\n",
    "## ## You will need to run jupyter from that directory.\n",
    "## ## source $TEMP_BIN/_dir-aliases.bash\n",
    "## alias | wc -l"
   ]
  },
  {
   "cell_type": "code",
   "execution_count": 5,
   "id": "ab954c7f",
   "metadata": {},
   "outputs": [
    {
     "name": "stdout",
     "output_type": "stream",
     "text": [
      "/tmp/trace-python-commands/test-7766\n"
     ]
    }
   ],
   "source": [
    "# Global Setup\n",
    "BIN_DIR=$PWD/..\n",
    "## NOTE: For reproducability, the directory name needs to be fixed\n",
    "## In place of $$, use a psuedo random number (e,g., 7766)\n",
    "## *** All output from one run to the next needs to be the same ***\n",
    "\n",
    "if [ \"$DEBUG_LEVEL\" -lt 4 ]; then \n",
    "    TMP=/tmp/trace-python-commands; \n",
    "    # note: a little redundancy is to avoid a lot of catastrophe!\n",
    "    /bin/rm -rf /tmp/trace-python-commands/*;\n",
    "fi\n",
    "## temp_dir=$TMP/test-$$\n",
    "temp_dir=$TMP/test-7766\n",
    "\n",
    "mkdir -p \"$temp_dir\"\n",
    "\n",
    "## BAD: # TODO: /bin/rm -rvf \"$temp_dir\"\n",
    "## NOTE: do not use rm without explicit base to avoid inadvertent deletions!\n",
    "## ALSO: in addition, tests can be reworked so that deletion not needed (e.g., using distinct subdir)\n",
    "\n",
    "## OLD: cd \"$temp_dir\"\n",
    "command cd \"$temp_dir\"\n",
    "pwd\n",
    "\n",
    "#ALIAS FOR PRINTING SEPERATION LINES (FOR JUPYTER)\n",
    "alias linebr=\"printf '%*s\\n' \"${COLUMNS:-$(tput cols)}\" '' | tr ' ' -\""
   ]
  },
  {
   "cell_type": "code",
   "execution_count": 6,
   "id": "bb14e4df",
   "metadata": {},
   "outputs": [],
   "source": [
    "# Global Setup\n",
    "alias testuser=\"sed -r \"s/\"$USER\"+/userxf333/g\"\"\n",
    "alias testnum=\"sed -r \"s/[0-9]/N/g\"\"\n",
    "# alias testmonth=\"sed -r \"s/['Jan','Feb','Mar','Apr','May','Jun','Jul','Aug','Sep','Oct','Nov','Dec']/M/g\"\""
   ]
  },
  {
   "cell_type": "code",
   "execution_count": 7,
   "id": "a918c4f3",
   "metadata": {},
   "outputs": [],
   "source": [
    "## BAD: source $BIN_DIR/tomohara-aliases.bash"
   ]
  },
  {
   "cell_type": "code",
   "execution_count": 8,
   "id": "0359b346",
   "metadata": {},
   "outputs": [
    {
     "name": "stdout",
     "output_type": "stream",
     "text": [
      "N\n"
     ]
    }
   ],
   "source": [
    "## OLD (put expected output comments before command--Batspp quirk)\n",
    "## ps-python-full | wc -l | testnum\n",
    "# Sample Output: 23\n",
    "ps-python-full | wc -l | testnum"
   ]
  },
  {
   "cell_type": "code",
   "execution_count": 9,
   "id": "e7d436e5",
   "metadata": {},
   "outputs": [
    {
     "name": "stdout",
     "output_type": "stream",
     "text": [
      "N\n"
     ]
    }
   ],
   "source": [
    "## OLD: ps-python | wc -l | testnum\n",
    "# Sample Output: 22\n",
    "ps-python | wc -l | testnum"
   ]
  },
  {
   "cell_type": "code",
   "execution_count": 10,
   "id": "6c5b8d28",
   "metadata": {},
   "outputs": [
    {
     "name": "stdout",
     "output_type": "stream",
     "text": [
      "PYTHONPATH:\n",
      "/usr/local/misc/programs/python/mezcla-tom-clone\n",
      "/home/userxf333/python\n",
      "/home/userxf333/python\n",
      "/usr/local/misc/programs/python/mezcla-tom-clone\n",
      "/home/userxf333/python\n",
      "/usr/local/misc/programs/python/mezcla-tom-clone\n",
      "/home/userxf333/python\n",
      "/home/userxf333/python\n",
      "/usr/local/misc/programs/python/mezcla-tom-clone\n",
      "/home/userxf333/python\n",
      "\n",
      "..\n",
      "..\n",
      "..\n",
      "..\n"
     ]
    }
   ],
   "source": [
    "## show-python-path DISPLAYS ALL THE AVAILABLE PATHS OF PYTHON\n",
    "show-python-path | testuser"
   ]
  },
  {
   "cell_type": "code",
   "execution_count": 11,
   "id": "ff01fc98",
   "metadata": {},
   "outputs": [
    {
     "name": "stdout",
     "output_type": "stream",
     "text": [
      "************* Module os\n",
      "/home/tomohara/anacondaN/envs/nlp-py-N-NN/lib/pythonN.NN/os.py:NN:N: WNNNN: Redefining built-in 'open' (redefined-builtin)\n",
      "/home/tomohara/anacondaN/envs/nlp-py-N-NN/lib/pythonN.NN/os.py:NN:NN: WNNNN: Redefining name 'name' from outer scope (line NN) (redefined-outer-name)\n",
      "/home/tomohara/anacondaN/envs/nlp-py-N-NN/lib/pythonN.NN/os.py:NN:N: WNNNN: Wildcard import posix (wildcard-import)\n",
      "/home/tomohara/anacondaN/envs/nlp-py-N-NN/lib/pythonN.NN/os.py:NN:N: ENNNN: Unable to import 'nt' (import-error)\n",
      "/home/tomohara/anacondaN/envs/nlp-py-N-NN/lib/pythonN.NN/os.py:NN:N: WNNNN: Wildcard import nt (wildcard-import)\n",
      "/home/tomohara/anacondaN/envs/nlp-py-N-NN/lib/pythonN.NN/os.py:NN:N: ENNNN: Unable to import 'nt' (import-error)\n",
      "/home/tomohara/anacondaN/envs/nlp-py-N-NN/lib/pythonN.NN/os.py:NNN:NN: WNNNN: Redefining built-in 'str' (redefined-builtin)\n",
      "/home/tomohara/anacondaN/envs/nlp-py-N-NN/lib/pythonN.NN/os.py:NNN:NN: WNNNN: Redefining name 'name' from outer scope (line NN) (redefined-outer-name)\n",
      "/home/tomohara/anacondaN/envs/nlp-py-N-NN/lib/pythonN.NN/os.py:NNN:NN: WNNNN: Redefining name 'name' from outer scope (line NN) (redefined-outer-name)\n",
      "cat: write error: Broken pipe\n",
      "grep: write error: Broken pipe\n"
     ]
    }
   ],
   "source": [
    "# function python-lint() { python-lint-work \"$@\" 2>&1 | $EGREP -v '(Exactly one space required)|\\((bad-continuation|bad-whitespace|bad-indentation|bare-except|c-extension-no-member|consider-using-enumerate|consider-using-with|global-statement|global-variable-not-assigned|keyword-arg-before-vararg|len-as-condition|line-too-long|logging-not-lazy|misplaced-comparison-constant|missing-final-newline|redefined-variable-type|redundant-keyword-arg|superfluous-parens|too-many-arguments|too-many-instance-attributes|trailing-newlines|useless-\\S+|wrong-import-order|wrong-import-position)\\)' | $PAGER; }\n",
    "## OLD: python-lint os | testnum | testuser\n",
    "python-lint os | head | testnum | testuser"
   ]
  },
  {
   "cell_type": "code",
   "execution_count": 12,
   "id": "5039b234",
   "metadata": {
    "scrolled": true
   },
   "outputs": [
    {
     "name": "stdout",
     "output_type": "stream",
     "text": [
      "************* Module os\n",
      "/home/tomohara/anacondaN/envs/nlp-py-N-NN/lib/pythonN.NN/os.py:NN:N: WNNNN: Redefining built-in 'open' (redefined-builtin)\n",
      "/home/tomohara/anacondaN/envs/nlp-py-N-NN/lib/pythonN.NN/os.py:NN:NN: WNNNN: Redefining name 'name' from outer scope (line NN) (redefined-outer-name)\n",
      "/home/tomohara/anacondaN/envs/nlp-py-N-NN/lib/pythonN.NN/os.py:NN:N: WNNNN: Wildcard import posix (wildcard-import)\n",
      "/home/tomohara/anacondaN/envs/nlp-py-N-NN/lib/pythonN.NN/os.py:NN:N: ENNNN: Unable to import 'nt' (import-error)\n",
      "/home/tomohara/anacondaN/envs/nlp-py-N-NN/lib/pythonN.NN/os.py:NN:N: WNNNN: Wildcard import nt (wildcard-import)\n",
      "/home/tomohara/anacondaN/envs/nlp-py-N-NN/lib/pythonN.NN/os.py:NN:N: ENNNN: Unable to import 'nt' (import-error)\n",
      "/home/tomohara/anacondaN/envs/nlp-py-N-NN/lib/pythonN.NN/os.py:NN:N: CNNNN: Import \"from os.path import curdir, pardir, sep, pathsep, defpath, extsep, altsep, devnull\" should be placed at the top of the module (wrong-import-position)\n",
      "/home/tomohara/anacondaN/envs/nlp-py-N-NN/lib/pythonN.NN/os.py:NNN:NN: WNNNN: Redefining built-in 'str' (redefined-builtin)\n",
      "/home/tomohara/anacondaN/envs/nlp-py-N-NN/lib/pythonN.NN/os.py:NNN:NN: WNNNN: Redefining name 'name' from outer scope (line NN) (redefined-outer-name)\n",
      "cat: write error: Broken pipe\n",
      "grep: write error: Broken pipe\n"
     ]
    }
   ],
   "source": [
    "# Takes time for execution\n",
    "# TODO2: rework link test using small python program put in test resources dir (e.g., test/resources/bad_lint.py)\n",
    "## BAD: # function python-lint-work() { python-lint-full \"$@\" 2>&1 | $EGREP -v '\\((bad-continuation|bad-option-value|fixme|invalid-name|locally-disabled|too-few-public-methods|too-many-\\S+|trailing-whitespace|star-args|unnecessary-pass)\\)' | $EGREP -v '^(([A-Z]:[0-9]+)|(Your code has been rated)|(No config file found)|(\\-\\-\\-\\-\\-))' | $PAGER; }\n",
    "python-lint-work os | head | testnum"
   ]
  },
  {
   "cell_type": "code",
   "execution_count": 13,
   "id": "cab9db0c",
   "metadata": {},
   "outputs": [
    {
     "name": "stdout",
     "output_type": "stream",
     "text": [
      "************* Module os\n",
      "/home/tomohara/anacondaN/envs/nlp-py-N-NN/lib/pythonN.NN/os.py:NN:N: WNNNN: Redefining built-in 'open' (redefined-builtin)\n",
      "/home/tomohara/anacondaN/envs/nlp-py-N-NN/lib/pythonN.NN/os.py:NN:NN: WNNNN: Redefining name 'name' from outer scope (line NN) (redefined-outer-name)\n",
      "/home/tomohara/anacondaN/envs/nlp-py-N-NN/lib/pythonN.NN/os.py:NN:N: WNNNN: Wildcard import posix (wildcard-import)\n",
      "/home/tomohara/anacondaN/envs/nlp-py-N-NN/lib/pythonN.NN/os.py:NN:N: ENNNN: Unable to import 'nt' (import-error)\n",
      "/home/tomohara/anacondaN/envs/nlp-py-N-NN/lib/pythonN.NN/os.py:NN:N: WNNNN: Wildcard import nt (wildcard-import)\n",
      "/home/tomohara/anacondaN/envs/nlp-py-N-NN/lib/pythonN.NN/os.py:NN:N: ENNNN: Unable to import 'nt' (import-error)\n",
      "/home/tomohara/anacondaN/envs/nlp-py-N-NN/lib/pythonN.NN/os.py:NNN:NN: WNNNN: Redefining built-in 'str' (redefined-builtin)\n",
      "/home/tomohara/anacondaN/envs/nlp-py-N-NN/lib/pythonN.NN/os.py:NNN:NN: WNNNN: Redefining name 'name' from outer scope (line NN) (redefined-outer-name)\n",
      "/home/tomohara/anacondaN/envs/nlp-py-N-NN/lib/pythonN.NN/os.py:NNN:NN: WNNNN: Redefining name 'name' from outer scope (line NN) (redefined-outer-name)\n"
     ]
    }
   ],
   "source": [
    "# May take some time\n",
    "## OLD: python-lint os | testnum\n",
    "python-lint os 2>&1 | head | testnum"
   ]
  },
  {
   "cell_type": "code",
   "execution_count": 14,
   "id": "207d98f0",
   "metadata": {},
   "outputs": [],
   "source": [
    "## NOTE (Skipped for now as a little too complicated)\n",
    "## TODO4: generate small test set of scripts and run\n",
    "## # ERROR: Pattern not found  (press RETURN)## run-python-lint-batched $BIN_DIR/tests/auto_batspp.py | testuser | testnum"
   ]
  },
  {
   "cell_type": "code",
   "execution_count": 15,
   "id": "6e4b2871",
   "metadata": {},
   "outputs": [],
   "source": [
    "## NOTE: skipped as too dangerous\n",
    "\n",
    "## REQUIRES setup.py (TBC)\n",
    "\n",
    "# python-setup-install\n",
    "# linebr\n",
    "# python-uninstall-setup"
   ]
  },
  {
   "cell_type": "code",
   "execution_count": 16,
   "id": "1a220eac",
   "metadata": {},
   "outputs": [
    {
     "name": "stdout",
     "output_type": "stream",
     "text": [
      "matches /usr/local/misc/programs/python/mezcla-tom-clone/mezcla/__init__.py\n",
      "--------------------------------------------------------------------------------\n",
      "matches /usr/local/misc/programs/python/mezcla-tom-clone/mezcla/__init__.py\n",
      "matches /usr/local/misc/programs/python/mezcla-tom-clone/mezcla/debug.py\n",
      "matches /usr/local/misc/programs/python/mezcla-tom-clone/mezcla/sys_version_info_hack.py\n",
      "matches /usr/local/misc/programs/python/mezcla-tom-clone/mezcla/tpo_common.py\n",
      "matches /usr/local/misc/programs/python/mezcla-tom-clone/mezcla/my_regex.py\n",
      "--------------------------------------------------------------------------------\n",
      "# /usr/local/misc/programs/python/mezcla-tom-clone/mezcla/__pycache__/__init__.cpython-NNN.pyc matches /usr/local/misc/programs/python/mezcla-tom-clone/mezcla/__init__.py\n",
      "# code object from '/usr/local/misc/programs/python/mezcla-tom-clone/mezcla/__pycache__/__init__.cpython-NNN.pyc'\n",
      "# /usr/local/misc/programs/python/mezcla-tom-clone/mezcla/__pycache__/debug.cpython-NNN.pyc matches /usr/local/misc/programs/python/mezcla-tom-clone/mezcla/debug.py\n",
      "# code object from '/usr/local/misc/programs/python/mezcla-tom-clone/mezcla/__pycache__/debug.cpython-NNN.pyc'\n",
      "# /usr/local/misc/programs/python/mezcla-tom-clone/mezcla/__pycache__/sys_version_info_hack.cpython-NNN.pyc matches /usr/local/misc/programs/python/mezcla-tom-clone/mezcla/sys_version_info_hack.py\n"
     ]
    }
   ],
   "source": [
    "# mezcla MODULE IS USED FOR TEST\n",
    "\n",
    "python-import-path 'mezcla' | testnum\n",
    "linebr\n",
    "python-import-path-full 'mezcla' | testnum\n",
    "linebr\n",
    "\n",
    "# WORKS WELL, SHOWS SOME ISSUES ON BATSPP 2.1.X\n",
    "python-import-path-all 'mezcla' | grep mezcla | head -n 5 | testnum"
   ]
  },
  {
   "cell_type": "code",
   "execution_count": 17,
   "id": "852d5ab4",
   "metadata": {},
   "outputs": [
    {
     "name": "stdout",
     "output_type": "stream",
     "text": [
      "2\n"
     ]
    }
   ],
   "source": [
    "# RETURNS A LIST OF PYTHON MODULES\n",
    "## BAD: rm -rf ./* > /dev/null\n",
    "pip3 freeze | grep ipython | wc -l"
   ]
  },
  {
   "cell_type": "code",
   "execution_count": 18,
   "id": "e82509c6",
   "metadata": {},
   "outputs": [
    {
     "name": "stdout",
     "output_type": "stream",
     "text": [
      "N.N.N.N\n",
      "--------------------------------------------------------------------------------\n",
      "N.N.N.N\n",
      "--------------------------------------------------------------------------------\n",
      "['PYTHONN_PLUS', 'TL', '__VERSION__', '__all__', '__builtins__', '__cached__', '__doc__', '__file__', '__loader__', '__name__', '__package__', '__path__', '__spec__', '__version__', 'debug', 'gh', 'glue_helpers', 'my_re', 'my_regex', 'sys', 'sys_version_info_hack', 'system', 'tpo_common', 'version']\n",
      "--------------------------------------------------------------------------------\n"
     ]
    }
   ],
   "source": [
    "# MODULE USED: mezcla | sed filter replaces versin number with XX\n",
    "python-module-version-full mezcla | testnum\n",
    "linebr\n",
    "python-module-version mezcla | testnum\n",
    "linebr\n",
    "python-package-members mezcla | testnum\n",
    "linebr"
   ]
  },
  {
   "cell_type": "code",
   "execution_count": 19,
   "id": "caf8bfd0",
   "metadata": {},
   "outputs": [],
   "source": [
    "# ## rename-with-file-date REQUIRED\n",
    "# function rename-with-file-date() {\n",
    "#     local f new_f\n",
    "#     local move_command=\"move\"\n",
    "#     if [ \"$1\" = \"--copy\" ]; then\n",
    "\n",
    "#         move_command=\"command cp --interactive --verbose --preserve\"\n",
    "#         shift\n",
    "#     fi\n",
    "#     for f in \"$@\"; do\n",
    "    \n",
    "#         if [ -e \"$f\" ]; then\n",
    "#            new_f=$(get-free-filename \"$f\".$(date --reference=\"$f\" '+%d%b%y') \".\")\n",
    "\n",
    "#            eval \"$move_command\" \"$f\" \"$new_f\";\n",
    "#         fi\n",
    "#     done;\n",
    "\n",
    "# }\n",
    "\n",
    "# function get-free-filename() {\n",
    "#     local base=\"$1\"\n",
    "#     local sep=\"$2\"\n",
    "#     local L=1\n",
    "#     local filename=\"$base\"\n",
    "#     while [ -e \"$filename\" ]; do\n",
    "#         let L++\n",
    "#         filename=\"$base$sep$L\"\n",
    "#     done;\n",
    "#     echo \"$filename\"\n",
    "# }\n",
    "\n",
    "# alias move='mv'\n",
    "# export PAGER=less\n",
    "# export PAGER_CHOPPED=\"less -S\"\n",
    "# export PAGER_NOEXIT=\"less -+F\"\n",
    "# function zless () { zcat \"$@\" | $PAGER; }\n",
    "\n",
    "# function zhead () {\n",
    "#     local file=\"$1\"\n",
    "#     shift\n",
    "#     zcat \"$file\" | head \"$@\"\n",
    "# }\n",
    "\n",
    "# alias less-='$PAGER_NOEXIT'\n",
    "# alias less-clipped='$PAGER_NOEXIT -S'\n",
    "# alias less-tail='$PAGER_NOEXIT +G'\n",
    "# alias less-tail-clipped='$PAGER_NOEXIT +G -S'\n",
    "# alias ltc=less-tail-clipped"
   ]
  },
  {
   "cell_type": "code",
   "execution_count": 20,
   "id": "1912bb79-d984-4788-84d6-3759caf3383d",
   "metadata": {},
   "outputs": [
    {
     "name": "stdout",
     "output_type": "stream",
     "text": [
      "/tmp/trace-python-commands/test-7766\n"
     ]
    }
   ],
   "source": [
    "pwd"
   ]
  },
  {
   "cell_type": "code",
   "execution_count": 21,
   "id": "30fc8ae2-fb50-4f19-908e-1178ef19776e",
   "metadata": {
    "scrolled": true
   },
   "outputs": [
    {
     "name": "stdout",
     "output_type": "stream",
     "text": [
      " 8 15 48\n"
     ]
    }
   ],
   "source": [
    "## BAD: printf \"THIS IS THE HEAD\\n1\\n2\\n3\\n4\\n5\\n6\\n7\\nTHIS IS THE TAIL.\" >> testless.txt\n",
    "printf \"THIS IS THE HEAD\\n1\\n2\\n3\\n4\\n5\\n6\\n7\\nTHIS IS THE TAIL.\" > testless.txt\n",
    "wc < testless.txt"
   ]
  },
  {
   "cell_type": "code",
   "execution_count": 22,
   "id": "d98b6d58",
   "metadata": {},
   "outputs": [
    {
     "name": "stdout",
     "output_type": "stream",
     "text": [
      "THIS IS THE HEAD\n",
      "N\n",
      "N\n",
      "N\n",
      "N\n",
      "N\n",
      "N\n",
      "N\n",
      "THIS IS THE TAIL.\n"
     ]
    }
   ],
   "source": [
    "ltc testless.txt | testnum"
   ]
  },
  {
   "cell_type": "code",
   "execution_count": 23,
   "id": "93146b8d",
   "metadata": {},
   "outputs": [
    {
     "name": "stdout",
     "output_type": "stream",
     "text": [
      "THIS IS THE HEAD\n",
      "N\n",
      "N\n",
      "N\n",
      "N\n",
      "N\n",
      "N\n",
      "N\n",
      "THIS IS THE TAIL.\n"
     ]
    }
   ],
   "source": [
    "less-tail testless.txt | testnum"
   ]
  },
  {
   "cell_type": "code",
   "execution_count": 24,
   "id": "9dcb601f",
   "metadata": {},
   "outputs": [
    {
     "name": "stdout",
     "output_type": "stream",
     "text": [
      "THIS IS THE HEAD\n",
      "N\n",
      "N\n",
      "N\n",
      "N\n",
      "N\n",
      "N\n",
      "N\n",
      "THIS IS THE TAIL.\n"
     ]
    }
   ],
   "source": [
    "less-tail-clipped testless.txt | testnum"
   ]
  },
  {
   "cell_type": "code",
   "execution_count": 25,
   "id": "8080d06d",
   "metadata": {},
   "outputs": [
    {
     "name": "stdout",
     "output_type": "stream",
     "text": [
      "THIS IS THE HEAD\n",
      "N\n",
      "N\n",
      "N\n",
      "N\n",
      "N\n",
      "N\n",
      "N\n",
      "THIS IS THE TAIL.\n"
     ]
    }
   ],
   "source": [
    "less-clipped testless.txt | testnum"
   ]
  },
  {
   "cell_type": "code",
   "execution_count": 26,
   "id": "b8c1c892",
   "metadata": {
    "scrolled": true
   },
   "outputs": [
    {
     "name": "stdout",
     "output_type": "stream",
     "text": [
      "THIS IS THE HEAD\n",
      "N\n",
      "N\n",
      "N\n",
      "N\n",
      "N\n",
      "N\n",
      "N\n",
      "THIS IS THE TAIL.\n"
     ]
    }
   ],
   "source": [
    "less- testless.txt | testnum"
   ]
  },
  {
   "cell_type": "code",
   "execution_count": 27,
   "id": "7d6ffb96",
   "metadata": {},
   "outputs": [
    {
     "name": "stdout",
     "output_type": "stream",
     "text": [
      "N.N.N\n",
      "--------------------------------------------------------------------------------\n",
      "Cannot run file '' because: [Errno N] No such file or directory: ''\n",
      "Command exited with non-zero status N\n",
      "N.NNuser N.NNsystem N:NN.NNelapsed NN%CPU (Navgtext+Navgdata NNNNNmaxresident)k\n",
      "Ninputs+Noutputs (Nmajor+NNNNminor)pagefaults Nswaps\n"
     ]
    }
   ],
   "source": [
    "## THIS PART IS SLOW IN EXECUTION\n",
    "\n",
    "## OLD: ipython --version | testuser | testnum\n",
    "## NOTE: garbage due to xterm title escapes\n",
    "command ipython --version | testuser | testnum\n",
    "linebr\n",
    "# STATEMENT TRACING WORKS WELL / ISSUES WITH TESTUSER\n",
    "## BAD: python-trace l $BIN_DIR/tests/auto_batspp.py | testuser | testnum\n",
    "## NOTE: use head to speed up\n",
    "python-trace python-trace $BIN_DIR//simple_batspp.py --help 2>&1 | head | testnum\n"
   ]
  },
  {
   "cell_type": "code",
   "execution_count": 28,
   "id": "c0b6f931",
   "metadata": {},
   "outputs": [
    {
     "name": "stdout",
     "output_type": "stream",
     "text": [
      "/home/tomohara/anaconda3/envs/nlp-py-3-10/bin/python\n",
      "/home/tomohara/anaconda3/envs/nlp-py-3-10/bin/python3\n"
     ]
    }
   ],
   "source": [
    "# which-python SHOWS THE PATH OF PYTHON\n",
    "which-python\n",
    "#(ADDED FOR PYTHON3)\n",
    "alias which-py3='which python3' \n",
    "which-py3"
   ]
  },
  {
   "cell_type": "code",
   "execution_count": 29,
   "id": "273938b4",
   "metadata": {},
   "outputs": [
    {
     "name": "stdout",
     "output_type": "stream",
     "text": [
      "Assuming implicit --no-glob, as otherwise  would be in extension\n",
      "abcN.py vs. atest.py   \n",
      "Differences: abcN.py atest.py   \n",
      "-rw-rw-r-- N userxfNNN userxfNNN NN  NN NN:NN abcN.py\n",
      "-rw-rw-r-- N userxfNNN userxfNNN NN  NN NN:NN atest.py\n",
      "NcN     \n",
      "< print('THIS IS A TESTNN') \n",
      "\\ No newline at end  file\n",
      "---     \n",
      "> print('THIS IS A TEST') \n",
      "\\ No newline at end  file\n",
      "------------------------------------------------------------------------     \n",
      "     \n",
      "atest.py vs. atest.py   \n",
      "------------------------------------------------------------------------     \n",
      "     \n",
      "xyz.py vs. atest.py   \n",
      "------------------------------------------------------------------------     \n",
      "     \n"
     ]
    }
   ],
   "source": [
    "## BAD: rm -rf ./* > /dev/null\n",
    "printf \"print('THIS IS A TEST')\" > atest.py\n",
    "printf \"print('THIS IS A TEST')\" > xyz.py\n",
    "printf \"print('THIS IS A TEST11')\" > abc1.py\n",
    "\n",
    "# SHOWS ALL THE DIFFERENCES BETWEEN THE PYTHON SCRIPTS\n",
    "# WORKS FINE - HALTS TESTS\n",
    "\n",
    "py-diff atest.py xyz.py | testuser | testnum | awk '!($6=\"\")'"
   ]
  },
  {
   "cell_type": "code",
   "execution_count": 30,
   "id": "9a40ffff",
   "metadata": {},
   "outputs": [],
   "source": [
    "# # TEST NOT APPLICABLE RN \n",
    "# function kivy-win32-env {\n",
    "#    export PYTHONPATH='c:/cartera-de-tomas/python;c:/Program-Misc/python/kivy-1-9-0/kivy27'\n",
    "#    kivy_dir=\"/c/Program-Misc/python/kivy-1-9-0\"\n",
    "#    python_dir=\"$kivy_dir/Python27\"\n",
    "#    prepend-path \"$kivy_dir:$kivy_dir/Python27:$kivy_dir/tools:$kivy_dir/Python27/Scripts:$kivy_dir/gstreamer/bin:$kivy_dir/MinGW/bin:$kivy_dir/SDL2/bin\"\n",
    "# }"
   ]
  },
  {
   "cell_type": "code",
   "execution_count": 31,
   "id": "b6e7b1d1",
   "metadata": {},
   "outputs": [],
   "source": [
    "# # NEED HELP - MAYBE APPLICABLE?\n",
    "# alias elide-data='python -m transpose_data --elide'\n",
    "# alias kill-python=\"kill_em.sh --filter 'ipython|emacs' python\"\n",
    "# alias kill-python-all=\"kill_em.sh python\""
   ]
  },
  {
   "cell_type": "code",
   "execution_count": 32,
   "id": "5dbc85eb",
   "metadata": {},
   "outputs": [],
   "source": [
    "# # ERRORS = OSTYPE is 'undefined variable' \n",
    "# # NOTE: elide-data shows RuntimeError if any testfile is named abc.py\n",
    "\n",
    "# $ echo $OSTYPE\n",
    "#   linebr\n",
    "#   elide-data $BIN_DIR/template.py\n",
    "#   linebr\n",
    "#   kill-python\n",
    "#   linebr\n",
    "#   kill-python-all\n",
    "\n",
    "# | linux-gnu\n",
    "# | --------------------------------------------------------------------------------\n",
    "# | /home/xaea12/miniconda3/bin/python: No module named transpose_data\n",
    "# | --------------------------------------------------------------------------------\n",
    "# | pattern=/:[0-9][0-9] [^ ]*python/\n",
    "# | filter=/ipython|emacs/\n",
    "# | OSTYPE: Undefined variable.\n",
    "# | --------------------------------------------------------------------------------\n",
    "# | pattern=/:[0-9][0-9] [^ ]*python/\n",
    "# | filter=/($)(^)/\n",
    "# | OSTYPE: Undefined variable.\n"
   ]
  },
  {
   "cell_type": "code",
   "execution_count": 33,
   "id": "9322aa5a",
   "metadata": {},
   "outputs": [],
   "source": [
    "# alias TODAY='date'\n",
    "# alias extract-matches='extract_matches.perl'\n",
    "\n",
    "# function run-jupyter-notebook () {\n",
    "#     local port=\"$1\"; if [ \"$port\" = \"\" ]; then port=8888; fi\n",
    "#     local ip=\"$2\"; if [ \"$ip\" = \"\" ]; then ip=\"127.0.0.1\"; fi\n",
    "#     local log=\"$TEMP/jupyter-$(TODAY).log\"\n",
    "#     jupyter notebook --NotebookApp.token='' --no-browser --port $port --ip $ip >> \"$log\" 2>&1 &\n",
    "#     echo \"$log\"\n",
    "#     local delay=5\n",
    "#     echo \"sleeping $delay seconds for log to stabalize (effing jupyter)\"\n",
    "#     sleep $delay\n",
    "#     tail \"$log\"\n",
    "#     echo -n \"URL: \"\n",
    "#     extract-matches 'http:\\S+' \"$log\" | sort -u\n",
    "# }\n",
    "# alias jupyter-notebook-redir=run-jupyter-notebook\n",
    "# alias jupyter-notebook-redir-open='run-jupyter-notebook 8888 0.0.0.0'"
   ]
  },
  {
   "cell_type": "code",
   "execution_count": 34,
   "id": "caa3332b",
   "metadata": {},
   "outputs": [],
   "source": [
    "## OLD: too complicated for command-line testing\n",
    "\n",
    "# # ERROR GENERATED (see below)\n",
    "# $ jupyter-notebook-redir-open\n",
    "\n",
    "# | [1] 5335\n",
    "# | /jupyter-Sun Aug 28 08:13:40 AM +0545 2022.log\n",
    "# | sleeping 5 seconds for log to stabalize (effing jupyter)\n",
    "# | bash: /jupyter-Sun Aug 28 08:13:40 AM +0545 2022.log: Permission denied\n",
    "# | [1]+  Exit 1                  jupyter notebook --NotebookApp.token='' --no-browser --port $port --ip $ip >> \"$log\" 2>&1\n",
    "# | tail: cannot open '/jupyter-Sun Aug 28 08:13:40 AM +0545 2022.log' for reading: No such file or directory\n",
    "# | URL: Can't open /jupyter-Sun Aug 28 08:13:40 AM +0545 2022.log: No such file or directory at /home/xaea12/bin/extract_matches.perl line 132.\n",
    "## OLD: jupyter-notebook-redir-open | testnum | testuser | head -n 5"
   ]
  },
  {
   "cell_type": "code",
   "execution_count": 35,
   "id": "9c155aa3",
   "metadata": {},
   "outputs": [],
   "source": [
    "# # ERROR - MODULE NOT FOUND - NEED HELP\n",
    "\n",
    "## BAD: # $ rm -rf ./*\n",
    "#   printf \"print('THIS IS A TEST FOR TEXT EXTRACT ALIAS.')\" > textex.py\n",
    "#   xtract-text ./textex.py\n",
    "\n",
    "# | /home/xaea12/miniconda3/bin/python: No module named extract_document_text"
   ]
  },
  {
   "cell_type": "code",
   "execution_count": 36,
   "id": "53136103",
   "metadata": {},
   "outputs": [],
   "source": [
    "# # ERROR (LOG FILE NOT FOUND) - NEED HELP\n",
    "# $ test-script ./textex.py\n",
    "# | abort: no repository found in '/tmp/test-py-commands/test-3443' (.hg not found)\n",
    "# | bash: tests/_test_textex.03sep22.log: No such file or directory\n",
    "# | tests/_test_textex.03sep22.log: No such file or directory"
   ]
  },
  {
   "cell_type": "code",
   "execution_count": 37,
   "id": "31d1b151",
   "metadata": {},
   "outputs": [],
   "source": [
    "# TESTING A PYTHON SCRIPT\n",
    "printf \"print('THIS IS A TEST10')\\nprint('THIS IS A TEST11')\\nprint('THIS IS A TEST12')\\nprint('THIS IS A TEST13')\" > random_line_test.py"
   ]
  },
  {
   "cell_type": "code",
   "execution_count": 38,
   "id": "1b2474ec",
   "metadata": {},
   "outputs": [
    {
     "name": "stdout",
     "output_type": "stream",
     "text": [
      "print('THIS IS A TEST10')\n",
      "print('THIS IS A TEST11')\n",
      "print('THIS IS A TEST12')\n",
      "print('THIS IS A TEST13')\n"
     ]
    }
   ],
   "source": [
    "# # ERROR : MISSING MODULE (No module named randomize_lines) / TAKES TIME OF EXECUTION\n",
    "# # NEED HELP\n",
    "# randomize-datafile atest.py\n",
    "randomize-datafile random_line_test.py"
   ]
  },
  {
   "cell_type": "code",
   "execution_count": 39,
   "id": "3b6aab89",
   "metadata": {},
   "outputs": [],
   "source": [
    "# # Need Help (TBF - NEED HELP OPERATING)\n",
    "# filter-random _r10pct-fubar.data"
   ]
  },
  {
   "cell_type": "code",
   "execution_count": 40,
   "id": "246618e4",
   "metadata": {},
   "outputs": [
    {
     "name": "stdout",
     "output_type": "stream",
     "text": [
      "'link1' -> 'file1'\n",
      "--------------------------------------------------------------------------------\n",
      "abc1.py  atest.py  file1  \u001b[0m\u001b[01;36mlink1\u001b[0m  random_line_test.py  testless.txt  xyz.py\n"
     ]
    }
   ],
   "source": [
    "## BAD: conditional-source $BIN_DIR/tests/_dir-aliases.bash\n",
    "\n",
    "touch file1\n",
    "ln-symbolic file1 link1\n",
    "linebr\n",
    "ls"
   ]
  },
  {
   "cell_type": "code",
   "execution_count": 41,
   "id": "89a01a21",
   "metadata": {},
   "outputs": [
    {
     "name": "stdout",
     "output_type": "stream",
     "text": [
      "  % Total    % Received % Xferd  Average Speed   Time    Time     Time  Current\n",
      "                                 Dload  Upload   Total   Spent    Left  Speed\n",
      "100  1256  100  1256    0     0  12560      0 --:--:-- --:--:-- --:--:-- 12560\n",
      "--------------------------------------------------------------------------------\n",
      "total NN    \n",
      "-rw-rw-r-- N userxf333 userxf333 NN  NN NN:NN abcN.py\n",
      "-rw-rw-r-- N userxf333 userxf333 NN  NN NN:NN atest.py\n",
      "-rw-rw-r-- N userxf333 userxf333 N  NN NN:NN fileN\n",
      "lrwxrwxrwx N userxf333 userxf333 N  NN NN:NN linkN -> fileN\n",
      "-rw-rw-r-- N userxf333 userxf333 NNN  NN NN:NN random_line_test.py\n",
      "-rw-rw-r-- N userxf333 userxf333 NN  NN NN:NN testless.txt\n",
      "-rw-rw-r-- N userxf333 userxf333 NNNN  NN NN:NN www.example.com\n",
      "-rw-rw-r-- N userxf333 userxf333 NN  NN NN:NN xyz.py\n",
      "--------------------------------------------------------------------------------\n",
      "file:////home/tomohara/bin/tests/auto_batspp.py\n"
     ]
    }
   ],
   "source": [
    "# TESTS FOR curl-dump AND url-path\n",
    "curl-dump https://www.example.com/\n",
    "linebr\n",
    "ls -l | testnum | testuser | awk '!($6=\"\")'\n",
    "linebr\n",
    "url-path $BIN_DIR/tests/auto_batspp.py | testuser"
   ]
  },
  {
   "cell_type": "code",
   "execution_count": 42,
   "id": "3777aa4a",
   "metadata": {},
   "outputs": [],
   "source": [
    "# # WORKS WELL - CANNOT USE testnum & testuser (halts test)\n",
    "# firefox"
   ]
  },
  {
   "cell_type": "code",
   "execution_count": 43,
   "id": "c57545c5",
   "metadata": {},
   "outputs": [
    {
     "name": "stdout",
     "output_type": "stream",
     "text": [
      "/tmp/trace-python-commands/test-7766\n"
     ]
    }
   ],
   "source": [
    "## OLD:\n",
    "## pwd |  sed -r \"s/\"$USER\"+/user/g\"\n",
    "## BAD: rm -rf * > /dev/null\n",
    "command pwd |  sed -r \"s/\"$USER\"+/user/g\""
   ]
  }
 ],
 "metadata": {
  "kernelspec": {
   "display_name": "Bash",
   "language": "bash",
   "name": "bash"
  },
  "language_info": {
   "codemirror_mode": "shell",
   "file_extension": ".sh",
   "mimetype": "text/x-sh",
   "name": "bash"
  }
 },
 "nbformat": 4,
 "nbformat_minor": 5
}
