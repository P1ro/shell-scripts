{
 "cells": [
  {
   "cell_type": "code",
   "execution_count": 1,
   "id": "cc34e95a",
   "metadata": {},
   "outputs": [],
   "source": [
    "# shopt -s expand_aliases"
   ]
  },
  {
   "cell_type": "code",
   "execution_count": 2,
   "id": "220201d8",
   "metadata": {},
   "outputs": [],
   "source": [
    "alias testuser=\"sed -r \"s/\"$USER\"+/userxf333/g\"\"\n",
    "alias testnum=\"sed -r \"s/[0-9]/N/g\"\" "
   ]
  },
  {
   "cell_type": "code",
   "execution_count": 3,
   "id": "10e4aac0",
   "metadata": {},
   "outputs": [
    {
     "name": "stdout",
     "output_type": "stream",
     "text": [
      "Hi Mom!\n"
     ]
    }
   ],
   "source": [
    "echo \"Hi Mom!\""
   ]
  },
  {
   "cell_type": "code",
   "execution_count": 4,
   "id": "93dfcf88",
   "metadata": {},
   "outputs": [
    {
     "name": "stdout",
     "output_type": "stream",
     "text": [
      "1\n"
     ]
    }
   ],
   "source": [
    "echo 'Hello world' | wc -l"
   ]
  },
  {
   "cell_type": "code",
   "execution_count": 5,
   "id": "95585f5b",
   "metadata": {},
   "outputs": [
    {
     "name": "stdout",
     "output_type": "stream",
     "text": [
      "userxf333\n"
     ]
    }
   ],
   "source": [
    "## OLD\n",
    "# pwd | testuser\n",
    "\n",
    "whoami | testuser"
   ]
  },
  {
   "cell_type": "code",
   "execution_count": 6,
   "id": "1c7c7b9a",
   "metadata": {},
   "outputs": [],
   "source": [
    "# THIS IS A COMMENT"
   ]
  },
  {
   "cell_type": "code",
   "execution_count": 7,
   "id": "7e5dcc7c",
   "metadata": {},
   "outputs": [
    {
     "name": "stdout",
     "output_type": "stream",
     "text": [
      "/usr/bin/systemd\n"
     ]
    }
   ],
   "source": [
    "# SKIP\n",
    "which systemd"
   ]
  },
  {
   "cell_type": "code",
   "execution_count": 8,
   "id": "a3e68607",
   "metadata": {
    "scrolled": true
   },
   "outputs": [
    {
     "name": "stdout",
     "output_type": "stream",
     "text": [
      "DATE(1)                          User Commands                         DATE(1)\n",
      "\n",
      "NAME\n",
      "       date - print or set the system date and time\n",
      "\n",
      "SYNOPSIS\n",
      "       date [OPTION]... [+FORMAT]\n",
      "       date [-u|--utc|--universal] [MMDDhhmm[[CC]YY][.ss]]\n",
      "\n",
      "DESCRIPTION\n"
     ]
    }
   ],
   "source": [
    "man date | head -n 10"
   ]
  },
  {
   "cell_type": "code",
   "execution_count": 9,
   "id": "ec969a63",
   "metadata": {
    "scrolled": true
   },
   "outputs": [
    {
     "name": "stdout",
     "output_type": "stream",
     "text": [
      "F S    C PRI NI ADDR  WCHAN TTY  CMD\n",
      "N S    N NN N -  do_wai pts/N  bash\n",
      "N R    N NN N -  - pts/N  ps\n",
      "N S    N NN N -  pipe_r pts/N  awk\n",
      "N S    N NN N -  pipe_r pts/N  sed\n"
     ]
    }
   ],
   "source": [
    "# awk will be used to remove any factors that may cause an error\n",
    "ps -l | awk '!($3=$4=$5=$10=$13=\"\")' | testnum"
   ]
  },
  {
   "cell_type": "code",
   "execution_count": 10,
   "id": "95a43fbc",
   "metadata": {
    "scrolled": false
   },
   "outputs": [
    {
     "name": "stdout",
     "output_type": "stream",
     "text": [
      "    PID TTY          TIME CMD\n",
      "  NNNNN pts/N    NN:NN:NN bash\n",
      "  NNNNN pts/N    NN:NN:NN ps\n",
      "  NNNNN pts/N    NN:NN:NN head\n",
      "  NNNNN pts/N    NN:NN:NN sed\n",
      "  NNNNN pts/N    NN:NN:NN sed\n"
     ]
    }
   ],
   "source": [
    "ps | head -n 10 | testuser | testnum"
   ]
  },
  {
   "cell_type": "code",
   "execution_count": null,
   "id": "7b087b52",
   "metadata": {},
   "outputs": [],
   "source": []
  }
 ],
 "metadata": {
  "kernelspec": {
   "display_name": "Bash",
   "language": "bash",
   "name": "bash"
  },
  "language_info": {
   "codemirror_mode": "shell",
   "file_extension": ".sh",
   "mimetype": "text/x-sh",
   "name": "bash"
  }
 },
 "nbformat": 4,
 "nbformat_minor": 5
}
