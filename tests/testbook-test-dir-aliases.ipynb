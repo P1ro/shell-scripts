{
 "cells": [
  {
   "cell_type": "code",
   "execution_count": 1,
   "id": "396f0ead",
   "metadata": {},
   "outputs": [],
   "source": [
    "# Setup\n",
    "bind 'set enable-bracketed-paste off'"
   ]
  },
  {
   "cell_type": "code",
   "execution_count": 2,
   "id": "92562e76",
   "metadata": {},
   "outputs": [],
   "source": [
    "# Delete all aliases and function\n",
    "# TODO: Instead start from pristine environment\n",
    "unalias -a\n",
    "for f in $(typeset -f | egrep '^\\w+'); do unset -f $f; done"
   ]
  },
  {
   "cell_type": "code",
   "execution_count": 3,
   "id": "4d95b977",
   "metadata": {},
   "outputs": [
    {
     "name": "stdout",
     "output_type": "stream",
     "text": [
      "8\n"
     ]
    }
   ],
   "source": [
    "## OLD: TEST_BIN=/home/test3513/bin\n",
    "# SPECIFYING AN IDENTIFIER FOR TMP\n",
    "TEST_BIN=/home/$USER/tom-project/shell-scripts/tests\n",
    "TMP=/tmp/test-dir-aliases\n",
    "source $TEST_BIN/_dir-aliases.bash\n",
    "alias | wc -l"
   ]
  },
  {
   "cell_type": "code",
   "execution_count": 4,
   "id": "4c3ef9bf",
   "metadata": {},
   "outputs": [
    {
     "name": "stdout",
     "output_type": "stream",
     "text": [
      "8\n"
     ]
    }
   ],
   "source": [
    "# Count aliases proper\n",
    "alias | wc -l"
   ]
  },
  {
   "cell_type": "code",
   "execution_count": 5,
   "id": "e5e5198f",
   "metadata": {},
   "outputs": [
    {
     "name": "stdout",
     "output_type": "stream",
     "text": [
      "2\n"
     ]
    }
   ],
   "source": [
    "# Count functions\n",
    "typeset -f | egrep '^\\w+' | wc -l"
   ]
  },
  {
   "cell_type": "code",
   "execution_count": 6,
   "id": "06e018f7",
   "metadata": {},
   "outputs": [
    {
     "name": "stdout",
     "output_type": "stream",
     "text": [
      "/tmp/test-dir-aliases/test-11858\n"
     ]
    }
   ],
   "source": [
    "# Test safe symbolic links\n",
    "temp_dir=$TMP/test-$$\n",
    "mkdir -p \"$temp_dir\"\n",
    "# TODO: /bin/rm -rvf \"$temp_dir\"\n",
    "cd \"$temp_dir\"\n",
    "pwd"
   ]
  },
  {
   "cell_type": "code",
   "execution_count": 7,
   "id": "54add21a",
   "metadata": {},
   "outputs": [],
   "source": [
    "alias testnum=\"sed -r \"s/[0-9]/X/g\"\" \n",
    "alias testuser=\"sed -r \"s/\"$USER\"+/user/g\"\""
   ]
  },
  {
   "cell_type": "code",
   "execution_count": 8,
   "id": "4174903c",
   "metadata": {},
   "outputs": [
    {
     "name": "stdout",
     "output_type": "stream",
     "text": [
      "user\n"
     ]
    }
   ],
   "source": [
    "echo $USER | testuser"
   ]
  },
  {
   "cell_type": "code",
   "execution_count": 9,
   "id": "a5bccfa0",
   "metadata": {},
   "outputs": [
    {
     "name": "stdout",
     "output_type": "stream",
     "text": [
      "'link1' -> 'file1'\n",
      "ln: failed to create symbolic link 'link1': File exists\n",
      "3\n"
     ]
    }
   ],
   "source": [
    "# The first case succeed\n",
    "touch file1\n",
    "ln-symbolic file1 link1\n",
    "# 'link1' -> 'file1'\n",
    "\n",
    "# The second case should should fail\n",
    "ln-symbolic file1 link1\n",
    "# => \"ln: failed to create symbolic link 'link1': File exists?\"\n",
    "\n",
    "# Should only be four files total (along with . and ..)\n",
    "ls -R | wc -l\n",
    "# => 3"
   ]
  },
  {
   "cell_type": "code",
   "execution_count": 10,
   "id": "76653eee",
   "metadata": {},
   "outputs": [],
   "source": [
    "## FYI: the current aliases and functions\n",
    "\n",
    "## ERROR PRONE COMMAND (BATSPP) - WORKS WELL\n",
    "\n",
    "# $ cat $TEST_BIN/_dir-aliases.bash"
   ]
  },
  {
   "cell_type": "code",
   "execution_count": 11,
   "id": "8a876ed2",
   "metadata": {},
   "outputs": [
    {
     "name": "stdout",
     "output_type": "stream",
     "text": [
      "file1  link1\n"
     ]
    }
   ],
   "source": [
    "ls"
   ]
  },
  {
   "cell_type": "code",
   "execution_count": 12,
   "id": "d453b321",
   "metadata": {},
   "outputs": [
    {
     "name": "stdout",
     "output_type": "stream",
     "text": [
      "total X    \n",
      "-rw-rw-r-- X user user X  XX XX:XX fileX\n",
      "lrwxrwxrwx X user user X  XX XX:XX linkX -> fileX\n"
     ]
    }
   ],
   "source": [
    "ls -l | testuser | testnum | awk '!($6=\"\")'"
   ]
  },
  {
   "cell_type": "code",
   "execution_count": 13,
   "id": "12691464",
   "metadata": {},
   "outputs": [],
   "source": [
    "\n",
    "bash $TEST_BIN/_dir-aliases.bash"
   ]
  },
  {
   "cell_type": "code",
   "execution_count": 14,
   "id": "f93f05f0",
   "metadata": {},
   "outputs": [
    {
     "name": "stdout",
     "output_type": "stream",
     "text": [
      "'temp-link' -> '/tmp'\n"
     ]
    }
   ],
   "source": [
    "ln-symbolic /tmp temp-link"
   ]
  },
  {
   "cell_type": "code",
   "execution_count": 15,
   "id": "f2558170",
   "metadata": {},
   "outputs": [
    {
     "name": "stdout",
     "output_type": "stream",
     "text": [
      "total X    \n",
      "-rw-rw-r-- X user user X  XX XX:XX fileX\n",
      "lrwxrwxrwx X user user X  XX XX:XX linkX -> fileX\n",
      "lrwxrwxrwx X user user X  XX XX:XX temp-link -> /tmp\n"
     ]
    }
   ],
   "source": [
    "ls -l | testuser | testnum | awk '!($6=\"\")'"
   ]
  },
  {
   "cell_type": "code",
   "execution_count": 16,
   "id": "0951b468",
   "metadata": {},
   "outputs": [
    {
     "name": "stdout",
     "output_type": "stream",
     "text": [
      "'temp-link' -> '/home/user/temp'\n"
     ]
    }
   ],
   "source": [
    "link-symbolic-safe --force ~/temp temp-link | testuser"
   ]
  },
  {
   "cell_type": "code",
   "execution_count": 17,
   "id": "396bb3de",
   "metadata": {},
   "outputs": [
    {
     "name": "stdout",
     "output_type": "stream",
     "text": [
      "total X    \n",
      "-rw-rw-r-- X user user X  XX XX:XX fileX\n",
      "lrwxrwxrwx X user user X  XX XX:XX linkX -> fileX\n",
      "lrwxrwxrwx X user user XX  XX XX:XX temp-link -> /home/user/temp\n"
     ]
    }
   ],
   "source": [
    "ls -l | testuser | testnum | awk '!($6=\"\")'"
   ]
  },
  {
   "cell_type": "code",
   "execution_count": 18,
   "id": "eefe859d",
   "metadata": {},
   "outputs": [],
   "source": [
    "alias ln-symbolic-force='ln-symbolic --force'"
   ]
  },
  {
   "cell_type": "code",
   "execution_count": 19,
   "id": "6952c36b",
   "metadata": {},
   "outputs": [],
   "source": [
    "# # THIS THROWS AN ERROR AS A SYMBOLIC LINK ALREADY EXISTS\n",
    "\n",
    "# $ ln-symbolic /tmp temp-link\n",
    "# | ln: failed to create symbolic link 'temp-link/tmp': File exists"
   ]
  },
  {
   "cell_type": "code",
   "execution_count": 20,
   "id": "42c6c019",
   "metadata": {},
   "outputs": [],
   "source": [
    "# ln CANNOT OVERWRITE DIRECTORY AS WELL, EVEN ON FORCE\n",
    "# $ ln-symbolic-force /tmp temp-link\n",
    "# | ln: temp-link/tmp: cannot overwrite directory"
   ]
  },
  {
   "cell_type": "code",
   "execution_count": 21,
   "id": "c70cdbce",
   "metadata": {
    "scrolled": true
   },
   "outputs": [
    {
     "name": "stdout",
     "output_type": "stream",
     "text": [
      "'temp-link/tmp1' -> '/tmp1'\n"
     ]
    }
   ],
   "source": [
    "ln-symbolic-force /tmp1 temp-link"
   ]
  },
  {
   "cell_type": "code",
   "execution_count": 22,
   "id": "ce67e2e4",
   "metadata": {},
   "outputs": [
    {
     "name": "stdout",
     "output_type": "stream",
     "text": [
      "'temp-link' -> '/home/user/temp'\n"
     ]
    }
   ],
   "source": [
    "link-symbolic-safe --force ~/temp temp-link | testuser | testnum"
   ]
  },
  {
   "cell_type": "code",
   "execution_count": 23,
   "id": "eafc7375",
   "metadata": {},
   "outputs": [
    {
     "name": "stdout",
     "output_type": "stream",
     "text": [
      "total X    \n",
      "-rw-rw-r-- X user user X  XX XX:XX fileX\n",
      "lrwxrwxrwx X user user X  XX XX:XX linkX -> fileX\n",
      "lrwxrwxrwx X user user XX  XX XX:XX temp-link -> /home/user/temp\n"
     ]
    }
   ],
   "source": [
    "ls -l | testuser | testnum | awk '!($6=\"\")'"
   ]
  }
 ],
 "metadata": {
  "kernelspec": {
   "display_name": "Bash",
   "language": "bash",
   "name": "bash"
  },
  "language_info": {
   "codemirror_mode": "shell",
   "file_extension": ".sh",
   "mimetype": "text/x-sh",
   "name": "bash"
  }
 },
 "nbformat": 4,
 "nbformat_minor": 5
}
