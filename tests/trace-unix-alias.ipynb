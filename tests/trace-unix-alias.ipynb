{
 "cells": [
  {
   "cell_type": "code",
   "execution_count": 1,
   "id": "6dcea75d",
   "metadata": {},
   "outputs": [
    {
     "name": "stdout",
     "output_type": "stream",
     "text": [
      "\u001b[?2004h\u001b[?2004l\u001b[?2004l\u001b[?2004l\u001b[?2004l\u001b[?2004l\r"
     ]
    }
   ],
   "source": [
    "## Bracketed Paste is disabled to prevent characters after output\n",
    "## Example: \n",
    "# $ echo 'Hi'\n",
    "# | Hi?2004l\n",
    "\n",
    "bind 'set enable-bracketed-paste off'"
   ]
  },
  {
   "cell_type": "code",
   "execution_count": 2,
   "id": "65d43538",
   "metadata": {},
   "outputs": [
    {
     "name": "stdout",
     "output_type": "stream",
     "text": [
      "[PEXP\\[\\]ECT_PROMPT>\n"
     ]
    }
   ],
   "source": [
    "## TEST:  Make sure simple prompt used (e.g., no escapes that might contaminate output)\n",
    "## PS1=\"$ \"\n",
    "## TODO: PS1=\"> \"\n",
    "\n",
    "## NOTE: The Jupyter bash kernel requires that PS1 not be modified as they customize it. \n",
    "echo $PS1"
   ]
  },
  {
   "cell_type": "code",
   "execution_count": 3,
   "id": "d623c9a9",
   "metadata": {},
   "outputs": [
    {
     "name": "stdout",
     "output_type": "stream",
     "text": [
      "0\n",
      "0\n"
     ]
    }
   ],
   "source": [
    "# Delete all aliases and function\n",
    "# TODO: Instead start from pristine environment\n",
    "unalias -a\n",
    "alias | wc -l\n",
    "for f in $(typeset -f | egrep '^\\w+'); do unset -f $f; done\n",
    "typeset -f | egrep '^\\w+' | wc -l"
   ]
  },
  {
   "cell_type": "code",
   "execution_count": 4,
   "id": "0ff8f157",
   "metadata": {},
   "outputs": [
    {
     "name": "stdout",
     "output_type": "stream",
     "text": [
      "0\n"
     ]
    }
   ],
   "source": [
    "# Setting a temp directory for tests\n",
    "TMP=/tmp/test-unix\n",
    "\n",
    "## NOTE: Source it directly from the ./tests directory.\n",
    "BIN_DIR=$PWD/..\n",
    "\n",
    "alias | wc -l"
   ]
  },
  {
   "cell_type": "code",
   "execution_count": 5,
   "id": "ab954c7f",
   "metadata": {},
   "outputs": [
    {
     "name": "stdout",
     "output_type": "stream",
     "text": [
      "/tmp/test-unix/test-3245\n"
     ]
    }
   ],
   "source": [
    "## NOTE: For reproducability, the directory name needs to be fixed\n",
    "## In place of $$, use a psuedo random number (e,g., 3245)\n",
    "## *** All output from one run to the next needs to be the same ***\n",
    "\n",
    "## temp_dir=$TMP/test-$$\n",
    "temp_dir=$TMP/test-3245\n",
    "\n",
    "mkdir -p \"$temp_dir\"\n",
    "# TODO: /bin/rm -rvf \"$temp_dir\"\n",
    "cd \"$temp_dir\"\n",
    "pwd\n",
    "\n",
    "#ALIAS FOR PRINTING SEPERATION LINES (FOR JUPYTER)\n",
    "alias linebr=\"printf '%*s\\n' \"${COLUMNS:-$(tput cols)}\" '' | tr ' ' -\""
   ]
  },
  {
   "cell_type": "code",
   "execution_count": 6,
   "id": "ec6df159",
   "metadata": {},
   "outputs": [
    {
     "name": "stdout",
     "output_type": "stream",
     "text": [
      "1\n",
      "0\n"
     ]
    }
   ],
   "source": [
    "# Count aliases proper\n",
    "alias | wc -l\n",
    "# Count functions\n",
    "typeset -f | egrep '^\\w+' | wc -l"
   ]
  },
  {
   "cell_type": "code",
   "execution_count": 7,
   "id": "d312db03",
   "metadata": {},
   "outputs": [],
   "source": [
    "# ps-all(pattern): show processes from all users matching PATTERN (or . in which case piped to less)\n",
    "# TODO: have option to restrict to current user\n",
    "function ps-all () { \n",
    "    local pattern=\"$1\";\n",
    "    local pager=cat;\n",
    "    if [ \"$pattern\" = \"\" ]; then \n",
    "        pattern=\".\"; \n",
    "        pager=$PAGER\n",
    "    fi;\n",
    "    ps_mine.sh --all | $EGREP -i \"((^USER)|($pattern))\" | $pager;\n",
    "    }\n",
    "alias ps-script='ps-all \"\\\\bscript\\\\b\" | $GREP -v \"(gnome-session)\"'\n",
    "function ps-sort-once { ps_sort.perl -num_times=1 -by=time \"$@\" -; }\n",
    "alias ps-sort-time='ps-sort-once -by=time'\n",
    "alias ps-time=ps-sort-time\n",
    "alias ps-sort-mem='ps-sort-once -by=mem '\n",
    "alias ps-mem=ps-sort-mem\n"
   ]
  },
  {
   "cell_type": "code",
   "execution_count": 8,
   "id": "2395c71a",
   "metadata": {},
   "outputs": [
    {
     "name": "stdout",
     "output_type": "stream",
     "text": [
      "Error: bad sort field (time): using cpu\n",
      "USER         PID %CPU %MEM    VSZ   RSS TTY      STAT START   TIME COMMAND\n",
      "aveey       6679 17.1  1.3 672896 51332 ?        Ssl  20:38   0:01 /usr/bin/py\n",
      "aveey       5088 10.3  5.4 2612692 200152 ?      Rl   20:27   1:07 /snap/firef\n",
      "aveey       6341  4.4  6.8 25789236 250784 ?     Sl   20:30   0:21 /opt/Upwork\n",
      "aveey       1387  3.0 10.3 11925332 380052 ?     Sl   18:54   3:10 /snap/firef\n",
      "root         887  2.2  2.6 614504 96972 tty1     Ssl+ 18:46   2:33 /usr/lib/xo\n",
      "aveey       3550  2.0  4.9 2539516 181600 ?      Sl   20:21   0:20 /snap/firef\n",
      "aveey       6273  1.8  4.2 4700788 156708 ?      Sl   20:30   0:09 /opt/Upwork\n",
      "aveey       3683  1.1  1.9 242700 72700 pts/2    Sl+  20:27   0:07 /usr/bin/py\n",
      "aveey       6689  1.0  0.1  11412  5524 pts/4    Ss   20:38   0:00 /usr/bin/ba\n",
      "aveey       6321  0.6  1.9 286012 71656 ?        Sl   20:30   0:03 /opt/Upwork\n",
      "aveey       6597  0.6  1.3 672896 51368 ?        Ssl  20:36   0:00 /usr/bin/py\n",
      "aveey       6442  0.4  2.7 934556 102140 ?       Sl   20:31   0:02 /usr/bin/fe\n",
      "aveey       6559  0.4  1.3 672900 51524 ?        Ssl  20:34   0:01 /usr/bin/py\n",
      "root         132  0.3  0.0      0     0 ?        I<   18:45   0:26 [kworker/u1\n",
      "root         991  0.3  0.0      0     0 ?        I    18:51   0:25 [kworker/2:\n",
      "aveey       3516  0.3  3.6 2471508 135308 ?      Sl   20:21   0:03 /snap/firef\n",
      "root          13  0.1  0.0      0     0 ?        I    18:45   0:07 [rcu_sched]\n",
      "aveey        986  0.1  0.4 1149420 17184 ?       S<sl 18:51   0:06 /usr/bin/pu\n",
      "aveey       1070  0.1  2.8 1209000 106444 ?      Sl   18:52   0:06 /usr/bin/lx\n",
      "root        3488  0.1  0.0      0     0 ?        I    20:16   0:01 [kworker/u1\n",
      "aveey       6309  0.1  1.5 273556 56872 ?        Sl   20:30   0:00 /opt/Upwork\n",
      "root           1  0.0  0.3 166224 11520 ?        Ss   18:45   0:01 /sbin/init \n",
      "root           2  0.0  0.0      0     0 ?        S    18:45   0:00 [kthreadd]\n",
      "root           3  0.0  0.0      0     0 ?        I<   18:45   0:00 [rcu_gp]\n",
      "root           4  0.0  0.0      0     0 ?        I<   18:45   0:00 [rcu_par_gp\n",
      "root           5  0.0  0.0      0     0 ?        I<   18:45   0:00 [netns]\n",
      "root           6  0.0  0.0      0     0 ?        I    18:45   0:02 [kworker/0:\n",
      "root           7  0.0  0.0      0     0 ?        I<   18:45   0:00 [kworker/0:\n",
      "root           9  0.0  0.0      0     0 ?        I<   18:45   0:00 [mm_percpu_\n",
      "root          10  0.0  0.0      0     0 ?        S    18:45   0:00 [rcu_tasks_\n",
      "root          11  0.0  0.0      0     0 ?        S    18:45   0:00 [rcu_tasks_\n",
      "root          12  0.0  0.0      0     0 ?        S    18:45   0:00 [ksoftirqd/\n",
      "root          14  0.0  0.0      0     0 ?        S    18:45   0:00 [migration/\n",
      "root          15  0.0  0.0      0     0 ?        S    18:45   0:00 [idle_injec\n",
      "root          17  0.0  0.0      0     0 ?        S    18:45   0:00 [cpuhp/0]\n",
      "root          18  0.0  0.0      0     0 ?        S    18:45   0:00 [cpuhp/1]\n",
      "root          19  0.0  0.0      0     0 ?        S    18:45   0:00 [idle_injec\n",
      "root          20  0.0  0.0      0     0 ?        S    18:45   0:00 [migration/\n"
     ]
    }
   ],
   "source": [
    "# SORTS ALL PROCESS BY TIME\n",
    "ps-sort-time"
   ]
  },
  {
   "cell_type": "code",
   "execution_count": 9,
   "id": "bc13426e",
   "metadata": {},
   "outputs": [
    {
     "name": "stdout",
     "output_type": "stream",
     "text": [
      "Error: bad sort field (time): using cpu\n",
      "USER         PID %CPU %MEM    VSZ   RSS TTY      STAT START   TIME COMMAND\n",
      "aveey       6679 17.6  1.3 672896 51332 ?        Ssl  20:38   0:01 /usr/bin/py\n",
      "aveey       5088 10.3  5.4 2614740 201660 ?      Sl   20:27   1:07 /snap/firef\n",
      "aveey       6341  4.4  6.8 25789236 250784 ?     Sl   20:30   0:21 /opt/Upwork\n",
      "aveey       1387  3.0 10.3 11925332 380776 ?     Sl   18:54   3:11 /snap/firef\n",
      "root         887  2.2  2.6 614504 96972 tty1     Rsl+ 18:46   2:33 /usr/lib/xo\n",
      "aveey       3550  2.0  4.9 2539516 181600 ?      Sl   20:21   0:20 /snap/firef\n",
      "aveey       6273  1.8  4.2 4700788 156708 ?      Sl   20:30   0:09 /opt/Upwork\n",
      "aveey       3683  1.1  1.9 242700 72700 pts/2    Sl+  20:27   0:07 /usr/bin/py\n",
      "aveey       6689  1.0  0.1  11412  5524 pts/4    Ss   20:38   0:00 /usr/bin/ba\n",
      "aveey       6321  0.6  1.9 286012 71656 ?        Sl   20:30   0:03 /opt/Upwork\n",
      "aveey       6597  0.6  1.3 672896 51368 ?        Ssl  20:36   0:00 /usr/bin/py\n",
      "aveey       6442  0.4  2.7 934556 102140 ?       Sl   20:31   0:02 /usr/bin/fe\n",
      "aveey       6559  0.4  1.3 672900 51524 ?        Ssl  20:34   0:01 /usr/bin/py\n",
      "root         132  0.3  0.0      0     0 ?        I<   18:45   0:26 [kworker/u1\n",
      "root         991  0.3  0.0      0     0 ?        I    18:51   0:25 [kworker/2:\n",
      "aveey       3516  0.3  3.6 2471508 135308 ?      Sl   20:21   0:03 /snap/firef\n",
      "root          13  0.1  0.0      0     0 ?        I    18:45   0:07 [rcu_sched]\n",
      "aveey        986  0.1  0.4 1149420 17184 ?       S<sl 18:51   0:06 /usr/bin/pu\n",
      "aveey       1070  0.1  2.8 1209000 106444 ?      Sl   18:52   0:06 /usr/bin/lx\n",
      "root        3488  0.1  0.0      0     0 ?        I    20:16   0:01 [kworker/u1\n",
      "aveey       6309  0.1  1.5 273556 56872 ?        Sl   20:30   0:00 /opt/Upwork\n",
      "root           1  0.0  0.3 166224 11520 ?        Ss   18:45   0:01 /sbin/init \n",
      "root           2  0.0  0.0      0     0 ?        S    18:45   0:00 [kthreadd]\n",
      "root           3  0.0  0.0      0     0 ?        I<   18:45   0:00 [rcu_gp]\n",
      "root           4  0.0  0.0      0     0 ?        I<   18:45   0:00 [rcu_par_gp\n",
      "root           5  0.0  0.0      0     0 ?        I<   18:45   0:00 [netns]\n",
      "root           6  0.0  0.0      0     0 ?        I    18:45   0:02 [kworker/0:\n",
      "root           7  0.0  0.0      0     0 ?        I<   18:45   0:00 [kworker/0:\n",
      "root           9  0.0  0.0      0     0 ?        I<   18:45   0:00 [mm_percpu_\n",
      "root          10  0.0  0.0      0     0 ?        S    18:45   0:00 [rcu_tasks_\n",
      "root          11  0.0  0.0      0     0 ?        S    18:45   0:00 [rcu_tasks_\n",
      "root          12  0.0  0.0      0     0 ?        S    18:45   0:00 [ksoftirqd/\n",
      "root          14  0.0  0.0      0     0 ?        S    18:45   0:00 [migration/\n",
      "root          15  0.0  0.0      0     0 ?        S    18:45   0:00 [idle_injec\n",
      "root          17  0.0  0.0      0     0 ?        S    18:45   0:00 [cpuhp/0]\n",
      "root          18  0.0  0.0      0     0 ?        S    18:45   0:00 [cpuhp/1]\n",
      "root          19  0.0  0.0      0     0 ?        S    18:45   0:00 [idle_injec\n",
      "root          20  0.0  0.0      0     0 ?        S    18:45   0:00 [migration/\n"
     ]
    }
   ],
   "source": [
    "# ACTS THE SAME AS ps-sort-time\n",
    "ps-time"
   ]
  },
  {
   "cell_type": "code",
   "execution_count": 10,
   "id": "b688da20",
   "metadata": {},
   "outputs": [
    {
     "name": "stdout",
     "output_type": "stream",
     "text": [
      "USER         PID %CPU %MEM    VSZ   RSS TTY      STAT START   TIME COMMAND\n",
      "aveey       1387  3.0 10.2 11925332 379192 ?     Sl   18:54   3:11 /snap/firef\n",
      "aveey       6341  4.4  6.8 25789236 250784 ?     Sl   20:30   0:21 /opt/Upwork\n",
      "aveey       5088 10.3  5.4 2614740 202572 ?      Sl   20:27   1:08 /snap/firef\n",
      "aveey       3550  2.0  4.9 2539516 181600 ?      Sl   20:21   0:20 /snap/firef\n",
      "aveey       6273  1.8  4.2 4700788 156708 ?      Sl   20:30   0:09 /opt/Upwork\n",
      "aveey       3516  0.3  3.6 2471508 135308 ?      Sl   20:21   0:03 /snap/firef\n",
      "aveey       2101  0.0  3.4 27673652 128568 ?     Sl   18:55   0:06 /snap/firef\n",
      "aveey       1984  0.0  2.9 2434696 109388 ?      Sl   18:55   0:01 /snap/firef\n",
      "aveey       1070  0.1  2.8 1209000 106444 ?      Sl   18:52   0:06 /usr/bin/lx\n",
      "aveey       6442  0.4  2.7 934556 102140 ?       Sl   20:31   0:02 /usr/bin/fe\n",
      "root         887  2.2  2.6 614504 96972 tty1     Ssl+ 18:46   2:33 /usr/lib/xo\n",
      "aveey       1066  0.0  2.6 861448 98712 ?        Sl   18:52   0:01 /usr/bin/pc\n",
      "aveey       1273  0.0  2.4 765080 89472 ?        Sl   18:53   0:01 xfce4-termi\n",
      "aveey       3683  1.1  1.9 242700 72964 pts/2    Sl+  20:27   0:08 /usr/bin/py\n",
      "aveey       6321  0.6  1.9 286012 71656 ?        Sl   20:30   0:03 /opt/Upwork\n",
      "aveey       6382  0.0  1.8 4504348 68996 ?       Sl   20:30   0:00 /opt/Upwork\n",
      "aveey       6412  0.0  1.7 4502300 65656 ?       Sl   20:30   0:00 /opt/Upwork\n",
      "aveey       5119  0.0  1.6 2406076 62396 ?       Sl   20:27   0:00 /snap/firef\n",
      "aveey       5715  0.0  1.6 2406072 62272 ?       Sl   20:28   0:00 /snap/firef\n",
      "aveey       6246  0.0  1.6 2406072 61708 ?       Sl   20:29   0:00 /snap/firef\n",
      "aveey       6309  0.1  1.5 273556 56872 ?        Sl   20:30   0:00 /opt/Upwork\n",
      "aveey       6378  0.0  1.4 514640 52248 ?        Sl   20:30   0:00 /opt/Upwork\n",
      "aveey       1072  0.0  1.3 577380 49848 ?        Sl   18:52   0:01 /usr/bin/lx\n",
      "aveey       6559  0.4  1.3 672900 51524 ?        Ssl  20:34   0:01 /usr/bin/py\n",
      "aveey       6597  0.6  1.3 672896 51368 ?        Ssl  20:36   0:00 /usr/bin/py\n",
      "aveey       6679 15.7  1.3 672896 51332 ?        Ssl  20:38   0:01 /usr/bin/py\n",
      "aveey       1230  0.0  1.2 504144 45428 ?        Sl   18:52   0:00 /usr/bin/lx\n",
      "aveey       5153  0.0  1.2 348576 44460 ?        Sl   20:27   0:00 /snap/firef\n",
      "aveey       6275  0.0  1.2 207348 46480 ?        S    20:30   0:00 /opt/Upwork\n",
      "aveey       6276  0.0  1.2 207348 46600 ?        S    20:30   0:00 /opt/Upwork\n",
      "aveey       1068  0.0  1.1 275848 41068 ?        Sl   18:52   0:00 /usr/bin/lx\n",
      "aveey       1234  0.0  1.1 272568 41084 ?        Sl   18:52   0:01 /usr/bin/nm\n",
      "root         696  0.0  1.0 1096212 37916 ?       Ssl  18:46   0:03 /usr/lib/sn\n",
      "aveey        998  0.0  1.0 336620 39212 ?        Sl   18:51   0:00 lxqt-sessio\n",
      "aveey       1067  0.0  1.0 336152 37512 ?        Sl   18:52   0:00 /usr/bin/lx\n",
      "aveey       1071  0.0  1.0 410020 39564 ?        Sl   18:52   0:00 /usr/bin/lx\n",
      "aveey       1232  0.0  1.0 271444 39792 ?        Sl   18:52   0:00 /usr/bin/ql\n",
      "aveey       1917  0.0  1.0 268144 37152 ?        Ssl  18:54   0:00 /usr/lib/x8\n"
     ]
    }
   ],
   "source": [
    "# SORTS ALL PROCESS BY MEMORY\n",
    "ps-sort-mem"
   ]
  },
  {
   "cell_type": "code",
   "execution_count": 11,
   "id": "775ea494",
   "metadata": {},
   "outputs": [
    {
     "name": "stdout",
     "output_type": "stream",
     "text": [
      "USER         PID %CPU %MEM    VSZ   RSS TTY      STAT START   TIME COMMAND\n",
      "aveey       1387  3.0 10.3 11925332 380968 ?     Sl   18:54   3:11 /snap/firef\n",
      "aveey       6341  4.4  6.8 25789236 250784 ?     Sl   20:30   0:21 /opt/Upwork\n",
      "aveey       5088 10.3  5.5 2614740 202840 ?      Sl   20:27   1:08 /snap/firef\n",
      "aveey       3550  2.0  4.9 2539516 181600 ?      Sl   20:21   0:20 /snap/firef\n",
      "aveey       6273  1.8  4.2 4700788 156708 ?      Sl   20:30   0:09 /opt/Upwork\n",
      "aveey       3516  0.3  3.6 2471508 135308 ?      Sl   20:21   0:03 /snap/firef\n",
      "aveey       2101  0.0  3.4 27673652 128568 ?     Sl   18:55   0:06 /snap/firef\n",
      "aveey       1984  0.0  2.9 2434696 109388 ?      Sl   18:55   0:01 /snap/firef\n",
      "aveey       1070  0.1  2.8 1209000 106444 ?      Sl   18:52   0:06 /usr/bin/lx\n",
      "aveey       6442  0.4  2.7 934556 102140 ?       Sl   20:31   0:02 /usr/bin/fe\n",
      "root         887  2.2  2.6 614504 96972 tty1     Ssl+ 18:46   2:33 /usr/lib/xo\n",
      "aveey       1066  0.0  2.6 861448 98712 ?        Sl   18:52   0:01 /usr/bin/pc\n",
      "aveey       1273  0.0  2.4 765080 89472 ?        Sl   18:53   0:01 xfce4-termi\n",
      "aveey       3683  1.2  1.9 242700 73228 pts/2    Sl+  20:27   0:08 /usr/bin/py\n",
      "aveey       6321  0.6  1.9 286012 71656 ?        Sl   20:30   0:03 /opt/Upwork\n",
      "aveey       6382  0.0  1.8 4504348 68996 ?       Sl   20:30   0:00 /opt/Upwork\n",
      "aveey       6412  0.0  1.7 4502300 65656 ?       Sl   20:30   0:00 /opt/Upwork\n",
      "aveey       5119  0.0  1.6 2406076 62396 ?       Sl   20:27   0:00 /snap/firef\n",
      "aveey       5715  0.0  1.6 2406072 62272 ?       Sl   20:28   0:00 /snap/firef\n",
      "aveey       6246  0.0  1.6 2406072 61708 ?       Sl   20:29   0:00 /snap/firef\n",
      "aveey       6309  0.1  1.5 273556 56872 ?        Sl   20:30   0:00 /opt/Upwork\n",
      "aveey       6378  0.0  1.4 514640 52248 ?        Sl   20:30   0:00 /opt/Upwork\n",
      "aveey       1072  0.0  1.3 577380 49848 ?        Sl   18:52   0:01 /usr/bin/lx\n",
      "aveey       6559  0.4  1.3 672900 51524 ?        Ssl  20:34   0:01 /usr/bin/py\n",
      "aveey       6597  0.6  1.3 672896 51368 ?        Ssl  20:36   0:00 /usr/bin/py\n",
      "aveey       6679 16.1  1.3 672896 51428 ?        Ssl  20:38   0:01 /usr/bin/py\n",
      "aveey       1230  0.0  1.2 504144 45428 ?        Sl   18:52   0:00 /usr/bin/lx\n",
      "aveey       5153  0.0  1.2 348576 44460 ?        Sl   20:27   0:00 /snap/firef\n",
      "aveey       6275  0.0  1.2 207348 46480 ?        S    20:30   0:00 /opt/Upwork\n",
      "aveey       6276  0.0  1.2 207348 46600 ?        S    20:30   0:00 /opt/Upwork\n",
      "aveey       1068  0.0  1.1 275848 41068 ?        Sl   18:52   0:00 /usr/bin/lx\n",
      "aveey       1234  0.0  1.1 272568 41084 ?        Sl   18:52   0:01 /usr/bin/nm\n",
      "root         696  0.0  1.0 1096212 37916 ?       Ssl  18:46   0:03 /usr/lib/sn\n",
      "aveey        998  0.0  1.0 336620 39212 ?        Sl   18:51   0:00 lxqt-sessio\n",
      "aveey       1067  0.0  1.0 336152 37512 ?        Sl   18:52   0:00 /usr/bin/lx\n",
      "aveey       1071  0.0  1.0 410020 39564 ?        Sl   18:52   0:00 /usr/bin/lx\n",
      "aveey       1232  0.0  1.0 271444 39792 ?        Sl   18:52   0:00 /usr/bin/ql\n",
      "aveey       1917  0.0  1.0 268144 37152 ?        Ssl  18:54   0:00 /usr/lib/x8\n"
     ]
    }
   ],
   "source": [
    "# ps-mem IS AN ALTERNATIVE OF ps-sort-mem\n",
    "ps-mem"
   ]
  },
  {
   "cell_type": "code",
   "execution_count": 16,
   "id": "6ed9a120",
   "metadata": {},
   "outputs": [
    {
     "name": "stdout",
     "output_type": "stream",
     "text": [
      "bash: -v: command not found\n",
      "bash: -i: command not found\n",
      "/usr/bin/env: ‘csh’: No such file or directory\n"
     ]
    },
    {
     "ename": "",
     "evalue": "127",
     "output_type": "error",
     "traceback": []
    }
   ],
   "source": [
    "# ERROR GENERATED FOR ps-script\n",
    "# $ ps-script\n",
    "# | bash: -v: command not found\n",
    "# | bash: -i: command not found\n",
    "# | /usr/bin/env: ‘csh’: No such file or directory\n",
    "ps-script"
   ]
  },
  {
   "cell_type": "code",
   "execution_count": 13,
   "id": "2e45d738",
   "metadata": {},
   "outputs": [],
   "source": [
    "# ERROR GENERATED FOR ps-all\n",
    "# $ ps-all\n",
    "# | /usr/bin/env: ‘csh’: No such file or directory\n",
    "# | bash: -i: command not found\n"
   ]
  },
  {
   "cell_type": "code",
   "execution_count": 14,
   "id": "82c5fd09",
   "metadata": {},
   "outputs": [],
   "source": [
    "function get-process-parent() { local pid=\"$1\"; if [ \"$pid\" = \"\" ]; then pid=$$; fi; ps al | perl -Ssw extract_matches.perl \"^\\d+\\s+\\d+\\s+$pid\\s+(\\d+)\"; }"
   ]
  },
  {
   "cell_type": "code",
   "execution_count": 15,
   "id": "bf36bf1a",
   "metadata": {},
   "outputs": [
    {
     "ename": "",
     "evalue": "1",
     "output_type": "error",
     "traceback": []
    }
   ],
   "source": [
    "get-process-parent | egrep \"(PID|$$)\""
   ]
  },
  {
   "cell_type": "code",
   "execution_count": null,
   "id": "c7ea3021",
   "metadata": {},
   "outputs": [],
   "source": []
  }
 ],
 "metadata": {
  "kernelspec": {
   "display_name": "Bash",
   "language": "bash",
   "name": "bash"
  },
  "language_info": {
   "codemirror_mode": "shell",
   "file_extension": ".sh",
   "mimetype": "text/x-sh",
   "name": "bash"
  }
 },
 "nbformat": 4,
 "nbformat_minor": 5
}
