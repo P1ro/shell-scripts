{
 "cells": [
  {
   "cell_type": "code",
   "execution_count": 1,
   "metadata": {},
   "outputs": [],
   "source": [
    "# Illustration of using Jupyter bash kernel for specifying example-based tests.\n",
    "#\n",
    "# Notes:\n",
    "# - Get kernel from https://github.com/takluyver/bash_kernel.\n",
    "# - This is run via an interactive bash session, so no need to source aliases\n",
    "#   provided done so by ~/.bashrc.\n",
    "# - Setup code preceded by '# setup' comment.\n",
    "# - For clarity, output is also redirected here (e.g., /dev/null)."
   ]
  },
  {
   "cell_type": "code",
   "execution_count": 2,
   "metadata": {},
   "outputs": [],
   "source": [
    "# setup\n",
    "\n",
    "# Disables output from tomohara-aliases.bash and set_xterm_title.bash (under tom-dev)\n",
    "export BATCH_MODE=1"
   ]
  },
  {
   "cell_type": "code",
   "execution_count": null,
   "metadata": {},
   "outputs": [],
   "source": [
    "# Test move-adhoc-files"
   ]
  },
  {
   "cell_type": "code",
   "execution_count": 5,
   "metadata": {},
   "outputs": [
    {
     "name": "stdout",
     "output_type": "stream",
     "text": [
      "/home/tomohara/temp/tmp/_move-adhoc-files-1Ew\n",
      "'hey.1.log' -> 'log-files/hey.1.log'\n",
      "'you.1.output' -> 'output-files/you.1.output'\n",
      "\u001b[0m\u001b[01;34mlog-files\u001b[0m  \u001b[01;34moutput-files\u001b[0m\n"
     ]
    }
   ],
   "source": [
    "# setup\n",
    "# note: directory name is fixed\n",
    "temp_dir=$(mktemp --directory --tmpdir _move-adhoc-files-XXX)\n",
    "cd $temp_dir\n",
    "pwd\n",
    "echo hey > $temp_dir/hey.1.log\n",
    "echo you > $temp_dir/you.1.output\n",
    "move-adhoc-files\n",
    "ls"
   ]
  },
  {
   "cell_type": "code",
   "execution_count": 6,
   "metadata": {},
   "outputs": [
    {
     "name": "stdout",
     "output_type": "stream",
     "text": [
      "hey.1.log\n"
     ]
    }
   ],
   "source": [
    "# continuation\n",
    "ls log-files"
   ]
  },
  {
   "cell_type": "code",
   "execution_count": 7,
   "metadata": {},
   "outputs": [
    {
     "name": "stdout",
     "output_type": "stream",
     "text": [
      "you.1.output\n"
     ]
    }
   ],
   "source": [
    "# continuation\n",
    "ls output-files"
   ]
  }
 ],
 "metadata": {
  "kernelspec": {
   "display_name": "Bash",
   "language": "bash",
   "name": "bash"
  },
  "language_info": {
   "codemirror_mode": "shell",
   "file_extension": ".sh",
   "mimetype": "text/x-sh",
   "name": "bash"
  }
 },
 "nbformat": 4,
 "nbformat_minor": 4
}
