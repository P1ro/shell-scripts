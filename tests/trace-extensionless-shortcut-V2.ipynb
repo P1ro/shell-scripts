{
 "cells": [
  {
   "cell_type": "code",
   "execution_count": 1,
   "id": "65d43538",
   "metadata": {},
   "outputs": [
    {
     "name": "stdout",
     "output_type": "stream",
     "text": [
      "[PEXP\\[\\]ECT_PROMPT>\n"
     ]
    }
   ],
   "source": [
    "echo $PS1"
   ]
  },
  {
   "cell_type": "code",
   "execution_count": 2,
   "id": "d623c9a9",
   "metadata": {},
   "outputs": [
    {
     "name": "stdout",
     "output_type": "stream",
     "text": [
      "0\n",
      "0\n"
     ]
    }
   ],
   "source": [
    "# Delete all aliases and function\n",
    "# TODO: Instead start from pristine environment\n",
    "unalias -a\n",
    "alias | wc -l\n",
    "for f in $(typeset -f | egrep '^\\w+'); do unset -f $f; done\n",
    "typeset -f | egrep '^\\w+' | wc -l\n",
    "# Setting a temp directory for tests\n",
    "TMP=/tmp/test-extensionless\n",
    "BIN_DIR=$PWD/.."
   ]
  },
  {
   "cell_type": "code",
   "execution_count": 3,
   "id": "0ff8f157",
   "metadata": {},
   "outputs": [
    {
     "name": "stdout",
     "output_type": "stream",
     "text": [
      "0\n"
     ]
    }
   ],
   "source": [
    "alias | wc -l"
   ]
  },
  {
   "cell_type": "code",
   "execution_count": 4,
   "id": "ab954c7f",
   "metadata": {},
   "outputs": [
    {
     "name": "stdout",
     "output_type": "stream",
     "text": [
      "/tmp/test-extensionless/test-3570\n"
     ]
    }
   ],
   "source": [
    "temp_dir=$TMP/test-3570\n",
    "mkdir -p \"$temp_dir\"\n",
    "cd \"$temp_dir\"\n",
    "pwd\n",
    "#ALIAS FOR PRINTING SEPERATION LINES (FOR JUPYTER)\n",
    "alias linebr=\"printf '%*s\\n' \"${COLUMNS:-$(tput cols)}\" '' | tr ' ' -\""
   ]
  },
  {
   "cell_type": "code",
   "execution_count": 5,
   "id": "ec6df159",
   "metadata": {},
   "outputs": [
    {
     "name": "stdout",
     "output_type": "stream",
     "text": [
      "1\n",
      "0\n"
     ]
    }
   ],
   "source": [
    "# Count aliases proper\n",
    "alias | wc -l\n",
    "# Count functions\n",
    "typeset -f | egrep '^\\w+' | wc -l"
   ]
  },
  {
   "cell_type": "code",
   "execution_count": 6,
   "id": "85a87403",
   "metadata": {},
   "outputs": [],
   "source": [
    "## TESTS 1 - EXTENSIONLESS SHORTCUTS PT. 1\n",
    " \n",
    "alias perl-=\"\"\n",
    "GREP='grep'\n",
    "\n",
    "alias move='mv'\n",
    "alias convert-termstrings='perl- $BIN_DIR/convert_termstrings.perl'\n",
    "alias do-rcsdiff='$BIN_DIR/do_rcsdiff.sh'\n",
    "alias dobackup='$BIN_DIR/dobackup.sh'\n",
    "alias kill-em='$BIN_DIR/kill_em.sh'\n",
    "alias kill-it='$BIN_DIR/kill-em --pattern'"
   ]
  },
  {
   "cell_type": "code",
   "execution_count": 7,
   "id": "b2919e2f",
   "metadata": {},
   "outputs": [],
   "source": [
    "# # 1.1) NO EXAMPLES RN FOR kill-em and kill-it\n",
    "# kill-em\n",
    "# linebr\n",
    "# kill-it\n",
    "\n",
    "# # 1.2) TEST STOPS\n",
    "# $ kill-em --pattern kcalc\n",
    "# | pattern=/kcalc/\n",
    "# | filter=/($)(^)/\n",
    "# | OSTYPE: Undefined variable."
   ]
  },
  {
   "cell_type": "code",
   "execution_count": 8,
   "id": "94ed70f0",
   "metadata": {},
   "outputs": [],
   "source": [
    "## 1.2) ERROR GENERATED - SCRIPT MISSING\n",
    "# $ convert-termstrings\n",
    "# | Can't open perl script \"convert_termstrings.perl\": No such file or directory"
   ]
  },
  {
   "cell_type": "code",
   "execution_count": 9,
   "id": "98b974b4",
   "metadata": {},
   "outputs": [
    {
     "name": "stdout",
     "output_type": "stream",
     "text": [
      "test.txt\n",
      "Backing up 'test.txt' to './backup/test.txt'\n",
      "--------------------------------------------------------------------------------\n",
      "backup\ttest.txt\n"
     ]
    }
   ],
   "source": [
    "rm -rf ./*\n",
    "printf \"TOP\\nTHIS IS A TEST\\nBOTTOM\" > test.txt\n",
    "ls\n",
    "\n",
    "dobackup test.txt\n",
    "linebr\n",
    "ls"
   ]
  },
  {
   "cell_type": "code",
   "execution_count": 10,
   "id": "e1939c2a",
   "metadata": {},
   "outputs": [],
   "source": [
    "function ps-mine- { ps-mine \"$@\" | filter-dirnames; }\n",
    "alias ps_mine='ps-mine'\n",
    "alias ps-mine-all='ps-mine --all'"
   ]
  },
  {
   "cell_type": "code",
   "execution_count": 11,
   "id": "1584698d",
   "metadata": {},
   "outputs": [],
   "source": [
    "## ERROR - ps-mine COMMAND NOT FOUND\n",
    "# ps_mine"
   ]
  },
  {
   "cell_type": "code",
   "execution_count": 12,
   "id": "d312db03",
   "metadata": {},
   "outputs": [],
   "source": [
    "alias rename-files='perl- $BIN_DIR/rename_files.perl'\n",
    "alias rename_files='rename-files'\n",
    "alias testwn='perl- $BIN_DIR/testwn.perl'\n",
    "alias perlgrep='perl- $BIN_DIR/perlgrep.perl'\n",
    "alias foreach='perl- $BIN_DIR/foreach.perl'\n",
    "alias rename-spaces='rename-files -q -global \" \" \"_\"'\n",
    "alias rename-special-punct='rename-files -q -global -regex \"[&\\!\\*?\\(\\)]\" \"\"'\n",
    "alias rename-quotes='rename-files -q -global \"'\"'\"'\" \"\"' "
   ]
  },
  {
   "cell_type": "code",
   "execution_count": 13,
   "id": "3f291139",
   "metadata": {},
   "outputs": [
    {
     "name": "stdout",
     "output_type": "stream",
     "text": [
      "\n",
      "Usage: rename_files.perl [options] old-pattern new-pattern [file] ...\\n\n",
      "main options = [-q | -quick] [-f | -force] [-i | -ignore] [-global] [-regex]\n",
      "other options = [-evalre] [-t | -test] [-para]\n",
      "common options = [-verbose] [-help]\n",
      "\n",
      "Example(s):\n",
      "\n",
      "rename_files.perl rename_files ' - Shortcut' '' *Shortcut*\n",
      "\n",
      "/home/aveey/tom-project/shell-scripts/tests/../rename_files.perl rename-files -q -- '--' '-'\n",
      "\n",
      "\n",
      "Notes:\n",
      "\n",
      "-- Use -- for first argument if dashes occur in old-pattern.\n",
      "-- By default only a single occurrence of the pattern is replaced.\n",
      "\n",
      "- The -ignore option is with respect to old vs. new comparison).\n"
     ]
    }
   ],
   "source": [
    "rename-files -help"
   ]
  },
  {
   "cell_type": "code",
   "execution_count": 14,
   "id": "c7070a99",
   "metadata": {},
   "outputs": [
    {
     "name": "stdout",
     "output_type": "stream",
     "text": [
      "\n",
      "usage: do_rcsdiff.sh [-v] [-c] [--brief] [-p file_pattern] [-f] file ...\n",
      "\n",
      "examples:\n",
      "\n",
      "do_rcsdiff.sh Makefile\n",
      "\n",
      "do_rcsdiff.sh \\* >| _rcs.diff 2>&1\n",
      "\n",
      "do_rcsdiff.sh *.[ch] >| _rcs.diff 2>&1\n",
      "\n",
      "NOTES:\n",
      "- Patterns are relative to the RCS subdirectory\n",
      "- The rcsdiff command lists the rcs file before the current one, as in:\n",
      "      diff RCS-file file\n",
      "\n"
     ]
    }
   ],
   "source": [
    "# HELP REQUIRED FOR RCS FILES (TBC)\n",
    "do-rcsdiff"
   ]
  },
  {
   "cell_type": "code",
   "execution_count": 15,
   "id": "22a23226",
   "metadata": {},
   "outputs": [
    {
     "name": "stdout",
     "output_type": "stream",
     "text": [
      " backup\t\t   versionA.txta       versionR-1.txt   versionV.txt\n",
      " grep_manual.txt   versionI.txt        versionR.txt\n",
      " test.txt\t  'version none.txt'  'version?.txt'\n"
     ]
    }
   ],
   "source": [
    "uname -r > versionR.txt\n",
    "uname -a > versionA.txta\n",
    "uname -v > versionV.txt\n",
    "uname -i > versionI.txt\n",
    "uname > \"version none.txt\"\n",
    "uname -ra > \"version?.txt\"\n",
    "\n",
    "man grep > grep_manual.txt\n",
    "\n",
    "cp ./versionR.txt ./versionR-1.txt\n",
    "ls"
   ]
  },
  {
   "cell_type": "code",
   "execution_count": 16,
   "id": "d6117d46",
   "metadata": {},
   "outputs": [
    {
     "name": "stdout",
     "output_type": "stream",
     "text": [
      "renaming \"test.txt\" to \"harry.txt\"\n"
     ]
    }
   ],
   "source": [
    "rename-files -q test.txt harry.txt"
   ]
  },
  {
   "cell_type": "code",
   "execution_count": 17,
   "id": "95161560",
   "metadata": {},
   "outputs": [],
   "source": [
    "# # NEED HELP (TBC)\n",
    "\n",
    "# $ testwn\n",
    "# | Undefined subroutine &main::NO_OP called at /home/xaea12/bin/common.perl line 2172.\n"
   ]
  },
  {
   "cell_type": "code",
   "execution_count": 18,
   "id": "8298cf91",
   "metadata": {},
   "outputs": [
    {
     "name": "stdout",
     "output_type": "stream",
     "text": [
      "       grep, egrep, fgrep, rgrep - print lines that match patterns\n",
      "       patterns separated by newline characters, and  grep  prints  each  line\n",
      "              Suppress  normal output; instead print a count of matching lines\n",
      "              Suppress normal output; instead print the  name  of  each  input\n",
      "              file from which no output would normally have been printed.\n",
      "              Suppress  normal  output;  instead  print the name of each input\n",
      "              file  from  which  output  would  normally  have  been  printed.\n",
      "              line of output.  If -o (--only-matching) is specified, print the\n",
      "              be printed in a minimum size field width.\n",
      "              -print0,  perl  -0,  sort  -z, and xargs -0 to process arbitrary\n",
      "              When  -A,  -B, or -C are in use, print SEP instead of -- between\n",
      "              When -A, -B, or -C are in use, do not print a separator  between\n",
      "       [:graph:], [:lower:], [:print:], [:punct:], [:space:],  [:upper:],  and\n"
     ]
    }
   ],
   "source": [
    "perlgrep \"print\" ./grep_manual.txt"
   ]
  },
  {
   "cell_type": "code",
   "execution_count": 19,
   "id": "3ca47040",
   "metadata": {},
   "outputs": [],
   "source": [
    "foreach \"echo $f\" *.txt"
   ]
  },
  {
   "cell_type": "code",
   "execution_count": 20,
   "id": "5877539b",
   "metadata": {},
   "outputs": [
    {
     "name": "stdout",
     "output_type": "stream",
     "text": [
      "renaming \"version none.txt\" to \"version_none.txt\"\n"
     ]
    }
   ],
   "source": [
    "rename-spaces"
   ]
  },
  {
   "cell_type": "code",
   "execution_count": 21,
   "id": "b4a3202e",
   "metadata": {},
   "outputs": [
    {
     "name": "stdout",
     "output_type": "stream",
     "text": [
      "renaming \"version?.txt\" to \"version.txt\"\n"
     ]
    }
   ],
   "source": [
    "rename-special-punct"
   ]
  },
  {
   "cell_type": "code",
   "execution_count": 22,
   "id": "104d555f",
   "metadata": {},
   "outputs": [],
   "source": [
    "ps -l > \"process(L).md\"\n",
    "ps -u > \"process(U).md\"\n",
    "ps -x > \"process(X).md\"\n",
    "ps -al > 'process'all'.md'"
   ]
  },
  {
   "cell_type": "code",
   "execution_count": 23,
   "id": "309210c6",
   "metadata": {},
   "outputs": [],
   "source": [
    "alias move-duplicates='mkdir -p duplicates; move *\\([0-9]\\).* duplicates 2>&1 | $GREP -iv cannot.stat.*..No.such'\n",
    "alias rename-parens='rename-files -global -regex \"[\\(\\)]\" \"\" *[\\(\\)]*'\n",
    "alias rename-etc='rename-spaces; rename-quotes; rename-special-punct; move-duplicates'"
   ]
  },
  {
   "cell_type": "code",
   "execution_count": 24,
   "id": "58a35929",
   "metadata": {},
   "outputs": [],
   "source": [
    "# # NO OUTPUT - NEED FURTHER ATTENTION\n",
    "# $ move-duplicates"
   ]
  },
  {
   "cell_type": "code",
   "execution_count": 25,
   "id": "33d36d20",
   "metadata": {},
   "outputs": [
    {
     "name": "stdout",
     "output_type": "stream",
     "text": [
      "renaming \"process(L).md\" to \"processL.md\"\n",
      "renaming \"process(U).md\" to \"processU.md\"\n",
      "renaming \"process(X).md\" to \"processX.md\"\n"
     ]
    }
   ],
   "source": [
    "rename-parens -v"
   ]
  },
  {
   "cell_type": "code",
   "execution_count": 26,
   "id": "8e6b254c",
   "metadata": {},
   "outputs": [
    {
     "name": "stdout",
     "output_type": "stream",
     "text": [
      "WARNING: Ignoring -quick mode as files specified\n"
     ]
    }
   ],
   "source": [
    "rename-quotes -v"
   ]
  },
  {
   "cell_type": "code",
   "execution_count": 27,
   "id": "3a5731b8",
   "metadata": {},
   "outputs": [
    {
     "name": "stdout",
     "output_type": "stream",
     "text": [
      "backup\t\t processall.md\tprocessX.md    version_none.txt  version.txt\n",
      "grep_manual.txt  processL.md\tversionA.txta  versionR-1.txt\t versionV.txt\n",
      "harry.txt\t processU.md\tversionI.txt   versionR.txt\n"
     ]
    }
   ],
   "source": [
    "ls"
   ]
  },
  {
   "cell_type": "code",
   "execution_count": 28,
   "id": "efff01cf",
   "metadata": {},
   "outputs": [],
   "source": [
    "function move-versioned-files {\n",
    "    alias perl-grep='perl $BIN_DIR/perlgrep.perl'\n",
    "    alias dir-rw='dir -rw'\n",
    "    alias move='mv'\n",
    "    \n",
    "    local ext_pattern='$1'\n",
    "    if [ '$ext_pattern' = '' ]; then ext_pattern='{list,log,txt}'; fi\n",
    "    local dir='$2'\n",
    "    if [ '$dir' = '' ]; then dir='versioned-files'; fi\n",
    "    mkdir -p '$dir';\n",
    "    local D='[-.]'\n",
    "    local file_list='$TEMP/_move-versioned-files-$$.list'\n",
    "    \n",
    "    eval_middle='$(eval dir-rw *$D$ext_pattern[0-9]*  *$D*[0-9]*$D$ext_pattern  *$D$ext_pattern$D*[0-9][0-9]*   *$D*[0-9][0-9]*$D$ext_pattern  2>&1 | perl-grep -v \"No such file\" | perl -pe \"s/(\\S+\\s+){6}\\S+//;\" | sort -u)'\n",
    "    move '$eval_middle' '$dir'\n",
    "}\n",
    "\n",
    "alias move-log-files='move-versioned-files \"{log,debug}\" \"log-files\"'\n",
    "alias move-output-files='move-versioned-files \"{csv,html,json,list,out,output,png,report,tsv,xml}\" \"output-files\"'\n",
    "alias move-adhoc-files='move-log-files; move-output-files'"
   ]
  },
  {
   "cell_type": "code",
   "execution_count": 29,
   "id": "672d1bd6",
   "metadata": {},
   "outputs": [],
   "source": [
    "man sudo > sudo_manual.out\n",
    "man ansifilter > fakelog.log\n",
    "ps -aux > process_all.html"
   ]
  },
  {
   "cell_type": "code",
   "execution_count": 30,
   "id": "2b2b495d",
   "metadata": {},
   "outputs": [],
   "source": [
    "# # HELP REQUIRED - TBF\n",
    "# $ move-log-files\n",
    "# | mv: cannot stat '$eval_middle': No such file or directory"
   ]
  },
  {
   "cell_type": "code",
   "execution_count": 31,
   "id": "527d72eb",
   "metadata": {},
   "outputs": [],
   "source": [
    "# # HELP REQUIRED - TBF\n",
    "# $ move-output-files\n",
    "# | mv: cannot stat '$eval_middle': No such file or directory"
   ]
  },
  {
   "cell_type": "code",
   "execution_count": 32,
   "id": "088dc74c",
   "metadata": {},
   "outputs": [],
   "source": [
    "function get-free-filename() {\n",
    "    local base=\"$1\"\n",
    "    local sep=\"$2\"\n",
    "    local L=1\n",
    "    local filename=\"$base\"\n",
    "    while [ -e \"$filename\" ]; do\n",
    "        let L++\n",
    "        filename=\"$base$sep$L\"\n",
    "    done;\n",
    "    echo \"$filename\"\n",
    "}\n",
    "\n",
    "function rename-with-file-date() {\n",
    "    local f new_f\n",
    "    local move_command=\"move\"\n",
    "    if [ \"$1\" = \"--copy\" ]; then\n",
    "        move_command='command cp --interactive --verbose --preserve'\n",
    "        shift\n",
    "    fi\n",
    "    for f in \"$@\"; do\n",
    "        if [ -e \"$f\" ]; then\n",
    "           new_f=$(get-free-filename \"$f\".$(date --reference=\"$f\" '+%d%b%y') \".\")\n",
    "           eval \"$move_command\" \"$f\" \"$new_f\";\n",
    "        fi\n",
    "    done;\n",
    "}\n",
    "\n",
    "function copy-with-file-date { rename-with-file-date --copy \"$@\"; }"
   ]
  },
  {
   "cell_type": "code",
   "execution_count": 33,
   "id": "937d9242",
   "metadata": {},
   "outputs": [
    {
     "name": "stdout",
     "output_type": "stream",
     "text": [
      "'processall.md' -> 'processall.md.10Nov22'\n",
      "'processL.md' -> 'processL.md.10Nov22'\n",
      "'processU.md' -> 'processU.md.10Nov22'\n",
      "'processX.md' -> 'processX.md.10Nov22'\n"
     ]
    }
   ],
   "source": [
    "copy-with-file-date *.md"
   ]
  },
  {
   "cell_type": "code",
   "execution_count": 34,
   "id": "23180fdf",
   "metadata": {},
   "outputs": [],
   "source": [
    "# Statistical helpers\n",
    "alias bigrams='perl -sw $BIN_DIR/count_bigrams.perl -N=2'\n",
    "alias unigrams='perl -sw $BIN_DIR/count_bigrams.perl -N=1'\n",
    "alias word-count=unigrams"
   ]
  },
  {
   "cell_type": "code",
   "execution_count": 35,
   "id": "d9ba3659",
   "metadata": {},
   "outputs": [],
   "source": [
    "man cat > man_cat.txt"
   ]
  },
  {
   "cell_type": "code",
   "execution_count": 36,
   "id": "1d96c16e",
   "metadata": {
    "scrolled": true
   },
   "outputs": [
    {
     "name": "stdout",
     "output_type": "stream",
     "text": [
      "to\t8\n",
      "and\t7\n",
      "standard\t6\n",
      "output\t6\n",
      "cat\t5\n",
      "is\t3\n",
      "equivalent\t3\n",
      "gnu\t3\n",
      "display\t3\n",
      "or\t3\n",
      "free\t3\n",
      "the\t2\n",
      "copyright\t2\n",
      "-\t2\n",
      "version\t2\n",
      "tab\t2\n",
      "no\t2\n",
      "then\t2\n",
      "cat(1)\t2\n",
      "lines\t2\n",
      "coreutils\t2\n",
      "exit\t2\n",
      "by\t2\n",
      "bugs\t2\n",
      "number\t2\n",
      "output.\t2\n",
      "this\t2\n",
      "concatenate\t2\n",
      "-t,\t1\n",
      "-u\t1\n",
      "--show-nonprinting\t1\n",
      "-b,\t1\n",
      "-n\t1\n",
      "foundation,\t1\n",
      "repeated\t1\n",
      "(ignored)\t1\n",
      "-v,\t1\n",
      "3\t1\n",
      "author\t1\n",
      "--show-ends\t1\n",
      "-t\t1\n",
      "name\t1\n",
      "-s,\t1\n",
      "when\t1\n",
      "synopsis\t1\n",
      "m-\t1\n",
      "g\t1\n",
      "--number\t1\n",
      "also\t1\n",
      "--version\t1\n",
      "$\t1\n",
      "-n,\t1\n",
      "report\t1\n",
      "software\t1\n",
      "^i\t1\n",
      "f's\t1\n",
      "on\t1\n",
      "user\t1\n",
      "change\t1\n",
      "it.\t1\n",
      "translation\t1\n",
      "stallman.\t1\n",
      "there\t1\n",
      "8.32\t1\n",
      "suppress\t1\n",
      "©\t1\n",
      "extent\t1\n",
      "at\t1\n",
      "examples\t1\n",
      "--help\t1\n",
      "inc.\t1\n",
      "-a,\t1\n",
      "-e,\t1\n",
      "gpl\t1\n",
      "--number-nonblank\t1\n",
      "torbjorn\t1\n",
      "documentation\t1\n",
      "contents,\t1\n",
      "information\t1\n",
      "-,\t1\n",
      "via:\t1\n",
      "lines,\t1\n",
      "use\t1\n",
      "file,\t1\n",
      "input,\t1\n",
      "as\t1\n",
      "<https://translationproject.org/team/>\t1\n",
      "^\t1\n",
      "-e\t1\n",
      "n/a\t1\n",
      "-ve\t1\n",
      "copy\t1\n",
      "full\t1\n",
      "written\t1\n",
      "see\t1\n",
      "-vt\t1\n",
      "invocation'\t1\n",
      "[file]...\t1\n",
      "'(coreutils)\t1\n",
      "input\t1\n",
      "locally\t1\n",
      "<https://www.gnu.org/software/coreutils/cat>\t1\n",
      "<https://www.gnu.org/software/coreutils/>\t1\n",
      "law.\t1\n",
      "tac(1)\t1\n",
      "read\t1\n",
      "later\t1\n",
      "overrides\t1\n",
      "f\t1\n",
      "--show-all\t1\n",
      "description\t1\n",
      "permitted\t1\n",
      "notation,\t1\n",
      "reporting\t1\n",
      "all\t1\n",
      "file\t1\n",
      "help:\t1\n",
      "license\t1\n",
      "of\t1\n",
      "end\t1\n",
      "redistribute\t1\n",
      "empty\t1\n",
      "contents.\t1\n",
      "info\t1\n",
      "software:\t1\n",
      "warranty,\t1\n",
      "file(s)\t1\n",
      "online\t1\n",
      "except\t1\n",
      "nonempty\t1\n",
      "--show-tabs\t1\n",
      "with\t1\n",
      "g's\t1\n",
      "for\t1\n",
      "richard\t1\n",
      "--squeeze-blank\t1\n",
      "characters\t1\n",
      "-vet\t1\n",
      "files\t1\n",
      "lfd\t1\n",
      "you\t1\n",
      "any\t1\n",
      "print\t1\n",
      "are\t1\n",
      "<https://gnu.org/licenses/gpl.html>.\t1\n",
      "2020\t1\n",
      "[option]...\t1\n",
      "help\t1\n",
      "february\t1\n",
      "each\t1\n",
      "m.\t1\n",
      "commands\t1\n",
      "2022\t1\n",
      "granlund\t1\n",
      "input.\t1\n",
      "line\t1\n",
      "gplv3+:\t1\n",
      "available\t1\n"
     ]
    }
   ],
   "source": [
    "word-count ./man_cat.txt"
   ]
  },
  {
   "cell_type": "code",
   "execution_count": 37,
   "id": "71adad1d",
   "metadata": {},
   "outputs": [
    {
     "name": "stdout",
     "output_type": "stream",
     "text": [
      "equivalent:to\t3\n",
      "output:lines\t2\n",
      "standard:output.\t2\n",
      "gnu:coreutils\t2\n",
      "to:standard\t2\n",
      "and:exit\t2\n",
      "reporting:bugs\t1\n",
      "copy:standard\t1\n",
      "of:each\t1\n",
      "richard:m.\t1\n",
      "output:synopsis\t1\n",
      "use:^\t1\n",
      "this:help\t1\n",
      "version:3\t1\n",
      "translation:bugs\t1\n",
      "and:tab\t1\n",
      "--show-tabs:display\t1\n",
      "author:written\t1\n",
      "contents.:cat\t1\n",
      "<https://gnu.org/licenses/gpl.html>.:this\t1\n",
      "file:is\t1\n",
      "this:is\t1\n",
      "-s,:--squeeze-blank\t1\n",
      "-:concatenate\t1\n",
      "is:-,\t1\n",
      "--show-ends:display\t1\n",
      "locally:via:\t1\n",
      "[file]...:description\t1\n",
      "number:all\t1\n",
      "number:nonempty\t1\n",
      "extent:permitted\t1\n",
      "exit:examples\t1\n",
      "help:and\t1\n",
      "cat:-\t1\n",
      "to:change\t1\n",
      "inc.:license\t1\n",
      "lines:-t\t1\n",
      "to:<https://translationproject.org/team/>\t1\n",
      "-u:(ignored)\t1\n",
      "read:standard\t1\n",
      "and:m-\t1\n",
      "--number:number\t1\n",
      "to:the\t1\n",
      "or:available\t1\n",
      "'(coreutils):cat\t1\n",
      "granlund:and\t1\n",
      "--show-nonprinting:use\t1\n",
      "standard:input.\t1\n",
      "the:standard\t1\n",
      "free:software\t1\n",
      "there:is\t1\n",
      "invocation':gnu\t1\n",
      "each:line\t1\n",
      "software:foundation,\t1\n",
      "-,:read\t1\n",
      "lfd:and\t1\n",
      "it.:there\t1\n",
      "output.:author\t1\n",
      "^i:-u\t1\n",
      "--number-nonblank:number\t1\n",
      "and:richard\t1\n",
      "report:any\t1\n",
      "n/a:cat(1)\t1\n",
      "input:to\t1\n",
      "cat:[option]...\t1\n",
      "change:and\t1\n",
      "-e:equivalent\t1\n",
      "print:on\t1\n",
      "description:concatenate\t1\n",
      "when:file\t1\n",
      "by:torbjorn\t1\n",
      "n/a:n/a\t1\n",
      "-ve:-e,\t1\n",
      "with:no\t1\n",
      "contents,:then\t1\n",
      "m.:stallman.\t1\n",
      "repeated:empty\t1\n",
      "full:documentation\t1\n",
      "and:print\t1\n",
      "cat:f\t1\n",
      "then:standard\t1\n",
      "files:and\t1\n",
      "copyright:copyright\t1\n",
      "line:-n,\t1\n",
      "stallman.:reporting\t1\n",
      "--help:display\t1\n",
      "cat(1):user\t1\n",
      "<https://www.gnu.org/software/coreutils/>:report\t1\n",
      "tab:characters\t1\n",
      "to:-vet\t1\n",
      "software::you\t1\n",
      "redistribute:it.\t1\n",
      "(ignored):-v,\t1\n",
      "commands:cat(1)\t1\n",
      "is:no\t1\n",
      "help::<https://www.gnu.org/software/coreutils/>\t1\n",
      "-n,:--number\t1\n",
      "permitted:by\t1\n",
      "foundation,:inc.\t1\n",
      "synopsis:cat\t1\n",
      "concatenate:file(s)\t1\n",
      "©:2020\t1\n",
      "-t,:--show-tabs\t1\n",
      "see:also\t1\n",
      "you:are\t1\n",
      "no:file,\t1\n",
      "license:gplv3+:\t1\n",
      "cat:invocation'\t1\n",
      "tab:--help\t1\n",
      "display:tab\t1\n",
      "tac(1):full\t1\n",
      "or:later\t1\n",
      "bugs:to\t1\n",
      "<https://www.gnu.org/software/coreutils/cat>:or\t1\n",
      "are:free\t1\n",
      "2020:free\t1\n",
      "standard:input,\t1\n",
      "on:the\t1\n",
      "display:$\t1\n",
      "output:lines,\t1\n",
      "output.:with\t1\n",
      "coreutils:online\t1\n",
      "-:g\t1\n",
      "input.:-a,\t1\n",
      "<https://translationproject.org/team/>:copyright\t1\n",
      "file,:or\t1\n",
      "examples:cat\t1\n",
      "version:information\t1\n",
      "overrides:-n\t1\n",
      "free:to\t1\n",
      "torbjorn:granlund\t1\n",
      "name:cat\t1\n",
      "to:-ve\t1\n",
      "exit:--version\t1\n",
      "8.32:february\t1\n",
      "lines:-s,\t1\n",
      "warranty,:to\t1\n",
      "to:-vt\t1\n",
      "at:end\t1\n",
      "online:help:\t1\n",
      "m-:notation,\t1\n",
      "notation,:except\t1\n",
      "gpl:version\t1\n",
      "g's:contents.\t1\n",
      "as:^i\t1\n",
      "coreutils:8.32\t1\n",
      "suppress:repeated\t1\n",
      "user:commands\t1\n",
      "also:tac(1)\t1\n",
      "info:'(coreutils)\t1\n",
      "characters:as\t1\n",
      "3:or\t1\n",
      "display:this\t1\n",
      "documentation:<https://www.gnu.org/software/coreutils/cat>\t1\n",
      "information:and\t1\n",
      "standard:output\t1\n",
      "input,:then\t1\n",
      "-vt:-t,\t1\n",
      "-vet:-b,\t1\n",
      "then:g's\t1\n",
      "or:when\t1\n",
      "and:redistribute\t1\n",
      "$:at\t1\n",
      "is:free\t1\n",
      "[option]...:[file]...\t1\n",
      "cat:copy\t1\n",
      "-a,:--show-all\t1\n",
      "standard:input\t1\n",
      "--version:output\t1\n",
      "law.:see\t1\n",
      "file(s):to\t1\n",
      "-n:-e\t1\n",
      "cat(1):name\t1\n",
      "gplv3+::gnu\t1\n",
      "output:f's\t1\n",
      "except:for\t1\n",
      "end:of\t1\n",
      "bugs:gnu\t1\n",
      "output:version\t1\n",
      "lines,:overrides\t1\n",
      "gnu:gpl\t1\n",
      "-e,:--show-ends\t1\n",
      "via::info\t1\n",
      "f:-\t1\n",
      "f's:contents,\t1\n",
      "empty:output\t1\n",
      "^:and\t1\n",
      "all:output\t1\n",
      "--show-all:equivalent\t1\n",
      "concatenate:files\t1\n",
      "-v,:--show-nonprinting\t1\n",
      "copyright:©\t1\n",
      "no:warranty,\t1\n",
      "available:locally\t1\n",
      "--squeeze-blank:suppress\t1\n",
      "nonempty:output\t1\n",
      "by:law.\t1\n",
      "-b,:--number-nonblank\t1\n",
      "february:2022\t1\n",
      "written:by\t1\n",
      "-t:equivalent\t1\n",
      "later:<https://gnu.org/licenses/gpl.html>.\t1\n",
      "for:lfd\t1\n",
      "any:translation\t1\n",
      "free:software:\t1\n",
      "g:output\t1\n",
      "the:extent\t1\n"
     ]
    }
   ],
   "source": [
    "bigrams ./man_cat.txt"
   ]
  },
  {
   "cell_type": "code",
   "execution_count": 38,
   "id": "a124be24",
   "metadata": {},
   "outputs": [],
   "source": [
    "lynx-dump-stdout () { lynx -width=512 -dump \"$@\"; }\n",
    "lynx-dump () { \n",
    "    local in_file=\"$1\"\n",
    "    shift 1\n",
    "    local base=$(basename \"$file\" .html)\n",
    "    \n",
    "    if [[ (\"$out_file\" = \"\" ) && (! \"$1\" =~ -*) ]]; then\n",
    "        local out_file=\"$1\"\n",
    "    fi\n",
    "    \n",
    "    if [ \"$out_file\" = \"\" ]; then out_file=\"$base.txt\"; fi\n",
    "    \n",
    "    lynx-dump-stdout \"$@\" \"$file\" > \"$out_file\" 2> \"$out_file.log\"\n",
    "    if [ -s \"$out_file.log\" ]; then\n",
    "        cat \"$out_file.log\"\n",
    "        delete-force \"$out_file.log\"\n",
    "    fi\n",
    "}\n",
    "\n",
    "if [ \"$BAREBONES_HOST\" = \"1\" ]; then export lynx_width=0; fi\n",
    "alias lynx-html='lynx -force_html'"
   ]
  },
  {
   "cell_type": "code",
   "execution_count": 39,
   "id": "d57951d5",
   "metadata": {},
   "outputs": [],
   "source": [
    "# # WORKS FINE - HALTS PROCESS\n",
    "# $ lynx-html"
   ]
  },
  {
   "cell_type": "code",
   "execution_count": 40,
   "id": "86419b9f",
   "metadata": {},
   "outputs": [
    {
     "name": "stdout",
     "output_type": "stream",
     "text": [
      "     [ [1]About Lynx-Dev | [2]Lynx-Dev Archives ]\n",
      "\n",
      "About Lynx\n",
      "\n",
      "   Lynx is a fully-featured World Wide Web (WWW) browser for users on Unix, VMS, and other platforms running cursor-addressable, character-cell terminals or emulators. That includes vt100 terminals, other character-cell displays, and vt100 emulators such as Kermit or Procomm running on PCs or Macs.\n",
      "\n",
      "   For information on how to use Lynx see the [3]Lynx User's Guide, or the [4]Lynx help files.\n",
      "\n",
      "Credits and Copyright\n",
      "\n"
     ]
    }
   ],
   "source": [
    "lynx-dump-stdout | head"
   ]
  },
  {
   "cell_type": "code",
   "execution_count": 41,
   "id": "d9ed2744",
   "metadata": {},
   "outputs": [],
   "source": [
    "# # NEED HELP - N/A \n",
    "# $ lynx-dump lynx_text.txt"
   ]
  },
  {
   "cell_type": "code",
   "execution_count": 42,
   "id": "2a8bc6f3",
   "metadata": {},
   "outputs": [],
   "source": [
    "function setenv () { export $1=\"$2\"; }\n",
    "alias unsetenv='unset'\n",
    "alias unexport='unset'"
   ]
  },
  {
   "cell_type": "code",
   "execution_count": 43,
   "id": "f45efa52",
   "metadata": {},
   "outputs": [
    {
     "name": "stdout",
     "output_type": "stream",
     "text": [
      "xaea12-temp\n"
     ]
    }
   ],
   "source": [
    "setenv MY_USERNAME xaea12-temp\n",
    "echo $MY_USERNAME"
   ]
  },
  {
   "cell_type": "code",
   "execution_count": 44,
   "id": "addf3591",
   "metadata": {},
   "outputs": [
    {
     "name": "stdout",
     "output_type": "stream",
     "text": [
      "\n"
     ]
    }
   ],
   "source": [
    "unexport MY_USERNAME\n",
    "echo $MY_USERNAME"
   ]
  },
  {
   "cell_type": "code",
   "execution_count": 45,
   "id": "49d6d56d",
   "metadata": {},
   "outputs": [
    {
     "name": "stdout",
     "output_type": "stream",
     "text": [
      "END\n"
     ]
    }
   ],
   "source": [
    "echo \"END\""
   ]
  },
  {
   "cell_type": "code",
   "execution_count": null,
   "id": "ed88613c",
   "metadata": {},
   "outputs": [],
   "source": []
  }
 ],
 "metadata": {
  "kernelspec": {
   "display_name": "Bash",
   "language": "bash",
   "name": "bash"
  },
  "language_info": {
   "codemirror_mode": "shell",
   "file_extension": ".sh",
   "mimetype": "text/x-sh",
   "name": "bash"
  }
 },
 "nbformat": 4,
 "nbformat_minor": 5
}
