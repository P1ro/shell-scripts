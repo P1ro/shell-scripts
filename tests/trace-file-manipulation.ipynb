{
 "cells": [
  {
   "cell_type": "code",
   "execution_count": 1,
   "id": "6dcea75d",
   "metadata": {
    "scrolled": true
   },
   "outputs": [],
   "source": [
    "## TESTS START FROM LINE 1504 (tomohara-aliases.bash)\n",
    "\n",
    "## Bracketed Paste is disabled to prevent characters after output\n",
    "## Example: \n",
    "# $ echo 'Hi'\n",
    "# | Hi?2004l\n",
    "\n",
    "bind \"set enable-bracketed-paste off\""
   ]
  },
  {
   "cell_type": "code",
   "execution_count": 2,
   "id": "65d43538",
   "metadata": {},
   "outputs": [
    {
     "name": "stdout",
     "output_type": "stream",
     "text": [
      "[PEXP\\[\\]ECT_PROMPT>\n"
     ]
    }
   ],
   "source": [
    "## TEST:  Make sure simple prompt used (e.g., no escapes that might contaminate output)\n",
    "## PS1=\"$ \"\n",
    "## TODO: PS1=\"> \" \n",
    "\n",
    "## NOTE: The Jupyter bash kernel requires that PS1 not be modified as they customize it. \n",
    "echo $PS1"
   ]
  },
  {
   "cell_type": "code",
   "execution_count": 3,
   "id": "d623c9a9",
   "metadata": {},
   "outputs": [
    {
     "name": "stdout",
     "output_type": "stream",
     "text": [
      "0\n",
      "0\n"
     ]
    }
   ],
   "source": [
    "# Delete all aliases and function\n",
    "# TODO: Instead start from pristine environment\n",
    "unalias -a\n",
    "alias | wc -l\n",
    "for f in $(typeset -f | egrep '^\\w+'); do unset -f $f; done\n",
    "typeset -f | egrep '^\\w+' | wc -l"
   ]
  },
  {
   "cell_type": "code",
   "execution_count": 4,
   "id": "16cdccbd",
   "metadata": {},
   "outputs": [],
   "source": [
    "alias testuser=\"sed -r \"s/\"$USER\"+/user/g\"\"\n",
    "alias testnum=\"sed -r \"s/[0-9]/X/g\"\""
   ]
  },
  {
   "cell_type": "code",
   "execution_count": 5,
   "id": "0ff8f157",
   "metadata": {},
   "outputs": [
    {
     "name": "stdout",
     "output_type": "stream",
     "text": [
      "2\n"
     ]
    }
   ],
   "source": [
    "# Setting a temp directory for tests\n",
    "TMP=/tmp/test-file-manipulation\n",
    "\n",
    "## NOTE: Source it directly from the ./tests directory.\n",
    "BIN_DIR=$PWD/..\n",
    "\n",
    "alias | wc -l"
   ]
  },
  {
   "cell_type": "code",
   "execution_count": 6,
   "id": "ab954c7f",
   "metadata": {},
   "outputs": [
    {
     "name": "stdout",
     "output_type": "stream",
     "text": [
      "/tmp/test-file-manipulation/test-9890\n"
     ]
    }
   ],
   "source": [
    "## NOTE: For reproducability, the directory name needs to be fixed\n",
    "## In place of $$, use a psuedo random number (e,g., 9890)\n",
    "## *** All output from one run to the next needs to be the same ***\n",
    "\n",
    "## temp_dir=$TMP/test-$$\n",
    "temp_dir=$TMP/test-9890\n",
    "\n",
    "mkdir -p \"$temp_dir\"\n",
    "# TODO: /bin/rm -rvf \"$temp_dir\"\n",
    "cd \"$temp_dir\"\n",
    "pwd\n",
    "\n",
    "#ALIAS FOR PRINTING SEPERATION LINES (FOR JUPYTER)\n",
    "alias linebr=\"printf '%*s\\n' \"${COLUMNS:-$(tput cols)}\" '' | tr ' ' -\""
   ]
  },
  {
   "cell_type": "code",
   "execution_count": 7,
   "id": "ec6df159",
   "metadata": {},
   "outputs": [
    {
     "name": "stdout",
     "output_type": "stream",
     "text": [
      "3\n",
      "0\n"
     ]
    }
   ],
   "source": [
    "# Count aliases proper\n",
    "alias | wc -l\n",
    "# Count functions\n",
    "typeset -f | egrep '^\\w+' | wc -l"
   ]
  },
  {
   "cell_type": "code",
   "execution_count": 8,
   "id": "7762153f",
   "metadata": {},
   "outputs": [],
   "source": [
    "# T1 - asc-it DOES BACKUP IN ASCENDING ORDER\n",
    "function asc-it () { $BIN_DIR/dobackup.sh \"$1\"; asc < BACKUP/\"$1\" >| \"$1\"; }"
   ]
  },
  {
   "cell_type": "code",
   "execution_count": 9,
   "id": "0d1949fc",
   "metadata": {},
   "outputs": [
    {
     "name": "stdout",
     "output_type": "stream",
     "text": [
      "Backing up 'freemem_mb.txt' to './backup/freemem_mb.txt'\n",
      "bash: BACKUP/freemem_mb.txt: No such file or directory\n",
      "--------------------------------------------------------------------------------\n",
      "total X\n",
      "-r--r--r-- X user user XXX Nov XX XX:XX freemem_mb.txt\n",
      "--------------------------------------------------------------------------------\n",
      "               total        used        free      shared  buff/cache   available\n",
      "Mem:            XXXX        XXXX         XXX         XXX         XXX         XXX\n",
      "Swap:           XXXX         XXX        XXXX\n"
     ]
    }
   ],
   "source": [
    "rm -rf ./*\n",
    "free -m > freemem_mb.txt\n",
    "\n",
    "asc-it freemem_mb.txt \n",
    "#(NEED SOLUTION FOR bash: BACKUP/freemem_mb.txt: No such file or directory)\n",
    "#(IN CASE OF 'BACKUP'->'backup' IN asc-it, ERROR = bash: asc: command not found)\n",
    "linebr\n",
    "\n",
    "ls -l ./backup/ | testuser | testnum\n",
    "linebr\n",
    "\n",
    "cat ./backup/freemem_mb.txt | testnum"
   ]
  },
  {
   "cell_type": "code",
   "execution_count": 10,
   "id": "7923f668",
   "metadata": {},
   "outputs": [],
   "source": [
    "# T2 - FOR FILE MANIPULATION REGARDING ALIASES\n",
    "alias remove-cr='tr -d \"\\r\"'\n",
    "alias perl-slurp='perl -0777'\n",
    "alias alt-remove-cr='perl-slurp -pe \"s/\\r//g;\"'\n",
    "function remove-cr-and-backup () { $BIN_DIR/dobackup.sh \"$1\"; remove-cr < backup/\"$1\" >| \"$1\"; }\n",
    "alias perl-remove-cr='perl -i.bak -pn -e \"s/\\r//;\"'\n"
   ]
  },
  {
   "cell_type": "code",
   "execution_count": 11,
   "id": "5e6bb71e",
   "metadata": {},
   "outputs": [
    {
     "name": "stdout",
     "output_type": "stream",
     "text": [
      "\n",
      "This is perl X, version XX, subversion X (vX.XX.X) built for xXX_XX-linux-gnu-thread-multi\n",
      "(with XX registered patches, see perl -V for more detail)\n",
      "\n",
      "Copyright XXXX-XXXX, Larry Wall\n",
      "\n",
      "Perl may be copied only under the terms of either the Artistic License or the\n",
      "GNU General Public License, which may be found in the Perl X source kit.\n",
      "\n",
      "Complete documentation for Perl, including FAQ lists, should be found on\n",
      "this system using \"man perl\" or \"perldoc perl\".  If you have access to the\n",
      "Internet, point your browser at http://www.perl.org/, the Perl Home Page.\n",
      "\n"
     ]
    }
   ],
   "source": [
    "# perl-slurp IS AN ALIAS FOR 'perl -0777'\n",
    "perl-slurp -v | testnum"
   ]
  },
  {
   "cell_type": "code",
   "execution_count": 12,
   "id": "1b62ea73",
   "metadata": {},
   "outputs": [
    {
     "name": "stdout",
     "output_type": "stream",
     "text": [
      ". THIS IS A TEST TOO.\n",
      "--------------------------------------------------------------------------------\n",
      "THIS IS A TEST. THIS IS ALSO A TEST. THIS IS A TEST TOO.\n",
      "--------------------------------------------------------------------------------\n",
      "THIS IS A TEST. THIS IS ALSO A TEST. THIS IS A TEST TOO."
     ]
    }
   ],
   "source": [
    "# remove-cr & alt-remove-cr REMOVES \\r from TEXT\n",
    "function test-text () { printf \"THIS IS A TEST. \\rTHIS IS ALSO A TEST\\r. THIS IS A TEST TOO.\"; }\n",
    "test-text\n",
    "\n",
    "printf \"\\n\"\n",
    "linebr\n",
    "\n",
    "test-text | remove-cr\n",
    "\n",
    "printf \"\\n\"\n",
    "linebr\n",
    "\n",
    "test-text | alt-remove-cr"
   ]
  },
  {
   "cell_type": "code",
   "execution_count": 13,
   "id": "37e401f5",
   "metadata": {},
   "outputs": [
    {
     "name": "stdout",
     "output_type": "stream",
     "text": [
      "Backing up 'process_list.txt' to './backup/process_list.txt'\n"
     ]
    }
   ],
   "source": [
    "# remove-cr-and-backup REMOVES \\r AND ALSO CREATES A BACKUP IN THE BACKUP FOLDER\n",
    "ps -l > process_list.txt\n",
    "remove-cr-and-backup process_list.txt"
   ]
  },
  {
   "cell_type": "code",
   "execution_count": 14,
   "id": "a356c468",
   "metadata": {},
   "outputs": [
    {
     "name": "stdout",
     "output_type": "stream",
     "text": [
      "-i used with no filenames on the command line, reading from STDIN.\n",
      ". THIS IS A TEST TOO.IS ALSO A TEST"
     ]
    }
   ],
   "source": [
    "# perl-remove-cr REMOVES \\r USING PERL \n",
    "test-text | perl-remove-cr"
   ]
  },
  {
   "cell_type": "code",
   "execution_count": 15,
   "id": "245bf6ea",
   "metadata": {},
   "outputs": [],
   "source": [
    "# T3 - FOR TEXT MANIPULATION\n",
    "\n",
    "# Text manipulation\n",
    "alias intersection='$BIN_DIR/intersection.perl'\n",
    "alias difference='intersection -diff'\n",
    "alias line-intersection='intersection -line'\n",
    "alias line-difference='intersection -diff -line'\n",
    "function show-line () { tail --lines=+\"$1\" \"$2\" | head -1; }\n",
    "#\n",
    "# last-n-with-header(num, file): create sub-file with last NUM lines plus header from FILE\n",
    "function last-n-with-header () { head --lines=1 \"$2\"; tail --lines=\"$1\" \"$2\"; }\n",
    "\n"
   ]
  },
  {
   "cell_type": "code",
   "execution_count": 16,
   "id": "d88eaa6b",
   "metadata": {},
   "outputs": [
    {
     "name": "stdout",
     "output_type": "stream",
     "text": [
      "PID\n",
      "TTY\n",
      "TIME\n",
      "bash\n",
      "bash\n",
      "XXXX\n",
      "pts/XX\n",
      "pts/XX\n",
      "ps\n"
     ]
    }
   ],
   "source": [
    "# TESTING INTERSECTION FOR ps\n",
    "ps -u > ntest1.txt\n",
    "ps -l > ntest2.txt\n",
    "intersection ntest1.txt ntest2.txt | testnum"
   ]
  },
  {
   "cell_type": "code",
   "execution_count": 17,
   "id": "1d1a7f24",
   "metadata": {},
   "outputs": [
    {
     "name": "stdout",
     "output_type": "stream",
     "text": [
      "%CPU\n",
      "%MEM\n",
      "--rcfile\n",
      "-u\n",
      "/home/user/.local/bin/jupyter-notebook\n",
      "/usr/bin/bash\n",
      "/usr/bin/pythonX\n",
      "/usr/lib/pythonX/dist-packages/pexpect/bashrc.sh\n",
      "X.X\n",
      "X.X\n",
      "X:XX\n",
      "X:XX\n",
      "X:XX\n",
      "X.X\n",
      "X.X\n",
      "X.X\n",
      "XXXX\n",
      "XXXXX\n",
      "XXXXX\n",
      "XXXXX\n",
      "XXXXX\n",
      "XXXXX\n",
      "XXXX\n",
      "XX:XX\n",
      "XX:XX\n",
      "XX:XX\n",
      "XX:XX\n",
      "XX:XX\n",
      "XX:XX\n",
      "XX:XX\n",
      "XX:XX\n",
      "XX:XX\n",
      "XX:XX\n",
      "XX:XX\n",
      "XXXX\n",
      "XXXX\n",
      "XXXXXX\n",
      "XXXX\n",
      "XXXX\n",
      "XXXX\n",
      "XXXX\n",
      "XXXX\n",
      "XXXX\n",
      "XXXX\n",
      "XXXX\n",
      "XXXX\n",
      "XXXX\n",
      "XXXX\n",
      "XXXX\n",
      "XXXX\n",
      "XXXXX\n",
      "XXXX\n",
      "XXXX\n",
      "XXXX\n",
      "XXXX\n",
      "XXXX\n",
      "XXXX\n",
      "XXXX\n",
      "COMMAND\n",
      "R+\n",
      "RSS\n",
      "START\n",
      "STAT\n",
      "Sl+\n",
      "Ss\n",
      "Ss+\n",
      "USER\n",
      "VSZ\n",
      "user\n",
      "pts/X\n",
      "pts/X\n",
      "pts/X\n",
      "pts/X\n",
      "pts/X\n",
      "pts/X\n",
      "pts/X\n",
      "pts/X\n",
      "pts/X\n",
      "pts/X\n"
     ]
    }
   ],
   "source": [
    "# difference = intersection -diff\n",
    "difference ntest1.txt ntest2.txt | testuser | testnum"
   ]
  },
  {
   "cell_type": "code",
   "execution_count": 18,
   "id": "7fa686e6",
   "metadata": {},
   "outputs": [
    {
     "name": "stdout",
     "output_type": "stream",
     "text": [
      "               total        used        free      shared  buff/cache   available\n"
     ]
    }
   ],
   "source": [
    "# line-intersection = intersection -line\n",
    "free -m > free1.txt\n",
    "free > free2.txt\n",
    "line-intersection free1.txt free2.txt"
   ]
  },
  {
   "cell_type": "code",
   "execution_count": 19,
   "id": "5077b85c",
   "metadata": {},
   "outputs": [
    {
     "name": "stdout",
     "output_type": "stream",
     "text": [
      "Mem:            XXXX        XXXX         XXX         XXX         XXX         XXX\n",
      "Swap:           XXXX         XXX        XXXX\n",
      "--------------------------------------------------------------------------------\n",
      "Mem:         XXXXXXX     XXXXXXX      XXXXXX      XXXXXX      XXXXXX      XXXXXX\n",
      "Swap:        XXXXXXX      XXXXXX     XXXXXXX\n"
     ]
    }
   ],
   "source": [
    "# line-difference = intersecton -diff -line\n",
    "line-difference free1.txt free2.txt | testnum\n",
    "linebr\n",
    "line-difference free2.txt free1.txt | testnum"
   ]
  },
  {
   "cell_type": "code",
   "execution_count": 20,
   "id": "49d75322",
   "metadata": {},
   "outputs": [
    {
     "name": "stdout",
     "output_type": "stream",
     "text": [
      "USER         PID %CPU %MEM    VSZ   RSS TTY      STAT START   TIME COMMAND\n",
      "user       XXXX  X.X  X.X  XXXXX  XXXX pts/X    Ss   XX:XX   X:XX bash\n",
      "user       XXXX  X.X  X.X XXXXXX XXXXX pts/X    Sl+  XX:XX   X:XX /usr/bin/pythonX /home/user/.local/bin/jupyter-notebook\n",
      "user       XXXX  X.X  X.X  XXXXX  XXXX pts/X    Ss+  XX:XX   X:XX /usr/bin/bash --rcfile /usr/lib/pythonX/dist-packages/pexpect/bashrc.sh\n",
      "user       XXXX  X.X  X.X  XXXXX  XXXX pts/X    Ss+  XX:XX   X:XX /usr/bin/bash --rcfile /usr/lib/pythonX/dist-packages/pexpect/bashrc.sh\n",
      "user       XXXX  X.X  X.X  XXXXX  XXXX pts/X    Ss+  XX:XX   X:XX bash\n",
      "user       XXXX  X.X  X.X  XXXXX  XXXX pts/X    Ss+  XX:XX   X:XX /usr/bin/bash --rcfile /usr/lib/pythonX/dist-packages/pexpect/bashrc.sh\n",
      "user       XXXX  X.X  X.X  XXXXX  XXXX pts/X    Ss+  XX:XX   X:XX /usr/bin/bash --rcfile /usr/lib/pythonX/dist-packages/pexpect/bashrc.sh\n",
      "user       XXXX  X.X  X.X  XXXXX  XXXX pts/X    Ss+  XX:XX   X:XX /usr/bin/bash --rcfile /usr/lib/pythonX/dist-packages/pexpect/bashrc.sh\n",
      "user       XXXX  X.X  X.X  XXXXX  XXXX pts/X    Ss+  XX:XX   X:XX /usr/bin/bash --rcfile /usr/lib/pythonX/dist-packages/pexpect/bashrc.sh\n",
      "user       XXXX  X.X  X.X  XXXXX  XXXX pts/X    Ss+  XX:XX   X:XX /usr/bin/bash --rcfile /usr/lib/pythonX/dist-packages/pexpect/bashrc.sh\n",
      "user       XXXX  X.X  X.X  XXXXX  XXXX pts/X    Ss+  XX:XX   X:XX /usr/bin/bash --rcfile /usr/lib/pythonX/dist-packages/pexpect/bashrc.sh\n",
      "user       XXXX  X.X  X.X  XXXXX  XXXX pts/XX   Ss   XX:XX   X:XX /usr/bin/bash --rcfile /usr/lib/pythonX/dist-packages/pexpect/bashrc.sh\n",
      "user       XXXX  X.X  X.X  XXXXX  XXXX pts/XX   R+   XX:XX   X:XX ps -u\n",
      "--------------------------------------------------------------------------------\n",
      "user       XXXX  X.X  X.X  XXXXX  XXXX pts/X    Ss+  XX:XX   X:XX /usr/bin/bash --rcfile /usr/lib/pythonX/dist-packages/pexpect/bashrc.sh\n"
     ]
    }
   ],
   "source": [
    "# show-line SHOWS n LINE FROM A FILE \n",
    "# (SYNTAX: show-line [LINE-NUMBER] [SOURCE-FILE])\n",
    "cat ntest1.txt | testuser | testnum\n",
    "linebr\n",
    "show-line 4 ntest1.txt | testuser | testnum"
   ]
  },
  {
   "cell_type": "code",
   "execution_count": 21,
   "id": "2e160f0e",
   "metadata": {},
   "outputs": [
    {
     "name": "stdout",
     "output_type": "stream",
     "text": [
      "USER         PID %CPU %MEM    VSZ   RSS TTY      STAT START   TIME COMMAND\n",
      "user       XXXX  X.X  X.X  XXXXX  XXXX pts/X    Ss+  XX:XX   X:XX /usr/bin/bash --rcfile /usr/lib/pythonX/dist-packages/pexpect/bashrc.sh\n",
      "user       XXXX  X.X  X.X  XXXXX  XXXX pts/X    Ss+  XX:XX   X:XX /usr/bin/bash --rcfile /usr/lib/pythonX/dist-packages/pexpect/bashrc.sh\n",
      "user       XXXX  X.X  X.X  XXXXX  XXXX pts/XX   Ss   XX:XX   X:XX /usr/bin/bash --rcfile /usr/lib/pythonX/dist-packages/pexpect/bashrc.sh\n",
      "user       XXXX  X.X  X.X  XXXXX  XXXX pts/XX   R+   XX:XX   X:XX ps -u\n",
      "--------------------------------------------------------------------------------\n",
      "F S   UID     PID    PPID  C PRI  NI ADDR SZ WCHAN  TTY          TIME CMD\n",
      "X S  XXXX    XXXX    XXXX  X  XX   X -  XXXX do_wai pts/XX   XX:XX:XX bash\n",
      "X R  XXXX    XXXX    XXXX  X  XX   X -  XXXX -      pts/XX   XX:XX:XX ps\n"
     ]
    }
   ],
   "source": [
    "# last-n-with-header GIVES LAST n LINES + HEADING LINE\n",
    "last-n-with-header 4 ntest1.txt | testuser | testnum\n",
    "linebr\n",
    "last-n-with-header 2 ntest2.txt | testuser | testnum"
   ]
  },
  {
   "cell_type": "code",
   "execution_count": 22,
   "id": "475b5f63",
   "metadata": {},
   "outputs": [],
   "source": [
    "# CLEARS THE TEST FOLDER\n",
    "rm -rf ./*"
   ]
  }
 ],
 "metadata": {
  "kernelspec": {
   "display_name": "Bash",
   "language": "bash",
   "name": "bash"
  },
  "language_info": {
   "codemirror_mode": "shell",
   "file_extension": ".sh",
   "mimetype": "text/x-sh",
   "name": "bash"
  }
 },
 "nbformat": 4,
 "nbformat_minor": 5
}
