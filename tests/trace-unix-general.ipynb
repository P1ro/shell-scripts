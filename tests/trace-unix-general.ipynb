{
 "cells": [
  {
   "cell_type": "code",
   "execution_count": 1,
   "id": "d8d3fc06",
   "metadata": {},
   "outputs": [
    {
     "name": "stdout",
     "output_type": "stream",
     "text": [
      "BIND ON!\u001b[?2004l\n"
     ]
    }
   ],
   "source": [
    "# Setup\n",
    "bind 'set enable-bracketed-paste off'\n",
    "echo \"BIND ON!\""
   ]
  },
  {
   "cell_type": "code",
   "execution_count": 2,
   "id": "6dcea75d",
   "metadata": {},
   "outputs": [],
   "source": [
    "## TESTS START FROM LINE 2066 (tomohara-aliases.bash)\n",
    "\n",
    "## Bracketed Paste is disabled to prevent characters after output\n",
    "## Example: \n",
    "# $ echo 'Hi'\n",
    "# | Hi?2004l"
   ]
  },
  {
   "cell_type": "code",
   "execution_count": 3,
   "id": "65d43538",
   "metadata": {},
   "outputs": [
    {
     "name": "stdout",
     "output_type": "stream",
     "text": [
      "[PEXP\\[\\]ECT_PROMPT>\n"
     ]
    }
   ],
   "source": [
    "## TEST:  Make sure simple prompt used (e.g., no escapes that might contaminate output)\n",
    "## PS1=\"$ \"\n",
    "## TODO: PS1=\"> \"\n",
    "\n",
    "## NOTE: The Jupyter bash kernel requires that PS1 not be modified as they customize it. \n",
    "echo $PS1"
   ]
  },
  {
   "cell_type": "code",
   "execution_count": 4,
   "id": "d623c9a9",
   "metadata": {},
   "outputs": [
    {
     "name": "stdout",
     "output_type": "stream",
     "text": [
      "0\n",
      "0\n"
     ]
    }
   ],
   "source": [
    "# Delete all aliases and function\n",
    "# TODO: Instead start from pristine environment\n",
    "unalias -a\n",
    "alias | wc -l\n",
    "for f in $(typeset -f | egrep '^\\w+'); do unset -f $f; done\n",
    "typeset -f | egrep '^\\w+' | wc -l"
   ]
  },
  {
   "cell_type": "code",
   "execution_count": 5,
   "id": "0ff8f157",
   "metadata": {},
   "outputs": [
    {
     "name": "stdout",
     "output_type": "stream",
     "text": [
      "0\n"
     ]
    }
   ],
   "source": [
    "# Setting a temp directory for tests\n",
    "TMP=/tmp/test-unix\n",
    "\n",
    "## NOTE: Source it directly from the ./tests directory.\n",
    "BIN_DIR=$PWD/..\n",
    "\n",
    "alias | wc -l"
   ]
  },
  {
   "cell_type": "code",
   "execution_count": 6,
   "id": "ab954c7f",
   "metadata": {},
   "outputs": [
    {
     "name": "stdout",
     "output_type": "stream",
     "text": [
      "/tmp/test-unix/test-3245\n"
     ]
    }
   ],
   "source": [
    "## NOTE: For reproducability, the directory name needs to be fixed\n",
    "## In place of $$, use a psuedo random number (e,g., 3245)\n",
    "## *** All output from one run to the next needs to be the same ***\n",
    "\n",
    "## temp_dir=$TMP/test-$$\n",
    "temp_dir=$TMP/test-3245\n",
    "\n",
    "mkdir -p \"$temp_dir\"\n",
    "# TODO: /bin/rm -rvf \"$temp_dir\"\n",
    "cd \"$temp_dir\"\n",
    "pwd\n",
    "\n",
    "#ALIAS FOR PRINTING SEPERATION LINES (FOR JUPYTER)\n",
    "alias linebr=\"printf '%*s\\n' \"${COLUMNS:-$(tput cols)}\" '' | tr ' ' -\""
   ]
  },
  {
   "cell_type": "code",
   "execution_count": 7,
   "id": "ec6df159",
   "metadata": {},
   "outputs": [
    {
     "name": "stdout",
     "output_type": "stream",
     "text": [
      "1\n",
      "0\n"
     ]
    }
   ],
   "source": [
    "# Count aliases proper\n",
    "alias | wc -l\n",
    "# Count functions\n",
    "typeset -f | egrep '^\\w+' | wc -l"
   ]
  },
  {
   "cell_type": "code",
   "execution_count": 8,
   "id": "d312db03",
   "metadata": {},
   "outputs": [],
   "source": [
    "# ps-all(pattern): show processes from all users matching PATTERN (or . in which case piped to less)\n",
    "# TODO: have option to restrict to current user\n",
    "function ps-all () { \n",
    "    local pattern=\"$1\";\n",
    "    local pager=cat;\n",
    "    if [ \"$pattern\" = \"\" ]; then \n",
    "        pattern=\".\"; \n",
    "        pager=$PAGER\n",
    "    fi;\n",
    "    ps_mine.sh --all | $EGREP -i \"((^USER)|($pattern))\" | $pager;\n",
    "    }\n",
    "\n",
    "alias ps-script='ps-all \"\\\\bscript\\\\b\" | $GREP -v \"(gnome-session)\"'\n",
    "function ps-sort-once { ps_sort.perl -num_times=1 -by=time \"$@\" -; }\n",
    "alias ps-sort-time='ps-sort-once -by=time'\n",
    "alias ps-time=ps-sort-time\n",
    "alias ps-sort-mem='ps-sort-once -by=mem '\n",
    "alias ps-mem=ps-sort-mem\n"
   ]
  },
  {
   "cell_type": "code",
   "execution_count": 9,
   "id": "8599b61b",
   "metadata": {},
   "outputs": [],
   "source": [
    "alias ps-script='ps-all \"\\\\bscript\\\\b\" | $GREP -v \"(gnome-session)\"'\n",
    "function ps-sort-once { ps_sort.perl -num_times=1 -by=time \"$@\" -; }\n",
    "alias ps-sort-time='ps-sort-once -by=time'\n",
    "alias ps-time=ps-sort-time\n",
    "alias ps-sort-mem='ps-sort-once -by=mem '\n",
    "alias ps-mem=ps-sort-mem"
   ]
  },
  {
   "cell_type": "code",
   "execution_count": 10,
   "id": "2395c71a",
   "metadata": {},
   "outputs": [
    {
     "name": "stdout",
     "output_type": "stream",
     "text": [
      "Error: bad sort field (time): using cpu\n",
      "USER         PID %CPU %MEM    VSZ   RSS TTY      STAT START   TIME COMMAND\n",
      "aveey       1625 11.5 11.9 3448500 439304 ?      Sl   20:32   9:53 /snap/firef\n",
      "aveey       9008 11.5  1.4 672904 51856 ?        Ssl  21:58   0:00 /usr/bin/py\n",
      "aveey       2510  3.8  4.2 2603616 156764 ?      Sl   20:33   3:16 /snap/firef\n",
      "aveey       8806  3.1  4.7 2516088 174328 ?      Sl   21:55   0:06 /snap/firef\n",
      "aveey       1458  2.8  8.5 25952784 316196 ?     Sl   20:29   2:34 /opt/Upwork\n",
      "root         881  2.7  2.9 686404 107080 tty1    Ssl+ 20:25   2:31 /usr/lib/xo\n",
      "aveey       2335  2.0  6.0 2777836 222620 ?      Sl   20:33   1:45 /snap/firef\n",
      "aveey       2374  1.5 10.2 2913000 377736 ?      Sl   20:33   1:18 /snap/firef\n",
      "aveey       9018  1.0  0.1  11480  5564 pts/2    Ss   21:58   0:00 /usr/bin/ba\n",
      "aveey       8988  0.8  1.6 2406912 61608 ?       Sl   21:58   0:00 /snap/firef\n",
      "aveey       1386  0.5  4.4 4826816 164936 ?      Sl   20:28   0:27 /opt/Upwork\n",
      "aveey       3041  0.5  2.0 243692 73844 pts/1    Sl+  20:38   0:25 /usr/bin/py\n",
      "aveey       1930  0.4  4.3 19553496 161048 ?     Sl   20:33   0:21 /snap/firef\n",
      "aveey       8952  0.3  1.7 2406920 62828 ?       Sl   21:57   0:00 /snap/firef\n",
      "aveey       8897  0.2  1.6 2407192 62340 ?       Sl   21:57   0:00 /snap/firef\n",
      "aveey       1041  0.1  3.0 1532356 111584 ?      Sl   20:27   0:05 /usr/bin/pc\n",
      "aveey       1045  0.1  2.7 1206480 102684 ?      Sl   20:27   0:07 /usr/bin/lx\n",
      "aveey       1350  0.1  2.4 765940 91044 ?        Sl   20:28   0:09 xfce4-termi\n",
      "root        7741  0.1  0.0      0     0 ?        I    21:30   0:02 [kworker/2:\n",
      "root           1  0.0  0.3 166312 11684 ?        Ss   20:24   0:01 /sbin/init \n",
      "root           2  0.0  0.0      0     0 ?        S    20:24   0:00 [kthreadd]\n",
      "root           3  0.0  0.0      0     0 ?        I<   20:24   0:00 [rcu_gp]\n",
      "root           4  0.0  0.0      0     0 ?        I<   20:24   0:00 [rcu_par_gp\n",
      "root           5  0.0  0.0      0     0 ?        I<   20:24   0:00 [netns]\n",
      "root           7  0.0  0.0      0     0 ?        I<   20:24   0:00 [kworker/0:\n",
      "root           9  0.0  0.0      0     0 ?        I<   20:24   0:00 [kworker/0:\n",
      "root          10  0.0  0.0      0     0 ?        I<   20:24   0:00 [mm_percpu_\n",
      "root          11  0.0  0.0      0     0 ?        S    20:24   0:00 [rcu_tasks_\n",
      "root          12  0.0  0.0      0     0 ?        S    20:24   0:00 [rcu_tasks_\n",
      "root          13  0.0  0.0      0     0 ?        S    20:24   0:00 [ksoftirqd/\n",
      "root          14  0.0  0.0      0     0 ?        I    20:24   0:02 [rcu_sched]\n",
      "root          15  0.0  0.0      0     0 ?        S    20:24   0:00 [migration/\n",
      "root          16  0.0  0.0      0     0 ?        S    20:24   0:00 [idle_injec\n",
      "root          18  0.0  0.0      0     0 ?        S    20:24   0:00 [cpuhp/0]\n",
      "root          19  0.0  0.0      0     0 ?        S    20:24   0:00 [cpuhp/1]\n",
      "root          20  0.0  0.0      0     0 ?        S    20:24   0:00 [idle_injec\n",
      "root          21  0.0  0.0      0     0 ?        S    20:24   0:00 [migration/\n",
      "root          22  0.0  0.0      0     0 ?        S    20:24   0:00 [ksoftirqd/\n"
     ]
    }
   ],
   "source": [
    "# SORTS ALL PROCESS BY TIME\n",
    "ps-sort-time"
   ]
  },
  {
   "cell_type": "code",
   "execution_count": 11,
   "id": "bc13426e",
   "metadata": {},
   "outputs": [
    {
     "name": "stdout",
     "output_type": "stream",
     "text": [
      "Error: bad sort field (time): using cpu\n",
      "USER         PID %CPU %MEM    VSZ   RSS TTY      STAT START   TIME COMMAND\n",
      "aveey       9008 12.0  1.4 672904 51856 ?        Ssl  21:58   0:00 /usr/bin/py\n",
      "aveey       1625 11.5 12.0 3448500 443204 ?      Sl   20:32   9:53 /snap/firef\n",
      "aveey       2510  3.8  4.2 2603616 156764 ?      Sl   20:33   3:16 /snap/firef\n",
      "aveey       8806  3.2  4.7 2517112 174804 ?      Sl   21:55   0:06 /snap/firef\n",
      "aveey       1458  2.8  8.5 25952784 316196 ?     Sl   20:29   2:34 /opt/Upwork\n",
      "root         881  2.7  2.9 686404 107080 tty1    Ssl+ 20:25   2:31 /usr/lib/xo\n",
      "aveey       2335  2.0  6.0 2777836 222620 ?      Sl   20:33   1:45 /snap/firef\n",
      "aveey       2374  1.5 10.2 2913000 377736 ?      Sl   20:33   1:18 /snap/firef\n",
      "aveey       9018  1.0  0.1  11480  5564 pts/2    Ss   21:58   0:00 /usr/bin/ba\n",
      "aveey       8988  0.8  1.6 2406912 61608 ?       Sl   21:58   0:00 /snap/firef\n",
      "aveey       1386  0.5  4.4 4826816 164936 ?      Sl   20:28   0:27 /opt/Upwork\n",
      "aveey       3041  0.5  2.0 243692 73844 pts/1    Sl+  20:38   0:25 /usr/bin/py\n",
      "aveey       1930  0.4  4.3 19553496 161048 ?     Sl   20:33   0:21 /snap/firef\n",
      "aveey       8952  0.3  1.7 2406920 62828 ?       Sl   21:57   0:00 /snap/firef\n",
      "aveey       8897  0.2  1.6 2407192 62340 ?       Sl   21:57   0:00 /snap/firef\n",
      "aveey       1041  0.1  3.0 1532356 111584 ?      Sl   20:27   0:05 /usr/bin/pc\n",
      "aveey       1045  0.1  2.7 1206480 102684 ?      Sl   20:27   0:07 /usr/bin/lx\n",
      "aveey       1350  0.1  2.4 765940 91044 ?        Sl   20:28   0:09 xfce4-termi\n",
      "root        7741  0.1  0.0      0     0 ?        I    21:30   0:02 [kworker/2:\n",
      "root           1  0.0  0.3 166312 11684 ?        Ss   20:24   0:01 /sbin/init \n",
      "root           2  0.0  0.0      0     0 ?        S    20:24   0:00 [kthreadd]\n",
      "root           3  0.0  0.0      0     0 ?        I<   20:24   0:00 [rcu_gp]\n",
      "root           4  0.0  0.0      0     0 ?        I<   20:24   0:00 [rcu_par_gp\n",
      "root           5  0.0  0.0      0     0 ?        I<   20:24   0:00 [netns]\n",
      "root           7  0.0  0.0      0     0 ?        I<   20:24   0:00 [kworker/0:\n",
      "root           9  0.0  0.0      0     0 ?        I<   20:24   0:00 [kworker/0:\n",
      "root          10  0.0  0.0      0     0 ?        I<   20:24   0:00 [mm_percpu_\n",
      "root          11  0.0  0.0      0     0 ?        S    20:24   0:00 [rcu_tasks_\n",
      "root          12  0.0  0.0      0     0 ?        S    20:24   0:00 [rcu_tasks_\n",
      "root          13  0.0  0.0      0     0 ?        S    20:24   0:00 [ksoftirqd/\n",
      "root          14  0.0  0.0      0     0 ?        I    20:24   0:02 [rcu_sched]\n",
      "root          15  0.0  0.0      0     0 ?        S    20:24   0:00 [migration/\n",
      "root          16  0.0  0.0      0     0 ?        S    20:24   0:00 [idle_injec\n",
      "root          18  0.0  0.0      0     0 ?        S    20:24   0:00 [cpuhp/0]\n",
      "root          19  0.0  0.0      0     0 ?        S    20:24   0:00 [cpuhp/1]\n",
      "root          20  0.0  0.0      0     0 ?        S    20:24   0:00 [idle_injec\n",
      "root          21  0.0  0.0      0     0 ?        S    20:24   0:00 [migration/\n",
      "root          22  0.0  0.0      0     0 ?        S    20:24   0:00 [ksoftirqd/\n"
     ]
    }
   ],
   "source": [
    "# ACTS THE SAME AS ps-sort-time\n",
    "ps-time"
   ]
  },
  {
   "cell_type": "code",
   "execution_count": 12,
   "id": "b688da20",
   "metadata": {},
   "outputs": [
    {
     "name": "stdout",
     "output_type": "stream",
     "text": [
      "USER         PID %CPU %MEM    VSZ   RSS TTY      STAT START   TIME COMMAND\n",
      "aveey       1625 11.5 11.9 3448500 442036 ?      Sl   20:32   9:54 /snap/firef\n",
      "aveey       2374  1.5 10.2 2913000 377736 ?      Sl   20:33   1:18 /snap/firef\n",
      "aveey       1458  2.8  8.5 25952784 316196 ?     Sl   20:29   2:34 /opt/Upwork\n",
      "aveey       2335  2.0  6.0 2777836 222620 ?      Sl   20:33   1:45 /snap/firef\n",
      "aveey       8806  3.2  4.7 2518136 176668 ?      Sl   21:55   0:06 /snap/firef\n",
      "aveey       1386  0.5  4.4 4826816 164936 ?      Sl   20:28   0:27 /opt/Upwork\n",
      "aveey       1930  0.4  4.3 19553496 161048 ?     Sl   20:33   0:21 /snap/firef\n",
      "aveey       2510  3.8  4.2 2603616 156764 ?      Sl   20:33   3:16 /snap/firef\n",
      "aveey       1041  0.1  3.0 1532356 111584 ?      Sl   20:27   0:05 /usr/bin/pc\n",
      "aveey       1834  0.0  3.0 2441784 112980 ?      Sl   20:33   0:02 /snap/firef\n",
      "root         881  2.7  2.9 686404 107080 tty1    Ssl+ 20:25   2:31 /usr/lib/xo\n",
      "aveey       1045  0.1  2.7 1206480 102684 ?      Sl   20:27   0:07 /usr/bin/lx\n",
      "aveey       1350  0.1  2.4 765940 91044 ?        Sl   20:28   0:09 xfce4-termi\n",
      "aveey       3041  0.5  2.0 243692 73844 pts/1    Sl+  20:38   0:25 /usr/bin/py\n",
      "aveey       1438  0.0  1.9 290432 71944 ?        Sl   20:28   0:04 /opt/Upwork\n",
      "aveey       8774  0.0  1.9 2414152 73396 ?       Sl   21:54   0:00 /snap/firef\n",
      "aveey       1510  0.0  1.8 4505372 68944 ?       Sl   20:29   0:00 /opt/Upwork\n",
      "aveey       1525  0.0  1.8 4503324 67324 ?       Sl   20:29   0:00 /opt/Upwork\n",
      "aveey       1536  0.0  1.7 4502300 66016 ?       Sl   20:29   0:00 /opt/Upwork\n",
      "aveey       8952  0.3  1.7 2406920 62828 ?       Sl   21:57   0:00 /snap/firef\n",
      "aveey       1423  0.0  1.6 274864 59284 ?        Sl   20:28   0:03 /opt/Upwork\n",
      "aveey       8897  0.2  1.6 2407192 62340 ?       Sl   21:57   0:00 /snap/firef\n",
      "aveey       8988  0.8  1.6 2406912 61608 ?       Sl   21:58   0:00 /snap/firef\n",
      "aveey       1495  0.0  1.4 522836 52640 ?        Sl   20:29   0:01 /opt/Upwork\n",
      "aveey       9008 12.4  1.4 672904 51856 ?        Ssl  21:58   0:00 /usr/bin/py\n",
      "aveey       1047  0.0  1.3 576372 48780 ?        Sl   20:27   0:01 /usr/bin/lx\n",
      "aveey       1192  0.0  1.2 503992 45232 ?        Sl   20:27   0:01 /usr/bin/lx\n",
      "aveey       1388  0.0  1.2 207348 44972 ?        S    20:28   0:00 /opt/Upwork\n",
      "aveey       1389  0.0  1.2 207348 45296 ?        S    20:28   0:00 /opt/Upwork\n",
      "aveey       1044  0.0  1.1 275844 40868 ?        Sl   20:27   0:00 /usr/bin/lx\n",
      "aveey        975  0.0  1.0 336624 38992 ?        Sl   20:27   0:01 lxqt-sessio\n",
      "aveey       1042  0.0  1.0 336148 37608 ?        Sl   20:27   0:00 /usr/bin/lx\n",
      "aveey       1046  0.0  1.0 409892 37412 ?        Sl   20:27   0:00 /usr/bin/lx\n",
      "aveey       1194  0.0  1.0 271484 39280 ?        Sl   20:27   0:00 /usr/bin/ql\n",
      "aveey       1196  0.0  1.0 272572 39152 ?        Sl   20:27   0:01 /usr/bin/nm\n",
      "aveey       1764  0.0  1.0 268144 37812 ?        Ssl  20:33   0:00 /usr/lib/x8\n",
      "aveey       2537  0.0  1.0 336716 40344 ?        Sl   20:33   0:00 /snap/firef\n",
      "aveey       1808  0.0  0.9 218724 36740 ?        Sl   20:33   0:00 /snap/firef\n"
     ]
    }
   ],
   "source": [
    "# SORTS ALL PROCESS BY MEMORY\n",
    "ps-sort-mem"
   ]
  },
  {
   "cell_type": "code",
   "execution_count": 13,
   "id": "775ea494",
   "metadata": {},
   "outputs": [
    {
     "name": "stdout",
     "output_type": "stream",
     "text": [
      "USER         PID %CPU %MEM    VSZ   RSS TTY      STAT START   TIME COMMAND\n",
      "aveey       1625 11.5 12.0 3448500 443324 ?      Sl   20:32   9:54 /snap/firef\n",
      "aveey       2374  1.5 10.2 2913000 377736 ?      Sl   20:33   1:18 /snap/firef\n",
      "aveey       1458  2.8  8.5 25952784 316196 ?     Sl   20:29   2:34 /opt/Upwork\n",
      "aveey       2335  2.0  6.0 2777836 222620 ?      Sl   20:33   1:45 /snap/firef\n",
      "aveey       8806  3.3  4.7 2519160 175056 ?      Sl   21:55   0:06 /snap/firef\n",
      "aveey       1386  0.5  4.4 4826816 164936 ?      Sl   20:28   0:27 /opt/Upwork\n",
      "aveey       1930  0.4  4.3 19553496 161048 ?     Sl   20:33   0:21 /snap/firef\n",
      "aveey       2510  3.8  4.2 2603616 156764 ?      Sl   20:33   3:16 /snap/firef\n",
      "aveey       1041  0.1  3.0 1532356 111584 ?      Sl   20:27   0:05 /usr/bin/pc\n",
      "aveey       1834  0.0  3.0 2441784 112980 ?      Sl   20:33   0:02 /snap/firef\n",
      "root         881  2.7  2.9 686404 107080 tty1    Ssl+ 20:25   2:31 /usr/lib/xo\n",
      "aveey       1045  0.1  2.7 1206480 102684 ?      Sl   20:27   0:07 /usr/bin/lx\n",
      "aveey       1350  0.1  2.4 765940 91044 ?        Sl   20:28   0:09 xfce4-termi\n",
      "aveey       3041  0.5  2.0 243692 73844 pts/1    Sl+  20:38   0:25 /usr/bin/py\n",
      "aveey       1438  0.0  1.9 290432 71944 ?        Sl   20:28   0:04 /opt/Upwork\n",
      "aveey       8774  0.0  1.9 2414152 73396 ?       Sl   21:54   0:00 /snap/firef\n",
      "aveey       1510  0.0  1.8 4505372 68944 ?       Sl   20:29   0:00 /opt/Upwork\n",
      "aveey       1525  0.0  1.8 4503324 67324 ?       Sl   20:29   0:00 /opt/Upwork\n",
      "aveey       1536  0.0  1.7 4502300 66016 ?       Sl   20:29   0:00 /opt/Upwork\n",
      "aveey       8952  0.3  1.7 2406920 62828 ?       Sl   21:57   0:00 /snap/firef\n",
      "aveey       1423  0.0  1.6 274864 59284 ?        Sl   20:28   0:03 /opt/Upwork\n",
      "aveey       8897  0.2  1.6 2407192 62340 ?       Sl   21:57   0:00 /snap/firef\n",
      "aveey       8988  0.8  1.6 2406912 61608 ?       Sl   21:58   0:00 /snap/firef\n",
      "aveey       1495  0.0  1.4 522836 52640 ?        Sl   20:29   0:01 /opt/Upwork\n",
      "aveey       9008 12.8  1.4 672904 51856 ?        Ssl  21:58   0:00 /usr/bin/py\n",
      "aveey       1047  0.0  1.3 576372 48780 ?        Sl   20:27   0:01 /usr/bin/lx\n",
      "aveey       1192  0.0  1.2 503992 45232 ?        Sl   20:27   0:01 /usr/bin/lx\n",
      "aveey       1388  0.0  1.2 207348 44972 ?        S    20:28   0:00 /opt/Upwork\n",
      "aveey       1389  0.0  1.2 207348 45296 ?        S    20:28   0:00 /opt/Upwork\n",
      "aveey       1044  0.0  1.1 275844 40868 ?        Sl   20:27   0:00 /usr/bin/lx\n",
      "aveey        975  0.0  1.0 336624 38992 ?        Sl   20:27   0:01 lxqt-sessio\n",
      "aveey       1042  0.0  1.0 336148 37608 ?        Sl   20:27   0:00 /usr/bin/lx\n",
      "aveey       1046  0.0  1.0 409892 37412 ?        Sl   20:27   0:00 /usr/bin/lx\n",
      "aveey       1194  0.0  1.0 271484 39280 ?        Sl   20:27   0:00 /usr/bin/ql\n",
      "aveey       1196  0.0  1.0 272572 39152 ?        Sl   20:27   0:01 /usr/bin/nm\n",
      "aveey       1764  0.0  1.0 268144 37812 ?        Ssl  20:33   0:00 /usr/lib/x8\n",
      "aveey       2537  0.0  1.0 336716 40344 ?        Sl   20:33   0:00 /snap/firef\n",
      "aveey       1808  0.0  0.9 218724 36740 ?        Sl   20:33   0:00 /snap/firef\n"
     ]
    }
   ],
   "source": [
    "# ps-mem IS AN ALTERNATIVE OF ps-sort-mem\n",
    "ps-mem"
   ]
  },
  {
   "cell_type": "code",
   "execution_count": 14,
   "id": "6ed9a120",
   "metadata": {},
   "outputs": [],
   "source": [
    "# ERROR GENERATED FOR ps-script\n",
    "# $ ps-script\n",
    "# | bash: -v: command not found\n",
    "# | bash: -i: command not found\n",
    "# | /usr/bin/env: ‘csh’: No such file or directory"
   ]
  },
  {
   "cell_type": "code",
   "execution_count": 15,
   "id": "2e45d738",
   "metadata": {},
   "outputs": [],
   "source": [
    "# ERROR GENERATED FOR ps-all\n",
    "# $ ps-all\n",
    "# | /usr/bin/env: ‘csh’: No such file or directory\n",
    "# | bash: -i: command not found\n"
   ]
  },
  {
   "cell_type": "code",
   "execution_count": 16,
   "id": "82c5fd09",
   "metadata": {},
   "outputs": [],
   "source": [
    "function get-process-parent() { local pid=\"$1\"; if [ \"$pid\" = \"\" ]; then pid=$$; fi; ps al | perl -Ssw extract_matches.perl \"^\\d+\\s+\\d+\\s+$pid\\s+(\\d+)\"; }"
   ]
  },
  {
   "cell_type": "code",
   "execution_count": 17,
   "id": "bf36bf1a",
   "metadata": {},
   "outputs": [
    {
     "name": "stdout",
     "output_type": "stream",
     "text": [
      "F   UID     PID    PPID PRI  NI    VSZ   RSS WCHAN  STAT TTY        TIME COMMAND\n",
      "0  1000    9018    9008  20   0  11480  5564 do_wai Ss   pts/2      0:00 /usr/bin/bash --rcfile /usr/lib/python3/dist-packages/pexpect/bashrc.sh\n",
      "4  1000    9073    9018  20   0  12668  1572 -      R+   pts/2      0:00 ps al\n",
      "0  1000    9074    9018  20   0   9076  2304 pipe_r S+   pts/2      0:00 grep -E (PID|9018)\n",
      "--------------------------------------------------------------------------------\n",
      "9008\n"
     ]
    }
   ],
   "source": [
    "ps al | egrep \"(PID|$$)\"\n",
    "linebr\n",
    "# get-process-parent : return parent process-id for PID\n",
    "get-process-parent"
   ]
  },
  {
   "cell_type": "code",
   "execution_count": 18,
   "id": "c7ea3021",
   "metadata": {},
   "outputs": [],
   "source": [
    "# Make sure script appends rather than overwrites.\n",
    "# In addition, set SCRIPT_PID, so that set_xterm_title.bash can indicate within script.\n",
    "# Also, appends $ to prompt symbol so that typescript prompt searchable with strings command\n",
    "## HACK: set envionment for sake of set_xterm_title.bash (TODO check PPID for this)\n",
    "## TODO: use stack for old_PS_symbol maintenance??? (also allows for recursive invocation, such as with '$ $ $')\n",
    "## TODO: rename as my-script to avoid confusion\n",
    "function script {\n",
    "    ## THIS FUNCTION IS BUGGY\n",
    "    ## Note: set_xterm_title.bash keeps track of titles for each process, so save copies of current ones\n",
    "    local save_full=$(set-xterm-title --print-full)\n",
    "    local save_icon=$(set-xterm-title --print-icon)\n",
    "    ## DEBUG: echo \"save_full='$save_full'; save_icon='$save_icon'\"\n",
    "  \n",
    "    # Change prompt\n",
    "    local old_PS_symbol=\"$PS_symbol\"\n",
    "    export SCRIPT_PID=$$\n",
    "    # Note: the prompt change is flakey\n",
    "    reset-prompt \"$PS_symbol\\$\"\n",
    "    ## DEBUG: echo \"script: 1. PS1='$PS1' old_PS_symbol='$old_PS_symbol' PS_symbol='$new_PS_symbol'\"\n",
    "    \n",
    "    # Change xterm title to match\n",
    "    set-title-to-current-dir\n",
    "    ## DEBUG: echo \"script: 2. PS1='$PS1' old_PS_symbol='$old_PS_symbol' PS_symbol='$new_PS_symbol'\"\n",
    "    # Run command\n",
    "    command script --append \"$@\"\n",
    "    \n",
    "    # Restore prompt\n",
    "    unset SCRIPT_PID\n",
    "    reset-prompt \"$old_PS_symbol\"\n",
    "    ## DEBUG: echo \"script: 3. PS1='$PS1' old_PS_symbol='$old_PS_symbol' PS_symbol='$new_PS_symbol'\"\n",
    "    \n",
    "    # Get rid of lingering 'script' in xterm title\n",
    "    ## DEBUG: echo \"Restoring xterm title: full=$save_full save=$save_icon\"\n",
    "    set-xterm-title \"$save_full\" \"$save_icon\"\n",
    "}\n",
    "\n",
    "alias script-update='script _update-$(T).log'"
   ]
  },
  {
   "cell_type": "code",
   "execution_count": 19,
   "id": "e73cd7c1",
   "metadata": {},
   "outputs": [],
   "source": [
    "## ERROR - NEED TO SOURCE tomohara-aliases.bash FILE\n",
    "# $ script-update\n",
    "# | bash: T: command not found\n",
    "#   bash: set-xterm-title: command not found\n",
    "#   bash: set-xterm-title: command not found\n",
    "#   bash: reset-prompt: command not found\n",
    "#   bash: set-title-to-current-dir: command not found\n",
    "#   Script started, output log file is '_update-.log'.\n"
   ]
  },
  {
   "cell_type": "code",
   "execution_count": 20,
   "id": "9c38e97e",
   "metadata": {},
   "outputs": [],
   "source": [
    "# ansi-filter(filename]: wrapper around ansifilter with stdio and stdout instead of files\n",
    "# TODO: issue request for proper Unix stdin support (n.b., this function is much ado about nothing)\n",
    "function ansi-filter {\n",
    "    local input_file=\"$1\"\n",
    "    if [ \"$input_file\" = \"\" ]; then\n",
    "        input_file=\"$TMP/ansi-filter-in-$$.list\"\n",
    "        cat > \"$input_file\"\n",
    "    fi\n",
    "    local output_file=\"$TMP/ansi-filter-out-$$.list\";\n",
    "    ansifilter --input=\"$input_file\" --output=\"$output_file\"\n",
    "    cat \"$output_file\"\n",
    "}"
   ]
  },
  {
   "cell_type": "code",
   "execution_count": 21,
   "id": "079b0855",
   "metadata": {},
   "outputs": [],
   "source": [
    "## EXAMPLE FOR ansi-filter\n",
    "\n",
    "# ERROR: COMMAND NOT FOUND\n",
    "\n",
    "# $ echo \"How to use the ansi-filter?\" > ansi-filter-test.txt\n",
    "# $ ansi-filter ansi-filter-test.txt\n",
    "# | bash: ansifilter: command not found\n",
    "# | cat: /tmp/test-unix/ansi-filter-out-7384.list: No such file or directory"
   ]
  },
  {
   "cell_type": "code",
   "execution_count": 22,
   "id": "92bb8407",
   "metadata": {},
   "outputs": [],
   "source": [
    "# pause-for-enter: EXITS AFTER PRESSING ENTER, WITH A MESSAGE\n",
    "function pause-for-enter () {\n",
    "    local message=\"$1\"\n",
    "    if [ \"$message\" = \"\" ]; then message=\"Press enter to continue\"; fi\n",
    "    read -p \"$message \"\n",
    "}"
   ]
  },
  {
   "cell_type": "code",
   "execution_count": 23,
   "id": "1e7238c8",
   "metadata": {},
   "outputs": [],
   "source": [
    "## DOESN'T WORK FOR JUPYTER, WORKS FOR TERMINAL\n",
    "\n",
    "# $ pause-for-enter\n",
    "# | Press enter to continue \n",
    "## (program terminates after pressing Enter Key)"
   ]
  },
  {
   "cell_type": "code",
   "execution_count": null,
   "id": "7762153f",
   "metadata": {},
   "outputs": [],
   "source": []
  },
  {
   "cell_type": "code",
   "execution_count": null,
   "id": "0d1949fc",
   "metadata": {},
   "outputs": [],
   "source": []
  }
 ],
 "metadata": {
  "kernelspec": {
   "display_name": "Bash",
   "language": "bash",
   "name": "bash"
  },
  "language_info": {
   "codemirror_mode": "shell",
   "file_extension": ".sh",
   "mimetype": "text/x-sh",
   "name": "bash"
  }
 },
 "nbformat": 4,
 "nbformat_minor": 5
}
