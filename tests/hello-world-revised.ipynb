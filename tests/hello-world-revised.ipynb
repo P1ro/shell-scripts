{
 "cells": [
  {
   "cell_type": "code",
   "execution_count": 1,
   "id": "a03c1f14",
   "metadata": {
    "scrolled": false
   },
   "outputs": [],
   "source": [
    "# Setup\n",
    "bind 'set enable-bracketed-paste off'"
   ]
  },
  {
   "cell_type": "code",
   "execution_count": 2,
   "id": "220201d8",
   "metadata": {},
   "outputs": [],
   "source": [
    "alias testuser=\"sed -r \"s/\"$USER\"+/user/g\"\"\n",
    "alias testnum=\"sed -r \"s/[0-9]/X/g\"\" "
   ]
  },
  {
   "cell_type": "code",
   "execution_count": 3,
   "id": "10e4aac0",
   "metadata": {},
   "outputs": [
    {
     "name": "stdout",
     "output_type": "stream",
     "text": [
      "Hi Mom!\n"
     ]
    }
   ],
   "source": [
    "echo \"Hi Mom!\""
   ]
  },
  {
   "cell_type": "code",
   "execution_count": 4,
   "id": "93dfcf88",
   "metadata": {},
   "outputs": [
    {
     "name": "stdout",
     "output_type": "stream",
     "text": [
      "1\n"
     ]
    }
   ],
   "source": [
    "echo 'Hello world' | wc -l"
   ]
  },
  {
   "cell_type": "code",
   "execution_count": 5,
   "id": "95585f5b",
   "metadata": {},
   "outputs": [
    {
     "name": "stdout",
     "output_type": "stream",
     "text": [
      "/home/user/tom-project/shell-scripts/tests\n"
     ]
    }
   ],
   "source": [
    "pwd | testuser"
   ]
  },
  {
   "cell_type": "code",
   "execution_count": 6,
   "id": "1c7c7b9a",
   "metadata": {},
   "outputs": [],
   "source": [
    "# THIS IS A COMMENT"
   ]
  },
  {
   "cell_type": "code",
   "execution_count": 7,
   "id": "7e5dcc7c",
   "metadata": {},
   "outputs": [
    {
     "name": "stdout",
     "output_type": "stream",
     "text": [
      "/usr/bin/systemd\n"
     ]
    }
   ],
   "source": [
    "which systemd"
   ]
  },
  {
   "cell_type": "code",
   "execution_count": 8,
   "id": "a3e68607",
   "metadata": {},
   "outputs": [
    {
     "name": "stdout",
     "output_type": "stream",
     "text": [
      "DATE(X)                          User Commands                         DATE(X)\n",
      "\n",
      "NAME\n",
      "       date - print or set the system date and time\n",
      "\n",
      "SYNOPSIS\n",
      "       date [OPTION]... [+FORMAT]\n",
      "       date [-u|--utc|--universal] [MMDDhhmm[[CC]YY][.ss]]\n",
      "\n",
      "DESCRIPTION\n"
     ]
    }
   ],
   "source": [
    "man date | head -n 10 | testnum"
   ]
  },
  {
   "cell_type": "code",
   "execution_count": 9,
   "id": "ec969a63",
   "metadata": {},
   "outputs": [
    {
     "name": "stdout",
     "output_type": "stream",
     "text": [
      "F S    C PRI NI ADDR  WCHAN TTY  CMD\n",
      "X S    X XX X -  do_wai pts/XX  bash\n",
      "X R    X XX X -  - pts/XX  ps\n",
      "X S    X XX X -  pipe_r pts/XX  awk\n",
      "X S    X XX X -  pipe_r pts/XX  sed\n"
     ]
    }
   ],
   "source": [
    "# awk will be used to remove any factors that may cause an error\n",
    "ps -l | awk '!($3=$4=$5=$10=$13=\"\")' | testnum"
   ]
  },
  {
   "cell_type": "code",
   "execution_count": 10,
   "id": "95a43fbc",
   "metadata": {
    "scrolled": true
   },
   "outputs": [
    {
     "name": "stdout",
     "output_type": "stream",
     "text": [
      "    PID TTY          TIME CMD\n",
      "  XXXXX pts/XX   XX:XX:XX bash\n",
      "  XXXXX pts/XX   XX:XX:XX ps\n",
      "  XXXXX pts/XX   XX:XX:XX head\n",
      "  XXXXX pts/XX   XX:XX:XX sed\n",
      "  XXXXX pts/XX   XX:XX:XX sed\n"
     ]
    }
   ],
   "source": [
    "ps | head -n 10 | testuser | testnum"
   ]
  },
  {
   "cell_type": "code",
   "execution_count": null,
   "id": "7b087b52",
   "metadata": {},
   "outputs": [],
   "source": []
  }
 ],
 "metadata": {
  "kernelspec": {
   "display_name": "Bash",
   "language": "bash",
   "name": "bash"
  },
  "language_info": {
   "codemirror_mode": "shell",
   "file_extension": ".sh",
   "mimetype": "text/x-sh",
   "name": "bash"
  }
 },
 "nbformat": 4,
 "nbformat_minor": 5
}
