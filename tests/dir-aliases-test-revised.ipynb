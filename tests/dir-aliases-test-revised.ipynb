{
 "cells": [
  {
   "cell_type": "code",
   "execution_count": 23,
   "id": "e0037c65",
   "metadata": {},
   "outputs": [],
   "source": [
    "# Test for directory aliases (e.g., dir-rw)\n",
    "#\n",
    "# Note: The aliases should be defined before Jupyter is invoked.\n",
    "# For BatsPP, they can loaded via '--source all-tomohara-aliases-etc.bash' option."
   ]
  },
  {
   "cell_type": "code",
   "execution_count": 24,
   "id": "c8072444",
   "metadata": {},
   "outputs": [],
   "source": [
    "## SETUP (OPTIONAL - USE IF REQUIRED)\n",
    "## Bracketed Paste is disabled to prevent characters after output\n",
    "## Example: \n",
    "## $ echo 'Hii'\n",
    "## | Hi?2004l\n",
    "# bind 'set enable-bracketed-paste off'"
   ]
  },
  {
   "cell_type": "code",
   "execution_count": 25,
   "id": "76000ec1",
   "metadata": {},
   "outputs": [
    {
     "name": "stdout",
     "output_type": "stream",
     "text": [
      "0\n"
     ]
    },
    {
     "ename": "",
     "evalue": "1",
     "output_type": "error",
     "traceback": []
    }
   ],
   "source": [
    "## TEST:  Make sure simple prompt used (e.g., no escapes that might contaminate output)\n",
    "## PS1=\"$ \"\n",
    "## TODO: PS1=\"> \"\n",
    "## NOTE: The Jupyter bash kernel requires that PS1 not be modified as they customize it. \n",
    "## The following checks for escape codes (e.g., ESC or Hex 0x1B).\n",
    "##\n",
    "echo $PS1 | command grep --count --perl-regexp '[\\x00-\\x1f]'"
   ]
  },
  {
   "cell_type": "code",
   "execution_count": 26,
   "id": "fd292ad6",
   "metadata": {},
   "outputs": [],
   "source": [
    "## BAD\n",
    "## # Delete all aliases and function\n",
    "## # TODO: Instead start from pristine environment\n",
    "## unalias -a\n",
    "## alias | wc -l\n",
    "## for f in $(typeset -f | egrep '^\\w+'); do unset -f $f; done\n",
    "## typeset -f | egrep '^\\w+' | wc -l"
   ]
  },
  {
   "cell_type": "code",
   "execution_count": 27,
   "id": "a0160916",
   "metadata": {},
   "outputs": [],
   "source": [
    "alias testnum=\"sed -r \"s/[0-9]/N/g\"\" \n",
    "alias testuser=\"sed -r \"s/\"$USER\"+/userxf333/g\"\""
   ]
  },
  {
   "cell_type": "code",
   "execution_count": 32,
   "id": "95ecb191",
   "metadata": {},
   "outputs": [],
   "source": [
    "## BAD\n",
    "## mkdir -p tmp/test-dir-aliases"
   ]
  },
  {
   "cell_type": "code",
   "execution_count": 33,
   "id": "fa5edbaa",
   "metadata": {},
   "outputs": [],
   "source": [
    "# Setting a temp directory for tests\n",
    "# NOTE: If debugging uses $TMP\n",
    "TMP=${TMP:-/tmp}\n",
    "if [ $DEBUG_LEVEL -lt 4 ]; then TMP=/tmp/test-dir-aliases; fi\n",
    "\n",
    "#mkdir -p $TMP\n",
    "\n",
    "## BAD\n",
    "## ## NOTE: Source it directly from the ./tests directory.\n",
    "## BIN_DIR=$PWD/..\n",
    "## ## You will need to run jupyter from that directory.\n",
    "## ## source $TEMP_BIN/_dir-aliases.bash\n",
    "## alias | wc -l\n",
    "## source _dir-aliases.bash\n"
   ]
  },
  {
   "cell_type": "code",
   "execution_count": 34,
   "id": "8368e019",
   "metadata": {},
   "outputs": [],
   "source": [
    "# Count aliases proper\n",
    "## TODO: \n",
    "## $ show-macros-proper | perl -pe 's/^alias ([^=]+)=.*/\\1/;  s/ \\(\\)$//;'  | grep -iw ^dir | wc -l\n",
    "## 7"
   ]
  },
  {
   "cell_type": "code",
   "execution_count": 35,
   "id": "51e591c6",
   "metadata": {},
   "outputs": [
    {
     "name": "stdout",
     "output_type": "stream",
     "text": [
      "0\n"
     ]
    }
   ],
   "source": [
    "# Count aliases w/ -dir in name\n",
    "# Example:\n",
    "# $ alias | egrep '\\-dir\\b' | wc -l\n",
    "#  29\n",
    "dir_aliases=$(alias | egrep '\\-dir\\b' | wc -l)\n",
    "[ $dir_aliases -gt 20 ]; echo $?"
   ]
  },
  {
   "cell_type": "code",
   "execution_count": 36,
   "id": "5d186616",
   "metadata": {},
   "outputs": [
    {
     "name": "stdout",
     "output_type": "stream",
     "text": [
      "0\n"
     ]
    }
   ],
   "source": [
    "## OLD\n",
    "## # Count functions\n",
    "## typeset -f | egrep '^\\w+' | wc -l\n",
    "## 408\n",
    "\n",
    "# Count functions with dir\n",
    "dir_functions=$( typeset -f | egrep '\\-dir\\b' | wc -l)\n",
    "[ $dir_functions -gt 40 ]; echo $?"
   ]
  },
  {
   "cell_type": "code",
   "execution_count": 38,
   "id": "7041eaaf",
   "metadata": {},
   "outputs": [
    {
     "name": "stdout",
     "output_type": "stream",
     "text": [
      "/tmp/test-dir-aliases/test-7919\n"
     ]
    }
   ],
   "source": [
    "## NOTE: For reproducability, the directory name needs to be fixed\n",
    "## In place of $$, use a psuedo random number (e,g., 7919)\n",
    "## *** All output from one run to the next needs to be the same ***\n",
    "\n",
    "# Test safe symbolic links\n",
    "## temp_dir=$TMP/test-$$\n",
    "temp_dir=$TMP/test-7919\n",
    "\n",
    "mkdir -p \"$temp_dir\"\n",
    "# TODO: /bin/rm -rvf \"$temp_dir\"\n",
    "## BAD:\n",
    "## cd \"$temp_dir\"\n",
    "## pwd\n",
    "command cd \"$temp_dir\"\n",
    "command pwd"
   ]
  },
  {
   "cell_type": "code",
   "execution_count": 40,
   "id": "cdd285fe",
   "metadata": {},
   "outputs": [
    {
     "name": "stdout",
     "output_type": "stream",
     "text": [
      "bash: [: missing `]'\n"
     ]
    }
   ],
   "source": [
    "# Clean up temp dir\n",
    "#\n",
    "# NOTE: To place it safe, the directory path is reproduced here.\n",
    "# IN addition, the output is omitted.\n",
    "\n",
    "## NOTE: only delete if not debugging (e.g., $DEBUG_LEVEL < 4)\n",
    "## OLD: /bin/rm -rvf \"$temp_dir\"/*\n",
    "## OLD /bin/rm -rvf /tmp/test-dir-aliases/test-7919/* >| /tmp/_cleanup-test-dir-aliases.log 2>&1\n",
    "if [ $DEBUG_LEVEL -lt 4]; then /bin/rm -rvf $TMP/test-dir-aliases/test-7919/* >| /tmp/_cleanup-test-dir-aliases.log 2>&1; fi"
   ]
  },
  {
   "cell_type": "code",
   "execution_count": 41,
   "id": "088ca7d9",
   "metadata": {
    "scrolled": true
   },
   "outputs": [
    {
     "name": "stdout",
     "output_type": "stream",
     "text": [
      "'link1' -> 'file1'\n",
      "ln: failed to create symbolic link 'link1': File exists\n",
      "3\n"
     ]
    }
   ],
   "source": [
    "## TESTING SYMBOLIC LINKS\n",
    "# The first case succeed\n",
    "touch file1\n",
    "ln-symbolic file1 link1\n",
    "# 'link1' -> 'file1'\n",
    "\n",
    "# The second case should should fail\n",
    "ln-symbolic file1 link1\n",
    "# => \"ln: failed to create symbolic link 'link1': File exists?\"\n",
    "\n",
    "# Should only be four files total (along with . and ..)\n",
    "ls -R | wc -l\n",
    "# => 3"
   ]
  },
  {
   "cell_type": "code",
   "execution_count": 42,
   "id": "df424784",
   "metadata": {
    "scrolled": true
   },
   "outputs": [],
   "source": [
    "# FYI: the current aliases and functions\n",
    "\n",
    "# ERROR IN BATSPP (WORKS FINE)\n",
    "# cat $BIN_DIR/tests/_dir-aliases.bash \n",
    "\n",
    "## TODO: convert this to inline comments (to avoid clutter in the output)"
   ]
  },
  {
   "cell_type": "code",
   "execution_count": 43,
   "id": "cf92e475",
   "metadata": {},
   "outputs": [],
   "source": [
    "## BAD\n",
    "## ##EXECUTING _dir-aliases.bash\n",
    "## bash $BIN_DIR/tests/_dir-aliases.bash"
   ]
  },
  {
   "cell_type": "code",
   "execution_count": 45,
   "id": "209e21d6",
   "metadata": {},
   "outputs": [
    {
     "name": "stdout",
     "output_type": "stream",
     "text": [
      " link1 -> file1\n"
     ]
    }
   ],
   "source": [
    "## OLD: ## Some of the aliases do not work due to the absence of 'sublinks' command\n",
    "\n",
    "# This works with proper sourcing as described at top\n",
    "symlinks-proper"
   ]
  },
  {
   "cell_type": "code",
   "execution_count": 46,
   "id": "78312919",
   "metadata": {},
   "outputs": [
    {
     "name": "stdout",
     "output_type": "stream",
     "text": [
      "'temp-link' -> '/tmp'\n"
     ]
    }
   ],
   "source": [
    "# SYMBOLIC LINK temp-link CREATED WHICH LINKS /tmp DIRECTORY \n",
    "ln-symbolic /tmp temp-link"
   ]
  },
  {
   "cell_type": "code",
   "execution_count": 47,
   "id": "3bdce856",
   "metadata": {
    "scrolled": true
   },
   "outputs": [
    {
     "name": "stdout",
     "output_type": "stream",
     "text": [
      "total 0\n",
      "-rw-rw-r-- file1\n",
      "lrwxrwxrwx link1 -> file1\n",
      "lrwxrwxrwx temp-link -> /tmp\n"
     ]
    }
   ],
   "source": [
    "## OLD: ls -l | cut CUTS characters between x-y\n",
    "ls -l | cut --characters=12-46 --complement"
   ]
  },
  {
   "cell_type": "code",
   "execution_count": 48,
   "id": "4d064e03",
   "metadata": {},
   "outputs": [],
   "source": [
    "## BAD\n",
    "## ## CREATES A SYMBOLIC LINK FORCEFULLY\n",
    "## alias ln-symbolic-force='ln-symbolic --force'"
   ]
  },
  {
   "cell_type": "code",
   "execution_count": 49,
   "id": "caa07202",
   "metadata": {},
   "outputs": [
    {
     "name": "stdout",
     "output_type": "stream",
     "text": [
      "ln: failed to create symbolic link 'temp-link/tmp': File exists\n",
      "ln-symbolic-force: command not found\n"
     ]
    },
    {
     "ename": "",
     "evalue": "127",
     "output_type": "error",
     "traceback": []
    }
   ],
   "source": [
    "# ln-symbolic SHOULD GENERATE AN ERROR AS PREVIOUS LINK WITH SAME NAME EXISTS\n",
    "# ln: failed to create symbolic link 'temp-link': File exist\n",
    "ln-symbolic /tmp temp-link\n",
    "# ln-symbolic-force SHOULD BYPASS THE CONDITION\n",
    "# ln: failed to create symbolic link 'temp-link': File exist\n",
    "ln-symbolic-force /tmp temp-link"
   ]
  },
  {
   "cell_type": "code",
   "execution_count": 50,
   "id": "30835d26",
   "metadata": {},
   "outputs": [
    {
     "name": "stdout",
     "output_type": "stream",
     "text": [
      "'temp-link-safe' -> '/tmp/tmp'\n"
     ]
    }
   ],
   "source": [
    "## CREATES A SAFE SYMBOLIC LINK (link-symbolic-safe='ln-symbolic --no-target-directory --no-dereference')\n",
    "link-symbolic-safe /tmp/tmp temp-link-safe"
   ]
  },
  {
   "cell_type": "code",
   "execution_count": 51,
   "id": "e7abee9a",
   "metadata": {},
   "outputs": [
    {
     "name": "stdout",
     "output_type": "stream",
     "text": [
      "'temp-link-safe' -> '/tmp/tmp'\n"
     ]
    }
   ],
   "source": [
    "## SAFE SYMBOLIC LINK BUT FORCEFUL\n",
    "link-symbolic-safe --force /tmp/tmp temp-link-safe"
   ]
  },
  {
   "cell_type": "code",
   "execution_count": 52,
   "id": "3c388fb0",
   "metadata": {
    "scrolled": true
   },
   "outputs": [
    {
     "name": "stdout",
     "output_type": "stream",
     "text": [
      "total 0\n",
      "-rw-rw-r-- file1\n",
      "lrwxrwxrwx link1 -> file1\n",
      "lrwxrwxrwx temp-link -> /tmp\n",
      "lrwxrwxrwx temp-link-safe -> /tmp/tmp\n"
     ]
    }
   ],
   "source": [
    "## REVIEWING ALL THE RESULTS IN THE DIRECTORY (RESULTS ARE FILTERED)| OLD: ls -l\n",
    "ls -l | cut --characters=12-46 --complement"
   ]
  },
  {
   "cell_type": "code",
   "execution_count": 53,
   "id": "8a363240",
   "metadata": {},
   "outputs": [
    {
     "name": "stdout",
     "output_type": "stream",
     "text": [
      "temp-link-safe\n",
      "temp-link\n",
      "link1\n"
     ]
    }
   ],
   "source": [
    "#TO VIEW ALL THE SUBLINKS IN THE TESTING DIRECTORY\n",
    "glob-links"
   ]
  },
  {
   "cell_type": "code",
   "execution_count": 54,
   "id": "0dd2e74d",
   "metadata": {},
   "outputs": [
    {
     "name": "stdout",
     "output_type": "stream",
     "text": [
      "/tmp/test-dir-aliases/test-7919\n",
      "test-7919-b\n",
      "test-7919-a\n"
     ]
    }
   ],
   "source": [
    "## TO VIEW SUBDIRECTORIES IN THE TESTING DIRECTORY\n",
    "pwd\n",
    "mkdir test-7919-a test-7919-b\n",
    "glob-subdirs"
   ]
  }
 ],
 "metadata": {
  "kernelspec": {
   "display_name": "Bash",
   "language": "bash",
   "name": "bash"
  },
  "language_info": {
   "codemirror_mode": "shell",
   "file_extension": ".sh",
   "mimetype": "text/x-sh",
   "name": "bash"
  }
 },
 "nbformat": 4,
 "nbformat_minor": 5
}
