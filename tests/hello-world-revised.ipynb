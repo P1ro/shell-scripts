{
 "cells": [
  {
   "cell_type": "code",
   "execution_count": 1,
   "id": "cc34e95a",
   "metadata": {},
   "outputs": [],
   "source": [
    "shopt -s expand_aliases"
   ]
  },
  {
   "cell_type": "code",
   "execution_count": 2,
   "id": "220201d8",
   "metadata": {},
   "outputs": [],
   "source": [
    "alias testuser=\"sed -r \"s/\"$USER\"+/userxf333/g\"\"\n",
    "alias testnum=\"sed -r \"s/[0-9]/N/g\"\" "
   ]
  },
  {
   "cell_type": "code",
   "execution_count": 3,
   "id": "10e4aac0",
   "metadata": {},
   "outputs": [],
   "source": [
    "# SKIP\n",
    "echo \"Hi Mom!\""
   ]
  },
  {
   "cell_type": "code",
   "execution_count": 4,
   "id": "93dfcf88",
   "metadata": {},
   "outputs": [],
   "source": [
    "echo 'Hello world' | wc -l"
   ]
  },
  {
   "cell_type": "code",
   "execution_count": 5,
   "id": "95585f5b",
   "metadata": {},
   "outputs": [],
   "source": [
    "pwd | testuser"
   ]
  },
  {
   "cell_type": "code",
   "execution_count": 6,
   "id": "1c7c7b9a",
   "metadata": {},
   "outputs": [],
   "source": [
    "# THIS IS A COMMENT"
   ]
  },
  {
   "cell_type": "code",
   "execution_count": 7,
   "id": "7e5dcc7c",
   "metadata": {},
   "outputs": [],
   "source": [
    "which systemd"
   ]
  },
  {
   "cell_type": "code",
   "execution_count": 8,
   "id": "a3e68607",
   "metadata": {},
   "outputs": [],
   "source": [
    "man date | head -n 10 | testnum"
   ]
  },
  {
   "cell_type": "code",
   "execution_count": 9,
   "id": "ec969a63",
   "metadata": {},
   "outputs": [],
   "source": [
    "# awk will be used to remove any factors that may cause an error\n",
    "ps -l | awk '!($3=$4=$5=$10=$13=\"\")' | testnum"
   ]
  },
  {
   "cell_type": "code",
   "execution_count": 10,
   "id": "95a43fbc",
   "metadata": {
    "scrolled": true
   },
   "outputs": [],
   "source": [
    "ps | head -n 10 | testuser | testnum"
   ]
  },
  {
   "cell_type": "code",
   "execution_count": null,
   "id": "7b087b52",
   "metadata": {},
   "outputs": [],
   "source": []
  }
 ],
 "metadata": {
  "kernelspec": {
   "display_name": "Bash",
   "language": "bash",
   "name": "bash"
  },
  "language_info": {
   "codemirror_mode": "shell",
   "file_extension": ".sh",
   "mimetype": "text/x-sh",
   "name": "bash"
  }
 },
 "nbformat": 4,
 "nbformat_minor": 5
}
