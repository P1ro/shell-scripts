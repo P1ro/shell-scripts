{
 "cells": [
  {
   "cell_type": "code",
   "execution_count": 1,
   "id": "6dcea75d",
   "metadata": {},
   "outputs": [
    {
     "name": "stdout",
     "output_type": "stream",
     "text": [
      "\u001b[?2004h\u001b[?2004l\u001b[?2004l\u001b[?2004l\u001b[?2004l\u001b[?2004l\u001b[?2004l\u001b[?2004l\u001b[?2004l\r"
     ]
    }
   ],
   "source": [
    "## FOR GENERAL UNIX FUNCTIONS SEE trace-unix-general.ipynb \n",
    "## STARTS FROM LINE 1687 (tomohara-aliases.bash)\n",
    "\n",
    "## Bracketed Paste is disabled to prevent characters after output\n",
    "## Example: \n",
    "# $ echo 'Hi'\n",
    "# | Hi?2004l\n",
    "\n",
    "bind 'set enable-bracketed-paste off'"
   ]
  },
  {
   "cell_type": "code",
   "execution_count": 2,
   "id": "65d43538",
   "metadata": {},
   "outputs": [
    {
     "name": "stdout",
     "output_type": "stream",
     "text": [
      "[PEXP\\[\\]ECT_PROMPT>\n"
     ]
    }
   ],
   "source": [
    "## TEST:  Make sure simple prompt used (e.g., no escapes that might contaminate output)\n",
    "## PS1=\"$ \"\n",
    "## TODO: PS1=\"> \"\n",
    "\n",
    "## NOTE: The Jupyter bash kernel requires that PS1 not be modified as they customize it. \n",
    "echo $PS1"
   ]
  },
  {
   "cell_type": "code",
   "execution_count": 3,
   "id": "d623c9a9",
   "metadata": {},
   "outputs": [
    {
     "name": "stdout",
     "output_type": "stream",
     "text": [
      "0\n",
      "0\n"
     ]
    }
   ],
   "source": [
    "# Delete all aliases and function\n",
    "# TODO: Instead start from pristine environment\n",
    "unalias -a\n",
    "alias | wc -l\n",
    "for f in $(typeset -f | egrep '^\\w+'); do unset -f $f; done\n",
    "typeset -f | egrep '^\\w+' | wc -l"
   ]
  },
  {
   "cell_type": "code",
   "execution_count": 4,
   "id": "0ff8f157",
   "metadata": {},
   "outputs": [
    {
     "name": "stdout",
     "output_type": "stream",
     "text": [
      "0\n"
     ]
    }
   ],
   "source": [
    "# Setting a temp directory for tests\n",
    "TMP=/tmp/test-unix-alias\n",
    "\n",
    "## NOTE: Source it directly from the ./tests directory.\n",
    "BIN_DIR=$PWD/..\n",
    "\n",
    "alias | wc -l"
   ]
  },
  {
   "cell_type": "code",
   "execution_count": 5,
   "id": "ab954c7f",
   "metadata": {},
   "outputs": [
    {
     "name": "stdout",
     "output_type": "stream",
     "text": [
      "/tmp/test-unix-alias/test-2899\n"
     ]
    }
   ],
   "source": [
    "## NOTE: For reproducability, the directory name needs to be fixed\n",
    "## In place of $$, use a psuedo random number (e,g., 2899)\n",
    "## *** All output from one run to the next needs to be the same ***\n",
    "\n",
    "## temp_dir=$TMP/test-$$\n",
    "temp_dir=$TMP/test-2899\n",
    "\n",
    "mkdir -p \"$temp_dir\"\n",
    "# TODO: /bin/rm -rvf \"$temp_dir\"\n",
    "cd \"$temp_dir\"\n",
    "pwd\n",
    "\n",
    "#ALIAS FOR PRINTING SEPERATION LINES (FOR JUPYTER)\n",
    "alias linebr=\"printf '%*s\\n' \"${COLUMNS:-$(tput cols)}\" '' | tr ' ' -\""
   ]
  },
  {
   "cell_type": "code",
   "execution_count": 6,
   "id": "ec6df159",
   "metadata": {},
   "outputs": [
    {
     "name": "stdout",
     "output_type": "stream",
     "text": [
      "1\n",
      "0\n"
     ]
    }
   ],
   "source": [
    "# Count aliases proper\n",
    "alias | wc -l\n",
    "# Count functions\n",
    "typeset -f | egrep '^\\w+' | wc -l"
   ]
  },
  {
   "cell_type": "code",
   "execution_count": 11,
   "id": "b4af87a1",
   "metadata": {},
   "outputs": [],
   "source": [
    "function group-members () { ypcat group | $GREP -i \"$1\"; }"
   ]
  },
  {
   "cell_type": "code",
   "execution_count": 12,
   "id": "dcca2d13",
   "metadata": {},
   "outputs": [],
   "source": [
    "## ERROR I - group-members\n",
    "\n",
    "# $ group-members\n",
    "# | bash: ypcat: command not found\n",
    "# | bash: -i: command not found"
   ]
  },
  {
   "cell_type": "code",
   "execution_count": 21,
   "id": "32632e36",
   "metadata": {},
   "outputs": [],
   "source": [
    "## TEST 1 - do-make\n",
    "function do-make () { /bin/mv -f _make.log _old_make.log; make \"$@\" >| _make.log 2>&1; $PAGER _make.log; }"
   ]
  },
  {
   "cell_type": "code",
   "execution_count": 33,
   "id": "3591194c",
   "metadata": {},
   "outputs": [
    {
     "name": "stdout",
     "output_type": "stream",
     "text": [
      "--------------------------------------------------------------------------------\n",
      "make: Nothing to be done for 'himom'.\n",
      "make: Nothing to be done for 'himom'.\n",
      "make: *** No rule to make target 'hidad'.  Stop.\n",
      "make: *** No rule to make target 'hidad'.  Stop.\n",
      "--------------------------------------------------------------------------------\n",
      "total 16\n",
      "-rw-rw-r-- 1 aveey aveey  0 Jul 20 22:07 abc\n",
      "-rw-rw-r-- 1 aveey aveey  0 Jul 20 22:07 def\n",
      "-rw-rw-r-- 1 aveey aveey  0 Jul 20 22:07 ghi\n",
      "-rw-rw-r-- 1 aveey aveey  8 Jul 20 22:10 himom\n",
      "-rw-rw-r-- 1 aveey aveey  8 Jul 20 22:06 himom.txt\n",
      "-rw-rw-r-- 1 aveey aveey 49 Jul 20 22:10 _make.log\n",
      "-rw-rw-r-- 1 aveey aveey 38 Jul 20 22:10 _old_make.log\n"
     ]
    }
   ],
   "source": [
    "## 1A) do-make\n",
    "echo \"Hi Mom!\" > himom\n",
    "\n",
    "linebr\n",
    "\n",
    "do-make \"himom\"\n",
    "## THIS SHOWS THE LATEST LOG OF do-make\n",
    "cat _make.log\n",
    "\n",
    "do-make \"hidad\"\n",
    "cat _make.log\n",
    "\n",
    "linebr\n",
    "\n",
    "ls -l"
   ]
  },
  {
   "cell_type": "code",
   "execution_count": 34,
   "id": "2af584a8",
   "metadata": {},
   "outputs": [],
   "source": [
    "## TEST 2 - MERGING ALIASAS & FUNCTIONS\n",
    "\n",
    "# $ man merge\n",
    "#   merge [ options ] file1 file2 file3\n",
    "#   merge  incorporates all changes that lead from file2 to file3 into file1.\n",
    "# NOTE: merge -p mod-file1 original mod-file2 >| new-file\n",
    "alias merge='echo \"do-merge MODFILE1 OLDFILE MODFILE2 > NEWFILE\"'\n",
    "alias do-merge='/usr/bin/merge -p'\n",
    "# note: version of merge usinf diff3 to specify diff program (shell wrapper with whitespace ignored)\n",
    "alias diff3-merge='/usr/bin/diff3 --merge --text --diff-program=diff.sh'\n",
    "## TODO: --auto\n",
    "function kdiff-merge() {\n",
    "    if [ \"$3\" = \"\" ]; then\n",
    "        echo \"usage: $0 changed1 old changed2 output\"\n",
    "        return\n",
    "    fi\n",
    "    kdiff3 --merge --output \"$4\" \"$1\" \"$2\" \"$3\"\n",
    "}"
   ]
  },
  {
   "cell_type": "code",
   "execution_count": 37,
   "id": "cd0c80db",
   "metadata": {},
   "outputs": [
    {
     "name": "stdout",
     "output_type": "stream",
     "text": [
      "do-merge MODFILE1 OLDFILE MODFILE2 > NEWFILE abc def ghi\n"
     ]
    }
   ],
   "source": [
    "# 2A) merge REPLACED BY do-merge \n",
    "\n",
    "## INITIAL FILES TO TEST THE ALIASES\n",
    "touch abc def ghi\n",
    "\n",
    "# MESSAGE SHOWN IF MERGE IS USED\n",
    "merge abc def ghi"
   ]
  },
  {
   "cell_type": "code",
   "execution_count": 38,
   "id": "c0c74f75",
   "metadata": {},
   "outputs": [
    {
     "name": "stdout",
     "output_type": "stream",
     "text": [
      "bash: /usr/bin/merge: No such file or directory\n"
     ]
    },
    {
     "ename": "",
     "evalue": "127",
     "output_type": "error",
     "traceback": []
    }
   ],
   "source": [
    "# 2B) do-merge\n",
    "\n",
    "## ERROR II - do-merge DOESN'T SEEM TO WORK\n",
    "# $ do-merge abc def ghi\n",
    "# | bash: /usr/bin/merge: No such file or directory\n"
   ]
  },
  {
   "cell_type": "code",
   "execution_count": 43,
   "id": "d6f37399",
   "metadata": {},
   "outputs": [],
   "source": [
    "# 2C) diff3-merge\n",
    "\n",
    "## ERROR III - diff3-merge NOT WORKING AS diff.sh MISSING\n",
    "# $ diff3-merge abc def ghi\n",
    "# | /usr/bin/diff3: subsidiary program 'diff.sh' not found"
   ]
  },
  {
   "cell_type": "code",
   "execution_count": 44,
   "id": "b535f2eb",
   "metadata": {},
   "outputs": [
    {
     "name": "stdout",
     "output_type": "stream",
     "text": [
      "bash: kdiff3: command not found\n"
     ]
    },
    {
     "ename": "",
     "evalue": "127",
     "output_type": "error",
     "traceback": []
    }
   ],
   "source": [
    "# 2D) kdiff-merge\n",
    "\n",
    "kdiff-merge \"abc\" \"def\" \"ghi\" \"himom.txt\"\n",
    "## ERROR IV - kdiff-merge NOT WORKING AS kdiff3 COMMAND MISSING\n",
    "# $ kdiff-merge abc def ghi\n",
    "# | bash: kdiff3: command not found"
   ]
  },
  {
   "cell_type": "code",
   "execution_count": 50,
   "id": "bd161757",
   "metadata": {},
   "outputs": [],
   "source": [
    "# TEST 3 - WHICH FUNCTION\n",
    "function which { /usr/bin/which \"$@\" 2> /dev/null; }\n",
    "#\n",
    "# full-dirname(filename): returns full path of directory for file\n",
    "#\n",
    "function full-dirname () { local dir=$(dirname $1); case $dir in .*) dir=\"$PWD/$1\";; esac; echo $dir; }\n",
    "#\n",
    "# base-name-with-dir(file, suffix): version of basename include dir\n",
    "function basename-with-dir {\n",
    "    local file=\"$1\"\n",
    "    local suffix=\"$2\"\n",
    "    echo $(dirname \"$file\")/$(basename \"$file\" \"$suffix\");\n",
    "}"
   ]
  },
  {
   "cell_type": "code",
   "execution_count": 61,
   "id": "a690de70",
   "metadata": {},
   "outputs": [
    {
     "name": "stdout",
     "output_type": "stream",
     "text": [
      "abc  def  ghi  himom  himom.txt  _make.log  _old_make.log\n",
      "--------------------------------------------------------------------------------\n",
      "/tmp/test-unix-alias/test-2899/himom.txt\n"
     ]
    }
   ],
   "source": [
    "# 3A) full-dirname RETURNS THE FULL PATH OF THE FILE\n",
    "ls\n",
    "linebr\n",
    "full-dirname \"himom.txt\""
   ]
  },
  {
   "cell_type": "code",
   "execution_count": 62,
   "id": "94d25f42",
   "metadata": {},
   "outputs": [
    {
     "name": "stdout",
     "output_type": "stream",
     "text": [
      "./himom.txt\n"
     ]
    }
   ],
   "source": [
    "# 3B) base-name-with-dir RETURNS THE BASENAME INCLUDING dir\n",
    "basename-with-dir \"himom.txt\" 2"
   ]
  },
  {
   "cell_type": "code",
   "execution_count": 63,
   "id": "d792021b",
   "metadata": {},
   "outputs": [
    {
     "name": "stdout",
     "output_type": "stream",
     "text": [
      "bash: rpm2cpio: command not found\n",
      "cpio: premature end of archive\n"
     ]
    },
    {
     "ename": "",
     "evalue": "2",
     "output_type": "error",
     "traceback": []
    }
   ],
   "source": [
    "## 3C) rpm-extract IS USED FOR RED HAT BASED DISTROS (RHEL, Fedora) \n",
    "function rpm-extract () { rpm2cpio \"$1\" | cpio --extract --make-directories; }\n",
    "\n",
    "# # ERROR V:\n",
    "# $ rpm-extract\n",
    "# | bash: rpm2cpio: command not found\n",
    "# | cpio: premature end of archive\n"
   ]
  },
  {
   "cell_type": "code",
   "execution_count": 64,
   "id": "fec5b48e",
   "metadata": {},
   "outputs": [],
   "source": [
    "# TEST 4 - DEVICE INFO ALIASES\n",
    "alias dump-url='wget --recursive --relative'\n",
    "#\n",
    "alias gtime='/usr/bin/time'\n",
    "\n",
    "# see 'man 5 os-release'\n",
    "alias linux-version=\"cat /etc/os-release\"\n",
    "alias os-release=linux-version\n",
    "alias system-status='system_status.sh -'\n",
    "#"
   ]
  },
  {
   "cell_type": "code",
   "execution_count": 65,
   "id": "5cdac362",
   "metadata": {},
   "outputs": [
    {
     "name": "stdout",
     "output_type": "stream",
     "text": [
      "wget: missing URL\n",
      "Usage: wget [OPTION]... [URL]...\n",
      "\n",
      "Try `wget --help' for more options.\n"
     ]
    },
    {
     "ename": "",
     "evalue": "1",
     "output_type": "error",
     "traceback": []
    }
   ],
   "source": [
    "## 4A) dump-url GIVES \n",
    "dump-url"
   ]
  },
  {
   "cell_type": "code",
   "execution_count": 66,
   "id": "49da8c7e",
   "metadata": {},
   "outputs": [
    {
     "name": "stdout",
     "output_type": "stream",
     "text": [
      "/usr/bin/time: missing program to run\n",
      "Try '/usr/bin/time --help' for more information.\n"
     ]
    },
    {
     "ename": "",
     "evalue": "125",
     "output_type": "error",
     "traceback": []
    }
   ],
   "source": [
    "## 4B) gtime\n",
    "# ERROR - VI \n",
    "\n",
    "# $ gtime\n",
    "# | /usr/bin/time: missing program to run\n",
    "# | Try '/usr/bin/time --help' for more information.\n",
    "\n"
   ]
  },
  {
   "cell_type": "code",
   "execution_count": 68,
   "id": "9bea16c5",
   "metadata": {},
   "outputs": [
    {
     "name": "stdout",
     "output_type": "stream",
     "text": [
      "PRETTY_NAME=\"Ubuntu 22.04 LTS\"\n",
      "NAME=\"Ubuntu\"\n",
      "VERSION_ID=\"22.04\"\n",
      "VERSION=\"22.04 LTS (Jammy Jellyfish)\"\n",
      "VERSION_CODENAME=jammy\n",
      "ID=ubuntu\n",
      "ID_LIKE=debian\n",
      "HOME_URL=\"https://www.ubuntu.com/\"\n",
      "SUPPORT_URL=\"https://help.ubuntu.com/\"\n",
      "BUG_REPORT_URL=\"https://bugs.launchpad.net/ubuntu/\"\n",
      "PRIVACY_POLICY_URL=\"https://www.ubuntu.com/legal/terms-and-policies/privacy-policy\"\n",
      "UBUNTU_CODENAME=jammy\n",
      "--------------------------------------------------------------------------------\n",
      "PRETTY_NAME=\"Ubuntu 22.04 LTS\"\n",
      "NAME=\"Ubuntu\"\n",
      "VERSION_ID=\"22.04\"\n",
      "VERSION=\"22.04 LTS (Jammy Jellyfish)\"\n",
      "VERSION_CODENAME=jammy\n",
      "ID=ubuntu\n",
      "ID_LIKE=debian\n",
      "HOME_URL=\"https://www.ubuntu.com/\"\n",
      "SUPPORT_URL=\"https://help.ubuntu.com/\"\n",
      "BUG_REPORT_URL=\"https://bugs.launchpad.net/ubuntu/\"\n",
      "PRIVACY_POLICY_URL=\"https://www.ubuntu.com/legal/terms-and-policies/privacy-policy\"\n",
      "UBUNTU_CODENAME=jammy\n"
     ]
    }
   ],
   "source": [
    "## 4C) linux-version GIVES INFO ALL INFO ABOUT THE OS INSTALLED\n",
    "linux-version\n",
    "linebr\n",
    "# os-release ALSO WORKS SAME AS linux-version\n",
    "os-release"
   ]
  },
  {
   "cell_type": "code",
   "execution_count": 69,
   "id": "e0e10406",
   "metadata": {},
   "outputs": [
    {
     "name": "stdout",
     "output_type": "stream",
     "text": [
      "bash: /home/aveey/bin/system_status.sh: /bin/csh: bad interpreter: No such file or directory\n"
     ]
    },
    {
     "ename": "",
     "evalue": "126",
     "output_type": "error",
     "traceback": []
    }
   ],
   "source": [
    "## 4D) system-status \n",
    "\n",
    "# ERROR VII - bad intepreter\n",
    "\n",
    "# $ system-status\n",
    "# | bash: /home/aveey/bin/system_status.sh: /bin/csh: bad interpreter: No such file or directory\n"
   ]
  },
  {
   "cell_type": "code",
   "execution_count": null,
   "id": "c791fc3d",
   "metadata": {},
   "outputs": [],
   "source": []
  }
 ],
 "metadata": {
  "kernelspec": {
   "display_name": "Bash",
   "language": "bash",
   "name": "bash"
  },
  "language_info": {
   "codemirror_mode": "shell",
   "file_extension": ".sh",
   "mimetype": "text/x-sh",
   "name": "bash"
  }
 },
 "nbformat": 4,
 "nbformat_minor": 5
}
