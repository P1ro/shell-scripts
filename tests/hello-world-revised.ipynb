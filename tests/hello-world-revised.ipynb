{
 "cells": [
  {
   "cell_type": "code",
   "execution_count": 1,
   "id": "a03c1f14",
   "metadata": {
    "scrolled": false
   },
   "outputs": [
    {
     "name": "stdout",
     "output_type": "stream",
     "text": [
      "\u001b[?2004h\u001b[?2004l\r"
     ]
    }
   ],
   "source": [
    "# Setup\n",
    "bind 'set enable-bracketed-paste off'"
   ]
  },
  {
   "cell_type": "code",
   "execution_count": 2,
   "id": "10e4aac0",
   "metadata": {},
   "outputs": [
    {
     "name": "stdout",
     "output_type": "stream",
     "text": [
      "Hi Mom!\n"
     ]
    }
   ],
   "source": [
    "echo \"Hi Mom!\""
   ]
  },
  {
   "cell_type": "code",
   "execution_count": 3,
   "id": "93dfcf88",
   "metadata": {},
   "outputs": [
    {
     "name": "stdout",
     "output_type": "stream",
     "text": [
      "1\n"
     ]
    }
   ],
   "source": [
    "echo 'Hello world' | wc -l"
   ]
  },
  {
   "cell_type": "code",
   "execution_count": 4,
   "id": "95585f5b",
   "metadata": {},
   "outputs": [
    {
     "name": "stdout",
     "output_type": "stream",
     "text": [
      "/home/aveey/tom-project/shell-scripts/tests\n"
     ]
    }
   ],
   "source": [
    "pwd"
   ]
  },
  {
   "cell_type": "code",
   "execution_count": 5,
   "id": "1c7c7b9a",
   "metadata": {},
   "outputs": [],
   "source": [
    "# THIS IS A COMMENT"
   ]
  },
  {
   "cell_type": "code",
   "execution_count": 6,
   "id": "7e5dcc7c",
   "metadata": {},
   "outputs": [
    {
     "name": "stdout",
     "output_type": "stream",
     "text": [
      "/usr/bin/systemd\n"
     ]
    }
   ],
   "source": [
    "which systemd"
   ]
  },
  {
   "cell_type": "code",
   "execution_count": 7,
   "id": "a3e68607",
   "metadata": {},
   "outputs": [
    {
     "name": "stdout",
     "output_type": "stream",
     "text": [
      "\u001b[32m \u001b[1m_dir-aliases.bash\u001b[0m                  re\n",
      " abc-test.txt                      \u001b[33m \u001b[1;4mREADME.txt\u001b[0m\n",
      " adhoc-tests.test                  \u001b[34m \u001b[1mreports\u001b[0m\n",
      " alias-calculator-commands.ipynb   \u001b[32m \u001b[1msimple_batspp.py\u001b[0m\n",
      " alias-cd-commands.ipynb           \u001b[34m \u001b[1mtemp\u001b[0m\n",
      " alias-grep-commands.ipynb         \u001b[34m \u001b[1mtemp-alias-test\u001b[0m\n",
      " alias-trace-misc-commands.ipynb    test-check-errors.ipynb\n",
      "\u001b[34m \u001b[1mbatspp-output\u001b[0m                      test-cond-env-setting.ipynb\n",
      "\u001b[32m \u001b[1mbatspp-report.py\u001b[0m                   test-dir-alias.ipynb\n",
      " calc-entropy-tests.ipynb          \u001b[32m \u001b[1mtest-dir-output.txt\u001b[0m\n",
      " calc_entropy.input                \u001b[32m \u001b[1mtest_check_errors.py\u001b[0m\n",
      " calc_entropy.input2               \u001b[32m \u001b[1mtest_extract_matches.py\u001b[0m\n",
      " calc_entropy.simple.input         \u001b[32m \u001b[1mtest_tomohara_aliases.bats\u001b[0m\n",
      " calc_entropy.simple.input2        \u001b[32m \u001b[1mtest_tpo_count_it.py\u001b[0m\n",
      " command-override-cp-mv.ipynb       testbook-test-dir-aliases.ipynb\n",
      " dir-aliases-test-revised.ipynb    \u001b[32m \u001b[1mtestpy.txt\u001b[0m\n",
      " docshtest.rst                     \u001b[34m \u001b[1mtmp\u001b[0m\n",
      " hello-world-basic.batspp           tomasohara-aliases-test.ipynb\n",
      " hello-world-basic.ipynb            trace-extensionless-shortcut.ipynb\n",
      " hello-world-revised.batspp         trace-file-manipulation.ipynb\n",
      " hello-world-revised.ipynb          trace-line-words-commands.ipynb\n",
      "\u001b[32m \u001b[1mhello-world_test.txt\u001b[0m               trace-linux-admin-alias.ipynb\n",
      " json-related-alias.ipynb           trace-python-commands.ipynb\n",
      "\u001b[32m \u001b[1mjupyter_to_batspp.py\u001b[0m               trace-setup-sorting-wrappers.ipynb\n",
      " misc-bash-helpers.ipynb            trace-unix-alias.ipynb\n",
      " more-tomohara-aliases-test.ipynb   trace-unix-general.ipynb\n",
      " os                                \u001b[32m \u001b[1mtrace-unix-general.txt\u001b[0m\n",
      " random                            \n"
     ]
    }
   ],
   "source": [
    "ls"
   ]
  },
  {
   "cell_type": "code",
   "execution_count": 8,
   "id": "ec969a63",
   "metadata": {},
   "outputs": [
    {
     "name": "stdout",
     "output_type": "stream",
     "text": [
      "F S   UID     PID    PPID  C PRI  NI ADDR SZ WCHAN  TTY          TIME CMD\n",
      "0 S  1000   42020   42009  1  80   0 -  2870 do_wai pts/3    00:00:00 bash\n",
      "4 R  1000   42039   42020  0  80   0 -  3167 -      pts/3    00:00:00 ps\n"
     ]
    }
   ],
   "source": [
    "ps -l"
   ]
  },
  {
   "cell_type": "code",
   "execution_count": null,
   "id": "95a43fbc",
   "metadata": {},
   "outputs": [],
   "source": []
  }
 ],
 "metadata": {
  "kernelspec": {
   "display_name": "Bash",
   "language": "bash",
   "name": "bash"
  },
  "language_info": {
   "codemirror_mode": "shell",
   "file_extension": ".sh",
   "mimetype": "text/x-sh",
   "name": "bash"
  }
 },
 "nbformat": 4,
 "nbformat_minor": 5
}
