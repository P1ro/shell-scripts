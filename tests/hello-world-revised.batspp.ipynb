{
 "cells": [
  {
   "cell_type": "code",
   "execution_count": null,
   "id": "a65b1fb6",
   "metadata": {},
   "outputs": [
    {
     "data": {
      "text/plain": [
       "\n"
      ]
     },
     "metadata": {},
     "output_type": "display_data"
    }
   ],
   "source": [
    "# shopt -s expand_aliases\n"
   ]
  },
  {
   "cell_type": "code",
   "execution_count": null,
   "id": "56b1e412",
   "metadata": {},
   "outputs": [
    {
     "data": {
      "text/plain": [
       "\n"
      ]
     },
     "metadata": {},
     "output_type": "display_data"
    }
   ],
   "source": [
    "alias testuser=\"sed -r \"s/\"$USER\"+/userxf333/g\"\"\n",
    "alias testnum=\"sed -r \"s/[0-9]/N/g\"\" \n"
   ]
  },
  {
   "cell_type": "code",
   "execution_count": null,
   "id": "89ae1b30",
   "metadata": {},
   "outputs": [
    {
     "data": {
      "text/plain": [
       "Hi Mom!\n",
       "\n"
      ]
     },
     "metadata": {},
     "output_type": "display_data"
    }
   ],
   "source": [
    "echo \"Hi Mom!\"\n"
   ]
  },
  {
   "cell_type": "code",
   "execution_count": null,
   "id": "79a483a3",
   "metadata": {},
   "outputs": [
    {
     "data": {
      "text/plain": [
       "1\n",
       "\n"
      ]
     },
     "metadata": {},
     "output_type": "display_data"
    }
   ],
   "source": [
    "echo 'Hello world' | wc -l\n"
   ]
  },
  {
   "cell_type": "code",
   "execution_count": null,
   "id": "73007e09",
   "metadata": {},
   "outputs": [
    {
     "data": {
      "text/plain": [
       "/home/userxf333/tom-project/shell-scripts/tests\n",
       "\n"
      ]
     },
     "metadata": {},
     "output_type": "display_data"
    }
   ],
   "source": [
    "pwd | testuser\n"
   ]
  },
  {
   "cell_type": "code",
   "execution_count": null,
   "id": "cf43418d",
   "metadata": {},
   "outputs": [
    {
     "data": {
      "text/plain": [
       "\n"
      ]
     },
     "metadata": {},
     "output_type": "display_data"
    }
   ],
   "source": [
    "# THIS IS A COMMENT\n"
   ]
  },
  {
   "cell_type": "code",
   "execution_count": null,
   "id": "ed21e257",
   "metadata": {},
   "outputs": [
    {
     "data": {
      "text/plain": [
       "/usr/bin/systemd\n",
       "\n"
      ]
     },
     "metadata": {},
     "output_type": "display_data"
    }
   ],
   "source": [
    "# SKIP\n",
    "which systemd\n"
   ]
  },
  {
   "cell_type": "code",
   "execution_count": null,
   "id": "e042ee8a",
   "metadata": {},
   "outputs": [
    {
     "data": {
      "text/plain": [
       "DATE(N)                          User Commands                         DATE(N)\n",
       "\n",
       "NAME\n",
       "       date - print or set the system date and time\n",
       "\n",
       "SYNOPSIS\n",
       "       date [OPTION]... [+FORMAT]\n",
       "       date [-u|--utc|--universal] [MMDDhhmm[[CC]YY][.ss]]\n",
       "\n",
       "DESCRIPTION\n",
       "\n"
      ]
     },
     "metadata": {},
     "output_type": "display_data"
    }
   ],
   "source": [
    "man date | head -n 10 | testnum\n"
   ]
  },
  {
   "cell_type": "code",
   "execution_count": null,
   "id": "4a812533",
   "metadata": {},
   "outputs": [
    {
     "data": {
      "text/plain": [
       "F S    C PRI NI ADDR  WCHAN TTY  CMD\n",
       "N S    N NN N -  do_wai pts/N  bash\n",
       "N R    N NN N -  - pts/N  ps\n",
       "N S    N NN N -  pipe_r pts/N  awk\n",
       "N S    N NN N -  pipe_r pts/N  sed\n",
       "\n"
      ]
     },
     "metadata": {},
     "output_type": "display_data"
    }
   ],
   "source": [
    "# awk will be used to remove any factors that may cause an error\n",
    "ps -l | awk '!($3=$4=$5=$10=$13=\"\")' | testnum\n"
   ]
  },
  {
   "cell_type": "code",
   "execution_count": null,
   "id": "319abd7b",
   "metadata": {},
   "outputs": [
    {
     "data": {
      "text/plain": [
       "    PID TTY          TIME CMD\n",
       "  NNNNN pts/N    NN:NN:NN bash\n",
       "  NNNNN pts/N    NN:NN:NN ps\n",
       "  NNNNN pts/N    NN:NN:NN head\n",
       "  NNNNN pts/N    NN:NN:NN sed\n",
       "  NNNNN pts/N    NN:NN:NN sed\n",
       "\n",
       "\n"
      ]
     },
     "metadata": {},
     "output_type": "display_data"
    }
   ],
   "source": [
    "ps | head -n 10 | testuser | testnum\n"
   ]
  }
 ],
 "metadata": {
  "kernelspec": {
   "display_name": "Bash",
   "language": "bash",
   "name": "bash"
  },
  "language_info": {
   "codemirror_mode": "shell",
   "file_extension": ".sh",
   "mimetype": "text/x-sh",
   "name": "bash"
  }
 },
 "nbformat": 4,
 "nbformat_minor": 5
}
