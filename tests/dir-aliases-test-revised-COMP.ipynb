{
 "cells": [
  {
   "cell_type": "code",
   "execution_count": 1,
   "id": "c8072444",
   "metadata": {},
   "outputs": [],
   "source": [
    "# Setup\n",
    "bind 'set enable-bracketed-paste off'"
   ]
  },
  {
   "cell_type": "code",
   "execution_count": 2,
   "id": "76000ec1",
   "metadata": {},
   "outputs": [
    {
     "name": "stdout",
     "output_type": "stream",
     "text": [
      "[PEXP\\[\\]ECT_PROMPT>\n"
     ]
    }
   ],
   "source": [
    "## TEST:  Make sure simple prompt used (e.g., no escapes that might contaminate output)\n",
    "## PS1=\"$ \"\n",
    "## TODO: PS1=\"> \"\n",
    "## NOTE: The Jupyter bash kernel requires that PS1 not be modified as they customize it. \n",
    "echo $PS1"
   ]
  },
  {
   "cell_type": "code",
   "execution_count": 3,
   "id": "fd292ad6",
   "metadata": {},
   "outputs": [
    {
     "name": "stdout",
     "output_type": "stream",
     "text": [
      "0\n",
      "0\n"
     ]
    }
   ],
   "source": [
    "# Delete all aliases and function\n",
    "# TODO: Instead start from pristine environment\n",
    "unalias -a\n",
    "alias | wc -l\n",
    "for f in $(typeset -f | egrep '^\\w+'); do unset -f $f; done\n",
    "typeset -f | egrep '^\\w+' | wc -l"
   ]
  },
  {
   "cell_type": "code",
   "execution_count": 4,
   "id": "95ecb191",
   "metadata": {},
   "outputs": [],
   "source": [
    "mkdir -p tmp/test-dir-aliases"
   ]
  },
  {
   "cell_type": "code",
   "execution_count": 5,
   "id": "fa5edbaa",
   "metadata": {},
   "outputs": [
    {
     "name": "stdout",
     "output_type": "stream",
     "text": [
      "8\n"
     ]
    }
   ],
   "source": [
    "# Setting a temp directory for tests\n",
    "TMP=/tmp/test-dir-aliases\n",
    "\n",
    "## NOTE: Source it directly from the ./tests directory.\n",
    "BIN_DIR=$PWD/..\n",
    "## You will need to run jupyter from that directory.\n",
    "## source $TEMP_BIN/_dir-aliases.bash\n",
    "source _dir-aliases.bash\n",
    "alias | wc -l"
   ]
  },
  {
   "cell_type": "code",
   "execution_count": 6,
   "id": "8368e019",
   "metadata": {},
   "outputs": [
    {
     "name": "stdout",
     "output_type": "stream",
     "text": [
      "8\n"
     ]
    }
   ],
   "source": [
    "# Count aliases proper\n",
    "alias | wc -l"
   ]
  },
  {
   "cell_type": "code",
   "execution_count": 7,
   "id": "5d186616",
   "metadata": {},
   "outputs": [
    {
     "name": "stdout",
     "output_type": "stream",
     "text": [
      "2\n"
     ]
    }
   ],
   "source": [
    "# Count functions\n",
    "typeset -f | egrep '^\\w+' | wc -l"
   ]
  },
  {
   "cell_type": "code",
   "execution_count": 8,
   "id": "7041eaaf",
   "metadata": {},
   "outputs": [
    {
     "name": "stdout",
     "output_type": "stream",
     "text": [
      "/tmp/test-dir-aliases/test-7919\n"
     ]
    }
   ],
   "source": [
    "## NOTE: For reproducability, the directory name needs to be fixed\n",
    "## In place of $$, use a psuedo random number (e,g., 7919)\n",
    "## *** All output from one run to the next needs to be the same ***\n",
    "\n",
    "# Test safe symbolic links\n",
    "## temp_dir=$TMP/test-$$\n",
    "temp_dir=$TMP/test-7919\n",
    "\n",
    "mkdir -p \"$temp_dir\"\n",
    "# TODO: /bin/rm -rvf \"$temp_dir\"\n",
    "cd \"$temp_dir\"\n",
    "pwd"
   ]
  },
  {
   "cell_type": "code",
   "execution_count": 9,
   "id": "cdd285fe",
   "metadata": {},
   "outputs": [],
   "source": [
    "# Clean up temp dir\n",
    "#\n",
    "# NOTE: To place it safe, the directory path is reproduced here.\n",
    "# IN addition, the output is omitted.\n",
    "\n",
    "## OLD: /bin/rm -rvf \"$temp_dir\"/*\n",
    "/bin/rm -rvf /tmp/test-dir-aliases/test-7919/* >| /tmp/_cleanup-test-dir-aliases.log 2>&1"
   ]
  },
  {
   "cell_type": "code",
   "execution_count": 10,
   "id": "088ca7d9",
   "metadata": {
    "scrolled": true
   },
   "outputs": [
    {
     "name": "stdout",
     "output_type": "stream",
     "text": [
      "'link1' -> 'file1'\n",
      "ln: failed to create symbolic link 'link1': File exists\n",
      "3\n"
     ]
    }
   ],
   "source": [
    "## TESTING SYMBOLIC LINKS\n",
    "# The first case succeed\n",
    "touch file1\n",
    "ln-symbolic file1 link1\n",
    "# 'link1' -> 'file1'\n",
    "\n",
    "# The second case should should fail\n",
    "ln-symbolic file1 link1\n",
    "# => \"ln: failed to create symbolic link 'link1': File exists?\"\n",
    "\n",
    "# Should only be four files total (along with . and ..)\n",
    "ls -R | wc -l\n",
    "# => 3"
   ]
  },
  {
   "cell_type": "code",
   "execution_count": 11,
   "id": "df424784",
   "metadata": {
    "scrolled": true
   },
   "outputs": [],
   "source": [
    "# FYI: the current aliases and functions\n",
    "\n",
    "# ERROR IN BATSPP (WORKS FINE)\n",
    "# cat $BIN_DIR/tests/_dir-aliases.bash \n",
    "\n",
    "## TODO: convert this to inline comments (to avoid clutter in the output)"
   ]
  },
  {
   "cell_type": "code",
   "execution_count": 12,
   "id": "cf92e475",
   "metadata": {},
   "outputs": [],
   "source": [
    "##EXECUTING _dir-aliases.bash\n",
    "bash $BIN_DIR/tests/_dir-aliases.bash"
   ]
  },
  {
   "cell_type": "code",
   "execution_count": 13,
   "id": "209e21d6",
   "metadata": {},
   "outputs": [
    {
     "name": "stdout",
     "output_type": "stream",
     "text": [
      "bash: sublinks: command not found\n"
     ]
    }
   ],
   "source": [
    "## Some of the aliases do not work due to the absence of 'sublinks' command\n",
    "symlinks-proper"
   ]
  },
  {
   "cell_type": "code",
   "execution_count": 14,
   "id": "78312919",
   "metadata": {},
   "outputs": [
    {
     "name": "stdout",
     "output_type": "stream",
     "text": [
      "'temp-link' -> '/tmp'\n"
     ]
    }
   ],
   "source": [
    "# SYMBOLIC LINK temp-link CREATED WHICH LINKS /tmp DIRECTORY \n",
    "ln-symbolic /tmp temp-link"
   ]
  },
  {
   "cell_type": "code",
   "execution_count": 15,
   "id": "3bdce856",
   "metadata": {
    "scrolled": true
   },
   "outputs": [
    {
     "name": "stdout",
     "output_type": "stream",
     "text": [
      "total 0\n",
      "-rw-rw-r-- \n",
      "lrwxrwxrwx -> file1\n",
      "lrwxrwxrwx ink -> /tmp\n"
     ]
    }
   ],
   "source": [
    "## OLD: ls -l | cut CUTS characters between x-y\n",
    "ls -l | cut --characters=12-46 --complement"
   ]
  },
  {
   "cell_type": "code",
   "execution_count": 16,
   "id": "4d064e03",
   "metadata": {},
   "outputs": [],
   "source": [
    "## CREATES A SYMBOLIC LINK FORCEFULLY\n",
    "alias ln-symbolic-force='ln-symbolic --force'"
   ]
  },
  {
   "cell_type": "code",
   "execution_count": 17,
   "id": "caa07202",
   "metadata": {},
   "outputs": [
    {
     "name": "stdout",
     "output_type": "stream",
     "text": [
      "ln: failed to create symbolic link 'temp-link/tmp': File exists\n",
      "'temp-link/tmp' -> '/tmp'\n"
     ]
    }
   ],
   "source": [
    "# ln-symbolic SHOULD GENERATE AN ERROR AS PREVIOUS LINK WITH SAME NAME EXISTS\n",
    "# ln: failed to create symbolic link 'temp-link': File exist\n",
    "ln-symbolic /tmp temp-link\n",
    "# ln-symbolic-force SHOULD BYPASS THE CONDITION\n",
    "# ln: failed to create symbolic link 'temp-link': File exist\n",
    "ln-symbolic-force /tmp temp-link"
   ]
  },
  {
   "cell_type": "code",
   "execution_count": 18,
   "id": "30835d26",
   "metadata": {},
   "outputs": [
    {
     "name": "stdout",
     "output_type": "stream",
     "text": [
      "'temp-link-safe' -> '/tmp/tmp'\n"
     ]
    }
   ],
   "source": [
    "## CREATES A SAFE SYMBOLIC LINK (link-symbolic-safe='ln-symbolic --no-target-directory --no-dereference')\n",
    "link-symbolic-safe /tmp/tmp temp-link-safe"
   ]
  },
  {
   "cell_type": "code",
   "execution_count": 19,
   "id": "e7abee9a",
   "metadata": {},
   "outputs": [
    {
     "name": "stdout",
     "output_type": "stream",
     "text": [
      "'temp-link-safe' -> '/tmp/tmp'\n"
     ]
    }
   ],
   "source": [
    "## SAFE SYMBOLIC LINK BUT FORCEFUL\n",
    "link-symbolic-safe --force /tmp/tmp temp-link-safe"
   ]
  },
  {
   "cell_type": "code",
   "execution_count": 20,
   "id": "3c388fb0",
   "metadata": {
    "scrolled": true
   },
   "outputs": [
    {
     "name": "stdout",
     "output_type": "stream",
     "text": [
      "total 0\n",
      "-rw-rw-r-- \n",
      "lrwxrwxrwx -> file1\n",
      "lrwxrwxrwx ink -> /tmp\n",
      "lrwxrwxrwx ink-safe -> /tmp/tmp\n"
     ]
    }
   ],
   "source": [
    "## REVIEWING ALL THE RESULTS IN THE DIRECTORY (RESULTS ARE FILTERED)| OLD: ls -l\n",
    "ls -l | cut --characters=12-46 --complement"
   ]
  },
  {
   "cell_type": "code",
   "execution_count": 21,
   "id": "8a363240",
   "metadata": {},
   "outputs": [
    {
     "name": "stdout",
     "output_type": "stream",
     "text": [
      "temp-link-safe\n",
      "link1\n",
      "temp-link\n"
     ]
    }
   ],
   "source": [
    "#TO VIEW ALL THE SUBLINKS IN THE TESTING DIRECTORY\n",
    "glob-links"
   ]
  },
  {
   "cell_type": "code",
   "execution_count": 22,
   "id": "0dd2e74d",
   "metadata": {},
   "outputs": [
    {
     "name": "stdout",
     "output_type": "stream",
     "text": [
      "/tmp/test-dir-aliases/test-7919\n",
      "test-7919-b\n",
      "test-7919-a\n"
     ]
    }
   ],
   "source": [
    "## TO VIEW SUBDIRECTORIES IN THE TESTING DIRECTORY\n",
    "pwd\n",
    "mkdir test-7919-a test-7919-b\n",
    "glob-subdirs"
   ]
  },
  {
   "cell_type": "code",
   "execution_count": null,
   "id": "25ef7ccd",
   "metadata": {},
   "outputs": [],
   "source": []
  },
  {
   "cell_type": "code",
   "execution_count": null,
   "id": "1f249a43",
   "metadata": {},
   "outputs": [],
   "source": []
  }
 ],
 "metadata": {
  "kernelspec": {
   "display_name": "Bash",
   "language": "bash",
   "name": "bash"
  },
  "language_info": {
   "codemirror_mode": "shell",
   "file_extension": ".sh",
   "mimetype": "text/x-sh",
   "name": "bash"
  }
 },
 "nbformat": 4,
 "nbformat_minor": 5
}
