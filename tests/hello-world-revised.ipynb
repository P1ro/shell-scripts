{
 "cells": [
  {
   "cell_type": "code",
   "execution_count": 1,
   "id": "a03c1f14",
   "metadata": {
    "scrolled": false
   },
   "outputs": [],
   "source": [
    "# Setup\n",
    "bind 'set enable-bracketed-paste off'"
   ]
  },
  {
   "cell_type": "code",
   "execution_count": 2,
   "id": "220201d8",
   "metadata": {},
   "outputs": [],
   "source": [
    "alias testuser=\"sed -r \"s/\"$USER\"+/user/g\"\""
   ]
  },
  {
   "cell_type": "code",
   "execution_count": 3,
   "id": "10e4aac0",
   "metadata": {},
   "outputs": [
    {
     "name": "stdout",
     "output_type": "stream",
     "text": [
      "Hi Mom!\n"
     ]
    }
   ],
   "source": [
    "echo \"Hi Mom!\""
   ]
  },
  {
   "cell_type": "code",
   "execution_count": 4,
   "id": "93dfcf88",
   "metadata": {},
   "outputs": [
    {
     "name": "stdout",
     "output_type": "stream",
     "text": [
      "1\n"
     ]
    }
   ],
   "source": [
    "echo 'Hello world' | wc -l"
   ]
  },
  {
   "cell_type": "code",
   "execution_count": 5,
   "id": "95585f5b",
   "metadata": {},
   "outputs": [
    {
     "name": "stdout",
     "output_type": "stream",
     "text": [
      "/home/aveey/tom-project/shell-scripts/tests\n"
     ]
    }
   ],
   "source": [
    "pwd"
   ]
  },
  {
   "cell_type": "code",
   "execution_count": 6,
   "id": "1c7c7b9a",
   "metadata": {},
   "outputs": [],
   "source": [
    "# THIS IS A COMMENT"
   ]
  },
  {
   "cell_type": "code",
   "execution_count": 7,
   "id": "7e5dcc7c",
   "metadata": {},
   "outputs": [
    {
     "name": "stdout",
     "output_type": "stream",
     "text": [
      "/usr/bin/systemd\n"
     ]
    }
   ],
   "source": [
    "which systemd"
   ]
  },
  {
   "cell_type": "code",
   "execution_count": 8,
   "id": "a3e68607",
   "metadata": {},
   "outputs": [
    {
     "name": "stdout",
     "output_type": "stream",
     "text": [
      "DATE(1)                          User Commands                         DATE(1)\n",
      "\n",
      "NAME\n",
      "       date - print or set the system date and time\n",
      "\n",
      "SYNOPSIS\n",
      "       date [OPTION]... [+FORMAT]\n",
      "       date [-u|--utc|--universal] [MMDDhhmm[[CC]YY][.ss]]\n",
      "\n",
      "DESCRIPTION\n"
     ]
    }
   ],
   "source": [
    "man date | head -n 10"
   ]
  },
  {
   "cell_type": "code",
   "execution_count": 9,
   "id": "ec969a63",
   "metadata": {},
   "outputs": [
    {
     "name": "stdout",
     "output_type": "stream",
     "text": [
      "F S    C PRI NI ADDR  WCHAN TTY  CMD\n",
      "0 S    1 80 0 -  do_wai pts/9  bash\n",
      "4 R    0 80 0 -  - pts/9  ps\n",
      "0 S    0 80 0 -  pipe_r pts/9  awk\n"
     ]
    }
   ],
   "source": [
    "# awk will be used to remove any factors that may cause an error\n",
    "ps -l | awk '!($3=$4=$5=$10=$13=\"\")'"
   ]
  },
  {
   "cell_type": "code",
   "execution_count": 10,
   "id": "95a43fbc",
   "metadata": {},
   "outputs": [
    {
     "name": "stdout",
     "output_type": "stream",
     "text": [
      " 11k user     alias-calculator-commands.ipynb\n",
      " 7.3k user     alias-cd-commands.ipynb\n",
      " 18k user     alias-grep-commands.ipynb\n",
      " 24k user     alias-trace-misc-commands.ipynb\n",
      " 5.4k user     calc-entropy-tests.ipynb\n",
      " 19k user     command-override-cp-mv.ipynb\n",
      " 10k user     dir-aliases-test-revised.ipynb\n",
      " 1.2k user     hello-world-basic.ipynb\n",
      " 5.0k user     hello-world-revised.ipynb\n",
      " 8.2k user     json-related-alias.ipynb\n",
      " 2.8k user     more-tomohara-aliases-test.ipynb\n",
      " 11k user     test-check-errors.ipynb\n",
      " 7.8k user     test-cond-env-setting.ipynb\n",
      " 9.8k user     test-dir-alias.ipynb\n",
      " 8.0k user     testbook-test-dir-aliases.ipynb\n",
      " 1.1k user     tomasohara-aliases-test.ipynb\n",
      " 6.7k user     trace-extensionless-shortcut-unicode.ipynb\n",
      " 29k user     trace-extensionless-shortcut-V2.ipynb\n",
      " 15k user     trace-file-manipulation.ipynb\n",
      " 7.5k user     trace-line-words-commands.ipynb\n",
      " 13k user     trace-linux-admin-alias.ipynb\n",
      " 38k user     trace-python-commands.ipynb\n",
      " 25k user     trace-setup-sorting-wrappers.ipynb\n",
      " 21k user     trace-unix-alias.ipynb\n",
      " 23k user     trace-unix-general.ipynb\n"
     ]
    }
   ],
   "source": [
    "ls -l | grep .ipynb | awk '!($1=$4=$5=$6=\"\")' | testuser"
   ]
  },
  {
   "cell_type": "code",
   "execution_count": null,
   "id": "7b087b52",
   "metadata": {},
   "outputs": [],
   "source": []
  }
 ],
 "metadata": {
  "kernelspec": {
   "display_name": "Bash",
   "language": "bash",
   "name": "bash"
  },
  "language_info": {
   "codemirror_mode": "shell",
   "file_extension": ".sh",
   "mimetype": "text/x-sh",
   "name": "bash"
  }
 },
 "nbformat": 4,
 "nbformat_minor": 5
}
