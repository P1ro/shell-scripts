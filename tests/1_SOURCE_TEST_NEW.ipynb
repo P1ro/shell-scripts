{
 "cells": [
  {
   "cell_type": "code",
   "execution_count": 1,
   "id": "0d3585e8",
   "metadata": {},
   "outputs": [],
   "source": [
    "function count-aliases { alias | wc -l; }\n",
    "function clear-aliases { unalias -a; }"
   ]
  },
  {
   "cell_type": "code",
   "execution_count": 2,
   "id": "d1224922",
   "metadata": {},
   "outputs": [
    {
     "name": "stdout",
     "output_type": "stream",
     "text": [
      "0\n"
     ]
    }
   ],
   "source": [
    "clear-aliases\n",
    "count-aliases"
   ]
  },
  {
   "cell_type": "code",
   "execution_count": 3,
   "id": "28fbc81f",
   "metadata": {},
   "outputs": [],
   "source": [
    "function count-aliases { alias | wc -l; }\n",
    "function list-functions { typeset -f | egrep '^[A-ZZa-z_-]'; }\n",
    "function count-functions { list-functions | wc -l; }"
   ]
  },
  {
   "cell_type": "code",
   "execution_count": 4,
   "id": "ec98d1a1",
   "metadata": {},
   "outputs": [],
   "source": [
    "# Get alias definitions\n",
    "# Note: assumes Jupyter run from ./tests directory\n",
    "## DEBUG: set -o xtrace\n",
    "BIN_DIR=$PWD/..\n",
    "source $BIN_DIR/tomohara-aliases.bash"
   ]
  },
  {
   "cell_type": "code",
   "execution_count": 5,
   "id": "4fea4a3e",
   "metadata": {},
   "outputs": [
    {
     "name": "stdout",
     "output_type": "stream",
     "text": [
      "use cls instead (or /bin/clear)\n"
     ]
    }
   ],
   "source": [
    "clear"
   ]
  },
  {
   "cell_type": "code",
   "execution_count": null,
   "id": "c20e6d75",
   "metadata": {},
   "outputs": [],
   "source": []
  }
 ],
 "metadata": {
  "kernelspec": {
   "display_name": "Bash",
   "language": "bash",
   "name": "bash"
  },
  "language_info": {
   "codemirror_mode": "shell",
   "file_extension": ".sh",
   "mimetype": "text/x-sh",
   "name": "bash"
  }
 },
 "nbformat": 4,
 "nbformat_minor": 5
}
