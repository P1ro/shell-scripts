{
 "cells": [
  {
   "cell_type": "code",
   "execution_count": 1,
   "id": "ee0d8a16",
   "metadata": {},
   "outputs": [],
   "source": [
    "## SETUP (OPTIONAL - USE IF REQUIRED)\n",
    "## Bracketed Paste is disabled to prevent characters after output\n",
    "## Example: \n",
    "## $ echo 'Hii'\n",
    "## | Hi?2004l\n",
    "# bind 'set enable-bracketed-paste off'"
   ]
  },
  {
   "cell_type": "code",
   "execution_count": 2,
   "id": "65d43538",
   "metadata": {},
   "outputs": [
    {
     "name": "stdout",
     "output_type": "stream",
     "text": [
      "PROMPT_DCODTUOCLTCI\\[\\]>\n"
     ]
    }
   ],
   "source": [
    "echo $PS1"
   ]
  },
  {
   "cell_type": "code",
   "execution_count": 3,
   "id": "d623c9a9",
   "metadata": {},
   "outputs": [],
   "source": [
    "## BAD\n",
    "# # Delete all aliases and function\n",
    "# # TODO: Instead start from pristine environment\n",
    "# unalias -a\n",
    "# alias | wc -l\n",
    "# for f in $(typeset -f | egrep '^\\w+'); do unset -f $f; done\n",
    "# typeset -f | egrep '^\\w+' | wc -l\n",
    "\n",
    "# Setting a temp directory for tests\n",
    "TMP=/tmp/test-extensionless\n",
    "BIN_DIR=$PWD/.."
   ]
  },
  {
   "cell_type": "code",
   "execution_count": 4,
   "id": "0ff8f157",
   "metadata": {},
   "outputs": [
    {
     "name": "stdout",
     "output_type": "stream",
     "text": [
      "446\n"
     ]
    }
   ],
   "source": [
    "alias | wc -l"
   ]
  },
  {
   "cell_type": "code",
   "execution_count": 5,
   "id": "f93dc93d",
   "metadata": {},
   "outputs": [],
   "source": [
    "alias testuser=\"sed -r \"s/\"$USER\"+/user/g\"\""
   ]
  },
  {
   "cell_type": "code",
   "execution_count": 6,
   "id": "ab954c7f",
   "metadata": {},
   "outputs": [],
   "source": [
    "temp_dir=$TMP/test-3570\n",
    "## OLD \n",
    "# mkdir -p \"$temp_dir\"\n",
    "# cd \"$temp_dir\"\n",
    "# pwd\n",
    "command mkdir -p \"$temp_dir\"\n",
    "command cd \"$temp_dir\"\n",
    "#ALIAS FOR PRINTING SEPERATION LINES (FOR JUPYTER)\n",
    "alias linebr=\"printf '%*s\\n' \"${COLUMNS:-$(tput cols)}\" '' | tr ' ' -\""
   ]
  },
  {
   "cell_type": "code",
   "execution_count": 7,
   "id": "ec6df159",
   "metadata": {},
   "outputs": [
    {
     "name": "stdout",
     "output_type": "stream",
     "text": [
      "448\n",
      "469\n"
     ]
    }
   ],
   "source": [
    "# Count aliases proper\n",
    "alias | wc -l\n",
    "# Count functions\n",
    "typeset -f | egrep '^\\w+' | wc -l"
   ]
  },
  {
   "cell_type": "code",
   "execution_count": 8,
   "id": "8d2d64e7",
   "metadata": {},
   "outputs": [],
   "source": [
    "alias testnum=\"sed -r \"s/[0-9]/N/g\"\" \n",
    "alias testuser=\"sed -r \"s/\"$USER\"+/userxf333/g\"\""
   ]
  },
  {
   "cell_type": "code",
   "execution_count": 9,
   "id": "faf99139",
   "metadata": {},
   "outputs": [],
   "source": [
    "## BAD\n",
    "# source $BIN_DIR/tomohara-aliases.bash"
   ]
  },
  {
   "cell_type": "code",
   "execution_count": 10,
   "id": "b2919e2f",
   "metadata": {},
   "outputs": [
    {
     "name": "stdout",
     "output_type": "stream",
     "text": [
      "24\n"
     ]
    }
   ],
   "source": [
    "# # 1.1) NO EXAMPLES RN FOR kill-em and kill-it\n",
    "# kill-em () | kill-em and kill-it returns same value\n",
    "kill-em --test firefox | wc -l"
   ]
  },
  {
   "cell_type": "code",
   "execution_count": 11,
   "id": "40460077",
   "metadata": {},
   "outputs": [
    {
     "name": "stdout",
     "output_type": "stream",
     "text": [
      "25\n"
     ]
    }
   ],
   "source": [
    "# kill-it ()\n",
    "kill-it --test firefox | wc -l"
   ]
  },
  {
   "cell_type": "code",
   "execution_count": 12,
   "id": "94ed70f0",
   "metadata": {},
   "outputs": [],
   "source": [
    "## 1.2) ERROR GENERATED - SCRIPT MISSING\n",
    "# $ convert-termstrings\n",
    "# | Can't open perl script \"convert_termstrings.perl\": No such file or directory"
   ]
  },
  {
   "cell_type": "code",
   "execution_count": 13,
   "id": "98b974b4",
   "metadata": {},
   "outputs": [
    {
     "name": "stdout",
     "output_type": "stream",
     "text": [
      "renamed 'tomove.txt' -> './newdir1/tomove.txt'\n",
      "\u001b[0m\u001b[01;34mnewdir1\u001b[0m  test.txt\n",
      "Backing up 'test.txt' to './backup/test.txt'\n",
      "--------------------------------------------------------------------------------\n",
      "\u001b[0m\u001b[01;34mbackup\u001b[0m  \u001b[01;34mnewdir1\u001b[0m  test.txt\n"
     ]
    }
   ],
   "source": [
    "rm -rf ./* > /dev/null\n",
    "printf \"TOP\\nTHIS IS A TEST\\nBOTTOM\" > test.txt\n",
    "printf \"THIS IS A FILE TO MOVE\" > tomove.txt\n",
    "mkdir newdir1\n",
    "\n",
    "move tomove.txt ./newdir1/\n",
    "ls\n",
    "\n",
    "dobackup test.txt\n",
    "linebr\n",
    "ls"
   ]
  },
  {
   "cell_type": "code",
   "execution_count": 14,
   "id": "1584698d",
   "metadata": {},
   "outputs": [
    {
     "name": "stdout",
     "output_type": "stream",
     "text": [
      "NNN\n"
     ]
    }
   ],
   "source": [
    "# Large List of process with full process paths\n",
    "# Number of process is random\n",
    "ps-mine-all | wc -l | testnum "
   ]
  },
  {
   "cell_type": "code",
   "execution_count": 15,
   "id": "c7070a99",
   "metadata": {},
   "outputs": [
    {
     "name": "stdout",
     "output_type": "stream",
     "text": [
      "\n",
      "usage: do_rcsdiff.sh [-v] [-c] [--brief] [-p file_pattern] [-f] file ...\n",
      "\n",
      "examples:\n",
      "\n",
      "do_rcsdiff.sh Makefile\n",
      "\n",
      "do_rcsdiff.sh \\* >| _rcs.diff 2>&1\n",
      "\n",
      "do_rcsdiff.sh *.[ch] >| _rcs.diff 2>&1\n",
      "\n",
      "NOTES:\n",
      "- Patterns are relative to the RCS subdirectory\n",
      "- The rcsdiff command lists the rcs file before the current one, as in:\n",
      "      diff RCS-file file\n",
      "\n"
     ]
    }
   ],
   "source": [
    "# HELP REQUIRED FOR RCS FILES (TBC)\n",
    "do-rcsdiff"
   ]
  },
  {
   "cell_type": "code",
   "execution_count": 16,
   "id": "22a23226",
   "metadata": {},
   "outputs": [
    {
     "name": "stdout",
     "output_type": "stream",
     "text": [
      "'./versionR.txt' -> './versionR-1.txt'\n",
      " \u001b[0m\u001b[01;34mbackup\u001b[0m            test.txt       'version none.txt'  'version?.txt'\n",
      " grep_manual.txt   versionA.txta   versionR-1.txt      versionV.txt\n",
      " \u001b[01;34mnewdir1\u001b[0m           versionI.txt    versionR.txt\n"
     ]
    }
   ],
   "source": [
    "uname -r > versionR.txt\n",
    "uname -a > versionA.txta\n",
    "uname -v > versionV.txt\n",
    "uname -i > versionI.txt\n",
    "uname > \"version none.txt\"\n",
    "uname -ra > \"version?.txt\"\n",
    "\n",
    "man grep > grep_manual.txt\n",
    "\n",
    "cp ./versionR.txt ./versionR-1.txt\n",
    "ls"
   ]
  },
  {
   "cell_type": "code",
   "execution_count": 17,
   "id": "d6117d46",
   "metadata": {},
   "outputs": [
    {
     "name": "stdout",
     "output_type": "stream",
     "text": [
      "renaming \"test.txt\" to \"harry.txt\"\n"
     ]
    }
   ],
   "source": [
    "rename-files -q test.txt harry.txt"
   ]
  },
  {
   "cell_type": "code",
   "execution_count": 18,
   "id": "95161560",
   "metadata": {},
   "outputs": [],
   "source": [
    "# # NEED HELP (TBC)\n",
    "\n",
    "# $ testwn\n",
    "# | Undefined subroutine &main::NO_OP called at /home/xaea12/bin/common.perl line 2172.\n"
   ]
  },
  {
   "cell_type": "code",
   "execution_count": 19,
   "id": "8298cf91",
   "metadata": {},
   "outputs": [
    {
     "name": "stdout",
     "output_type": "stream",
     "text": [
      "       grep, egrep, fgrep, rgrep - print lines that match patterns\n",
      "       patterns separated by newline characters, and  grep  prints  each  line\n",
      "              Suppress  normal output; instead print a count of matching lines\n",
      "              Suppress normal output; instead print the  name  of  each  input\n",
      "              file from which no output would normally have been printed.\n",
      "              Suppress  normal  output;  instead  print the name of each input\n",
      "              file  from  which  output  would  normally  have  been  printed.\n",
      "              line of output.  If -o (--only-matching) is specified, print the\n",
      "              be printed in a minimum size field width.\n",
      "              -print0,  perl  -0,  sort  -z, and xargs -0 to process arbitrary\n",
      "              When  -A,  -B, or -C are in use, print SEP instead of -- between\n",
      "              When -A, -B, or -C are in use, do not print a separator  between\n",
      "       [:graph:], [:lower:], [:print:], [:punct:], [:space:],  [:upper:],  and\n"
     ]
    }
   ],
   "source": [
    "perlgrep \"print\" ./grep_manual.txt"
   ]
  },
  {
   "cell_type": "code",
   "execution_count": 20,
   "id": "3ca47040",
   "metadata": {},
   "outputs": [
    {
     "name": "stdout",
     "output_type": "stream",
     "text": [
      "grep_manual.txt\n",
      "harry.txt\n",
      "versionI.txt\n",
      "version none.txt\n",
      "versionR-1.txt\n",
      "versionR.txt\n",
      "version?.txt versionI.txt versionR.txt versionV.txt\n",
      "versionV.txt\n"
     ]
    }
   ],
   "source": [
    "# Need Help with example\n",
    "foreach \"echo $f\" *.txt"
   ]
  },
  {
   "cell_type": "code",
   "execution_count": 21,
   "id": "5877539b",
   "metadata": {},
   "outputs": [
    {
     "name": "stdout",
     "output_type": "stream",
     "text": [
      "renaming \"version none.txt\" to \"version_none.txt\"\n"
     ]
    }
   ],
   "source": [
    "rename-spaces"
   ]
  },
  {
   "cell_type": "code",
   "execution_count": 22,
   "id": "b4a3202e",
   "metadata": {},
   "outputs": [
    {
     "name": "stdout",
     "output_type": "stream",
     "text": [
      "renaming \"version?.txt\" to \"version_.txt\"\n"
     ]
    }
   ],
   "source": [
    "rename-special-punct"
   ]
  },
  {
   "cell_type": "code",
   "execution_count": 23,
   "id": "104d555f",
   "metadata": {},
   "outputs": [],
   "source": [
    "ps -l >> \"process(L).md\"\n",
    "ps -u >> \"process(U).md\"\n",
    "ps -x >> \"process(X).md\"\n",
    "ps -al >> \"process'all'.md\"\n",
    "ps -aux >> 'psaux(1).txt'\n",
    "ps -aux >> 'psaux(2).txt'\n",
    "ps -aux >> 'psaux(3).txt'"
   ]
  },
  {
   "cell_type": "code",
   "execution_count": 24,
   "id": "66ff2781",
   "metadata": {},
   "outputs": [
    {
     "name": "stdout",
     "output_type": "stream",
     "text": [
      "renamed 'psaux(1).txt' -> 'duplicates/psaux(1).txt'\n",
      "renamed 'psaux(2).txt' -> 'duplicates/psaux(2).txt'\n",
      "renamed 'psaux(3).txt' -> 'duplicates/psaux(3).txt'\n"
     ]
    }
   ],
   "source": [
    "move-duplicates"
   ]
  },
  {
   "cell_type": "code",
   "execution_count": 25,
   "id": "33d36d20",
   "metadata": {},
   "outputs": [
    {
     "name": "stdout",
     "output_type": "stream",
     "text": [
      "renaming \"process(L).md\" to \"processL.md\"\n",
      "renaming \"process(U).md\" to \"processU.md\"\n",
      "renaming \"process(X).md\" to \"processX.md\"\n"
     ]
    }
   ],
   "source": [
    "rename-parens -v"
   ]
  },
  {
   "cell_type": "code",
   "execution_count": 26,
   "id": "8e6b254c",
   "metadata": {},
   "outputs": [
    {
     "name": "stdout",
     "output_type": "stream",
     "text": [
      "WARNING: Ignoring -quick mode as files specified\n"
     ]
    }
   ],
   "source": [
    "# Need Help \n",
    "rename-quotes -v"
   ]
  },
  {
   "cell_type": "code",
   "execution_count": 27,
   "id": "3a5731b8",
   "metadata": {},
   "outputs": [
    {
     "name": "stdout",
     "output_type": "stream",
     "text": [
      " \u001b[0m\u001b[01;34mbackup\u001b[0m            \u001b[01;34mnewdir1\u001b[0m            processX.md        versionR-1.txt\n",
      " \u001b[01;34mduplicates\u001b[0m       \"process'all'.md\"   versionA.txta      versionR.txt\n",
      " grep_manual.txt   processL.md        versionI.txt       version_.txt\n",
      " harry.txt         processU.md        version_none.txt   versionV.txt\n"
     ]
    }
   ],
   "source": [
    "ls"
   ]
  },
  {
   "cell_type": "code",
   "execution_count": 28,
   "id": "672d1bd6",
   "metadata": {},
   "outputs": [],
   "source": [
    "man sudo > sudo_manual.out\n",
    "man ansifilter > fakelog.log\n",
    "ps -aux > process_all.html"
   ]
  },
  {
   "cell_type": "code",
   "execution_count": 29,
   "id": "2b2b495d",
   "metadata": {},
   "outputs": [],
   "source": [
    "# # HELP REQUIRED - TBF\n",
    "# $ move-log-files\n",
    "# | /bin/mv: missing destination file operand after 'log-files'\n",
    "# | Try '/bin/mv --help' for more information."
   ]
  },
  {
   "cell_type": "code",
   "execution_count": 30,
   "id": "527d72eb",
   "metadata": {},
   "outputs": [],
   "source": [
    "# # HELP REQUIRED - TBF\n",
    "# $ move-output-files\n",
    "# | mv: cannot stat '$eval_middle': No such file or directory"
   ]
  },
  {
   "cell_type": "code",
   "execution_count": 31,
   "id": "937d9242",
   "metadata": {},
   "outputs": [
    {
     "name": "stdout",
     "output_type": "stream",
     "text": [
      "cp: cannot stat 'processall.md': No such file or directory\n",
      "3\n"
     ]
    }
   ],
   "source": [
    "copy-with-file-date *.md | wc -l"
   ]
  },
  {
   "cell_type": "code",
   "execution_count": 32,
   "id": "d9ba3659",
   "metadata": {},
   "outputs": [],
   "source": [
    "man cat > man_cat.txt"
   ]
  },
  {
   "cell_type": "code",
   "execution_count": 33,
   "id": "c7e4c426",
   "metadata": {},
   "outputs": [
    {
     "name": "stdout",
     "output_type": "stream",
     "text": [
      "to\tN\n",
      "and\tN\n",
      "output\tN\n",
      "standard\tN\n",
      "cat\tN\n",
      "gnu\tN\n",
      "or\tN\n",
      "is\tN\n",
      "equivalent\tN\n",
      "free\tN\n",
      "display\tN\n",
      "tab\tN\n",
      "output.\tN\n",
      "version\tN\n",
      "concatenate\tN\n",
      "exit\tN\n",
      "this\tN\n",
      "bugs\tN\n",
      "coreutils\tN\n",
      "no\tN\n",
      "cat(N)\tN\n",
      "by\tN\n",
      "then\tN\n",
      "lines\tN\n",
      "copyright\tN\n",
      "the\tN\n",
      "number\tN\n",
      "-\tN\n",
      "help\tN\n",
      "file(s)\tN\n",
      "foundation,\tN\n",
      "for\tN\n",
      "also\tN\n",
      "input.\tN\n",
      "user\tN\n",
      "--number-nonblank\tN\n",
      "print\tN\n",
      "torbjorn\tN\n",
      "<https://www.gnu.org/software/coreutils/>\tN\n",
      "<https://www.gnu.org/software/coreutils/cat>\tN\n",
      "^\tN\n",
      "law.\tN\n",
      "inc.\tN\n",
      "file,\tN\n",
      "-a,\tN\n",
      "<https://gnu.org/licenses/gpl.html>.\tN\n",
      "--version\tN\n",
      "-u\tN\n",
      "NNNN\tN\n",
      "(ignored)\tN\n",
      "-t\tN\n",
      "written\tN\n",
      "permitted\tN\n",
      "-b,\tN\n",
      "<https://translationproject.org/team/>\tN\n",
      "--number\tN\n",
      "-e\tN\n",
      "you\tN\n",
      "repeated\tN\n",
      "files\tN\n",
      "suppress\tN\n",
      "©\tN\n",
      "--show-tabs\tN\n",
      "N\tN\n",
      "each\tN\n",
      "use\tN\n",
      "input\tN\n",
      "info\tN\n",
      "read\tN\n",
      "f\tN\n",
      "lines,\tN\n",
      "N.NN\tN\n",
      "reporting\tN\n",
      "help:\tN\n",
      "--squeeze-blank\tN\n",
      "f's\tN\n",
      "description\tN\n",
      "locally\tN\n",
      "on\tN\n",
      "examples\tN\n",
      "-n\tN\n",
      "information\tN\n",
      "NNNN\tN\n",
      "file\tN\n",
      "change\tN\n",
      "invocation'\tN\n",
      "author\tN\n",
      "nonempty\tN\n",
      "lfd\tN\n",
      "via:\tN\n",
      "license\tN\n",
      "of\tN\n",
      "copy\tN\n",
      "-v,\tN\n",
      "it.\tN\n",
      "software:\tN\n",
      "g's\tN\n",
      "m-\tN\n",
      "notation,\tN\n",
      "software\tN\n",
      "gpl\tN\n",
      "g\tN\n",
      "m.\tN\n",
      "commands\tN\n",
      "-n,\tN\n",
      "characters\tN\n",
      "synopsis\tN\n",
      "-s,\tN\n",
      "available\tN\n",
      "later\tN\n",
      "granlund\tN\n",
      "--show-ends\tN\n",
      "^i\tN\n",
      "when\tN\n",
      "end\tN\n",
      "all\tN\n",
      "overrides\tN\n",
      "-vet\tN\n",
      "report\tN\n",
      "gplvN+:\tN\n",
      "february\tN\n",
      "as\tN\n",
      "--help\tN\n",
      "with\tN\n",
      "input,\tN\n",
      "name\tN\n",
      "empty\tN\n",
      "any\tN\n",
      "see\tN\n",
      "line\tN\n",
      "at\tN\n",
      "n/a\tN\n",
      "except\tN\n",
      "online\tN\n",
      "[file]...\tN\n",
      "tac(N)\tN\n",
      "translation\tN\n",
      "--show-all\tN\n",
      "[option]...\tN\n",
      "extent\tN\n",
      "$\tN\n",
      "stallman.\tN\n",
      "full\tN\n",
      "are\tN\n",
      "there\tN\n",
      "contents,\tN\n",
      "warranty,\tN\n",
      "-ve\tN\n",
      "-t,\tN\n",
      "-e,\tN\n",
      "-vt\tN\n",
      "redistribute\tN\n",
      "richard\tN\n",
      "documentation\tN\n",
      "'(coreutils)\tN\n",
      "-,\tN\n",
      "--show-nonprinting\tN\n",
      "contents.\tN\n"
     ]
    }
   ],
   "source": [
    "unigrams ./man_cat.txt | testuser | testnum"
   ]
  },
  {
   "cell_type": "code",
   "execution_count": 34,
   "id": "1d96c16e",
   "metadata": {
    "scrolled": true
   },
   "outputs": [
    {
     "name": "stdout",
     "output_type": "stream",
     "text": [
      "to\tN\n",
      "and\tN\n",
      "standard\tN\n",
      "output\tN\n",
      "cat\tN\n",
      "is\tN\n",
      "gnu\tN\n",
      "free\tN\n",
      "equivalent\tN\n",
      "display\tN\n",
      "or\tN\n",
      "then\tN\n",
      "no\tN\n",
      "number\tN\n",
      "concatenate\tN\n",
      "output.\tN\n",
      "lines\tN\n",
      "coreutils\tN\n",
      "copyright\tN\n",
      "exit\tN\n",
      "cat(N)\tN\n",
      "tab\tN\n",
      "this\tN\n",
      "-\tN\n",
      "bugs\tN\n",
      "version\tN\n",
      "the\tN\n",
      "by\tN\n",
      "NNNN\tN\n",
      "when\tN\n",
      "input,\tN\n",
      "suppress\tN\n",
      "at\tN\n",
      "locally\tN\n",
      "characters\tN\n",
      "<https://www.gnu.org/software/coreutils/>\tN\n",
      "(ignored)\tN\n",
      "copy\tN\n",
      "-v,\tN\n",
      "warranty,\tN\n",
      "N.NN\tN\n",
      "law.\tN\n",
      "-t\tN\n",
      "-vt\tN\n",
      "--help\tN\n",
      "gplvN+:\tN\n",
      "of\tN\n",
      "available\tN\n",
      "f\tN\n",
      "as\tN\n",
      "also\tN\n",
      "except\tN\n",
      "N\tN\n",
      "foundation,\tN\n",
      "<https://gnu.org/licenses/gpl.html>.\tN\n",
      "files\tN\n",
      "^\tN\n",
      "redistribute\tN\n",
      "©\tN\n",
      "commands\tN\n",
      "for\tN\n",
      "software\tN\n",
      "-n,\tN\n",
      "m.\tN\n",
      "synopsis\tN\n",
      "--show-nonprinting\tN\n",
      "torbjorn\tN\n",
      "m-\tN\n",
      "-vet\tN\n",
      "each\tN\n",
      "overrides\tN\n",
      "lfd\tN\n",
      "f's\tN\n",
      "user\tN\n",
      "info\tN\n",
      "-e\tN\n",
      "it.\tN\n",
      "author\tN\n",
      "information\tN\n",
      "change\tN\n",
      "-a,\tN\n",
      "description\tN\n",
      "contents.\tN\n",
      "'(coreutils)\tN\n",
      "end\tN\n",
      "richard\tN\n",
      "stallman.\tN\n",
      "help\tN\n",
      "print\tN\n",
      "invocation'\tN\n",
      "input.\tN\n",
      "contents,\tN\n",
      "software:\tN\n",
      "<https://www.gnu.org/software/coreutils/cat>\tN\n",
      "name\tN\n",
      "-t,\tN\n",
      "file\tN\n",
      "notation,\tN\n",
      "lines,\tN\n",
      "--version\tN\n",
      "permitted\tN\n",
      "extent\tN\n",
      "granlund\tN\n",
      "see\tN\n",
      "--number-nonblank\tN\n",
      "use\tN\n",
      "are\tN\n",
      "read\tN\n",
      "license\tN\n",
      "line\tN\n",
      "g\tN\n",
      "all\tN\n",
      "$\tN\n",
      "full\tN\n",
      "-s,\tN\n",
      "nonempty\tN\n",
      "-u\tN\n",
      "^i\tN\n",
      "--show-all\tN\n",
      "-,\tN\n",
      "with\tN\n",
      "translation\tN\n",
      "-e,\tN\n",
      "online\tN\n",
      "g's\tN\n",
      "on\tN\n",
      "february\tN\n",
      "file,\tN\n",
      "gpl\tN\n",
      "input\tN\n",
      "-ve\tN\n",
      "documentation\tN\n",
      "[option]...\tN\n",
      "examples\tN\n",
      "[file]...\tN\n",
      "empty\tN\n",
      "written\tN\n",
      "-b,\tN\n",
      "NNNN\tN\n",
      "inc.\tN\n",
      "--squeeze-blank\tN\n",
      "there\tN\n",
      "any\tN\n",
      "report\tN\n",
      "reporting\tN\n",
      "n/a\tN\n",
      "help:\tN\n",
      "--show-ends\tN\n",
      "tac(N)\tN\n",
      "repeated\tN\n",
      "file(s)\tN\n",
      "via:\tN\n",
      "--number\tN\n",
      "later\tN\n",
      "<https://translationproject.org/team/>\tN\n",
      "you\tN\n",
      "-n\tN\n",
      "--show-tabs\tN\n"
     ]
    }
   ],
   "source": [
    "word-count ./man_cat.txt | testuser | testnum"
   ]
  },
  {
   "cell_type": "code",
   "execution_count": 35,
   "id": "71adad1d",
   "metadata": {},
   "outputs": [
    {
     "name": "stdout",
     "output_type": "stream",
     "text": [
      "equivalent:to\tN\n",
      "gnu:coreutils\tN\n",
      "output:lines\tN\n",
      "to:standard\tN\n",
      "and:exit\tN\n",
      "standard:output.\tN\n",
      "^:and\tN\n",
      "-n,:--number\tN\n",
      "'(coreutils):cat\tN\n",
      "redistribute:it.\tN\n",
      "-:g\tN\n",
      "--show-all:equivalent\tN\n",
      "-e,:--show-ends\tN\n",
      "inc.:license\tN\n",
      "display:tab\tN\n",
      "g:output\tN\n",
      "line:-n,\tN\n",
      "bugs:to\tN\n",
      "no:warranty,\tN\n",
      "concatenate:files\tN\n",
      "-s,:--squeeze-blank\tN\n",
      "output:f's\tN\n",
      "when:file\tN\n",
      "-vet:-b,\tN\n",
      "translation:bugs\tN\n",
      "examples:cat\tN\n",
      "(ignored):-v,\tN\n",
      "is:-,\tN\n",
      "standard:output\tN\n",
      "--version:output\tN\n",
      "-u:(ignored)\tN\n",
      "warranty,:to\tN\n",
      "any:translation\tN\n",
      "online:help:\tN\n",
      "n/a:n/a\tN\n",
      "use:^\tN\n",
      "available:locally\tN\n",
      "output:synopsis\tN\n",
      "see:also\tN\n",
      "--number:number\tN\n",
      "of:each\tN\n",
      "also:tac(N)\tN\n",
      "©:NNNN\tN\n",
      "overrides:-n\tN\n",
      "granlund:and\tN\n",
      "tac(N):full\tN\n",
      "stallman.:reporting\tN\n",
      "then:standard\tN\n",
      "g's:contents.\tN\n",
      "as:^i\tN\n",
      "-e:equivalent\tN\n",
      "-t,:--show-tabs\tN\n",
      "suppress:repeated\tN\n",
      "tab:characters\tN\n",
      "help::<https://www.gnu.org/software/coreutils/>\tN\n",
      "-vt:-t,\tN\n",
      "-:concatenate\tN\n",
      "cat:-\tN\n",
      "-v,:--show-nonprinting\tN\n",
      "is:no\tN\n",
      "then:g's\tN\n",
      "and:richard\tN\n",
      "this:help\tN\n",
      "except:for\tN\n",
      "display:this\tN\n",
      "and:m-\tN\n",
      "n/a:cat(N)\tN\n",
      "no:file,\tN\n",
      "version:information\tN\n",
      "contents,:then\tN\n",
      "cat(N):name\tN\n",
      "you:are\tN\n",
      "input.:-a,\tN\n",
      "documentation:<https://www.gnu.org/software/coreutils/cat>\tN\n",
      "output.:author\tN\n",
      "-b,:--number-nonblank\tN\n",
      "written:by\tN\n",
      "N:or\tN\n",
      "or:when\tN\n",
      "characters:as\tN\n",
      "law.:see\tN\n",
      "software::you\tN\n",
      "invocation':gnu\tN\n",
      "concatenate:file(s)\tN\n",
      "locally:via:\tN\n",
      "--number-nonblank:number\tN\n",
      "synopsis:cat\tN\n",
      "tab:--help\tN\n",
      "author:written\tN\n",
      "lfd:and\tN\n",
      "standard:input\tN\n",
      "lines,:overrides\tN\n",
      "there:is\tN\n",
      "the:extent\tN\n",
      "description:concatenate\tN\n",
      "richard:m.\tN\n",
      "february:NNNN\tN\n",
      "m.:stallman.\tN\n",
      "for:lfd\tN\n",
      "by:law.\tN\n",
      "user:commands\tN\n",
      "exit:--version\tN\n",
      "--squeeze-blank:suppress\tN\n",
      "file:is\tN\n",
      "coreutils:N.NN\tN\n",
      "cat:[option]...\tN\n",
      "reporting:bugs\tN\n",
      "standard:input.\tN\n",
      "<https://gnu.org/licenses/gpl.html>.:this\tN\n",
      "$:at\tN\n",
      "empty:output\tN\n",
      "files:and\tN\n",
      "<https://www.gnu.org/software/coreutils/>:report\tN\n",
      "output:lines,\tN\n",
      "full:documentation\tN\n",
      "m-:notation,\tN\n",
      "end:of\tN\n",
      "the:standard\tN\n",
      "-a,:--show-all\tN\n",
      "information:and\tN\n",
      "extent:permitted\tN\n",
      "copy:standard\tN\n",
      "output:version\tN\n",
      "^i:-u\tN\n",
      "f:-\tN\n",
      "report:any\tN\n",
      "to:-vt\tN\n",
      "output.:with\tN\n",
      "help:and\tN\n",
      "this:is\tN\n",
      "gpl:version\tN\n",
      "foundation,:inc.\tN\n",
      "permitted:by\tN\n",
      "free:software:\tN\n",
      "NNNN:free\tN\n",
      "change:and\tN\n",
      "name:cat\tN\n",
      "gnu:gpl\tN\n",
      "at:end\tN\n",
      "contents.:cat\tN\n",
      "input,:then\tN\n",
      "[file]...:description\tN\n",
      "N.NN:february\tN\n",
      "on:the\tN\n",
      "copyright:©\tN\n",
      "cat:f\tN\n",
      "f's:contents,\tN\n",
      "-t:equivalent\tN\n",
      "and:redistribute\tN\n",
      "version:N\tN\n",
      "-ve:-e,\tN\n",
      "gplvN+::gnu\tN\n",
      "--show-tabs:display\tN\n",
      "coreutils:online\tN\n",
      "commands:cat(N)\tN\n",
      "cat(N):user\tN\n",
      "bugs:gnu\tN\n",
      "<https://www.gnu.org/software/coreutils/cat>:or\tN\n",
      "file(s):to\tN\n",
      "cat:invocation'\tN\n",
      "via::info\tN\n",
      "and:tab\tN\n",
      "to:-ve\tN\n",
      "read:standard\tN\n",
      "-,:read\tN\n",
      "to:<https://translationproject.org/team/>\tN\n",
      "each:line\tN\n",
      "repeated:empty\tN\n",
      "info:'(coreutils)\tN\n",
      "nonempty:output\tN\n",
      "and:print\tN\n",
      "torbjorn:granlund\tN\n",
      "free:to\tN\n",
      "lines:-t\tN\n",
      "to:-vet\tN\n",
      "number:nonempty\tN\n",
      "--show-ends:display\tN\n",
      "it.:there\tN\n",
      "notation,:except\tN\n",
      "or:later\tN\n",
      "cat:copy\tN\n",
      "with:no\tN\n",
      "display:$\tN\n",
      "exit:examples\tN\n",
      "lines:-s,\tN\n",
      "all:output\tN\n",
      "standard:input,\tN\n",
      "<https://translationproject.org/team/>:copyright\tN\n",
      "software:foundation,\tN\n",
      "to:change\tN\n",
      "file,:or\tN\n",
      "or:available\tN\n",
      "to:the\tN\n",
      "[option]...:[file]...\tN\n",
      "input:to\tN\n",
      "--show-nonprinting:use\tN\n",
      "--help:display\tN\n",
      "-n:-e\tN\n",
      "license:gplvN+:\tN\n",
      "free:software\tN\n",
      "by:torbjorn\tN\n",
      "number:all\tN\n",
      "is:free\tN\n",
      "copyright:copyright\tN\n",
      "are:free\tN\n",
      "print:on\tN\n",
      "later:<https://gnu.org/licenses/gpl.html>.\tN\n"
     ]
    }
   ],
   "source": [
    "bigrams ./man_cat.txt | testuser | testnum"
   ]
  },
  {
   "cell_type": "code",
   "execution_count": 36,
   "id": "d57951d5",
   "metadata": {},
   "outputs": [],
   "source": [
    "# # WORKS FINE - HALTS PROCESS\n",
    "# $ lynx-html"
   ]
  },
  {
   "cell_type": "code",
   "execution_count": 37,
   "id": "86419b9f",
   "metadata": {},
   "outputs": [
    {
     "name": "stdout",
     "output_type": "stream",
     "text": [
      "     [ [1]About Lynx-Dev | [2]Lynx-Dev Archives ]\n",
      "\n",
      "About Lynx\n",
      "\n",
      "   Lynx is a fully-featured World Wide Web (WWW) browser for users on Unix, VMS, and other platforms running cursor-addressable, character-cell terminals or emulators. That includes vt100 terminals, other character-cell displays, and vt100 emulators such as Kermit or Procomm running on PCs or Macs.\n",
      "\n",
      "   For information on how to use Lynx see the [3]Lynx User's Guide, or the [4]Lynx help files.\n",
      "\n",
      "Credits and Copyright\n",
      "\n"
     ]
    }
   ],
   "source": [
    "lynx-dump-stdout | head"
   ]
  },
  {
   "cell_type": "code",
   "execution_count": 38,
   "id": "d9ed2744",
   "metadata": {},
   "outputs": [],
   "source": [
    "# (Need Help)\n",
    "# $ lynx-dump\n",
    "# | bash: .txt: cannot overwrite existing file"
   ]
  },
  {
   "cell_type": "code",
   "execution_count": 39,
   "id": "f45efa52",
   "metadata": {},
   "outputs": [
    {
     "name": "stdout",
     "output_type": "stream",
     "text": [
      "xaea12-temp\n"
     ]
    }
   ],
   "source": [
    "setenv MY_USERNAME xaea12-temp\n",
    "echo $MY_USERNAME"
   ]
  },
  {
   "cell_type": "code",
   "execution_count": 40,
   "id": "addf3591",
   "metadata": {},
   "outputs": [
    {
     "name": "stdout",
     "output_type": "stream",
     "text": [
      "\n"
     ]
    }
   ],
   "source": [
    "unexport MY_USERNAME\n",
    "echo $MY_USERNAME"
   ]
  },
  {
   "cell_type": "code",
   "execution_count": 41,
   "id": "49d6d56d",
   "metadata": {},
   "outputs": [
    {
     "name": "stdout",
     "output_type": "stream",
     "text": [
      "END\n"
     ]
    }
   ],
   "source": [
    "echo \"END\""
   ]
  }
 ],
 "metadata": {
  "kernelspec": {
   "display_name": "Bash",
   "language": "bash",
   "name": "bash"
  },
  "language_info": {
   "codemirror_mode": "shell",
   "file_extension": ".sh",
   "mimetype": "text/x-sh",
   "name": "bash"
  }
 },
 "nbformat": 4,
 "nbformat_minor": 5
}
