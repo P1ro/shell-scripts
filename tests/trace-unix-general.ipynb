{
 "cells": [
  {
   "cell_type": "code",
   "execution_count": 1,
   "id": "6dcea75d",
   "metadata": {},
   "outputs": [
    {
     "name": "stdout",
     "output_type": "stream",
     "text": [
      "\u001b[?2004h\u001b[?2004l\u001b[?2004l\u001b[?2004l\u001b[?2004l\u001b[?2004l\u001b[?2004l\u001b[?2004l\r"
     ]
    }
   ],
   "source": [
    "## TESTS START FROM LINE 2066 (tomohara-aliases.bash)\n",
    "\n",
    "## Bracketed Paste is disabled to prevent characters after output\n",
    "## Example: \n",
    "# $ echo 'Hi'\n",
    "# | Hi?2004l\n",
    "\n",
    "bind 'set enable-bracketed-paste off'"
   ]
  },
  {
   "cell_type": "code",
   "execution_count": 2,
   "id": "65d43538",
   "metadata": {},
   "outputs": [
    {
     "name": "stdout",
     "output_type": "stream",
     "text": [
      "[PEXP\\[\\]ECT_PROMPT>\n"
     ]
    }
   ],
   "source": [
    "## TEST:  Make sure simple prompt used (e.g., no escapes that might contaminate output)\n",
    "## PS1=\"$ \"\n",
    "## TODO: PS1=\"> \"\n",
    "\n",
    "## NOTE: The Jupyter bash kernel requires that PS1 not be modified as they customize it. \n",
    "echo $PS1"
   ]
  },
  {
   "cell_type": "code",
   "execution_count": 3,
   "id": "d623c9a9",
   "metadata": {},
   "outputs": [
    {
     "name": "stdout",
     "output_type": "stream",
     "text": [
      "0\n",
      "0\n"
     ]
    }
   ],
   "source": [
    "# Delete all aliases and function\n",
    "# TODO: Instead start from pristine environment\n",
    "unalias -a\n",
    "alias | wc -l\n",
    "for f in $(typeset -f | egrep '^\\w+'); do unset -f $f; done\n",
    "typeset -f | egrep '^\\w+' | wc -l"
   ]
  },
  {
   "cell_type": "code",
   "execution_count": 4,
   "id": "0ff8f157",
   "metadata": {},
   "outputs": [
    {
     "name": "stdout",
     "output_type": "stream",
     "text": [
      "0\n"
     ]
    }
   ],
   "source": [
    "# Setting a temp directory for tests\n",
    "TMP=/tmp/test-unix\n",
    "\n",
    "## NOTE: Source it directly from the ./tests directory.\n",
    "BIN_DIR=$PWD/..\n",
    "\n",
    "alias | wc -l"
   ]
  },
  {
   "cell_type": "code",
   "execution_count": 5,
   "id": "ab954c7f",
   "metadata": {},
   "outputs": [
    {
     "name": "stdout",
     "output_type": "stream",
     "text": [
      "/tmp/test-unix/test-3245\n"
     ]
    }
   ],
   "source": [
    "## NOTE: For reproducability, the directory name needs to be fixed\n",
    "## In place of $$, use a psuedo random number (e,g., 3245)\n",
    "## *** All output from one run to the next needs to be the same ***\n",
    "\n",
    "## temp_dir=$TMP/test-$$\n",
    "temp_dir=$TMP/test-3245\n",
    "\n",
    "mkdir -p \"$temp_dir\"\n",
    "# TODO: /bin/rm -rvf \"$temp_dir\"\n",
    "cd \"$temp_dir\"\n",
    "pwd\n",
    "\n",
    "#ALIAS FOR PRINTING SEPERATION LINES (FOR JUPYTER)\n",
    "alias linebr=\"printf '%*s\\n' \"${COLUMNS:-$(tput cols)}\" '' | tr ' ' -\""
   ]
  },
  {
   "cell_type": "code",
   "execution_count": 6,
   "id": "ec6df159",
   "metadata": {},
   "outputs": [
    {
     "name": "stdout",
     "output_type": "stream",
     "text": [
      "1\n",
      "0\n"
     ]
    }
   ],
   "source": [
    "# Count aliases proper\n",
    "alias | wc -l\n",
    "# Count functions\n",
    "typeset -f | egrep '^\\w+' | wc -l"
   ]
  },
  {
   "cell_type": "code",
   "execution_count": 7,
   "id": "d312db03",
   "metadata": {},
   "outputs": [],
   "source": [
    "# ps-all(pattern): show processes from all users matching PATTERN (or . in which case piped to less)\n",
    "# TODO: have option to restrict to current user\n",
    "function ps-all () { \n",
    "    local pattern=\"$1\";\n",
    "    local pager=cat;\n",
    "    if [ \"$pattern\" = \"\" ]; then \n",
    "        pattern=\".\"; \n",
    "        pager=$PAGER\n",
    "    fi;\n",
    "    ps_mine.sh --all | $EGREP -i \"((^USER)|($pattern))\" | $pager;\n",
    "    }\n",
    "\n",
    "alias ps-script='ps-all \"\\\\bscript\\\\b\" | $GREP -v \"(gnome-session)\"'\n",
    "function ps-sort-once { ps_sort.perl -num_times=1 -by=time \"$@\" -; }\n",
    "alias ps-sort-time='ps-sort-once -by=time'\n",
    "alias ps-time=ps-sort-time\n",
    "alias ps-sort-mem='ps-sort-once -by=mem '\n",
    "alias ps-mem=ps-sort-mem\n"
   ]
  },
  {
   "cell_type": "code",
   "execution_count": 8,
   "id": "8599b61b",
   "metadata": {},
   "outputs": [],
   "source": [
    "alias ps-script='ps-all \"\\\\bscript\\\\b\" | $GREP -v \"(gnome-session)\"'\n",
    "function ps-sort-once { ps_sort.perl -num_times=1 -by=time \"$@\" -; }\n",
    "alias ps-sort-time='ps-sort-once -by=time'\n",
    "alias ps-time=ps-sort-time\n",
    "alias ps-sort-mem='ps-sort-once -by=mem '\n",
    "alias ps-mem=ps-sort-mem"
   ]
  },
  {
   "cell_type": "code",
   "execution_count": 9,
   "id": "2395c71a",
   "metadata": {},
   "outputs": [
    {
     "name": "stdout",
     "output_type": "stream",
     "text": [
      "Error: bad sort field (time): using cpu\n",
      "USER         PID %CPU %MEM    VSZ   RSS TTY      STAT START   TIME COMMAND\n",
      "aveey       1708 16.6 12.2 3750168 451212 ?      Ssl  12:35  14:12 /snap/firef\n",
      "aveey       7253  7.0  1.4 672904 51852 ?        Ssl  14:00   0:01 /usr/bin/py\n",
      "root         883  4.0  2.8 681108 103556 tty1    Ssl+ 12:33   3:31 /usr/lib/xo\n",
      "aveey       2355  2.3  8.5 30101932 314728 ?     Sl   12:35   2:01 /opt/Upwork\n",
      "aveey       7266  1.3  0.1  11412  5400 pts/4    Ss   14:00   0:00 /usr/bin/ba\n",
      "aveey       6367  0.7  5.3 2557656 195760 ?      Sl   13:24   0:16 /snap/firef\n",
      "aveey       3307  0.6  1.3 376012 49876 ?        Sl   12:37   0:30 /snap/firef\n",
      "aveey       1306  0.5  2.1 246112 79732 pts/0    Sl+  12:35   0:29 /usr/bin/py\n",
      "aveey       2203  0.5  4.4 4827552 164000 ?      Sl   12:35   0:27 /opt/Upwork\n",
      "aveey       2432  0.4  3.6 19525172 133860 ?     Sl   12:36   0:21 /snap/firef\n",
      "aveey       3124  0.4  3.7 2485448 138144 ?      Sl   12:36   0:22 /snap/firef\n",
      "aveey       1076  0.1  2.7 1206132 100716 ?      Sl   12:34   0:06 /usr/bin/lx\n",
      "aveey       2333  0.1  1.9 286016 71492 ?        Sl   12:35   0:05 /opt/Upwork\n",
      "aveey       5282  0.1  1.4 675084 53224 ?        Ssl  12:48   0:04 /usr/bin/py\n",
      "aveey       6412  0.1  3.8 2508092 141004 ?      Sl   13:24   0:03 /snap/firef\n",
      "root           1  0.0  0.3 166328 11596 ?        Ss   12:32   0:01 /sbin/init \n",
      "root           2  0.0  0.0      0     0 ?        S    12:32   0:00 [kthreadd]\n",
      "root           3  0.0  0.0      0     0 ?        I<   12:32   0:00 [rcu_gp]\n",
      "root           4  0.0  0.0      0     0 ?        I<   12:32   0:00 [rcu_par_gp\n",
      "root           5  0.0  0.0      0     0 ?        I<   12:32   0:00 [netns]\n",
      "root           7  0.0  0.0      0     0 ?        I<   12:32   0:00 [kworker/0:\n",
      "root           9  0.0  0.0      0     0 ?        I<   12:32   0:00 [mm_percpu_\n",
      "root          10  0.0  0.0      0     0 ?        S    12:32   0:00 [rcu_tasks_\n",
      "root          11  0.0  0.0      0     0 ?        S    12:32   0:00 [rcu_tasks_\n",
      "root          12  0.0  0.0      0     0 ?        S    12:32   0:00 [ksoftirqd/\n",
      "root          13  0.0  0.0      0     0 ?        I    12:32   0:02 [rcu_sched]\n",
      "root          14  0.0  0.0      0     0 ?        S    12:32   0:00 [migration/\n",
      "root          15  0.0  0.0      0     0 ?        S    12:32   0:00 [idle_injec\n",
      "root          17  0.0  0.0      0     0 ?        S    12:32   0:00 [cpuhp/0]\n",
      "root          18  0.0  0.0      0     0 ?        S    12:32   0:00 [cpuhp/1]\n",
      "root          19  0.0  0.0      0     0 ?        S    12:32   0:00 [idle_injec\n",
      "root          20  0.0  0.0      0     0 ?        S    12:32   0:00 [migration/\n",
      "root          21  0.0  0.0      0     0 ?        S    12:32   0:00 [ksoftirqd/\n",
      "root          23  0.0  0.0      0     0 ?        I<   12:32   0:00 [kworker/1:\n",
      "root          24  0.0  0.0      0     0 ?        S    12:32   0:00 [cpuhp/2]\n",
      "root          25  0.0  0.0      0     0 ?        S    12:32   0:00 [idle_injec\n",
      "root          26  0.0  0.0      0     0 ?        S    12:32   0:00 [migration/\n",
      "root          27  0.0  0.0      0     0 ?        S    12:32   0:00 [ksoftirqd/\n"
     ]
    }
   ],
   "source": [
    "# SORTS ALL PROCESS BY TIME\n",
    "ps-sort-time"
   ]
  },
  {
   "cell_type": "code",
   "execution_count": 10,
   "id": "bc13426e",
   "metadata": {},
   "outputs": [
    {
     "name": "stdout",
     "output_type": "stream",
     "text": [
      "Error: bad sort field (time): using cpu\n",
      "USER         PID %CPU %MEM    VSZ   RSS TTY      STAT START   TIME COMMAND\n",
      "aveey       1708 16.6 12.2 3750168 451208 ?      Ssl  12:35  14:12 /snap/firef\n",
      "aveey       7253  7.3  1.4 672904 51888 ?        Ssl  14:00   0:01 /usr/bin/py\n",
      "root         883  4.0  2.8 681108 103556 tty1    Rsl+ 12:33   3:31 /usr/lib/xo\n",
      "aveey       2355  2.3  8.0 30084272 297092 ?     Sl   12:35   2:01 /opt/Upwork\n",
      "aveey       7266  1.3  0.1  11412  5400 pts/4    Ss   14:00   0:00 /usr/bin/ba\n",
      "aveey       6367  0.7  5.3 2557656 196064 ?      Rl   13:24   0:17 /snap/firef\n",
      "aveey       3307  0.6  1.3 376012 49876 ?        Sl   12:37   0:30 /snap/firef\n",
      "aveey       1306  0.5  2.1 246112 79732 pts/0    Sl+  12:35   0:29 /usr/bin/py\n",
      "aveey       2203  0.5  4.4 4827552 164000 ?      Sl   12:35   0:27 /opt/Upwork\n",
      "aveey       2432  0.4  3.6 19525172 133860 ?     Sl   12:36   0:21 /snap/firef\n",
      "aveey       3124  0.4  3.7 2485448 138144 ?      Sl   12:36   0:22 /snap/firef\n",
      "aveey       1076  0.1  2.7 1206132 100716 ?      Sl   12:34   0:06 /usr/bin/lx\n",
      "aveey       2333  0.1  1.9 286016 71492 ?        Sl   12:35   0:05 /opt/Upwork\n",
      "aveey       5282  0.1  1.4 675084 53224 ?        Ssl  12:48   0:04 /usr/bin/py\n",
      "aveey       6412  0.1  3.8 2508092 141004 ?      Sl   13:24   0:03 /snap/firef\n",
      "root           1  0.0  0.3 166328 11596 ?        Ss   12:32   0:01 /sbin/init \n",
      "root           2  0.0  0.0      0     0 ?        S    12:32   0:00 [kthreadd]\n",
      "root           3  0.0  0.0      0     0 ?        I<   12:32   0:00 [rcu_gp]\n",
      "root           4  0.0  0.0      0     0 ?        I<   12:32   0:00 [rcu_par_gp\n",
      "root           5  0.0  0.0      0     0 ?        I<   12:32   0:00 [netns]\n",
      "root           7  0.0  0.0      0     0 ?        I<   12:32   0:00 [kworker/0:\n",
      "root           9  0.0  0.0      0     0 ?        I<   12:32   0:00 [mm_percpu_\n",
      "root          10  0.0  0.0      0     0 ?        S    12:32   0:00 [rcu_tasks_\n",
      "root          11  0.0  0.0      0     0 ?        S    12:32   0:00 [rcu_tasks_\n",
      "root          12  0.0  0.0      0     0 ?        S    12:32   0:00 [ksoftirqd/\n",
      "root          13  0.0  0.0      0     0 ?        I    12:32   0:02 [rcu_sched]\n",
      "root          14  0.0  0.0      0     0 ?        S    12:32   0:00 [migration/\n",
      "root          15  0.0  0.0      0     0 ?        S    12:32   0:00 [idle_injec\n",
      "root          17  0.0  0.0      0     0 ?        S    12:32   0:00 [cpuhp/0]\n",
      "root          18  0.0  0.0      0     0 ?        S    12:32   0:00 [cpuhp/1]\n",
      "root          19  0.0  0.0      0     0 ?        S    12:32   0:00 [idle_injec\n",
      "root          20  0.0  0.0      0     0 ?        S    12:32   0:00 [migration/\n",
      "root          21  0.0  0.0      0     0 ?        S    12:32   0:00 [ksoftirqd/\n",
      "root          23  0.0  0.0      0     0 ?        I<   12:32   0:00 [kworker/1:\n",
      "root          24  0.0  0.0      0     0 ?        S    12:32   0:00 [cpuhp/2]\n",
      "root          25  0.0  0.0      0     0 ?        S    12:32   0:00 [idle_injec\n",
      "root          26  0.0  0.0      0     0 ?        S    12:32   0:00 [migration/\n",
      "root          27  0.0  0.0      0     0 ?        S    12:32   0:00 [ksoftirqd/\n"
     ]
    }
   ],
   "source": [
    "# ACTS THE SAME AS ps-sort-time\n",
    "ps-time"
   ]
  },
  {
   "cell_type": "code",
   "execution_count": 11,
   "id": "b688da20",
   "metadata": {},
   "outputs": [
    {
     "name": "stdout",
     "output_type": "stream",
     "text": [
      "USER         PID %CPU %MEM    VSZ   RSS TTY      STAT START   TIME COMMAND\n",
      "aveey       1708 16.6 12.2 3750168 451276 ?      Ssl  12:35  14:12 /snap/firef\n",
      "aveey       2355  2.3  8.0 30084272 297092 ?     Sl   12:35   2:01 /opt/Upwork\n",
      "aveey       6367  0.7  5.3 2557656 196472 ?      Sl   13:24   0:17 /snap/firef\n",
      "aveey       2203  0.5  4.4 4827552 164000 ?      Sl   12:35   0:27 /opt/Upwork\n",
      "aveey       6412  0.1  3.8 2508092 141004 ?      Sl   13:24   0:03 /snap/firef\n",
      "aveey       3124  0.4  3.7 2485448 138144 ?      Sl   12:36   0:22 /snap/firef\n",
      "aveey       2432  0.4  3.6 19525172 133860 ?     Sl   12:36   0:21 /snap/firef\n",
      "aveey       2961  0.0  2.9 2452892 109820 ?      Sl   12:36   0:04 /snap/firef\n",
      "root         883  4.0  2.8 681108 103556 tty1    Ssl+ 12:33   3:31 /usr/lib/xo\n",
      "aveey       1076  0.1  2.7 1206132 100716 ?      Sl   12:34   0:06 /usr/bin/lx\n",
      "aveey       1072  0.0  2.6 1590500 97416 ?       Sl   12:34   0:01 /usr/bin/pc\n",
      "aveey       2456  0.0  2.6 2433180 96196 ?       Sl   12:36   0:01 /snap/firef\n",
      "aveey       5645  0.0  2.6 860436 99228 ?        Sl   13:00   0:02 /usr/bin/fe\n",
      "aveey       1257  0.0  2.3 756148 84792 ?        Sl   12:34   0:01 xfce4-termi\n",
      "aveey       1306  0.5  2.1 246112 79732 pts/0    Sl+  12:35   0:29 /usr/bin/py\n",
      "aveey       2333  0.1  1.9 286016 71492 ?        Sl   12:35   0:05 /opt/Upwork\n",
      "aveey       2499  0.0  1.9 4505372 71004 ?       Sl   12:36   0:00 /opt/Upwork\n",
      "aveey       2568  0.0  1.8 4511520 69228 ?       Sl   12:36   0:00 /opt/Upwork\n",
      "aveey       2746  0.0  1.8 4503324 68092 ?       Sl   12:36   0:00 /opt/Upwork\n",
      "aveey       7103  0.0  1.7 2406604 64688 ?       Sl   13:55   0:00 /snap/firef\n",
      "aveey       7135  0.0  1.7 2406612 64796 ?       Sl   13:55   0:00 /snap/firef\n",
      "aveey       7172  0.0  1.7 2406628 65076 ?       Sl   13:55   0:00 /snap/firef\n",
      "aveey       2320  0.0  1.5 275604 58848 ?        Sl   12:35   0:04 /opt/Upwork\n",
      "aveey       2485  0.0  1.4 522836 53412 ?        Sl   12:36   0:00 /opt/Upwork\n",
      "aveey       5282  0.1  1.4 675084 53224 ?        Ssl  12:48   0:04 /usr/bin/py\n",
      "aveey       7253  7.1  1.4 672904 51888 ?        Ssl  14:00   0:01 /usr/bin/py\n",
      "aveey       3307  0.6  1.3 376012 49876 ?        Sl   12:37   0:30 /snap/firef\n",
      "aveey       5223  0.0  1.3 672904 51032 ?        Ssl  12:48   0:02 /usr/bin/py\n",
      "aveey       1078  0.0  1.2 576532 47620 ?        Sl   12:34   0:01 /usr/bin/lx\n",
      "aveey       2221  0.0  1.2 207348 44792 ?        S    12:35   0:00 /opt/Upwork\n",
      "aveey       2222  0.0  1.2 207348 45168 ?        S    12:35   0:00 /opt/Upwork\n",
      "aveey       1228  0.0  1.1 504152 44180 ?        Sl   12:34   0:01 /usr/bin/lx\n",
      "root         695  0.0  1.0 1169944 38612 ?       Ssl  12:33   0:03 /usr/lib/sn\n",
      "aveey       1007  0.0  1.0 336628 37736 ?        Sl   12:34   0:01 lxqt-sessio\n",
      "aveey       1075  0.0  1.0 275848 39492 ?        Sl   12:34   0:00 /usr/bin/lx\n",
      "aveey       1230  0.0  1.0 271444 38272 ?        Sl   12:34   0:00 /usr/bin/ql\n",
      "aveey       1232  0.0  1.0 272556 37788 ?        Sl   12:34   0:01 /usr/bin/nm\n",
      "aveey       1074  0.0  0.9 336148 36240 ?        Sl   12:34   0:00 /usr/bin/lx\n"
     ]
    }
   ],
   "source": [
    "# SORTS ALL PROCESS BY MEMORY\n",
    "ps-sort-mem"
   ]
  },
  {
   "cell_type": "code",
   "execution_count": 12,
   "id": "775ea494",
   "metadata": {},
   "outputs": [
    {
     "name": "stdout",
     "output_type": "stream",
     "text": [
      "USER         PID %CPU %MEM    VSZ   RSS TTY      STAT START   TIME COMMAND\n",
      "aveey       1708 16.6 12.2 3750168 450932 ?      Ssl  12:35  14:13 /snap/firef\n",
      "aveey       2355  2.3  8.0 30084272 297092 ?     Sl   12:35   2:01 /opt/Upwork\n",
      "aveey       6367  0.7  5.3 2557656 195932 ?      Sl   13:24   0:17 /snap/firef\n",
      "aveey       2203  0.5  4.4 4827552 164000 ?      Sl   12:35   0:27 /opt/Upwork\n",
      "aveey       6412  0.1  3.8 2508092 141004 ?      Sl   13:24   0:03 /snap/firef\n",
      "aveey       3124  0.4  3.7 2485448 138144 ?      Sl   12:36   0:22 /snap/firef\n",
      "aveey       2432  0.4  3.6 19525172 133860 ?     Sl   12:36   0:21 /snap/firef\n",
      "aveey       2961  0.0  2.9 2452892 109820 ?      Sl   12:36   0:04 /snap/firef\n",
      "root         883  4.0  2.8 681108 103556 tty1    Rsl+ 12:33   3:31 /usr/lib/xo\n",
      "aveey       1076  0.1  2.7 1206132 100716 ?      Sl   12:34   0:06 /usr/bin/lx\n",
      "aveey       1072  0.0  2.6 1590500 97416 ?       Sl   12:34   0:01 /usr/bin/pc\n",
      "aveey       2456  0.0  2.6 2433180 96196 ?       Sl   12:36   0:01 /snap/firef\n",
      "aveey       5645  0.0  2.6 860436 99228 ?        Sl   13:00   0:02 /usr/bin/fe\n",
      "aveey       1257  0.0  2.3 756148 84792 ?        Sl   12:34   0:01 xfce4-termi\n",
      "aveey       1306  0.5  2.1 246112 79732 pts/0    Sl+  12:35   0:30 /usr/bin/py\n",
      "aveey       2333  0.1  1.9 286016 71492 ?        Sl   12:35   0:05 /opt/Upwork\n",
      "aveey       2499  0.0  1.9 4505372 71004 ?       Sl   12:36   0:00 /opt/Upwork\n",
      "aveey       2568  0.0  1.8 4511520 69228 ?       Sl   12:36   0:00 /opt/Upwork\n",
      "aveey       2746  0.0  1.8 4503324 68092 ?       Sl   12:36   0:00 /opt/Upwork\n",
      "aveey       7103  0.0  1.7 2406604 64688 ?       Sl   13:55   0:00 /snap/firef\n",
      "aveey       7135  0.0  1.7 2406612 64796 ?       Sl   13:55   0:00 /snap/firef\n",
      "aveey       7172  0.0  1.7 2406628 65076 ?       Sl   13:55   0:00 /snap/firef\n",
      "aveey       2320  0.0  1.5 275604 58848 ?        Sl   12:35   0:04 /opt/Upwork\n",
      "aveey       2485  0.0  1.4 522836 53412 ?        Sl   12:36   0:00 /opt/Upwork\n",
      "aveey       5282  0.1  1.4 675084 53224 ?        Ssl  12:48   0:04 /usr/bin/py\n",
      "aveey       7253  7.3  1.4 672904 51888 ?        Ssl  14:00   0:01 /usr/bin/py\n",
      "aveey       3307  0.6  1.3 376012 49876 ?        Sl   12:37   0:30 /snap/firef\n",
      "aveey       5223  0.0  1.3 672904 51032 ?        Ssl  12:48   0:02 /usr/bin/py\n",
      "aveey       1078  0.0  1.2 576532 47620 ?        Sl   12:34   0:01 /usr/bin/lx\n",
      "aveey       2221  0.0  1.2 207348 44792 ?        S    12:35   0:00 /opt/Upwork\n",
      "aveey       2222  0.0  1.2 207348 45168 ?        S    12:35   0:00 /opt/Upwork\n",
      "aveey       1228  0.0  1.1 504152 44180 ?        Sl   12:34   0:01 /usr/bin/lx\n",
      "root         695  0.0  1.0 1169944 38612 ?       Ssl  12:33   0:03 /usr/lib/sn\n",
      "aveey       1007  0.0  1.0 336628 37736 ?        Sl   12:34   0:01 lxqt-sessio\n",
      "aveey       1075  0.0  1.0 275848 39492 ?        Sl   12:34   0:00 /usr/bin/lx\n",
      "aveey       1230  0.0  1.0 271444 38272 ?        Sl   12:34   0:00 /usr/bin/ql\n",
      "aveey       1232  0.0  1.0 272556 37788 ?        Sl   12:34   0:01 /usr/bin/nm\n",
      "aveey       1074  0.0  0.9 336148 36240 ?        Sl   12:34   0:00 /usr/bin/lx\n"
     ]
    }
   ],
   "source": [
    "# ps-mem IS AN ALTERNATIVE OF ps-sort-mem\n",
    "ps-mem"
   ]
  },
  {
   "cell_type": "code",
   "execution_count": 13,
   "id": "6ed9a120",
   "metadata": {},
   "outputs": [],
   "source": [
    "# ERROR GENERATED FOR ps-script\n",
    "# $ ps-script\n",
    "# | bash: -v: command not found\n",
    "# | bash: -i: command not found\n",
    "# | /usr/bin/env: ‘csh’: No such file or directory"
   ]
  },
  {
   "cell_type": "code",
   "execution_count": 14,
   "id": "2e45d738",
   "metadata": {},
   "outputs": [],
   "source": [
    "# ERROR GENERATED FOR ps-all\n",
    "# $ ps-all\n",
    "# | /usr/bin/env: ‘csh’: No such file or directory\n",
    "# | bash: -i: command not found\n"
   ]
  },
  {
   "cell_type": "code",
   "execution_count": 15,
   "id": "82c5fd09",
   "metadata": {},
   "outputs": [],
   "source": [
    "function get-process-parent() { local pid=\"$1\"; if [ \"$pid\" = \"\" ]; then pid=$$; fi; ps al | perl -Ssw extract_matches.perl \"^\\d+\\s+\\d+\\s+$pid\\s+(\\d+)\"; }"
   ]
  },
  {
   "cell_type": "code",
   "execution_count": 16,
   "id": "bf36bf1a",
   "metadata": {},
   "outputs": [
    {
     "name": "stdout",
     "output_type": "stream",
     "text": [
      "F   UID     PID    PPID PRI  NI    VSZ   RSS WCHAN  STAT TTY        TIME COMMAND\n",
      "0  1000    7266    7253  20   0  11412  5400 do_wai Ss   pts/4      0:00 /usr/bin/bash --rcfile /usr/lib/python3/dist-packages/pexpect/bashrc.sh\n",
      "4  1000    7322    7266  20   0  12668  1588 -      R+   pts/4      0:00 ps al\n",
      "0  1000    7323    7266  20   0   9076  2300 pipe_r S+   pts/4      0:00 grep -E (PID|7266)\n",
      "--------------------------------------------------------------------------------\n",
      "7253\n"
     ]
    }
   ],
   "source": [
    "ps al | egrep \"(PID|$$)\"\n",
    "linebr\n",
    "# get-process-parent : return parent process-id for PID\n",
    "get-process-parent"
   ]
  },
  {
   "cell_type": "code",
   "execution_count": 17,
   "id": "c7ea3021",
   "metadata": {},
   "outputs": [],
   "source": [
    "# Make sure script appends rather than overwrites.\n",
    "# In addition, set SCRIPT_PID, so that set_xterm_title.bash can indicate within script.\n",
    "# Also, appends $ to prompt symbol so that typescript prompt searchable with strings command\n",
    "## HACK: set envionment for sake of set_xterm_title.bash (TODO check PPID for this)\n",
    "## TODO: use stack for old_PS_symbol maintenance??? (also allows for recursive invocation, such as with '$ $ $')\n",
    "## TODO: rename as my-script to avoid confusion\n",
    "function script {\n",
    "    ## THIS function is buggy!\n",
    "    # Note: set_xterm_title.bash keeps track of titles for each process, so save copies of current ones\n",
    "    local save_full=$(set-xterm-title --print-full)\n",
    "    local save_icon=$(set-xterm-title --print-icon)\n",
    "    ## DEBUG: echo \"save_full='$save_full'; save_icon='$save_icon'\"\n",
    "  \n",
    "    # Change prompt\n",
    "    local old_PS_symbol=\"$PS_symbol\"\n",
    "    export SCRIPT_PID=$$\n",
    "    # Note: the prompt change is flakey\n",
    "    reset-prompt \"$PS_symbol\\$\"\n",
    "    ## DEBUG: echo \"script: 1. PS1='$PS1' old_PS_symbol='$old_PS_symbol' PS_symbol='$new_PS_symbol'\"\n",
    "    \n",
    "    # Change xterm title to match\n",
    "    set-title-to-current-dir\n",
    "    ## DEBUG: echo \"script: 2. PS1='$PS1' old_PS_symbol='$old_PS_symbol' PS_symbol='$new_PS_symbol'\"\n",
    "    # Run command\n",
    "    command script --append \"$@\"\n",
    "    \n",
    "    # Restore prompt\n",
    "    unset SCRIPT_PID\n",
    "    reset-prompt \"$old_PS_symbol\"\n",
    "    ## DEBUG: echo \"script: 3. PS1='$PS1' old_PS_symbol='$old_PS_symbol' PS_symbol='$new_PS_symbol'\"\n",
    "    \n",
    "    # Get rid of lingering 'script' in xterm title\n",
    "    ## DEBUG: echo \"Restoring xterm title: full=$save_full save=$save_icon\"\n",
    "    set-xterm-title \"$save_full\" \"$save_icon\"\n",
    "}\n",
    "\n",
    "alias script-update='script _update-$(T).log'"
   ]
  },
  {
   "cell_type": "code",
   "execution_count": 18,
   "id": "e73cd7c1",
   "metadata": {},
   "outputs": [],
   "source": [
    "## ERROR - NEED TO SOURCE tomohara-aliases.bash FILE\n",
    "# $ script-update\n",
    "# | bash: T: command not found\n",
    "#   bash: set-xterm-title: command not found\n",
    "#   bash: set-xterm-title: command not found\n",
    "#   bash: reset-prompt: command not found\n",
    "#   bash: set-title-to-current-dir: command not found\n",
    "#   Script started, output log file is '_update-.log'.\n"
   ]
  },
  {
   "cell_type": "code",
   "execution_count": 19,
   "id": "9c38e97e",
   "metadata": {},
   "outputs": [],
   "source": [
    "# ansi-filter(filename]: wrapper around ansifilter with stdio and stdout instead of files\n",
    "# TODO: issue request for proper Unix stdin support (n.b., this function is much ado about nothing)\n",
    "function ansi-filter {\n",
    "    local input_file=\"$1\"\n",
    "    if [ \"$input_file\" = \"\" ]; then\n",
    "        input_file=\"$TMP/ansi-filter-in-$$.list\"\n",
    "        cat > \"$input_file\"\n",
    "    fi\n",
    "    local output_file=\"$TMP/ansi-filter-out-$$.list\";\n",
    "    ansifilter --input=\"$input_file\" --output=\"$output_file\"\n",
    "    cat \"$output_file\"\n",
    "}"
   ]
  },
  {
   "cell_type": "code",
   "execution_count": 20,
   "id": "079b0855",
   "metadata": {},
   "outputs": [],
   "source": [
    "## EXAMPLE FOR ansi-filter\n",
    "\n",
    "# ERROR: COMMAND NOT FOUND\n",
    "\n",
    "# $ echo \"How to use the ansi-filter?\" > ansi-filter-test.txt\n",
    "# $ ansi-filter ansi-filter-test.txt\n",
    "# | bash: ansifilter: command not found\n",
    "# | cat: /tmp/test-unix/ansi-filter-out-7384.list: No such file or directory"
   ]
  },
  {
   "cell_type": "code",
   "execution_count": 21,
   "id": "92bb8407",
   "metadata": {},
   "outputs": [],
   "source": [
    "# pause-for-enter: EXITS AFTER PRESSING ENTER, WITH A MESSAGE\n",
    "function pause-for-enter () {\n",
    "    local message=\"$1\"\n",
    "    if [ \"$message\" = \"\" ]; then message=\"Press enter to continue\"; fi\n",
    "    read -p \"$message \"\n",
    "}"
   ]
  },
  {
   "cell_type": "code",
   "execution_count": 22,
   "id": "1e7238c8",
   "metadata": {},
   "outputs": [],
   "source": [
    "## DOESN'T WORK FOR JUPYTER, WORKS FOR TERMINAL\n",
    "\n",
    "# $ pause-for-enter\n",
    "# | Press enter to continue \n",
    "## (program terminates after pressing Enter Key)"
   ]
  },
  {
   "cell_type": "code",
   "execution_count": null,
   "id": "7762153f",
   "metadata": {},
   "outputs": [],
   "source": []
  },
  {
   "cell_type": "code",
   "execution_count": null,
   "id": "0d1949fc",
   "metadata": {},
   "outputs": [],
   "source": []
  }
 ],
 "metadata": {
  "kernelspec": {
   "display_name": "Bash",
   "language": "bash",
   "name": "bash"
  },
  "language_info": {
   "codemirror_mode": "shell",
   "file_extension": ".sh",
   "mimetype": "text/x-sh",
   "name": "bash"
  }
 },
 "nbformat": 4,
 "nbformat_minor": 5
}
