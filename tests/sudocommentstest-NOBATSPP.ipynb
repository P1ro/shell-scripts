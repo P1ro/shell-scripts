{
 "cells": [
  {
   "cell_type": "code",
   "execution_count": 1,
   "id": "db4a4325",
   "metadata": {},
   "outputs": [],
   "source": [
    "# uname -r | sudo tee $TEMP"
   ]
  },
  {
   "cell_type": "code",
   "execution_count": 2,
   "id": "08675bb1",
   "metadata": {},
   "outputs": [],
   "source": [
    "TEMP_PATH=\"./temp/kernelinfo.txt\""
   ]
  },
  {
   "cell_type": "code",
   "execution_count": 3,
   "id": "0ddae0b1",
   "metadata": {
    "scrolled": true
   },
   "outputs": [
    {
     "name": "stdout",
     "output_type": "stream",
     "text": [
      "Sorting... 0%rd for aveey: Sorting... 0%Sorting... 0%Sorting... Done\n",
      "Full Text Search... 50%Full Text Search... 50%Full Text Search... Done\n",
      "\u001b[32mcaffeine\u001b[0m/jammy,jammy,now 2.9.8-2 all [residual-config]\n",
      "  prevent the desktop becoming idle in full-screen mode\n",
      "\n",
      "\u001b[32mfonts-aenigma\u001b[0m/jammy,jammy 0.0.20080511+dfsg-4 all\n",
      "  465 free TrueType fonts by Brian Kent\n",
      "\n",
      "\u001b[32mlibcaffeine-java\u001b[0m/jammy,jammy 2.6.2-1.1 all\n",
      "  High performance caching library\n",
      "\n"
     ]
    }
   ],
   "source": [
    "sudo -S apt search caffeine < ./temp/pass.txt"
   ]
  },
  {
   "cell_type": "code",
   "execution_count": null,
   "id": "2a8eb8bb",
   "metadata": {},
   "outputs": [],
   "source": []
  },
  {
   "cell_type": "code",
   "execution_count": null,
   "id": "215ddb07",
   "metadata": {},
   "outputs": [],
   "source": []
  }
 ],
 "metadata": {
  "kernelspec": {
   "display_name": "Bash",
   "language": "bash",
   "name": "bash"
  },
  "language_info": {
   "codemirror_mode": "shell",
   "file_extension": ".sh",
   "mimetype": "text/x-sh",
   "name": "bash"
  }
 },
 "nbformat": 4,
 "nbformat_minor": 5
}
