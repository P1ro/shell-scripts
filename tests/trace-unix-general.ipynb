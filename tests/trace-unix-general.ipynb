{
 "cells": [
  {
   "cell_type": "code",
   "execution_count": 1,
   "id": "6dcea75d",
   "metadata": {},
   "outputs": [
    {
     "name": "stdout",
     "output_type": "stream",
     "text": [
      "\u001b[?2004h\u001b[?2004l\u001b[?2004l\u001b[?2004l\u001b[?2004l\u001b[?2004l\u001b[?2004l\u001b[?2004l\r"
     ]
    }
   ],
   "source": [
    "## TESTS START FROM LINE 2066 (tomohara-aliases.bash)\n",
    "\n",
    "## Bracketed Paste is disabled to prevent characters after output\n",
    "## Example: \n",
    "# $ echo 'Hi'\n",
    "# | Hi?2004l\n",
    "\n",
    "bind 'set enable-bracketed-paste off'"
   ]
  },
  {
   "cell_type": "code",
   "execution_count": 2,
   "id": "65d43538",
   "metadata": {},
   "outputs": [
    {
     "name": "stdout",
     "output_type": "stream",
     "text": [
      "[PEXP\\[\\]ECT_PROMPT>\n"
     ]
    }
   ],
   "source": [
    "## TEST:  Make sure simple prompt used (e.g., no escapes that might contaminate output)\n",
    "## PS1=\"$ \"\n",
    "## TODO: PS1=\"> \"\n",
    "\n",
    "## NOTE: The Jupyter bash kernel requires that PS1 not be modified as they customize it. \n",
    "echo $PS1"
   ]
  },
  {
   "cell_type": "code",
   "execution_count": 3,
   "id": "d623c9a9",
   "metadata": {},
   "outputs": [
    {
     "name": "stdout",
     "output_type": "stream",
     "text": [
      "0\n",
      "0\n"
     ]
    }
   ],
   "source": [
    "# Delete all aliases and function\n",
    "# TODO: Instead start from pristine environment\n",
    "unalias -a\n",
    "alias | wc -l\n",
    "for f in $(typeset -f | egrep '^\\w+'); do unset -f $f; done\n",
    "typeset -f | egrep '^\\w+' | wc -l"
   ]
  },
  {
   "cell_type": "code",
   "execution_count": 4,
   "id": "0ff8f157",
   "metadata": {},
   "outputs": [
    {
     "name": "stdout",
     "output_type": "stream",
     "text": [
      "0\n"
     ]
    }
   ],
   "source": [
    "# Setting a temp directory for tests\n",
    "TMP=/tmp/test-unix\n",
    "\n",
    "## NOTE: Source it directly from the ./tests directory.\n",
    "BIN_DIR=$PWD/..\n",
    "\n",
    "alias | wc -l"
   ]
  },
  {
   "cell_type": "code",
   "execution_count": 5,
   "id": "ab954c7f",
   "metadata": {},
   "outputs": [
    {
     "name": "stdout",
     "output_type": "stream",
     "text": [
      "/tmp/test-unix/test-3245\n"
     ]
    }
   ],
   "source": [
    "## NOTE: For reproducability, the directory name needs to be fixed\n",
    "## In place of $$, use a psuedo random number (e,g., 3245)\n",
    "## *** All output from one run to the next needs to be the same ***\n",
    "\n",
    "## temp_dir=$TMP/test-$$\n",
    "temp_dir=$TMP/test-3245\n",
    "\n",
    "mkdir -p \"$temp_dir\"\n",
    "# TODO: /bin/rm -rvf \"$temp_dir\"\n",
    "cd \"$temp_dir\"\n",
    "pwd\n",
    "\n",
    "#ALIAS FOR PRINTING SEPERATION LINES (FOR JUPYTER)\n",
    "alias linebr=\"printf '%*s\\n' \"${COLUMNS:-$(tput cols)}\" '' | tr ' ' -\""
   ]
  },
  {
   "cell_type": "code",
   "execution_count": 6,
   "id": "ec6df159",
   "metadata": {},
   "outputs": [
    {
     "name": "stdout",
     "output_type": "stream",
     "text": [
      "1\n",
      "0\n"
     ]
    }
   ],
   "source": [
    "# Count aliases proper\n",
    "alias | wc -l\n",
    "# Count functions\n",
    "typeset -f | egrep '^\\w+' | wc -l"
   ]
  },
  {
   "cell_type": "code",
   "execution_count": 22,
   "id": "d312db03",
   "metadata": {},
   "outputs": [],
   "source": [
    "# ps-all(pattern): show processes from all users matching PATTERN (or . in which case piped to less)\n",
    "# TODO: have option to restrict to current user\n",
    "function ps-all () { \n",
    "    local pattern=\"$1\";\n",
    "    local pager=cat;\n",
    "    if [ \"$pattern\" = \"\" ]; then \n",
    "        pattern=\".\"; \n",
    "        pager=$PAGER\n",
    "    fi;\n",
    "    ps_mine.sh --all | $EGREP -i \"((^USER)|($pattern))\" | $pager;\n",
    "    }\n",
    "\n",
    "alias ps-script='ps-all \"\\\\bscript\\\\b\" | $GREP -v \"(gnome-session)\"'\n",
    "function ps-sort-once { ps_sort.perl -num_times=1 -by=time \"$@\" -; }\n",
    "alias ps-sort-time='ps-sort-once -by=time'\n",
    "alias ps-time=ps-sort-time\n",
    "alias ps-sort-mem='ps-sort-once -by=mem '\n",
    "alias ps-mem=ps-sort-mem\n"
   ]
  },
  {
   "cell_type": "code",
   "execution_count": 23,
   "id": "8599b61b",
   "metadata": {},
   "outputs": [],
   "source": [
    "alias ps-script='ps-all \"\\\\bscript\\\\b\" | $GREP -v \"(gnome-session)\"'\n",
    "function ps-sort-once { ps_sort.perl -num_times=1 -by=time \"$@\" -; }\n",
    "alias ps-sort-time='ps-sort-once -by=time'\n",
    "alias ps-time=ps-sort-time\n",
    "alias ps-sort-mem='ps-sort-once -by=mem '\n",
    "alias ps-mem=ps-sort-mem"
   ]
  },
  {
   "cell_type": "code",
   "execution_count": 8,
   "id": "2395c71a",
   "metadata": {},
   "outputs": [
    {
     "name": "stdout",
     "output_type": "stream",
     "text": [
      "Error: bad sort field (time): using cpu\n",
      "USER         PID %CPU %MEM    VSZ   RSS TTY      STAT START   TIME COMMAND\n",
      "aveey       7665 14.3  1.4 672896 52096 ?        Ssl  22:31   0:00 /usr/bin/py\n",
      "aveey       1242 11.7 10.7 12336608 394500 ?     Sl   21:00  10:45 /snap/firef\n",
      "aveey       4413  9.9  6.0 2575180 223512 ?      Sl   22:02   2:53 /snap/firef\n",
      "aveey       2229  6.2 20.2 3577184 745712 ?      Sl   21:00   5:42 /snap/firef\n",
      "aveey       6131  5.9  8.2 25882708 304008 ?     Rl   22:07   1:25 /opt/Upwork\n",
      "aveey       5852  2.9  4.2 2542988 157080 ?      Sl   22:03   0:50 /snap/firef\n",
      "root         884  2.4  2.7 682768 102832 tty1    Ssl+ 20:57   2:20 /usr/lib/xo\n",
      "aveey        983  1.3  0.4 1411564 18260 ?       S<sl 20:57   1:15 /usr/bin/pu\n",
      "aveey       7675  1.2  0.1  11412  5604 pts/2    Ss   22:31   0:00 /usr/bin/ba\n",
      "aveey       6066  1.0  4.3 4814048 159152 ?      Sl   22:07   0:14 /opt/Upwork\n",
      "aveey       4342  0.9  3.8 2495676 141560 ?      Sl   21:59   0:17 /snap/firef\n",
      "aveey       4441  0.7  2.0 242720 74152 pts/0    Sl+  22:02   0:13 /usr/bin/py\n",
      "aveey       1589  0.3  3.6 27822896 134944 ?     Sl   21:00   0:20 /snap/firef\n",
      "aveey       6110  0.2  1.9 286012 72180 ?        Sl   22:07   0:03 /opt/Upwork\n",
      "root         692  0.1  0.9 1243676 35764 ?       Ssl  20:57   0:05 /usr/lib/sn\n",
      "aveey       1064  0.1  2.4 1208352 89604 ?       Sl   20:57   0:05 /usr/bin/lx\n",
      "aveey       5890  0.1  2.4 1000048 88712 ?       Sl   22:03   0:02 /usr/bin/fe\n",
      "aveey       6096  0.1  1.5 274836 56492 ?        Sl   22:07   0:02 /opt/Upwork\n",
      "aveey       7454  0.1  1.7 2406088 62776 ?       Sl   22:29   0:00 /snap/firef\n",
      "root           1  0.0  0.3 167628 12600 ?        Ss   20:56   0:02 /sbin/init \n",
      "root           2  0.0  0.0      0     0 ?        S    20:56   0:00 [kthreadd]\n",
      "root           3  0.0  0.0      0     0 ?        I<   20:56   0:00 [rcu_gp]\n",
      "root           4  0.0  0.0      0     0 ?        I<   20:56   0:00 [rcu_par_gp\n",
      "root           5  0.0  0.0      0     0 ?        I<   20:56   0:00 [netns]\n",
      "root           7  0.0  0.0      0     0 ?        I<   20:56   0:00 [kworker/0:\n",
      "root           9  0.0  0.0      0     0 ?        I<   20:56   0:00 [mm_percpu_\n",
      "root          10  0.0  0.0      0     0 ?        S    20:56   0:00 [rcu_tasks_\n",
      "root          11  0.0  0.0      0     0 ?        S    20:56   0:00 [rcu_tasks_\n",
      "root          12  0.0  0.0      0     0 ?        S    20:56   0:00 [ksoftirqd/\n",
      "root          13  0.0  0.0      0     0 ?        I    20:56   0:02 [rcu_sched]\n",
      "root          14  0.0  0.0      0     0 ?        S    20:56   0:00 [migration/\n",
      "root          15  0.0  0.0      0     0 ?        S    20:56   0:00 [idle_injec\n",
      "root          17  0.0  0.0      0     0 ?        S    20:56   0:00 [cpuhp/0]\n",
      "root          18  0.0  0.0      0     0 ?        S    20:56   0:00 [cpuhp/1]\n",
      "root          19  0.0  0.0      0     0 ?        S    20:56   0:00 [idle_injec\n",
      "root          20  0.0  0.0      0     0 ?        S    20:56   0:00 [migration/\n",
      "root          21  0.0  0.0      0     0 ?        S    20:56   0:00 [ksoftirqd/\n",
      "root          23  0.0  0.0      0     0 ?        I<   20:56   0:00 [kworker/1:\n"
     ]
    }
   ],
   "source": [
    "# SORTS ALL PROCESS BY TIME\n",
    "ps-sort-time"
   ]
  },
  {
   "cell_type": "code",
   "execution_count": 9,
   "id": "bc13426e",
   "metadata": {},
   "outputs": [
    {
     "name": "stdout",
     "output_type": "stream",
     "text": [
      "Error: bad sort field (time): using cpu\n",
      "USER         PID %CPU %MEM    VSZ   RSS TTY      STAT START   TIME COMMAND\n",
      "aveey       7665 12.7  1.4 672896 52096 ?        Ssl  22:31   0:00 /usr/bin/py\n",
      "aveey       1242 11.7 10.7 12336608 396368 ?     Sl   21:00  10:45 /snap/firef\n",
      "aveey       4413  9.9  6.1 2575180 225096 ?      Sl   22:02   2:53 /snap/firef\n",
      "aveey       2229  6.2 20.2 3577184 745712 ?      Sl   21:00   5:42 /snap/firef\n",
      "aveey       6131  5.9  8.2 25882708 304272 ?     Sl   22:07   1:25 /opt/Upwork\n",
      "aveey       5852  2.9  4.2 2542988 157080 ?      Sl   22:03   0:50 /snap/firef\n",
      "root         884  2.4  2.7 682768 102832 tty1    Ssl+ 20:57   2:20 /usr/lib/xo\n",
      "aveey        983  1.3  0.4 1411564 18260 ?       S<sl 20:57   1:15 /usr/bin/pu\n",
      "aveey       6066  1.0  4.3 4814048 159152 ?      Sl   22:07   0:14 /opt/Upwork\n",
      "aveey       7675  1.0  0.1  11412  5604 pts/2    Ss   22:31   0:00 /usr/bin/ba\n",
      "aveey       4342  0.9  3.8 2495676 141560 ?      Sl   21:59   0:17 /snap/firef\n",
      "aveey       4441  0.7  2.0 242720 74152 pts/0    Sl+  22:02   0:13 /usr/bin/py\n",
      "aveey       1589  0.3  3.6 27822896 134944 ?     Sl   21:00   0:20 /snap/firef\n",
      "aveey       6110  0.2  1.9 286012 72180 ?        Sl   22:07   0:03 /opt/Upwork\n",
      "root         692  0.1  0.9 1243676 35764 ?       Ssl  20:57   0:05 /usr/lib/sn\n",
      "aveey       1064  0.1  2.4 1208352 89604 ?       Sl   20:57   0:05 /usr/bin/lx\n",
      "aveey       5890  0.1  2.4 1000048 88712 ?       Sl   22:03   0:02 /usr/bin/fe\n",
      "aveey       6096  0.1  1.5 274836 56492 ?        Sl   22:07   0:02 /opt/Upwork\n",
      "aveey       7454  0.1  1.7 2406088 62776 ?       Sl   22:29   0:00 /snap/firef\n",
      "root           1  0.0  0.3 167628 12600 ?        Ss   20:56   0:02 /sbin/init \n",
      "root           2  0.0  0.0      0     0 ?        S    20:56   0:00 [kthreadd]\n",
      "root           3  0.0  0.0      0     0 ?        I<   20:56   0:00 [rcu_gp]\n",
      "root           4  0.0  0.0      0     0 ?        I<   20:56   0:00 [rcu_par_gp\n",
      "root           5  0.0  0.0      0     0 ?        I<   20:56   0:00 [netns]\n",
      "root           7  0.0  0.0      0     0 ?        I<   20:56   0:00 [kworker/0:\n",
      "root           9  0.0  0.0      0     0 ?        I<   20:56   0:00 [mm_percpu_\n",
      "root          10  0.0  0.0      0     0 ?        S    20:56   0:00 [rcu_tasks_\n",
      "root          11  0.0  0.0      0     0 ?        S    20:56   0:00 [rcu_tasks_\n",
      "root          12  0.0  0.0      0     0 ?        S    20:56   0:00 [ksoftirqd/\n",
      "root          13  0.0  0.0      0     0 ?        I    20:56   0:02 [rcu_sched]\n",
      "root          14  0.0  0.0      0     0 ?        S    20:56   0:00 [migration/\n",
      "root          15  0.0  0.0      0     0 ?        S    20:56   0:00 [idle_injec\n",
      "root          17  0.0  0.0      0     0 ?        S    20:56   0:00 [cpuhp/0]\n",
      "root          18  0.0  0.0      0     0 ?        S    20:56   0:00 [cpuhp/1]\n",
      "root          19  0.0  0.0      0     0 ?        S    20:56   0:00 [idle_injec\n",
      "root          20  0.0  0.0      0     0 ?        S    20:56   0:00 [migration/\n",
      "root          21  0.0  0.0      0     0 ?        S    20:56   0:00 [ksoftirqd/\n",
      "root          23  0.0  0.0      0     0 ?        I<   20:56   0:00 [kworker/1:\n"
     ]
    }
   ],
   "source": [
    "# ACTS THE SAME AS ps-sort-time\n",
    "ps-time"
   ]
  },
  {
   "cell_type": "code",
   "execution_count": 10,
   "id": "b688da20",
   "metadata": {},
   "outputs": [
    {
     "name": "stdout",
     "output_type": "stream",
     "text": [
      "USER         PID %CPU %MEM    VSZ   RSS TTY      STAT START   TIME COMMAND\n",
      "aveey       2229  6.2 20.2 3577184 745816 ?      Sl   21:00   5:42 /snap/firef\n",
      "aveey       1242 11.7 10.7 12336608 396416 ?     Sl   21:00  10:45 /snap/firef\n",
      "aveey       6131  5.9  8.2 25882708 304272 ?     Sl   22:07   1:25 /opt/Upwork\n",
      "aveey       4413  9.9  6.0 2575180 224576 ?      Rl   22:02   2:53 /snap/firef\n",
      "aveey       6066  1.0  4.3 4814048 159152 ?      Sl   22:07   0:14 /opt/Upwork\n",
      "aveey       5852  2.9  4.2 2542988 157080 ?      Sl   22:03   0:50 /snap/firef\n",
      "aveey       4342  0.9  3.8 2495676 141560 ?      Sl   21:59   0:17 /snap/firef\n",
      "aveey       1589  0.3  3.6 27822896 134944 ?     Sl   21:00   0:20 /snap/firef\n",
      "aveey       1490  0.0  3.0 2443800 110736 ?      Sl   21:00   0:02 /snap/firef\n",
      "root         884  2.4  2.7 682768 102832 tty1    Rsl+ 20:57   2:20 /usr/lib/xo\n",
      "aveey       1060  0.0  2.4 862472 88700 ?        Sl   20:57   0:01 /usr/bin/pc\n",
      "aveey       1064  0.1  2.4 1208352 89604 ?       Sl   20:57   0:05 /usr/bin/lx\n",
      "aveey       5890  0.1  2.4 1000048 88712 ?       Sl   22:03   0:02 /usr/bin/fe\n",
      "aveey       1339  0.0  2.2 755732 84340 ?        Sl   21:00   0:01 xfce4-termi\n",
      "aveey       4441  0.8  2.0 242720 74152 pts/0    Sl+  22:02   0:13 /usr/bin/py\n",
      "aveey       6110  0.2  1.9 286012 72180 ?        Sl   22:07   0:03 /opt/Upwork\n",
      "aveey       6182  0.0  1.8 4504348 67884 ?       Sl   22:07   0:00 /opt/Upwork\n",
      "aveey       6207  0.0  1.8 4502300 66948 ?       Sl   22:07   0:00 /opt/Upwork\n",
      "aveey       7454  0.1  1.7 2406088 62776 ?       Sl   22:29   0:00 /snap/firef\n",
      "aveey       6981  0.0  1.6 2406068 62004 ?       Sl   22:26   0:00 /snap/firef\n",
      "aveey       7011  0.0  1.6 2406088 62364 ?       Sl   22:27   0:00 /snap/firef\n",
      "aveey       6096  0.1  1.5 274836 56492 ?        Sl   22:07   0:02 /opt/Upwork\n",
      "aveey       6168  0.0  1.4 522836 55276 ?        Sl   22:07   0:00 /opt/Upwork\n",
      "aveey       7665 13.2  1.4 672896 52096 ?        Ssl  22:31   0:00 /usr/bin/py\n",
      "aveey       2439  0.0  1.3 365992 48060 ?        Sl   21:02   0:01 /snap/firef\n",
      "aveey       6068  0.0  1.2 207348 44872 ?        S    22:07   0:00 /opt/Upwork\n",
      "aveey       6069  0.0  1.2 207348 45432 ?        S    22:07   0:00 /opt/Upwork\n",
      "root         692  0.1  0.9 1243676 35764 ?       Ssl  20:57   0:05 /usr/lib/sn\n",
      "aveey       1066  0.0  0.9 576272 35560 ?        Sl   20:57   0:00 /usr/bin/lx\n",
      "aveey       1213  0.0  0.9 504144 34516 ?        Sl   20:58   0:00 /usr/bin/lx\n",
      "aveey       1464  0.0  0.9 216948 36280 ?        Sl   21:00   0:00 /snap/firef\n",
      "aveey       1079  0.0  0.8  59952 31964 ?        S    20:57   0:00 /usr/bin/py\n",
      "aveey       2450  0.0  0.8 214892 32784 ?        Sl   21:02   0:00 /snap/firef\n",
      "aveey       1215  0.0  0.7 271436 28072 ?        Sl   20:58   0:00 /usr/bin/ql\n",
      "aveey       1217  0.0  0.7 272544 27728 ?        Sl   20:58   0:01 /usr/bin/nm\n",
      "aveey        994  0.0  0.6 336624 23288 ?        Sl   20:57   0:01 lxqt-sessio\n",
      "aveey       1063  0.0  0.6 275852 25364 ?        Sl   20:57   0:00 /usr/bin/lx\n",
      "aveey       1065  0.0  0.6 410020 23564 ?        Sl   20:57   0:00 /usr/bin/lx\n"
     ]
    }
   ],
   "source": [
    "# SORTS ALL PROCESS BY MEMORY\n",
    "ps-sort-mem"
   ]
  },
  {
   "cell_type": "code",
   "execution_count": 11,
   "id": "775ea494",
   "metadata": {},
   "outputs": [
    {
     "name": "stdout",
     "output_type": "stream",
     "text": [
      "USER         PID %CPU %MEM    VSZ   RSS TTY      STAT START   TIME COMMAND\n",
      "aveey       2229  6.2 20.2 3577184 745816 ?      Sl   21:00   5:42 /snap/firef\n",
      "aveey       1242 11.7 10.7 12336608 395904 ?     Sl   21:00  10:45 /snap/firef\n",
      "aveey       6131  5.9  8.2 25882708 304272 ?     Sl   22:07   1:25 /opt/Upwork\n",
      "aveey       4413  9.9  6.1 2575180 225088 ?      Sl   22:02   2:53 /snap/firef\n",
      "aveey       6066  1.0  4.3 4814048 159152 ?      Sl   22:07   0:14 /opt/Upwork\n",
      "aveey       5852  2.9  4.2 2542988 157080 ?      Sl   22:03   0:50 /snap/firef\n",
      "aveey       4342  0.9  3.8 2495676 141560 ?      Sl   21:59   0:17 /snap/firef\n",
      "aveey       1589  0.3  3.6 27822896 134944 ?     Sl   21:00   0:20 /snap/firef\n",
      "aveey       1490  0.0  3.0 2443800 110736 ?      Sl   21:00   0:02 /snap/firef\n",
      "root         884  2.4  2.7 682768 102832 tty1    Ssl+ 20:57   2:20 /usr/lib/xo\n",
      "aveey       1060  0.0  2.4 862472 88700 ?        Sl   20:57   0:01 /usr/bin/pc\n",
      "aveey       1064  0.1  2.4 1208352 89604 ?       Sl   20:57   0:05 /usr/bin/lx\n",
      "aveey       5890  0.1  2.4 1000048 88712 ?       Sl   22:03   0:02 /usr/bin/fe\n",
      "aveey       1339  0.0  2.2 755732 84340 ?        Sl   21:00   0:01 xfce4-termi\n",
      "aveey       4441  0.8  2.0 242720 74152 pts/0    Sl+  22:02   0:14 /usr/bin/py\n",
      "aveey       6110  0.2  1.9 286012 72180 ?        Sl   22:07   0:03 /opt/Upwork\n",
      "aveey       6182  0.0  1.8 4504348 67884 ?       Sl   22:07   0:00 /opt/Upwork\n",
      "aveey       6207  0.0  1.8 4502300 66948 ?       Sl   22:07   0:00 /opt/Upwork\n",
      "aveey       7454  0.1  1.7 2406088 62776 ?       Sl   22:29   0:00 /snap/firef\n",
      "aveey       6981  0.0  1.6 2406068 62004 ?       Sl   22:26   0:00 /snap/firef\n",
      "aveey       7011  0.0  1.6 2406088 62364 ?       Sl   22:27   0:00 /snap/firef\n",
      "aveey       6096  0.1  1.5 274836 56492 ?        Sl   22:07   0:02 /opt/Upwork\n",
      "aveey       6168  0.0  1.4 522836 55276 ?        Sl   22:07   0:00 /opt/Upwork\n",
      "aveey       7665 13.5  1.4 672896 52180 ?        Ssl  22:31   0:00 /usr/bin/py\n",
      "aveey       2439  0.0  1.3 365992 48060 ?        Sl   21:02   0:01 /snap/firef\n",
      "aveey       6068  0.0  1.2 207348 44872 ?        S    22:07   0:00 /opt/Upwork\n",
      "aveey       6069  0.0  1.2 207348 45432 ?        S    22:07   0:00 /opt/Upwork\n",
      "root         692  0.1  0.9 1243676 35764 ?       Ssl  20:57   0:05 /usr/lib/sn\n",
      "aveey       1066  0.0  0.9 576272 35560 ?        Sl   20:57   0:00 /usr/bin/lx\n",
      "aveey       1213  0.0  0.9 504144 34516 ?        Sl   20:58   0:00 /usr/bin/lx\n",
      "aveey       1464  0.0  0.9 216948 36280 ?        Sl   21:00   0:00 /snap/firef\n",
      "aveey       1079  0.0  0.8  59952 31964 ?        S    20:57   0:00 /usr/bin/py\n",
      "aveey       2450  0.0  0.8 214892 32784 ?        Sl   21:02   0:00 /snap/firef\n",
      "aveey       1215  0.0  0.7 271436 28072 ?        Sl   20:58   0:00 /usr/bin/ql\n",
      "aveey       1217  0.0  0.7 272544 27728 ?        Sl   20:58   0:01 /usr/bin/nm\n",
      "aveey        994  0.0  0.6 336624 23288 ?        Sl   20:57   0:01 lxqt-sessio\n",
      "aveey       1063  0.0  0.6 275852 25364 ?        Sl   20:57   0:00 /usr/bin/lx\n",
      "aveey       1065  0.0  0.6 410020 23564 ?        Sl   20:57   0:00 /usr/bin/lx\n"
     ]
    }
   ],
   "source": [
    "# ps-mem IS AN ALTERNATIVE OF ps-sort-mem\n",
    "ps-mem"
   ]
  },
  {
   "cell_type": "code",
   "execution_count": 12,
   "id": "6ed9a120",
   "metadata": {},
   "outputs": [],
   "source": [
    "# ERROR GENERATED FOR ps-script\n",
    "# $ ps-script\n",
    "# | bash: -v: command not found\n",
    "# | bash: -i: command not found\n",
    "# | /usr/bin/env: ‘csh’: No such file or directory"
   ]
  },
  {
   "cell_type": "code",
   "execution_count": 13,
   "id": "2e45d738",
   "metadata": {},
   "outputs": [],
   "source": [
    "# ERROR GENERATED FOR ps-all\n",
    "# $ ps-all\n",
    "# | /usr/bin/env: ‘csh’: No such file or directory\n",
    "# | bash: -i: command not found\n"
   ]
  },
  {
   "cell_type": "code",
   "execution_count": 14,
   "id": "82c5fd09",
   "metadata": {},
   "outputs": [],
   "source": [
    "function get-process-parent() { local pid=\"$1\"; if [ \"$pid\" = \"\" ]; then pid=$$; fi; ps al | perl -Ssw extract_matches.perl \"^\\d+\\s+\\d+\\s+$pid\\s+(\\d+)\"; }"
   ]
  },
  {
   "cell_type": "code",
   "execution_count": 15,
   "id": "bf36bf1a",
   "metadata": {},
   "outputs": [
    {
     "name": "stdout",
     "output_type": "stream",
     "text": [
      "F   UID     PID    PPID PRI  NI    VSZ   RSS WCHAN  STAT TTY        TIME COMMAND\n",
      "0  1000    7675    7665  20   0  11412  5604 do_wai Ss   pts/2      0:00 /usr/bin/bash --rcfile /usr/lib/python3/dist-packages/pexpect/bashrc.sh\n",
      "4  1000    7732    7675  20   0  12668  1580 -      R+   pts/2      0:00 ps al\n",
      "0  1000    7733    7675  20   0   9076  2304 pipe_r S+   pts/2      0:00 grep -E (PID|7675)\n",
      "--------------------------------------------------------------------------------\n",
      "7665\n"
     ]
    }
   ],
   "source": [
    "ps al | egrep \"(PID|$$)\"\n",
    "linebr\n",
    "# get-process-parent : return parent process-id for PID\n",
    "get-process-parent"
   ]
  },
  {
   "cell_type": "code",
   "execution_count": 16,
   "id": "c7ea3021",
   "metadata": {},
   "outputs": [],
   "source": [
    "# Make sure script appends rather than overwrites.\n",
    "# In addition, set SCRIPT_PID, so that set_xterm_title.bash can indicate within script.\n",
    "# Also, appends $ to prompt symbol so that typescript prompt searchable with strings command\n",
    "## HACK: set envionment for sake of set_xterm_title.bash (TODO check PPID for this)\n",
    "## TODO: use stack for old_PS_symbol maintenance??? (also allows for recursive invocation, such as with '$ $ $')\n",
    "## TODO: rename as my-script to avoid confusion\n",
    "function script {\n",
    "    ## THIS function is buggy!\n",
    "    # Note: set_xterm_title.bash keeps track of titles for each process, so save copies of current ones\n",
    "    local save_full=$(set-xterm-title --print-full)\n",
    "    local save_icon=$(set-xterm-title --print-icon)\n",
    "    ## DEBUG: echo \"save_full='$save_full'; save_icon='$save_icon'\"\n",
    "  \n",
    "    # Change prompt\n",
    "    local old_PS_symbol=\"$PS_symbol\"\n",
    "    export SCRIPT_PID=$$\n",
    "    # Note: the prompt change is flakey\n",
    "    reset-prompt \"$PS_symbol\\$\"\n",
    "    ## DEBUG: echo \"script: 1. PS1='$PS1' old_PS_symbol='$old_PS_symbol' PS_symbol='$new_PS_symbol'\"\n",
    "    \n",
    "    # Change xterm title to match\n",
    "    set-title-to-current-dir\n",
    "    ## DEBUG: echo \"script: 2. PS1='$PS1' old_PS_symbol='$old_PS_symbol' PS_symbol='$new_PS_symbol'\"\n",
    "    # Run command\n",
    "    command script --append \"$@\"\n",
    "    \n",
    "    # Restore prompt\n",
    "    unset SCRIPT_PID\n",
    "    reset-prompt \"$old_PS_symbol\"\n",
    "    ## DEBUG: echo \"script: 3. PS1='$PS1' old_PS_symbol='$old_PS_symbol' PS_symbol='$new_PS_symbol'\"\n",
    "    \n",
    "    # Get rid of lingering 'script' in xterm title\n",
    "    ## DEBUG: echo \"Restoring xterm title: full=$save_full save=$save_icon\"\n",
    "    set-xterm-title \"$save_full\" \"$save_icon\"\n",
    "}\n",
    "\n",
    "alias script-update='script _update-$(T).log'"
   ]
  },
  {
   "cell_type": "code",
   "execution_count": 17,
   "id": "e73cd7c1",
   "metadata": {},
   "outputs": [],
   "source": [
    "## ERROR - NEED TO SOURCE tomohara-aliases.bash FILE\n",
    "# $ script-update\n",
    "# | bash: T: command not found\n",
    "#   bash: set-xterm-title: command not found\n",
    "#   bash: set-xterm-title: command not found\n",
    "#   bash: reset-prompt: command not found\n",
    "#   bash: set-title-to-current-dir: command not found\n",
    "#   Script started, output log file is '_update-.log'.\n"
   ]
  },
  {
   "cell_type": "code",
   "execution_count": 18,
   "id": "9c38e97e",
   "metadata": {},
   "outputs": [],
   "source": [
    "# ansi-filter(filename]: wrapper around ansifilter with stdio and stdout instead of files\n",
    "# TODO: issue request for proper Unix stdin support (n.b., this function is much ado about nothing)\n",
    "function ansi-filter {\n",
    "    local input_file=\"$1\"\n",
    "    if [ \"$input_file\" = \"\" ]; then\n",
    "        input_file=\"$TMP/ansi-filter-in-$$.list\"\n",
    "        cat > \"$input_file\"\n",
    "    fi\n",
    "    local output_file=\"$TMP/ansi-filter-out-$$.list\";\n",
    "    ansifilter --input=\"$input_file\" --output=\"$output_file\"\n",
    "    cat \"$output_file\"\n",
    "}"
   ]
  },
  {
   "cell_type": "code",
   "execution_count": 19,
   "id": "079b0855",
   "metadata": {},
   "outputs": [],
   "source": [
    "## EXAMPLE FOR ansi-filter\n",
    "\n",
    "# ERROR: COMMAND NOT FOUND\n",
    "\n",
    "# $ echo \"How to use the ansi-filter?\" > ansi-filter-test.txt\n",
    "# $ ansi-filter ansi-filter-test.txt\n",
    "# | bash: ansifilter: command not found\n",
    "# | cat: /tmp/test-unix/ansi-filter-out-7384.list: No such file or directory"
   ]
  },
  {
   "cell_type": "code",
   "execution_count": 20,
   "id": "92bb8407",
   "metadata": {},
   "outputs": [],
   "source": [
    "# pause-for-enter: EXITS AFTER PRESSING ENTER, WITH A MESSAGE\n",
    "function pause-for-enter () {\n",
    "    local message=\"$1\"\n",
    "    if [ \"$message\" = \"\" ]; then message=\"Press enter to continue\"; fi\n",
    "    read -p \"$message \"\n",
    "}"
   ]
  },
  {
   "cell_type": "code",
   "execution_count": 21,
   "id": "1e7238c8",
   "metadata": {},
   "outputs": [],
   "source": [
    "## DOESN'T WORK FOR JUPYTER, WORKS FOR TERMINAL\n",
    "\n",
    "# $ pause-for-enter\n",
    "# | Press enter to continue \n",
    "## (program terminates after pressing Enter Key)"
   ]
  },
  {
   "cell_type": "code",
   "execution_count": null,
   "id": "7762153f",
   "metadata": {},
   "outputs": [],
   "source": []
  },
  {
   "cell_type": "code",
   "execution_count": null,
   "id": "0d1949fc",
   "metadata": {},
   "outputs": [],
   "source": []
  }
 ],
 "metadata": {
  "kernelspec": {
   "display_name": "Bash",
   "language": "bash",
   "name": "bash"
  },
  "language_info": {
   "codemirror_mode": "shell",
   "file_extension": ".sh",
   "mimetype": "text/x-sh",
   "name": "bash"
  }
 },
 "nbformat": 4,
 "nbformat_minor": 5
}
