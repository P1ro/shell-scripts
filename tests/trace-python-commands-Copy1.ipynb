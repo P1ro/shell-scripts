{
 "cells": [
  {
   "cell_type": "code",
   "execution_count": 1,
   "id": "65d43538",
   "metadata": {},
   "outputs": [
    {
     "name": "stdout",
     "output_type": "stream",
     "text": [
      "[PEXP\\[\\]ECT_PROMPT>\n"
     ]
    }
   ],
   "source": [
    "## TEST:  Make sure simple prompt used (e.g., no escapes that might contaminate output)\n",
    "## PS1=\"$ \"\n",
    "## TODO: PS1=\"> \"\"\n",
    "## NOTE: The Jupyter bash kernel requires that PS1 not be modified as they customize it. \n",
    "echo $PS1"
   ]
  },
  {
   "cell_type": "code",
   "execution_count": 2,
   "id": "0ff8f157",
   "metadata": {},
   "outputs": [
    {
     "name": "stdout",
     "output_type": "stream",
     "text": [
      "11\n"
     ]
    }
   ],
   "source": [
    "# Setting a temp directory for tests\n",
    "TMP=/tmp/test-py-commands\n",
    "## NOTE: Source it directly from the ./tests directory.\n",
    "BIN_DIR=$PWD/..\n",
    "alias | wc -l"
   ]
  },
  {
   "cell_type": "code",
   "execution_count": 3,
   "id": "ab954c7f",
   "metadata": {},
   "outputs": [
    {
     "name": "stdout",
     "output_type": "stream",
     "text": [
      "/tmp/test-py-commands/test-3443\n"
     ]
    }
   ],
   "source": [
    "## NOTE: For reproducability, the directory name needs to be fixed\n",
    "## In place of $$, use a psuedo random number (e,g., 3443)\n",
    "## *** All output from one run to the next needs to be the same ***\n",
    "\n",
    "## temp_dir=$TMP/test-$$\n",
    "temp_dir=$TMP/test-3443\n",
    "\n",
    "mkdir -p \"$temp_dir\"\n",
    "# TODO: /bin/rm -rvf \"$temp_dir\"\n",
    "cd \"$temp_dir\"\n",
    "pwd\n",
    "\n",
    "#ALIAS FOR PRINTING SEPERATION LINES (FOR JUPYTER)\n",
    "alias linebr=\"printf '%*s\\n' \"${COLUMNS:-$(tput cols)}\" '' | tr ' ' -\""
   ]
  },
  {
   "cell_type": "code",
   "execution_count": 4,
   "id": "7762153f",
   "metadata": {},
   "outputs": [],
   "source": [
    "export PYTHON_CMD=\"/usr/bin/time python -u\"\n",
    "export PYTHON=\"$NICE $PYTHON_CMD\"\n",
    "export PYTHONPATH=\"$HOME/python:$PYTHONPATH\""
   ]
  },
  {
   "cell_type": "code",
   "execution_count": 5,
   "id": "0d1949fc",
   "metadata": {},
   "outputs": [],
   "source": [
    "## add-python-path(pkg-dir): add PKG-DIR to PATH and PARENT to PYTHONPATH\n",
    "## HACK: make sure Mezcla/mezcla resolves before python/mezcla\n",
    "## OLD: export PYTHONPATH=\"$HOME/python/Mezcla:$PYTHONPATH\"\n",
    "function add-python-path () {\n",
    "    local package_path=\"$1\"\n",
    "    local parent_path=$(realpath \"$package_path/..\")\n",
    "    # add package to path (e.g., $HOME/python/Mezcla/mezcla)\n",
    "    prepend-path \"$package_path\"\n",
    "    # add parent to python-path spec (e.g., $HOME/python/Mezcla)\n",
    "    export PYTHONPATH=\"$parent_path:$PYTHONPATH\"\n",
    "}\n",
    "# EX: mezcla-devel; which system.py | grep -i Mezcla-main => \"\"\n",
    "# note: mezcla-devel should be stable version of mezcla-tom\n",
    "## OLD: alias mezcla-devel='add-python-path $HOME/programs/python/mezcla-tom/mezcla'\n",
    "alias mezcla-devel='add-python-path $HOME/python/Mezcla/mezcla'\n",
    "alias mezcla-main='add-python-path $HOME/python/Mezcla-main/mezcla'\n",
    "alias mezcla-tom='add-python-path $HOME/python/Mezcla-tom/mezcla'\n",
    "# Add mezcla-devel unless another version in path\n",
    "if [[ ! \"$PATH\" =~ mezcla ]]; then\n",
    "    ## OLD: mezcla-devel\n",
    "    ## TODO: echo \"Warning: mezcla not in PATH\"\n",
    "    true\n",
    "fi"
   ]
  },
  {
   "cell_type": "code",
   "execution_count": 6,
   "id": "9117cb3e",
   "metadata": {},
   "outputs": [],
   "source": [
    "## FUNCTIONS REQUIRED FOR SMOOTH RUNNING OF THE TESTS\n",
    "function ps-all () { \n",
    "    local pattern=\"$1\";\n",
    "    local pager=cat;\n",
    "    if [ \"$pattern\" = \"\" ]; then \n",
    "        pattern=\".\"; \n",
    "        pager=$PAGER\n",
    "    fi;\n",
    "    ps_mine.sh --all | $EGREP -i \"((^USER)|($pattern))\" | $pager;\n",
    "    }\n",
    "# Path settings\n",
    "# TODO: define a function for removing duplicates from the PATH while\n",
    "# preserving the order\n",
    "function show-path-dir () { (echo \"${1}:\"; printenv \"$1\" | perl -pe \"s/:/\\n/g;\") | $PAGER; }\n",
    "alias show-path='show-path-dir PATH'\n",
    "# append-path(path): appends PATH to environment variable unless already there\n",
    "## TODO: function in-path { local path=$(tr \":\" \"\\n\" | $GREP \"^$1$$\"); return ($path != \"\"); }\n",
    "# TODO: add force argument to ensure last (or first)\n",
    "function append-path () { if [[ ! (($PATH =~ ^$1:) || ($PATH =~ :$1:) || ($PATH =~ :$1$)) ]]; then export PATH=\"${PATH}:$1\"; fi }\n",
    "function prepend-path () { if [[ ! (($PATH =~ ^$1:) || ($PATH =~ :$1:) || ($PATH =~ :$1$)) ]]; then export PATH=\"$1:${PATH}\"; fi }\n",
    "# TODO: rework append-/prepend-path and python variants via generic helper\n",
    "function append-python-path () { export PYTHONPATH=${PYTHONPATH}:\"$1\"; }\n",
    "function prepend-python-path () { export PYTHONPATH=\"$1\":${PYTHONPATH}; }\n",
    " "
   ]
  },
  {
   "cell_type": "code",
   "execution_count": 7,
   "id": "7ec729df",
   "metadata": {},
   "outputs": [],
   "source": [
    "# # add-python-path $temp_dir\n",
    "add-python-path $temp_dir\n",
    "alias ps-python-full='ps-all python'\n",
    "# note: excludes ipython and known system-related python scripts\n",
    "alias ps-python='ps-python-full | $EGREP -iv \"(screenlet|ipython|egrep|update-manager|software-properties|networkd-dispatcher)\"'\n",
    "alias show-python-path='show-path-dir PYTHONPATH'"
   ]
  },
  {
   "cell_type": "code",
   "execution_count": 8,
   "id": "000a2cc1",
   "metadata": {},
   "outputs": [],
   "source": [
    "## ERROR 1 - process ID list syntax error\n",
    "\n",
    "# $ ps-python-full\n",
    "# | error: process ID list syntax error\n",
    "# | \n",
    "# | Usage:\n",
    "# |  ps [options]\n",
    "# | \n",
    "# |  Try 'ps --help <simple|list|output|threads|misc|all>'\n",
    "# |   or 'ps --help <s|l|o|t|m|a>'\n",
    "# |  for additional help text.\n",
    "# | \n",
    "# | For more details see ps(1)."
   ]
  },
  {
   "cell_type": "code",
   "execution_count": 9,
   "id": "81224e9f",
   "metadata": {},
   "outputs": [],
   "source": [
    "## ERROR 2 - bash : command not found and process ID list syntax error\n",
    "# $ ps-python\n",
    "# | bash: -iv: command not found\n",
    "# | error: process ID list syntax error\n",
    "# | \n",
    "# | Usage:\n",
    "# |  ps [options]\n",
    "# | \n",
    "# |  Try 'ps --help <simple|list|output|threads|misc|all>'\n",
    "# |   or 'ps --help <s|l|o|t|m|a>'\n",
    "# |  for additional help text.\n",
    "# | \n",
    "# | For more details see ps(1).\n"
   ]
  },
  {
   "cell_type": "code",
   "execution_count": 10,
   "id": "6c5b8d28",
   "metadata": {},
   "outputs": [
    {
     "name": "stdout",
     "output_type": "stream",
     "text": [
      "PYTHONPATH:\n",
      "/tmp/test-py-commands\n",
      "/home/aveey/python\n",
      "\n"
     ]
    }
   ],
   "source": [
    "## show-python-path DISPLAYS ALL THE AVAILABLE PATHS OF PYTHON\n",
    "show-python-path"
   ]
  },
  {
   "cell_type": "code",
   "execution_count": 11,
   "id": "ff01fc98",
   "metadata": {},
   "outputs": [],
   "source": [
    "function python-lint-work() { python-lint-full \"$@\" 2>&1 | $EGREP -v '\\((bad-continuation|bad-option-value|fixme|invalid-name|locally-disabled|too-few-public-methods|too-many-\\S+|trailing-whitespace|star-args|unnecessary-pass)\\)' | $EGREP -v '^(([A-Z]:[0-9]+)|(Your code has been rated)|(No config file found)|(\\-\\-\\-\\-\\-))' | $PAGER; }\n",
    "# TODO: rename as python-lint-tpo for clarity (and make python-lint as alias for it)\n",
    "function python-lint() { python-lint-work \"$@\" 2>&1 | $EGREP -v '(Exactly one space required)|\\((bad-continuation|bad-whitespace|bad-indentation|bare-except|c-extension-no-member|consider-using-enumerate|consider-using-with|global-statement|global-variable-not-assigned|keyword-arg-before-vararg|len-as-condition|line-too-long|logging-not-lazy|misplaced-comparison-constant|missing-final-newline|redefined-variable-type|redundant-keyword-arg|superfluous-parens|too-many-arguments|too-many-instance-attributes|trailing-newlines|useless-\\S+|wrong-import-order|wrong-import-position)\\)' | $PAGER; }\n"
   ]
  },
  {
   "cell_type": "code",
   "execution_count": 12,
   "id": "be24ab27",
   "metadata": {
    "scrolled": true
   },
   "outputs": [],
   "source": [
    "## ERROR GENERATED : -v COMMAND NOT FOUND\n",
    "# $ python-lint-work $BIN_DIR/tests/batspp.py\n",
    "# | bash: -v: command not found"
   ]
  },
  {
   "cell_type": "code",
   "execution_count": 13,
   "id": "cab9db0c",
   "metadata": {},
   "outputs": [],
   "source": [
    "## ERROR GENERATED : -v COMMAND NOT FOUND\n",
    "# $ python-lint $BIN_DIR/tests/batspp.py\n",
    "# | bash: -v: command not found"
   ]
  },
  {
   "cell_type": "code",
   "execution_count": 14,
   "id": "486be746",
   "metadata": {},
   "outputs": [],
   "source": [
    "# (REQUIRED BY run-python-lint-batched)\n",
    "\n",
    "function downcase-stdin { perl -pe \"use open ':std', ':encoding(UTF-8)'; s/.*/\\L$&/;\"; }\n",
    "function downcase-text() { echo \"$@\" | downcase-stdin; }\n",
    "# todays-date(): outputs date in format DDmmmYY (e.g., 22Apr20)\n",
    "## OLD: function todays-date() { date '+%d%b%y' | perl -pe 's/.*/\\L$&/;'; }\n",
    "## TODO: drop leading digits in day of month\n",
    "## NOTE: keep in synch with common.perl get_file_ddmmmyy and .emacs edit-adhoc-notes-file\n",
    "function todays-date() { date '+%d%b%y' | downcase-stdin; }\n",
    "\n",
    "\n",
    "# run-python-lint-batched([file_spec=\"*.py\"]: Run python-lint in batch mode over\n",
    "# files in FILE_SPEC, placing results in pylint/<today>.\n",
    "#\n",
    "function get-python-lint-dir () {\n",
    "    local python_version_major=$(pylint --version 2>&1 | extract_matches.perl \"Python (\\d)\")\n",
    "    local affix=\"py${python_version_major}\"\n",
    "    local out_dir=\"_pylint/$(todays-date)-$affix\"\n",
    "    echo \"$out_dir\"\n",
    "}\n",
    "#\n",
    "function run-python-lint-batched () {\n",
    "    # TODO: support files with embedded spaces\n",
    "    local file_spec=\"$@\"\n",
    "    if [ \"$file_spec\" = \"\" ]; then file_spec=\"*.py\"; fi\n",
    "\n",
    "    # Create output directory if needed\n",
    "    local out_dir=$(get-python-lint-dir)\n",
    "    mkdir -p \"$out_dir\"\n",
    "\n",
    "    # Run pylint and pipe top section into less\n",
    "    (for f in $($LS $file_spec); do\n",
    "         # HACK: uses basename of parent prefix if invoked with path\n",
    "         local b=$(basename \"$f\")\n",
    "         local pre=\"\"\n",
    "\t # Note: uses directory name as prefix if file not in current dir\n",
    "         if [[ $f =~ / ]]; then pre=\"$(basename $(dirname \"$f\"))-\"; fi\n",
    "         DEBUG_LEVEL=5 python-lint \"$f\" >| \"$out_dir/$pre$b\".log 2>&1\n",
    "         head \"$out_dir/$pre$b\".log\n",
    "     done) >| \"$out_dir/summary.log\"\n",
    "    less -p '^\\** Module' \"$out_dir/summary.log\";\n",
    "}"
   ]
  },
  {
   "cell_type": "code",
   "execution_count": 15,
   "id": "207d98f0",
   "metadata": {},
   "outputs": [],
   "source": [
    "# ERROR: Pattern not found  (press RETURN)\n",
    "# run-python-lint-batched ./print.py "
   ]
  },
  {
   "cell_type": "code",
   "execution_count": 16,
   "id": "3fccc7ab",
   "metadata": {},
   "outputs": [
    {
     "name": "stdout",
     "output_type": "stream",
     "text": [
      "matches /home/aveey/.local/lib/python3.10/site-packages/mezcla/__init__.py\n",
      "--------------------------------------------------------------------------------\n",
      "matches /home/aveey/.local/lib/python3.10/site-packages/mezcla/__init__.py\n",
      "matches /home/aveey/.local/lib/python3.10/site-packages/mezcla/debug.py\n",
      "matches /home/aveey/.local/lib/python3.10/site-packages/mezcla/sys_version_info_hack.py\n",
      "matches /home/aveey/.local/lib/python3.10/site-packages/mezcla/glue_helpers.py\n",
      "matches /home/aveey/.local/lib/python3.10/site-packages/mezcla/system.py\n",
      "matches /home/aveey/.local/lib/python3.10/site-packages/mezcla/tpo_common.py\n",
      "--------------------------------------------------------------------------------\n",
      "# /home/aveey/.local/lib/python3.10/site-packages/\u001b[01;31m\u001b[Kmezcla\u001b[m\u001b[K/__pycache__/__init__.cpython-310.pyc matches /home/aveey/.local/lib/python3.10/site-packages/\u001b[01;31m\u001b[Kmezcla\u001b[m\u001b[K/__init__.py\n",
      "# code object from '/home/aveey/.local/lib/python3.10/site-packages/\u001b[01;31m\u001b[Kmezcla\u001b[m\u001b[K/__pycache__/__init__.cpython-310.pyc'\n",
      "# /home/aveey/.local/lib/python3.10/site-packages/\u001b[01;31m\u001b[Kmezcla\u001b[m\u001b[K/__pycache__/debug.cpython-310.pyc matches /home/aveey/.local/lib/python3.10/site-packages/\u001b[01;31m\u001b[Kmezcla\u001b[m\u001b[K/debug.py\n",
      "# code object from '/home/aveey/.local/lib/python3.10/site-packages/\u001b[01;31m\u001b[Kmezcla\u001b[m\u001b[K/__pycache__/debug.cpython-310.pyc'\n",
      "# /home/aveey/.local/lib/python3.10/site-packages/\u001b[01;31m\u001b[Kmezcla\u001b[m\u001b[K/__pycache__/sys_version_info_hack.cpython-310.pyc matches /home/aveey/.local/lib/python3.10/site-packages/\u001b[01;31m\u001b[Kmezcla\u001b[m\u001b[K/sys_version_info_hack.py\n",
      "# code object from '/home/aveey/.local/lib/python3.10/site-packages/\u001b[01;31m\u001b[Kmezcla\u001b[m\u001b[K/__pycache__/sys_version_info_hack.cpython-310.pyc'\n",
      "import '\u001b[01;31m\u001b[Kmezcla\u001b[m\u001b[K.sys_version_info_hack' # <_frozen_importlib_external.SourceFileLoader object at 0x7f157fc5fee0>\n",
      "import '\u001b[01;31m\u001b[Kmezcla\u001b[m\u001b[K.debug' # <_frozen_importlib_external.SourceFileLoader object at 0x7f1580093ca0>\n",
      "# /home/aveey/.local/lib/python3.10/site-packages/\u001b[01;31m\u001b[Kmezcla\u001b[m\u001b[K/__pycache__/glue_helpers.cpython-310.pyc matches /home/aveey/.local/lib/python3.10/site-packages/\u001b[01;31m\u001b[Kmezcla\u001b[m\u001b[K/glue_helpers.py\n",
      "# code object from '/home/aveey/.local/lib/python3.10/site-packages/\u001b[01;31m\u001b[Kmezcla\u001b[m\u001b[K/__pycache__/glue_helpers.cpython-310.pyc'\n",
      "# /home/aveey/.local/lib/python3.10/site-packages/\u001b[01;31m\u001b[Kmezcla\u001b[m\u001b[K/__pycache__/system.cpython-310.pyc matches /home/aveey/.local/lib/python3.10/site-packages/\u001b[01;31m\u001b[Kmezcla\u001b[m\u001b[K/system.py\n",
      "# code object from '/home/aveey/.local/lib/python3.10/site-packages/\u001b[01;31m\u001b[Kmezcla\u001b[m\u001b[K/__pycache__/system.cpython-310.pyc'\n",
      "import '\u001b[01;31m\u001b[Kmezcla\u001b[m\u001b[K.system' # <_frozen_importlib_external.SourceFileLoader object at 0x7f157fc558d0>\n",
      "# /home/aveey/.local/lib/python3.10/site-packages/\u001b[01;31m\u001b[Kmezcla\u001b[m\u001b[K/__pycache__/tpo_common.cpython-310.pyc matches /home/aveey/.local/lib/python3.10/site-packages/\u001b[01;31m\u001b[Kmezcla\u001b[m\u001b[K/tpo_common.py\n",
      "# code object from '/home/aveey/.local/lib/python3.10/site-packages/\u001b[01;31m\u001b[Kmezcla\u001b[m\u001b[K/__pycache__/tpo_common.cpython-310.pyc'\n",
      "import '\u001b[01;31m\u001b[Kmezcla\u001b[m\u001b[K.tpo_common' # <_frozen_importlib_external.SourceFileLoader object at 0x7f157fc57e80>\n",
      "import '\u001b[01;31m\u001b[Kmezcla\u001b[m\u001b[K.glue_helpers' # <_frozen_importlib_external.SourceFileLoader object at 0x7f157fc5faf0>\n",
      "import '\u001b[01;31m\u001b[Kmezcla\u001b[m\u001b[K' # <_frozen_importlib_external.SourceFileLoader object at 0x7f1580093e50>\n",
      "# cleanup[2] removing \u001b[01;31m\u001b[Kmezcla\u001b[m\u001b[K.sys_version_info_hack\n",
      "# cleanup[2] removing \u001b[01;31m\u001b[Kmezcla\u001b[m\u001b[K.debug\n",
      "# cleanup[2] removing \u001b[01;31m\u001b[Kmezcla\u001b[m\u001b[K.system\n",
      "# cleanup[2] removing \u001b[01;31m\u001b[Kmezcla\u001b[m\u001b[K.tpo_common\n",
      "# cleanup[2] removing \u001b[01;31m\u001b[Kmezcla\u001b[m\u001b[K.glue_helpers\n",
      "# cleanup[2] removing \u001b[01;31m\u001b[Kmezcla\u001b[m\u001b[K\n",
      "# destroy \u001b[01;31m\u001b[Kmezcla\u001b[m\u001b[K.sys_version_info_hack\n",
      "# destroy \u001b[01;31m\u001b[Kmezcla\u001b[m\u001b[K.glue_helpers\n",
      "# destroy \u001b[01;31m\u001b[Kmezcla\u001b[m\u001b[K\n",
      "# destroy \u001b[01;31m\u001b[Kmezcla\u001b[m\u001b[K.system\n",
      "# destroy \u001b[01;31m\u001b[Kmezcla\u001b[m\u001b[K.tpo_common\n",
      "# destroy \u001b[01;31m\u001b[Kmezcla\u001b[m\u001b[K.debug\n"
     ]
    }
   ],
   "source": [
    "# python-import-path(module): find path for package directory of MODULE\n",
    "# Note: this checks output via module initialization output shown with python -v\n",
    "# ex: /usr/local/misc/programs/anaconda3/lib/python3.8/site-packages/sklearn/__pycache__/__init__.cpython-38.pyc matches /usr/local/misc/programs/anaconda3/lib/python3.8/site-packages/sklearn/__init__.py\n",
    "\n",
    "function python-import-path-all() { local module=\"$1\"; python -u -v -c \"import $module\" 2>&1; }\n",
    "function python-import-path-full() { local module=\"$1\"; python-import-path-all \"$@\" | extract_matches.perl \"((matches (.*\\W$module[^/]*[/\\.][^/]*))|ModuleNotFoundError)\"; }\n",
    "function python-import-path() { python-import-path-full \"$@\" | head -1; }\n",
    "\n",
    "# mezcla MODULE IS USED FOR TEST\n",
    "\n",
    "python-import-path 'mezcla'\n",
    "linebr\n",
    "python-import-path-full 'mezcla'\n",
    "linebr\n",
    "python-import-path-all 'mezcla' | grep 'mezcla'"
   ]
  },
  {
   "cell_type": "code",
   "execution_count": 17,
   "id": "61b87ac0",
   "metadata": {},
   "outputs": [
    {
     "name": "stdout",
     "output_type": "stream",
     "text": [
      "anyio==3.6.1\n",
      "appdirs==1.4.4\n",
      "apturl==0.5.2\n",
      "argon2-cffi==21.3.0\n",
      "argon2-cffi-bindings==21.2.0\n",
      "astroid==2.9.3\n",
      "asttokens==2.0.8\n",
      "attrs==22.1.0\n",
      "ayatana-settings==21.1.28\n",
      "Babel==2.10.3\n",
      "backcall==0.2.0\n",
      "bash_kernel==0.8.0\n",
      "batspp==2.1.4\n",
      "beautifulsoup4==4.11.1\n",
      "beniget==0.4.1\n",
      "bleach==5.0.1\n",
      "blinker==1.4\n",
      "Brlapi==0.8.3\n",
      "Brotli==1.0.9\n",
      "cajarename==21.11.24\n",
      "certifi==2022.9.14\n",
      "cffi==1.15.1\n",
      "chardet==4.0.0\n",
      "charset-normalizer==2.1.1\n",
      "click==8.0.3\n",
      "colorama==0.4.4\n",
      "command-not-found==0.3\n",
      "cryptography==3.4.8\n",
      "cupshelpers==1.0\n",
      "cycler==0.11.0\n",
      "dbus-python==1.2.18\n",
      "debugpy==1.6.3\n",
      "decorator==5.1.1\n",
      "defer==1.0.6\n",
      "defusedxml==0.7.1\n",
      "distro==1.7.0\n",
      "distro-info===1.1build1\n",
      "entrypoints==0.4\n",
      "executing==1.0.0\n",
      "fastjsonschema==2.16.1\n",
      "folder-color-caja==0.0.86\n",
      "folder-color-common==0.0.86\n",
      "fonttools==4.29.1\n",
      "fs==2.4.12\n",
      "gast==0.5.2\n",
      "gpg===1.16.0-unknown\n",
      "greenlet==1.1.2\n",
      "html5lib==1.1\n",
      "httplib2==0.20.2\n",
      "idna==3.4\n",
      "importlib-metadata==4.6.4\n",
      "ipykernel==6.15.3\n",
      "ipython==8.5.0\n",
      "ipython_genutils==0.2.0\n",
      "ipywidgets==6.0.0\n",
      "isort==5.6.4\n",
      "jedi==0.18.1\n",
      "jeepney==0.7.1\n",
      "Jinja2==3.1.2\n",
      "json5==0.9.10\n",
      "jsonschema==4.16.0\n",
      "jupyter-core==4.11.1\n",
      "jupyter-server==1.18.1\n",
      "jupyter_client==7.3.5\n",
      "jupyterlab==3.4.7\n",
      "jupyterlab-pygments==0.2.2\n",
      "jupyterlab_server==2.15.1\n",
      "keyring==23.5.0\n",
      "kiwisolver==1.3.2\n",
      "language-selector==0.1\n",
      "launchpadlib==1.10.16\n",
      "lazr.restfulclient==0.14.4\n",
      "lazr.uri==1.0.6\n",
      "lazy-object-proxy==0.0.0\n",
      "logilab-common==1.8.2\n",
      "louis==3.20.0\n",
      "lxml==4.9.1\n",
      "lz4==3.1.3+dfsg\n",
      "Magnus==1.0.3\n",
      "MarkupSafe==2.1.1\n",
      "mate-hud==22.4.4\n",
      "mate-tweak==22.4.8\n",
      "matplotlib==3.5.1\n",
      "matplotlib-inline==0.1.6\n",
      "mccabe==0.6.1\n",
      "mercurial==6.1.1\n",
      "mezcla==1.3.1\n",
      "mistune==2.0.4\n",
      "more-itertools==8.10.0\n",
      "mpmath==0.0.0\n",
      "msgpack==1.0.3\n",
      "mypy-extensions==0.4.3\n",
      "nbclassic==0.4.3\n",
      "nbclient==0.6.8\n",
      "nbconvert==7.0.0\n",
      "nbformat==5.5.0\n",
      "nest-asyncio==1.5.5\n",
      "netifaces==0.11.0\n",
      "notebook==6.4.12\n",
      "notebook-shim==0.1.0\n",
      "numpy==1.21.5\n",
      "oauthlib==3.2.0\n",
      "olefile==0.46\n",
      "onboard==1.4.1\n",
      "packaging==21.3\n",
      "pandas==1.5.0\n",
      "pandocfilters==1.5.0\n",
      "parso==0.8.3\n",
      "pexpect==4.8.0\n",
      "pickleshare==0.7.5\n",
      "Pillow==9.0.1\n",
      "platformdirs==2.5.1\n",
      "ply==3.11\n",
      "prometheus-client==0.14.1\n",
      "prompt-toolkit==3.0.31\n",
      "psutil==5.9.0\n",
      "ptyprocess==0.7.0\n",
      "pulsemixer==1.5.1\n",
      "pure-eval==0.2.2\n",
      "py==1.10.0\n",
      "pycairo==1.20.1\n",
      "pycparser==2.21\n",
      "pycups==2.0.1\n",
      "Pygments==2.13.0\n",
      "PyGObject==3.42.1\n",
      "PyJWT==2.3.0\n",
      "pylint==2.12.2\n",
      "pynvim==0.4.2\n",
      "pyparsing==2.4.7\n",
      "pyrsistent==0.18.1\n",
      "python-apt==2.3.0+ubuntu2.1\n",
      "python-dateutil==2.8.2\n",
      "python-debian===0.1.43ubuntu1\n",
      "python-xlib==0.29\n",
      "pythran==0.10.0\n",
      "pytz==2022.2.1\n",
      "pyxdg==0.27\n",
      "PyYAML==5.4.1\n",
      "pyzmq==24.0.0\n",
      "reportlab==3.6.8\n",
      "requests==2.28.1\n",
      "scipy==1.8.0\n",
      "SecretStorage==3.3.1\n",
      "Send2Trash==1.8.0\n",
      "setproctitle==1.2.2\n",
      "six==1.12.0\n",
      "sniffio==1.3.0\n",
      "soupsieve==2.3.2.post1\n",
      "stack-data==0.5.0\n",
      "sympy==1.9\n",
      "systemd-python==234\n",
      "terminado==0.15.0\n",
      "testpath==0.5.0\n",
      "tinycss2==1.1.1\n",
      "toml==0.10.2\n",
      "tomli==2.0.1\n",
      "tornado==6.2\n",
      "traitlets==5.4.0\n",
      "typing-extensions==3.10.0.2\n",
      "ubuntu-advantage-tools==27.10\n",
      "ubuntu-drivers-common==0.0.0\n",
      "ufoLib2==0.13.1\n",
      "ufw==0.36.1\n",
      "unattended-upgrades==0.1\n",
      "unicodedata2==14.0.0\n",
      "urllib3==1.26.12\n",
      "wadllib==1.3.6\n",
      "wcwidth==0.2.5\n",
      "webencodings==0.5.1\n",
      "websocket-client==1.4.1\n",
      "widgetsnbextension==2.0.0\n",
      "wrapt==1.13.3\n",
      "xdg==5\n",
      "xkit==0.0.0\n",
      "zipp==1.0.0\n"
     ]
    }
   ],
   "source": [
    "# RETURNS A LIST OF PYTHON MODULES\n",
    "rm -rf ./*\n",
    "pip3 freeze"
   ]
  },
  {
   "cell_type": "code",
   "execution_count": 18,
   "id": "88b32c36",
   "metadata": {},
   "outputs": [
    {
     "name": "stdout",
     "output_type": "stream",
     "text": [
      "1.3.1\n",
      "--------------------------------------------------------------------------------\n",
      "1.3.1\n",
      "--------------------------------------------------------------------------------\n",
      "['PYTHON3_PLUS', 'TL', '__VERSION__', '__all__', '__builtins__', '__cached__', '__doc__', '__file__', '__loader__', '__name__', '__package__', '__path__', '__spec__', '__version__', 'debug', 'gh', 'glue_helpers', 'mezcla', 'sys', 'sys_version_info_hack', 'system', 'tpo_common']\n",
      "--------------------------------------------------------------------------------\n"
     ]
    }
   ],
   "source": [
    "# note: gotta hate python!\n",
    "function python-module-version-full { local module=\"$1\"; python -c \"import $module; print([v for v in [getattr($module, a, '') for a in '__VERSION__ VERSION __version__ version'.split()] if v][0])\"; }\n",
    "# TODO: check-error if no value returned\n",
    "function python-module-version { python-module-version-full \"$@\" 2> /dev/null; }\n",
    "function python-package-members() { local package=\"$1\"; python -c \"import $package; print(dir($package));\"; }\n",
    "#\n",
    "alias python-setup-install='log=setup.log;  rename-with-file-date $log;  uname -a > $log;  python setup.py install --record installed-files.list >> $log 2>&1;  ltc $log'\n",
    "# TODO: add -v (the xargs usage seems to block it)\n",
    "alias python-uninstall-setup='cat installed-files.list | xargs /bin/rm -vi; rename_files.perl -regex ^ un installed-files.list'\n",
    "\n",
    "# MODULE USED: mezcla\n",
    "python-module-version-full mezcla\n",
    "linebr\n",
    "python-module-version mezcla\n",
    "linebr\n",
    "python-package-members mezcla\n",
    "linebr"
   ]
  },
  {
   "cell_type": "code",
   "execution_count": 19,
   "id": "f12d1371",
   "metadata": {},
   "outputs": [],
   "source": [
    "## rename-with-file-date REQUIRED\n",
    "function rename-with-file-date() {\n",
    "    ## DEBUG: set -o xtrace\n",
    "    local f new_f\n",
    "    local move_command=\"move\"\n",
    "    if [ \"$1\" = \"--copy\" ]; then\n",
    "        ## TODO: move_command=\"copy\"\n",
    "        move_command=\"command cp --interactive --verbose --preserve\"\n",
    "        shift\n",
    "    fi\n",
    "    for f in \"$@\"; do\n",
    "        ## DEBUG: echo \"f=$f\"\n",
    "        if [ -e \"$f\" ]; then\n",
    "           new_f=$(get-free-filename \"$f\".$(date --reference=\"$f\" '+%d%b%y') \".\")\n",
    "           ## DEBUG: echo\n",
    "           eval \"$move_command\" \"$f\" \"$new_f\";\n",
    "        fi\n",
    "    done;\n",
    "    ## DEBUG: set - -o xtrace\n",
    "}\n",
    "\n",
    "function get-free-filename() {\n",
    "    local base=\"$1\"\n",
    "    local sep=\"$2\"\n",
    "    local L=1\n",
    "    local filename=\"$base\"\n",
    "    ## DEBUG: local -p\n",
    "    while [ -e \"$filename\" ]; do\n",
    "        let L++\n",
    "        filename=\"$base$sep$L\"\n",
    "    done;\n",
    "    ## DEBUG: local -p\n",
    "    echo \"$filename\"\n",
    "}\n",
    "\n",
    "alias move='mv'\n",
    "export PAGER=less\n",
    "export PAGER_CHOPPED=\"less -S\"\n",
    "export PAGER_NOEXIT=\"less -+F\"\n",
    "function zless () { zcat \"$@\" | $PAGER; }\n",
    "# \n",
    "# zhead(file, head-opts)\n",
    "function zhead () {\n",
    "    local file=\"$1\"\n",
    "    shift\n",
    "    zcat \"$file\" | head \"$@\"\n",
    "}\n",
    "alias less-='$PAGER_NOEXIT'\n",
    "alias less-clipped='$PAGER_NOEXIT -S'\n",
    "alias less-tail='$PAGER_NOEXIT +G'\n",
    "alias less-tail-clipped='$PAGER_NOEXIT +G -S'\n",
    "alias ltc=less-tail-clipped\n"
   ]
  },
  {
   "cell_type": "code",
   "execution_count": 20,
   "id": "6e4b2871",
   "metadata": {},
   "outputs": [],
   "source": [
    "## REQUIRES setup.py (TBC)\n",
    "\n",
    "# python-setup-install\n",
    "# linebr\n",
    "# python-uninstall-setup"
   ]
  },
  {
   "cell_type": "code",
   "execution_count": 21,
   "id": "f8812332",
   "metadata": {},
   "outputs": [
    {
     "name": "stdout",
     "output_type": "stream",
     "text": [
      "/home/aveey/bin/set_xterm_title.bash: line 239: /_set_xterm_title.32143.full.list: Permission denied\n",
      "/home/aveey/bin/set_xterm_title.bash: line 240: /_set_xterm_title.32143.icon.list: Permission denied\n",
      "\u001b]1;ipython [/tmp/test-py-commands/test-3443]\u0007\u001b]2;ipython [/tmp/test-py-commands/test-3443]\u00078.5.0\n",
      "--------------------------------------------------------------------------------\n",
      " --- modulename: batspp_report, funcname: <module>\n",
      "batspp_report.py(5): \"\"\" SELECTS AN IPYNB FILE,\n",
      "batspp_report.py(11): import os\n",
      "batspp_report.py(13): TEST_PATH = \"./\"\n",
      "batspp_report.py(14): IPYNB_EXTENSION = \".ipynb\"\n",
      "batspp_report.py(15): BATSPP_EXTENSION = \".batspp\"\n",
      "batspp_report.py(16): i = 1\n",
      "batspp_report.py(18): files_TEST_PATH = os.listdir(TEST_PATH)\n",
      "batspp_report.py(21): all_testfiles = []\n",
      "batspp_report.py(22): print(\"\\n=== BATSPP REPORT GENERATOR (simple_batspp.py) ===\\n\")\n",
      "\n",
      "=== BATSPP REPORT GENERATOR (simple_batspp.py) ===\n",
      "\n",
      "batspp_report.py(24): for file in files_TEST_PATH:\n",
      "batspp_report.py(32): print(f\"\\nTOTAL JUPYTER FILE FOUND: {i}\\n\")\n",
      "\n",
      "TOTAL JUPYTER FILE FOUND: 1\n",
      "\n",
      "batspp_report.py(36): print(f\"\\n=== GENERATING BATSPP FILES ===\\n\")\n",
      "\n",
      "=== GENERATING BATSPP FILES ===\n",
      "\n",
      "batspp_report.py(37): i = 1\n",
      "batspp_report.py(39): for testfile in files_TEST_PATH:\n",
      "batspp_report.py(46): ipynb_c = i - 1\n",
      "batspp_report.py(49): print(f\"\\n\\n***** BATSPP GENERATED *****\\n\")\n",
      "\n",
      "\n",
      "***** BATSPP GENERATED *****\n",
      "\n",
      "batspp_report.py(50): i = 1\n",
      "batspp_report.py(52): for batsfile in files_TEST_PATH:\n",
      "batspp_report.py(60): batspp_c = i - 1\n",
      "batspp_report.py(63): working_testfiles = []\n",
      "batspp_report.py(65): for file in files_TEST_PATH:\n",
      "batspp_report.py(76): set_wt = set(working_testfiles)\n",
      "batspp_report.py(77): error_testfiles = [tf for tf in all_testfiles if tf not in set_wt]\n",
      " --- modulename: batspp_report, funcname: <listcomp>\n",
      "batspp_report.py(77): error_testfiles = [tf for tf in all_testfiles if tf not in set_wt]\n",
      "batspp_report.py(79): print(f\"\\n======================================================\")\n",
      "\n",
      "======================================================\n",
      "batspp_report.py(80): print(f\"SUMMARY STATISTICS:\\n\")\n",
      "SUMMARY STATISTICS:\n",
      "\n",
      "batspp_report.py(81): print(f\"IPYNB FILES PRESENT: {ipynb_c}\")\n",
      "IPYNB FILES PRESENT: 0\n",
      "batspp_report.py(82): print(f\"BATSPP FILES GENERATED: {batspp_c}\")\n",
      "BATSPP FILES GENERATED: 0\n",
      "batspp_report.py(83): print(f\"NO. OF FAULTY TESTFILES: {ipynb_c - batspp_c}\")\n",
      "NO. OF FAULTY TESTFILES: 0\n",
      "batspp_report.py(84): print(f\"\\nFAULTY TESTFILES:\")\n",
      "\n",
      "FAULTY TESTFILES:\n",
      "batspp_report.py(85): for tf in error_testfiles:\n",
      "batspp_report.py(87): print(f\"======================================================\")\n",
      "======================================================\n",
      "0.07user 0.01system 0:00.12elapsed 68%CPU (0avgtext+0avgdata 12404maxresident)k\n",
      "312inputs+0outputs (0major+1771minor)pagefaults 0swaps\n"
     ]
    }
   ],
   "source": [
    "# ipython(): overrides ipython command to set xterm title\n",
    "alias set-xterm-window='set_xterm_title.bash'\n",
    "function ipython() { \n",
    "    local ipython=$(which ipython)\n",
    "    if [ \"$ipython\" = \"\" ]; then echo \"Error: install ipython first\"; return; fi\n",
    "    set-xterm-window \"ipython [$PWD]\"\n",
    "    $ipython \"$@\"\n",
    "}\n",
    "\n",
    "# python-trace(script, arg, ...): Run python SCRIPT with statement tracing\n",
    "function python-trace {\n",
    "    local script=\"$1\"\n",
    "    shift\n",
    "    $PYTHON -m trace --trace $(which \"$script\") \"$@\"\n",
    "    }\n",
    "\n",
    "# ipython COMMAND SEEMS TO WORK (may take some time)\n",
    "ipython --version\n",
    "linebr\n",
    "# STATEMENT TRACING WORKS WELL\n",
    "python-trace l $BIN_DIR/tests/batspp_report.py"
   ]
  },
  {
   "cell_type": "code",
   "execution_count": 22,
   "id": "b36455c6",
   "metadata": {},
   "outputs": [
    {
     "name": "stdout",
     "output_type": "stream",
     "text": [
      "/usr/bin/python\n",
      "/usr/bin/python3\n"
     ]
    }
   ],
   "source": [
    "# which-python SHOWS THE PATH OF PYTHON\n",
    "alias which-python='which python'\n",
    "which-python\n",
    "alias which-py3='which python3' #(ADDED FOR PYTHON3)\n",
    "which-py3"
   ]
  },
  {
   "cell_type": "code",
   "execution_count": 23,
   "id": "08329d8b",
   "metadata": {},
   "outputs": [
    {
     "name": "stdout",
     "output_type": "stream",
     "text": [
      "abc1.py  atest.py  xyz.py\n"
     ]
    }
   ],
   "source": [
    "# py-diff : CHECKS THE DIFFERENCE BETWEEN THE PYTHON FILES\n",
    "# TODO: specify options before the pattern (or modify do_diff.sh to allow after)\n",
    "function py-diff () { do_diff.sh '*.py *.mako' \"$@\" 2>&1 | $PAGER; }\n",
    "\n",
    "#py-diff $BIN_DIR/tests/batspp.py $BIN_DIR/tests/ipynb_to_batspp.py (NEVER USE abc.py)\n",
    "rm -rf ./*\n",
    "printf \"print('THIS IS A TEST')\" > atest.py\n",
    "printf \"print('THIS IS A TEST')\" > xyz.py\n",
    "printf \"print('THIS IS A TEST11')\" > abc1.py\n",
    "ls\n",
    "\n",
    "# SHOWS ALL THE DIFFERENCES BETWEEN THE PYTHON SCRIPTS\n",
    "# WORKS FINE - HALTS TESTS\n",
    "\n",
    "# $ py-diff atest.py xyz.py"
   ]
  },
  {
   "cell_type": "code",
   "execution_count": 24,
   "id": "eaa5f6d0",
   "metadata": {},
   "outputs": [],
   "source": [
    "# TEST NOT APPLICABLE RN \n",
    "function kivy-win32-env {\n",
    "   export PYTHONPATH='c:/cartera-de-tomas/python;c:/Program-Misc/python/kivy-1-9-0/kivy27'\n",
    "   kivy_dir=\"/c/Program-Misc/python/kivy-1-9-0\"\n",
    "   python_dir=\"$kivy_dir/Python27\"\n",
    "   prepend-path \"$kivy_dir:$kivy_dir/Python27:$kivy_dir/tools:$kivy_dir/Python27/Scripts:$kivy_dir/gstreamer/bin:$kivy_dir/MinGW/bin:$kivy_dir/SDL2/bin\"\n",
    "}"
   ]
  },
  {
   "cell_type": "code",
   "execution_count": 25,
   "id": "7a76a0af",
   "metadata": {},
   "outputs": [],
   "source": [
    "alias elide-data='python -m transpose_data --elide'\n",
    "alias kill-python=\"kill_em.sh --filter 'ipython|emacs' python\"\n",
    "alias kill-python-all=\"kill_em.sh python\""
   ]
  },
  {
   "cell_type": "code",
   "execution_count": 26,
   "id": "5c13c9ad",
   "metadata": {},
   "outputs": [],
   "source": [
    "# # ERRORS = OSTYPE is 'undefined variable' \n",
    "# # NOTE: elide-data shows RuntimeError if any testfile is named abc.py\n",
    "\n",
    "# $ echo $OSTYPE\n",
    "#   linebr\n",
    "#   elide-data $BIN_DIR/template.py\n",
    "#   linebr\n",
    "#   kill-python\n",
    "#   linebr\n",
    "#   kill-python-all\n",
    "\n",
    "# | linux-gnu\n",
    "# | --------------------------------------------------------------------------------\n",
    "# | /home/aveey/miniconda3/bin/python: No module named transpose_data\n",
    "# | --------------------------------------------------------------------------------\n",
    "# | pattern=/:[0-9][0-9] [^ ]*python/\n",
    "# | filter=/ipython|emacs/\n",
    "# | OSTYPE: Undefined variable.\n",
    "# | --------------------------------------------------------------------------------\n",
    "# | pattern=/:[0-9][0-9] [^ ]*python/\n",
    "# | filter=/($)(^)/\n",
    "# | OSTYPE: Undefined variable.\n"
   ]
  },
  {
   "cell_type": "code",
   "execution_count": 27,
   "id": "48da66dc",
   "metadata": {},
   "outputs": [],
   "source": [
    "# run-jupyter-notebook(port=18888): run jupyter notebook on PORT\n",
    "alias TODAY='date'\n",
    "alias extract-matches='extract_matches.perl'\n",
    "\n",
    "function run-jupyter-notebook () {\n",
    "    local port=\"$1\"; if [ \"$port\" = \"\" ]; then port=8888; fi\n",
    "    local ip=\"$2\"; if [ \"$ip\" = \"\" ]; then ip=\"127.0.0.1\"; fi\n",
    "    local log=\"$TEMP/jupyter-$(TODAY).log\"\n",
    "    jupyter notebook --NotebookApp.token='' --no-browser --port $port --ip $ip >> \"$log\" 2>&1 &\n",
    "    echo \"$log\"\n",
    "    # Let jupyter initialize\n",
    "    local delay=5\n",
    "    echo \"sleeping $delay seconds for log to stabalize (effing jupyter)\"\n",
    "    sleep $delay\n",
    "    # TODO: resolve problem extracting URL\n",
    "    # TEMP:\n",
    "    tail \"$log\"\n",
    "    # Show URL\n",
    "    echo -n \"URL: \"\n",
    "    extract-matches 'http:\\S+' \"$log\" | sort -u\n",
    "}\n",
    "alias jupyter-notebook-redir=run-jupyter-notebook\n",
    "alias jupyter-notebook-redir-open='run-jupyter-notebook 8888 0.0.0.0'"
   ]
  },
  {
   "cell_type": "code",
   "execution_count": 28,
   "id": "ff417aa3",
   "metadata": {},
   "outputs": [],
   "source": [
    "# # ERROR GENERATED (see below)\n",
    "# $ jupyter-notebook-redir-open\n",
    "\n",
    "# | [1] 5335\n",
    "# | /jupyter-Sun Aug 28 08:13:40 AM +0545 2022.log\n",
    "# | sleeping 5 seconds for log to stabalize (effing jupyter)\n",
    "# | bash: /jupyter-Sun Aug 28 08:13:40 AM +0545 2022.log: Permission denied\n",
    "# | [1]+  Exit 1                  jupyter notebook --NotebookApp.token='' --no-browser --port $port --ip $ip >> \"$log\" 2>&1\n",
    "# | tail: cannot open '/jupyter-Sun Aug 28 08:13:40 AM +0545 2022.log' for reading: No such file or directory\n",
    "# | URL: Can't open /jupyter-Sun Aug 28 08:13:40 AM +0545 2022.log: No such file or directory at /home/aveey/bin/extract_matches.perl line 132.\n"
   ]
  },
  {
   "cell_type": "code",
   "execution_count": 29,
   "id": "cd7cef57",
   "metadata": {},
   "outputs": [],
   "source": [
    "# # Python-based utilities\n",
    "function extract-text() { python -m extract_document_text \"$@\"; }\n",
    "alias xtract-text='extract-text'\n"
   ]
  },
  {
   "cell_type": "code",
   "execution_count": 30,
   "id": "311de0a1",
   "metadata": {},
   "outputs": [],
   "source": [
    "# # ERROR - MODULE NOT FOUND\n",
    "\n",
    "# $ rm -rf ./*\n",
    "#   printf \"print('THIS IS A TEST FOR TEXT EXTRACT ALIAS.')\" > textex.py\n",
    "#   xtract-text ./textex.py\n",
    "\n",
    "# | /home/aveey/miniconda3/bin/python: No module named extract_document_text"
   ]
  },
  {
   "cell_type": "code",
   "execution_count": 31,
   "id": "393371d1",
   "metadata": {},
   "outputs": [],
   "source": [
    "function test-script () {\n",
    "    local base=$(basename \"$1\" .py)\n",
    "    local date=$(todays-date)\n",
    "    # note: uses both Mercurial root and . (in case not in repository)\n",
    "    local root=$(hg root)\n",
    "    PYTHONPATH=\"$root:.:$SANDBOX/tests:$PYTHONPATH\" $NICE $PYTHON tests/test_$base.py --verbose >| tests/_test_$base.$date.log 2>&1;\n",
    "    less-tail tests/_test_$base.$date.log;\n",
    "}\n",
    "#\n",
    "alias test-script-debug='ALLOW_SUBCOMMAND_TRACING=1 DEBUG_LEVEL=5 MISC_TRACING_LEVEL=5 test-script'"
   ]
  },
  {
   "cell_type": "code",
   "execution_count": 32,
   "id": "90b1a9c1",
   "metadata": {},
   "outputs": [],
   "source": [
    "# # ERROR (LOG FILE NOT FOUND)\n",
    "# $ test-script ./textex.py\n",
    "# | abort: no repository found in '/tmp/test-py-commands/test-3443' (.hg not found)\n",
    "# | bash: tests/_test_textex.03sep22.log: No such file or directory\n",
    "# | tests/_test_textex.03sep22.log: No such file or directory"
   ]
  },
  {
   "cell_type": "code",
   "execution_count": 33,
   "id": "d40cd965",
   "metadata": {},
   "outputs": [],
   "source": [
    "# randomize-datafie(file, [num[): randomize datafile optionally pruned to NUM lines, preserving header line\n",
    "#\n",
    "function randomize-datafile() {\n",
    "    local file=\"$1\"\n",
    "    local num_lines=\"$2\"\n",
    "    if [ \"$num_lines\" = \"\" ]; then num_lines=$(wc -l \"$file\"); fi\n",
    "    #\n",
    "    head -1 \"$file\"\n",
    "    tail --lines=+2 \"$file\" | python -m randomize_lines | head -$num_lines\n",
    "}\n"
   ]
  },
  {
   "cell_type": "code",
   "execution_count": 34,
   "id": "032945f0",
   "metadata": {},
   "outputs": [
    {
     "name": "stdout",
     "output_type": "stream",
     "text": [
      "abc1.py  atest.py  random_line_test.py  xyz.py\n"
     ]
    }
   ],
   "source": [
    "# TESTING A PYTHON SCRIPT\n",
    "printf \"print('THIS IS A TEST10')\\nprint('THIS IS A TEST11')\\nprint('THIS IS A TEST12')\\nprint('THIS IS A TEST13')\" > random_line_test.py\n",
    "ls"
   ]
  },
  {
   "cell_type": "code",
   "execution_count": 35,
   "id": "54f09793",
   "metadata": {},
   "outputs": [],
   "source": [
    "# ERROR : MISSING MODULE (No module named randomize_lines)\n",
    "# $ randomize-datafile random_line_test.py\n",
    "# | print('THIS IS A TEST10')\n",
    "# | print('THIS IS A TEST11')\n",
    "# | print('THIS IS A TEST12')\n",
    "# | /home/aveey/miniconda3/bin/python: No module named randomize_lines"
   ]
  },
  {
   "cell_type": "code",
   "execution_count": 36,
   "id": "e8e581ee",
   "metadata": {},
   "outputs": [],
   "source": [
    "# filter-random(pct, file, [include_header=1])Randomize lines based on percentages, using output lile (e.g., _r10pct-fubar.data).\n",
    "# Notes:\n",
    "# - By default, includes first line assuming it is header line.\n",
    "# - Includes support for compressed files (both input and output).\n",
    "function filter-random() {\n",
    "    local pct=\"$1\"\n",
    "    local file=\"$2\"\n",
    "    local include_header=\"$3\"\n",
    "    if [ \"$include_header\" == \"\" ]; then include_header=1; fi\n",
    "\n",
    "    # Derive settings from input arguments\n",
    "    local ratio=$(perl -e \"printf('%.3f', ($pct / 100.0));\")\n",
    "    local compressed=0\n",
    "    if [[ $file =~ .gz ]]; then compressed=1; fi\n",
    "    local dir=$(dirname $file)\n",
    "    local base=$(basename $file)\n",
    "    local type=\"cat\"\n",
    "    local result=\"$dir/_r${pct}pct-$base\"\n",
    "\n",
    "    # Filter the file, optionally uncompressing\n",
    "    if [ \"$compressed\" = \"1\" ]; then \n",
    "       type=\"zcat\"; \n",
    "       result=$(echo \"$result\" | perl -pe 's/.gz$//;')\n",
    "    fi\n",
    "    local opts=\"\"\n",
    "    if [ \"$include_header\" = \"1\" ]; then opts=\"$opt --include-header\"; fi\n",
    "    $type \"$file\" | $PYTHON -m filter_random $opts --ratio $ratio - > \"$result\" 2> \"$result.log\"\n",
    "\n",
    "    # Compress result if original compressed\n",
    "    if [ \"$compressed\" = \"1\" ]; then \n",
    "       gzip --force \"$result\"; \n",
    "    fi\n",
    "}"
   ]
  },
  {
   "cell_type": "code",
   "execution_count": 37,
   "id": "14e001ee",
   "metadata": {},
   "outputs": [],
   "source": [
    "# filter-random _r10pct-fubar.data (TBF - NEED HELP OPERATING)"
   ]
  },
  {
   "cell_type": "code",
   "execution_count": 38,
   "id": "e7b608f3",
   "metadata": {},
   "outputs": [],
   "source": [
    "# Load supporting scripts\n",
    "#\n",
    "function conditional-source () { if [ -e \"$1\" ]; then source \"$1\"; else echo \"Warning: bash script file not found (so not sourced):\"; echo \"    $1\"; fi; }\n",
    "function quiet-unalias {\n",
    "    ## HACK: do nothing if running under bats-core\n",
    "    if [ \"$BATS_TEST_FILENAME\" != \"\" ]; then\n",
    "        if [ \"$BATCH_MODE\" != \"1\" ]; then\n",
    "            echo \"Ignoring unalias over $* for sake of bats\"\n",
    "        fi\n",
    "        return\n",
    "    fi\n",
    "    ## OLD: unalias \"$@\" 2> /dev/null;\n",
    "    unalias \"$@\" 2> /dev/null || true;\n",
    "    ## OLD: echo > /dev/null;\n",
    "}\n",
    "\n",
    "conditional-source $BIN_DIR/anaconda-aliases.bash\n",
    "conditional-source $BIN_DIR/git-aliases.bash"
   ]
  },
  {
   "cell_type": "code",
   "execution_count": 39,
   "id": "1ba1bc6c",
   "metadata": {},
   "outputs": [
    {
     "name": "stdout",
     "output_type": "stream",
     "text": [
      "  % Total    % Received % Xferd  Average Speed   Time    Time     Time  Current\n",
      "                                 Dload  Upload   Total   Spent    Left  Speed\n",
      "100 16547    0 16547    0     0  27494      0 --:--:-- --:--:-- --:--:-- 28677\n",
      "--------------------------------------------------------------------------------\n",
      "total 36\n",
      "-rw-rw-r-- 1 aveey aveey    25 Sep 26 10:30 abc1.py\n",
      "-rw-rw-r-- 1 aveey aveey    23 Sep 26 10:30 atest.py\n",
      "-rw-rw-r-- 1 aveey aveey   103 Sep 26 10:30 random_line_test.py\n",
      "-rw-rw-r-- 1 aveey aveey 16547 Sep 26 10:30 www.google.com\n",
      "-rw-rw-r-- 1 aveey aveey    23 Sep 26 10:30 xyz.py\n",
      "--------------------------------------------------------------------------------\n",
      "file:////home/aveey/tom-project/shell-scripts/tests/batspp_report.py\n"
     ]
    }
   ],
   "source": [
    "function curl-dump () {\n",
    "    local url=\"$1\";\n",
    "    local base=$(basename $url);\n",
    "    curl $url > $base;\n",
    "}\n",
    "# EX: url-path $BIN/templata.html => \"file:///$BIN/template.html\"\n",
    "function url-path () {\n",
    "    local file=\"$1\"\n",
    "    echo $(realpath \"$file\") | perl -pe 's@^@file:///@;'\n",
    "}\n",
    "\n",
    "# TESTS FOR curl-dump AND url-path\n",
    "curl-dump https://www.google.com\n",
    "linebr\n",
    "ls -l\n",
    "linebr\n",
    "url-path $BIN_DIR/tests/batspp_report.py"
   ]
  },
  {
   "cell_type": "code",
   "execution_count": 40,
   "id": "a98b1d54",
   "metadata": {},
   "outputs": [],
   "source": [
    "function invoke-browser() {\n",
    "    local browser_executable=\"$1\"\n",
    "    local file=\"$2\"\n",
    "    if [ \"$file\" != \"\" ]; then\n",
    "        if [[ ! $file =~ http ]]; then\n",
    "            file=$(url-path \"$file\")\n",
    "        fi\n",
    "    fi\n",
    "    ## TODO?\n",
    "    ## if [ ! -e \"$browser_executable\" ]; then\n",
    "    ##     browser_executable_path=$(which \"browser_executable\")\n",
    "    ##     if [ \"$browser_executable_path\" = \"\" ]; then browser_executable=\"$_path\"; fi   \n",
    "    ## fi\n",
    "    local browser_base=$(basename \"$browser_executable\")\n",
    "    $browser_executable \"$file\" >> $TEMP/$browser_base.$(TODAY).log 2>&1 &\n",
    "}\n",
    "\n",
    "function which { command which \"$1\" 2> /dev/null; }\n",
    "## TEST: alias firefox='invoke-browser \"'\"$(which firefox 2> /dev/null)\"'\"'\n",
    "alias firefox='invoke-browser \"'\"$(which firefox)\"'\"'\n"
   ]
  },
  {
   "cell_type": "code",
   "execution_count": 41,
   "id": "5143a042",
   "metadata": {},
   "outputs": [],
   "source": [
    "# # WORKS WELL - HALTS TESTING\n",
    "# $ firefox\n",
    "# | [1] 15869"
   ]
  },
  {
   "cell_type": "code",
   "execution_count": 42,
   "id": "b34bd5c1",
   "metadata": {},
   "outputs": [
    {
     "name": "stdout",
     "output_type": "stream",
     "text": [
      "/tmp/test-py-commands/test-3443\n"
     ]
    }
   ],
   "source": [
    "pwd\n",
    "rm -rf *"
   ]
  },
  {
   "cell_type": "code",
   "execution_count": null,
   "id": "07932d1d",
   "metadata": {},
   "outputs": [],
   "source": []
  }
 ],
 "metadata": {
  "kernelspec": {
   "display_name": "Bash",
   "language": "bash",
   "name": "bash"
  },
  "language_info": {
   "codemirror_mode": "shell",
   "file_extension": ".sh",
   "mimetype": "text/x-sh",
   "name": "bash"
  }
 },
 "nbformat": 4,
 "nbformat_minor": 5
}
