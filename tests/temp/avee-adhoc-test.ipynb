{
 "cells": [
  {
   "cell_type": "code",
   "execution_count": 1,
   "id": "a3d454ce",
   "metadata": {},
   "outputs": [
    {
     "name": "stdout",
     "output_type": "stream",
     "text": [
      "\u001b[?2004h\u001b[?2004l\u001b[?2004l\u001b[?2004l"
     ]
    },
    {
     "ename": "",
     "evalue": "1",
     "output_type": "error",
     "traceback": []
    }
   ],
   "source": [
    "# Delete all aliases and function\n",
    "# TODO: Instead start from pristine environment\n",
    "unalias -a\n",
    "for f in $(typeset -f | egrep '^\\w+'); do unset -f $f; done"
   ]
  },
  {
   "cell_type": "code",
   "execution_count": 2,
   "id": "6ae912f6",
   "metadata": {
    "scrolled": true
   },
   "outputs": [
    {
     "name": "stdout",
     "output_type": "stream",
     "text": [
      "\u001b[?2004l\n",
      "usage: adhoc-rainbow-test.sh [options]\n",
      "\n",
      "options: [--data dir] [--testing-data dir] [--training-options ops] [--testing-options ops] [--cats file] [--label text] [--trace] [--verbose]\n",
      "\n",
      "examples:\n",
      "\n",
      "adhoc-rainbow-test.sh --label pruned-reuters-geo_cn --data geo_cn-testable-data --cats test-geo_cn-reuters.list\n",
      "\n",
      "adhoc-rainbow-test.sh --label pruned-reuters-geo_cn --data geo_cn-testable-data --cats test-geo_cn-reuters.list --testing-data 'C:\\data\\reuters-21578\\geo_cn-test' --training-options '--method=tfidf'\n",
      "\n",
      "notes:\n",
      "\n",
      "The --data and --cats options are required.\n",
      "\u001b[?2004h"
     ]
    },
    {
     "ename": "",
     "evalue": "1",
     "output_type": "error",
     "traceback": []
    }
   ],
   "source": [
    "bash adhoc-rainbow-test.sh"
   ]
  },
  {
   "cell_type": "code",
   "execution_count": 3,
   "id": "828de73b",
   "metadata": {},
   "outputs": [
    {
     "name": "stdout",
     "output_type": "stream",
     "text": [
      "0[?2004l\n",
      "\u001b[?2004h"
     ]
    },
    {
     "ename": "",
     "evalue": "1",
     "output_type": "error",
     "traceback": []
    }
   ],
   "source": [
    "alias | wc -l"
   ]
  },
  {
   "cell_type": "code",
   "execution_count": 4,
   "id": "83d9575e",
   "metadata": {},
   "outputs": [
    {
     "name": "stdout",
     "output_type": "stream",
     "text": [
      "\u001b[?2004l\r",
      "\u001b[?2004h"
     ]
    },
    {
     "ename": "",
     "evalue": "1",
     "output_type": "error",
     "traceback": []
    }
   ],
   "source": [
    "touch tests/adhoc-test-output.list"
   ]
  },
  {
   "cell_type": "code",
   "execution_count": 5,
   "id": "65af16a6",
   "metadata": {},
   "outputs": [
    {
     "name": "stdout",
     "output_type": "stream",
     "text": [
      "Results over test partition (avg-accuracy and stdev)\n",
      "Can't find rainbow-stats on PATH.\n",
      "-rw-rw-r-- 1 aveey aveey 60 Jun 12 22:16 index-adhoc-rainbow.log\n",
      "-rw-rw-r-- 1 aveey aveey 60 Jun 12 22:16 int-test-adhoc-rainbow.log\n",
      "-rw-rw-r-- 1 aveey aveey 67 Jun 12 22:16 make-adhoc-rainbow.log\n",
      "\u001b[?2004h"
     ]
    },
    {
     "ename": "",
     "evalue": "1",
     "output_type": "error",
     "traceback": []
    }
   ],
   "source": [
    "bash adhoc-rainbow-test.sh --data tests/adhoc-tests.test --cats tests/adhoc-test-output.list"
   ]
  },
  {
   "cell_type": "code",
   "execution_count": 6,
   "id": "1f69d694",
   "metadata": {},
   "outputs": [
    {
     "name": "stdout",
     "output_type": "stream",
     "text": [
      "\u001b[?2004l\r",
      "\u001b[?2004h"
     ]
    },
    {
     "ename": "",
     "evalue": "1",
     "output_type": "error",
     "traceback": []
    }
   ],
   "source": [
    "cat tests/adhoc-test-output.list"
   ]
  },
  {
   "cell_type": "code",
   "execution_count": 7,
   "id": "f22d5d3f",
   "metadata": {},
   "outputs": [
    {
     "name": "stdout",
     "output_type": "stream",
     "text": [
      "0[?2004l\n",
      "\u001b[?2004h"
     ]
    },
    {
     "ename": "",
     "evalue": "1",
     "output_type": "error",
     "traceback": []
    }
   ],
   "source": [
    "alias | wc -l"
   ]
  },
  {
   "cell_type": "code",
   "execution_count": null,
   "id": "daa93bd2",
   "metadata": {},
   "outputs": [],
   "source": []
  }
 ],
 "metadata": {
  "kernelspec": {
   "display_name": "Bash",
   "language": "bash",
   "name": "bash"
  },
  "language_info": {
   "codemirror_mode": "shell",
   "file_extension": ".sh",
   "mimetype": "text/x-sh",
   "name": "bash"
  }
 },
 "nbformat": 4,
 "nbformat_minor": 5
}
