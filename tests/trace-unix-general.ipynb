{
 "cells": [
  {
   "cell_type": "code",
   "execution_count": 1,
   "id": "d8d3fc06",
   "metadata": {},
   "outputs": [
    {
     "name": "stdout",
     "output_type": "stream",
     "text": [
      "BIND ON!\n"
     ]
    }
   ],
   "source": [
    "# Setup\n",
    "bind 'set enable-bracketed-paste off'\n",
    "echo \"BIND ON!\""
   ]
  },
  {
   "cell_type": "code",
   "execution_count": 2,
   "id": "77d3e9cc",
   "metadata": {},
   "outputs": [],
   "source": [
    "REDEFINE_ALIASES=0\n",
    "## DEBUG: REDFINE_ALIASES=1\n",
    "\n",
    "if [ \"$REFINE_ALIASES\" ]; then\n",
    "\n",
    "    function python-lint-full() {\n",
    "        local root=$(hg root 2> /dev/null);\n",
    "        ## TODO: --persistent=n (to avoid caching)\n",
    "        PYTHONPATH=\"$root:.:$PYTHONPATH\" $NICE pylint \"$@\" | perl -00 -ne 'while (/(\\n\\S+:\\s*\\d+[^\\n]+)\\n( +)/) { s/(\\n\\S+:\\s*\\d+[^\\n]+)\\n( +)/$1\\r$2/mg; } print(\"$_\");' 2>&1 | $PAGER;\n",
    "    }\n",
    "\n",
    "fi"
   ]
  },
  {
   "cell_type": "code",
   "execution_count": 3,
   "id": "6dcea75d",
   "metadata": {},
   "outputs": [],
   "source": [
    "## TESTS START FROM LINE 2066 (tomohara-aliases.bash)"
   ]
  },
  {
   "cell_type": "code",
   "execution_count": 4,
   "id": "65d43538",
   "metadata": {},
   "outputs": [
    {
     "name": "stdout",
     "output_type": "stream",
     "text": [
      "[PEXP\\[\\]ECT_PROMPT>\n"
     ]
    }
   ],
   "source": [
    "## TEST:  Make sure simple prompt used (e.g., no escapes that might contaminate output)\n",
    "## PS1=\"$ \"\n",
    "## TODO: PS1=\"> \"\n",
    "\n",
    "## NOTE: The Jupyter bash kernel requires that PS1 not be modified as they customize it. \n",
    "echo $PS1"
   ]
  },
  {
   "cell_type": "code",
   "execution_count": 5,
   "id": "d623c9a9",
   "metadata": {},
   "outputs": [
    {
     "name": "stdout",
     "output_type": "stream",
     "text": [
      "0\n",
      "0\n"
     ]
    }
   ],
   "source": [
    "# Delete all aliases and function\n",
    "# TODO: Instead start from pristine environment\n",
    "unalias -a\n",
    "alias | wc -l\n",
    "for f in $(typeset -f | egrep '^\\w+'); do unset -f $f; done\n",
    "typeset -f | egrep '^\\w+' | wc -l"
   ]
  },
  {
   "cell_type": "code",
   "execution_count": 6,
   "id": "0ff8f157",
   "metadata": {},
   "outputs": [
    {
     "name": "stdout",
     "output_type": "stream",
     "text": [
      "0\n"
     ]
    }
   ],
   "source": [
    "# Setting a temp directory for tests\n",
    "TMP=/tmp/test-unix\n",
    "\n",
    "## NOTE: Source it directly from the ./tests directory.\n",
    "BIN_DIR=$PWD/..\n",
    "\n",
    "alias | wc -l"
   ]
  },
  {
   "cell_type": "code",
   "execution_count": 7,
   "id": "ab954c7f",
   "metadata": {},
   "outputs": [
    {
     "name": "stdout",
     "output_type": "stream",
     "text": [
      "/tmp/test-unix/test-3245\n"
     ]
    }
   ],
   "source": [
    "## NOTE: For reproducability, the directory name needs to be fixed\n",
    "## In place of $$, use a psuedo random number (e,g., 3245)\n",
    "## *** All output from one run to the next needs to be the same ***\n",
    "\n",
    "## temp_dir=$TMP/test-$$\n",
    "temp_dir=$TMP/test-3245\n",
    "\n",
    "mkdir -p \"$temp_dir\"\n",
    "# TODO: /bin/rm -rvf \"$temp_dir\"\n",
    "cd \"$temp_dir\"\n",
    "pwd\n",
    "\n",
    "#ALIAS FOR PRINTING SEPERATION LINES (FOR JUPYTER)\n",
    "alias linebr=\"printf '%*s\\n' \"${COLUMNS:-$(tput cols)}\" '' | tr ' ' -\""
   ]
  },
  {
   "cell_type": "code",
   "execution_count": 8,
   "id": "ec6df159",
   "metadata": {},
   "outputs": [
    {
     "name": "stdout",
     "output_type": "stream",
     "text": [
      "1\n",
      "0\n"
     ]
    }
   ],
   "source": [
    "# Count aliases proper\n",
    "alias | wc -l\n",
    "# Count functions\n",
    "typeset -f | egrep '^\\w+' | wc -l"
   ]
  },
  {
   "cell_type": "code",
   "execution_count": 9,
   "id": "15465d13",
   "metadata": {
    "scrolled": true
   },
   "outputs": [],
   "source": [
    "# SOURCING\n",
    "# source $BIN_DIR/tomohara-aliases.bash"
   ]
  },
  {
   "cell_type": "code",
   "execution_count": 10,
   "id": "d312db03",
   "metadata": {},
   "outputs": [],
   "source": [
    "# ps-all(pattern): show processes from all users matching PATTERN (or . in which case piped to less)\n",
    "# TODO: have option to restrict to current user\n",
    "function ps-all () { \n",
    "    local pattern=\"$1\";\n",
    "    local pager=cat;\n",
    "    if [ \"$pattern\" = \"\" ]; then \n",
    "        pattern=\".\"; \n",
    "        pager=$PAGER\n",
    "    fi;\n",
    "    ps_mine.sh --all | $EGREP -i \"((^USER)|($pattern))\" | $pager;\n",
    "    }\n",
    "\n",
    "alias ps-script='ps-all \"\\\\bscript\\\\b\" | $GREP -v \"(gnome-session)\"'\n",
    "function ps-sort-once { ps_sort.perl -num_times=1 -by=time \"$@\" -; }\n",
    "alias ps-sort-time='ps-sort-once -by=time'\n",
    "alias ps-time=ps-sort-time\n",
    "alias ps-sort-mem='ps-sort-once -by=mem '\n",
    "alias ps-mem=ps-sort-mem\n"
   ]
  },
  {
   "cell_type": "code",
   "execution_count": 11,
   "id": "8599b61b",
   "metadata": {},
   "outputs": [],
   "source": [
    "alias ps-script='ps-all \"\\\\bscript\\\\b\" | $GREP -v \"(gnome-session)\"'\n",
    "function ps-sort-once { $BIN_DIR/ps_sort.perl -num_times=1 -by=time \"$@\" -; }\n",
    "alias ps-sort-time='ps-sort-once -by=time'\n",
    "alias ps-time=ps-sort-time\n",
    "alias ps-sort-mem='ps-sort-once -by=mem '\n",
    "alias ps-mem=ps-sort-mem"
   ]
  },
  {
   "cell_type": "code",
   "execution_count": 12,
   "id": "2395c71a",
   "metadata": {},
   "outputs": [
    {
     "name": "stdout",
     "output_type": "stream",
     "text": [
      "Error: bad sort field (time): using cpu\n",
      "USER         PID %CPU %MEM    VSZ   RSS TTY      STAT START   TIME COMMAND\n",
      "test3513   12453 15.2  1.7 691992 60852 ?        Ssl  21:44   0:01 /usr/bin/py\n",
      "aveey       3712 13.1 12.3 12436944 439892 ?     Sl   17:28  33:41 /snap/firef\n",
      "aveey       8140  6.5  6.2 2663876 223812 ?      Sl   20:46   3:46 /snap/firef\n",
      "root        1043  3.2  1.6 1036320 60160 tty7    Ssl+ 17:10   9:01 /usr/lib/xo\n",
      "aveey       2127  3.0  7.6 21740684 271852 ?     Sl   17:12   8:17 /opt/Upwork\n",
      "aveey       5295  2.2  0.7 353064 26284 ?        Sl   18:48   3:52 /snap/firef\n",
      "test3513   12465  1.8  0.1  17616  5544 pts/8    Ss   21:44   0:00 /usr/bin/ba\n",
      "aveey       6948  1.6 10.5 2915360 376120 ?      Sl   19:32   2:11 /snap/firef\n",
      "aveey       8813  1.1  6.9 2714916 246844 ?      Sl   20:53   0:36 /snap/firef\n"
     ]
    }
   ],
   "source": [
    "# SORTS ALL PROCESS BY TIME\n",
    "ps-sort-time | head -n 10"
   ]
  },
  {
   "cell_type": "code",
   "execution_count": 13,
   "id": "bc13426e",
   "metadata": {},
   "outputs": [
    {
     "name": "stdout",
     "output_type": "stream",
     "text": [
      "Error: bad sort field (time): using cpu\n",
      "USER         PID %CPU %MEM    VSZ   RSS TTY      STAT START   TIME COMMAND\n",
      "test3513   12453 15.5  1.7 691992 60852 ?        Ssl  21:44   0:01 /usr/bin/py\n",
      "aveey       3712 13.1 12.3 12436972 439640 ?     Sl   17:28  33:41 /snap/firef\n",
      "aveey       8140  6.5  6.2 2663876 224076 ?      Sl   20:46   3:46 /snap/firef\n",
      "root        1043  3.2  1.6 1036320 60160 tty7    Ssl+ 17:10   9:01 /usr/lib/xo\n",
      "aveey       2127  3.0  7.6 21740684 271852 ?     Sl   17:12   8:17 /opt/Upwork\n",
      "aveey       5295  2.2  0.7 353064 26284 ?        Sl   18:48   3:52 /snap/firef\n",
      "test3513   12465  1.8  0.1  17616  5544 pts/8    Ss   21:44   0:00 /usr/bin/ba\n",
      "aveey       6948  1.6 10.5 2915360 376120 ?      Sl   19:32   2:11 /snap/firef\n",
      "aveey       8813  1.1  6.9 2714916 246844 ?      Sl   20:53   0:36 /snap/firef\n"
     ]
    }
   ],
   "source": [
    "# ACTS THE SAME AS ps-sort-time\n",
    "ps-time | head -n 10"
   ]
  },
  {
   "cell_type": "code",
   "execution_count": 14,
   "id": "b688da20",
   "metadata": {},
   "outputs": [
    {
     "name": "stdout",
     "output_type": "stream",
     "text": [
      "USER         PID %CPU %MEM    VSZ   RSS TTY      STAT START   TIME COMMAND\n",
      "aveey       3712 13.1 12.3 12438004 439348 ?     Sl   17:28  33:41 /snap/firef\n",
      "aveey       6948  1.6 10.5 2915360 376120 ?      Sl   19:32   2:11 /snap/firef\n",
      "aveey       2127  3.0  7.6 21740684 271852 ?     Sl   17:12   8:17 /opt/Upwork\n",
      "aveey       8813  1.1  6.9 2714916 246844 ?      Sl   20:53   0:36 /snap/firef\n",
      "aveey       8140  6.5  6.2 2663876 224076 ?      Sl   20:46   3:46 /snap/firef\n",
      "aveey       6839  0.1  4.3 2502768 153536 ?      Sl   19:30   0:08 /snap/firef\n",
      "aveey       4014  0.2  3.6 19595764 128840 ?     Sl   17:28   0:39 /snap/firef\n",
      "aveey       2061  0.9  2.9 4847420 103356 ?      Sl   17:12   2:42 /opt/Upwork\n",
      "aveey      12157  0.3  2.9 2431412 105096 ?      Sl   21:40   0:00 /snap/firef\n",
      "aveey       3874  0.0  2.3 2448344 84024 ?       Sl   17:28   0:06 /snap/firef\n",
      "test3513    9002  0.9  2.3 264680 84580 pts/1    Sl+  20:56   0:28 /usr/bin/py\n",
      "aveey      12262  0.2  2.0 2412316 72708 ?       Sl   21:43   0:00 /snap/firef\n",
      "test3513    9512  0.0  1.7 692132 61424 ?        Ssl  21:03   0:02 /usr/bin/py\n",
      "test3513    9865  0.0  1.7 691992 60684 ?        Ssl  21:06   0:01 /usr/bin/py\n",
      "test3513   10170  0.0  1.7 691992 60972 ?        Ssl  21:09   0:01 /usr/bin/py\n",
      "test3513   10370  0.0  1.7 691992 60880 ?        Ssl  21:10   0:01 /usr/bin/py\n",
      "test3513   10496  0.0  1.7 691992 60624 ?        Ssl  21:12   0:01 /usr/bin/py\n",
      "aveey      12289  0.2  1.7 2405324 62632 ?       Sl   21:43   0:00 /snap/firef\n",
      "aveey      12311  0.2  1.7 2405320 60616 ?       Sl   21:43   0:00 /snap/firef\n",
      "aveey      12423  0.7  1.7 2405044 61396 ?       Sl   21:44   0:00 /snap/firef\n",
      "test3513   12453 15.6  1.7 691992 60852 ?        Ssl  21:44   0:01 /usr/bin/py\n",
      "root        1043  3.2  1.6 1036320 60160 tty7    Ssl+ 17:10   9:01 /usr/lib/xo\n",
      "aveey       8292  0.8  1.4 643296 51132 ?        Ssl  20:48   0:28 /usr/libexe\n",
      "aveey       1729  0.0  1.3 1019832 49564 ?       Sl   17:11   0:03 /usr/bin/ca\n",
      "aveey       1491  0.0  0.8 1095576 29316 ?       Sl   17:11   0:06 /usr/bin/ma\n",
      "aveey       1599  0.5  0.8 486688 30184 ?        Sl   17:11   1:22 marco\n",
      "aveey       1743  0.0  0.8 505992 29576 ?        Sl   17:11   0:11 /usr/lib/ma\n",
      "aveey       1878  0.0  0.7 425104 27144 ?        Sl   17:11   0:04 mate-screen\n",
      "aveey       5295  2.2  0.7 353064 26284 ?        Sl   18:48   3:52 /snap/firef\n",
      "aveey       1746  0.0  0.6 551924 23420 ?        Sl   17:11   0:03 /usr/lib/ma\n",
      "aveey       2214  0.0  0.6 4501048 21976 ?       Sl   17:12   0:00 /opt/Upwork\n",
      "root         374  0.0  0.5  80580 19012 ?        S<s  17:10   0:01 /lib/system\n",
      "aveey       2094  0.0  0.5 294276 18976 ?        Sl   17:12   0:04 /opt/Upwork\n",
      "aveey       2106  0.6  0.5 292128 19976 ?        Sl   17:12   1:39 /opt/Upwork\n",
      "aveey       2184  0.0  0.5 4503096 19848 ?       Sl   17:12   0:00 /opt/Upwork\n",
      "aveey       2198  0.0  0.5 4501048 18352 ?       Sl   17:12   0:00 /opt/Upwork\n",
      "aveey       5417  0.2  0.5 219960 19468 ?        Sl   18:49   0:30 /snap/firef\n",
      "root         845  0.0  0.4 1319048 16392 ?       Ssl  17:10   0:02 /usr/lib/sn\n"
     ]
    }
   ],
   "source": [
    "# SORTS ALL PROCESS BY MEMORY\n",
    "ps-sort-mem"
   ]
  },
  {
   "cell_type": "code",
   "execution_count": 15,
   "id": "775ea494",
   "metadata": {},
   "outputs": [
    {
     "name": "stdout",
     "output_type": "stream",
     "text": [
      "USER         PID %CPU %MEM    VSZ   RSS TTY      STAT START   TIME COMMAND\n",
      "aveey       3712 13.1 12.3 12438004 439440 ?     Sl   17:28  33:41 /snap/firef\n",
      "aveey       6948  1.6 10.5 2915360 376120 ?      Sl   19:32   2:11 /snap/firef\n",
      "aveey       2127  3.0  7.6 21740684 271740 ?     Sl   17:12   8:17 /opt/Upwork\n",
      "aveey       8813  1.1  6.9 2714916 246844 ?      Sl   20:53   0:36 /snap/firef\n",
      "aveey       8140  6.5  6.3 2663876 224488 ?      Sl   20:46   3:46 /snap/firef\n",
      "aveey       6839  0.1  4.3 2502768 153536 ?      Sl   19:30   0:08 /snap/firef\n",
      "aveey       4014  0.2  3.6 19595764 128840 ?     Sl   17:28   0:39 /snap/firef\n",
      "aveey       2061  0.9  2.9 4847420 103356 ?      Sl   17:12   2:42 /opt/Upwork\n",
      "aveey      12157  0.3  2.9 2431412 105096 ?      Sl   21:40   0:00 /snap/firef\n",
      "aveey       3874  0.0  2.3 2448344 84024 ?       Sl   17:28   0:06 /snap/firef\n",
      "test3513    9002  0.9  2.3 264680 84580 pts/1    Sl+  20:56   0:28 /usr/bin/py\n",
      "aveey      12262  0.2  2.0 2412316 72708 ?       Sl   21:43   0:00 /snap/firef\n",
      "test3513    9512  0.0  1.7 692132 61424 ?        Ssl  21:03   0:02 /usr/bin/py\n",
      "test3513    9865  0.0  1.7 691992 60684 ?        Ssl  21:06   0:01 /usr/bin/py\n",
      "test3513   10170  0.0  1.7 691992 60972 ?        Ssl  21:09   0:01 /usr/bin/py\n",
      "test3513   10370  0.0  1.7 691992 60880 ?        Ssl  21:10   0:01 /usr/bin/py\n",
      "test3513   10496  0.0  1.7 691992 60624 ?        Ssl  21:12   0:01 /usr/bin/py\n",
      "aveey      12289  0.2  1.7 2405324 62632 ?       Sl   21:43   0:00 /snap/firef\n",
      "aveey      12311  0.2  1.7 2405320 60616 ?       Sl   21:43   0:00 /snap/firef\n",
      "aveey      12423  0.6  1.7 2405044 61396 ?       Sl   21:44   0:00 /snap/firef\n",
      "test3513   12453 14.1  1.7 691992 60852 ?        Ssl  21:44   0:01 /usr/bin/py\n",
      "root        1043  3.2  1.6 1036320 60160 tty7    Ssl+ 17:10   9:01 /usr/lib/xo\n",
      "aveey       8292  0.8  1.4 643296 51132 ?        Ssl  20:48   0:28 /usr/libexe\n",
      "aveey       1729  0.0  1.3 1019832 49564 ?       Sl   17:11   0:03 /usr/bin/ca\n",
      "aveey       1491  0.0  0.8 1095576 29316 ?       Sl   17:11   0:06 /usr/bin/ma\n",
      "aveey       1599  0.5  0.8 486688 30184 ?        Sl   17:11   1:22 marco\n",
      "aveey       1743  0.0  0.8 505992 29576 ?        Sl   17:11   0:11 /usr/lib/ma\n",
      "aveey       1878  0.0  0.7 425104 27144 ?        Sl   17:11   0:04 mate-screen\n",
      "aveey       5295  2.2  0.7 353064 26284 ?        Sl   18:48   3:52 /snap/firef\n",
      "aveey       1746  0.0  0.6 551924 23420 ?        Sl   17:11   0:03 /usr/lib/ma\n",
      "aveey       2214  0.0  0.6 4501048 21976 ?       Sl   17:12   0:00 /opt/Upwork\n",
      "root         374  0.0  0.5  80580 19012 ?        S<s  17:10   0:01 /lib/system\n",
      "aveey       2094  0.0  0.5 294276 18976 ?        Sl   17:12   0:04 /opt/Upwork\n",
      "aveey       2106  0.6  0.5 292128 19976 ?        Sl   17:12   1:39 /opt/Upwork\n",
      "aveey       2184  0.0  0.5 4503096 19848 ?       Sl   17:12   0:00 /opt/Upwork\n",
      "aveey       2198  0.0  0.5 4501048 18352 ?       Sl   17:12   0:00 /opt/Upwork\n",
      "aveey       5417  0.2  0.5 219960 19468 ?        Sl   18:49   0:30 /snap/firef\n",
      "root         845  0.0  0.4 1319048 16392 ?       Ssl  17:10   0:02 /usr/lib/sn\n"
     ]
    }
   ],
   "source": [
    "# ps-mem IS AN ALTERNATIVE OF ps-sort-mem\n",
    "ps-mem"
   ]
  },
  {
   "cell_type": "code",
   "execution_count": 16,
   "id": "6ed9a120",
   "metadata": {},
   "outputs": [],
   "source": [
    "# ERROR GENERATED FOR ps-script\n",
    "# $ ps-script\n",
    "# | bash: -v: command not found\n",
    "# | bash: -i: command not found\n",
    "# | OSTYPE: Undefined variable.\n"
   ]
  },
  {
   "cell_type": "code",
   "execution_count": 17,
   "id": "2e45d738",
   "metadata": {},
   "outputs": [],
   "source": [
    "# ERROR GENERATED FOR ps-all\n",
    "# $ ps-all\n",
    "# | bash: -i: command not found\n",
    "# | OSTYPE: Undefined variable.\n"
   ]
  },
  {
   "cell_type": "code",
   "execution_count": 18,
   "id": "82c5fd09",
   "metadata": {},
   "outputs": [],
   "source": [
    "function get-process-parent() { local pid=\"$1\"; if [ \"$pid\" = \"\" ]; then pid=$$; fi; ps al | perl -Ssw $BIN_DIR/extract_matches.perl \"^\\d+\\s+\\d+\\s+$pid\\s+(\\d+)\"; }"
   ]
  },
  {
   "cell_type": "code",
   "execution_count": 19,
   "id": "bf36bf1a",
   "metadata": {},
   "outputs": [
    {
     "name": "stdout",
     "output_type": "stream",
     "text": [
      "F   UID     PID    PPID PRI  NI    VSZ   RSS WCHAN  STAT TTY        TIME COMMAND\n",
      "0  1002   12465   12453  20   0  17616  5544 do_wai Ss   pts/8      0:00 /usr/bin/bash --rcfile /usr/lib/python3/dist-packages/pexpect/bashrc.sh\n",
      "0  1002   12524   12465  20   0  18592  1556 -      R+   pts/8      0:00 ps al\n",
      "0  1002   12525   12465  20   0  15000  2156 pipe_r S+   pts/8      0:00 grep -E (PID|12465)\n",
      "--------------------------------------------------------------------------------\n",
      "12453\n"
     ]
    }
   ],
   "source": [
    "ps al | egrep \"(PID|$$)\"\n",
    "linebr\n",
    "# get-process-parent : return parent process-id for PID\n",
    "get-process-parent"
   ]
  },
  {
   "cell_type": "code",
   "execution_count": 20,
   "id": "c7ea3021",
   "metadata": {},
   "outputs": [],
   "source": [
    "# Make sure script appends rather than overwrites.\n",
    "# In addition, set SCRIPT_PID, so that set_xterm_title.bash can indicate within script.\n",
    "# Also, appends $ to prompt symbol so that typescript prompt searchable with strings command\n",
    "## HACK: set envionment for sake of set_xterm_title.bash (TODO check PPID for this)\n",
    "## TODO: use stack for old_PS_symbol maintenance??? (also allows for recursive invocation, such as with '$ $ $')\n",
    "## TODO: rename as my-script to avoid confusion\n",
    "function script {\n",
    "    ## THIS FUNCTION IS BUGGY\n",
    "    ## Note: set_xterm_title.bash keeps track of titles for each process, so save copies of current ones\n",
    "    local save_full=$(set-xterm-title --print-full)\n",
    "    local save_icon=$(set-xterm-title --print-icon)\n",
    "    ## DEBUG: echo \"save_full='$save_full'; save_icon='$save_icon'\"\n",
    "  \n",
    "    # Change prompt\n",
    "    local old_PS_symbol=\"$PS_symbol\"\n",
    "    export SCRIPT_PID=$$\n",
    "    # Note: the prompt change is flakey\n",
    "    reset-prompt \"$PS_symbol\\$\"\n",
    "    ## DEBUG: echo \"script: 1. PS1='$PS1' old_PS_symbol='$old_PS_symbol' PS_symbol='$new_PS_symbol'\"\n",
    "    \n",
    "    # Change xterm title to match\n",
    "    set-title-to-current-dir\n",
    "    ## DEBUG: echo \"script: 2. PS1='$PS1' old_PS_symbol='$old_PS_symbol' PS_symbol='$new_PS_symbol'\"\n",
    "    # Run command\n",
    "    command script --append \"$@\"\n",
    "    \n",
    "    # Restore prompt\n",
    "    unset SCRIPT_PID\n",
    "    reset-prompt \"$old_PS_symbol\"\n",
    "    ## DEBUG: echo \"script: 3. PS1='$PS1' old_PS_symbol='$old_PS_symbol' PS_symbol='$new_PS_symbol'\"\n",
    "    \n",
    "    # Get rid of lingering 'script' in xterm title\n",
    "    ## DEBUG: echo \"Restoring xterm title: full=$save_full save=$save_icon\"\n",
    "    set-xterm-title \"$save_full\" \"$save_icon\"\n",
    "}\n",
    "\n",
    "alias script-update='script _update-$(T).log'"
   ]
  },
  {
   "cell_type": "code",
   "execution_count": 21,
   "id": "e73cd7c1",
   "metadata": {},
   "outputs": [],
   "source": [
    "## ERROR - NEED TO SOURCE tomohara-aliases.bash FILE\n",
    "# $ script-update\n",
    "# | bash: T: command not found\n",
    "#   bash: set-xterm-title: command not found\n",
    "#   bash: set-xterm-title: command not found\n",
    "#   bash: reset-prompt: command not found\n",
    "#   bash: set-title-to-current-dir: command not found\n",
    "#   Script started, output log file is '_update-.log'."
   ]
  },
  {
   "cell_type": "code",
   "execution_count": 22,
   "id": "9c38e97e",
   "metadata": {},
   "outputs": [],
   "source": [
    "# ansi-filter(filename]: wrapper around ansifilter with stdio and stdout instead of files\n",
    "# TODO: issue request for proper Unix stdin support (n.b., this function is much ado about nothing)\n",
    "function ansi-filter {\n",
    "    local input_file=\"$1\"\n",
    "    if [ \"$input_file\" = \"\" ]; then\n",
    "        input_file=\"$TMP/ansi-filter-in-$$.list\"\n",
    "        cat > \"$input_file\"\n",
    "    fi\n",
    "    local output_file=\"$TMP/ansi-filter-out-$$.list\";\n",
    "    ansifilter --input=\"$input_file\" --output=\"$output_file\"\n",
    "    cat \"$output_file\"\n",
    "}"
   ]
  },
  {
   "cell_type": "code",
   "execution_count": 23,
   "id": "079b0855",
   "metadata": {},
   "outputs": [
    {
     "name": "stdout",
     "output_type": "stream",
     "text": [
      "How to use the ansi-filter?\n"
     ]
    }
   ],
   "source": [
    "## EXAMPLE FOR ansi-filter\n",
    "printf \"How to use the ansi-filter?\" > ansi-filter-test.txt\n",
    "ansi-filter ansi-filter-test.txt"
   ]
  },
  {
   "cell_type": "code",
   "execution_count": 24,
   "id": "92bb8407",
   "metadata": {},
   "outputs": [],
   "source": [
    "# pause-for-enter: EXITS AFTER PRESSING ENTER, WITH A MESSAGE\n",
    "function pause-for-enter () {\n",
    "    local message=\"$1\"\n",
    "    if [ \"$message\" = \"\" ]; then message=\"Press enter to continue\"; fi\n",
    "    read -p \"$message \"\n",
    "}"
   ]
  },
  {
   "cell_type": "code",
   "execution_count": 25,
   "id": "1e7238c8",
   "metadata": {},
   "outputs": [],
   "source": [
    "## DOESN'T WORK FOR JUPYTER, WORKS FOR TERMINAL\n",
    "\n",
    "# $ pause-for-enter\n",
    "# | Press enter to continue \n",
    "## (program terminates after pressing Enter Key)"
   ]
  },
  {
   "cell_type": "code",
   "execution_count": null,
   "id": "7762153f",
   "metadata": {},
   "outputs": [],
   "source": []
  },
  {
   "cell_type": "code",
   "execution_count": null,
   "id": "0d1949fc",
   "metadata": {},
   "outputs": [],
   "source": []
  }
 ],
 "metadata": {
  "kernelspec": {
   "display_name": "Bash",
   "language": "bash",
   "name": "bash"
  },
  "language_info": {
   "codemirror_mode": "shell",
   "file_extension": ".sh",
   "mimetype": "text/x-sh",
   "name": "bash"
  }
 },
 "nbformat": 4,
 "nbformat_minor": 5
}
