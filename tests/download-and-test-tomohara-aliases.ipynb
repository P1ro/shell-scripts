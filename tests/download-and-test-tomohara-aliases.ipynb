{
 "cells": [
  {
   "cell_type": "code",
   "execution_count": 1,
   "metadata": {},
   "outputs": [],
   "source": [
    "# Warning: this creates a temporary directory for aliases"
   ]
  },
  {
   "cell_type": "code",
   "execution_count": 2,
   "metadata": {},
   "outputs": [],
   "source": [
    "# Set directory for alias work\n",
    "export TOM_BIN=/tmp/tomasohara-shell-scripts\n",
    "export TOM_ALIAS_FILE=\"$TOM_BIN/tomohara-aliases.bash\"\n",
    "mkdir -p \"$TOM_BIN\""
   ]
  },
  {
   "cell_type": "code",
   "execution_count": 3,
   "metadata": {},
   "outputs": [
    {
     "name": "stdout",
     "output_type": "stream",
     "text": [
      "bash: /tmp/tomasohara-shell-scripts/tomohara-aliases.bash: cannot overwrite existing file\n"
     ]
    },
    {
     "ename": "",
     "evalue": "1",
     "output_type": "error",
     "traceback": []
    }
   ],
   "source": [
    "# Get latest version of aliases\n",
    "curl https://raw.githubusercontent.com/tomasohara/shell-scripts/main/tomohara-aliases.bash > \"$TOM_ALIAS_FILE\""
   ]
  },
  {
   "cell_type": "code",
   "execution_count": null,
   "metadata": {},
   "outputs": [],
   "source": [
    "file \"$TOM_ALIAS_FILE\""
   ]
  },
  {
   "cell_type": "code",
   "execution_count": null,
   "metadata": {},
   "outputs": [],
   "source": [
    "## OLD: set -o xtrace halts the tests\n",
    "# # Note: batch mode needed for Jupyter usage\n",
    "# export BATCH_MODE=1\n",
    "# set -o xtrace\n",
    "# source \"$TOM_ALIAS_FILE\"\n",
    "# echo done"
   ]
  },
  {
   "cell_type": "code",
   "execution_count": null,
   "metadata": {},
   "outputs": [],
   "source": [
    "# # Note: batch mode needed for Jupyter usage\n",
    "# Global Setup\n",
    "export BATCH_MODE=1"
   ]
  },
  {
   "cell_type": "code",
   "execution_count": null,
   "metadata": {},
   "outputs": [],
   "source": [
    "# set -o xtrace"
   ]
  },
  {
   "cell_type": "code",
   "execution_count": null,
   "metadata": {},
   "outputs": [],
   "source": [
    "source \"$TOM_ALIAS_FILE\""
   ]
  },
  {
   "cell_type": "code",
   "execution_count": null,
   "metadata": {},
   "outputs": [],
   "source": [
    "show-macros | wc -l"
   ]
  },
  {
   "cell_type": "code",
   "execution_count": null,
   "metadata": {},
   "outputs": [],
   "source": []
  }
 ],
 "metadata": {
  "kernelspec": {
   "display_name": "Bash",
   "language": "bash",
   "name": "bash"
  },
  "language_info": {
   "codemirror_mode": "shell",
   "file_extension": ".sh",
   "mimetype": "text/x-sh",
   "name": "bash"
  }
 },
 "nbformat": 4,
 "nbformat_minor": 4
}
