{
 "cells": [
  {
   "cell_type": "code",
   "execution_count": 1,
   "id": "ee0d8a16",
   "metadata": {},
   "outputs": [],
   "source": [
    "## SETUP (OPTIONAL - USE IF REQUIRED)\n",
    "## Bracketed Paste is disabled to prevent characters after output\n",
    "## Example: \n",
    "## $ echo 'Hii'\n",
    "## | Hi?2004l\n",
    "# bind 'set enable-bracketed-paste off'"
   ]
  },
  {
   "cell_type": "code",
   "execution_count": 2,
   "id": "65d43538",
   "metadata": {},
   "outputs": [
    {
     "name": "stdout",
     "output_type": "stream",
     "text": [
      "[PEXP\\[\\]ECT_PROMPT>\n"
     ]
    }
   ],
   "source": [
    "echo $PS1"
   ]
  },
  {
   "cell_type": "code",
   "execution_count": 3,
   "id": "d623c9a9",
   "metadata": {},
   "outputs": [
    {
     "name": "stdout",
     "output_type": "stream",
     "text": [
      "0\n",
      "0\n"
     ]
    }
   ],
   "source": [
    "# Delete all aliases and function\n",
    "# TODO: Instead start from pristine environment\n",
    "unalias -a\n",
    "alias | wc -l\n",
    "for f in $(typeset -f | egrep '^\\w+'); do unset -f $f; done\n",
    "typeset -f | egrep '^\\w+' | wc -l\n",
    "# Setting a temp directory for tests\n",
    "TMP=/tmp/test-extensionless\n",
    "BIN_DIR=$PWD/.."
   ]
  },
  {
   "cell_type": "code",
   "execution_count": 4,
   "id": "0ff8f157",
   "metadata": {},
   "outputs": [
    {
     "name": "stdout",
     "output_type": "stream",
     "text": [
      "0\n"
     ]
    }
   ],
   "source": [
    "alias | wc -l"
   ]
  },
  {
   "cell_type": "code",
   "execution_count": 5,
   "id": "f93dc93d",
   "metadata": {},
   "outputs": [],
   "source": [
    "alias testuser=\"sed -r \"s/\"$USER\"+/user/g\"\""
   ]
  },
  {
   "cell_type": "code",
   "execution_count": 6,
   "id": "ab954c7f",
   "metadata": {},
   "outputs": [
    {
     "name": "stdout",
     "output_type": "stream",
     "text": [
      "/tmp/test-extensionless/test-3570\n"
     ]
    }
   ],
   "source": [
    "temp_dir=$TMP/test-3570\n",
    "mkdir -p \"$temp_dir\"\n",
    "cd \"$temp_dir\"\n",
    "pwd\n",
    "#ALIAS FOR PRINTING SEPERATION LINES (FOR JUPYTER)\n",
    "alias linebr=\"printf '%*s\\n' \"${COLUMNS:-$(tput cols)}\" '' | tr ' ' -\""
   ]
  },
  {
   "cell_type": "code",
   "execution_count": 7,
   "id": "ec6df159",
   "metadata": {},
   "outputs": [
    {
     "name": "stdout",
     "output_type": "stream",
     "text": [
      "2\n",
      "0\n"
     ]
    }
   ],
   "source": [
    "# Count aliases proper\n",
    "alias | wc -l\n",
    "# Count functions\n",
    "typeset -f | egrep '^\\w+' | wc -l"
   ]
  },
  {
   "cell_type": "code",
   "execution_count": 8,
   "id": "8d2d64e7",
   "metadata": {},
   "outputs": [],
   "source": [
    "alias testnum=\"sed -r \"s/[0-9]/N/g\"\" \n",
    "alias testuser=\"sed -r \"s/\"$USER\"+/userxf333/g\"\""
   ]
  },
  {
   "cell_type": "code",
   "execution_count": 9,
   "id": "faf99139",
   "metadata": {},
   "outputs": [],
   "source": [
    "source $BIN_DIR/tomohara-aliases.bash"
   ]
  },
  {
   "cell_type": "code",
   "execution_count": 10,
   "id": "b2919e2f",
   "metadata": {},
   "outputs": [
    {
     "name": "stdout",
     "output_type": "stream",
     "text": [
      "20\n"
     ]
    }
   ],
   "source": [
    "# # 1.1) NO EXAMPLES RN FOR kill-em and kill-it\n",
    "# kill-em () | kill-em and kill-it returns same value\n",
    "kill-em --test firefox | wc -l"
   ]
  },
  {
   "cell_type": "code",
   "execution_count": 11,
   "id": "40460077",
   "metadata": {},
   "outputs": [
    {
     "name": "stdout",
     "output_type": "stream",
     "text": [
      "20\n"
     ]
    }
   ],
   "source": [
    "# kill-it ()\n",
    "kill-it --test firefox | wc -l"
   ]
  },
  {
   "cell_type": "code",
   "execution_count": 12,
   "id": "94ed70f0",
   "metadata": {},
   "outputs": [],
   "source": [
    "## 1.2) ERROR GENERATED - SCRIPT MISSING\n",
    "# $ convert-termstrings\n",
    "# | Can't open perl script \"convert_termstrings.perl\": No such file or directory"
   ]
  },
  {
   "cell_type": "code",
   "execution_count": 13,
   "id": "98b974b4",
   "metadata": {},
   "outputs": [
    {
     "name": "stdout",
     "output_type": "stream",
     "text": [
      "renamed 'tomove.txt' -> './newdir1/tomove.txt'\n",
      "newdir1  test.txt\n",
      "Backing up 'test.txt' to './backup/test.txt'\n",
      "--------------------------------------------------------------------------------\n",
      "backup\tnewdir1  test.txt\n"
     ]
    }
   ],
   "source": [
    "rm -rf ./* > /dev/null\n",
    "printf \"TOP\\nTHIS IS A TEST\\nBOTTOM\" > test.txt\n",
    "printf \"THIS IS A FILE TO MOVE\" > tomove.txt\n",
    "mkdir newdir1\n",
    "\n",
    "move tomove.txt ./newdir1/\n",
    "ls\n",
    "\n",
    "dobackup test.txt\n",
    "linebr\n",
    "ls"
   ]
  },
  {
   "cell_type": "code",
   "execution_count": 14,
   "id": "1584698d",
   "metadata": {},
   "outputs": [
    {
     "name": "stdout",
     "output_type": "stream",
     "text": [
      "NNN\n"
     ]
    }
   ],
   "source": [
    "# Large List of process with full process paths\n",
    "# Number of process is random\n",
    "ps-mine-all | wc -l | testnum "
   ]
  },
  {
   "cell_type": "code",
   "execution_count": 15,
   "id": "c7070a99",
   "metadata": {},
   "outputs": [
    {
     "name": "stdout",
     "output_type": "stream",
     "text": [
      "\n",
      "usage: do_rcsdiff.sh [-v] [-c] [--brief] [-p file_pattern] [-f] file ...\n",
      "\n",
      "examples:\n",
      "\n",
      "do_rcsdiff.sh Makefile\n",
      "\n",
      "do_rcsdiff.sh \\* >| _rcs.diff 2>&1\n",
      "\n",
      "do_rcsdiff.sh *.[ch] >| _rcs.diff 2>&1\n",
      "\n",
      "NOTES:\n",
      "- Patterns are relative to the RCS subdirectory\n",
      "- The rcsdiff command lists the rcs file before the current one, as in:\n",
      "      diff RCS-file file\n",
      "\n"
     ]
    }
   ],
   "source": [
    "# HELP REQUIRED FOR RCS FILES (TBC)\n",
    "do-rcsdiff"
   ]
  },
  {
   "cell_type": "code",
   "execution_count": 16,
   "id": "22a23226",
   "metadata": {},
   "outputs": [
    {
     "name": "stdout",
     "output_type": "stream",
     "text": [
      "'./versionR.txt' -> './versionR-1.txt'\n",
      " backup\t\t   test.txt\t  'version none.txt'  'version?.txt'\n",
      " grep_manual.txt   versionA.txta   versionR-1.txt      versionV.txt\n",
      " newdir1\t   versionI.txt    versionR.txt\n"
     ]
    }
   ],
   "source": [
    "uname -r > versionR.txt\n",
    "uname -a > versionA.txta\n",
    "uname -v > versionV.txt\n",
    "uname -i > versionI.txt\n",
    "uname > \"version none.txt\"\n",
    "uname -ra > \"version?.txt\"\n",
    "\n",
    "man grep > grep_manual.txt\n",
    "\n",
    "cp ./versionR.txt ./versionR-1.txt\n",
    "ls"
   ]
  },
  {
   "cell_type": "code",
   "execution_count": 17,
   "id": "d6117d46",
   "metadata": {},
   "outputs": [
    {
     "name": "stdout",
     "output_type": "stream",
     "text": [
      "renaming \"test.txt\" to \"harry.txt\"\n"
     ]
    }
   ],
   "source": [
    "rename-files -q test.txt harry.txt"
   ]
  },
  {
   "cell_type": "code",
   "execution_count": 18,
   "id": "95161560",
   "metadata": {},
   "outputs": [],
   "source": [
    "# # NEED HELP (TBC)\n",
    "\n",
    "# $ testwn\n",
    "# | Undefined subroutine &main::NO_OP called at /home/xaea12/bin/common.perl line 2172.\n"
   ]
  },
  {
   "cell_type": "code",
   "execution_count": 19,
   "id": "8298cf91",
   "metadata": {},
   "outputs": [
    {
     "name": "stdout",
     "output_type": "stream",
     "text": [
      "       grep, egrep, fgrep, rgrep - print lines that match patterns\n",
      "       patterns separated by newline characters, and  grep  prints  each  line\n",
      "              Suppress  normal output; instead print a count of matching lines\n",
      "              Suppress normal output; instead print the  name  of  each  input\n",
      "              file from which no output would normally have been printed.\n",
      "              Suppress  normal  output;  instead  print the name of each input\n",
      "              file  from  which  output  would  normally  have  been  printed.\n",
      "              line of output.  If -o (--only-matching) is specified, print the\n",
      "              be printed in a minimum size field width.\n",
      "              -print0,  perl  -0,  sort  -z, and xargs -0 to process arbitrary\n",
      "              When  -A,  -B, or -C are in use, print SEP instead of -- between\n",
      "              When -A, -B, or -C are in use, do not print a separator  between\n",
      "       [:graph:], [:lower:], [:print:], [:punct:], [:space:],  [:upper:],  and\n"
     ]
    }
   ],
   "source": [
    "perlgrep \"print\" ./grep_manual.txt"
   ]
  },
  {
   "cell_type": "code",
   "execution_count": 20,
   "id": "3ca47040",
   "metadata": {},
   "outputs": [],
   "source": [
    "# Need Help with example\n",
    "foreach \"echo $f\" *.txt"
   ]
  },
  {
   "cell_type": "code",
   "execution_count": 21,
   "id": "5877539b",
   "metadata": {},
   "outputs": [
    {
     "name": "stdout",
     "output_type": "stream",
     "text": [
      "renaming \"version none.txt\" to \"version_none.txt\"\n"
     ]
    }
   ],
   "source": [
    "rename-spaces"
   ]
  },
  {
   "cell_type": "code",
   "execution_count": 22,
   "id": "b4a3202e",
   "metadata": {},
   "outputs": [
    {
     "name": "stdout",
     "output_type": "stream",
     "text": [
      "renaming \"version?.txt\" to \"version.txt\"\n"
     ]
    }
   ],
   "source": [
    "rename-special-punct"
   ]
  },
  {
   "cell_type": "code",
   "execution_count": 23,
   "id": "104d555f",
   "metadata": {},
   "outputs": [],
   "source": [
    "ps -l >> \"process(L).md\"\n",
    "ps -u >> \"process(U).md\"\n",
    "ps -x >> \"process(X).md\"\n",
    "ps -al >> \"process'all'.md\"\n",
    "ps -aux >> 'psaux(1).txt'\n",
    "ps -aux >> 'psaux(2).txt'\n",
    "ps -aux >> 'psaux(3).txt'"
   ]
  },
  {
   "cell_type": "code",
   "execution_count": 24,
   "id": "66ff2781",
   "metadata": {},
   "outputs": [
    {
     "name": "stdout",
     "output_type": "stream",
     "text": [
      "renamed 'psaux(1).txt' -> 'duplicates/psaux(1).txt'\n",
      "renamed 'psaux(2).txt' -> 'duplicates/psaux(2).txt'\n",
      "renamed 'psaux(3).txt' -> 'duplicates/psaux(3).txt'\n"
     ]
    }
   ],
   "source": [
    "move-duplicates"
   ]
  },
  {
   "cell_type": "code",
   "execution_count": 25,
   "id": "33d36d20",
   "metadata": {},
   "outputs": [
    {
     "name": "stdout",
     "output_type": "stream",
     "text": [
      "renaming \"process(L).md\" to \"processL.md\"\n",
      "renaming \"process(U).md\" to \"processU.md\"\n",
      "renaming \"process(X).md\" to \"processX.md\"\n"
     ]
    }
   ],
   "source": [
    "rename-parens -v"
   ]
  },
  {
   "cell_type": "code",
   "execution_count": 26,
   "id": "8e6b254c",
   "metadata": {},
   "outputs": [
    {
     "name": "stdout",
     "output_type": "stream",
     "text": [
      "WARNING: Ignoring -quick mode as files specified\n"
     ]
    }
   ],
   "source": [
    "# Need Help \n",
    "rename-quotes -v"
   ]
  },
  {
   "cell_type": "code",
   "execution_count": 27,
   "id": "3a5731b8",
   "metadata": {},
   "outputs": [
    {
     "name": "stdout",
     "output_type": "stream",
     "text": [
      " backup\t\t   newdir1\t      processX.md\t versionR-1.txt\n",
      " duplicates\t  \"process'all'.md\"   versionA.txta\t versionR.txt\n",
      " grep_manual.txt   processL.md\t      versionI.txt\t version.txt\n",
      " harry.txt\t   processU.md\t      version_none.txt\t versionV.txt\n"
     ]
    }
   ],
   "source": [
    "ls"
   ]
  },
  {
   "cell_type": "code",
   "execution_count": 28,
   "id": "672d1bd6",
   "metadata": {},
   "outputs": [],
   "source": [
    "man sudo > sudo_manual.out\n",
    "man ansifilter > fakelog.log\n",
    "ps -aux > process_all.html"
   ]
  },
  {
   "cell_type": "code",
   "execution_count": 29,
   "id": "2b2b495d",
   "metadata": {},
   "outputs": [],
   "source": [
    "# # HELP REQUIRED - TBF\n",
    "# $ move-log-files\n",
    "# | /bin/mv: missing destination file operand after 'log-files'\n",
    "# | Try '/bin/mv --help' for more information."
   ]
  },
  {
   "cell_type": "code",
   "execution_count": 30,
   "id": "527d72eb",
   "metadata": {},
   "outputs": [],
   "source": [
    "# # HELP REQUIRED - TBF\n",
    "# $ move-output-files\n",
    "# | mv: cannot stat '$eval_middle': No such file or directory"
   ]
  },
  {
   "cell_type": "code",
   "execution_count": 31,
   "id": "937d9242",
   "metadata": {},
   "outputs": [
    {
     "name": "stdout",
     "output_type": "stream",
     "text": [
      "cp: cannot stat 'processall.md': No such file or directory\n",
      "3\n"
     ]
    }
   ],
   "source": [
    "copy-with-file-date *.md | wc -l"
   ]
  },
  {
   "cell_type": "code",
   "execution_count": 32,
   "id": "d9ba3659",
   "metadata": {},
   "outputs": [],
   "source": [
    "man cat > man_cat.txt"
   ]
  },
  {
   "cell_type": "code",
   "execution_count": 33,
   "id": "c7e4c426",
   "metadata": {},
   "outputs": [
    {
     "name": "stdout",
     "output_type": "stream",
     "text": [
      "to\tN\n",
      "and\tN\n",
      "standard\tN\n",
      "output\tN\n",
      "cat\tN\n",
      "equivalent\tN\n",
      "free\tN\n",
      "gnu\tN\n",
      "display\tN\n",
      "is\tN\n",
      "or\tN\n",
      "coreutils\tN\n",
      "then\tN\n",
      "-\tN\n",
      "tab\tN\n",
      "cat(N)\tN\n",
      "bugs\tN\n",
      "number\tN\n",
      "no\tN\n",
      "output.\tN\n",
      "by\tN\n",
      "the\tN\n",
      "this\tN\n",
      "lines\tN\n",
      "concatenate\tN\n",
      "exit\tN\n",
      "version\tN\n",
      "copyright\tN\n",
      "input,\tN\n",
      "help\tN\n",
      "-b,\tN\n",
      "gpl\tN\n",
      "-vt\tN\n",
      "^i\tN\n",
      "-,\tN\n",
      "reporting\tN\n",
      "-n,\tN\n",
      "for\tN\n",
      "granlund\tN\n",
      "name\tN\n",
      "file,\tN\n",
      "m-\tN\n",
      "file(s)\tN\n",
      "documentation\tN\n",
      "description\tN\n",
      "when\tN\n",
      "foundation,\tN\n",
      "--version\tN\n",
      "february\tN\n",
      "--help\tN\n",
      "files\tN\n",
      "it.\tN\n",
      "--number\tN\n",
      "input.\tN\n",
      "<https://translationproject.org/team/>\tN\n",
      "N\tN\n",
      "m.\tN\n",
      "invocation'\tN\n",
      "-a,\tN\n",
      "--show-nonprinting\tN\n",
      "change\tN\n",
      "notation,\tN\n",
      "use\tN\n",
      "N.NN\tN\n",
      "full\tN\n",
      "gplvN+:\tN\n",
      "-u\tN\n",
      "nonempty\tN\n",
      "'(coreutils)\tN\n",
      "end\tN\n",
      "file\tN\n",
      "extent\tN\n",
      "tac(N)\tN\n",
      "repeated\tN\n",
      "<https://www.gnu.org/software/coreutils/cat>\tN\n",
      "translation\tN\n",
      "--number-nonblank\tN\n",
      "suppress\tN\n",
      "-s,\tN\n",
      "help:\tN\n",
      "stallman.\tN\n",
      "software\tN\n",
      "torbjorn\tN\n",
      "via:\tN\n",
      "permitted\tN\n",
      "later\tN\n",
      "^\tN\n",
      "richard\tN\n",
      "inc.\tN\n",
      "see\tN\n",
      "also\tN\n",
      "written\tN\n",
      "-e\tN\n",
      "overrides\tN\n",
      "-t,\tN\n",
      "lfd\tN\n",
      "synopsis\tN\n",
      "locally\tN\n",
      "input\tN\n",
      "report\tN\n",
      "<https://gnu.org/licenses/gpl.html>.\tN\n",
      "on\tN\n",
      "f's\tN\n",
      "characters\tN\n",
      "commands\tN\n",
      "-n\tN\n",
      "-v,\tN\n",
      "warranty,\tN\n",
      "software:\tN\n",
      "read\tN\n",
      "contents,\tN\n",
      "at\tN\n",
      "any\tN\n",
      "-vet\tN\n",
      "g\tN\n",
      "of\tN\n",
      "empty\tN\n",
      "examples\tN\n",
      "line\tN\n",
      "print\tN\n",
      "as\tN\n",
      "(ignored)\tN\n",
      "with\tN\n",
      "lines,\tN\n",
      "contents.\tN\n",
      "--show-ends\tN\n",
      "author\tN\n",
      "there\tN\n",
      "online\tN\n",
      "-ve\tN\n",
      "<https://www.gnu.org/software/coreutils/>\tN\n",
      "license\tN\n",
      "--show-all\tN\n",
      "[file]...\tN\n",
      "copy\tN\n",
      "n/a\tN\n",
      "information\tN\n",
      "[option]...\tN\n",
      "redistribute\tN\n",
      "info\tN\n",
      "g's\tN\n",
      "law.\tN\n",
      "-e,\tN\n",
      "user\tN\n",
      "except\tN\n",
      "-t\tN\n",
      "each\tN\n",
      "©\tN\n",
      "all\tN\n",
      "NNNN\tN\n",
      "--show-tabs\tN\n",
      "available\tN\n",
      "--squeeze-blank\tN\n",
      "$\tN\n",
      "you\tN\n",
      "f\tN\n",
      "NNNN\tN\n",
      "are\tN\n"
     ]
    }
   ],
   "source": [
    "unigrams ./man_cat.txt | testuser | testnum"
   ]
  },
  {
   "cell_type": "code",
   "execution_count": 34,
   "id": "1d96c16e",
   "metadata": {
    "scrolled": true
   },
   "outputs": [
    {
     "name": "stdout",
     "output_type": "stream",
     "text": [
      "to\tN\n",
      "and\tN\n",
      "standard\tN\n",
      "output\tN\n",
      "cat\tN\n",
      "or\tN\n",
      "is\tN\n",
      "equivalent\tN\n",
      "free\tN\n",
      "gnu\tN\n",
      "display\tN\n",
      "cat(N)\tN\n",
      "copyright\tN\n",
      "tab\tN\n",
      "lines\tN\n",
      "exit\tN\n",
      "output.\tN\n",
      "this\tN\n",
      "-\tN\n",
      "number\tN\n",
      "then\tN\n",
      "bugs\tN\n",
      "version\tN\n",
      "coreutils\tN\n",
      "concatenate\tN\n",
      "no\tN\n",
      "the\tN\n",
      "by\tN\n",
      "N.NN\tN\n",
      "gplvN+:\tN\n",
      "N\tN\n",
      "-,\tN\n",
      "<https://www.gnu.org/software/coreutils/cat>\tN\n",
      "--show-tabs\tN\n",
      "synopsis\tN\n",
      "'(coreutils)\tN\n",
      "use\tN\n",
      "^\tN\n",
      "granlund\tN\n",
      "of\tN\n",
      "g\tN\n",
      "file(s)\tN\n",
      "tac(N)\tN\n",
      "full\tN\n",
      "copy\tN\n",
      "notation,\tN\n",
      "-b,\tN\n",
      "help\tN\n",
      "g's\tN\n",
      "there\tN\n",
      "except\tN\n",
      "contents,\tN\n",
      "permitted\tN\n",
      "license\tN\n",
      "--show-ends\tN\n",
      "nonempty\tN\n",
      "files\tN\n",
      "©\tN\n",
      "february\tN\n",
      "[file]...\tN\n",
      "at\tN\n",
      "end\tN\n",
      "--show-nonprinting\tN\n",
      "gpl\tN\n",
      "f's\tN\n",
      "-n\tN\n",
      "input,\tN\n",
      "help:\tN\n",
      "contents.\tN\n",
      "read\tN\n",
      "see\tN\n",
      "--show-all\tN\n",
      "-e,\tN\n",
      "description\tN\n",
      "author\tN\n",
      "<https://gnu.org/licenses/gpl.html>.\tN\n",
      "--squeeze-blank\tN\n",
      "also\tN\n",
      "-a,\tN\n",
      "on\tN\n",
      "name\tN\n",
      "-v,\tN\n",
      "report\tN\n",
      "f\tN\n",
      "print\tN\n",
      "locally\tN\n",
      "redistribute\tN\n",
      "overrides\tN\n",
      "software\tN\n",
      "for\tN\n",
      "-t,\tN\n",
      "warranty,\tN\n",
      "--version\tN\n",
      "written\tN\n",
      "-vet\tN\n",
      "via:\tN\n",
      "[option]...\tN\n",
      "-e\tN\n",
      "as\tN\n",
      "--number\tN\n",
      "online\tN\n",
      "suppress\tN\n",
      "invocation'\tN\n",
      "all\tN\n",
      "-t\tN\n",
      "software:\tN\n",
      "-vt\tN\n",
      "change\tN\n",
      "NNNN\tN\n",
      "$\tN\n",
      "richard\tN\n",
      "info\tN\n",
      "<https://www.gnu.org/software/coreutils/>\tN\n",
      "lines,\tN\n",
      "input\tN\n",
      "you\tN\n",
      "m.\tN\n",
      "input.\tN\n",
      "-n,\tN\n",
      "(ignored)\tN\n",
      "documentation\tN\n",
      "law.\tN\n",
      "inc.\tN\n",
      "^i\tN\n",
      "with\tN\n",
      "NNNN\tN\n",
      "n/a\tN\n",
      "--help\tN\n",
      "m-\tN\n",
      "file\tN\n",
      "translation\tN\n",
      "are\tN\n",
      "it.\tN\n",
      "-s,\tN\n",
      "reporting\tN\n",
      "commands\tN\n",
      "empty\tN\n",
      "-ve\tN\n",
      "extent\tN\n",
      "characters\tN\n",
      "any\tN\n",
      "<https://translationproject.org/team/>\tN\n",
      "torbjorn\tN\n",
      "later\tN\n",
      "repeated\tN\n",
      "--number-nonblank\tN\n",
      "foundation,\tN\n",
      "stallman.\tN\n",
      "file,\tN\n",
      "each\tN\n",
      "-u\tN\n",
      "user\tN\n",
      "information\tN\n",
      "available\tN\n",
      "lfd\tN\n",
      "line\tN\n",
      "when\tN\n",
      "examples\tN\n"
     ]
    }
   ],
   "source": [
    "word-count ./man_cat.txt | testuser | testnum"
   ]
  },
  {
   "cell_type": "code",
   "execution_count": 35,
   "id": "71adad1d",
   "metadata": {},
   "outputs": [
    {
     "name": "stdout",
     "output_type": "stream",
     "text": [
      "equivalent:to\tN\n",
      "output:lines\tN\n",
      "to:standard\tN\n",
      "gnu:coreutils\tN\n",
      "and:exit\tN\n",
      "standard:output.\tN\n",
      "or:later\tN\n",
      "NNNN:free\tN\n",
      "-n,:--number\tN\n",
      "--show-nonprinting:use\tN\n",
      "-:g\tN\n",
      "-v,:--show-nonprinting\tN\n",
      "permitted:by\tN\n",
      "copyright:copyright\tN\n",
      "cat:invocation'\tN\n",
      "and:m-\tN\n",
      "copyright:©\tN\n",
      "output:lines,\tN\n",
      "output:synopsis\tN\n",
      "number:all\tN\n",
      "coreutils:online\tN\n",
      "any:translation\tN\n",
      "f:-\tN\n",
      "gpl:version\tN\n",
      "m-:notation,\tN\n",
      "with:no\tN\n",
      "translation:bugs\tN\n",
      "-t:equivalent\tN\n",
      "and:tab\tN\n",
      "report:any\tN\n",
      "you:are\tN\n",
      "software::you\tN\n",
      "--version:output\tN\n",
      "name:cat\tN\n",
      "-e,:--show-ends\tN\n",
      "and:redistribute\tN\n",
      "standard:input.\tN\n",
      "display:$\tN\n",
      "free:to\tN\n",
      "output.:with\tN\n",
      "gnu:gpl\tN\n",
      "each:line\tN\n",
      "--show-tabs:display\tN\n",
      "version:N\tN\n",
      "^:and\tN\n",
      "cat:[option]...\tN\n",
      "-,:read\tN\n",
      "this:is\tN\n",
      "n/a:cat(N)\tN\n",
      "the:standard\tN\n",
      "empty:output\tN\n",
      "-ve:-e,\tN\n",
      "lines,:overrides\tN\n",
      "cat:f\tN\n",
      "--squeeze-blank:suppress\tN\n",
      "for:lfd\tN\n",
      "foundation,:inc.\tN\n",
      "contents.:cat\tN\n",
      "input:to\tN\n",
      "then:g's\tN\n",
      "[option]...:[file]...\tN\n",
      "-vet:-b,\tN\n",
      "is:free\tN\n",
      "tab:characters\tN\n",
      "no:warranty,\tN\n",
      "locally:via:\tN\n",
      "tac(N):full\tN\n",
      "output:version\tN\n",
      "<https://translationproject.org/team/>:copyright\tN\n",
      "cat(N):name\tN\n",
      "or:when\tN\n",
      "no:file,\tN\n",
      "copy:standard\tN\n",
      "free:software:\tN\n",
      "is:no\tN\n",
      "print:on\tN\n",
      "(ignored):-v,\tN\n",
      "there:is\tN\n",
      "lfd:and\tN\n",
      "information:and\tN\n",
      "software:foundation,\tN\n",
      "license:gplvN+:\tN\n",
      "exit:--version\tN\n",
      "available:locally\tN\n",
      "use:^\tN\n",
      "later:<https://gnu.org/licenses/gpl.html>.\tN\n",
      "standard:input,\tN\n",
      "as:^i\tN\n",
      "characters:as\tN\n",
      "^i:-u\tN\n",
      "examples:cat\tN\n",
      "law.:see\tN\n",
      "bugs:to\tN\n",
      "n/a:n/a\tN\n",
      "g:output\tN\n",
      "output:f's\tN\n",
      "at:end\tN\n",
      "line:-n,\tN\n",
      "lines:-s,\tN\n",
      "coreutils:N.NN\tN\n",
      "bugs:gnu\tN\n",
      "cat:-\tN\n",
      "standard:output\tN\n",
      "to:-ve\tN\n",
      "--number-nonblank:number\tN\n",
      "to:-vet\tN\n",
      "concatenate:file(s)\tN\n",
      "are:free\tN\n",
      "<https://www.gnu.org/software/coreutils/cat>:or\tN\n",
      "output.:author\tN\n",
      "suppress:repeated\tN\n",
      "cat(N):user\tN\n",
      "-a,:--show-all\tN\n",
      "-vt:-t,\tN\n",
      "commands:cat(N)\tN\n",
      "-n:-e\tN\n",
      "see:also\tN\n",
      "invocation':gnu\tN\n",
      "redistribute:it.\tN\n",
      "'(coreutils):cat\tN\n",
      "stallman.:reporting\tN\n",
      "online:help:\tN\n",
      "of:each\tN\n",
      "m.:stallman.\tN\n",
      "synopsis:cat\tN\n",
      "february:NNNN\tN\n",
      "the:extent\tN\n",
      "$:at\tN\n",
      "user:commands\tN\n",
      "to:-vt\tN\n",
      "[file]...:description\tN\n",
      "reporting:bugs\tN\n",
      "read:standard\tN\n",
      "-b,:--number-nonblank\tN\n",
      "<https://www.gnu.org/software/coreutils/>:report\tN\n",
      "--show-all:equivalent\tN\n",
      "--number:number\tN\n",
      "g's:contents.\tN\n",
      "input,:then\tN\n",
      "to:<https://translationproject.org/team/>\tN\n",
      "--show-ends:display\tN\n",
      "granlund:and\tN\n",
      "by:law.\tN\n",
      "free:software\tN\n",
      "or:available\tN\n",
      "this:help\tN\n",
      "display:this\tN\n",
      "end:of\tN\n",
      "help::<https://www.gnu.org/software/coreutils/>\tN\n",
      "concatenate:files\tN\n",
      "cat:copy\tN\n",
      "nonempty:output\tN\n",
      "-t,:--show-tabs\tN\n",
      "--help:display\tN\n",
      "-:concatenate\tN\n",
      "is:-,\tN\n",
      "on:the\tN\n",
      "tab:--help\tN\n",
      "display:tab\tN\n",
      "-e:equivalent\tN\n",
      "file(s):to\tN\n",
      "help:and\tN\n",
      "to:change\tN\n",
      "description:concatenate\tN\n",
      "it.:there\tN\n",
      "via::info\tN\n",
      "by:torbjorn\tN\n",
      "also:tac(N)\tN\n",
      "lines:-t\tN\n",
      "repeated:empty\tN\n",
      "warranty,:to\tN\n",
      "-u:(ignored)\tN\n",
      "<https://gnu.org/licenses/gpl.html>.:this\tN\n",
      "notation,:except\tN\n",
      "-s,:--squeeze-blank\tN\n",
      "all:output\tN\n",
      "extent:permitted\tN\n",
      "richard:m.\tN\n",
      "and:richard\tN\n",
      "N:or\tN\n",
      "and:print\tN\n",
      "file:is\tN\n",
      "except:for\tN\n",
      "change:and\tN\n",
      "file,:or\tN\n",
      "version:information\tN\n",
      "input.:-a,\tN\n",
      "then:standard\tN\n",
      "to:the\tN\n",
      "info:'(coreutils)\tN\n",
      "files:and\tN\n",
      "number:nonempty\tN\n",
      "N.NN:february\tN\n",
      "inc.:license\tN\n",
      "©:NNNN\tN\n",
      "contents,:then\tN\n",
      "author:written\tN\n",
      "overrides:-n\tN\n",
      "f's:contents,\tN\n",
      "documentation:<https://www.gnu.org/software/coreutils/cat>\tN\n",
      "when:file\tN\n",
      "gplvN+::gnu\tN\n",
      "written:by\tN\n",
      "full:documentation\tN\n",
      "torbjorn:granlund\tN\n",
      "standard:input\tN\n",
      "exit:examples\tN\n"
     ]
    }
   ],
   "source": [
    "bigrams ./man_cat.txt | testuser | testnum"
   ]
  },
  {
   "cell_type": "code",
   "execution_count": 36,
   "id": "d57951d5",
   "metadata": {},
   "outputs": [],
   "source": [
    "# # WORKS FINE - HALTS PROCESS\n",
    "# $ lynx-html"
   ]
  },
  {
   "cell_type": "code",
   "execution_count": 37,
   "id": "86419b9f",
   "metadata": {},
   "outputs": [
    {
     "name": "stdout",
     "output_type": "stream",
     "text": [
      "     [ [1]About Lynx-Dev | [2]Lynx-Dev Archives ]\n",
      "\n",
      "About Lynx\n",
      "\n",
      "   Lynx is a fully-featured World Wide Web (WWW) browser for users on Unix, VMS, and other platforms running cursor-addressable, character-cell terminals or emulators. That includes vt100 terminals, other character-cell displays, and vt100 emulators such as Kermit or Procomm running on PCs or Macs.\n",
      "\n",
      "   For information on how to use Lynx see the [3]Lynx User's Guide, or the [4]Lynx help files.\n",
      "\n",
      "Credits and Copyright\n",
      "\n"
     ]
    }
   ],
   "source": [
    "lynx-dump-stdout | head"
   ]
  },
  {
   "cell_type": "code",
   "execution_count": 38,
   "id": "d9ed2744",
   "metadata": {},
   "outputs": [],
   "source": [
    "# (Need Help)\n",
    "# $ lynx-dump\n",
    "# | bash: .txt: cannot overwrite existing file"
   ]
  },
  {
   "cell_type": "code",
   "execution_count": 39,
   "id": "f45efa52",
   "metadata": {},
   "outputs": [
    {
     "name": "stdout",
     "output_type": "stream",
     "text": [
      "xaea12-temp\n"
     ]
    }
   ],
   "source": [
    "setenv MY_USERNAME xaea12-temp\n",
    "echo $MY_USERNAME"
   ]
  },
  {
   "cell_type": "code",
   "execution_count": 40,
   "id": "addf3591",
   "metadata": {},
   "outputs": [
    {
     "name": "stdout",
     "output_type": "stream",
     "text": [
      "\n"
     ]
    }
   ],
   "source": [
    "unexport MY_USERNAME\n",
    "echo $MY_USERNAME"
   ]
  },
  {
   "cell_type": "code",
   "execution_count": 41,
   "id": "49d6d56d",
   "metadata": {},
   "outputs": [
    {
     "name": "stdout",
     "output_type": "stream",
     "text": [
      "END\n"
     ]
    }
   ],
   "source": [
    "echo \"END\""
   ]
  },
  {
   "cell_type": "code",
   "execution_count": null,
   "id": "ed88613c",
   "metadata": {},
   "outputs": [],
   "source": []
  }
 ],
 "metadata": {
  "kernelspec": {
   "display_name": "Bash",
   "language": "bash",
   "name": "bash"
  },
  "language_info": {
   "codemirror_mode": "shell",
   "file_extension": ".sh",
   "mimetype": "text/x-sh",
   "name": "bash"
  }
 },
 "nbformat": 4,
 "nbformat_minor": 5
}
