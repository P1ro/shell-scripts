{
 "cells": [
  {
   "cell_type": "code",
   "execution_count": 1,
   "id": "ee0d8a16",
   "metadata": {},
   "outputs": [],
   "source": [
    "## SETUP (OPTIONAL - USE IF REQUIRED)\n",
    "## Bracketed Paste is disabled to prevent characters after output\n",
    "## Example: \n",
    "## $ echo 'Hii'\n",
    "## | Hi?2004l\n",
    "# bind 'set enable-bracketed-paste off'"
   ]
  },
  {
   "cell_type": "code",
   "execution_count": 2,
   "id": "65d43538",
   "metadata": {},
   "outputs": [
    {
     "name": "stdout",
     "output_type": "stream",
     "text": [
      "[PEXP\\[\\]ECT_PROMPT>\n"
     ]
    }
   ],
   "source": [
    "echo $PS1"
   ]
  },
  {
   "cell_type": "code",
   "execution_count": 3,
   "id": "d623c9a9",
   "metadata": {},
   "outputs": [
    {
     "name": "stdout",
     "output_type": "stream",
     "text": [
      "0\n",
      "0\n"
     ]
    }
   ],
   "source": [
    "# Delete all aliases and function\n",
    "# TODO: Instead start from pristine environment\n",
    "unalias -a\n",
    "alias | wc -l\n",
    "for f in $(typeset -f | egrep '^\\w+'); do unset -f $f; done\n",
    "typeset -f | egrep '^\\w+' | wc -l\n",
    "# Setting a temp directory for tests\n",
    "TMP=/tmp/test-extensionless\n",
    "BIN_DIR=$PWD/.."
   ]
  },
  {
   "cell_type": "code",
   "execution_count": 4,
   "id": "0ff8f157",
   "metadata": {},
   "outputs": [
    {
     "name": "stdout",
     "output_type": "stream",
     "text": [
      "0\n"
     ]
    }
   ],
   "source": [
    "alias | wc -l"
   ]
  },
  {
   "cell_type": "code",
   "execution_count": 5,
   "id": "f93dc93d",
   "metadata": {},
   "outputs": [],
   "source": [
    "alias testuser=\"sed -r \"s/\"$USER\"+/user/g\"\""
   ]
  },
  {
   "cell_type": "code",
   "execution_count": 6,
   "id": "ab954c7f",
   "metadata": {},
   "outputs": [
    {
     "name": "stdout",
     "output_type": "stream",
     "text": [
      "/tmp/test-extensionless/test-3570\n"
     ]
    }
   ],
   "source": [
    "temp_dir=$TMP/test-3570\n",
    "mkdir -p \"$temp_dir\"\n",
    "cd \"$temp_dir\"\n",
    "pwd\n",
    "#ALIAS FOR PRINTING SEPERATION LINES (FOR JUPYTER)\n",
    "alias linebr=\"printf '%*s\\n' \"${COLUMNS:-$(tput cols)}\" '' | tr ' ' -\""
   ]
  },
  {
   "cell_type": "code",
   "execution_count": 7,
   "id": "ec6df159",
   "metadata": {},
   "outputs": [
    {
     "name": "stdout",
     "output_type": "stream",
     "text": [
      "2\n",
      "0\n"
     ]
    }
   ],
   "source": [
    "# Count aliases proper\n",
    "alias | wc -l\n",
    "# Count functions\n",
    "typeset -f | egrep '^\\w+' | wc -l"
   ]
  },
  {
   "cell_type": "code",
   "execution_count": 8,
   "id": "8d2d64e7",
   "metadata": {},
   "outputs": [],
   "source": [
    "alias testnum=\"sed -r \"s/[0-9]/X/g\"\" \n",
    "alias testuser=\"sed -r \"s/\"$USER\"+/user/g\"\""
   ]
  },
  {
   "cell_type": "code",
   "execution_count": 9,
   "id": "faf99139",
   "metadata": {},
   "outputs": [],
   "source": [
    "source $BIN_DIR/tomohara-aliases.bash"
   ]
  },
  {
   "cell_type": "code",
   "execution_count": 10,
   "id": "b2919e2f",
   "metadata": {},
   "outputs": [
    {
     "name": "stdout",
     "output_type": "stream",
     "text": [
      "21\n"
     ]
    }
   ],
   "source": [
    "# # 1.1) NO EXAMPLES RN FOR kill-em and kill-it\n",
    "# kill-em () | kill-em and kill-it returns same value\n",
    "kill-em --test firefox | wc -l"
   ]
  },
  {
   "cell_type": "code",
   "execution_count": 11,
   "id": "40460077",
   "metadata": {},
   "outputs": [
    {
     "name": "stdout",
     "output_type": "stream",
     "text": [
      "21\n"
     ]
    }
   ],
   "source": [
    "# kill-it ()\n",
    "kill-it --test firefox | wc -l"
   ]
  },
  {
   "cell_type": "code",
   "execution_count": 12,
   "id": "94ed70f0",
   "metadata": {},
   "outputs": [],
   "source": [
    "## 1.2) ERROR GENERATED - SCRIPT MISSING\n",
    "# $ convert-termstrings\n",
    "# | Can't open perl script \"convert_termstrings.perl\": No such file or directory"
   ]
  },
  {
   "cell_type": "code",
   "execution_count": 13,
   "id": "98b974b4",
   "metadata": {},
   "outputs": [
    {
     "name": "stdout",
     "output_type": "stream",
     "text": [
      "renamed 'tomove.txt' -> './newdir1/tomove.txt'\n",
      "newdir1  test.txt\n",
      "Backing up 'test.txt' to './backup/test.txt'\n",
      "--------------------------------------------------------------------------------\n",
      "backup\tnewdir1  test.txt\n"
     ]
    }
   ],
   "source": [
    "rm -rf ./* > /dev/null\n",
    "printf \"TOP\\nTHIS IS A TEST\\nBOTTOM\" > test.txt\n",
    "printf \"THIS IS A FILE TO MOVE\" > tomove.txt\n",
    "mkdir newdir1\n",
    "\n",
    "move tomove.txt ./newdir1/\n",
    "ls\n",
    "\n",
    "dobackup test.txt\n",
    "linebr\n",
    "ls"
   ]
  },
  {
   "cell_type": "code",
   "execution_count": 14,
   "id": "1584698d",
   "metadata": {},
   "outputs": [
    {
     "name": "stdout",
     "output_type": "stream",
     "text": [
      "XXX\n"
     ]
    }
   ],
   "source": [
    "# Large List of process with full process paths\n",
    "# Number of process is random\n",
    "ps-mine-all | wc -l | testnum "
   ]
  },
  {
   "cell_type": "code",
   "execution_count": 15,
   "id": "c7070a99",
   "metadata": {},
   "outputs": [
    {
     "name": "stdout",
     "output_type": "stream",
     "text": [
      "\n",
      "usage: do_rcsdiff.sh [-v] [-c] [--brief] [-p file_pattern] [-f] file ...\n",
      "\n",
      "examples:\n",
      "\n",
      "do_rcsdiff.sh Makefile\n",
      "\n",
      "do_rcsdiff.sh \\* >| _rcs.diff 2>&1\n",
      "\n",
      "do_rcsdiff.sh *.[ch] >| _rcs.diff 2>&1\n",
      "\n",
      "NOTES:\n",
      "- Patterns are relative to the RCS subdirectory\n",
      "- The rcsdiff command lists the rcs file before the current one, as in:\n",
      "      diff RCS-file file\n",
      "\n"
     ]
    }
   ],
   "source": [
    "# HELP REQUIRED FOR RCS FILES (TBC)\n",
    "do-rcsdiff"
   ]
  },
  {
   "cell_type": "code",
   "execution_count": 16,
   "id": "22a23226",
   "metadata": {},
   "outputs": [
    {
     "name": "stdout",
     "output_type": "stream",
     "text": [
      "'./versionR.txt' -> './versionR-1.txt'\n",
      " backup\t\t   test.txt\t  'version none.txt'  'version?.txt'\n",
      " grep_manual.txt   versionA.txta   versionR-1.txt      versionV.txt\n",
      " newdir1\t   versionI.txt    versionR.txt\n"
     ]
    }
   ],
   "source": [
    "uname -r > versionR.txt\n",
    "uname -a > versionA.txta\n",
    "uname -v > versionV.txt\n",
    "uname -i > versionI.txt\n",
    "uname > \"version none.txt\"\n",
    "uname -ra > \"version?.txt\"\n",
    "\n",
    "man grep > grep_manual.txt\n",
    "\n",
    "cp ./versionR.txt ./versionR-1.txt\n",
    "ls"
   ]
  },
  {
   "cell_type": "code",
   "execution_count": 17,
   "id": "d6117d46",
   "metadata": {},
   "outputs": [
    {
     "name": "stdout",
     "output_type": "stream",
     "text": [
      "renaming \"test.txt\" to \"harry.txt\"\n"
     ]
    }
   ],
   "source": [
    "rename-files -q test.txt harry.txt"
   ]
  },
  {
   "cell_type": "code",
   "execution_count": 18,
   "id": "95161560",
   "metadata": {},
   "outputs": [],
   "source": [
    "# # NEED HELP (TBC)\n",
    "\n",
    "# $ testwn\n",
    "# | Undefined subroutine &main::NO_OP called at /home/xaea12/bin/common.perl line 2172.\n"
   ]
  },
  {
   "cell_type": "code",
   "execution_count": 19,
   "id": "8298cf91",
   "metadata": {},
   "outputs": [
    {
     "name": "stdout",
     "output_type": "stream",
     "text": [
      "       grep, egrep, fgrep, rgrep - print lines that match patterns\n",
      "       patterns separated by newline characters, and  grep  prints  each  line\n",
      "              Suppress  normal output; instead print a count of matching lines\n",
      "              Suppress normal output; instead print the  name  of  each  input\n",
      "              file from which no output would normally have been printed.\n",
      "              Suppress  normal  output;  instead  print the name of each input\n",
      "              file  from  which  output  would  normally  have  been  printed.\n",
      "              line of output.  If -o (--only-matching) is specified, print the\n",
      "              be printed in a minimum size field width.\n",
      "              -print0,  perl  -0,  sort  -z, and xargs -0 to process arbitrary\n",
      "              When  -A,  -B, or -C are in use, print SEP instead of -- between\n",
      "              When -A, -B, or -C are in use, do not print a separator  between\n",
      "       [:graph:], [:lower:], [:print:], [:punct:], [:space:],  [:upper:],  and\n"
     ]
    }
   ],
   "source": [
    "perlgrep \"print\" ./grep_manual.txt"
   ]
  },
  {
   "cell_type": "code",
   "execution_count": 20,
   "id": "3ca47040",
   "metadata": {},
   "outputs": [],
   "source": [
    "# Need Help with example\n",
    "foreach \"echo $f\" *.txt"
   ]
  },
  {
   "cell_type": "code",
   "execution_count": 21,
   "id": "5877539b",
   "metadata": {},
   "outputs": [
    {
     "name": "stdout",
     "output_type": "stream",
     "text": [
      "renaming \"version none.txt\" to \"version_none.txt\"\n"
     ]
    }
   ],
   "source": [
    "rename-spaces"
   ]
  },
  {
   "cell_type": "code",
   "execution_count": 22,
   "id": "b4a3202e",
   "metadata": {},
   "outputs": [
    {
     "name": "stdout",
     "output_type": "stream",
     "text": [
      "renaming \"version?.txt\" to \"version.txt\"\n"
     ]
    }
   ],
   "source": [
    "rename-special-punct"
   ]
  },
  {
   "cell_type": "code",
   "execution_count": 23,
   "id": "104d555f",
   "metadata": {},
   "outputs": [],
   "source": [
    "ps -l >> \"process(L).md\"\n",
    "ps -u >> \"process(U).md\"\n",
    "ps -x >> \"process(X).md\"\n",
    "ps -al >> \"process'all'.md\"\n",
    "ps -aux >> 'psaux(1).txt'\n",
    "ps -aux >> 'psaux(2).txt'\n",
    "ps -aux >> 'psaux(3).txt'"
   ]
  },
  {
   "cell_type": "code",
   "execution_count": 24,
   "id": "66ff2781",
   "metadata": {},
   "outputs": [
    {
     "name": "stdout",
     "output_type": "stream",
     "text": [
      "renamed 'psaux(1).txt' -> 'duplicates/psaux(1).txt'\n",
      "renamed 'psaux(2).txt' -> 'duplicates/psaux(2).txt'\n",
      "renamed 'psaux(3).txt' -> 'duplicates/psaux(3).txt'\n"
     ]
    }
   ],
   "source": [
    "move-duplicates"
   ]
  },
  {
   "cell_type": "code",
   "execution_count": 25,
   "id": "33d36d20",
   "metadata": {},
   "outputs": [
    {
     "name": "stdout",
     "output_type": "stream",
     "text": [
      "renaming \"process(L).md\" to \"processL.md\"\n",
      "renaming \"process(U).md\" to \"processU.md\"\n",
      "renaming \"process(X).md\" to \"processX.md\"\n"
     ]
    }
   ],
   "source": [
    "rename-parens -v"
   ]
  },
  {
   "cell_type": "code",
   "execution_count": 26,
   "id": "8e6b254c",
   "metadata": {},
   "outputs": [
    {
     "name": "stdout",
     "output_type": "stream",
     "text": [
      "WARNING: Ignoring -quick mode as files specified\n"
     ]
    }
   ],
   "source": [
    "# Need Help \n",
    "rename-quotes -v"
   ]
  },
  {
   "cell_type": "code",
   "execution_count": 27,
   "id": "3a5731b8",
   "metadata": {},
   "outputs": [
    {
     "name": "stdout",
     "output_type": "stream",
     "text": [
      " backup\t\t   newdir1\t      processX.md\t versionR-1.txt\n",
      " duplicates\t  \"process'all'.md\"   versionA.txta\t versionR.txt\n",
      " grep_manual.txt   processL.md\t      versionI.txt\t version.txt\n",
      " harry.txt\t   processU.md\t      version_none.txt\t versionV.txt\n"
     ]
    }
   ],
   "source": [
    "ls"
   ]
  },
  {
   "cell_type": "code",
   "execution_count": 28,
   "id": "672d1bd6",
   "metadata": {},
   "outputs": [],
   "source": [
    "man sudo > sudo_manual.out\n",
    "man ansifilter > fakelog.log\n",
    "ps -aux > process_all.html"
   ]
  },
  {
   "cell_type": "code",
   "execution_count": 29,
   "id": "2b2b495d",
   "metadata": {},
   "outputs": [],
   "source": [
    "# # HELP REQUIRED - TBF\n",
    "# $ move-log-files\n",
    "# | /bin/mv: missing destination file operand after 'log-files'\n",
    "# | Try '/bin/mv --help' for more information."
   ]
  },
  {
   "cell_type": "code",
   "execution_count": 30,
   "id": "527d72eb",
   "metadata": {},
   "outputs": [],
   "source": [
    "# # HELP REQUIRED - TBF\n",
    "# $ move-output-files\n",
    "# | mv: cannot stat '$eval_middle': No such file or directory"
   ]
  },
  {
   "cell_type": "code",
   "execution_count": 31,
   "id": "937d9242",
   "metadata": {},
   "outputs": [
    {
     "name": "stdout",
     "output_type": "stream",
     "text": [
      "cp: cannot stat 'processall.md': No such file or directory\n",
      "3\n"
     ]
    }
   ],
   "source": [
    "copy-with-file-date *.md | wc -l"
   ]
  },
  {
   "cell_type": "code",
   "execution_count": 32,
   "id": "d9ba3659",
   "metadata": {},
   "outputs": [],
   "source": [
    "man cat > man_cat.txt"
   ]
  },
  {
   "cell_type": "code",
   "execution_count": 33,
   "id": "c7e4c426",
   "metadata": {},
   "outputs": [
    {
     "name": "stdout",
     "output_type": "stream",
     "text": [
      "to\tX\n",
      "and\tX\n",
      "standard\tX\n",
      "output\tX\n",
      "cat\tX\n",
      "gnu\tX\n",
      "display\tX\n",
      "free\tX\n",
      "or\tX\n",
      "is\tX\n",
      "equivalent\tX\n",
      "output.\tX\n",
      "lines\tX\n",
      "then\tX\n",
      "this\tX\n",
      "concatenate\tX\n",
      "-\tX\n",
      "by\tX\n",
      "bugs\tX\n",
      "tab\tX\n",
      "number\tX\n",
      "cat(X)\tX\n",
      "no\tX\n",
      "version\tX\n",
      "coreutils\tX\n",
      "copyright\tX\n",
      "exit\tX\n",
      "the\tX\n",
      "repeated\tX\n",
      "-,\tX\n",
      "'(coreutils)\tX\n",
      "change\tX\n",
      "g\tX\n",
      "f\tX\n",
      "information\tX\n",
      "--number\tX\n",
      "february\tX\n",
      "reporting\tX\n",
      "[option]...\tX\n",
      "any\tX\n",
      "also\tX\n",
      "end\tX\n",
      "full\tX\n",
      "on\tX\n",
      "there\tX\n",
      "of\tX\n",
      "--squeeze-blank\tX\n",
      "©\tX\n",
      "-b,\tX\n",
      "<https://translationproject.org/team/>\tX\n",
      "-t,\tX\n",
      "info\tX\n",
      "file(s)\tX\n",
      "synopsis\tX\n",
      "are\tX\n",
      "--show-nonprinting\tX\n",
      "as\tX\n",
      "[file]...\tX\n",
      "XXXX\tX\n",
      "^\tX\n",
      "you\tX\n",
      "description\tX\n",
      "except\tX\n",
      "lfd\tX\n",
      "-t\tX\n",
      "print\tX\n",
      "when\tX\n",
      "torbjorn\tX\n",
      "input.\tX\n",
      "XXXX\tX\n",
      "(ignored)\tX\n",
      "--version\tX\n",
      "help\tX\n",
      "--show-all\tX\n",
      "at\tX\n",
      "input,\tX\n",
      "file\tX\n",
      "available\tX\n",
      "permitted\tX\n",
      "-a,\tX\n",
      "tac(X)\tX\n",
      "contents,\tX\n",
      "foundation,\tX\n",
      "warranty,\tX\n",
      "-s,\tX\n",
      "read\tX\n",
      "contents.\tX\n",
      "notation,\tX\n",
      "-v,\tX\n",
      "-u\tX\n",
      "help:\tX\n",
      "gplvX+:\tX\n",
      "user\tX\n",
      "^i\tX\n",
      "-vet\tX\n",
      "$\tX\n",
      "-ve\tX\n",
      "author\tX\n",
      "X.XX\tX\n",
      "X\tX\n",
      "all\tX\n",
      "translation\tX\n",
      "n/a\tX\n",
      "--help\tX\n",
      "--number-nonblank\tX\n",
      "use\tX\n",
      "law.\tX\n",
      "file,\tX\n",
      "license\tX\n",
      "extent\tX\n",
      "m.\tX\n",
      "gpl\tX\n",
      "nonempty\tX\n",
      "m-\tX\n",
      "online\tX\n",
      "input\tX\n",
      "locally\tX\n",
      "g's\tX\n",
      "f's\tX\n",
      "it.\tX\n",
      "files\tX\n",
      "-e,\tX\n",
      "overrides\tX\n",
      "see\tX\n",
      "-n\tX\n",
      "with\tX\n",
      "name\tX\n",
      "examples\tX\n",
      "<https://gnu.org/licenses/gpl.html>.\tX\n",
      "later\tX\n",
      "redistribute\tX\n",
      "documentation\tX\n",
      "empty\tX\n",
      "-e\tX\n",
      "software\tX\n",
      "each\tX\n",
      "granlund\tX\n",
      "characters\tX\n",
      "-n,\tX\n",
      "software:\tX\n",
      "copy\tX\n",
      "suppress\tX\n",
      "commands\tX\n",
      "--show-ends\tX\n",
      "invocation'\tX\n",
      "<https://www.gnu.org/software/coreutils/cat>\tX\n",
      "richard\tX\n",
      "lines,\tX\n",
      "for\tX\n",
      "<https://www.gnu.org/software/coreutils/>\tX\n",
      "-vt\tX\n",
      "stallman.\tX\n",
      "line\tX\n",
      "inc.\tX\n",
      "--show-tabs\tX\n",
      "via:\tX\n",
      "report\tX\n",
      "written\tX\n"
     ]
    }
   ],
   "source": [
    "unigrams ./man_cat.txt | testuser | testnum"
   ]
  },
  {
   "cell_type": "code",
   "execution_count": 34,
   "id": "1d96c16e",
   "metadata": {
    "scrolled": true
   },
   "outputs": [
    {
     "name": "stdout",
     "output_type": "stream",
     "text": [
      "to\tX\n",
      "and\tX\n",
      "standard\tX\n",
      "output\tX\n",
      "cat\tX\n",
      "or\tX\n",
      "free\tX\n",
      "is\tX\n",
      "display\tX\n",
      "equivalent\tX\n",
      "gnu\tX\n",
      "number\tX\n",
      "version\tX\n",
      "copyright\tX\n",
      "output.\tX\n",
      "bugs\tX\n",
      "then\tX\n",
      "lines\tX\n",
      "exit\tX\n",
      "by\tX\n",
      "no\tX\n",
      "this\tX\n",
      "tab\tX\n",
      "concatenate\tX\n",
      "the\tX\n",
      "cat(X)\tX\n",
      "-\tX\n",
      "coreutils\tX\n",
      "lfd\tX\n",
      "see\tX\n",
      "contents,\tX\n",
      "^\tX\n",
      "XXXX\tX\n",
      "<https://translationproject.org/team/>\tX\n",
      "-ve\tX\n",
      "for\tX\n",
      "each\tX\n",
      "'(coreutils)\tX\n",
      "written\tX\n",
      "info\tX\n",
      "suppress\tX\n",
      "commands\tX\n",
      "m.\tX\n",
      "granlund\tX\n",
      "at\tX\n",
      "line\tX\n",
      "[option]...\tX\n",
      "via:\tX\n",
      "name\tX\n",
      "-n\tX\n",
      "copy\tX\n",
      "-v,\tX\n",
      "help\tX\n",
      "it.\tX\n",
      "<https://www.gnu.org/software/coreutils/cat>\tX\n",
      "characters\tX\n",
      "-t\tX\n",
      "stallman.\tX\n",
      "all\tX\n",
      "description\tX\n",
      "on\tX\n",
      "nonempty\tX\n",
      "-b,\tX\n",
      "locally\tX\n",
      "there\tX\n",
      "-e,\tX\n",
      "-vet\tX\n",
      "--help\tX\n",
      "^i\tX\n",
      "-vt\tX\n",
      "february\tX\n",
      "notation,\tX\n",
      "input.\tX\n",
      "warranty,\tX\n",
      "user\tX\n",
      "file(s)\tX\n",
      "full\tX\n",
      "--version\tX\n",
      "law.\tX\n",
      "author\tX\n",
      "-u\tX\n",
      "as\tX\n",
      "report\tX\n",
      "f\tX\n",
      "permitted\tX\n",
      "contents.\tX\n",
      "help:\tX\n",
      "foundation,\tX\n",
      "lines,\tX\n",
      "g\tX\n",
      "empty\tX\n",
      "m-\tX\n",
      "--show-ends\tX\n",
      "when\tX\n",
      "--show-tabs\tX\n",
      "information\tX\n",
      "f's\tX\n",
      "n/a\tX\n",
      "software\tX\n",
      "input,\tX\n",
      "invocation'\tX\n",
      "-t,\tX\n",
      "end\tX\n",
      "repeated\tX\n",
      "<https://www.gnu.org/software/coreutils/>\tX\n",
      "-a,\tX\n",
      "[file]...\tX\n",
      "-,\tX\n",
      "<https://gnu.org/licenses/gpl.html>.\tX\n",
      "use\tX\n",
      "g's\tX\n",
      "--show-all\tX\n",
      "--number\tX\n",
      "-n,\tX\n",
      "of\tX\n",
      "reporting\tX\n",
      "file,\tX\n",
      "torbjorn\tX\n",
      "except\tX\n",
      "software:\tX\n",
      "overrides\tX\n",
      "--number-nonblank\tX\n",
      "redistribute\tX\n",
      "--show-nonprinting\tX\n",
      "translation\tX\n",
      "gplvX+:\tX\n",
      "also\tX\n",
      "--squeeze-blank\tX\n",
      "X.XX\tX\n",
      "©\tX\n",
      "-s,\tX\n",
      "file\tX\n",
      "change\tX\n",
      "documentation\tX\n",
      "$\tX\n",
      "X\tX\n",
      "any\tX\n",
      "examples\tX\n",
      "inc.\tX\n",
      "with\tX\n",
      "extent\tX\n",
      "XXXX\tX\n",
      "(ignored)\tX\n",
      "online\tX\n",
      "later\tX\n",
      "license\tX\n",
      "gpl\tX\n",
      "read\tX\n",
      "input\tX\n",
      "-e\tX\n",
      "available\tX\n",
      "you\tX\n",
      "tac(X)\tX\n",
      "richard\tX\n",
      "print\tX\n",
      "files\tX\n",
      "are\tX\n",
      "synopsis\tX\n"
     ]
    }
   ],
   "source": [
    "word-count ./man_cat.txt | testuser | testnum"
   ]
  },
  {
   "cell_type": "code",
   "execution_count": 35,
   "id": "71adad1d",
   "metadata": {},
   "outputs": [
    {
     "name": "stdout",
     "output_type": "stream",
     "text": [
      "equivalent:to\tX\n",
      "output:lines\tX\n",
      "to:standard\tX\n",
      "standard:output.\tX\n",
      "and:exit\tX\n",
      "gnu:coreutils\tX\n",
      "notation,:except\tX\n",
      "--number:number\tX\n",
      "f:-\tX\n",
      "X.XX:february\tX\n",
      "read:standard\tX\n",
      "contents.:cat\tX\n",
      "<https://translationproject.org/team/>:copyright\tX\n",
      "--show-ends:display\tX\n",
      "stallman.:reporting\tX\n",
      "line:-n,\tX\n",
      "coreutils:X.XX\tX\n",
      "reporting:bugs\tX\n",
      "-e:equivalent\tX\n",
      "output:version\tX\n",
      "-s,:--squeeze-blank\tX\n",
      "file(s):to\tX\n",
      "display:tab\tX\n",
      "as:^i\tX\n",
      "locally:via:\tX\n",
      "commands:cat(X)\tX\n",
      "print:on\tX\n",
      "lfd:and\tX\n",
      "g:output\tX\n",
      "or:later\tX\n",
      "output:synopsis\tX\n",
      "n/a:n/a\tX\n",
      "display:$\tX\n",
      "available:locally\tX\n",
      "each:line\tX\n",
      "help::<https://www.gnu.org/software/coreutils/>\tX\n",
      "you:are\tX\n",
      "input,:then\tX\n",
      "number:all\tX\n",
      "--number-nonblank:number\tX\n",
      "software::you\tX\n",
      "are:free\tX\n",
      "--help:display\tX\n",
      "output:lines,\tX\n",
      "-vt:-t,\tX\n",
      "is:no\tX\n",
      "information:and\tX\n",
      "any:translation\tX\n",
      "gpl:version\tX\n",
      "the:extent\tX\n",
      "see:also\tX\n",
      "and:redistribute\tX\n",
      "m.:stallman.\tX\n",
      "output:f's\tX\n",
      "by:law.\tX\n",
      "exit:examples\tX\n",
      "f's:contents,\tX\n",
      "file:is\tX\n",
      "cat:copy\tX\n",
      "-:concatenate\tX\n",
      "foundation,:inc.\tX\n",
      "to:-vt\tX\n",
      "later:<https://gnu.org/licenses/gpl.html>.\tX\n",
      "on:the\tX\n",
      "'(coreutils):cat\tX\n",
      "examples:cat\tX\n",
      "X:or\tX\n",
      "standard:input\tX\n",
      "-b,:--number-nonblank\tX\n",
      "all:output\tX\n",
      "no:warranty,\tX\n",
      "tab:characters\tX\n",
      "<https://gnu.org/licenses/gpl.html>.:this\tX\n",
      "gnu:gpl\tX\n",
      "redistribute:it.\tX\n",
      "cat(X):user\tX\n",
      "with:no\tX\n",
      "free:to\tX\n",
      "exit:--version\tX\n",
      "cat:invocation'\tX\n",
      "(ignored):-v,\tX\n",
      "is:free\tX\n",
      "there:is\tX\n",
      "to:change\tX\n",
      "permitted:by\tX\n",
      "invocation':gnu\tX\n",
      "also:tac(X)\tX\n",
      "and:print\tX\n",
      "n/a:cat(X)\tX\n",
      "-,:read\tX\n",
      "-u:(ignored)\tX\n",
      "input:to\tX\n",
      "to:the\tX\n",
      "license:gplvX+:\tX\n",
      "files:and\tX\n",
      "copyright:©\tX\n",
      "XXXX:free\tX\n",
      "free:software\tX\n",
      "file,:or\tX\n",
      "of:each\tX\n",
      "inc.:license\tX\n",
      "written:by\tX\n",
      "output.:author\tX\n",
      "at:end\tX\n",
      "and:m-\tX\n",
      "©:XXXX\tX\n",
      "lines:-s,\tX\n",
      "end:of\tX\n",
      "then:g's\tX\n",
      "-v,:--show-nonprinting\tX\n",
      "--squeeze-blank:suppress\tX\n",
      "law.:see\tX\n",
      "--show-all:equivalent\tX\n",
      "february:XXXX\tX\n",
      "output.:with\tX\n",
      "concatenate:files\tX\n",
      "-:g\tX\n",
      "[file]...:description\tX\n",
      "g's:contents.\tX\n",
      "$:at\tX\n",
      "m-:notation,\tX\n",
      "free:software:\tX\n",
      "-t,:--show-tabs\tX\n",
      "software:foundation,\tX\n",
      "full:documentation\tX\n",
      "to:<https://translationproject.org/team/>\tX\n",
      "<https://www.gnu.org/software/coreutils/cat>:or\tX\n",
      "or:when\tX\n",
      "help:and\tX\n",
      "suppress:repeated\tX\n",
      "-ve:-e,\tX\n",
      "lines:-t\tX\n",
      "name:cat\tX\n",
      "repeated:empty\tX\n",
      "-e,:--show-ends\tX\n",
      "this:is\tX\n",
      "-n:-e\tX\n",
      "tac(X):full\tX\n",
      "info:'(coreutils)\tX\n",
      "by:torbjorn\tX\n",
      "user:commands\tX\n",
      "-n,:--number\tX\n",
      "use:^\tX\n",
      "cat:f\tX\n",
      "for:lfd\tX\n",
      "no:file,\tX\n",
      "number:nonempty\tX\n",
      "author:written\tX\n",
      "concatenate:file(s)\tX\n",
      "change:and\tX\n",
      "when:file\tX\n",
      "input.:-a,\tX\n",
      "documentation:<https://www.gnu.org/software/coreutils/cat>\tX\n",
      "bugs:to\tX\n",
      "standard:output\tX\n",
      "version:information\tX\n",
      "gplvX+::gnu\tX\n",
      "torbjorn:granlund\tX\n",
      "extent:permitted\tX\n",
      "granlund:and\tX\n",
      "characters:as\tX\n",
      "empty:output\tX\n",
      "to:-vet\tX\n",
      "to:-ve\tX\n",
      "synopsis:cat\tX\n",
      "except:for\tX\n",
      "overrides:-n\tX\n",
      "-a,:--show-all\tX\n",
      "coreutils:online\tX\n",
      "copy:standard\tX\n",
      "this:help\tX\n",
      "or:available\tX\n",
      "-vet:-b,\tX\n",
      "--show-tabs:display\tX\n",
      "version:X\tX\n",
      "copyright:copyright\tX\n",
      "via::info\tX\n",
      "and:tab\tX\n",
      "contents,:then\tX\n",
      "warranty,:to\tX\n",
      "[option]...:[file]...\tX\n",
      "is:-,\tX\n",
      "standard:input.\tX\n",
      "^i:-u\tX\n",
      "description:concatenate\tX\n",
      "--show-nonprinting:use\tX\n",
      "cat:[option]...\tX\n",
      "lines,:overrides\tX\n",
      "display:this\tX\n",
      "bugs:gnu\tX\n",
      "nonempty:output\tX\n",
      "^:and\tX\n",
      "the:standard\tX\n",
      "and:richard\tX\n",
      "it.:there\tX\n",
      "--version:output\tX\n",
      "report:any\tX\n",
      "tab:--help\tX\n",
      "<https://www.gnu.org/software/coreutils/>:report\tX\n",
      "-t:equivalent\tX\n",
      "standard:input,\tX\n",
      "online:help:\tX\n",
      "cat:-\tX\n",
      "cat(X):name\tX\n",
      "then:standard\tX\n",
      "translation:bugs\tX\n",
      "richard:m.\tX\n"
     ]
    }
   ],
   "source": [
    "bigrams ./man_cat.txt | testuser | testnum"
   ]
  },
  {
   "cell_type": "code",
   "execution_count": 36,
   "id": "d57951d5",
   "metadata": {},
   "outputs": [],
   "source": [
    "# # WORKS FINE - HALTS PROCESS\n",
    "# $ lynx-html"
   ]
  },
  {
   "cell_type": "code",
   "execution_count": 37,
   "id": "86419b9f",
   "metadata": {},
   "outputs": [
    {
     "name": "stdout",
     "output_type": "stream",
     "text": [
      "     [ [1]About Lynx-Dev | [2]Lynx-Dev Archives ]\n",
      "\n",
      "About Lynx\n",
      "\n",
      "   Lynx is a fully-featured World Wide Web (WWW) browser for users on Unix, VMS, and other platforms running cursor-addressable, character-cell terminals or emulators. That includes vt100 terminals, other character-cell displays, and vt100 emulators such as Kermit or Procomm running on PCs or Macs.\n",
      "\n",
      "   For information on how to use Lynx see the [3]Lynx User's Guide, or the [4]Lynx help files.\n",
      "\n",
      "Credits and Copyright\n",
      "\n"
     ]
    }
   ],
   "source": [
    "lynx-dump-stdout | head"
   ]
  },
  {
   "cell_type": "code",
   "execution_count": 38,
   "id": "d9ed2744",
   "metadata": {},
   "outputs": [],
   "source": [
    "# (Need Help)\n",
    "# $ lynx-dump\n",
    "# | bash: .txt: cannot overwrite existing file"
   ]
  },
  {
   "cell_type": "code",
   "execution_count": 39,
   "id": "f45efa52",
   "metadata": {},
   "outputs": [
    {
     "name": "stdout",
     "output_type": "stream",
     "text": [
      "xaea12-temp\n"
     ]
    }
   ],
   "source": [
    "setenv MY_USERNAME xaea12-temp\n",
    "echo $MY_USERNAME"
   ]
  },
  {
   "cell_type": "code",
   "execution_count": 40,
   "id": "addf3591",
   "metadata": {},
   "outputs": [
    {
     "name": "stdout",
     "output_type": "stream",
     "text": [
      "\n"
     ]
    }
   ],
   "source": [
    "unexport MY_USERNAME\n",
    "echo $MY_USERNAME"
   ]
  },
  {
   "cell_type": "code",
   "execution_count": 41,
   "id": "49d6d56d",
   "metadata": {},
   "outputs": [
    {
     "name": "stdout",
     "output_type": "stream",
     "text": [
      "END\n"
     ]
    }
   ],
   "source": [
    "echo \"END\""
   ]
  },
  {
   "cell_type": "code",
   "execution_count": null,
   "id": "ed88613c",
   "metadata": {},
   "outputs": [],
   "source": []
  }
 ],
 "metadata": {
  "kernelspec": {
   "display_name": "Bash",
   "language": "bash",
   "name": "bash"
  },
  "language_info": {
   "codemirror_mode": "shell",
   "file_extension": ".sh",
   "mimetype": "text/x-sh",
   "name": "bash"
  }
 },
 "nbformat": 4,
 "nbformat_minor": 5
}
