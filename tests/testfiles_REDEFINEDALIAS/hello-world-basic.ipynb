{
 "cells": [
  {
   "cell_type": "code",
   "execution_count": 1,
   "id": "a03c1f14",
   "metadata": {
    "scrolled": false
   },
   "outputs": [
    {
     "name": "stdout",
     "output_type": "stream",
     "text": [
      "BIND ON!\u001b[?2004l\n"
     ]
    }
   ],
   "source": [
    "# Setup\n",
    "bind 'set enable-bracketed-paste off'\n",
    "echo \"BIND ON!\""
   ]
  },
  {
   "cell_type": "code",
   "execution_count": 2,
   "id": "10e4aac0",
   "metadata": {},
   "outputs": [
    {
     "name": "stdout",
     "output_type": "stream",
     "text": [
      "Hi Mom!\n"
     ]
    }
   ],
   "source": [
    "echo \"Hi Mom!\""
   ]
  },
  {
   "cell_type": "code",
   "execution_count": 3,
   "id": "93dfcf88",
   "metadata": {},
   "outputs": [
    {
     "name": "stdout",
     "output_type": "stream",
     "text": [
      "1\n"
     ]
    }
   ],
   "source": [
    "echo 'Hello world' | wc -l"
   ]
  }
 ],
 "metadata": {
  "kernelspec": {
   "display_name": "Bash",
   "language": "bash",
   "name": "bash"
  },
  "language_info": {
   "codemirror_mode": "shell",
   "file_extension": ".sh",
   "mimetype": "text/x-sh",
   "name": "bash"
  }
 },
 "nbformat": 4,
 "nbformat_minor": 5
}
