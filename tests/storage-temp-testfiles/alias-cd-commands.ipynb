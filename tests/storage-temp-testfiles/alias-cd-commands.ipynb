{
 "cells": [
  {
   "cell_type": "code",
   "execution_count": 1,
   "id": "273ee5ab",
   "metadata": {
    "scrolled": true
   },
   "outputs": [
    {
     "name": "stdout",
     "output_type": "stream",
     "text": [
      "\u001b[?2004h\u001b[?2004l\r"
     ]
    }
   ],
   "source": [
    "# Setup\n",
    "bind 'set enable-bracketed-paste off'"
   ]
  },
  {
   "cell_type": "code",
   "execution_count": 2,
   "id": "be06fc5c",
   "metadata": {},
   "outputs": [],
   "source": [
    "## Bracketed Paste is disabled to prevent characters after output\n",
    "## Example: \n",
    "# $ echo 'Hii'\n",
    "# | Hi?2004l"
   ]
  },
  {
   "cell_type": "code",
   "execution_count": 3,
   "id": "90b1a7f3",
   "metadata": {},
   "outputs": [
    {
     "name": "stdout",
     "output_type": "stream",
     "text": [
      "[PEXP\\[\\]ECT_PROMPT>\n"
     ]
    }
   ],
   "source": [
    "## TEST:  Make sure simple prompt used (e.g., no escapes that might contaminate output)\n",
    "## PS1=\"$ \"\n",
    "## TODO: PS1=\"> \"\n",
    "\n",
    "## NOTE: The Jupyter bash kernel requires that PS1 not be modified as they customize it. \n",
    "echo $PS1"
   ]
  },
  {
   "cell_type": "code",
   "execution_count": 4,
   "id": "deb11d8f",
   "metadata": {},
   "outputs": [
    {
     "name": "stdout",
     "output_type": "stream",
     "text": [
      "0\n",
      "0\n"
     ]
    }
   ],
   "source": [
    "# Delete all aliases and function\n",
    "# TODO: Instead start from pristine environment\n",
    "unalias -a\n",
    "alias | wc -l\n",
    "for f in $(typeset -f | egrep '^\\w+'); do unset -f $f; done\n",
    "typeset -f | egrep '^\\w+' | wc -l"
   ]
  },
  {
   "cell_type": "code",
   "execution_count": 5,
   "id": "d29a9848",
   "metadata": {},
   "outputs": [
    {
     "name": "stdout",
     "output_type": "stream",
     "text": [
      "8\n"
     ]
    }
   ],
   "source": [
    "# Setting a temp directory for tests\n",
    "TMP=/tmp/test-cp-mv\n",
    "\n",
    "## NOTE: Source it directly from the ./tests directory.\n",
    "BIN_DIR=$PWD/..\n",
    "## You will need to run jupyter from that directory.\n",
    "## source $TEMP_BIN/_dir-aliases.bash\n",
    "source _dir-aliases.bash\n",
    "alias | wc -l"
   ]
  },
  {
   "cell_type": "code",
   "execution_count": 6,
   "id": "29cebb30",
   "metadata": {},
   "outputs": [
    {
     "name": "stdout",
     "output_type": "stream",
     "text": [
      "/tmp/test-cp-mv/test-6869\n"
     ]
    }
   ],
   "source": [
    "## NOTE: For reproducability, the directory name needs to be fixed\n",
    "## In place of $$, use a psuedo random number (e,g., 6869)\n",
    "## *** All output from one run to the next needs to be the same ***\n",
    "\n",
    "## temp_dir=$TMP/test-$$\n",
    "temp_dir=$TMP/test-6869\n",
    "\n",
    "mkdir -p \"$temp_dir\"\n",
    "# TODO: /bin/rm -rvf \"$temp_dir\"\n",
    "cd \"$temp_dir\"\n",
    "pwd\n",
    "\n",
    "#ALIAS FOR PRINTING SEPERATION LINES (FOR JUPYTER)\n",
    "alias linebr=\"printf '%*s\\n' \"${COLUMNS:-$(tput cols)}\" '' | tr ' ' -\""
   ]
  },
  {
   "cell_type": "code",
   "execution_count": 7,
   "id": "9e1fb88a",
   "metadata": {},
   "outputs": [
    {
     "name": "stdout",
     "output_type": "stream",
     "text": [
      "9\n"
     ]
    }
   ],
   "source": [
    "# Count aliases proper\n",
    "alias | wc -l"
   ]
  },
  {
   "cell_type": "code",
   "execution_count": 8,
   "id": "6a1cb00b",
   "metadata": {},
   "outputs": [
    {
     "name": "stdout",
     "output_type": "stream",
     "text": [
      "2\n"
     ]
    }
   ],
   "source": [
    "# Count functions\n",
    "typeset -f | egrep '^\\w+' | wc -l"
   ]
  },
  {
   "cell_type": "code",
   "execution_count": 9,
   "id": "a0298ca6",
   "metadata": {},
   "outputs": [],
   "source": [
    "# # Command overrides for cd, etc. that set the xterm title to the current directory\n",
    "# # TODO: use alias's instead so that the same name can be used as the command\n",
    "# # NOTES: \n",
    "# #\n",
    "# # - (from bash manual)  There is no mechanism for using arguments in\n",
    "# # the replacement text, as in csh. If arguments are needed, a shell\n",
    "# # function should be used.\n",
    "# #\n",
    "# # This is conditioned upon not running under emacs, so that the escape\n",
    "# # sequence doesn't end up in the buffer.\n",
    "# #\n",
    "# if [ \"$UNDER_EMACS\" != \"1\" ]; then\n",
    "#     function cd () { builtin cd \"$@\"; set-title-to-current-dir; }\n",
    "#     function pushd () { builtin pushd \"$@\"; set-title-to-current-dir; }\n",
    "#     function popd () { builtin popd; set-title-to-current-dir; }\n",
    "# fi"
   ]
  },
  {
   "cell_type": "code",
   "execution_count": 10,
   "id": "d88e3329",
   "metadata": {},
   "outputs": [],
   "source": [
    "alias chdir='cd'\n",
    "# cd-realdir(dir): change into the real path for DIR\n",
    "# cd-this-realdir: ditto for current directory\n",
    "## OLD: function cd-realdir { local dir=\"$1\";  if [ \"$dir\" = \"\" ]; then dir=.; fi;  cd $(realpath \"$dir\"); }\n",
    "function cd-realdir {\n",
    "    local dir=\"$1\";\n",
    "    if [ \"$dir\" = \"\" ]; then dir=.; fi;\n",
    "    cd \"$(realpath \"$dir\")\";\n",
    "    pwd;\n",
    "}\n",
    "alias cd-this-realdir='cd-realdir .'"
   ]
  },
  {
   "cell_type": "code",
   "execution_count": 11,
   "id": "b630c75b",
   "metadata": {},
   "outputs": [],
   "source": [
    "# pushd-q, popd-q: quiet versions of pushd and popd\n",
    "#\n",
    "function pushd-q () { builtin pushd \"$@\" >| /dev/null; }\n",
    "function popd-q () { builtin popd >| /dev/null; }\n",
    "#"
   ]
  },
  {
   "cell_type": "code",
   "execution_count": 12,
   "id": "6cce12a4",
   "metadata": {},
   "outputs": [
    {
     "name": "stdout",
     "output_type": "stream",
     "text": [
      "/tmp/test-cp-mv/test-6869\n"
     ]
    }
   ],
   "source": [
    "# SHOWS CURRENT WORKING DIRECTORY\n",
    "pwd"
   ]
  },
  {
   "cell_type": "code",
   "execution_count": 13,
   "id": "069ed8cc",
   "metadata": {},
   "outputs": [
    {
     "name": "stdout",
     "output_type": "stream",
     "text": [
      "/tmp/test-cp-mv\n",
      "/tmp/test-cp-mv/test-6869\n",
      "--------------------------------------------------------------------------------\n",
      "/tmp/test-cp-mv\n",
      "/tmp/test-cp-mv/test-6869\n"
     ]
    }
   ],
   "source": [
    "## chdir works as cd\n",
    "chdir ..\n",
    "pwd\n",
    "chdir test-6869/\n",
    "pwd\n",
    "\n",
    "linebr\n",
    "\n",
    "## cd-this-realdir works as cd as well\n",
    "chdir ..\n",
    "pwd\n",
    "chdir test-6869/\n",
    "pwd\n"
   ]
  },
  {
   "cell_type": "code",
   "execution_count": null,
   "id": "36fb8fbd",
   "metadata": {},
   "outputs": [],
   "source": []
  },
  {
   "cell_type": "code",
   "execution_count": null,
   "id": "4033a985",
   "metadata": {},
   "outputs": [],
   "source": []
  }
 ],
 "metadata": {
  "kernelspec": {
   "display_name": "Bash",
   "language": "bash",
   "name": "bash"
  },
  "language_info": {
   "codemirror_mode": "shell",
   "file_extension": ".sh",
   "mimetype": "text/x-sh",
   "name": "bash"
  }
 },
 "nbformat": 4,
 "nbformat_minor": 5
}
