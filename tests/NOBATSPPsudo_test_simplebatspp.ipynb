{
 "cells": [
  {
   "cell_type": "code",
   "execution_count": 1,
   "id": "6e7a3f53",
   "metadata": {},
   "outputs": [],
   "source": [
    "alias testnum=\"sed -r \"s/[0-9]/X/g\"\" \n",
    "alias testuser=\"sed -r \"s/\"$USER\"+/user/g\"\""
   ]
  },
  {
   "cell_type": "code",
   "execution_count": 2,
   "id": "561923b4",
   "metadata": {},
   "outputs": [
    {
     "name": "stdout",
     "output_type": "stream",
     "text": [
      "Hello\n"
     ]
    }
   ],
   "source": [
    "echo \"Hello\""
   ]
  },
  {
   "cell_type": "code",
   "execution_count": 3,
   "id": "04d68d13",
   "metadata": {},
   "outputs": [
    {
     "name": "stdout",
     "output_type": "stream",
     "text": [
      "15\n"
     ]
    }
   ],
   "source": [
    "echo \"This is a test\" | wc -c"
   ]
  },
  {
   "cell_type": "code",
   "execution_count": 4,
   "id": "231c0073",
   "metadata": {},
   "outputs": [
    {
     "name": "stdout",
     "output_type": "stream",
     "text": [
      "lo        no wireless extensions.\n",
      "\n",
      "eno1      no wireless extensions.\n",
      "\n",
      "wlp4s0    IEEE 802.11  ESSID:\"Sudhir_DHFibernet\"  \n",
      "          Mode:Managed  Frequency:2.447 GHz  Access Point: 6C:14:6E:5A:B7:58   \n",
      "          Bit Rate=78 Mb/s   Tx-Power=3 dBm   \n",
      "          Retry short limit:7   RTS thr:off   Fragment thr:off\n",
      "          Power Management:on\n",
      "          Link Quality=42/70  Signal level=-68 dBm  \n",
      "          Rx invalid nwid:0  Rx invalid crypt:0  Rx invalid frag:0\n",
      "          Tx excessive retries:0  Invalid misc:3   Missed beacon:0\n",
      "\n"
     ]
    }
   ],
   "source": [
    "iwconfig | tee wireless_info.txt"
   ]
  },
  {
   "cell_type": "code",
   "execution_count": 5,
   "id": "db123939",
   "metadata": {},
   "outputs": [
    {
     "name": "stdout",
     "output_type": "stream",
     "text": [
      "wlp4s0    IEEE 802.11  ESSID:\"Sudhir_DHFibernet\"  \n",
      "          Mode:Managed  Frequency:2.447 GHz  Access Point: 6C:14:6E:5A:B7:58   \n",
      "          Bit Rate=78 Mb/s   Tx-Power=3 dBm   \n",
      "          Retry short limit:7   RTS thr:off   Fragment thr:off\n",
      "          Power Management:on\n",
      "          Link Quality=42/70  Signal level=-68 dBm  \n",
      "          Rx invalid nwid:0  Rx invalid crypt:0  Rx invalid frag:0\n",
      "          Tx excessive retries:0  Invalid misc:3   Missed beacon:0\n",
      "\n"
     ]
    }
   ],
   "source": [
    "cat wireless_info.txt"
   ]
  },
  {
   "cell_type": "code",
   "execution_count": 6,
   "id": "8b4b06f1",
   "metadata": {},
   "outputs": [],
   "source": [
    "# uname | sudo -S tee kernelinfo.txt < ./temp/pass.txt"
   ]
  },
  {
   "cell_type": "code",
   "execution_count": 7,
   "id": "4d23f871",
   "metadata": {},
   "outputs": [
    {
     "name": "stdout",
     "output_type": "stream",
     "text": [
      "Done\n"
     ]
    }
   ],
   "source": [
    "echo \"Done\""
   ]
  },
  {
   "cell_type": "code",
   "execution_count": 8,
   "id": "ff4914d4",
   "metadata": {},
   "outputs": [],
   "source": [
    "# sudo apt search libnoise"
   ]
  },
  {
   "cell_type": "code",
   "execution_count": null,
   "id": "a062a55e",
   "metadata": {},
   "outputs": [],
   "source": [
    "sudo apt search libnoise "
   ]
  },
  {
   "cell_type": "code",
   "execution_count": null,
   "id": "2752ea50",
   "metadata": {},
   "outputs": [],
   "source": []
  }
 ],
 "metadata": {
  "kernelspec": {
   "display_name": "Bash",
   "language": "bash",
   "name": "bash"
  },
  "language_info": {
   "codemirror_mode": "shell",
   "file_extension": ".sh",
   "mimetype": "text/x-sh",
   "name": "bash"
  }
 },
 "nbformat": 4,
 "nbformat_minor": 5
}
