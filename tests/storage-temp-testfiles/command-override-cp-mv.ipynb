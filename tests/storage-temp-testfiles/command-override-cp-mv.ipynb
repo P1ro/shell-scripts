{
 "cells": [
  {
   "cell_type": "code",
   "execution_count": 1,
   "id": "ddcda795",
   "metadata": {},
   "outputs": [
    {
     "name": "stdout",
     "output_type": "stream",
     "text": [
      "\u001b[?2004h\u001b[?2004l\r"
     ]
    }
   ],
   "source": [
    "# Setup\n",
    "bind 'set enable-bracketed-paste off'"
   ]
  },
  {
   "cell_type": "code",
   "execution_count": 2,
   "id": "98a6bb80",
   "metadata": {},
   "outputs": [],
   "source": [
    "## Bracketed Paste is disabled to prevent characters after output\n",
    "## Example: \n",
    "# $ echo 'Hii'\n",
    "# | Hi?2004l"
   ]
  },
  {
   "cell_type": "code",
   "execution_count": 3,
   "id": "c33c5c15",
   "metadata": {},
   "outputs": [
    {
     "name": "stdout",
     "output_type": "stream",
     "text": [
      "[PEXP\\[\\]ECT_PROMPT>\n"
     ]
    }
   ],
   "source": [
    "## TEST:  Make sure simple prompt used (e.g., no escapes that might contaminate output)\n",
    "## PS1=\"$ \"\n",
    "## TODO: PS1=\"> \"\n",
    "\n",
    "## NOTE: The Jupyter bash kernel requires that PS1 not be modified as they customize it. \n",
    "echo $PS1"
   ]
  },
  {
   "cell_type": "code",
   "execution_count": 4,
   "id": "be8ef5b9",
   "metadata": {},
   "outputs": [
    {
     "name": "stdout",
     "output_type": "stream",
     "text": [
      "0\n",
      "0\n"
     ]
    }
   ],
   "source": [
    "# Delete all aliases and function\n",
    "# TODO: Instead start from pristine environment\n",
    "unalias -a\n",
    "alias | wc -l\n",
    "for f in $(typeset -f | egrep '^\\w+'); do unset -f $f; done\n",
    "typeset -f | egrep '^\\w+' | wc -l"
   ]
  },
  {
   "cell_type": "code",
   "execution_count": 5,
   "id": "d953dc6d",
   "metadata": {},
   "outputs": [
    {
     "name": "stdout",
     "output_type": "stream",
     "text": [
      "8\n"
     ]
    }
   ],
   "source": [
    "# Setting a temp directory for tests\n",
    "TMP=/tmp/test-cp-mv\n",
    "\n",
    "## NOTE: Source it directly from the ./tests directory.\n",
    "BIN_DIR=$PWD/..\n",
    "## You will need to run jupyter from that directory.\n",
    "## source $TEMP_BIN/_dir-aliases.bash\n",
    "source _dir-aliases.bash\n",
    "alias | wc -l"
   ]
  },
  {
   "cell_type": "code",
   "execution_count": 6,
   "id": "8093ffd1",
   "metadata": {},
   "outputs": [
    {
     "name": "stdout",
     "output_type": "stream",
     "text": [
      "/tmp/test-cp-mv/test-1210\n"
     ]
    }
   ],
   "source": [
    "## NOTE: For reproducability, the directory name needs to be fixed\n",
    "## In place of $$, use a psuedo random number (e,g., 1210)\n",
    "## *** All output from one run to the next needs to be the same ***\n",
    "\n",
    "## temp_dir=$TMP/test-$$\n",
    "temp_dir=$TMP/test-1210\n",
    "\n",
    "mkdir -p \"$temp_dir\"\n",
    "# TODO: /bin/rm -rvf \"$temp_dir\"\n",
    "cd \"$temp_dir\"\n",
    "pwd\n",
    "\n",
    "#ALIAS FOR PRINTING SEPERATION LINES (FOR JUPYTER)\n",
    "alias linebr=\"printf '%*s\\n' \"${COLUMNS:-$(tput cols)}\" '' | tr ' ' -\""
   ]
  },
  {
   "cell_type": "code",
   "execution_count": 7,
   "id": "723a939c",
   "metadata": {},
   "outputs": [
    {
     "name": "stdout",
     "output_type": "stream",
     "text": [
      "9\n"
     ]
    }
   ],
   "source": [
    "# Count aliases proper\n",
    "alias | wc -l"
   ]
  },
  {
   "cell_type": "code",
   "execution_count": 8,
   "id": "f1d01696",
   "metadata": {},
   "outputs": [
    {
     "name": "stdout",
     "output_type": "stream",
     "text": [
      "2\n"
     ]
    }
   ],
   "source": [
    "# Count functions\n",
    "typeset -f | egrep '^\\w+' | wc -l"
   ]
  },
  {
   "cell_type": "code",
   "execution_count": 9,
   "id": "a3b31a17",
   "metadata": {},
   "outputs": [],
   "source": [
    "# Command overrides for moving and copying files\n",
    "# NOTE: -p option of cp (i.e., --preserve  \"preserve file attributes if possible\")\n",
    "# leads to problems when copying files owner by others (although group writable)\n",
    "#    cp: preserving times for /usr/local/httpd/internal/cgi-bin/phone-list: Operation not permitted\n",
    "# - other options for cp, mv, and rm: -i interactive; and -v verbose.\n",
    "other_file_args=\"-v\""
   ]
  },
  {
   "cell_type": "code",
   "execution_count": 10,
   "id": "9ffb7e8b",
   "metadata": {},
   "outputs": [],
   "source": [
    "if [ \"$OSTYPE\" = \"solaris\" ]; then other_file_args=\"\"; fi"
   ]
  },
  {
   "cell_type": "code",
   "execution_count": 11,
   "id": "7748000b",
   "metadata": {},
   "outputs": [],
   "source": [
    "## OLD: alias cls='clear'\n",
    "## NOTE: Unfortunately clear clobbers the terminal scrollback buffer.\n",
    "## via https://askubuntu.com/questions/792453/how-to-stop-clear-from-clearing-scrollback-buffer:\n",
    "##    type CTRL+L instead of clear\n",
    "## TAKE1: alias cls=\"printf '\\33[H\\33[2J'\"\n",
    "##   where \\33 is octal code for Escape (i.e., 0x1B)\n",
    "## TAKE2\n",
    "alias clear=\"echo 'use cls instead (or /bin/clear)'\"\n",
    "alias cls=\"command clear -x\""
   ]
  },
  {
   "cell_type": "code",
   "execution_count": 12,
   "id": "e0d732b4",
   "metadata": {},
   "outputs": [
    {
     "name": "stdout",
     "output_type": "stream",
     "text": [
      "use cls instead (or /bin/clear)\n"
     ]
    }
   ],
   "source": [
    "#Shows that cls must be used instead of clear\n",
    "clear"
   ]
  },
  {
   "cell_type": "code",
   "execution_count": 13,
   "id": "417e9228",
   "metadata": {},
   "outputs": [
    {
     "name": "stdout",
     "output_type": "stream",
     "text": [
      "alias clear='echo '\\''use cls instead (or /bin/clear)'\\'''\n",
      "alias cls='command clear -x'\n"
     ]
    }
   ],
   "source": [
    "#Shows that cls is the new method of clearing screen\n",
    "alias | grep cls"
   ]
  },
  {
   "cell_type": "code",
   "execution_count": 14,
   "id": "8f774695",
   "metadata": {},
   "outputs": [],
   "source": [
    "{\n",
    "    # TODO: see if this is a shellcheck bug\n",
    "    #    SC2034: MV appears unused. Verify it or export it.\n",
    "    # shellcheck disable=SC2034\n",
    "    MV=\"/bin/mv -i $other_file_args\"\n",
    "}"
   ]
  },
  {
   "cell_type": "code",
   "execution_count": 15,
   "id": "664cc5e3",
   "metadata": {},
   "outputs": [],
   "source": [
    "#All move aliases\n",
    "alias mv='$MV'\n",
    "alias move='mv'\n",
    "alias move-force='move -f'"
   ]
  },
  {
   "cell_type": "code",
   "execution_count": 16,
   "id": "5b3be234",
   "metadata": {},
   "outputs": [],
   "source": [
    "# TODO: make sure symbolic links are copied as-is (ie, not dereferenced)\n",
    "CP=\"/bin/cp -ip $other_file_args\"\n",
    "##reference-variable \"$CP\""
   ]
  },
  {
   "cell_type": "code",
   "execution_count": 17,
   "id": "a5dc0b53",
   "metadata": {},
   "outputs": [],
   "source": [
    "#All Copy Aliases\n",
    "alias copy='$CP'\n",
    "alias copy-force='/bin/cp -fp $other_file_args'\n",
    "alias cp='/bin/cp -i $other_file_args'"
   ]
  },
  {
   "cell_type": "code",
   "execution_count": 18,
   "id": "bb07378c",
   "metadata": {},
   "outputs": [],
   "source": [
    "#All Remove Aliases\n",
    "alias rm='/bin/rm -i $other_file_args'\n",
    "alias delete='/bin/rm -i $other_file_args'\n",
    "alias del=\"delete\"\n",
    "alias delete-force='/bin/rm -f $other_file_args'\n",
    "alias remove-force='delete-force'"
   ]
  },
  {
   "cell_type": "code",
   "execution_count": 19,
   "id": "dcd97801",
   "metadata": {},
   "outputs": [],
   "source": [
    "#All remove-dir aliases\n",
    "alias remove-dir='/bin/rm -rv'\n",
    "alias delete-dir='remove-dir'\n",
    "alias remove-dir-force='/bin/rm -rfv'\n",
    "alias delete-dir-force='remove-dir-force'"
   ]
  },
  {
   "cell_type": "code",
   "execution_count": 20,
   "id": "b920bebb",
   "metadata": {},
   "outputs": [],
   "source": [
    "#Aliases set for copy and readonly\n",
    "alias copy-readonly='copy-readonly.sh'\n",
    "function copy-readonly-spec () {\n",
    "    local spec=\"$1\"\n",
    "    local dir=\"$2\"\n",
    "    if [[ (\"$3\" != \"\") || ($dir = \"\") || ($spec == \"\") ]]; then\n",
    "        echo \"Usage: copy-readonly-spec pattern dir\";\n",
    "        return\n",
    "    fi\n",
    "    # effing shellcheck (SC2086: Double quote to prevent globbing)\n",
    "    # shellcheck disable=SC2086\n",
    "    for f in $($LS $spec); do copy-readonly \"$f\" \"$dir\"; done\n",
    "}\n",
    "# copy-readonly-to-dir(dir, file, ...): variant of copy-readonly-spec with\n",
    "# directory first and files given in args 2, 3, etc.\n",
    "function copy-readonly-to-dir () {\n",
    "    local dir=\"$1\"\n",
    "    shift\n",
    "    for f in \"$@\"; do copy-readonly \"$f\" \"$dir\"; done\n",
    "}"
   ]
  },
  {
   "cell_type": "code",
   "execution_count": 21,
   "id": "140f0b50",
   "metadata": {},
   "outputs": [],
   "source": [
    "#Exporting NICE and TIME_CMD\n",
    "export NICE=\"nice -19\"\n",
    "export TIME_CMD=\"/usr/bin/time\""
   ]
  },
  {
   "cell_type": "code",
   "execution_count": 22,
   "id": "802f157a",
   "metadata": {},
   "outputs": [],
   "source": [
    "#Fixing Dir Permissions\n",
    "alias fix-dir-permissions=\"find . -type d -exec chmod go+xs {} \\;\""
   ]
  },
  {
   "cell_type": "code",
   "execution_count": 23,
   "id": "4967bfb7",
   "metadata": {},
   "outputs": [
    {
     "name": "stdout",
     "output_type": "stream",
     "text": [
      "--------------------------------------------------------------------------------\n"
     ]
    }
   ],
   "source": [
    "linebr"
   ]
  },
  {
   "cell_type": "code",
   "execution_count": 24,
   "id": "037f60f4",
   "metadata": {},
   "outputs": [
    {
     "name": "stdout",
     "output_type": "stream",
     "text": [
      "/tmp/test-cp-mv/test-1210\n"
     ]
    }
   ],
   "source": [
    "## MOVE INTO $TMP FOR TESTING\n",
    "pwd"
   ]
  },
  {
   "cell_type": "code",
   "execution_count": 25,
   "id": "92e05aed",
   "metadata": {},
   "outputs": [
    {
     "name": "stdout",
     "output_type": "stream",
     "text": [
      "--------------------------------------------------------------------------------\n",
      "renamed 'abc' -> './mvtest_dir1/abc'\n",
      "renamed 'def' -> './mvtest_dir1/def'\n",
      "renamed 'ghi' -> './mvtest_dir1/ghi'\n",
      "--------------------------------------------------------------------------------\n",
      "total 4\n",
      "drwxrwxr-x 2 aveey aveey 4096 Sep 10 22:57 mvtest_dir1\n",
      "--------------------------------------------------------------------------------\n",
      "total 0\n",
      "-rw-rw-r-- 1 aveey aveey 0 Sep 10 22:57 abc\n",
      "-rw-rw-r-- 1 aveey aveey 0 Sep 10 22:57 def\n",
      "-rw-rw-r-- 1 aveey aveey 0 Sep 10 22:57 ghi\n",
      "--------------------------------------------------------------------------------\n"
     ]
    }
   ],
   "source": [
    "# TEST 1 - MOVE ALIASES\n",
    "\n",
    "## CLEARS TEST FOLDER\n",
    "rm -rf ./*\n",
    "linebr\n",
    "\n",
    "## CREATES TEST SUBJECTS\n",
    "touch abc def ghi\n",
    "mkdir mvtest_dir1\n",
    "\n",
    "## WORK OF ALIASES\n",
    "mv abc ./mvtest_dir1\n",
    "move def ./mvtest_dir1\n",
    "move-force ghi ./mvtest_dir1\n",
    "linebr\n",
    "\n",
    "## VIEWING THE CHANGES MADE\n",
    "ls -l\n",
    "linebr\n",
    "ls -l ./mvtest_dir1\n",
    "linebr"
   ]
  },
  {
   "cell_type": "code",
   "execution_count": 26,
   "id": "29f6f198",
   "metadata": {},
   "outputs": [
    {
     "name": "stdout",
     "output_type": "stream",
     "text": [
      "removed './mvtest_dir1/abc'\n",
      "removed './mvtest_dir1/ghi'\n",
      "removed './mvtest_dir1/def'\n",
      "removed directory './mvtest_dir1'\n",
      "--------------------------------------------------------------------------------\n",
      "'abc' -> './cptest_dir1/abc'\n",
      "'def' -> './cptest_dir1/def'\n",
      "'ghi' -> './cptest_dir1/ghi'\n",
      "--------------------------------------------------------------------------------\n",
      "total 4\n",
      "-rw-rw-r-- 1 aveey aveey    0 Sep 10 22:57 abc\n",
      "drwxrwxr-x 2 aveey aveey 4096 Sep 10 22:57 cptest_dir1\n",
      "-rw-rw-r-- 1 aveey aveey    0 Sep 10 22:57 def\n",
      "-rw-rw-r-- 1 aveey aveey    0 Sep 10 22:57 ghi\n",
      "--------------------------------------------------------------------------------\n",
      "total 0\n",
      "-rw-rw-r-- 1 aveey aveey 0 Sep 10 22:57 abc\n",
      "-rw-rw-r-- 1 aveey aveey 0 Sep 10 22:57 def\n",
      "-rw-rw-r-- 1 aveey aveey 0 Sep 10 22:57 ghi\n",
      "--------------------------------------------------------------------------------\n"
     ]
    }
   ],
   "source": [
    "# TEST 2 - COPY ALIASES\n",
    "\n",
    "## CLEARS TEST FOLDER\n",
    "rm -rf ./*\n",
    "linebr\n",
    "\n",
    "## CREATES TEST SUBJECTS\n",
    "touch abc def ghi\n",
    "mkdir cptest_dir1\n",
    "\n",
    "## WORK OF ALIASES\n",
    "cp abc ./cptest_dir1\n",
    "copy def ./cptest_dir1\n",
    "copy-force ghi ./cptest_dir1\n",
    "linebr\n",
    "\n",
    "## VIEWING THE CHANGES MADE\n",
    "ls -l\n",
    "linebr\n",
    "ls -l ./cptest_dir1\n",
    "linebr"
   ]
  },
  {
   "cell_type": "code",
   "execution_count": 27,
   "id": "a3149319",
   "metadata": {},
   "outputs": [],
   "source": [
    "# #=================(TEST ERROR: \"/bin/rm: remove regular empty file 'f1'?\")=========================#\n",
    "# # TEST 3 - REMOVE/DELETE ALIASES\n",
    "\n",
    "# ## CLEARS TEST FOLDER\n",
    "# rm -rf ./*\n",
    "# linebr\n",
    "\n",
    "# ## CREATES TEST SUBJECTS\n",
    "# touch f1 f2 f3 f4 f5\n",
    "\n",
    "# ## WORK OF ALIASES\n",
    "# rm f1\n",
    "# delete f2\n",
    "# remove-force f3\n",
    "\n",
    "# linebr\n",
    "\n",
    "# ## VIEWING THE CHANGES MADE\n",
    "# ls -l\n",
    "# linebr"
   ]
  },
  {
   "cell_type": "code",
   "execution_count": 28,
   "id": "9ce01462",
   "metadata": {},
   "outputs": [
    {
     "name": "stdout",
     "output_type": "stream",
     "text": [
      "removed './abc'\n",
      "removed './cptest_dir1/abc'\n",
      "removed './cptest_dir1/ghi'\n",
      "removed './cptest_dir1/def'\n",
      "removed directory './cptest_dir1'\n",
      "removed './def'\n",
      "removed './ghi'\n",
      "--------------------------------------------------------------------------------\n",
      "total 16\n",
      "-rw-rw-r-- 1 aveey aveey    0 Sep 10 22:57 abc\n",
      "-rw-rw-r-- 1 aveey aveey    0 Sep 10 22:57 def\n",
      "-rw-rw-r-- 1 aveey aveey    0 Sep 10 22:57 ghi\n",
      "drwxrwxr-x 2 aveey aveey 4096 Sep 10 22:57 TDIR1\n",
      "drwxrwxr-x 2 aveey aveey 4096 Sep 10 22:57 TDIR2\n",
      "drwxrwxr-x 2 aveey aveey 4096 Sep 10 22:57 TDIR3\n",
      "drwxrwxr-x 2 aveey aveey 4096 Sep 10 22:57 TDIR4\n",
      "--------------------------------------------------------------------------------\n",
      "removed directory 'TDIR1'\n",
      "removed directory 'TDIR2'\n",
      "removed directory 'TDIR3'\n",
      "removed directory 'TDIR4'\n",
      "--------------------------------------------------------------------------------\n",
      "total 0\n",
      "-rw-rw-r-- 1 aveey aveey 0 Sep 10 22:57 abc\n",
      "-rw-rw-r-- 1 aveey aveey 0 Sep 10 22:57 def\n",
      "-rw-rw-r-- 1 aveey aveey 0 Sep 10 22:57 ghi\n",
      "--------------------------------------------------------------------------------\n"
     ]
    }
   ],
   "source": [
    "# TEST 4 - REMOVE DIRECTORY ALIASES\n",
    "\n",
    "## CLEARS TEST FOLDER\n",
    "rm -rf ./*\n",
    "linebr\n",
    "\n",
    "## CREATES TEST SUBJECTS\n",
    "touch abc def ghi\n",
    "mkdir TDIR1 TDIR2 TDIR3 TDIR4\n",
    "ls -l\n",
    "linebr\n",
    "## WORK OF ALIASES\n",
    "remove-dir \"TDIR1\"\n",
    "delete-dir \"TDIR2\"\n",
    "remove-dir-force TDIR3\n",
    "delete-dir-force TDIR4\n",
    "linebr\n",
    "\n",
    "## VIEWING THE CHANGES MADE\n",
    "ls -l\n",
    "linebr"
   ]
  },
  {
   "cell_type": "code",
   "execution_count": 29,
   "id": "98c10a89",
   "metadata": {},
   "outputs": [],
   "source": [
    "## TEST 5 - COPY READONLY\n",
    "alias copy-readonly='copy-readonly.sh'\n",
    "function copy-readonly-spec () {\n",
    "    local spec=\"$1\"\n",
    "    local dir=\"$2\"\n",
    "    if [[ (\"$3\" != \"\") || ($dir = \"\") || ($spec == \"\") ]]; then\n",
    "        echo \"Usage: copy-readonly-spec pattern dir\";\n",
    "        return\n",
    "    fi\n",
    "    # effing shellcheck (SC2086: Double quote to prevent globbing)\n",
    "    # shellcheck disable=SC2086\n",
    "    for f in $($LS $spec); do copy-readonly \"$f\" \"$dir\"; done\n",
    "}\n",
    "# copy-readonly-to-dir(dir, file, ...): variant of copy-readonly-spec with\n",
    "# directory first and files given in args 2, 3, etc.\n",
    "function copy-readonly-to-dir () {\n",
    "    local dir=\"$1\"\n",
    "    shift\n",
    "    for f in \"$@\"; do copy-readonly \"$f\" \"$dir\"; done\n",
    "}"
   ]
  },
  {
   "cell_type": "code",
   "execution_count": 30,
   "id": "ff3ef38f",
   "metadata": {},
   "outputs": [
    {
     "name": "stdout",
     "output_type": "stream",
     "text": [
      "\n",
      "Usage: /home/aveey/bin/copy-readonly.sh source-file [--force] [--verbose] [file | directory]\n",
      "\n",
      "Examples (under Bash):\n",
      "\n",
      "  /home/aveey/bin/copy-readonly.sh ~/.bashrc ~/dot-file-archive\n",
      "\n",
      "  for f in copyright.py search_page.mako index.mako visual_diff_server.py; do copy-readonly $f ~/visual-diff; done\n",
      "\n",
      "--------------------------------------------------------------------------------\n",
      "removed './abc'\n",
      "removed './def'\n",
      "removed './ghi'\n",
      "-r--r--r-- 1 aveey aveey 5005 Sep 10 22:37 ./testdir1/.bashrc\n",
      "--------------------------------------------------------------------------------\n",
      "total 4\n",
      "drwxrwxr-x 2 aveey aveey 4096 Sep 10 22:57 testdir1\n",
      "--------------------------------------------------------------------------------\n",
      "# ~/.bashrc: executed by bash(1) for non-login shells.\n",
      "# see /usr/share/doc/bash/examples/startup-files (in the package bash-doc)\n",
      "# for examples\n",
      "\n",
      "# If not running interactively, don't do anything\n",
      "case $- in\n",
      "    *i*) ;;\n",
      "      *) return;;\n",
      "esac\n",
      "\n",
      "# don't put duplicate lines or lines starting with space in the history.\n",
      "# See bash(1) for more options\n",
      "HISTCONTROL=ignoreboth\n",
      "\n",
      "# append to the history file, don't overwrite it\n",
      "shopt -s histappend\n",
      "\n",
      "# for setting history length see HISTSIZE and HISTFILESIZE in bash(1)\n",
      "HISTSIZE=1000\n",
      "HISTFILESIZE=2000\n",
      "\n",
      "# check the window size after each command and, if necessary,\n",
      "# update the values of LINES and COLUMNS.\n",
      "shopt -s checkwinsize\n",
      "\n",
      "# If set, the pattern \"**\" used in a pathname expansion context will\n",
      "# match all files and zero or more directories and subdirectories.\n",
      "#shopt -s globstar\n",
      "\n",
      "# make less more friendly for non-text input files, see lesspipe(1)\n",
      "[ -x /usr/bin/lesspipe ] && eval \"$(SHELL=/bin/sh lesspipe)\"\n",
      "\n",
      "# set variable identifying the chroot you work in (used in the prompt below)\n",
      "if [ -z \"${debian_chroot:-}\" ] && [ -r /etc/debian_chroot ]; then\n",
      "    debian_chroot=$(cat /etc/debian_chroot)\n",
      "fi\n",
      "\n",
      "# set a fancy prompt (non-color, unless we know we \"want\" color)\n",
      "case \"$TERM\" in\n",
      "    xterm-color|*-256color) color_prompt=yes;;\n",
      "esac\n",
      "\n",
      "# uncomment for a colored prompt, if the terminal has the capability; turned\n",
      "# off by default to not distract the user: the focus in a terminal window\n",
      "# should be on the output of commands, not on the prompt\n",
      "#force_color_prompt=yes\n",
      "\n",
      "if [ -n \"$force_color_prompt\" ]; then\n",
      "    if [ -x /usr/bin/tput ] && tput setaf 1 >&/dev/null; then\n",
      "\t# We have color support; assume it's compliant with Ecma-48\n",
      "\t# (ISO/IEC-6429). (Lack of such support is extremely rare, and such\n",
      "\t# a case would tend to support setf rather than setaf.)\n",
      "\tcolor_prompt=yes\n",
      "    else\n",
      "\tcolor_prompt=\n",
      "    fi\n",
      "fi\n",
      "\n",
      "if [ \"$color_prompt\" = yes ]; then\n",
      "    PS1='${debian_chroot:+($debian_chroot)}\\[\\033[01;32m\\]\\u@\\h\\[\\033[00m\\]:\\[\\033[01;34m\\]\\w\\[\\033[00m\\]\\$ '\n",
      "else\n",
      "    PS1='${debian_chroot:+($debian_chroot)}\\u@\\h:\\w\\$ '\n",
      "fi\n",
      "unset color_prompt force_color_prompt\n",
      "\n",
      "# If this is an xterm set the title to user@host:dir\n",
      "case \"$TERM\" in\n",
      "xterm*|rxvt*)\n",
      "    PS1=\"\\[\\e]0;${debian_chroot:+($debian_chroot)}\\u@\\h: \\w\\a\\]$PS1\"\n",
      "    ;;\n",
      "*)\n",
      "    ;;\n",
      "esac\n",
      "\n",
      "# enable color support of ls and also add handy aliases\n",
      "if [ -x /usr/bin/dircolors ]; then\n",
      "    test -r ~/.dircolors && eval \"$(dircolors -b ~/.dircolors)\" || eval \"$(dircolors -b)\"\n",
      "    alias ls='exa --icons'\n",
      "    alias ll='exa --icons -la'\n",
      "    alias tree='exa --icons --tree'\n",
      "    #alias dir='dir --color=auto'\n",
      "    #alias vdir='vdir --color=auto'\n",
      "\n",
      "    alias grep='grep --color=auto'\n",
      "    alias fgrep='fgrep --color=auto'\n",
      "    alias egrep='egrep --color=auto'\n",
      "fi\n",
      "\n",
      "# colored GCC warnings and errors\n",
      "#export GCC_COLORS='error=01;31:warning=01;35:note=01;36:caret=01;32:locus=01:quote=01'\n",
      "\n",
      "# some more ls aliases\n",
      "alias ll='ls -alF'\n",
      "alias la='ls -A'\n",
      "alias l='ls -CF'\n",
      "\n",
      "# Add an \"alert\" alias for long running commands.  Use like so:\n",
      "#   sleep 10; alert\n",
      "alias alert='notify-send --urgency=low -i \"$([ $? = 0 ] && echo terminal || echo error)\" \"$(history|tail -n1|sed -e '\\''s/^\\s*[0-9]\\+\\s*//;s/[;&|]\\s*alert$//'\\'')\"'\n",
      "\n",
      "# Alias definitions.\n",
      "# You may want to put all your additions into a separate file like\n",
      "# ~/.bash_aliases, instead of adding them here directly.\n",
      "# See /usr/share/doc/bash-doc/examples in the bash-doc package.\n",
      "\n",
      "if [ -f ~/.bash_aliases ]; then\n",
      "    . ~/.bash_aliases\n",
      "fi\n",
      "\n",
      "# enable programmable completion features (you don't need to enable\n",
      "# this, if it's already enabled in /etc/bash.bashrc and /etc/profile\n",
      "# sources /etc/bash.bashrc).\n",
      "if ! shopt -oq posix; then\n",
      "  if [ -f /usr/share/bash-completion/bash_completion ]; then\n",
      "    . /usr/share/bash-completion/bash_completion\n",
      "  elif [ -f /etc/bash_completion ]; then\n",
      "    . /etc/bash_completion\n",
      "  fi\n",
      "fi\n",
      "# Alias for clearing screen\n",
      "alias cls='clear'\n",
      "\n",
      "#Alias to display directory\n",
      "alias lsd='ls -d */'\n",
      "\n",
      "# >>> conda initialize >>>\n",
      "# !! Contents within this block are managed by 'conda init' !!\n",
      "__conda_setup=\"$('/home/aveey/miniconda3/bin/conda' 'shell.bash' 'hook' 2> /dev/null)\"\n",
      "if [ $? -eq 0 ]; then\n",
      "    eval \"$__conda_setup\"\n",
      "else\n",
      "    if [ -f \"/home/aveey/miniconda3/etc/profile.d/conda.sh\" ]; then\n",
      "        . \"/home/aveey/miniconda3/etc/profile.d/conda.sh\"\n",
      "    else\n",
      "        export PATH=\"/home/aveey/miniconda3/bin:$PATH\"\n",
      "    fi\n",
      "fi\n",
      "unset __conda_setup\n",
      "# <<< conda initialize <<<\n",
      "\n",
      "# ALIAS FOR BATSPP & ITS DEBUG MODE\n",
      "alias gb=\"./jupyter_to_batspp.py\"\n",
      "alias simple-batspp=\"./simple_batspp.py\"\n",
      "alias simple-batspp-debug='VERBOSE=1 BATS_OPTIONS=\"--no-tempdir-cleanup --pretty --verbose-run --show-output-of-passing-tests\" simple-batspp'\n",
      "alias debugpp='VERBOSE=1 BATS_OPTIONS=\"--no-tempdir-cleanup --pretty --verbose-run --show-output-of-passing-tests\" batspp'\n",
      "# A NEWER VERSION OF BATSPP WAS IMPORTED FROM THOMAS-DEV BRANCH\n",
      "alias simpp=\"./simple-bpp.py\"\n",
      "alias simpp-debug='VERBOSE=1 BATS_OPTIONS=\"--no-tempdir-cleanup --pretty --verbose-run --show-output-of-passing-tests\" simpp'\n"
     ]
    }
   ],
   "source": [
    "# RUNNING FOR DETAILS\n",
    "copy-readonly\n",
    "linebr\n",
    "# COPYING .bashrc TO TEST DIRECTORY\n",
    "rm -rf ./*\n",
    "mkdir testdir1\n",
    "copy-readonly ~/.bashrc ./testdir1\n",
    "linebr\n",
    "# VIEWING THE COPIED FILE (IN DIR AND CAT)\n",
    "ls -l \n",
    "linebr\n",
    "cat ./testdir1/.bashrc"
   ]
  },
  {
   "cell_type": "code",
   "execution_count": 31,
   "id": "0937b793",
   "metadata": {},
   "outputs": [],
   "source": [
    "export NICE=\"nice -19\"\n",
    "export TIME_CMD=\"/usr/bin/time\"\n",
    "\n",
    "alias fix-dir-permissions=\"find . -type d -exec chmod go+xs {} \\;\""
   ]
  },
  {
   "cell_type": "code",
   "execution_count": 32,
   "id": "fb8ebd22",
   "metadata": {},
   "outputs": [],
   "source": [
    "fix-dir-permissions"
   ]
  },
  {
   "cell_type": "code",
   "execution_count": 33,
   "id": "a18198b4",
   "metadata": {},
   "outputs": [
    {
     "name": "stdout",
     "output_type": "stream",
     "text": [
      "total 4\n",
      "drwxrwsr-x 2 aveey aveey 4096 Sep 10 22:57 testdir1\n"
     ]
    }
   ],
   "source": [
    "# # BEFORE fix-dir-permissions \n",
    "# $ ls -l  \n",
    "# | total 4\n",
    "# | drwxrwxr-x 2 aveey aveey 4096 Jul  4 21:41 testdir1\n",
    "\n",
    "# # AFTER fix-dir-permissions\n",
    "ls -l "
   ]
  },
  {
   "cell_type": "code",
   "execution_count": null,
   "id": "ee230c9b",
   "metadata": {},
   "outputs": [],
   "source": []
  }
 ],
 "metadata": {
  "kernelspec": {
   "display_name": "Bash",
   "language": "bash",
   "name": "bash"
  },
  "language_info": {
   "codemirror_mode": "shell",
   "file_extension": ".sh",
   "mimetype": "text/x-sh",
   "name": "bash"
  }
 },
 "nbformat": 4,
 "nbformat_minor": 5
}
