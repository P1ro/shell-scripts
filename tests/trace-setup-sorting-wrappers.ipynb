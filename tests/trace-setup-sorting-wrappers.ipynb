{
 "cells": [
  {
   "cell_type": "code",
   "execution_count": 1,
   "id": "65d43538",
   "metadata": {},
   "outputs": [
    {
     "name": "stdout",
     "output_type": "stream",
     "text": [
      "PROMPT_FTCGGGYZTTFJ\\[\\]>\n"
     ]
    }
   ],
   "source": [
    "## TEST:  Make sure simple prompt used (e.g., no escapes that might contaminate output)\n",
    "## PS1=\"$ \"\n",
    "## TODO: PS1=\"> \"\n",
    "\n",
    "## NOTE: The Jupyter bash kernel requires that PS1 not be modified as they customize it. \n",
    "echo $PS1"
   ]
  },
  {
   "cell_type": "code",
   "execution_count": 2,
   "id": "d623c9a9",
   "metadata": {},
   "outputs": [],
   "source": [
    "## BAD\n",
    "# # Delete all aliases and function\n",
    "# # TODO: Instead start from pristine environment\n",
    "# unalias -a\n",
    "# alias | wc -l\n",
    "# for f in $(typeset -f | egrep '^\\w+'); do unset -f $f; done\n",
    "# typeset -f | egrep '^\\w+' | wc -l"
   ]
  },
  {
   "cell_type": "code",
   "execution_count": 3,
   "id": "0ff8f157",
   "metadata": {},
   "outputs": [],
   "source": [
    "# Setting a temp directory for tests\n",
    "TMP=/tmp/test-setupsort\n",
    "\n",
    "## NOTE: Source it directly from the ./tests directory.\n",
    "BIN_DIR=$PWD/..\n",
    "\n",
    "## OLD\n",
    "# alias | wc -l | test"
   ]
  },
  {
   "cell_type": "code",
   "execution_count": 4,
   "id": "54d25281",
   "metadata": {},
   "outputs": [],
   "source": [
    "# Global Setup\n",
    "## For number of digits not being critical\n",
    "alias testnum=\"sed -r \"s/[0-9][0-9]*/N/g\"\"\n",
    "alias testuser=\"sed -r \"s/\"$USER\"+/userxf333/g\"\"\n",
    "# alias testnum=\"sed -r \"s/[0-9]/H/g\"\" "
   ]
  },
  {
   "cell_type": "code",
   "execution_count": 5,
   "id": "ab954c7f",
   "metadata": {},
   "outputs": [],
   "source": [
    "## NOTE: For reproducability, the directory name needs to be fixed\n",
    "## In place of $$, use a psuedo random number (e,g., 6411)\n",
    "## *** All output from one run to the next needs to be the same ***\n",
    "\n",
    "## temp_dir=$TMP/test-$$\n",
    "temp_dir=$TMP/test-6411\n",
    "\n",
    "## OLD\n",
    "# mkdir -p \"$temp_dir\"\n",
    "# # TODO: /bin/rm -rvf \"$temp_dir\"\n",
    "# cd \"$temp_dir\"\n",
    "# pwd\n",
    "\n",
    "## ALIAS FOR PRINTING SEPERATION LINES (FOR JUPYTER)\n",
    "# alias linebr=\"printf '%*s\\n' \"${COLUMNS:-$(tput cols)}\" '' | tr ' ' -\"\n",
    "\n",
    "command mkdir -p \"$temp_dir\"\n",
    "# TODO: /bin/rm -rvf \"$temp_dir\"\n",
    "command cd \"$temp_dir\""
   ]
  },
  {
   "cell_type": "code",
   "execution_count": 6,
   "id": "ec6df159",
   "metadata": {
    "scrolled": true
   },
   "outputs": [
    {
     "name": "stdout",
     "output_type": "stream",
     "text": [
      "N\n"
     ]
    }
   ],
   "source": [
    "## Count aliases proper\n",
    "## OLD\n",
    "# alias | wc -l\n",
    "alias | wc -l | testnum"
   ]
  },
  {
   "cell_type": "code",
   "execution_count": 7,
   "id": "23c3b474",
   "metadata": {},
   "outputs": [
    {
     "name": "stdout",
     "output_type": "stream",
     "text": [
      "N\n"
     ]
    }
   ],
   "source": [
    "## Count functions\n",
    "## OLD\n",
    "typeset -f | egrep '^\\w+' | wc -l | testnum"
   ]
  },
  {
   "cell_type": "code",
   "execution_count": 8,
   "id": "badd6828",
   "metadata": {},
   "outputs": [],
   "source": [
    "## BAD\n",
    "# source $BIN_DIR/tomohara-aliases.bash"
   ]
  },
  {
   "cell_type": "code",
   "execution_count": 9,
   "id": "78c13815",
   "metadata": {},
   "outputs": [],
   "source": [
    "## OLD\n",
    "# pwd | testuser"
   ]
  },
  {
   "cell_type": "code",
   "execution_count": 10,
   "id": "c91d1116",
   "metadata": {
    "scrolled": true
   },
   "outputs": [],
   "source": [
    "# FOR SOME REASONS \"cat bashrc-setup\" COMMAND GIVES AN ERROR\n",
    "\n",
    "# cat ~/.bashrc | tab-sort\n",
    "# linebr\n",
    "# cat ~/.bashrc | colon-sort\n",
    "# linebr\n",
    "# cat ~/.bashrc | colon-sort-rev-num\n",
    "# linebr\n",
    "# cat ~/.bashrc | freq-sort\n",
    "# linebr\n",
    "rm -rf ./* > /dev/null\n",
    "## OLD\n",
    "# man printf > pf_manual.txt\n",
    "man uname > uname_manual.txt\n",
    "## OLD\n",
    "# cat pf_manual.txt | tab-sort | testnum | testuser\n",
    "\n"
   ]
  },
  {
   "cell_type": "code",
   "execution_count": 11,
   "id": "f440c180",
   "metadata": {},
   "outputs": [
    {
     "name": "stdout",
     "output_type": "stream",
     "text": [
      "True\n"
     ]
    }
   ],
   "source": [
    "cat uname_manual.txt | grep -q \"uname\" && echo \"True\" || echo \"False\""
   ]
  },
  {
   "cell_type": "code",
   "execution_count": 12,
   "id": "19316ba3",
   "metadata": {},
   "outputs": [
    {
     "name": "stdout",
     "output_type": "stream",
     "text": [
      "False\n"
     ]
    }
   ],
   "source": [
    "## To show that grep-echo pipeline works as usual\n",
    "man printf | grep -q \"uname\" && echo \"True\" || echo \"False\""
   ]
  },
  {
   "cell_type": "code",
   "execution_count": 13,
   "id": "312d103e",
   "metadata": {},
   "outputs": [
    {
     "name": "stdout",
     "output_type": "stream",
     "text": [
      "True\n"
     ]
    }
   ],
   "source": [
    "## NEW: Added tail pipeline\n",
    "# cat uname_manual.txt | colon-sort | testnum | testuser | tail -n 1\n",
    "cat uname_manual.txt | colon-sort | grep -q \"uname\" && echo \"True\" || echo \"False\""
   ]
  },
  {
   "cell_type": "code",
   "execution_count": 14,
   "id": "28e58950",
   "metadata": {},
   "outputs": [
    {
     "name": "stdout",
     "output_type": "stream",
     "text": [
      "True\n"
     ]
    }
   ],
   "source": [
    "## NEW: Added tail pipeline\n",
    "cat uname_manual.txt | colon-sort-rev-num | grep -q \"uname\" && echo \"True\" || echo \"False\""
   ]
  },
  {
   "cell_type": "code",
   "execution_count": 15,
   "id": "60828c64",
   "metadata": {},
   "outputs": [
    {
     "name": "stdout",
     "output_type": "stream",
     "text": [
      "True\n"
     ]
    }
   ],
   "source": [
    "## NEW: Added tail pipeline\n",
    "cat uname_manual.txt | freq-sort | grep -q \"uname\" && echo \"True\" || echo \"False\""
   ]
  },
  {
   "cell_type": "code",
   "execution_count": 16,
   "id": "bcaf053a",
   "metadata": {},
   "outputs": [
    {
     "name": "stdout",
     "output_type": "stream",
     "text": [
      "GNU/Linux\n"
     ]
    }
   ],
   "source": [
    "# ECHOES THE FILE \n",
    "uname -o > linux-info.txt\n",
    "cat linux-info.txt | echoize\n",
    "\n",
    "# $ cat ~/.bashrc | echoize"
   ]
  },
  {
   "cell_type": "code",
   "execution_count": 17,
   "id": "4270d960",
   "metadata": {
    "scrolled": false
   },
   "outputs": [
    {
     "name": "stdout",
     "output_type": "stream",
     "text": [
      "True\n"
     ]
    }
   ],
   "source": [
    "# SORTS BY PARAGRAPH\n",
    "cat uname_manual.txt | para-sort | grep -q \"uname\" && echo \"True\" || echo \"False\""
   ]
  },
  {
   "cell_type": "code",
   "execution_count": 18,
   "id": "6e12887f",
   "metadata": {},
   "outputs": [
    {
     "name": "stdout",
     "output_type": "stream",
     "text": [
      "True\n"
     ]
    }
   ],
   "source": [
    "cat uname_manual.txt | echoize | grep -q \"uname\" && echo \"True\" || echo \"False\""
   ]
  }
 ],
 "metadata": {
  "kernelspec": {
   "display_name": "Bash",
   "language": "bash",
   "name": "bash"
  },
  "language_info": {
   "codemirror_mode": "shell",
   "file_extension": ".sh",
   "mimetype": "text/x-sh",
   "name": "bash"
  }
 },
 "nbformat": 4,
 "nbformat_minor": 5
}
