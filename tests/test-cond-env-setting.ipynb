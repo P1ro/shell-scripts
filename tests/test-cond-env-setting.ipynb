{
 "cells": [
  {
   "cell_type": "code",
   "execution_count": 1,
   "id": "1a928559",
   "metadata": {},
   "outputs": [],
   "source": [
    "## SETUP (OPTIONAL - USE IF REQUIRED)\n",
    "## Bracketed Paste is disabled to prevent characters after output\n",
    "## Example: \n",
    "## $ echo 'Hii'\n",
    "## | Hi?2004l\n",
    "# bind 'set enable-bracketed-paste off'"
   ]
  },
  {
   "cell_type": "code",
   "execution_count": 2,
   "id": "93ec4a3f",
   "metadata": {},
   "outputs": [
    {
     "name": "stdout",
     "output_type": "stream",
     "text": [
      "PROMPT_QKUGKADYADEW\\[\\]>\n"
     ]
    }
   ],
   "source": [
    "## TEST:  Make sure simple prompt used (e.g., no escapes that might contaminate output)\n",
    "## PS1=\"$ \"\n",
    "## TODO: PS1=\"> \"\n",
    "\n",
    "## NOTE: The Jupyter bash kernel requires that PS1 not be modified as they customize it. \n",
    "echo $PS1"
   ]
  },
  {
   "cell_type": "code",
   "execution_count": 3,
   "id": "c6ffbc59",
   "metadata": {},
   "outputs": [],
   "source": [
    "## BAD (SUPER BAD)\n",
    "# # Delete all aliases and function\n",
    "# # TODO: Instead start from pristine environment\n",
    "# unalias -a\n",
    "# alias | wc -l\n",
    "# for f in $(typeset -f | egrep '^\\w+'); do unset -f $f; done\n",
    "# typeset -f | egrep '^\\w+' | wc -l"
   ]
  },
  {
   "cell_type": "code",
   "execution_count": 4,
   "id": "452a278e",
   "metadata": {},
   "outputs": [],
   "source": [
    "# Global Setup\n",
    "alias testuser=\"sed -r \"s/\"$USER\"+/userxf333/g\"\""
   ]
  },
  {
   "cell_type": "code",
   "execution_count": 5,
   "id": "233f11ac",
   "metadata": {},
   "outputs": [],
   "source": [
    "# Setting a temp directory for tests\n",
    "TMP=/tmp/test-cond-env\n",
    "\n",
    "# OLD\n",
    "# ## NOTE: Source it directly from the ./tests directory.\n",
    "# BIN_DIR=$PWD/..\n",
    "# ## You will need to run jupyter from that directory.\n",
    "# ## source $TEMP_BIN/_dir-aliases.bash\n",
    "# source _dir-aliases.bash\n",
    "# alias | wc -l"
   ]
  },
  {
   "cell_type": "code",
   "execution_count": 6,
   "id": "be943c71",
   "metadata": {},
   "outputs": [],
   "source": [
    "## NOTE: For reproducability, the directory name needs to be fixed\n",
    "## In place of $$, use a psuedo random number (e,g., 1710)\n",
    "## *** All output from one run to the next needs to be the same ***\n",
    "\n",
    "## temp_dir=$TMP/test-$$\n",
    "temp_dir=$TMP/test-1710\n",
    "\n",
    "## OLD\n",
    "# mkdir -p \"$temp_dir\"\n",
    "# # TODO: /bin/rm -rvf \"$temp_dir\"\n",
    "# cd \"$temp_dir\"\n",
    "\n",
    "command mkdir -p \"$temp_dir\"\n",
    "# # TODO: /bin/rm -rvf \"$temp_dir\"\n",
    "command cd \"$temp_dir\"\n",
    "\n",
    "## OLD: For debugging\n",
    "# pwd\n",
    "\n",
    "#ALIAS FOR PRINTING SEPERATION LINES (FOR JUPYTER)\n",
    "alias linebr=\"printf '%*s\\n' \"${COLUMNS:-$(tput cols)}\" '' | tr ' ' -\""
   ]
  },
  {
   "cell_type": "code",
   "execution_count": 7,
   "id": "a67f36df",
   "metadata": {},
   "outputs": [
    {
     "name": "stdout",
     "output_type": "stream",
     "text": [
      "442\n"
     ]
    }
   ],
   "source": [
    "# Count aliases proper\n",
    "alias | wc -l"
   ]
  },
  {
   "cell_type": "code",
   "execution_count": 8,
   "id": "c39f70a7",
   "metadata": {},
   "outputs": [
    {
     "name": "stdout",
     "output_type": "stream",
     "text": [
      "474\n"
     ]
    }
   ],
   "source": [
    "# Count functions\n",
    "typeset -f | egrep '^\\w+' | wc -l"
   ]
  },
  {
   "cell_type": "code",
   "execution_count": 9,
   "id": "e54c2879",
   "metadata": {},
   "outputs": [],
   "source": [
    "## BAD\n",
    "# source $BIN_DIR/tomohara-aliases.bash"
   ]
  },
  {
   "cell_type": "code",
   "execution_count": 10,
   "id": "bb9f1941",
   "metadata": {},
   "outputs": [],
   "source": [
    "# SETTING A ENVIRONMENT VARIABLE NAMED COND_ENV_TEST_TEMP\n",
    "cond-setenv COND_ENV_TEST_TEMP tmp/cond-env-test-temp"
   ]
  },
  {
   "cell_type": "code",
   "execution_count": 11,
   "id": "807aeb5c",
   "metadata": {},
   "outputs": [
    {
     "name": "stdout",
     "output_type": "stream",
     "text": [
      "tmp/cond-env-test-temp\n"
     ]
    }
   ],
   "source": [
    "# PROOF THAT THE ENVIRONMENT VARIABLE IS CREATED\n",
    "echo $COND_ENV_TEST_TEMP"
   ]
  },
  {
   "cell_type": "code",
   "execution_count": 12,
   "id": "a59bf7fd",
   "metadata": {
    "scrolled": true
   },
   "outputs": [
    {
     "name": "stdout",
     "output_type": "stream",
     "text": [
      "total 4      \n",
      "drwxr-xr-x 3 userxf333 userxf333 4096    tmp\n"
     ]
    }
   ],
   "source": [
    "# USE OF ENV VARIABLE TO CREATE A SUB-DIRECTORY\n",
    "rm -rf ./* > /dev/null\n",
    "mkdir -p $COND_ENV_TEST_TEMP\n",
    "ls -l | awk '!($6=$7=$8=\"\")' | testuser"
   ]
  },
  {
   "cell_type": "code",
   "execution_count": 13,
   "id": "3d1256f7",
   "metadata": {
    "scrolled": true
   },
   "outputs": [],
   "source": [
    "# THE OUTPUT OF printenv IS STORED IN temp-env-1.tmp CREATED IN THE DIRECTORY SPECIFIED BY $COND_ENV_TEST_TEMP\n",
    "## OLD: For debug\n",
    "# pwd\n",
    "printenv > $COND_ENV_TEST_TEMP/temp-env-1.tmp"
   ]
  },
  {
   "cell_type": "code",
   "execution_count": 14,
   "id": "3bb906ad",
   "metadata": {},
   "outputs": [
    {
     "name": "stdout",
     "output_type": "stream",
     "text": [
      "TOM_BIN=/home/userxf333/tomasProject/shell-scripts\n"
     ]
    }
   ],
   "source": [
    "## OLD\n",
    "cat $COND_ENV_TEST_TEMP/temp-env-1.tmp | grep TOM_BIN | testuser"
   ]
  },
  {
   "cell_type": "code",
   "execution_count": 15,
   "id": "4f67b1aa",
   "metadata": {},
   "outputs": [
    {
     "name": "stdout",
     "output_type": "stream",
     "text": [
      "Done!\n"
     ]
    }
   ],
   "source": [
    "echo \"Done!\""
   ]
  }
 ],
 "metadata": {
  "kernelspec": {
   "display_name": "Bash",
   "language": "bash",
   "name": "bash"
  },
  "language_info": {
   "codemirror_mode": "shell",
   "file_extension": ".sh",
   "mimetype": "text/x-sh",
   "name": "bash"
  }
 },
 "nbformat": 4,
 "nbformat_minor": 5
}
