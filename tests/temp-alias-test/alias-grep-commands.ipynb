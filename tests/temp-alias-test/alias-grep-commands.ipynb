{
 "cells": [
  {
   "cell_type": "code",
   "execution_count": 1,
   "id": "8ecb3c43",
   "metadata": {},
   "outputs": [
    {
     "name": "stdout",
     "output_type": "stream",
     "text": [
      "\u001b[?2004h\u001b[?2004l\u001b[?2004l\u001b[?2004l\u001b[?2004l\u001b[?2004l\r"
     ]
    }
   ],
   "source": [
    "## Bracketed Paste is disabled to prevent characters after output\n",
    "## Example: \n",
    "# $ echo 'Hii'\n",
    "# | Hi?2004l\n",
    "\n",
    "bind 'set enable-bracketed-paste off'"
   ]
  },
  {
   "cell_type": "code",
   "execution_count": 2,
   "id": "36ea45cf",
   "metadata": {},
   "outputs": [
    {
     "name": "stdout",
     "output_type": "stream",
     "text": [
      "[PEXP\\[\\]ECT_PROMPT>\n"
     ]
    }
   ],
   "source": [
    "## TEST:  Make sure simple prompt used (e.g., no escapes that might contaminate output)\n",
    "## PS1=\"$ \"\n",
    "## TODO: PS1=\"> \"\n",
    "\n",
    "## NOTE: The Jupyter bash kernel requires that PS1 not be modified as they customize it. \n",
    "echo $PS1"
   ]
  },
  {
   "cell_type": "code",
   "execution_count": 3,
   "id": "71d47f5f",
   "metadata": {},
   "outputs": [
    {
     "name": "stdout",
     "output_type": "stream",
     "text": [
      "0\n",
      "0\n"
     ]
    }
   ],
   "source": [
    "# Delete all aliases and function\n",
    "# TODO: Instead start from pristine environment\n",
    "unalias -a\n",
    "alias | wc -l\n",
    "for f in $(typeset -f | egrep '^\\w+'); do unset -f $f; done\n",
    "typeset -f | egrep '^\\w+' | wc -l"
   ]
  },
  {
   "cell_type": "code",
   "execution_count": 4,
   "id": "118f4d68",
   "metadata": {},
   "outputs": [
    {
     "name": "stdout",
     "output_type": "stream",
     "text": [
      "8\n"
     ]
    }
   ],
   "source": [
    "# Setting a temp directory for tests\n",
    "TMP=/tmp/test-grep\n",
    "\n",
    "## NOTE: Source it directly from the ./tests directory.\n",
    "BIN_DIR=$PWD/..\n",
    "## You will need to run jupyter from that directory.\n",
    "## source $TEMP_BIN/_dir-aliases.bash\n",
    "source _dir-aliases.bash\n",
    "alias | wc -l"
   ]
  },
  {
   "cell_type": "code",
   "execution_count": 5,
   "id": "2f7150b0",
   "metadata": {},
   "outputs": [
    {
     "name": "stdout",
     "output_type": "stream",
     "text": [
      "/tmp/test-grep/test-7071\n"
     ]
    }
   ],
   "source": [
    "## NOTE: For reproducability, the directory name needs to be fixed\n",
    "## In place of $$, use a psuedo random number (e,g., 7071)\n",
    "## *** All output from one run to the next needs to be the same ***\n",
    "\n",
    "## temp_dir=$TMP/test-$$\n",
    "temp_dir=$TMP/test-7071\n",
    "\n",
    "mkdir -p \"$temp_dir\"\n",
    "# TODO: /bin/rm -rvf \"$temp_dir\"\n",
    "cd \"$temp_dir\"\n",
    "pwd\n",
    "\n",
    "#ALIAS FOR PRINTING SEPERATION LINES (FOR JUPYTER)\n",
    "alias linebr=\"printf '%*s\\n' \"${COLUMNS:-$(tput cols)}\" '' | tr ' ' -\""
   ]
  },
  {
   "cell_type": "code",
   "execution_count": 6,
   "id": "868c96db",
   "metadata": {},
   "outputs": [
    {
     "name": "stdout",
     "output_type": "stream",
     "text": [
      "9\n"
     ]
    }
   ],
   "source": [
    "# Count aliases proper\n",
    "alias | wc -l"
   ]
  },
  {
   "cell_type": "code",
   "execution_count": 7,
   "id": "4eb0b066",
   "metadata": {},
   "outputs": [
    {
     "name": "stdout",
     "output_type": "stream",
     "text": [
      "2\n"
     ]
    }
   ],
   "source": [
    "# Count functions\n",
    "typeset -f | egrep '^\\w+' | wc -l"
   ]
  },
  {
   "cell_type": "code",
   "execution_count": 8,
   "id": "37c6221e",
   "metadata": {},
   "outputs": [
    {
     "name": "stdout",
     "output_type": "stream",
     "text": [
      "grep (GNU grep) 3.7\n",
      "Copyright (C) 2021 Free Software Foundation, Inc.\n",
      "License GPLv3+: GNU GPL version 3 or later <https://gnu.org/licenses/gpl.html>.\n",
      "This is free software: you are free to change and redistribute it.\n",
      "There is NO WARRANTY, to the extent permitted by law.\n",
      "\n",
      "Written by Mike Haertel and others; see\n",
      "<https://git.sv.gnu.org/cgit/grep.git/tree/AUTHORS>.\n"
     ]
    }
   ],
   "source": [
    "# check for a modern version of grep. For example,\n",
    "#\n",
    "# $ grep -V\n",
    "# grep (GNU grep) 2.4.2\n",
    "#\n",
    "# Copyright 1988, 1992-1999, 2000 Free Software Foundation, Inc.\n",
    "# ...\n",
    "#\n",
    "# In contrast, here's an old verion (e.g., under medusa):\n",
    "#\n",
    "# $ grep -V\n",
    "# GNU grep version 2.0\n",
    "# usage: grep [-[[AB] ]<num>] [-[CEFGVchilnqsvwx]] [-[ef]] <expr> [<files...>]\n",
    "\n",
    "skip_dirs=\"\"\n",
    "if [[ $(grep --version) =~ Copyright.*2[0-9][0-9][0-9] ]]; then skip_dirs=\"-d skip\"; fi\n",
    "grep -V"
   ]
  },
  {
   "cell_type": "code",
   "execution_count": 9,
   "id": "2a4ff3e5",
   "metadata": {},
   "outputs": [],
   "source": [
    "# Grep settings\n",
    "# TODO: use gr and gr_ throughout for consistency\n",
    "# TODO: use -P flag (i.e.,  --perl-regexp) w/ grep rather than egrep\n",
    "# Notes:\n",
    "# - MY_GREP_OPTIONS used instead of GREP_OPTIONS since grep interprets latter\n",
    "#   -n       show line numbers\n",
    "#   -d skip  skip directories (i.e., don't treat as files)\n",
    "#   -s       suppress error messages (e.g., unreadable files)\n",
    "#   -E       extended regex support (i.e., old egrep)\n",
    "# - /bin/grep used to avoid alias and to allow for use with exec\n",
    "# - egrep is normally used unless the pattern will never use extended regex's\n",
    "## TODO: quiet-unalias grep\n",
    "## TODO: add alias for resolving grep binary with fallback to \"command grep\"\n",
    "GREP=\"/bin/grep\"\n",
    "EGREP=\"$GREP -E\"\n",
    "export MY_GREP_OPTIONS=\"-n $skip_dirs -s\"\n",
    "# effing shellcheck (SC2086: Double quote to prevent globbing)\n",
    "# shellcheck disable=SC2086"
   ]
  },
  {
   "cell_type": "code",
   "execution_count": 10,
   "id": "917077bc",
   "metadata": {},
   "outputs": [],
   "source": [
    "{\n",
    "function gr () { $GREP $MY_GREP_OPTIONS -i \"$@\"; }\n",
    "function gr- () { $GREP $MY_GREP_OPTIONS \"$@\"; }\n",
    "SORT_COL2=\"--key=2\"\n",
    "# grep-unique(pattern, file, ...): count occurrence of pattern in file...\n",
    "function grep-unique () { $GREP -c $MY_GREP_OPTIONS \"$@\" | $GREP -v \":0\" | sort -rn $SORT_COL2 -t':'; }\n",
    "# grep-missing(pattern, file, ...): show files without pattern \n",
    "# TODO: archive\n",
    "function grep-missing () { $GREP -c $MY_GREP_OPTIONS \"$@\" | $GREP \":0\"; }\n",
    "alias gu='grep-unique -i'\n",
    "## OLD\n",
    "## alias gru='gu'\n",
    "alias gu-='grep-unique'\n",
    "# gu-all: run gu over all files in current dir\n",
    "# TODO: archive\n",
    "function gu-all () { grep-unique \"$@\" ./* | $PAGER; }\n",
    "#\n",
    "function gu- () { $GREP -c $MY_GREP_OPTIONS \"$@\" | $GREP -v \":0\"; }\n",
    "#\n",
    "# grepl(pattern, [other_grep_args]): invokes grep over PATTERN and OTHER_GREP_ARGS and then pipes into less for PATTERN\n",
    "# NOTE: actually uses egrep\n",
    "# TODO: use more general way to ensure pattern given last while readily extractable for less -p usage\n",
    "## OLD: function grep-to-less () { $GREP $MY_GREP_OPTIONS \"$@\" | $PAGER -p\"$1\"; }\n",
    "function grep-to-less () { $EGREP $MY_GREP_OPTIONS \"$@\" | $PAGER_NOEXIT -p\"$1\"; }\n",
    "alias grepl-='grep-to-less'\n",
    "function grepl () { pattern=\"$1\"; shift; grep-to-less \"$pattern\" -i \"$@\"; }\n",
    "}"
   ]
  },
  {
   "cell_type": "code",
   "execution_count": 11,
   "id": "135998e6",
   "metadata": {},
   "outputs": [],
   "source": [
    "## SETTING UP FOR GREP TEST\n",
    "rm -rf ./*\n",
    "\n",
    "# THE WORD TO BE TESTED - sensitive\n",
    "mkdir testdir1 testdir2\n",
    "echo \"As grep commands are case sensitive, one of the most useful operators for grep searches as they are sensitive is -i. Instead of printing lowercase results only, the terminal displays both uppercase and lowercase results. The output includes lines with mixed case entries.\n",
    "\" > testgrep1\n",
    "echo \"sensitive sensitive sensitive Sensitive SENSITIVE lorem ipsum\" > testgrep2\n",
    "echo \"no mentions here\" > testgrep3\n",
    "echo \"Passwords are generally case sensitive\" > testgrep4\n"
   ]
  },
  {
   "cell_type": "code",
   "execution_count": 12,
   "id": "f906642e",
   "metadata": {},
   "outputs": [
    {
     "name": "stdout",
     "output_type": "stream",
     "text": [
      "testgrep1:As grep commands are case sensitive, one of the most useful operators for grep searches as they are sensitive is -i. Instead of printing lowercase results only, the terminal displays both uppercase and lowercase results. The output includes lines with mixed case entries.\n",
      "testgrep2:sensitive sensitive sensitive Sensitive SENSITIVE lorem ipsum\n",
      "testgrep4:Passwords are generally case sensitive\n",
      "--------------------------------------------------------------------------------\n",
      "testgrep4:1\n",
      "testgrep2:1\n",
      "testgrep1:1\n",
      "--------------------------------------------------------------------------------\n",
      "testgrep4:1\n",
      "testgrep2:1\n",
      "testgrep1:1\n",
      "--------------------------------------------------------------------------------\n"
     ]
    }
   ],
   "source": [
    "## TESTING GREP ALIASES\n",
    "\n",
    "# 0) grep \n",
    "grep sensitive testgrep1 testgrep2 testgrep3 testgrep4\n",
    "linebr\n",
    "# A) gu (grep-unique i-)\n",
    "gu sensitive testgrep1 testgrep2 testgrep3 testgrep4\n",
    "linebr\n",
    "# B) gu- (grep-unique)\n",
    "gu- sensitive testgrep1 testgrep2 testgrep3 testgrep4\n",
    "linebr\n",
    "# # C) grepl- (grep-to-less)\n",
    "# grepl- sensitive testgrep1 testgrep2 testgrep3 testgrep4\n",
    "# ERROR: bash: -psensitive: command not found\n",
    "#        /bin/grep: write error: Broken pipe"
   ]
  },
  {
   "cell_type": "code",
   "execution_count": 13,
   "id": "ed26e21e",
   "metadata": {},
   "outputs": [],
   "source": [
    "# TODO: create function for creating gr-xyz aliases\n",
    "# TODO: -or- create gr-xyz template\n",
    "## function gr-xyz () { gr- \"$@\" *.xyz; }\n",
    "\n",
    "# show-line-context(file, line-num): show 5 lines before LINE-NUM in FILE\n",
    "# TODO: archive\n",
    "function show-line-context() { cat -n \"$1\" | $GREP -B5 \"^\\W+$2\\W\"; }\n",
    "\n",
    "# Helper function for grep-based aliases pipe into less\n",
    "function gr-less () { gr \"$@\" | $PAGER; }"
   ]
  },
  {
   "cell_type": "code",
   "execution_count": 14,
   "id": "4221570d",
   "metadata": {},
   "outputs": [],
   "source": [
    "# Other grep-related stuff\n",
    "#\n",
    "# EX: echo $'1 one\\n2 \\x80\\n3 three' | gr-nonascii => $'2: 2 \\x80'\n",
    "alias grep-nonascii='perlgrep.perl \"[\\x80-\\xFF]\"'"
   ]
  },
  {
   "cell_type": "code",
   "execution_count": 15,
   "id": "cb199a8c",
   "metadata": {},
   "outputs": [],
   "source": [
    "## grep-nonascii sensitive - HALTED"
   ]
  },
  {
   "cell_type": "code",
   "execution_count": 16,
   "id": "1577d373",
   "metadata": {},
   "outputs": [],
   "source": [
    "# Searching for files\n",
    "# TODO:\n",
    "# - specify find options in an environment variable\n",
    "# - rework in terms of Perl regex? (or use -iregex in place of -iname)\n",
    "#\n",
    "function findspec () { if [ \"$2\" = \"\" ]; then echo \"Usage: findspec dir glob-pattern find-option ... \"; else /usr/bin/find \"$1\" -iname \\*\"$2\"\\* \"$3\" \"$4\" \"$5\" \"$6\" \"$7\" \"$8\" \"$9\" 2>&1 | $GREP -v '^find: '; fi; }\n",
    "# findspec[-all](dir, pattern, option): find files in directory tried, optionally following links (-all)\n",
    "function findspec-all () { /usr/bin/find \"$1\" -follow -iname \\*\"$2\"\\* \"$3\" \"$4\" \"$5\" \"$6\" \"$7\" \"$8\" \"$9\" -print 2>&1 | $GREP -v '^find: '; }\n",
    "function fs () { findspec . \"$@\" | $EGREP -iv '(/(backup|build)/)'; } \n",
    "function fs-ls () { fs \"$@\" -exec ls -l {} \\; ; }\n",
    "alias fs-='findspec-all .'\n",
    "function fs-ext () { find . -iname \\*.\"$1\" | $EGREP -iv '(/(backup|build)/)'; } \n",
    "# TODO: extend fs-ext to allow for basename pattern (e.g., fs-ext java ImportXML)\n",
    "function fs-ls- () { fs- \"$@\" -exec ls -l {} \\; ; }\n",
    "#\n",
    "findgrep_opts=\"-in\"\n",
    "#\n",
    "# NOTE: findgrep macros use $findgrep_opts dynamically (eg, user can change $findgrep_opts)\n",
    "function findgrep-verbose () { find \"$1\" -iname \\*\"$2\"\\* -print -exec $GREP $findgrep_opts \"$3\" \"$4\" \"$5\" \"$6\" \"$7\" \"$8\" \"$9\" \\{\\} \\;; }\n",
    "# findgrep(dir, filename_pattern, line_pattern): $GREP through files in DIR matching FILENAME_PATTERN for LINE_PATTERN\n",
    "function findgrep () { find \"$1\" -iname \\*\"$2\"\\* -exec $GREP $findgrep_opts \"$3\" \"$4\" \"$5\" \"$6\" \"$7\" \"$8\" \"$9\" \\{\\} /dev/null \\;; }\n",
    "function findgrep- () { find \"$1\" -iname \"$2\" -print -exec $GREP $findgrep_opts \"$3\" \"$4\" \"$5\" \"$6\" \"$7\" \"$8\" \"$9\" \\{\\} \\;; }\n",
    "function findgrep-ext () { local dir=\"$1\"; local ext=\"$2\"; shift; shift; find \"$dir\" -iname \"*.$ext\" -exec $GREP $findgrep_opts \"$@\" \\{\\}  /dev/null \\;; }\n",
    "# fgr(filename_pattern, line_pattern): $GREP through files matching FILENAME_PATTERN for LINE_PATTERN\n",
    "function fgr () { findgrep . \"$@\" | $EGREP -v '((/backup)|(/build))'; }\n",
    "function fgr-ext () { findgrep-ext . \"$@\" | $EGREP -v '(/(backup)|(build)/)'; }\n",
    "alias fgr-py='fgr-ext py'"
   ]
  },
  {
   "cell_type": "code",
   "execution_count": 17,
   "id": "953fc1ca",
   "metadata": {},
   "outputs": [],
   "source": [
    "# fgr-py - HALTED"
   ]
  },
  {
   "cell_type": "code",
   "execution_count": 18,
   "id": "03b8e00d",
   "metadata": {},
   "outputs": [],
   "source": [
    "function prepare-find-files-here () {\n",
    "    if [ \"$1\" != \"\" ]; then\n",
    "        echo \"Error: No arguments accepted; did you mean find-files-here?\"\n",
    "        return\n",
    "    fi\n",
    "    local brief_opts=\"R\"\n",
    "    local full_opts=\"alR\"\n",
    "    local brief_file=\"ls-$brief_opts.list\"\n",
    "    local full_file=\"ls-$full_opts.list\"\n",
    "    local current_files=($full_file $full_file.log $brief_file $brief_file.log)\n",
    "    # Rename existing files with file date as suffix (TODO move into ./backup)\n",
    "    # shellcheck disable=SC2068\n",
    "    rename-with-file-date ${current_files[@]}\n",
    "\n",
    "    # Perform the actual listings, putting errors in the .log file for each listing\n",
    "    # Note: If root directory, filters out special directories (TODO: make optional and/or overridable).\n",
    "    ## TODO: use approach based on filter variable and to avoid redundant hard-coding\n",
    "    ## TODO: ** resolve intermittent problem when running under /\n",
    "    if [ \"$PWD\" = \"/\" ]; then\n",
    "        ($NICE $LS -$brief_opts | $EGREP -v '^\\.(/(cdrom|dev|media|mnt|proc|run|sys|snap)$)' | perl -pe 's/^\\./\\n$&/;' > \"$brief_file\") 2> \"$brief_file\".log\n",
    "        ($NICE $LS -$full_opts | $EGREP -v '^\\.(/(cdrom|dev|media|mnt|proc|run|sys|snap)$)' | perl -pe 's/^\\./\\n$&/;' > \"$full_file\") 2> \"$full_file\".log\n",
    "    else\n",
    "        ($NICE $LS -$brief_opts | perl -pe 's/^\\./\\n$&/;' > \"$brief_file\") 2> \"$brief_file\".log\n",
    "        ($NICE $LS -$full_opts | perl -pe 's/^\\./\\n$&/;' > \"$full_file\") 2> \"$full_file\".log\n",
    "    fi;\n",
    "    \n",
    "    # shellcheck disable=SC2068\n",
    "    $LS -lh ${current_files[@]}\n",
    "}"
   ]
  },
  {
   "cell_type": "code",
   "execution_count": null,
   "id": "6857d57e",
   "metadata": {},
   "outputs": [],
   "source": []
  },
  {
   "cell_type": "code",
   "execution_count": 19,
   "id": "fa8ea96e",
   "metadata": {},
   "outputs": [],
   "source": [
    "# TODO: have variant of prepare-find-files that adds .mmmYY suffix to backup\n",
    "#\n",
    "# find-files-there(pattern, ls-alR-files): check for PATTERN in LS-ALR-FILES,\n",
    "# showing the directory, which has trailing ':' in listing (i.e., DIR1:\\nentry1\\n...entryN\\n\\nDIR2:\\n...)\n",
    "# exs: \"./archive:\", \"-rwxrwx--- 1 root vboxsf   19125 Dec  7  2013 morph.txt\", \"-rwxrwx--- 1 root vboxsf      35 Jan 17 12:19 python-notes.txt\"\n",
    "# Note: Perl paragraph-mode search first matches files along with the containing\n",
    "# subdirectory, and then line-mode search filters out non-matching files.\n",
    "#\n",
    "function find-files-there () { perlgrep.perl -para -i \"$@\" | $EGREP -i '((:$)|('\"$1\"'))' | $PAGER_NOEXIT -p \"$1\"; }\n",
    "function find-files-here () { find-files-there \"$1\" \"$PWD/ls-alR.list\"; }\n",
    "# following variants for sake of tab completion\n",
    "alias find-files='find-files-here'\n",
    "alias find-files-='find-files-there'\n",
    "# TODO: function find-files-dated () { perlgrep.perl -para -i \"$@\" | $EGREP -i '((:$)|('$1'))' | $PAGER_NOEXIT -p \"$1\"; }\n",
    "#\n",
    "# TODO: add --quiet option to dobackup.sh (and port to bash)\n",
    "# TODO: function conditional-backup() { if [ -e backup/\"$1\" ]; then dobackup.sh \"$1\"; fi; }\n",
    "alias make-file-listing='listing=\"ls-aR.list\"; dobackup.sh \"$listing\"; $LS -aR >| \"$listing\" 2>&1'\n"
   ]
  },
  {
   "cell_type": "code",
   "execution_count": null,
   "id": "f1d5d5be",
   "metadata": {},
   "outputs": [],
   "source": []
  }
 ],
 "metadata": {
  "kernelspec": {
   "display_name": "Bash",
   "language": "bash",
   "name": "bash"
  },
  "language_info": {
   "codemirror_mode": "shell",
   "file_extension": ".sh",
   "mimetype": "text/x-sh",
   "name": "bash"
  }
 },
 "nbformat": 4,
 "nbformat_minor": 5
}
