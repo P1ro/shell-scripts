{
 "cells": [
  {
   "cell_type": "code",
   "execution_count": 1,
   "id": "a03c1f14",
   "metadata": {
    "scrolled": false
   },
   "outputs": [],
   "source": [
    "# Setup\n",
    "bind 'set enable-bracketed-paste off'"
   ]
  },
  {
   "cell_type": "code",
   "execution_count": 2,
   "id": "10e4aac0",
   "metadata": {},
   "outputs": [
    {
     "name": "stdout",
     "output_type": "stream",
     "text": [
      "Hi Mom!\n"
     ]
    }
   ],
   "source": [
    "echo \"Hi Mom!\""
   ]
  },
  {
   "cell_type": "code",
   "execution_count": 3,
   "id": "93dfcf88",
   "metadata": {},
   "outputs": [
    {
     "name": "stdout",
     "output_type": "stream",
     "text": [
      "1\n"
     ]
    }
   ],
   "source": [
    "echo 'Hello world' | wc -l"
   ]
  },
  {
   "cell_type": "code",
   "execution_count": 4,
   "id": "95585f5b",
   "metadata": {},
   "outputs": [
    {
     "name": "stdout",
     "output_type": "stream",
     "text": [
      "/home/test3513/tom-project/shell-scripts/tests\n"
     ]
    }
   ],
   "source": [
    "pwd"
   ]
  },
  {
   "cell_type": "code",
   "execution_count": 5,
   "id": "1c7c7b9a",
   "metadata": {},
   "outputs": [],
   "source": [
    "# THIS IS A COMMENT"
   ]
  },
  {
   "cell_type": "code",
   "execution_count": 6,
   "id": "7e5dcc7c",
   "metadata": {},
   "outputs": [
    {
     "name": "stdout",
     "output_type": "stream",
     "text": [
      "/usr/bin/systemd\n"
     ]
    }
   ],
   "source": [
    "which systemd"
   ]
  },
  {
   "cell_type": "code",
   "execution_count": 7,
   "id": "a3e68607",
   "metadata": {},
   "outputs": [
    {
     "name": "stdout",
     "output_type": "stream",
     "text": [
      "adhoc-tests.test                  os\n",
      "alias-calculator-commands.ipynb   random\n",
      "alias-cd-commands.ipynb           re\n",
      "alias-grep-commands.ipynb         README.txt\n",
      "\u001b[0m\u001b[01;32malias-trace-misc-commands.ipynb\u001b[0m   \u001b[01;32msimple_batspp.py\u001b[0m\n",
      "\u001b[01;32mauto_batspp_mezcla.py\u001b[0m             \u001b[01;32msimple_batspp.py.old\u001b[0m\n",
      "\u001b[01;32mauto_batspp.py\u001b[0m                    \u001b[01;34mstorage-temp-testfiles\u001b[0m\n",
      "\u001b[01;34mbats-only\u001b[0m                         \u001b[01;34mtemp\u001b[0m\n",
      "\u001b[01;34mbatspp-only\u001b[0m                       testbook-test-dir-aliases.ipynb\n",
      "batspp_report_kcov.py             test-check-errors.ipynb\n",
      "batspp-report-output.txt          \u001b[01;32mtest_check_errors.py\u001b[0m\n",
      "\u001b[01;32mbatspp_report.py\u001b[0m                  test-cond-env-setting.ipynb\n",
      "calc_entropy.input                test-dir-alias.ipynb\n",
      "calc_entropy.input2               \u001b[01;32mtest_extract_matches.py\u001b[0m\n",
      "calc_entropy.simple.input         \u001b[01;32mtest_tomohara_aliases.bats\u001b[0m\n",
      "calc_entropy.simple.input2        \u001b[01;32mtest_tpo_count_it.py\u001b[0m\n",
      "calc-entropy-tests.ipynb          tomasohara-aliases-test.ipynb\n",
      "command-override-cp-mv.ipynb      \u001b[01;32mtom_auto_batspp_mezcla.py\u001b[0m\n",
      "\u001b[01;32m_dir-aliases.bash\u001b[0m                 trace-extensionless-shortcut-unicode.ipynb\n",
      "dir-aliases-test-revised.ipynb    trace-extensionless-shortcut-V2.ipynb\n",
      "docshtest.rst                     trace-file-manipulation.ipynb\n",
      "hello-world-basic.ipynb           trace-line-words-commands.ipynb\n",
      "hello-world-revised.ipynb         trace-linux-admin-alias.ipynb\n",
      "\u001b[01;34mimmediate-reports\u001b[0m                 trace-python-commands.ipynb\n",
      "json-related-alias.ipynb          trace-setup-sorting-wrappers.ipynb\n",
      "\u001b[01;32mjupyter_to_batspp.py\u001b[0m              trace-unix-alias.ipynb\n",
      "\u001b[01;34mkcov-output\u001b[0m                       trace-unix-general.ipynb\n",
      "\u001b[01;32mkcov_result.py\u001b[0m                    \u001b[01;34mtxt-reports\u001b[0m\n",
      "more-tomohara-aliases-test.ipynb\n"
     ]
    }
   ],
   "source": [
    "ls"
   ]
  },
  {
   "cell_type": "code",
   "execution_count": 8,
   "id": "ec969a63",
   "metadata": {},
   "outputs": [
    {
     "name": "stdout",
     "output_type": "stream",
     "text": [
      "F S   UID     PID    PPID  C PRI  NI ADDR SZ WCHAN  TTY          TIME CMD\n",
      "0 S  1002   21933   21920  1  80   0 -  4386 do_wai pts/5    00:00:00 bash\n",
      "0 R  1002   21952   21933  0  80   0 -  4648 -      pts/5    00:00:00 ps\n"
     ]
    }
   ],
   "source": [
    "ps -l"
   ]
  },
  {
   "cell_type": "code",
   "execution_count": null,
   "id": "95a43fbc",
   "metadata": {},
   "outputs": [],
   "source": []
  }
 ],
 "metadata": {
  "kernelspec": {
   "display_name": "Bash",
   "language": "bash",
   "name": "bash"
  },
  "language_info": {
   "codemirror_mode": "shell",
   "file_extension": ".sh",
   "mimetype": "text/x-sh",
   "name": "bash"
  }
 },
 "nbformat": 4,
 "nbformat_minor": 5
}
