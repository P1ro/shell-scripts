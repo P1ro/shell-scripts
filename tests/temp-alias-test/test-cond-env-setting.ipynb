{
 "cells": [
  {
   "cell_type": "code",
   "execution_count": 1,
   "id": "9e7f71af",
   "metadata": {},
   "outputs": [
    {
     "name": "stdout",
     "output_type": "stream",
     "text": [
      "\u001b[?2004h\u001b[?2004l\u001b[?2004l\u001b[?2004l\u001b[?2004l\u001b[?2004l\r"
     ]
    }
   ],
   "source": [
    "## Bracketed Paste is disabled to prevent characters after output\n",
    "## Example: \n",
    "# $ echo 'Hii'\n",
    "# | Hi?2004l\n",
    "\n",
    "bind 'set enable-bracketed-paste off'"
   ]
  },
  {
   "cell_type": "code",
   "execution_count": 2,
   "id": "93ec4a3f",
   "metadata": {},
   "outputs": [
    {
     "name": "stdout",
     "output_type": "stream",
     "text": [
      "[PEXP\\[\\]ECT_PROMPT>\n"
     ]
    }
   ],
   "source": [
    "## TEST:  Make sure simple prompt used (e.g., no escapes that might contaminate output)\n",
    "## PS1=\"$ \"\n",
    "## TODO: PS1=\"> \"\n",
    "\n",
    "## NOTE: The Jupyter bash kernel requires that PS1 not be modified as they customize it. \n",
    "echo $PS1"
   ]
  },
  {
   "cell_type": "code",
   "execution_count": 3,
   "id": "c6ffbc59",
   "metadata": {},
   "outputs": [
    {
     "name": "stdout",
     "output_type": "stream",
     "text": [
      "0\n",
      "0\n"
     ]
    }
   ],
   "source": [
    "# Delete all aliases and function\n",
    "# TODO: Instead start from pristine environment\n",
    "unalias -a\n",
    "alias | wc -l\n",
    "for f in $(typeset -f | egrep '^\\w+'); do unset -f $f; done\n",
    "typeset -f | egrep '^\\w+' | wc -l"
   ]
  },
  {
   "cell_type": "code",
   "execution_count": 4,
   "id": "233f11ac",
   "metadata": {},
   "outputs": [
    {
     "name": "stdout",
     "output_type": "stream",
     "text": [
      "8\n"
     ]
    }
   ],
   "source": [
    "# Setting a temp directory for tests\n",
    "TMP=/tmp/test-cond-env\n",
    "## NOTE: Source it directly from the ./tests directory.\n",
    "BIN_DIR=$PWD/..\n",
    "## You will need to run jupyter from that directory.\n",
    "## source $TEMP_BIN/_dir-aliases.bash\n",
    "source _dir-aliases.bash\n",
    "alias | wc -l"
   ]
  },
  {
   "cell_type": "code",
   "execution_count": 5,
   "id": "be943c71",
   "metadata": {},
   "outputs": [
    {
     "name": "stdout",
     "output_type": "stream",
     "text": [
      "/tmp/test-cond-env/test-1710\n"
     ]
    }
   ],
   "source": [
    "## NOTE: For reproducability, the directory name needs to be fixed\n",
    "## In place of $$, use a psuedo random number (e,g., 1710)\n",
    "## *** All output from one run to the next needs to be the same ***\n",
    "\n",
    "## temp_dir=$TMP/test-$$\n",
    "temp_dir=$TMP/test-1710\n",
    "\n",
    "mkdir -p \"$temp_dir\"\n",
    "# TODO: /bin/rm -rvf \"$temp_dir\"\n",
    "cd \"$temp_dir\"\n",
    "pwd\n",
    "\n",
    "#ALIAS FOR PRINTING SEPERATION LINES (FOR JUPYTER)\n",
    "alias linebr=\"printf '%*s\\n' \"${COLUMNS:-$(tput cols)}\" '' | tr ' ' -\""
   ]
  },
  {
   "cell_type": "code",
   "execution_count": 6,
   "id": "a67f36df",
   "metadata": {},
   "outputs": [
    {
     "name": "stdout",
     "output_type": "stream",
     "text": [
      "9\n"
     ]
    }
   ],
   "source": [
    "# Count aliases proper\n",
    "alias | wc -l"
   ]
  },
  {
   "cell_type": "code",
   "execution_count": 7,
   "id": "c39f70a7",
   "metadata": {},
   "outputs": [
    {
     "name": "stdout",
     "output_type": "stream",
     "text": [
      "2\n"
     ]
    }
   ],
   "source": [
    "# Count functions\n",
    "typeset -f | egrep '^\\w+' | wc -l"
   ]
  },
  {
   "cell_type": "code",
   "execution_count": 8,
   "id": "f2ac95c6",
   "metadata": {},
   "outputs": [],
   "source": [
    "# CONDITIONAL ENVIRONMENT SETTINGS - tomohara-aliases.sh\n",
    "# Conditional environment variable setting\n",
    "# Format: cond-export VAR1 VALUE1 [VAR2 VALUE2] ...\n",
    "# EX: export FU=\"bar\"; conditional-export FU baz; echo $FU => bar\n",
    "#\n",
    "function conditional-export () {\n",
    "    local var value\n",
    "    local args\n",
    "    while [ \"$1\" != \"\" ]; do\n",
    "        var=\"$1\" value=\"$2\";\n",
    "        ## DEBUG: echo \"value for env. var. $var: $(printenv \"$var\")\"\n",
    "        if [ \"$(printenv \"$var\")\" == \"\" ]; then\n",
    "\t    # Note: ignores SC1066 (Don't use $ on the left side of assignments)\n",
    "\t    # shellcheck disable=SC1066      \n",
    "            export $var=\"$value\"\n",
    "        fi\n",
    "\targs=\"$*\"\n",
    "        shift 2\n",
    "\tif [ \"$args\" = \"$*\" ]; then\n",
    "\t    echo \"Error: Unexpected value in conditional-export (var='$var'; val='$value')\"\n",
    "\t    return \n",
    "\tfi\n",
    "    done\n",
    "}"
   ]
  },
  {
   "cell_type": "code",
   "execution_count": 9,
   "id": "3ade9f2a",
   "metadata": {},
   "outputs": [],
   "source": [
    "# SETTING ALIASES FOR CONDITIONAL EXPORT\n",
    "alias conditional-setenv='conditional-export'\n",
    "alias cond-export='conditional-export'\n",
    "alias cond-setenv='conditional-export'"
   ]
  },
  {
   "cell_type": "code",
   "execution_count": 10,
   "id": "bb9f1941",
   "metadata": {},
   "outputs": [],
   "source": [
    "# SETTING A ENVIRONMENT VARIABLE NAMED COND_ENV_TEST_TEMP\n",
    "cond-setenv COND_ENV_TEST_TEMP tmp/cond-env-test-temp"
   ]
  },
  {
   "cell_type": "code",
   "execution_count": 11,
   "id": "807aeb5c",
   "metadata": {},
   "outputs": [
    {
     "name": "stdout",
     "output_type": "stream",
     "text": [
      "tmp/cond-env-test-temp\n"
     ]
    }
   ],
   "source": [
    "# PROOF THAT THE ENVIRONMENT VARIABLE IS CREATED\n",
    "echo $COND_ENV_TEST_TEMP"
   ]
  },
  {
   "cell_type": "code",
   "execution_count": 12,
   "id": "a59bf7fd",
   "metadata": {
    "scrolled": true
   },
   "outputs": [
    {
     "name": "stdout",
     "output_type": "stream",
     "text": [
      "total 4\n",
      "drwxrwxr-x 3 aveey aveey 4096 Jul  4 21:52 tmp\n"
     ]
    }
   ],
   "source": [
    "# USE OF ENV VARIABLE TO CREATE A SUB-DIRECTORY\n",
    "mkdir -p $COND_ENV_TEST_TEMP\n",
    "ls -l"
   ]
  },
  {
   "cell_type": "code",
   "execution_count": 13,
   "id": "3d1256f7",
   "metadata": {
    "scrolled": true
   },
   "outputs": [
    {
     "name": "stdout",
     "output_type": "stream",
     "text": [
      "/tmp/test-cond-env/test-1710\n"
     ]
    }
   ],
   "source": [
    "# THE OUTPUT OF printenv.sh IS STORED IN temp_env1.tmp CREATED IN THE DIRECTORY SPECIFIED BY $COND_ENV_TEST_TEMP\n",
    "pwd\n",
    "bash printenv.sh > $COND_ENV_TEST_TEMP/temp-env-1"
   ]
  },
  {
   "cell_type": "code",
   "execution_count": 14,
   "id": "109bc8c7",
   "metadata": {},
   "outputs": [
    {
     "name": "stdout",
     "output_type": "stream",
     "text": [
      "BASH=/usr/bin/bash\n",
      "BASHOPTS=checkwinsize:cmdhist:complete_fullquote:extquote:force_fignore:globasciiranges:hostcomplete:interactive_comments:progcomp:promptvars:sourcepath\n",
      "BASH_ALIASES=()\n",
      "BASH_ARGC=()\n",
      "BASH_ARGV=()\n",
      "BASH_CMDS=()\n",
      "BASH_LINENO=([0]=\"0\")\n",
      "BASH_SOURCE=([0]=\"/home/aveey/bin/printenv.sh\")\n",
      "BASH_VERSINFO=([0]=\"5\" [1]=\"1\" [2]=\"16\" [3]=\"1\" [4]=\"release\" [5]=\"x86_64-pc-linux-gnu\")\n",
      "BASH_VERSION='5.1.16(1)-release'\n",
      "BROWSER=firefox\n",
      "COLORTERM=truecolor\n",
      "CONDA_DEFAULT_ENV=base\n",
      "CONDA_EXE=/home/aveey/miniconda3/bin/conda\n",
      "CONDA_PREFIX=/home/aveey/miniconda3\n",
      "CONDA_PROMPT_MODIFIER='(base) '\n",
      "CONDA_PYTHON_EXE=/home/aveey/miniconda3/bin/python\n",
      "CONDA_SHLVL=1\n",
      "COND_ENV_TEST_TEMP=tmp/cond-env-test-temp\n",
      "DBUS_SESSION_BUS_ADDRESS=unix:path=/run/user/1000/bus\n",
      "DESKTOP_SESSION=Lubuntu\n",
      "DIRSTACK=()\n",
      "DISPLAY=:0\n",
      "EUID=1000\n",
      "GPG_AGENT_INFO=/run/user/1000/gnupg/S.gpg-agent:0:1\n",
      "GROUPS=()\n",
      "GTK_CSD=0\n",
      "GTK_OVERLAY_SCROLLING=0\n",
      "HOME=/home/aveey\n",
      "HOSTNAME=ASPIRE5742GLUBU\n",
      "HOSTTYPE=x86_64\n",
      "IFS=$' \\t\\n'\n",
      "JPY_PARENT_PID=2771\n",
      "LANG=en_US.UTF-8\n",
      "LC_ADDRESS=en_US.UTF-8\n",
      "LC_IDENTIFICATION=en_US.UTF-8\n",
      "LC_MEASUREMENT=en_US.UTF-8\n",
      "LC_MONETARY=en_US.UTF-8\n",
      "LC_NAME=en_US.UTF-8\n",
      "LC_NUMERIC=en_US.UTF-8\n",
      "LC_PAPER=en_US.UTF-8\n",
      "LC_TELEPHONE=en_US.UTF-8\n",
      "LC_TIME=en_US.UTF-8\n",
      "LESSCLOSE='/usr/bin/lesspipe %s %s'\n",
      "LESSOPEN='| /usr/bin/lesspipe %s'\n",
      "LOGNAME=aveey\n",
      "LS_COLORS='rs=0:di=01;34:ln=01;36:mh=00:pi=40;33:so=01;35:do=01;35:bd=40;33;01:cd=40;33;01:or=40;31;01:mi=00:su=37;41:sg=30;43:ca=30;41:tw=30;42:ow=34;42:st=37;44:ex=01;32:*.tar=01;31:*.tgz=01;31:*.arc=01;31:*.arj=01;31:*.taz=01;31:*.lha=01;31:*.lz4=01;31:*.lzh=01;31:*.lzma=01;31:*.tlz=01;31:*.txz=01;31:*.tzo=01;31:*.t7z=01;31:*.zip=01;31:*.z=01;31:*.dz=01;31:*.gz=01;31:*.lrz=01;31:*.lz=01;31:*.lzo=01;31:*.xz=01;31:*.zst=01;31:*.tzst=01;31:*.bz2=01;31:*.bz=01;31:*.tbz=01;31:*.tbz2=01;31:*.tz=01;31:*.deb=01;31:*.rpm=01;31:*.jar=01;31:*.war=01;31:*.ear=01;31:*.sar=01;31:*.rar=01;31:*.alz=01;31:*.ace=01;31:*.zoo=01;31:*.cpio=01;31:*.7z=01;31:*.rz=01;31:*.cab=01;31:*.wim=01;31:*.swm=01;31:*.dwm=01;31:*.esd=01;31:*.jpg=01;35:*.jpeg=01;35:*.mjpg=01;35:*.mjpeg=01;35:*.gif=01;35:*.bmp=01;35:*.pbm=01;35:*.pgm=01;35:*.ppm=01;35:*.tga=01;35:*.xbm=01;35:*.xpm=01;35:*.tif=01;35:*.tiff=01;35:*.png=01;35:*.svg=01;35:*.svgz=01;35:*.mng=01;35:*.pcx=01;35:*.mov=01;35:*.mpg=01;35:*.mpeg=01;35:*.m2v=01;35:*.mkv=01;35:*.webm=01;35:*.webp=01;35:*.ogm=01;35:*.mp4=01;35:*.m4v=01;35:*.mp4v=01;35:*.vob=01;35:*.qt=01;35:*.nuv=01;35:*.wmv=01;35:*.asf=01;35:*.rm=01;35:*.rmvb=01;35:*.flc=01;35:*.avi=01;35:*.fli=01;35:*.flv=01;35:*.gl=01;35:*.dl=01;35:*.xcf=01;35:*.xwd=01;35:*.yuv=01;35:*.cgm=01;35:*.emf=01;35:*.ogv=01;35:*.ogx=01;35:*.aac=00;36:*.au=00;36:*.flac=00;36:*.m4a=00;36:*.mid=00;36:*.midi=00;36:*.mka=00;36:*.mp3=00;36:*.mpc=00;36:*.ogg=00;36:*.ra=00;36:*.wav=00;36:*.oga=00;36:*.opus=00;36:*.spx=00;36:*.xspf=00;36:'\n",
      "LXQT_SESSION_CONFIG=session\n",
      "MACHTYPE=x86_64-pc-linux-gnu\n",
      "OLDPWD=/home/aveey/tom-project/shell-scripts/tests\n",
      "OPTERR=1\n",
      "OPTIND=1\n",
      "OSTYPE=linux-gnu\n",
      "PAGER=cat\n",
      "PATH=/home/aveey/miniconda3/bin:/home/aveey/miniconda3/condabin:/home/aveey/.local/bin:/home/aveey/bin:/usr/local/sbin:/usr/local/bin:/usr/sbin:/usr/bin:/sbin:/bin:/usr/games:/usr/local/games:/snap/bin\n",
      "PIPESTATUS=([0]=\"0\")\n",
      "PPID=8683\n",
      "PS4='+ '\n",
      "PWD=/tmp/test-cond-env/test-1710\n",
      "QT_ACCESSIBILITY=1\n",
      "QT_PLATFORM_PLUGIN=lxqt\n",
      "QT_QPA_PLATFORMTHEME=lxqt\n",
      "SAL_USE_VCLPLUGIN=qt5\n",
      "SAL_VCL_QT5_USE_CAIRO=true\n",
      "SHELL=/bin/bash\n",
      "SHELLOPTS=braceexpand:hashall:interactive-comments\n",
      "SHLVL=3\n",
      "SSH_AGENT_PID=1038\n",
      "SSH_AUTH_SOCK=/tmp/ssh-XXXXXXZZXeE5/agent.990\n",
      "TERM=xterm-256color\n",
      "UID=1000\n",
      "USER=aveey\n",
      "VTE_VERSION=6800\n",
      "WINDOWID=35651587\n",
      "XAUTHORITY=/home/aveey/.Xauthority\n",
      "XDG_CACHE_HOME=/home/aveey/.cache\n",
      "XDG_CONFIG_DIRS=/etc/xdg/xdg-Lubuntu:/etc/xdg:/etc:/usr/share\n",
      "XDG_CONFIG_HOME=/home/aveey/.config\n",
      "XDG_CURRENT_DESKTOP=LXQt\n",
      "XDG_DATA_DIRS=/usr/share/Lubuntu:/usr/local/share:/usr/share:/var/lib/snapd/desktop\n",
      "XDG_DATA_HOME=/home/aveey/.local/share\n",
      "XDG_MENU_PREFIX=lxqt-\n",
      "XDG_RUNTIME_DIR=/run/user/1000\n",
      "XDG_SEAT=seat0\n",
      "XDG_SEAT_PATH=/org/freedesktop/DisplayManager/Seat0\n",
      "XDG_SESSION_CLASS=user\n",
      "XDG_SESSION_DESKTOP=\n",
      "XDG_SESSION_ID=3\n",
      "XDG_SESSION_PATH=/org/freedesktop/DisplayManager/Session1\n",
      "XDG_SESSION_TYPE=x11\n",
      "XDG_VTNR=1\n",
      "_=']'\n",
      "_CE_CONDA=\n",
      "_CE_M=\n"
     ]
    }
   ],
   "source": [
    "# MOVING TO THE DIRECTORY & VIEWING THE OUTPUT LOG\n",
    "cd $COND_ENV_TEST_TEMP\n",
    "cat temp-env-1"
   ]
  },
  {
   "cell_type": "code",
   "execution_count": null,
   "id": "3bb906ad",
   "metadata": {},
   "outputs": [],
   "source": []
  }
 ],
 "metadata": {
  "kernelspec": {
   "display_name": "Bash",
   "language": "bash",
   "name": "bash"
  },
  "language_info": {
   "codemirror_mode": "shell",
   "file_extension": ".sh",
   "mimetype": "text/x-sh",
   "name": "bash"
  }
 },
 "nbformat": 4,
 "nbformat_minor": 5
}
