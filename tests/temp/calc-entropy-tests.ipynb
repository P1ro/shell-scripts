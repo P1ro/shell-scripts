{
 "cells": [
  {
   "cell_type": "code",
   "execution_count": 23,
   "metadata": {},
   "outputs": [],
   "source": [
    "# Tests for calc_entropy.perl and calc_entropy.py) scripts\n",
    "\n",
    "# Settings\n",
    "calc_entropy=calc_entropy.perl\n",
    "simple=\"-simple\"\n",
    "verbose=\"-verbose\"\n",
    "# -or-: calc_entropy=\"calc_entropy.py\"; simple=\"--simple\"; verbose=\"--verbose\"\n",
    "\n",
    "# Convenience alias to use <NL> for entirely blank lines (i.e., no spaces)\n",
    "alias encode-blank-line='perl -pe \"s/^$/<NL>/;\"'"
   ]
  },
  {
   "cell_type": "code",
   "execution_count": 24,
   "metadata": {},
   "outputs": [
    {
     "name": "stdout",
     "output_type": "stream",
     "text": [
      "Entropy\n",
      "2.000\n"
     ]
    }
   ],
   "source": [
    "$calc_entropy $simple .25 .25 .25 .25"
   ]
  },
  {
   "cell_type": "code",
   "execution_count": 25,
   "metadata": {},
   "outputs": [
    {
     "name": "stdout",
     "output_type": "stream",
     "text": [
      "==> calc_entropy.input <==\n",
      "# Frequency of 'between' in Penn Treebank II WSJ annotations\n",
      "24\tpp-clr\n",
      "6\tpp-dir\n",
      "4\tpp-ext\n",
      "35\tpp-loc\n",
      "2\tpp-nom\n",
      "7\tpp-prd\n",
      "42\tpp-tmp\n",
      "<NL>\n",
      "==> calc_entropy.input2 <==\n",
      "2\tabc\n",
      "4\tdef\n",
      "1\tghi\n",
      "1\tjkl\n",
      "<NL>\n",
      "==> calc_entropy.simple.input <==\n",
      ".25 .25 .25 .25\n",
      "<NL>\n",
      "==> calc_entropy.simple.input2 <==\n",
      ".47 .42 .06 .05\n"
     ]
    }
   ],
   "source": [
    "# Show input\n",
    "head calc_entropy.*input* | encode-blank-line"
   ]
  },
  {
   "cell_type": "code",
   "execution_count": null,
   "metadata": {},
   "outputs": [],
   "source": [
    "# Simple input format"
   ]
  },
  {
   "cell_type": "code",
   "execution_count": 26,
   "metadata": {},
   "outputs": [
    {
     "name": "stdout",
     "output_type": "stream",
     "text": [
      "Entropy\n",
      "2.000\n"
     ]
    }
   ],
   "source": [
    "$calc_entropy $simple - < calc_entropy.simple.input"
   ]
  },
  {
   "cell_type": "code",
   "execution_count": 27,
   "metadata": {},
   "outputs": [
    {
     "name": "stdout",
     "output_type": "stream",
     "text": [
      "Entropy\n",
      "1.497\n"
     ]
    }
   ],
   "source": [
    "$calc_entropy $simple - < calc_entropy.simple.input2"
   ]
  },
  {
   "cell_type": "code",
   "execution_count": null,
   "metadata": {},
   "outputs": [],
   "source": [
    "# Verbose output"
   ]
  },
  {
   "cell_type": "code",
   "execution_count": 28,
   "metadata": {},
   "outputs": [
    {
     "name": "stdout",
     "output_type": "stream",
     "text": [
      "#\tprob\t-p lg(p)    max p\n",
      "#--------------------------------\n",
      "#\t0.470\t0.512\n",
      "#\t0.420\t0.526\n",
      "#\t0.060\t0.244\n",
      "#\t0.050\t0.216\n",
      "#--------------------------------\n",
      "# word\tclasses\tfreq\tentropy\tmax_prob\n",
      "#\t1.000\t1.497\t   0.470\n",
      "Entropy\n",
      "1.497\n"
     ]
    }
   ],
   "source": [
    "$calc_entropy $verbose $simple - < calc_entropy.simple.input2"
   ]
  },
  {
   "cell_type": "code",
   "execution_count": null,
   "metadata": {},
   "outputs": [],
   "source": [
    "# Usual input format"
   ]
  },
  {
   "cell_type": "code",
   "execution_count": 29,
   "metadata": {},
   "outputs": [
    {
     "name": "stdout",
     "output_type": "stream",
     "text": [
      "2.230\n"
     ]
    }
   ],
   "source": [
    "$calc_entropy - < calc_entropy.input"
   ]
  },
  {
   "cell_type": "code",
   "execution_count": 18,
   "metadata": {},
   "outputs": [
    {
     "name": "stdout",
     "output_type": "stream",
     "text": [
      "#\t\tclass\tfreq\tprob\t-p lg(p)\n",
      "#\t\tpp-tmp\t42\t0.350\t0.530\n",
      "#\t\tpp-loc\t35\t0.292\t0.518\n",
      "#\t\tpp-clr\t24\t0.200\t0.464\n",
      "#\t\tpp-prd\t7\t0.058\t0.239\n",
      "#\t\tpp-dir\t6\t0.050\t0.216\n",
      "#\t\tpp-ext\t4\t0.033\t0.164\n",
      "#\t\tpp-nom\t2\t0.017\t0.098\n",
      "#\t\ttotal\t120\t1.000\t2.230\n",
      "<NL>\n",
      "# word\tclasses\tfreq\tentropy\tmax_prob\n",
      "-\t7\t120\t2.230\t0.350\n"
     ]
    }
   ],
   "source": [
    "$calc_entropy $verbose - < calc_entropy.input | encode-blank-line"
   ]
  },
  {
   "cell_type": "code",
   "execution_count": null,
   "metadata": {},
   "outputs": [],
   "source": []
  }
 ],
 "metadata": {
  "kernelspec": {
   "display_name": "Bash",
   "language": "bash",
   "name": "bash"
  },
  "language_info": {
   "codemirror_mode": "shell",
   "file_extension": ".sh",
   "mimetype": "text/x-sh",
   "name": "bash"
  }
 },
 "nbformat": 4,
 "nbformat_minor": 4
}
