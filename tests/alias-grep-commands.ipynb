{
 "cells": [
  {
   "cell_type": "code",
   "execution_count": 1,
   "id": "9a234961",
   "metadata": {},
   "outputs": [],
   "source": [
    "## SETUP (OPTIONAL - USE IF REQUIRED)\n",
    "## Bracketed Paste is disabled to prevent characters after output\n",
    "## Example: \n",
    "## $ echo 'Hii'\n",
    "## | Hi?2004l\n",
    "# bind 'set enable-bracketed-paste off'"
   ]
  },
  {
   "cell_type": "code",
   "execution_count": 2,
   "id": "36ea45cf",
   "metadata": {},
   "outputs": [
    {
     "name": "stdout",
     "output_type": "stream",
     "text": [
      "[PEXP\\[\\]ECT_PROMPT>\n"
     ]
    }
   ],
   "source": [
    "## TEST:  Make sure simple prompt used (e.g., no escapes that might contaminate output)\n",
    "## PS1=\"$ \"\n",
    "## TODO: PS1=\"> \"\n",
    "\n",
    "## NOTE: The Jupyter bash kernel requires that PS1 not be modified as they customize it. \n",
    "echo $PS1"
   ]
  },
  {
   "cell_type": "code",
   "execution_count": 3,
   "id": "71d47f5f",
   "metadata": {},
   "outputs": [
    {
     "name": "stdout",
     "output_type": "stream",
     "text": [
      "0\n",
      "0\n"
     ]
    }
   ],
   "source": [
    "# Delete all aliases and function\n",
    "# TODO: Instead start from pristine environment\n",
    "unalias -a\n",
    "alias | wc -l\n",
    "for f in $(typeset -f | egrep '^\\w+'); do unset -f $f; done\n",
    "typeset -f | egrep '^\\w+' | wc -l"
   ]
  },
  {
   "cell_type": "code",
   "execution_count": 4,
   "id": "118f4d68",
   "metadata": {},
   "outputs": [
    {
     "name": "stdout",
     "output_type": "stream",
     "text": [
      "0\n"
     ]
    }
   ],
   "source": [
    "# Setting a temp directory for tests\n",
    "TMP=/tmp/test-grep\n",
    "\n",
    "## NOTE: Source it directly from the ./tests directory.\n",
    "BIN_DIR=$PWD/..\n",
    "\n",
    "## You will need to run jupyter from that directory.\n",
    "alias | wc -l"
   ]
  },
  {
   "cell_type": "code",
   "execution_count": 5,
   "id": "ab6448b5",
   "metadata": {},
   "outputs": [],
   "source": [
    "# Aliases for censoring username and/or numbers\n",
    "alias testnum=\"sed -r \"s/[0-9]/N/g\"\" \n",
    "alias testuser=\"sed -r \"s/\"$USER\"+/userxf333/g\"\""
   ]
  },
  {
   "cell_type": "code",
   "execution_count": 6,
   "id": "2f7150b0",
   "metadata": {},
   "outputs": [
    {
     "name": "stdout",
     "output_type": "stream",
     "text": [
      "/tmp/test-grep/test-7371\n"
     ]
    }
   ],
   "source": [
    "## NOTE: For reproducability, the directory name needs to be fixed\n",
    "## In place of $$, use a psuedo random number (e,g., 7071)\n",
    "## *** All output from one run to the next needs to be the same ***\n",
    "\n",
    "## temp_dir=$TMP/test-$$\n",
    "temp_dir=$TMP/test-7371\n",
    "\n",
    "mkdir -p \"$temp_dir\"\n",
    "# TODO: /bin/rm -rvf \"$temp_dir\"\n",
    "cd \"$temp_dir\"\n",
    "pwd\n",
    "\n",
    "#ALIAS FOR PRINTING SEPERATION LINES (FOR JUPYTER)\n",
    "alias linebr=\"printf '%*s\\n' \"${COLUMNS:-$(tput cols)}\" '' | tr ' ' -\""
   ]
  },
  {
   "cell_type": "code",
   "execution_count": 7,
   "id": "868c96db",
   "metadata": {},
   "outputs": [
    {
     "name": "stdout",
     "output_type": "stream",
     "text": [
      "3\n"
     ]
    }
   ],
   "source": [
    "# Count aliases proper\n",
    "alias | wc -l"
   ]
  },
  {
   "cell_type": "code",
   "execution_count": 8,
   "id": "4eb0b066",
   "metadata": {},
   "outputs": [
    {
     "name": "stdout",
     "output_type": "stream",
     "text": [
      "0\n"
     ]
    }
   ],
   "source": [
    "# Count functions\n",
    "typeset -f | egrep '^\\w+' | wc -l"
   ]
  },
  {
   "cell_type": "code",
   "execution_count": 9,
   "id": "993a90d3",
   "metadata": {},
   "outputs": [],
   "source": [
    "source $BIN_DIR/tomohara-aliases.bash"
   ]
  },
  {
   "cell_type": "code",
   "execution_count": 10,
   "id": "37c6221e",
   "metadata": {},
   "outputs": [
    {
     "name": "stdout",
     "output_type": "stream",
     "text": [
      "grep (GNU grep) N.N\n",
      "Copyright (C) NNNN Free Software Foundation, Inc.\n",
      "License GPLvN+: GNU GPL version N or later <https://gnu.org/licenses/gpl.html>.\n",
      "This is free software: you are free to change and redistribute it.\n",
      "There is NO WARRANTY, to the extent permitted by law.\n",
      "\n",
      "Written by Mike Haertel and others; see\n",
      "<https://git.sv.gnu.org/cgit/grep.git/tree/AUTHORS>.\n"
     ]
    }
   ],
   "source": [
    "# TEST-1\n",
    "# check for a modern version of grep. For example,\n",
    "#\n",
    "# $ grep -V\n",
    "# grep (GNU grep) 2.4.2\n",
    "#\n",
    "# Copyright 1988, 1992-1999, 2000 Free Software Foundation, Inc.\n",
    "# ...\n",
    "grep -V | testnum"
   ]
  },
  {
   "cell_type": "code",
   "execution_count": 11,
   "id": "135998e6",
   "metadata": {},
   "outputs": [],
   "source": [
    "## SETTING UP FOR GREP TEST\n",
    "rm -rf ./* > /dev/null\n",
    "\n",
    "# THE WORD TO BE TESTED - sensitive\n",
    "mkdir testdir1 testdir2\n",
    "echo \"As grep commands are case sensitive, one of the most useful operators for grep searches as they are sensitive is -i. Instead of printing lowercase results only, the terminal displays both uppercase and lowercase results. The output includes lines with mixed case entries.\n",
    "\" > testgrep1\n",
    "echo \"sensitive sensitive sensitive Sensitive SENSITIVE lorem ipsum\" > testgrep2\n",
    "echo \"no mentions here\" > testgrep3\n",
    "echo \"Passwords are generally case sensitive\" > testgrep4\n",
    "printf \"Non ASCII: Ñ\\nNext\\nNon ASCII: §\" > testgrep5\n"
   ]
  },
  {
   "cell_type": "code",
   "execution_count": 12,
   "id": "f906642e",
   "metadata": {},
   "outputs": [
    {
     "name": "stdout",
     "output_type": "stream",
     "text": [
      "testgrep1:As grep commands are case sensitive, one of the most useful operators for grep searches as they are sensitive is -i. Instead of printing lowercase results only, the terminal displays both uppercase and lowercase results. The output includes lines with mixed case entries.\n",
      "testgrep2:sensitive sensitive sensitive Sensitive SENSITIVE lorem ipsum\n",
      "testgrep4:Passwords are generally case sensitive\n",
      "--------------------------------------------------------------------------------\n",
      "testgrep4:1\n",
      "testgrep2:1\n",
      "testgrep1:1\n",
      "--------------------------------------------------------------------------------\n",
      "testgrep4:1\n",
      "testgrep2:1\n",
      "testgrep1:1\n",
      "--------------------------------------------------------------------------------\n",
      "3\n"
     ]
    }
   ],
   "source": [
    "## TEST-2: TESTING GREP ALIASES\n",
    "\n",
    "# 0) grep \n",
    "grep sensitive testgrep1 testgrep2 testgrep3 testgrep4\n",
    "linebr\n",
    "# A) gu (grep-unique i-)\n",
    "gu sensitive testgrep1 testgrep2 testgrep3 testgrep4\n",
    "linebr\n",
    "# B) gu- (grep-unique)\n",
    "gu- sensitive testgrep1 testgrep2 testgrep3 testgrep4\n",
    "linebr\n",
    "# C) grepl- (grep-to-less)\n",
    "grepl- \"sensitive\" testgrep1 testgrep2 testgrep3 testgrep4 | wc -l\n",
    "# NOTE: wc -l is pipelined as command goes to a loop"
   ]
  },
  {
   "cell_type": "code",
   "execution_count": 13,
   "id": "690311c9",
   "metadata": {},
   "outputs": [],
   "source": [
    "# # Halts test\n",
    "# show-line-context testgrep3"
   ]
  },
  {
   "cell_type": "code",
   "execution_count": 14,
   "id": "c1709353",
   "metadata": {
    "scrolled": true
   },
   "outputs": [
    {
     "name": "stdout",
     "output_type": "stream",
     "text": [
      "\u001b[?1h\u001b=\n",
      "\n",
      "\n",
      "\n",
      "\n",
      "\n",
      "\n",
      "\n",
      "\n",
      "\n",
      "\n",
      "\n",
      "\n",
      "\n",
      "\n",
      "\n",
      "\n",
      "\n",
      "\n",
      "\n",
      "\n",
      "\n",
      "\n",
      "\u001b[H\u001b[2J\u001b[H\u001b[H\u001b[2J\u001b[H1:sensitive sensitive sensitive Sensitive SENSITIVE lorem ipsum\n",
      "\u001b[1m~\u001b[0m\n",
      "\u001b[1m~\u001b[0m\n",
      "\u001b[1m~\u001b[0m\n",
      "\u001b[1m~\u001b[0m\n",
      "\u001b[1m~\u001b[0m\n",
      "\u001b[1m~\u001b[0m\n",
      "\u001b[1m~\u001b[0m\n",
      "\u001b[1m~\u001b[0m\n",
      "\u001b[1m~\u001b[0m\n",
      "\u001b[1m~\u001b[0m\n",
      "\u001b[1m~\u001b[0m\n",
      "\u001b[1m~\u001b[0m\n",
      "\u001b[1m~\u001b[0m\n",
      "\u001b[1m~\u001b[0m\n",
      "\u001b[1m~\u001b[0m\n",
      "\u001b[1m~\u001b[0m\n",
      "\u001b[1m~\u001b[0m\n",
      "\u001b[1m~\u001b[0m\n",
      "\u001b[1m~\u001b[0m\n",
      "\u001b[1m~\u001b[0m\n",
      "\u001b[1m~\u001b[0m\n",
      "\u001b[1m~\u001b[0m\n",
      "\u001b[K\u001b[?1l\u001b>"
     ]
    }
   ],
   "source": [
    "cat testgrep2 | gr-less lorem"
   ]
  },
  {
   "cell_type": "code",
   "execution_count": 15,
   "id": "4221570d",
   "metadata": {},
   "outputs": [
    {
     "name": "stdout",
     "output_type": "stream",
     "text": [
      "Non ASCII: Ñ\n",
      "Non ASCII: §"
     ]
    }
   ],
   "source": [
    "cat testgrep5 | grep-nonascii"
   ]
  },
  {
   "cell_type": "code",
   "execution_count": 16,
   "id": "76128375",
   "metadata": {},
   "outputs": [],
   "source": [
    "# Need help for: fs-, findgrep, fgr, fgr-py"
   ]
  },
  {
   "cell_type": "code",
   "execution_count": 17,
   "id": "e51dcd01",
   "metadata": {},
   "outputs": [
    {
     "name": "stdout",
     "output_type": "stream",
     "text": [
      "-rw-rw-r-- N userxfNNN userxfNNN NNN  N NN:NN ls-alR.list\n",
      "-rw-rw-r-- N userxfNNN userxfNNN N  N NN:NN ls-alR.list.log\n",
      "-rw-rw-r-- N userxfNNN userxfNNN NNN  N NN:NN ls-R.list\n",
      "-rw-rw-r-- N userxfNNN userxfNNN N  N NN:NN ls-R.list.log\n"
     ]
    }
   ],
   "source": [
    "prepare-find-files-here | testuser | testnum | awk '!($6=\"\")'"
   ]
  },
  {
   "cell_type": "code",
   "execution_count": 18,
   "id": "584ac3a6",
   "metadata": {},
   "outputs": [
    {
     "name": "stdout",
     "output_type": "stream",
     "text": [
      "backup\t     ls-alR.list.log  ls-R.list.log  testdir2\ttestgrep2  testgrep4\n",
      "ls-alR.list  ls-R.list\t      testdir1\t     testgrep1\ttestgrep3  testgrep5\n"
     ]
    }
   ],
   "source": [
    "mkdir backup/\n",
    "ls"
   ]
  },
  {
   "cell_type": "code",
   "execution_count": 19,
   "id": "4da38cda",
   "metadata": {
    "scrolled": false
   },
   "outputs": [
    {
     "name": "stdout",
     "output_type": "stream",
     "text": [
      ".:     \n",
      "total NN    \n",
      "-rw-rw-r-- N userxfNNN userxfNNN N  N NN:NN ls-alR.list\n",
      "-rw-rw-r-- N userxfNNN userxfNNN N  N NN:NN ls-alR.list.log\n",
      "-rw-rw-r-- N userxfNNN userxfNNN NNN  N NN:NN ls-R.list\n",
      "-rw-rw-r-- N userxfNNN userxfNNN N  N NN:NN ls-R.list.log\n",
      "./testdirN:     \n",
      "total N    \n",
      "./testdirN:     \n",
      "total N    \n"
     ]
    }
   ],
   "source": [
    "find-files \"ls*\" | testuser | testnum | awk '!($6=\"\")'"
   ]
  },
  {
   "cell_type": "code",
   "execution_count": 20,
   "id": "f7c048b8",
   "metadata": {},
   "outputs": [],
   "source": [
    "# # Need Help (Non-ending process)\n",
    "# $ find-files- \"testgrep4\" | wc -l"
   ]
  },
  {
   "cell_type": "code",
   "execution_count": 21,
   "id": "1572700d",
   "metadata": {},
   "outputs": [],
   "source": [
    "# # # ISSUE\n",
    "# # $ make-file-listing\n",
    "# | cp: cannot stat 'ls-aR.list': No such file or directory\n",
    "# | chmod: cannot access './backup/ls-aR.list': No such file or directory\n"
   ]
  },
  {
   "cell_type": "code",
   "execution_count": null,
   "id": "2c16613a",
   "metadata": {},
   "outputs": [],
   "source": []
  }
 ],
 "metadata": {
  "kernelspec": {
   "display_name": "Bash",
   "language": "bash",
   "name": "bash"
  },
  "language_info": {
   "codemirror_mode": "shell",
   "file_extension": ".sh",
   "mimetype": "text/x-sh",
   "name": "bash"
  }
 },
 "nbformat": 4,
 "nbformat_minor": 5
}
