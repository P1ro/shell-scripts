{
 "cells": [
  {
   "cell_type": "code",
   "execution_count": 1,
   "id": "6dcea75d",
   "metadata": {},
   "outputs": [
    {
     "name": "stdout",
     "output_type": "stream",
     "text": [
      "\u001b[?2004h\u001b[?2004l\u001b[?2004l\u001b[?2004l\u001b[?2004l\u001b[?2004l\r"
     ]
    }
   ],
   "source": [
    "## Bracketed Paste is disabled to prevent characters after output\n",
    "## Example: \n",
    "# $ echo 'Hi'\n",
    "# | Hi?2004l\n",
    "\n",
    "bind 'set enable-bracketed-paste off'"
   ]
  },
  {
   "cell_type": "code",
   "execution_count": 2,
   "id": "65d43538",
   "metadata": {},
   "outputs": [
    {
     "name": "stdout",
     "output_type": "stream",
     "text": [
      "[PEXP\\[\\]ECT_PROMPT>\n"
     ]
    }
   ],
   "source": [
    "## TEST:  Make sure simple prompt used (e.g., no escapes that might contaminate output)\n",
    "## PS1=\"$ \"\n",
    "## TODO: PS1=\"> \"\n",
    "\n",
    "## NOTE: The Jupyter bash kernel requires that PS1 not be modified as they customize it. \n",
    "echo $PS1"
   ]
  },
  {
   "cell_type": "code",
   "execution_count": 3,
   "id": "d623c9a9",
   "metadata": {},
   "outputs": [
    {
     "name": "stdout",
     "output_type": "stream",
     "text": [
      "0\n",
      "0\n"
     ]
    }
   ],
   "source": [
    "# Delete all aliases and function\n",
    "# TODO: Instead start from pristine environment\n",
    "unalias -a\n",
    "alias | wc -l\n",
    "for f in $(typeset -f | egrep '^\\w+'); do unset -f $f; done\n",
    "typeset -f | egrep '^\\w+' | wc -l"
   ]
  },
  {
   "cell_type": "code",
   "execution_count": 4,
   "id": "0ff8f157",
   "metadata": {},
   "outputs": [
    {
     "name": "stdout",
     "output_type": "stream",
     "text": [
      "0\n"
     ]
    }
   ],
   "source": [
    "# Setting a temp directory for tests\n",
    "TMP=/tmp/test-unix\n",
    "\n",
    "## NOTE: Source it directly from the ./tests directory.\n",
    "BIN_DIR=$PWD/..\n",
    "\n",
    "alias | wc -l"
   ]
  },
  {
   "cell_type": "code",
   "execution_count": 5,
   "id": "ab954c7f",
   "metadata": {},
   "outputs": [
    {
     "name": "stdout",
     "output_type": "stream",
     "text": [
      "/tmp/test-unix/test-3245\n"
     ]
    }
   ],
   "source": [
    "## NOTE: For reproducability, the directory name needs to be fixed\n",
    "## In place of $$, use a psuedo random number (e,g., 3245)\n",
    "## *** All output from one run to the next needs to be the same ***\n",
    "\n",
    "## temp_dir=$TMP/test-$$\n",
    "temp_dir=$TMP/test-3245\n",
    "\n",
    "mkdir -p \"$temp_dir\"\n",
    "# TODO: /bin/rm -rvf \"$temp_dir\"\n",
    "cd \"$temp_dir\"\n",
    "pwd\n",
    "\n",
    "#ALIAS FOR PRINTING SEPERATION LINES (FOR JUPYTER)\n",
    "alias linebr=\"printf '%*s\\n' \"${COLUMNS:-$(tput cols)}\" '' | tr ' ' -\""
   ]
  },
  {
   "cell_type": "code",
   "execution_count": 6,
   "id": "ec6df159",
   "metadata": {},
   "outputs": [
    {
     "name": "stdout",
     "output_type": "stream",
     "text": [
      "1\n",
      "0\n"
     ]
    }
   ],
   "source": [
    "# Count aliases proper\n",
    "alias | wc -l\n",
    "# Count functions\n",
    "typeset -f | egrep '^\\w+' | wc -l"
   ]
  },
  {
   "cell_type": "code",
   "execution_count": 7,
   "id": "d312db03",
   "metadata": {},
   "outputs": [],
   "source": [
    "# ps-all(pattern): show processes from all users matching PATTERN (or . in which case piped to less)\n",
    "# TODO: have option to restrict to current user\n",
    "function ps-all () { \n",
    "    local pattern=\"$1\";\n",
    "    local pager=cat;\n",
    "    if [ \"$pattern\" = \"\" ]; then \n",
    "        pattern=\".\"; \n",
    "        pager=$PAGER\n",
    "    fi;\n",
    "    ps_mine.sh --all | $EGREP -i \"((^USER)|($pattern))\" | $pager;\n",
    "    }\n",
    "alias ps-script='ps-all \"\\\\bscript\\\\b\" | $GREP -v \"(gnome-session)\"'\n",
    "function ps-sort-once { ps_sort.perl -num_times=1 -by=time \"$@\" -; }\n",
    "alias ps-sort-time='ps-sort-once -by=time'\n",
    "alias ps-time=ps-sort-time\n",
    "alias ps-sort-mem='ps-sort-once -by=mem '\n",
    "alias ps-mem=ps-sort-mem\n"
   ]
  },
  {
   "cell_type": "code",
   "execution_count": 8,
   "id": "2395c71a",
   "metadata": {},
   "outputs": [
    {
     "name": "stdout",
     "output_type": "stream",
     "text": [
      "Error: bad sort field (time): using cpu\n",
      "USER         PID %CPU %MEM    VSZ   RSS TTY      STAT START   TIME COMMAND\n",
      "aveey       1279 18.0 12.4 4132464 459444 ?      Sl   20:06  14:33 /snap/firef\n",
      "aveey       8400 14.6  1.3 672896 51428 ?        Ssl  21:27   0:00 /usr/bin/py\n",
      "aveey       4661 13.0  6.4 2697144 237140 ?      Sl   20:40   6:09 /snap/firef\n",
      "aveey       2593  4.9 20.4 3537544 755560 ?      Sl   20:07   3:57 /snap/firef\n",
      "root         890  4.6  2.7 681536 100956 tty1    Ssl+ 20:05   3:49 /usr/lib/xo\n",
      "aveey       6783  4.6  8.8 25968212 324836 ?     Sl   20:42   2:04 /opt/Upwork\n",
      "aveey       8410  1.0  0.1  11412  5508 pts/6    Ss   21:27   0:00 /usr/bin/ba\n",
      "aveey       6719  0.7  4.4 4831484 165444 ?      Sl   20:42   0:20 /opt/Upwork\n",
      "aveey       4718  0.6  2.0 243932 75760 pts/0    Sl+  20:41   0:17 /usr/bin/py\n",
      "aveey       7968  0.6  4.1 2509728 153340 ?      Sl   21:15   0:04 /snap/firef\n",
      "aveey       2300  0.5  3.8 27820480 141776 ?     Sl   20:07   0:25 /snap/firef\n",
      "aveey       1070  0.1  2.4 1206000 91340 ?       Sl   20:05   0:06 /usr/bin/lx\n",
      "aveey       6750  0.1  1.5 274580 57336 ?        Sl   20:42   0:04 /opt/Upwork\n",
      "aveey       6764  0.1  1.9 290896 72136 ?        Sl   20:42   0:04 /opt/Upwork\n",
      "aveey       7301  0.1  2.7 1000220 101168 ?      Sl   20:52   0:03 /usr/bin/fe\n",
      "aveey       7868  0.1  1.4 672896 51732 ?        Ssl  21:13   0:01 /usr/bin/py\n",
      "root        8237  0.1  0.0      0     0 ?        I    21:20   0:00 [kworker/u1\n",
      "aveey       8366  0.1  1.7 2406092 62684 ?       Sl   21:25   0:00 /snap/firef\n",
      "root           1  0.0  0.2 166444 10956 ?        Ss   20:04   0:01 /sbin/init \n",
      "root           2  0.0  0.0      0     0 ?        S    20:04   0:00 [kthreadd]\n",
      "root           3  0.0  0.0      0     0 ?        I<   20:04   0:00 [rcu_gp]\n",
      "root           4  0.0  0.0      0     0 ?        I<   20:04   0:00 [rcu_par_gp\n",
      "root           5  0.0  0.0      0     0 ?        I<   20:04   0:00 [netns]\n",
      "root           7  0.0  0.0      0     0 ?        I<   20:04   0:00 [kworker/0:\n",
      "root           9  0.0  0.0      0     0 ?        I<   20:04   0:00 [mm_percpu_\n",
      "root          10  0.0  0.0      0     0 ?        S    20:04   0:00 [rcu_tasks_\n",
      "root          11  0.0  0.0      0     0 ?        S    20:04   0:00 [rcu_tasks_\n",
      "root          12  0.0  0.0      0     0 ?        S    20:04   0:00 [ksoftirqd/\n",
      "root          13  0.0  0.0      0     0 ?        I    20:04   0:01 [rcu_sched]\n",
      "root          14  0.0  0.0      0     0 ?        S    20:04   0:00 [migration/\n",
      "root          15  0.0  0.0      0     0 ?        S    20:04   0:00 [idle_injec\n",
      "root          17  0.0  0.0      0     0 ?        S    20:04   0:00 [cpuhp/0]\n",
      "root          18  0.0  0.0      0     0 ?        S    20:04   0:00 [cpuhp/1]\n",
      "root          19  0.0  0.0      0     0 ?        S    20:04   0:00 [idle_injec\n",
      "root          20  0.0  0.0      0     0 ?        S    20:04   0:00 [migration/\n",
      "root          21  0.0  0.0      0     0 ?        S    20:04   0:00 [ksoftirqd/\n",
      "root          23  0.0  0.0      0     0 ?        I<   20:04   0:00 [kworker/1:\n",
      "root          24  0.0  0.0      0     0 ?        S    20:04   0:00 [cpuhp/2]\n"
     ]
    }
   ],
   "source": [
    "# SORTS ALL PROCESS BY TIME\n",
    "ps-sort-time"
   ]
  },
  {
   "cell_type": "code",
   "execution_count": 9,
   "id": "bc13426e",
   "metadata": {},
   "outputs": [
    {
     "name": "stdout",
     "output_type": "stream",
     "text": [
      "Error: bad sort field (time): using cpu\n",
      "USER         PID %CPU %MEM    VSZ   RSS TTY      STAT START   TIME COMMAND\n",
      "aveey       1279 18.0 12.4 4132464 457624 ?      Sl   20:06  14:34 /snap/firef\n",
      "aveey       4661 13.1  6.4 2698168 237800 ?      Sl   20:40   6:09 /snap/firef\n",
      "aveey       8400 12.5  1.3 672896 51428 ?        Ssl  21:27   0:00 /usr/bin/py\n",
      "aveey       2593  4.9 20.5 3537544 755776 ?      Sl   20:07   3:57 /snap/firef\n",
      "root         890  4.6  2.7 681536 100956 tty1    Ssl+ 20:05   3:49 /usr/lib/xo\n",
      "aveey       6783  4.6  8.8 25968212 324836 ?     Sl   20:42   2:04 /opt/Upwork\n",
      "aveey       8410  0.8  0.1  11412  5508 pts/6    Ss   21:27   0:00 /usr/bin/ba\n",
      "aveey       6719  0.7  4.4 4831484 165444 ?      Sl   20:42   0:20 /opt/Upwork\n",
      "aveey       4718  0.6  2.0 243932 75760 pts/0    Sl+  20:41   0:17 /usr/bin/py\n",
      "aveey       7968  0.6  4.1 2509728 153340 ?      Sl   21:15   0:04 /snap/firef\n",
      "aveey       2300  0.5  3.8 27820480 141776 ?     Sl   20:07   0:25 /snap/firef\n",
      "aveey       1070  0.1  2.4 1206000 91340 ?       Sl   20:05   0:06 /usr/bin/lx\n",
      "aveey       6750  0.1  1.5 274580 57336 ?        Sl   20:42   0:04 /opt/Upwork\n",
      "aveey       6764  0.1  1.9 290896 72136 ?        Sl   20:42   0:04 /opt/Upwork\n",
      "aveey       7301  0.1  2.7 1000220 101168 ?      Sl   20:52   0:03 /usr/bin/fe\n",
      "aveey       7868  0.1  1.4 672896 51732 ?        Ssl  21:13   0:01 /usr/bin/py\n",
      "root        8237  0.1  0.0      0     0 ?        I    21:20   0:00 [kworker/u1\n",
      "aveey       8366  0.1  1.7 2406092 62684 ?       Sl   21:25   0:00 /snap/firef\n",
      "root           1  0.0  0.2 166444 10956 ?        Ss   20:04   0:01 /sbin/init \n",
      "root           2  0.0  0.0      0     0 ?        S    20:04   0:00 [kthreadd]\n",
      "root           3  0.0  0.0      0     0 ?        I<   20:04   0:00 [rcu_gp]\n",
      "root           4  0.0  0.0      0     0 ?        I<   20:04   0:00 [rcu_par_gp\n",
      "root           5  0.0  0.0      0     0 ?        I<   20:04   0:00 [netns]\n",
      "root           7  0.0  0.0      0     0 ?        I<   20:04   0:00 [kworker/0:\n",
      "root           9  0.0  0.0      0     0 ?        I<   20:04   0:00 [mm_percpu_\n",
      "root          10  0.0  0.0      0     0 ?        S    20:04   0:00 [rcu_tasks_\n",
      "root          11  0.0  0.0      0     0 ?        S    20:04   0:00 [rcu_tasks_\n",
      "root          12  0.0  0.0      0     0 ?        S    20:04   0:00 [ksoftirqd/\n",
      "root          13  0.0  0.0      0     0 ?        I    20:04   0:01 [rcu_sched]\n",
      "root          14  0.0  0.0      0     0 ?        S    20:04   0:00 [migration/\n",
      "root          15  0.0  0.0      0     0 ?        S    20:04   0:00 [idle_injec\n",
      "root          17  0.0  0.0      0     0 ?        S    20:04   0:00 [cpuhp/0]\n",
      "root          18  0.0  0.0      0     0 ?        S    20:04   0:00 [cpuhp/1]\n",
      "root          19  0.0  0.0      0     0 ?        S    20:04   0:00 [idle_injec\n",
      "root          20  0.0  0.0      0     0 ?        S    20:04   0:00 [migration/\n",
      "root          21  0.0  0.0      0     0 ?        S    20:04   0:00 [ksoftirqd/\n",
      "root          23  0.0  0.0      0     0 ?        I<   20:04   0:00 [kworker/1:\n",
      "root          24  0.0  0.0      0     0 ?        S    20:04   0:00 [cpuhp/2]\n"
     ]
    }
   ],
   "source": [
    "# ACTS THE SAME AS ps-sort-time\n",
    "ps-time"
   ]
  },
  {
   "cell_type": "code",
   "execution_count": 10,
   "id": "b688da20",
   "metadata": {},
   "outputs": [
    {
     "name": "stdout",
     "output_type": "stream",
     "text": [
      "USER         PID %CPU %MEM    VSZ   RSS TTY      STAT START   TIME COMMAND\n",
      "aveey       2593  4.9 20.5 3537544 755804 ?      Rl   20:07   3:57 /snap/firef\n",
      "aveey       1279 18.0 12.4 4132464 458796 ?      Sl   20:06  14:34 /snap/firef\n",
      "aveey       6783  4.6  8.8 25968212 324836 ?     Sl   20:42   2:04 /opt/Upwork\n",
      "aveey       4661 13.1  6.4 2699192 239568 ?      Sl   20:40   6:09 /snap/firef\n",
      "aveey       6719  0.7  4.4 4831484 165444 ?      Sl   20:42   0:21 /opt/Upwork\n",
      "aveey       7968  0.6  4.1 2509728 153340 ?      Sl   21:15   0:04 /snap/firef\n",
      "aveey       2300  0.5  3.8 27820480 141776 ?     Sl   20:07   0:25 /snap/firef\n",
      "aveey       1889  0.0  2.8 2448140 106052 ?      Sl   20:07   0:02 /snap/firef\n",
      "root         890  4.6  2.7 681536 100956 tty1    Ssl+ 20:05   3:49 /usr/lib/xo\n",
      "aveey       7301  0.1  2.7 1000220 101168 ?      Sl   20:52   0:03 /usr/bin/fe\n",
      "aveey       1070  0.1  2.4 1206000 91340 ?       Sl   20:05   0:06 /usr/bin/lx\n",
      "aveey       1066  0.0  2.3 861292 85396 ?        Sl   20:05   0:01 /usr/bin/pc\n",
      "aveey       1242  0.0  2.2 762620 84660 ?        Sl   20:06   0:02 xfce4-termi\n",
      "aveey       4718  0.6  2.0 243932 75760 pts/0    Sl+  20:41   0:17 /usr/bin/py\n",
      "aveey       6764  0.1  1.9 290896 72136 ?        Sl   20:42   0:04 /opt/Upwork\n",
      "aveey       6818  0.0  1.8 4505372 68932 ?       Sl   20:42   0:00 /opt/Upwork\n",
      "aveey       6854  0.0  1.8 4502300 67184 ?       Sl   20:42   0:00 /opt/Upwork\n",
      "aveey       8307  0.0  1.7 2406092 63204 ?       Sl   21:23   0:00 /snap/firef\n",
      "aveey       8366  0.1  1.7 2406092 62684 ?       Sl   21:25   0:00 /snap/firef\n",
      "aveey       8250  0.0  1.6 2406072 62240 ?       Sl   21:21   0:00 /snap/firef\n",
      "aveey       6750  0.1  1.5 274580 57336 ?        Sl   20:42   0:04 /opt/Upwork\n",
      "aveey       7868  0.1  1.4 672896 51732 ?        Ssl  21:13   0:01 /usr/bin/py\n",
      "aveey       6841  0.0  1.3 522836 51276 ?        Sl   20:42   0:01 /opt/Upwork\n",
      "aveey       7109  0.0  1.3 672896 51584 ?        Ssl  20:50   0:01 /usr/bin/py\n",
      "aveey       7170  0.0  1.3 672896 51516 ?        Ssl  20:50   0:01 /usr/bin/py\n",
      "aveey       7235  0.0  1.3 672896 51312 ?        Ssl  20:51   0:01 /usr/bin/py\n",
      "aveey       8400 13.0  1.3 672896 51428 ?        Ssl  21:27   0:00 /usr/bin/py\n",
      "aveey       2751  0.0  1.2 338848 46864 ?        Sl   20:07   0:00 /snap/firef\n",
      "aveey       6721  0.0  1.2 207348 46328 ?        S    20:42   0:00 /opt/Upwork\n",
      "aveey       6722  0.0  1.2 207348 46588 ?        S    20:42   0:00 /opt/Upwork\n",
      "root         694  0.0  0.9 1096212 35424 ?       Ssl  20:05   0:03 /usr/lib/sn\n",
      "aveey       1219  0.0  0.9 503992 35456 ?        Sl   20:06   0:01 /usr/bin/lx\n",
      "aveey       1860  0.0  0.9 216948 35888 ?        Sl   20:07   0:00 /snap/firef\n",
      "aveey       1075  0.0  0.8 576272 33124 ?        Sl   20:05   0:01 /usr/bin/lx\n",
      "aveey       1221  0.0  0.8 271444 29652 ?        Sl   20:06   0:01 /usr/bin/ql\n",
      "aveey       2758  0.0  0.8 214892 31924 ?        Sl   20:07   0:00 /snap/firef\n",
      "aveey       1069  0.0  0.7 275848 26128 ?        Sl   20:05   0:00 /usr/bin/lx\n",
      "aveey       1085  0.0  0.7  59952 27032 ?        S    20:05   0:00 /usr/bin/py\n"
     ]
    }
   ],
   "source": [
    "# SORTS ALL PROCESS BY MEMORY\n",
    "ps-sort-mem"
   ]
  },
  {
   "cell_type": "code",
   "execution_count": 11,
   "id": "775ea494",
   "metadata": {},
   "outputs": [
    {
     "name": "stdout",
     "output_type": "stream",
     "text": [
      "USER         PID %CPU %MEM    VSZ   RSS TTY      STAT START   TIME COMMAND\n",
      "aveey       2593  4.9 20.5 3537544 756020 ?      Sl   20:07   3:57 /snap/firef\n",
      "aveey       1279 18.0 12.4 4132464 459512 ?      Sl   20:06  14:34 /snap/firef\n",
      "aveey       6783  4.6  8.3 25950552 307252 ?     Sl   20:42   2:04 /opt/Upwork\n",
      "aveey       4661 13.1  6.5 2699192 239908 ?      Sl   20:40   6:10 /snap/firef\n",
      "aveey       6719  0.7  4.4 4831484 165444 ?      Sl   20:42   0:21 /opt/Upwork\n",
      "aveey       7968  0.6  4.1 2509728 153340 ?      Sl   21:15   0:04 /snap/firef\n",
      "aveey       2300  0.5  3.8 27820480 141776 ?     Sl   20:07   0:25 /snap/firef\n",
      "aveey       1889  0.0  2.8 2448140 106052 ?      Sl   20:07   0:02 /snap/firef\n",
      "root         890  4.6  2.7 681536 100956 tty1    Ssl+ 20:05   3:49 /usr/lib/xo\n",
      "aveey       7301  0.1  2.7 1000220 101168 ?      Sl   20:52   0:03 /usr/bin/fe\n",
      "aveey       1070  0.1  2.4 1206000 91340 ?       Sl   20:05   0:06 /usr/bin/lx\n",
      "aveey       1066  0.0  2.3 861292 85396 ?        Sl   20:05   0:01 /usr/bin/pc\n",
      "aveey       1242  0.0  2.2 762620 84660 ?        Sl   20:06   0:02 xfce4-termi\n",
      "aveey       4718  0.6  2.0 243932 75760 pts/0    Sl+  20:41   0:17 /usr/bin/py\n",
      "aveey       6764  0.1  1.9 290896 72136 ?        Sl   20:42   0:04 /opt/Upwork\n",
      "aveey       6818  0.0  1.8 4505372 68932 ?       Sl   20:42   0:00 /opt/Upwork\n",
      "aveey       6854  0.0  1.8 4502300 67184 ?       Sl   20:42   0:00 /opt/Upwork\n",
      "aveey       8307  0.0  1.7 2406092 63204 ?       Sl   21:23   0:00 /snap/firef\n",
      "aveey       8366  0.1  1.7 2406092 62684 ?       Sl   21:25   0:00 /snap/firef\n",
      "aveey       8250  0.0  1.6 2406072 62240 ?       Sl   21:21   0:00 /snap/firef\n",
      "aveey       6750  0.1  1.5 274580 57336 ?        Sl   20:42   0:04 /opt/Upwork\n",
      "aveey       7868  0.1  1.4 672896 51732 ?        Ssl  21:13   0:01 /usr/bin/py\n",
      "aveey       6841  0.0  1.3 522836 51276 ?        Sl   20:42   0:01 /opt/Upwork\n",
      "aveey       7109  0.0  1.3 672896 51584 ?        Ssl  20:50   0:01 /usr/bin/py\n",
      "aveey       7170  0.0  1.3 672896 51516 ?        Ssl  20:50   0:01 /usr/bin/py\n",
      "aveey       7235  0.0  1.3 672896 51312 ?        Ssl  20:51   0:01 /usr/bin/py\n",
      "aveey       8400 13.5  1.3 672896 51428 ?        Ssl  21:27   0:00 /usr/bin/py\n",
      "aveey       2751  0.0  1.2 338848 46864 ?        Sl   20:07   0:00 /snap/firef\n",
      "aveey       6721  0.0  1.2 207348 46328 ?        S    20:42   0:00 /opt/Upwork\n",
      "aveey       6722  0.0  1.2 207348 46588 ?        S    20:42   0:00 /opt/Upwork\n",
      "root         694  0.0  0.9 1096212 35424 ?       Ssl  20:05   0:03 /usr/lib/sn\n",
      "aveey       1219  0.0  0.9 503992 35456 ?        Sl   20:06   0:01 /usr/bin/lx\n",
      "aveey       1860  0.0  0.9 216948 35888 ?        Sl   20:07   0:00 /snap/firef\n",
      "aveey       1075  0.0  0.8 576272 33124 ?        Sl   20:05   0:01 /usr/bin/lx\n",
      "aveey       1221  0.0  0.8 271444 29652 ?        Sl   20:06   0:01 /usr/bin/ql\n",
      "aveey       2758  0.0  0.8 214892 31924 ?        Sl   20:07   0:00 /snap/firef\n",
      "aveey       1069  0.0  0.7 275848 26128 ?        Sl   20:05   0:00 /usr/bin/lx\n",
      "aveey       1085  0.0  0.7  59952 27032 ?        S    20:05   0:00 /usr/bin/py\n"
     ]
    }
   ],
   "source": [
    "# ps-mem IS AN ALTERNATIVE OF ps-sort-mem\n",
    "ps-mem"
   ]
  },
  {
   "cell_type": "code",
   "execution_count": 12,
   "id": "6ed9a120",
   "metadata": {},
   "outputs": [
    {
     "name": "stdout",
     "output_type": "stream",
     "text": [
      "bash: -v: command not found\n",
      "bash: -i: command not found\n",
      "/usr/bin/env: ‘csh’: No such file or directory\n"
     ]
    },
    {
     "ename": "",
     "evalue": "127",
     "output_type": "error",
     "traceback": []
    }
   ],
   "source": [
    "# ERROR GENERATED FOR ps-script\n",
    "# $ ps-script\n",
    "# | bash: -v: command not found\n",
    "# | bash: -i: command not found\n",
    "# | /usr/bin/env: ‘csh’: No such file or directory\n"
   ]
  },
  {
   "cell_type": "code",
   "execution_count": 14,
   "id": "2e45d738",
   "metadata": {},
   "outputs": [
    {
     "name": "stdout",
     "output_type": "stream",
     "text": [
      "/usr/bin/env: ‘csh’: No such file or directory\n",
      "bash: -i: command not found\n"
     ]
    }
   ],
   "source": [
    "# ERROR GENERATED FOR ps-all\n",
    "# $ ps-all\n",
    "# | /usr/bin/env: ‘csh’: No such file or directory\n",
    "# | bash: -i: command not found\n"
   ]
  },
  {
   "cell_type": "code",
   "execution_count": 15,
   "id": "82c5fd09",
   "metadata": {},
   "outputs": [],
   "source": [
    "function get-process-parent() { local pid=\"$1\"; if [ \"$pid\" = \"\" ]; then pid=$$; fi; ps al | perl -Ssw extract_matches.perl \"^\\d+\\s+\\d+\\s+$pid\\s+(\\d+)\"; }"
   ]
  },
  {
   "cell_type": "code",
   "execution_count": 18,
   "id": "bf36bf1a",
   "metadata": {},
   "outputs": [
    {
     "name": "stdout",
     "output_type": "stream",
     "text": [
      "8400\n"
     ]
    },
    {
     "ename": "",
     "evalue": "1",
     "output_type": "error",
     "traceback": []
    }
   ],
   "source": [
    "get-process-parent | egrep \"(PID|$$)\""
   ]
  },
  {
   "cell_type": "code",
   "execution_count": null,
   "id": "c7ea3021",
   "metadata": {},
   "outputs": [],
   "source": []
  }
 ],
 "metadata": {
  "kernelspec": {
   "display_name": "Bash",
   "language": "bash",
   "name": "bash"
  },
  "language_info": {
   "codemirror_mode": "shell",
   "file_extension": ".sh",
   "mimetype": "text/x-sh",
   "name": "bash"
  }
 },
 "nbformat": 4,
 "nbformat_minor": 5
}
